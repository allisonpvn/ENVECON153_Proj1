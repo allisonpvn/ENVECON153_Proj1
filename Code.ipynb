{
 "cells": [
  {
   "cell_type": "code",
   "execution_count": null,
   "id": "63f07c69-fd12-4eff-8100-d493ef7a99c1",
   "metadata": {},
   "outputs": [],
   "source": [
    "#Title "
   ]
  },
  {
   "cell_type": "code",
   "execution_count": null,
   "id": "9eda4dff-7978-40b0-99c2-e6eb24742094",
   "metadata": {},
   "outputs": [],
   "source": [
    "#Deliverable 1 Population Statistics"
   ]
  },
  {
   "cell_type": "code",
   "execution_count": null,
   "id": "8a7caa6b-df95-48df-adf6-4ac6e9c34160",
   "metadata": {},
   "outputs": [],
   "source": [
    "def population(year,sex,age_range,place):\n",
    "    \"\"\"Your doc-string here\"\"\"\n",
    "    pass\n",
    "\n",
    "# hello "
   ]
  }
 ],
 "metadata": {
  "kernelspec": {
   "display_name": "Python 3 (ipykernel)",
   "language": "python",
   "name": "python3"
  },
  "language_info": {
   "codemirror_mode": {
    "name": "ipython",
    "version": 3
   },
   "file_extension": ".py",
   "mimetype": "text/x-python",
   "name": "python",
   "nbconvert_exporter": "python",
   "pygments_lexer": "ipython3",
   "version": "3.11.11"
  }
 },
 "nbformat": 4,
 "nbformat_minor": 5
}
