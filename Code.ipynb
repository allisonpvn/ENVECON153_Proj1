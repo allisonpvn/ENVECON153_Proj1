{
 "cells": [
  {
   "cell_type": "code",
   "execution_count": 1,
   "id": "63f07c69-fd12-4eff-8100-d493ef7a99c1",
   "metadata": {},
   "outputs": [],
   "source": [
    "#Title "
   ]
  },
  {
   "cell_type": "code",
   "execution_count": 2,
   "id": "9eda4dff-7978-40b0-99c2-e6eb24742094",
   "metadata": {},
   "outputs": [],
   "source": [
    "#Deliverable 1 Population Statistics"
   ]
  },
  {
   "cell_type": "code",
   "execution_count": 1,
   "id": "fc3d273e-0795-40c8-89a4-75c71e803cfc",
   "metadata": {
    "scrolled": true
   },
   "outputs": [
    {
     "name": "stdout",
     "output_type": "stream",
     "text": [
      "Collecting wbdata\n",
      "  Using cached wbdata-1.0.0-py3-none-any.whl.metadata (2.6 kB)\n",
      "Collecting appdirs<2.0,>=1.4 (from wbdata)\n",
      "  Using cached appdirs-1.4.4-py2.py3-none-any.whl.metadata (9.0 kB)\n",
      "Collecting backoff<3.0.0,>=2.2.1 (from wbdata)\n",
      "  Using cached backoff-2.2.1-py3-none-any.whl.metadata (14 kB)\n",
      "Requirement already satisfied: cachetools<6.0.0,>=5.3.2 in /srv/conda/lib/python3.11/site-packages (from wbdata) (5.5.1)\n",
      "Collecting dateparser<2.0.0,>=1.2.0 (from wbdata)\n",
      "  Using cached dateparser-1.2.1-py3-none-any.whl.metadata (29 kB)\n",
      "Requirement already satisfied: decorator<6.0.0,>=5.1.1 in /srv/conda/lib/python3.11/site-packages (from wbdata) (5.1.1)\n",
      "Requirement already satisfied: requests<3.0,>=2.0 in /srv/conda/lib/python3.11/site-packages (from wbdata) (2.32.3)\n",
      "Collecting shelved-cache<0.4.0,>=0.3.1 (from wbdata)\n",
      "  Using cached shelved_cache-0.3.1-py3-none-any.whl.metadata (4.7 kB)\n",
      "Collecting tabulate<0.9.0,>=0.8.5 (from wbdata)\n",
      "  Using cached tabulate-0.8.10-py3-none-any.whl.metadata (25 kB)\n",
      "Requirement already satisfied: python-dateutil>=2.7.0 in /srv/conda/lib/python3.11/site-packages (from dateparser<2.0.0,>=1.2.0->wbdata) (2.9.0.post0)\n",
      "Collecting pytz>=2024.2 (from dateparser<2.0.0,>=1.2.0->wbdata)\n",
      "  Using cached pytz-2025.1-py2.py3-none-any.whl.metadata (22 kB)\n",
      "Requirement already satisfied: regex!=2019.02.19,!=2021.8.27,>=2015.06.24 in /srv/conda/lib/python3.11/site-packages (from dateparser<2.0.0,>=1.2.0->wbdata) (2024.11.6)\n",
      "Collecting tzlocal>=0.2 (from dateparser<2.0.0,>=1.2.0->wbdata)\n",
      "  Using cached tzlocal-5.2-py3-none-any.whl.metadata (7.8 kB)\n",
      "Requirement already satisfied: charset_normalizer<4,>=2 in /srv/conda/lib/python3.11/site-packages (from requests<3.0,>=2.0->wbdata) (3.4.0)\n",
      "Requirement already satisfied: idna<4,>=2.5 in /srv/conda/lib/python3.11/site-packages (from requests<3.0,>=2.0->wbdata) (3.10)\n",
      "Requirement already satisfied: urllib3<3,>=1.21.1 in /srv/conda/lib/python3.11/site-packages (from requests<3.0,>=2.0->wbdata) (2.3.0)\n",
      "Requirement already satisfied: certifi>=2017.4.17 in /srv/conda/lib/python3.11/site-packages (from requests<3.0,>=2.0->wbdata) (2024.12.14)\n",
      "Requirement already satisfied: six>=1.5 in /srv/conda/lib/python3.11/site-packages (from python-dateutil>=2.7.0->dateparser<2.0.0,>=1.2.0->wbdata) (1.17.0)\n",
      "Using cached wbdata-1.0.0-py3-none-any.whl (18 kB)\n",
      "Using cached appdirs-1.4.4-py2.py3-none-any.whl (9.6 kB)\n",
      "Using cached backoff-2.2.1-py3-none-any.whl (15 kB)\n",
      "Using cached dateparser-1.2.1-py3-none-any.whl (295 kB)\n",
      "Using cached shelved_cache-0.3.1-py3-none-any.whl (7.8 kB)\n",
      "Using cached tabulate-0.8.10-py3-none-any.whl (29 kB)\n",
      "Using cached pytz-2025.1-py2.py3-none-any.whl (507 kB)\n",
      "Using cached tzlocal-5.2-py3-none-any.whl (17 kB)\n",
      "Installing collected packages: pytz, appdirs, tzlocal, tabulate, shelved-cache, backoff, dateparser, wbdata\n",
      "  Attempting uninstall: pytz\n",
      "    Found existing installation: pytz 2024.1\n",
      "    Uninstalling pytz-2024.1:\n",
      "      Successfully uninstalled pytz-2024.1\n",
      "\u001b[31mERROR: pip's dependency resolver does not currently take into account all the packages that are installed. This behaviour is the source of the following dependency conflicts.\n",
      "linearmodels 0.0.0 requires Cython>=3.0.10, which is not installed.\n",
      "linearmodels 0.0.0 requires setuptools-scm[toml]<9.0.0,>=8.0.0, which is not installed.\u001b[0m\u001b[31m\n",
      "\u001b[0mSuccessfully installed appdirs-1.4.4 backoff-2.2.1 dateparser-1.2.1 pytz-2025.1 shelved-cache-0.3.1 tabulate-0.8.10 tzlocal-5.2 wbdata-1.0.0\n"
     ]
    }
   ],
   "source": [
    "!pip install wbdata"
   ]
  },
  {
   "cell_type": "code",
   "execution_count": 2,
   "id": "35d49b82-a442-47ee-9b8d-0b049691e037",
   "metadata": {
    "scrolled": true
   },
   "outputs": [
    {
     "name": "stderr",
     "output_type": "stream",
     "text": [
      "Key '-3103126963367432501' not in persistent cache.\n",
      "Key '227106575749895811' not in persistent cache.\n",
      "Key '7436467346251549906' not in persistent cache.\n",
      "Key '3655270159615251387' not in persistent cache.\n",
      "Key '-7582113143592646134' not in persistent cache.\n",
      "Key '-6160556471038580595' not in persistent cache.\n",
      "Key '-8593126090946302812' not in persistent cache.\n",
      "Key '-8429794609079505542' not in persistent cache.\n",
      "Key '-7008237936525440003' not in persistent cache.\n",
      "Key '-6111511030215575182' not in persistent cache.\n",
      "Key '6481420836995954194' not in persistent cache.\n",
      "Key '-2991289749352236928' not in persistent cache.\n",
      "Key '291709745627092853' not in persistent cache.\n",
      "Key '8190794054027284337' not in persistent cache.\n",
      "Key '-1264037846890364857' not in persistent cache.\n",
      "Key '-6736880505134383010' not in persistent cache.\n",
      "Key '-4790997620977337413' not in persistent cache.\n",
      "Key '1744144466023392330' not in persistent cache.\n",
      "Key '8953505236525046425' not in persistent cache.\n",
      "Key '-6163005298067176879' not in persistent cache.\n",
      "Key '1046355472434477216' not in persistent cache.\n",
      "Key '-2734841714201821303' not in persistent cache.\n",
      "Key '4474519056299832792' not in persistent cache.\n",
      "Key '5896075728853898331' not in persistent cache.\n",
      "Key '-3582523179688680711' not in persistent cache.\n",
      "Key '3626837590812973384' not in persistent cache.\n",
      "Key '5048394263367038923' not in persistent cache.\n",
      "Key '5945121169676903744' not in persistent cache.\n",
      "Key '-3803439257806860433' not in persistent cache.\n",
      "Key '-8877792461170683427' not in persistent cache.\n",
      "Key '1407564435898973017' not in persistent cache.\n",
      "Key '-9140095329410387115' not in persistent cache.\n",
      "Key '4250174226365883435' not in persistent cache.\n",
      "Key '-5621025814862502846' not in persistent cache.\n",
      "Key '7769243740913767704' not in persistent cache.\n",
      "Key '7258356539279640622' not in persistent cache.\n",
      "Key '-3979026763928256899' not in persistent cache.\n",
      "Key '-648793224810928587' not in persistent cache.\n",
      "Key '2162210162706357380' not in persistent cache.\n",
      "Key '-8621344426020267802' not in persistent cache.\n",
      "Key '-8458012944153470532' not in persistent cache.\n",
      "Key '9573017035451832' not in persistent cache.\n",
      "Key '8977718182202424406' not in persistent cache.\n",
      "Key '-2259665121005473115' not in persistent cache.\n",
      "Key '-838108448451407576' not in persistent cache.\n",
      "Key '7060975859948783908' not in persistent cache.\n",
      "Key '-8044403011689425777' not in persistent cache.\n",
      "Key '5327987858656302845' not in persistent cache.\n",
      "Key '4212629970651264498' not in persistent cache.\n",
      "Key '-6335029794658095634' not in persistent cache.\n",
      "Key '7055239761118174916' not in persistent cache.\n",
      "Key '-2815960280110211365' not in persistent cache.\n",
      "Key '-870077395953165768' not in persistent cache.\n",
      "Key '-8383321999677619513' not in persistent cache.\n",
      "Key '-5572318612160333546' not in persistent cache.\n",
      "Key '-2242085073043005234' not in persistent cache.\n",
      "Key '4967275697458648861' not in persistent cache.\n",
      "Key '1186078510822350342' not in persistent cache.\n",
      "Key '8395439281324004437' not in persistent cache.\n",
      "Key '-8629748119831481640' not in persistent cache.\n",
      "Key '7384426333970347759' not in persistent cache.\n",
      "Key '7547757815837145029' not in persistent cache.\n",
      "Key '8969314488391210568' not in persistent cache.\n",
      "Key '-8580702679008476227' not in persistent cache.\n",
      "Key '2449697978823477167' not in persistent cache.\n",
      "Key '-2624655224540345827' not in persistent cache.\n",
      "Key '7660701672529310617' not in persistent cache.\n",
      "Key '4159071195854807310' not in persistent cache.\n",
      "Key '6104954080011852907' not in persistent cache.\n",
      "Key '632111421767834754' not in persistent cache.\n",
      "Key '-8822720479149814440' not in persistent cache.\n",
      "Key '2110778990835283431' not in persistent cache.\n",
      "Key '-2124246910282287427' not in persistent cache.\n",
      "Key '8252015917469897710' not in persistent cache.\n",
      "Key '8415347399336694980' not in persistent cache.\n",
      "Key '-6766564572374298330' not in persistent cache.\n",
      "Key '442796198127355765' not in persistent cache.\n",
      "Key '1864352870681421304' not in persistent cache.\n",
      "Key '-7614246037861157738' not in persistent cache.\n",
      "Key '-404885267359503643' not in persistent cache.\n",
      "Key '1016671405194561896' not in persistent cache.\n",
      "Key '-5132630977130430108' not in persistent cache.\n",
      "Key '-9204385776729258296' not in persistent cache.\n",
      "Key '4168005093616470326' not in persistent cache.\n",
      "Key '3052647205611431979' not in persistent cache.\n",
      "Key '-3096655176713560025' not in persistent cache.\n",
      "Key '5895256996078342397' not in persistent cache.\n",
      "Key '422414337834324244' not in persistent cache.\n",
      "Key '2368297221991369841' not in persistent cache.\n",
      "Key '8903439308992099584' not in persistent cache.\n",
      "Key '-2333943994215797937' not in persistent cache.\n",
      "Key '996289544901530375' not in persistent cache.\n",
      "Key '8205650315403184470' not in persistent cache.\n",
      "Key '4424453128766885951' not in persistent cache.\n",
      "Key '-6812930174441011570' not in persistent cache.\n",
      "Key '-5391373501886946031' not in persistent cache.\n",
      "Key '-7823943121794668248' not in persistent cache.\n",
      "Key '-7660611639927870978' not in persistent cache.\n",
      "Key '-6239054967373805439' not in persistent cache.\n",
      "Key '8706058629661242870' not in persistent cache.\n",
      "Key '982684592062238558' not in persistent cache.\n",
      "Key '1209289149048125403' not in persistent cache.\n",
      "Key '-4597920343695872376' not in persistent cache.\n",
      "Key '43426869030148053' not in persistent cache.\n",
      "Key '9009961187983179076' not in persistent cache.\n",
      "Key '-2129203168076770515' not in persistent cache.\n",
      "Key '-5155435809474256922' not in persistent cache.\n",
      "Key '-552388850895848612' not in persistent cache.\n",
      "Key '-4861114234187730822' not in persistent cache.\n",
      "Key '3419391030120650221' not in persistent cache.\n",
      "Key '-1739555973864333681' not in persistent cache.\n",
      "Key '4556240413519058394' not in persistent cache.\n",
      "Key '9142608734413687021' not in persistent cache.\n",
      "Key '-4380589786769504473' not in persistent cache.\n",
      "Key '8764649571384991361' not in persistent cache.\n",
      "Key '8170152847833018831' not in persistent cache.\n",
      "Key '7202619687491294299' not in persistent cache.\n",
      "Key '-1704550721716026224' not in persistent cache.\n",
      "Key '4334535681459334648' not in persistent cache.\n",
      "Key '2472344762642165324' not in persistent cache.\n",
      "Key '6624623158723964550' not in persistent cache.\n",
      "Key '-4489771108770341118' not in persistent cache.\n",
      "Key '-380344700525580683' not in persistent cache.\n",
      "Key '443034708054117265' not in persistent cache.\n",
      "Key '-3732301297766796929' not in persistent cache.\n",
      "Key '-4180935540463395832' not in persistent cache.\n",
      "Key '5286236681754767342' not in persistent cache.\n",
      "Key '-3857234728905097376' not in persistent cache.\n",
      "Key '-3007575041680721733' not in persistent cache.\n",
      "Key '4772265836400682747' not in persistent cache.\n",
      "Key '-3213381310038718116' not in persistent cache.\n",
      "Key '-1977266741819050447' not in persistent cache.\n",
      "Key '-8856228129276499491' not in persistent cache.\n",
      "Key '1260026608005231750' not in persistent cache.\n",
      "Key '4628917172522020879' not in persistent cache.\n",
      "Key '2834531011850928368' not in persistent cache.\n",
      "Key '-7288272789458135832' not in persistent cache.\n",
      "Key '4182074131196756746' not in persistent cache.\n",
      "Key '-3361076890964717188' not in persistent cache.\n",
      "Key '3855619379905795270' not in persistent cache.\n",
      "Key '-6495242651381796857' not in persistent cache.\n",
      "Key '-7301071952793270256' not in persistent cache.\n",
      "Key '7652512073784619528' not in persistent cache.\n",
      "Key '-3699872641379841958' not in persistent cache.\n",
      "Key '-3834933690507191596' not in persistent cache.\n",
      "Key '2433589476112215010' not in persistent cache.\n",
      "Key '-4845982133495137753' not in persistent cache.\n",
      "Key '2377948174763204155' not in persistent cache.\n",
      "Key '-7472820712184390244' not in persistent cache.\n",
      "Key '5395666041063407129' not in persistent cache.\n",
      "Key '2543983374962017250' not in persistent cache.\n",
      "Key '6786992902209667885' not in persistent cache.\n",
      "Key '-2180304092296480512' not in persistent cache.\n",
      "Key '7832989415204945389' not in persistent cache.\n",
      "Key '7204373599043365468' not in persistent cache.\n",
      "Key '3618528336964656219' not in persistent cache.\n",
      "Key '-2069052999886950476' not in persistent cache.\n",
      "Key '-1000742457638815807' not in persistent cache.\n",
      "Key '8858964947656308119' not in persistent cache.\n",
      "Key '-201415588619134270' not in persistent cache.\n",
      "Key '-1511183573809228697' not in persistent cache.\n",
      "Key '4760493296114377335' not in persistent cache.\n",
      "Key '2892005976975995514' not in persistent cache.\n",
      "Key '-1496771550721405591' not in persistent cache.\n",
      "Key '-6063066579931672233' not in persistent cache.\n",
      "Key '1710945536000331289' not in persistent cache.\n",
      "Key '5444485816561759508' not in persistent cache.\n",
      "Key '-4433761512331372049' not in persistent cache.\n",
      "Key '4773483471186185194' not in persistent cache.\n",
      "Key '8677484751913551231' not in persistent cache.\n",
      "Key '-5668485093919764712' not in persistent cache.\n",
      "Key '7172805600085326345' not in persistent cache.\n",
      "Key '-4144537856352327573' not in persistent cache.\n",
      "Key '7964139163805552536' not in persistent cache.\n",
      "Key '-3207271188157602704' not in persistent cache.\n",
      "Key '-4866351974185869967' not in persistent cache.\n",
      "Key '-8017168817960005318' not in persistent cache.\n",
      "Key '-644195383499389760' not in persistent cache.\n",
      "Key '552015224474175852' not in persistent cache.\n",
      "Key '-8461829270014492303' not in persistent cache.\n",
      "Key '7851545506004992713' not in persistent cache.\n",
      "Key '-8054033130925456639' not in persistent cache.\n",
      "Key '-7558682389692119843' not in persistent cache.\n",
      "Key '6624303660399605952' not in persistent cache.\n",
      "Key '149266346475836149' not in persistent cache.\n",
      "Key '-6610016998114059638' not in persistent cache.\n",
      "Key '8226137256593173467' not in persistent cache.\n",
      "Key '-9213564203922380236' not in persistent cache.\n",
      "Key '5167945765282018243' not in persistent cache.\n",
      "Key '-1147789015124377994' not in persistent cache.\n",
      "Key '-2539281225983862060' not in persistent cache.\n",
      "Key '8501571741977789225' not in persistent cache.\n",
      "Key '415110645372666425' not in persistent cache.\n",
      "Key '9184894729098347270' not in persistent cache.\n",
      "Key '457989376028063692' not in persistent cache.\n",
      "Key '7300136888215699506' not in persistent cache.\n",
      "Key '7759589117620432770' not in persistent cache.\n",
      "Key '7689813654917246499' not in persistent cache.\n",
      "Key '6810296520484812938' not in persistent cache.\n",
      "Key '-3561717152709465395' not in persistent cache.\n",
      "Key '-1876064411465976873' not in persistent cache.\n",
      "Key '786027248656500427' not in persistent cache.\n",
      "Key '7450045900844370156' not in persistent cache.\n",
      "Key '8358632782464700416' not in persistent cache.\n",
      "Key '-3539428545632128161' not in persistent cache.\n",
      "Key '-8613781748995951155' not in persistent cache.\n",
      "Key '-6160223123800733964' not in persistent cache.\n",
      "Key '-3586207528683099613' not in persistent cache.\n",
      "Key '-2563293192107088127' not in persistent cache.\n",
      "Key '8836077720271681435' not in persistent cache.\n",
      "Key '3261866646300900468' not in persistent cache.\n",
      "Key '-4580833547471446208' not in persistent cache.\n",
      "Key '-1312861052381128402' not in persistent cache.\n",
      "Key '3795264522464425678' not in persistent cache.\n",
      "Key '-7759504725340624082' not in persistent cache.\n",
      "Key '5612886145005104540' not in persistent cache.\n",
      "Key '-2548501031634790632' not in persistent cache.\n",
      "Key '-6050131508309293939' not in persistent cache.\n",
      "Key '294108758832119786' not in persistent cache.\n",
      "Key '8869652791313285121' not in persistent cache.\n",
      "Key '-3103126963367432501' not in persistent cache.\n",
      "Key '227106575749895811' not in persistent cache.\n",
      "Key '7436467346251549906' not in persistent cache.\n",
      "Key '3655270159615251387' not in persistent cache.\n",
      "Key '-7582113143592646134' not in persistent cache.\n",
      "Key '-6160556471038580595' not in persistent cache.\n",
      "Key '-8593126090946302812' not in persistent cache.\n",
      "Key '-8429794609079505542' not in persistent cache.\n",
      "Key '-7008237936525440003' not in persistent cache.\n",
      "Key '-6111511030215575182' not in persistent cache.\n",
      "Key '6481420836995954194' not in persistent cache.\n",
      "Key '-2991289749352236928' not in persistent cache.\n",
      "Key '291709745627092853' not in persistent cache.\n",
      "Key '8190794054027284337' not in persistent cache.\n",
      "Key '-1264037846890364857' not in persistent cache.\n",
      "Key '-6736880505134383010' not in persistent cache.\n",
      "Key '-4790997620977337413' not in persistent cache.\n",
      "Key '1744144466023392330' not in persistent cache.\n",
      "Key '8953505236525046425' not in persistent cache.\n",
      "Key '-6163005298067176879' not in persistent cache.\n",
      "Key '1046355472434477216' not in persistent cache.\n",
      "Key '-2734841714201821303' not in persistent cache.\n",
      "Key '4474519056299832792' not in persistent cache.\n",
      "Key '5896075728853898331' not in persistent cache.\n",
      "Key '-3582523179688680711' not in persistent cache.\n",
      "Key '3626837590812973384' not in persistent cache.\n",
      "Key '5048394263367038923' not in persistent cache.\n",
      "Key '5945121169676903744' not in persistent cache.\n",
      "Key '-3803439257806860433' not in persistent cache.\n",
      "Key '-8877792461170683427' not in persistent cache.\n",
      "Key '1407564435898973017' not in persistent cache.\n",
      "Key '-9140095329410387115' not in persistent cache.\n",
      "Key '4250174226365883435' not in persistent cache.\n",
      "Key '-5621025814862502846' not in persistent cache.\n",
      "Key '7769243740913767704' not in persistent cache.\n",
      "Key '7258356539279640622' not in persistent cache.\n",
      "Key '-3979026763928256899' not in persistent cache.\n",
      "Key '-648793224810928587' not in persistent cache.\n",
      "Key '2162210162706357380' not in persistent cache.\n",
      "Key '-8621344426020267802' not in persistent cache.\n",
      "Key '-8458012944153470532' not in persistent cache.\n",
      "Key '9573017035451832' not in persistent cache.\n",
      "Key '8977718182202424406' not in persistent cache.\n",
      "Key '-2259665121005473115' not in persistent cache.\n",
      "Key '-838108448451407576' not in persistent cache.\n",
      "Key '7060975859948783908' not in persistent cache.\n",
      "Key '-8044403011689425777' not in persistent cache.\n",
      "Key '5327987858656302845' not in persistent cache.\n",
      "Key '4212629970651264498' not in persistent cache.\n",
      "Key '-6335029794658095634' not in persistent cache.\n",
      "Key '7055239761118174916' not in persistent cache.\n",
      "Key '-2815960280110211365' not in persistent cache.\n",
      "Key '-870077395953165768' not in persistent cache.\n",
      "Key '-8383321999677619513' not in persistent cache.\n",
      "Key '-5572318612160333546' not in persistent cache.\n",
      "Key '-2242085073043005234' not in persistent cache.\n",
      "Key '4967275697458648861' not in persistent cache.\n",
      "Key '1186078510822350342' not in persistent cache.\n",
      "Key '8395439281324004437' not in persistent cache.\n",
      "Key '-8629748119831481640' not in persistent cache.\n",
      "Key '7384426333970347759' not in persistent cache.\n",
      "Key '7547757815837145029' not in persistent cache.\n",
      "Key '8969314488391210568' not in persistent cache.\n",
      "Key '-8580702679008476227' not in persistent cache.\n",
      "Key '2449697978823477167' not in persistent cache.\n",
      "Key '-2624655224540345827' not in persistent cache.\n",
      "Key '7660701672529310617' not in persistent cache.\n",
      "Key '4159071195854807310' not in persistent cache.\n",
      "Key '6104954080011852907' not in persistent cache.\n",
      "Key '632111421767834754' not in persistent cache.\n",
      "Key '-8822720479149814440' not in persistent cache.\n",
      "Key '2110778990835283431' not in persistent cache.\n",
      "Key '-2124246910282287427' not in persistent cache.\n",
      "Key '8252015917469897710' not in persistent cache.\n",
      "Key '8415347399336694980' not in persistent cache.\n",
      "Key '-6766564572374298330' not in persistent cache.\n",
      "Key '442796198127355765' not in persistent cache.\n",
      "Key '1864352870681421304' not in persistent cache.\n",
      "Key '-7614246037861157738' not in persistent cache.\n",
      "Key '-404885267359503643' not in persistent cache.\n",
      "Key '1016671405194561896' not in persistent cache.\n",
      "Key '-5132630977130430108' not in persistent cache.\n",
      "Key '-9204385776729258296' not in persistent cache.\n",
      "Key '4168005093616470326' not in persistent cache.\n",
      "Key '3052647205611431979' not in persistent cache.\n",
      "Key '-3096655176713560025' not in persistent cache.\n",
      "Key '5895256996078342397' not in persistent cache.\n",
      "Key '422414337834324244' not in persistent cache.\n",
      "Key '2368297221991369841' not in persistent cache.\n",
      "Key '8903439308992099584' not in persistent cache.\n",
      "Key '-2333943994215797937' not in persistent cache.\n",
      "Key '996289544901530375' not in persistent cache.\n",
      "Key '8205650315403184470' not in persistent cache.\n",
      "Key '4424453128766885951' not in persistent cache.\n",
      "Key '-6812930174441011570' not in persistent cache.\n",
      "Key '-5391373501886946031' not in persistent cache.\n",
      "Key '-7823943121794668248' not in persistent cache.\n",
      "Key '-7660611639927870978' not in persistent cache.\n",
      "Key '-6239054967373805439' not in persistent cache.\n",
      "Key '8706058629661242870' not in persistent cache.\n",
      "Key '982684592062238558' not in persistent cache.\n",
      "Key '1209289149048125403' not in persistent cache.\n",
      "Key '-4597920343695872376' not in persistent cache.\n",
      "Key '43426869030148053' not in persistent cache.\n",
      "Key '9009961187983179076' not in persistent cache.\n",
      "Key '-2129203168076770515' not in persistent cache.\n",
      "Key '-5155435809474256922' not in persistent cache.\n",
      "Key '-552388850895848612' not in persistent cache.\n",
      "Key '-4861114234187730822' not in persistent cache.\n",
      "Key '3419391030120650221' not in persistent cache.\n",
      "Key '-1739555973864333681' not in persistent cache.\n",
      "Key '4556240413519058394' not in persistent cache.\n",
      "Key '9142608734413687021' not in persistent cache.\n",
      "Key '-4380589786769504473' not in persistent cache.\n",
      "Key '8764649571384991361' not in persistent cache.\n",
      "Key '8170152847833018831' not in persistent cache.\n",
      "Key '7202619687491294299' not in persistent cache.\n",
      "Key '-1704550721716026224' not in persistent cache.\n",
      "Key '4334535681459334648' not in persistent cache.\n",
      "Key '2472344762642165324' not in persistent cache.\n",
      "Key '6624623158723964550' not in persistent cache.\n",
      "Key '-4489771108770341118' not in persistent cache.\n",
      "Key '-380344700525580683' not in persistent cache.\n",
      "Key '443034708054117265' not in persistent cache.\n",
      "Key '-3732301297766796929' not in persistent cache.\n",
      "Key '-4180935540463395832' not in persistent cache.\n",
      "Key '5286236681754767342' not in persistent cache.\n",
      "Key '-3857234728905097376' not in persistent cache.\n",
      "Key '-3007575041680721733' not in persistent cache.\n",
      "Key '4772265836400682747' not in persistent cache.\n",
      "Key '-3213381310038718116' not in persistent cache.\n",
      "Key '-1977266741819050447' not in persistent cache.\n",
      "Key '-8856228129276499491' not in persistent cache.\n",
      "Key '1260026608005231750' not in persistent cache.\n",
      "Key '4628917172522020879' not in persistent cache.\n",
      "Key '2834531011850928368' not in persistent cache.\n",
      "Key '-7288272789458135832' not in persistent cache.\n",
      "Key '4182074131196756746' not in persistent cache.\n",
      "Key '-3361076890964717188' not in persistent cache.\n",
      "Key '3855619379905795270' not in persistent cache.\n",
      "Key '-6495242651381796857' not in persistent cache.\n",
      "Key '-7301071952793270256' not in persistent cache.\n",
      "Key '7652512073784619528' not in persistent cache.\n",
      "Key '-3699872641379841958' not in persistent cache.\n",
      "Key '-3834933690507191596' not in persistent cache.\n",
      "Key '2433589476112215010' not in persistent cache.\n",
      "Key '-4845982133495137753' not in persistent cache.\n",
      "Key '2377948174763204155' not in persistent cache.\n",
      "Key '-7472820712184390244' not in persistent cache.\n",
      "Key '5395666041063407129' not in persistent cache.\n",
      "Key '2543983374962017250' not in persistent cache.\n",
      "Key '6786992902209667885' not in persistent cache.\n",
      "Key '-2180304092296480512' not in persistent cache.\n",
      "Key '7832989415204945389' not in persistent cache.\n",
      "Key '7204373599043365468' not in persistent cache.\n",
      "Key '3618528336964656219' not in persistent cache.\n",
      "Key '-2069052999886950476' not in persistent cache.\n",
      "Key '-1000742457638815807' not in persistent cache.\n",
      "Key '8858964947656308119' not in persistent cache.\n",
      "Key '-201415588619134270' not in persistent cache.\n",
      "Key '-1511183573809228697' not in persistent cache.\n",
      "Key '4760493296114377335' not in persistent cache.\n",
      "Key '2892005976975995514' not in persistent cache.\n",
      "Key '-1496771550721405591' not in persistent cache.\n",
      "Key '-6063066579931672233' not in persistent cache.\n",
      "Key '1710945536000331289' not in persistent cache.\n",
      "Key '5444485816561759508' not in persistent cache.\n",
      "Key '-4433761512331372049' not in persistent cache.\n",
      "Key '4773483471186185194' not in persistent cache.\n",
      "Key '8677484751913551231' not in persistent cache.\n",
      "Key '-5668485093919764712' not in persistent cache.\n",
      "Key '7172805600085326345' not in persistent cache.\n",
      "Key '-4144537856352327573' not in persistent cache.\n",
      "Key '7964139163805552536' not in persistent cache.\n",
      "Key '-3207271188157602704' not in persistent cache.\n",
      "Key '-4866351974185869967' not in persistent cache.\n",
      "Key '-8017168817960005318' not in persistent cache.\n",
      "Key '-644195383499389760' not in persistent cache.\n",
      "Key '552015224474175852' not in persistent cache.\n",
      "Key '-8461829270014492303' not in persistent cache.\n",
      "Key '7851545506004992713' not in persistent cache.\n",
      "Key '-8054033130925456639' not in persistent cache.\n",
      "Key '-7558682389692119843' not in persistent cache.\n",
      "Key '6624303660399605952' not in persistent cache.\n",
      "Key '149266346475836149' not in persistent cache.\n",
      "Key '-6610016998114059638' not in persistent cache.\n",
      "Key '8226137256593173467' not in persistent cache.\n",
      "Key '-9213564203922380236' not in persistent cache.\n",
      "Key '5167945765282018243' not in persistent cache.\n",
      "Key '-1147789015124377994' not in persistent cache.\n",
      "Key '-2539281225983862060' not in persistent cache.\n",
      "Key '8501571741977789225' not in persistent cache.\n",
      "Key '415110645372666425' not in persistent cache.\n",
      "Key '9184894729098347270' not in persistent cache.\n",
      "Key '457989376028063692' not in persistent cache.\n",
      "Key '7300136888215699506' not in persistent cache.\n",
      "Key '7759589117620432770' not in persistent cache.\n",
      "Key '7689813654917246499' not in persistent cache.\n",
      "Key '6810296520484812938' not in persistent cache.\n",
      "Key '-3561717152709465395' not in persistent cache.\n",
      "Key '-1876064411465976873' not in persistent cache.\n",
      "Key '786027248656500427' not in persistent cache.\n",
      "Key '7450045900844370156' not in persistent cache.\n",
      "Key '8358632782464700416' not in persistent cache.\n",
      "Key '-3539428545632128161' not in persistent cache.\n",
      "Key '-8613781748995951155' not in persistent cache.\n",
      "Key '-6160223123800733964' not in persistent cache.\n",
      "Key '-3586207528683099613' not in persistent cache.\n",
      "Key '-2563293192107088127' not in persistent cache.\n",
      "Key '8836077720271681435' not in persistent cache.\n",
      "Key '3261866646300900468' not in persistent cache.\n",
      "Key '-4580833547471446208' not in persistent cache.\n",
      "Key '-1312861052381128402' not in persistent cache.\n",
      "Key '3795264522464425678' not in persistent cache.\n",
      "Key '-7759504725340624082' not in persistent cache.\n",
      "Key '5612886145005104540' not in persistent cache.\n",
      "Key '-2548501031634790632' not in persistent cache.\n",
      "Key '-6050131508309293939' not in persistent cache.\n",
      "Key '294108758832119786' not in persistent cache.\n",
      "Key '8869652791313285121' not in persistent cache.\n",
      "Key '-3103126963367432501' not in persistent cache.\n",
      "Key '227106575749895811' not in persistent cache.\n",
      "Key '7436467346251549906' not in persistent cache.\n",
      "Key '3655270159615251387' not in persistent cache.\n",
      "Key '-7582113143592646134' not in persistent cache.\n",
      "Key '-6160556471038580595' not in persistent cache.\n",
      "Key '-8593126090946302812' not in persistent cache.\n",
      "Key '-8429794609079505542' not in persistent cache.\n",
      "Key '-7008237936525440003' not in persistent cache.\n",
      "Key '-6111511030215575182' not in persistent cache.\n",
      "Key '6481420836995954194' not in persistent cache.\n",
      "Key '-2991289749352236928' not in persistent cache.\n",
      "Key '291709745627092853' not in persistent cache.\n",
      "Key '8190794054027284337' not in persistent cache.\n",
      "Key '-1264037846890364857' not in persistent cache.\n",
      "Key '-6736880505134383010' not in persistent cache.\n",
      "Key '-4790997620977337413' not in persistent cache.\n",
      "Key '1744144466023392330' not in persistent cache.\n",
      "Key '8953505236525046425' not in persistent cache.\n",
      "Key '-6163005298067176879' not in persistent cache.\n",
      "Key '1046355472434477216' not in persistent cache.\n",
      "Key '-2734841714201821303' not in persistent cache.\n",
      "Key '4474519056299832792' not in persistent cache.\n",
      "Key '5896075728853898331' not in persistent cache.\n",
      "Key '-3582523179688680711' not in persistent cache.\n",
      "Key '3626837590812973384' not in persistent cache.\n",
      "Key '5048394263367038923' not in persistent cache.\n",
      "Key '5945121169676903744' not in persistent cache.\n",
      "Key '-3803439257806860433' not in persistent cache.\n",
      "Key '-8877792461170683427' not in persistent cache.\n",
      "Key '1407564435898973017' not in persistent cache.\n",
      "Key '-9140095329410387115' not in persistent cache.\n",
      "Key '4250174226365883435' not in persistent cache.\n",
      "Key '-5621025814862502846' not in persistent cache.\n",
      "Key '7769243740913767704' not in persistent cache.\n",
      "Key '7258356539279640622' not in persistent cache.\n",
      "Key '-3979026763928256899' not in persistent cache.\n",
      "Key '-648793224810928587' not in persistent cache.\n",
      "Key '2162210162706357380' not in persistent cache.\n",
      "Key '-8621344426020267802' not in persistent cache.\n",
      "Key '-8458012944153470532' not in persistent cache.\n",
      "Key '9573017035451832' not in persistent cache.\n",
      "Key '8977718182202424406' not in persistent cache.\n",
      "Key '-2259665121005473115' not in persistent cache.\n",
      "Key '-838108448451407576' not in persistent cache.\n",
      "Key '7060975859948783908' not in persistent cache.\n",
      "Key '-8044403011689425777' not in persistent cache.\n",
      "Key '5327987858656302845' not in persistent cache.\n",
      "Key '4212629970651264498' not in persistent cache.\n",
      "Key '-6335029794658095634' not in persistent cache.\n",
      "Key '7055239761118174916' not in persistent cache.\n",
      "Key '-2815960280110211365' not in persistent cache.\n",
      "Key '-870077395953165768' not in persistent cache.\n",
      "Key '-8383321999677619513' not in persistent cache.\n",
      "Key '-5572318612160333546' not in persistent cache.\n",
      "Key '-2242085073043005234' not in persistent cache.\n",
      "Key '4967275697458648861' not in persistent cache.\n",
      "Key '1186078510822350342' not in persistent cache.\n",
      "Key '8395439281324004437' not in persistent cache.\n",
      "Key '-8629748119831481640' not in persistent cache.\n",
      "Key '7384426333970347759' not in persistent cache.\n",
      "Key '7547757815837145029' not in persistent cache.\n",
      "Key '8969314488391210568' not in persistent cache.\n",
      "Key '-8580702679008476227' not in persistent cache.\n",
      "Key '2449697978823477167' not in persistent cache.\n",
      "Key '-2624655224540345827' not in persistent cache.\n",
      "Key '7660701672529310617' not in persistent cache.\n",
      "Key '4159071195854807310' not in persistent cache.\n",
      "Key '6104954080011852907' not in persistent cache.\n",
      "Key '632111421767834754' not in persistent cache.\n",
      "Key '-8822720479149814440' not in persistent cache.\n",
      "Key '2110778990835283431' not in persistent cache.\n",
      "Key '-2124246910282287427' not in persistent cache.\n",
      "Key '8252015917469897710' not in persistent cache.\n",
      "Key '8415347399336694980' not in persistent cache.\n",
      "Key '-6766564572374298330' not in persistent cache.\n",
      "Key '442796198127355765' not in persistent cache.\n",
      "Key '1864352870681421304' not in persistent cache.\n",
      "Key '-7614246037861157738' not in persistent cache.\n",
      "Key '-404885267359503643' not in persistent cache.\n",
      "Key '1016671405194561896' not in persistent cache.\n",
      "Key '-5132630977130430108' not in persistent cache.\n",
      "Key '-9204385776729258296' not in persistent cache.\n",
      "Key '4168005093616470326' not in persistent cache.\n",
      "Key '3052647205611431979' not in persistent cache.\n",
      "Key '-3096655176713560025' not in persistent cache.\n",
      "Key '5895256996078342397' not in persistent cache.\n",
      "Key '422414337834324244' not in persistent cache.\n",
      "Key '2368297221991369841' not in persistent cache.\n",
      "Key '8903439308992099584' not in persistent cache.\n",
      "Key '-2333943994215797937' not in persistent cache.\n",
      "Key '996289544901530375' not in persistent cache.\n",
      "Key '8205650315403184470' not in persistent cache.\n",
      "Key '4424453128766885951' not in persistent cache.\n",
      "Key '-6812930174441011570' not in persistent cache.\n",
      "Key '-5391373501886946031' not in persistent cache.\n",
      "Key '-7823943121794668248' not in persistent cache.\n",
      "Key '-7660611639927870978' not in persistent cache.\n",
      "Key '-6239054967373805439' not in persistent cache.\n",
      "Key '8706058629661242870' not in persistent cache.\n",
      "Key '982684592062238558' not in persistent cache.\n",
      "Key '1209289149048125403' not in persistent cache.\n",
      "Key '-4597920343695872376' not in persistent cache.\n",
      "Key '43426869030148053' not in persistent cache.\n",
      "Key '9009961187983179076' not in persistent cache.\n",
      "Key '-2129203168076770515' not in persistent cache.\n",
      "Key '-5155435809474256922' not in persistent cache.\n",
      "Key '-552388850895848612' not in persistent cache.\n",
      "Key '-4861114234187730822' not in persistent cache.\n",
      "Key '3419391030120650221' not in persistent cache.\n",
      "Key '-1739555973864333681' not in persistent cache.\n",
      "Key '4556240413519058394' not in persistent cache.\n",
      "Key '9142608734413687021' not in persistent cache.\n",
      "Key '-4380589786769504473' not in persistent cache.\n",
      "Key '8764649571384991361' not in persistent cache.\n",
      "Key '8170152847833018831' not in persistent cache.\n",
      "Key '7202619687491294299' not in persistent cache.\n",
      "Key '-1704550721716026224' not in persistent cache.\n",
      "Key '4334535681459334648' not in persistent cache.\n",
      "Key '2472344762642165324' not in persistent cache.\n",
      "Key '6624623158723964550' not in persistent cache.\n",
      "Key '-4489771108770341118' not in persistent cache.\n",
      "Key '-380344700525580683' not in persistent cache.\n",
      "Key '443034708054117265' not in persistent cache.\n",
      "Key '-3732301297766796929' not in persistent cache.\n",
      "Key '-4180935540463395832' not in persistent cache.\n",
      "Key '5286236681754767342' not in persistent cache.\n",
      "Key '-3857234728905097376' not in persistent cache.\n",
      "Key '-3007575041680721733' not in persistent cache.\n",
      "Key '4772265836400682747' not in persistent cache.\n",
      "Key '-3213381310038718116' not in persistent cache.\n",
      "Key '-1977266741819050447' not in persistent cache.\n",
      "Key '-8856228129276499491' not in persistent cache.\n",
      "Key '1260026608005231750' not in persistent cache.\n",
      "Key '4628917172522020879' not in persistent cache.\n",
      "Key '2834531011850928368' not in persistent cache.\n",
      "Key '-7288272789458135832' not in persistent cache.\n",
      "Key '4182074131196756746' not in persistent cache.\n",
      "Key '-3361076890964717188' not in persistent cache.\n",
      "Key '3855619379905795270' not in persistent cache.\n",
      "Key '-6495242651381796857' not in persistent cache.\n",
      "Key '-7301071952793270256' not in persistent cache.\n",
      "Key '7652512073784619528' not in persistent cache.\n",
      "Key '-3699872641379841958' not in persistent cache.\n",
      "Key '-3834933690507191596' not in persistent cache.\n",
      "Key '2433589476112215010' not in persistent cache.\n",
      "Key '-4845982133495137753' not in persistent cache.\n",
      "Key '2377948174763204155' not in persistent cache.\n",
      "Key '-7472820712184390244' not in persistent cache.\n",
      "Key '5395666041063407129' not in persistent cache.\n",
      "Key '2543983374962017250' not in persistent cache.\n",
      "Key '6786992902209667885' not in persistent cache.\n",
      "Key '-2180304092296480512' not in persistent cache.\n",
      "Key '7832989415204945389' not in persistent cache.\n",
      "Key '7204373599043365468' not in persistent cache.\n",
      "Key '3618528336964656219' not in persistent cache.\n",
      "Key '-2069052999886950476' not in persistent cache.\n",
      "Key '-1000742457638815807' not in persistent cache.\n",
      "Key '8858964947656308119' not in persistent cache.\n",
      "Key '-201415588619134270' not in persistent cache.\n",
      "Key '-1511183573809228697' not in persistent cache.\n",
      "Key '4760493296114377335' not in persistent cache.\n",
      "Key '2892005976975995514' not in persistent cache.\n",
      "Key '-1496771550721405591' not in persistent cache.\n",
      "Key '-6063066579931672233' not in persistent cache.\n",
      "Key '1710945536000331289' not in persistent cache.\n",
      "Key '5444485816561759508' not in persistent cache.\n",
      "Key '-4433761512331372049' not in persistent cache.\n",
      "Key '4773483471186185194' not in persistent cache.\n",
      "Key '8677484751913551231' not in persistent cache.\n",
      "Key '-5668485093919764712' not in persistent cache.\n",
      "Key '7172805600085326345' not in persistent cache.\n",
      "Key '-4144537856352327573' not in persistent cache.\n",
      "Key '7964139163805552536' not in persistent cache.\n",
      "Key '-3207271188157602704' not in persistent cache.\n",
      "Key '-4866351974185869967' not in persistent cache.\n",
      "Key '-8017168817960005318' not in persistent cache.\n",
      "Key '-644195383499389760' not in persistent cache.\n",
      "Key '552015224474175852' not in persistent cache.\n",
      "Key '-8461829270014492303' not in persistent cache.\n",
      "Key '7851545506004992713' not in persistent cache.\n",
      "Key '-8054033130925456639' not in persistent cache.\n",
      "Key '-7558682389692119843' not in persistent cache.\n",
      "Key '6624303660399605952' not in persistent cache.\n",
      "Key '149266346475836149' not in persistent cache.\n",
      "Key '-6610016998114059638' not in persistent cache.\n",
      "Key '8226137256593173467' not in persistent cache.\n",
      "Key '-9213564203922380236' not in persistent cache.\n",
      "Key '5167945765282018243' not in persistent cache.\n",
      "Key '-1147789015124377994' not in persistent cache.\n",
      "Key '-2539281225983862060' not in persistent cache.\n",
      "Key '8501571741977789225' not in persistent cache.\n",
      "Key '415110645372666425' not in persistent cache.\n",
      "Key '9184894729098347270' not in persistent cache.\n",
      "Key '457989376028063692' not in persistent cache.\n",
      "Key '7300136888215699506' not in persistent cache.\n",
      "Key '7759589117620432770' not in persistent cache.\n",
      "Key '7689813654917246499' not in persistent cache.\n",
      "Key '6810296520484812938' not in persistent cache.\n",
      "Key '-3561717152709465395' not in persistent cache.\n",
      "Key '-1876064411465976873' not in persistent cache.\n",
      "Key '786027248656500427' not in persistent cache.\n",
      "Key '7450045900844370156' not in persistent cache.\n",
      "Key '8358632782464700416' not in persistent cache.\n",
      "Key '-3539428545632128161' not in persistent cache.\n",
      "Key '-8613781748995951155' not in persistent cache.\n",
      "Key '-6160223123800733964' not in persistent cache.\n",
      "Key '-3586207528683099613' not in persistent cache.\n",
      "Key '-2563293192107088127' not in persistent cache.\n",
      "Key '8836077720271681435' not in persistent cache.\n",
      "Key '3261866646300900468' not in persistent cache.\n",
      "Key '-4580833547471446208' not in persistent cache.\n",
      "Key '-1312861052381128402' not in persistent cache.\n",
      "Key '3795264522464425678' not in persistent cache.\n",
      "Key '-7759504725340624082' not in persistent cache.\n",
      "Key '5612886145005104540' not in persistent cache.\n",
      "Key '-2548501031634790632' not in persistent cache.\n",
      "Key '-6050131508309293939' not in persistent cache.\n",
      "Key '294108758832119786' not in persistent cache.\n",
      "Key '8869652791313285121' not in persistent cache.\n",
      "Key '-3103126963367432501' not in persistent cache.\n",
      "Key '227106575749895811' not in persistent cache.\n",
      "Key '7436467346251549906' not in persistent cache.\n",
      "Key '3655270159615251387' not in persistent cache.\n",
      "Key '-7582113143592646134' not in persistent cache.\n",
      "Key '-6160556471038580595' not in persistent cache.\n",
      "Key '-8593126090946302812' not in persistent cache.\n",
      "Key '-8429794609079505542' not in persistent cache.\n",
      "Key '-7008237936525440003' not in persistent cache.\n",
      "Key '-6111511030215575182' not in persistent cache.\n",
      "Key '6481420836995954194' not in persistent cache.\n",
      "Key '-2991289749352236928' not in persistent cache.\n",
      "Key '291709745627092853' not in persistent cache.\n",
      "Key '8190794054027284337' not in persistent cache.\n",
      "Key '-1264037846890364857' not in persistent cache.\n",
      "Key '-6736880505134383010' not in persistent cache.\n",
      "Key '-4790997620977337413' not in persistent cache.\n",
      "Key '1744144466023392330' not in persistent cache.\n",
      "Key '8953505236525046425' not in persistent cache.\n",
      "Key '-6163005298067176879' not in persistent cache.\n",
      "Key '1046355472434477216' not in persistent cache.\n",
      "Key '-2734841714201821303' not in persistent cache.\n",
      "Key '4474519056299832792' not in persistent cache.\n",
      "Key '5896075728853898331' not in persistent cache.\n",
      "Key '-3582523179688680711' not in persistent cache.\n",
      "Key '3626837590812973384' not in persistent cache.\n",
      "Key '5048394263367038923' not in persistent cache.\n",
      "Key '5945121169676903744' not in persistent cache.\n",
      "Key '-3803439257806860433' not in persistent cache.\n",
      "Key '-8877792461170683427' not in persistent cache.\n",
      "Key '1407564435898973017' not in persistent cache.\n",
      "Key '-9140095329410387115' not in persistent cache.\n",
      "Key '4250174226365883435' not in persistent cache.\n",
      "Key '-5621025814862502846' not in persistent cache.\n",
      "Key '7769243740913767704' not in persistent cache.\n",
      "Key '7258356539279640622' not in persistent cache.\n",
      "Key '-3979026763928256899' not in persistent cache.\n",
      "Key '-648793224810928587' not in persistent cache.\n",
      "Key '2162210162706357380' not in persistent cache.\n",
      "Key '-8621344426020267802' not in persistent cache.\n",
      "Key '-8458012944153470532' not in persistent cache.\n",
      "Key '9573017035451832' not in persistent cache.\n",
      "Key '8977718182202424406' not in persistent cache.\n",
      "Key '-2259665121005473115' not in persistent cache.\n",
      "Key '-838108448451407576' not in persistent cache.\n",
      "Key '7060975859948783908' not in persistent cache.\n",
      "Key '-8044403011689425777' not in persistent cache.\n",
      "Key '5327987858656302845' not in persistent cache.\n",
      "Key '4212629970651264498' not in persistent cache.\n",
      "Key '-6335029794658095634' not in persistent cache.\n",
      "Key '7055239761118174916' not in persistent cache.\n",
      "Key '-2815960280110211365' not in persistent cache.\n",
      "Key '-870077395953165768' not in persistent cache.\n",
      "Key '-8383321999677619513' not in persistent cache.\n",
      "Key '-5572318612160333546' not in persistent cache.\n",
      "Key '-2242085073043005234' not in persistent cache.\n",
      "Key '4967275697458648861' not in persistent cache.\n",
      "Key '1186078510822350342' not in persistent cache.\n",
      "Key '8395439281324004437' not in persistent cache.\n",
      "Key '-8629748119831481640' not in persistent cache.\n",
      "Key '7384426333970347759' not in persistent cache.\n",
      "Key '7547757815837145029' not in persistent cache.\n",
      "Key '8969314488391210568' not in persistent cache.\n",
      "Key '-8580702679008476227' not in persistent cache.\n",
      "Key '2449697978823477167' not in persistent cache.\n",
      "Key '-2624655224540345827' not in persistent cache.\n",
      "Key '7660701672529310617' not in persistent cache.\n",
      "Key '4159071195854807310' not in persistent cache.\n",
      "Key '6104954080011852907' not in persistent cache.\n",
      "Key '632111421767834754' not in persistent cache.\n",
      "Key '-8822720479149814440' not in persistent cache.\n",
      "Key '2110778990835283431' not in persistent cache.\n",
      "Key '-2124246910282287427' not in persistent cache.\n",
      "Key '8252015917469897710' not in persistent cache.\n",
      "Key '8415347399336694980' not in persistent cache.\n",
      "Key '-6766564572374298330' not in persistent cache.\n",
      "Key '442796198127355765' not in persistent cache.\n",
      "Key '1864352870681421304' not in persistent cache.\n",
      "Key '-7614246037861157738' not in persistent cache.\n",
      "Key '-404885267359503643' not in persistent cache.\n",
      "Key '1016671405194561896' not in persistent cache.\n",
      "Key '-5132630977130430108' not in persistent cache.\n",
      "Key '-9204385776729258296' not in persistent cache.\n",
      "Key '4168005093616470326' not in persistent cache.\n",
      "Key '3052647205611431979' not in persistent cache.\n",
      "Key '-3096655176713560025' not in persistent cache.\n",
      "Key '5895256996078342397' not in persistent cache.\n",
      "Key '422414337834324244' not in persistent cache.\n",
      "Key '2368297221991369841' not in persistent cache.\n",
      "Key '8903439308992099584' not in persistent cache.\n",
      "Key '-2333943994215797937' not in persistent cache.\n",
      "Key '996289544901530375' not in persistent cache.\n",
      "Key '8205650315403184470' not in persistent cache.\n",
      "Key '4424453128766885951' not in persistent cache.\n",
      "Key '-6812930174441011570' not in persistent cache.\n",
      "Key '-5391373501886946031' not in persistent cache.\n",
      "Key '-7823943121794668248' not in persistent cache.\n",
      "Key '-7660611639927870978' not in persistent cache.\n",
      "Key '-6239054967373805439' not in persistent cache.\n",
      "Key '8706058629661242870' not in persistent cache.\n",
      "Key '982684592062238558' not in persistent cache.\n",
      "Key '1209289149048125403' not in persistent cache.\n",
      "Key '-4597920343695872376' not in persistent cache.\n",
      "Key '43426869030148053' not in persistent cache.\n",
      "Key '9009961187983179076' not in persistent cache.\n",
      "Key '-2129203168076770515' not in persistent cache.\n",
      "Key '-5155435809474256922' not in persistent cache.\n",
      "Key '-552388850895848612' not in persistent cache.\n",
      "Key '-4861114234187730822' not in persistent cache.\n",
      "Key '3419391030120650221' not in persistent cache.\n",
      "Key '-1739555973864333681' not in persistent cache.\n",
      "Key '4556240413519058394' not in persistent cache.\n",
      "Key '9142608734413687021' not in persistent cache.\n",
      "Key '-4380589786769504473' not in persistent cache.\n",
      "Key '8764649571384991361' not in persistent cache.\n",
      "Key '8170152847833018831' not in persistent cache.\n",
      "Key '7202619687491294299' not in persistent cache.\n",
      "Key '-1704550721716026224' not in persistent cache.\n",
      "Key '4334535681459334648' not in persistent cache.\n",
      "Key '2472344762642165324' not in persistent cache.\n",
      "Key '6624623158723964550' not in persistent cache.\n",
      "Key '-4489771108770341118' not in persistent cache.\n",
      "Key '-380344700525580683' not in persistent cache.\n",
      "Key '443034708054117265' not in persistent cache.\n",
      "Key '-3732301297766796929' not in persistent cache.\n",
      "Key '-4180935540463395832' not in persistent cache.\n",
      "Key '5286236681754767342' not in persistent cache.\n",
      "Key '-3857234728905097376' not in persistent cache.\n",
      "Key '-3007575041680721733' not in persistent cache.\n",
      "Key '4772265836400682747' not in persistent cache.\n",
      "Key '-3213381310038718116' not in persistent cache.\n",
      "Key '-1977266741819050447' not in persistent cache.\n",
      "Key '-8856228129276499491' not in persistent cache.\n",
      "Key '1260026608005231750' not in persistent cache.\n",
      "Key '4628917172522020879' not in persistent cache.\n",
      "Key '2834531011850928368' not in persistent cache.\n",
      "Key '-7288272789458135832' not in persistent cache.\n",
      "Key '4182074131196756746' not in persistent cache.\n",
      "Key '-3361076890964717188' not in persistent cache.\n",
      "Key '3855619379905795270' not in persistent cache.\n",
      "Key '-6495242651381796857' not in persistent cache.\n",
      "Key '-7301071952793270256' not in persistent cache.\n",
      "Key '7652512073784619528' not in persistent cache.\n",
      "Key '-3699872641379841958' not in persistent cache.\n",
      "Key '-3834933690507191596' not in persistent cache.\n",
      "Key '2433589476112215010' not in persistent cache.\n",
      "Key '-4845982133495137753' not in persistent cache.\n",
      "Key '2377948174763204155' not in persistent cache.\n",
      "Key '-7472820712184390244' not in persistent cache.\n",
      "Key '5395666041063407129' not in persistent cache.\n",
      "Key '2543983374962017250' not in persistent cache.\n",
      "Key '6786992902209667885' not in persistent cache.\n",
      "Key '-2180304092296480512' not in persistent cache.\n",
      "Key '7832989415204945389' not in persistent cache.\n",
      "Key '7204373599043365468' not in persistent cache.\n",
      "Key '3618528336964656219' not in persistent cache.\n",
      "Key '-2069052999886950476' not in persistent cache.\n",
      "Key '-1000742457638815807' not in persistent cache.\n",
      "Key '8858964947656308119' not in persistent cache.\n",
      "Key '-201415588619134270' not in persistent cache.\n",
      "Key '-1511183573809228697' not in persistent cache.\n",
      "Key '4760493296114377335' not in persistent cache.\n",
      "Key '2892005976975995514' not in persistent cache.\n",
      "Key '-1496771550721405591' not in persistent cache.\n",
      "Key '-6063066579931672233' not in persistent cache.\n",
      "Key '1710945536000331289' not in persistent cache.\n",
      "Key '5444485816561759508' not in persistent cache.\n",
      "Key '-4433761512331372049' not in persistent cache.\n",
      "Key '4773483471186185194' not in persistent cache.\n",
      "Key '8677484751913551231' not in persistent cache.\n",
      "Key '-5668485093919764712' not in persistent cache.\n",
      "Key '7172805600085326345' not in persistent cache.\n",
      "Key '-4144537856352327573' not in persistent cache.\n",
      "Key '7964139163805552536' not in persistent cache.\n",
      "Key '-3207271188157602704' not in persistent cache.\n",
      "Key '-4866351974185869967' not in persistent cache.\n",
      "Key '-8017168817960005318' not in persistent cache.\n",
      "Key '-644195383499389760' not in persistent cache.\n",
      "Key '552015224474175852' not in persistent cache.\n",
      "Key '-8461829270014492303' not in persistent cache.\n",
      "Key '7851545506004992713' not in persistent cache.\n",
      "Key '-8054033130925456639' not in persistent cache.\n",
      "Key '-7558682389692119843' not in persistent cache.\n",
      "Key '6624303660399605952' not in persistent cache.\n",
      "Key '149266346475836149' not in persistent cache.\n",
      "Key '-6610016998114059638' not in persistent cache.\n",
      "Key '8226137256593173467' not in persistent cache.\n",
      "Key '-9213564203922380236' not in persistent cache.\n",
      "Key '5167945765282018243' not in persistent cache.\n",
      "Key '-1147789015124377994' not in persistent cache.\n",
      "Key '-2539281225983862060' not in persistent cache.\n",
      "Key '8501571741977789225' not in persistent cache.\n",
      "Key '415110645372666425' not in persistent cache.\n",
      "Key '9184894729098347270' not in persistent cache.\n",
      "Key '457989376028063692' not in persistent cache.\n",
      "Key '7300136888215699506' not in persistent cache.\n",
      "Key '7759589117620432770' not in persistent cache.\n",
      "Key '7689813654917246499' not in persistent cache.\n",
      "Key '6810296520484812938' not in persistent cache.\n",
      "Key '-3561717152709465395' not in persistent cache.\n",
      "Key '-1876064411465976873' not in persistent cache.\n",
      "Key '786027248656500427' not in persistent cache.\n",
      "Key '7450045900844370156' not in persistent cache.\n",
      "Key '8358632782464700416' not in persistent cache.\n",
      "Key '-3539428545632128161' not in persistent cache.\n",
      "Key '-8613781748995951155' not in persistent cache.\n",
      "Key '-6160223123800733964' not in persistent cache.\n",
      "Key '-3586207528683099613' not in persistent cache.\n",
      "Key '-2563293192107088127' not in persistent cache.\n",
      "Key '8836077720271681435' not in persistent cache.\n",
      "Key '3261866646300900468' not in persistent cache.\n",
      "Key '-4580833547471446208' not in persistent cache.\n",
      "Key '-1312861052381128402' not in persistent cache.\n",
      "Key '3795264522464425678' not in persistent cache.\n",
      "Key '-7759504725340624082' not in persistent cache.\n",
      "Key '5612886145005104540' not in persistent cache.\n",
      "Key '-2548501031634790632' not in persistent cache.\n",
      "Key '-6050131508309293939' not in persistent cache.\n",
      "Key '294108758832119786' not in persistent cache.\n",
      "Key '8869652791313285121' not in persistent cache.\n",
      "Key '-3103126963367432501' not in persistent cache.\n",
      "Key '227106575749895811' not in persistent cache.\n",
      "Key '7436467346251549906' not in persistent cache.\n",
      "Key '3655270159615251387' not in persistent cache.\n",
      "Key '-7582113143592646134' not in persistent cache.\n",
      "Key '-6160556471038580595' not in persistent cache.\n",
      "Key '-8593126090946302812' not in persistent cache.\n",
      "Key '-8429794609079505542' not in persistent cache.\n",
      "Key '-7008237936525440003' not in persistent cache.\n",
      "Key '-6111511030215575182' not in persistent cache.\n",
      "Key '6481420836995954194' not in persistent cache.\n",
      "Key '-2991289749352236928' not in persistent cache.\n",
      "Key '291709745627092853' not in persistent cache.\n",
      "Key '8190794054027284337' not in persistent cache.\n",
      "Key '-1264037846890364857' not in persistent cache.\n",
      "Key '-6736880505134383010' not in persistent cache.\n",
      "Key '-4790997620977337413' not in persistent cache.\n",
      "Key '1744144466023392330' not in persistent cache.\n",
      "Key '8953505236525046425' not in persistent cache.\n",
      "Key '-6163005298067176879' not in persistent cache.\n",
      "Key '1046355472434477216' not in persistent cache.\n",
      "Key '-2734841714201821303' not in persistent cache.\n",
      "Key '4474519056299832792' not in persistent cache.\n",
      "Key '5896075728853898331' not in persistent cache.\n",
      "Key '-3582523179688680711' not in persistent cache.\n",
      "Key '3626837590812973384' not in persistent cache.\n",
      "Key '5048394263367038923' not in persistent cache.\n",
      "Key '5945121169676903744' not in persistent cache.\n",
      "Key '-3803439257806860433' not in persistent cache.\n",
      "Key '-8877792461170683427' not in persistent cache.\n",
      "Key '1407564435898973017' not in persistent cache.\n",
      "Key '-9140095329410387115' not in persistent cache.\n",
      "Key '4250174226365883435' not in persistent cache.\n",
      "Key '-5621025814862502846' not in persistent cache.\n",
      "Key '7769243740913767704' not in persistent cache.\n",
      "Key '7258356539279640622' not in persistent cache.\n",
      "Key '-3979026763928256899' not in persistent cache.\n",
      "Key '-648793224810928587' not in persistent cache.\n",
      "Key '2162210162706357380' not in persistent cache.\n",
      "Key '-8621344426020267802' not in persistent cache.\n",
      "Key '-8458012944153470532' not in persistent cache.\n",
      "Key '9573017035451832' not in persistent cache.\n",
      "Key '8977718182202424406' not in persistent cache.\n",
      "Key '-2259665121005473115' not in persistent cache.\n",
      "Key '-838108448451407576' not in persistent cache.\n",
      "Key '7060975859948783908' not in persistent cache.\n",
      "Key '-8044403011689425777' not in persistent cache.\n",
      "Key '5327987858656302845' not in persistent cache.\n",
      "Key '4212629970651264498' not in persistent cache.\n",
      "Key '-6335029794658095634' not in persistent cache.\n",
      "Key '7055239761118174916' not in persistent cache.\n",
      "Key '-2815960280110211365' not in persistent cache.\n",
      "Key '-870077395953165768' not in persistent cache.\n",
      "Key '-8383321999677619513' not in persistent cache.\n",
      "Key '-5572318612160333546' not in persistent cache.\n",
      "Key '-2242085073043005234' not in persistent cache.\n",
      "Key '4967275697458648861' not in persistent cache.\n",
      "Key '1186078510822350342' not in persistent cache.\n",
      "Key '8395439281324004437' not in persistent cache.\n",
      "Key '-8629748119831481640' not in persistent cache.\n",
      "Key '7384426333970347759' not in persistent cache.\n",
      "Key '7547757815837145029' not in persistent cache.\n",
      "Key '8969314488391210568' not in persistent cache.\n",
      "Key '-8580702679008476227' not in persistent cache.\n",
      "Key '2449697978823477167' not in persistent cache.\n",
      "Key '-2624655224540345827' not in persistent cache.\n",
      "Key '7660701672529310617' not in persistent cache.\n",
      "Key '4159071195854807310' not in persistent cache.\n",
      "Key '6104954080011852907' not in persistent cache.\n",
      "Key '632111421767834754' not in persistent cache.\n",
      "Key '-8822720479149814440' not in persistent cache.\n",
      "Key '2110778990835283431' not in persistent cache.\n",
      "Key '-2124246910282287427' not in persistent cache.\n",
      "Key '8252015917469897710' not in persistent cache.\n",
      "Key '8415347399336694980' not in persistent cache.\n",
      "Key '-6766564572374298330' not in persistent cache.\n",
      "Key '442796198127355765' not in persistent cache.\n",
      "Key '1864352870681421304' not in persistent cache.\n",
      "Key '-7614246037861157738' not in persistent cache.\n",
      "Key '-404885267359503643' not in persistent cache.\n",
      "Key '1016671405194561896' not in persistent cache.\n",
      "Key '-5132630977130430108' not in persistent cache.\n",
      "Key '-9204385776729258296' not in persistent cache.\n",
      "Key '4168005093616470326' not in persistent cache.\n",
      "Key '3052647205611431979' not in persistent cache.\n",
      "Key '-3096655176713560025' not in persistent cache.\n",
      "Key '5895256996078342397' not in persistent cache.\n",
      "Key '422414337834324244' not in persistent cache.\n",
      "Key '2368297221991369841' not in persistent cache.\n",
      "Key '8903439308992099584' not in persistent cache.\n",
      "Key '-2333943994215797937' not in persistent cache.\n",
      "Key '996289544901530375' not in persistent cache.\n",
      "Key '8205650315403184470' not in persistent cache.\n",
      "Key '4424453128766885951' not in persistent cache.\n",
      "Key '-6812930174441011570' not in persistent cache.\n",
      "Key '-5391373501886946031' not in persistent cache.\n",
      "Key '-7823943121794668248' not in persistent cache.\n",
      "Key '-7660611639927870978' not in persistent cache.\n",
      "Key '-6239054967373805439' not in persistent cache.\n",
      "Key '8706058629661242870' not in persistent cache.\n",
      "Key '982684592062238558' not in persistent cache.\n",
      "Key '1209289149048125403' not in persistent cache.\n",
      "Key '-4597920343695872376' not in persistent cache.\n",
      "Key '43426869030148053' not in persistent cache.\n",
      "Key '9009961187983179076' not in persistent cache.\n",
      "Key '-2129203168076770515' not in persistent cache.\n",
      "Key '-5155435809474256922' not in persistent cache.\n",
      "Key '-552388850895848612' not in persistent cache.\n",
      "Key '-4861114234187730822' not in persistent cache.\n",
      "Key '3419391030120650221' not in persistent cache.\n",
      "Key '-1739555973864333681' not in persistent cache.\n",
      "Key '4556240413519058394' not in persistent cache.\n",
      "Key '9142608734413687021' not in persistent cache.\n",
      "Key '-4380589786769504473' not in persistent cache.\n",
      "Key '8764649571384991361' not in persistent cache.\n",
      "Key '8170152847833018831' not in persistent cache.\n",
      "Key '7202619687491294299' not in persistent cache.\n",
      "Key '-1704550721716026224' not in persistent cache.\n",
      "Key '4334535681459334648' not in persistent cache.\n",
      "Key '2472344762642165324' not in persistent cache.\n",
      "Key '6624623158723964550' not in persistent cache.\n",
      "Key '-4489771108770341118' not in persistent cache.\n",
      "Key '-380344700525580683' not in persistent cache.\n",
      "Key '443034708054117265' not in persistent cache.\n",
      "Key '-3732301297766796929' not in persistent cache.\n",
      "Key '-4180935540463395832' not in persistent cache.\n",
      "Key '5286236681754767342' not in persistent cache.\n",
      "Key '-3857234728905097376' not in persistent cache.\n",
      "Key '-3007575041680721733' not in persistent cache.\n",
      "Key '4772265836400682747' not in persistent cache.\n",
      "Key '-3213381310038718116' not in persistent cache.\n",
      "Key '-1977266741819050447' not in persistent cache.\n",
      "Key '-8856228129276499491' not in persistent cache.\n",
      "Key '1260026608005231750' not in persistent cache.\n",
      "Key '4628917172522020879' not in persistent cache.\n",
      "Key '2834531011850928368' not in persistent cache.\n",
      "Key '-7288272789458135832' not in persistent cache.\n",
      "Key '4182074131196756746' not in persistent cache.\n",
      "Key '-3361076890964717188' not in persistent cache.\n",
      "Key '3855619379905795270' not in persistent cache.\n",
      "Key '-6495242651381796857' not in persistent cache.\n",
      "Key '-7301071952793270256' not in persistent cache.\n",
      "Key '7652512073784619528' not in persistent cache.\n",
      "Key '-3699872641379841958' not in persistent cache.\n",
      "Key '-3834933690507191596' not in persistent cache.\n",
      "Key '2433589476112215010' not in persistent cache.\n",
      "Key '-4845982133495137753' not in persistent cache.\n",
      "Key '2377948174763204155' not in persistent cache.\n",
      "Key '-7472820712184390244' not in persistent cache.\n",
      "Key '5395666041063407129' not in persistent cache.\n",
      "Key '2543983374962017250' not in persistent cache.\n",
      "Key '6786992902209667885' not in persistent cache.\n",
      "Key '-2180304092296480512' not in persistent cache.\n",
      "Key '7832989415204945389' not in persistent cache.\n",
      "Key '7204373599043365468' not in persistent cache.\n",
      "Key '3618528336964656219' not in persistent cache.\n",
      "Key '-2069052999886950476' not in persistent cache.\n",
      "Key '-1000742457638815807' not in persistent cache.\n",
      "Key '8858964947656308119' not in persistent cache.\n",
      "Key '-201415588619134270' not in persistent cache.\n",
      "Key '-1511183573809228697' not in persistent cache.\n",
      "Key '4760493296114377335' not in persistent cache.\n",
      "Key '2892005976975995514' not in persistent cache.\n",
      "Key '-1496771550721405591' not in persistent cache.\n",
      "Key '-6063066579931672233' not in persistent cache.\n",
      "Key '1710945536000331289' not in persistent cache.\n",
      "Key '5444485816561759508' not in persistent cache.\n",
      "Key '-4433761512331372049' not in persistent cache.\n",
      "Key '4773483471186185194' not in persistent cache.\n",
      "Key '8677484751913551231' not in persistent cache.\n",
      "Key '-5668485093919764712' not in persistent cache.\n",
      "Key '7172805600085326345' not in persistent cache.\n",
      "Key '-4144537856352327573' not in persistent cache.\n",
      "Key '7964139163805552536' not in persistent cache.\n",
      "Key '-3207271188157602704' not in persistent cache.\n",
      "Key '-4866351974185869967' not in persistent cache.\n",
      "Key '-8017168817960005318' not in persistent cache.\n",
      "Key '-644195383499389760' not in persistent cache.\n",
      "Key '552015224474175852' not in persistent cache.\n",
      "Key '-8461829270014492303' not in persistent cache.\n",
      "Key '7851545506004992713' not in persistent cache.\n",
      "Key '-8054033130925456639' not in persistent cache.\n",
      "Key '-7558682389692119843' not in persistent cache.\n",
      "Key '6624303660399605952' not in persistent cache.\n",
      "Key '149266346475836149' not in persistent cache.\n",
      "Key '-6610016998114059638' not in persistent cache.\n",
      "Key '8226137256593173467' not in persistent cache.\n",
      "Key '-9213564203922380236' not in persistent cache.\n",
      "Key '5167945765282018243' not in persistent cache.\n",
      "Key '-1147789015124377994' not in persistent cache.\n",
      "Key '-2539281225983862060' not in persistent cache.\n",
      "Key '8501571741977789225' not in persistent cache.\n",
      "Key '415110645372666425' not in persistent cache.\n",
      "Key '9184894729098347270' not in persistent cache.\n",
      "Key '457989376028063692' not in persistent cache.\n",
      "Key '7300136888215699506' not in persistent cache.\n",
      "Key '7759589117620432770' not in persistent cache.\n",
      "Key '7689813654917246499' not in persistent cache.\n",
      "Key '6810296520484812938' not in persistent cache.\n",
      "Key '-3561717152709465395' not in persistent cache.\n",
      "Key '-1876064411465976873' not in persistent cache.\n",
      "Key '786027248656500427' not in persistent cache.\n",
      "Key '7450045900844370156' not in persistent cache.\n",
      "Key '8358632782464700416' not in persistent cache.\n",
      "Key '-3539428545632128161' not in persistent cache.\n",
      "Key '-8613781748995951155' not in persistent cache.\n",
      "Key '-6160223123800733964' not in persistent cache.\n",
      "Key '-3586207528683099613' not in persistent cache.\n",
      "Key '-2563293192107088127' not in persistent cache.\n",
      "Key '8836077720271681435' not in persistent cache.\n",
      "Key '3261866646300900468' not in persistent cache.\n",
      "Key '-4580833547471446208' not in persistent cache.\n",
      "Key '-1312861052381128402' not in persistent cache.\n",
      "Key '3795264522464425678' not in persistent cache.\n",
      "Key '-7759504725340624082' not in persistent cache.\n",
      "Key '5612886145005104540' not in persistent cache.\n",
      "Key '-2548501031634790632' not in persistent cache.\n",
      "Key '-6050131508309293939' not in persistent cache.\n",
      "Key '294108758832119786' not in persistent cache.\n",
      "Key '8869652791313285121' not in persistent cache.\n",
      "Key '-3103126963367432501' not in persistent cache.\n",
      "Key '227106575749895811' not in persistent cache.\n",
      "Key '7436467346251549906' not in persistent cache.\n",
      "Key '3655270159615251387' not in persistent cache.\n",
      "Key '-7582113143592646134' not in persistent cache.\n",
      "Key '-6160556471038580595' not in persistent cache.\n",
      "Key '-8593126090946302812' not in persistent cache.\n",
      "Key '-8429794609079505542' not in persistent cache.\n",
      "Key '-7008237936525440003' not in persistent cache.\n",
      "Key '-6111511030215575182' not in persistent cache.\n",
      "Key '6481420836995954194' not in persistent cache.\n",
      "Key '-2991289749352236928' not in persistent cache.\n",
      "Key '291709745627092853' not in persistent cache.\n",
      "Key '8190794054027284337' not in persistent cache.\n",
      "Key '-1264037846890364857' not in persistent cache.\n",
      "Key '-6736880505134383010' not in persistent cache.\n",
      "Key '-4790997620977337413' not in persistent cache.\n",
      "Key '1744144466023392330' not in persistent cache.\n",
      "Key '8953505236525046425' not in persistent cache.\n",
      "Key '-6163005298067176879' not in persistent cache.\n",
      "Key '1046355472434477216' not in persistent cache.\n",
      "Key '-2734841714201821303' not in persistent cache.\n",
      "Key '4474519056299832792' not in persistent cache.\n",
      "Key '5896075728853898331' not in persistent cache.\n",
      "Key '-3582523179688680711' not in persistent cache.\n",
      "Key '3626837590812973384' not in persistent cache.\n",
      "Key '5048394263367038923' not in persistent cache.\n",
      "Key '5945121169676903744' not in persistent cache.\n",
      "Key '-3803439257806860433' not in persistent cache.\n",
      "Key '-8877792461170683427' not in persistent cache.\n",
      "Key '1407564435898973017' not in persistent cache.\n",
      "Key '-9140095329410387115' not in persistent cache.\n",
      "Key '4250174226365883435' not in persistent cache.\n",
      "Key '-5621025814862502846' not in persistent cache.\n",
      "Key '7769243740913767704' not in persistent cache.\n",
      "Key '7258356539279640622' not in persistent cache.\n",
      "Key '-3979026763928256899' not in persistent cache.\n",
      "Key '-648793224810928587' not in persistent cache.\n",
      "Key '2162210162706357380' not in persistent cache.\n",
      "Key '-8621344426020267802' not in persistent cache.\n",
      "Key '-8458012944153470532' not in persistent cache.\n",
      "Key '9573017035451832' not in persistent cache.\n",
      "Key '8977718182202424406' not in persistent cache.\n",
      "Key '-2259665121005473115' not in persistent cache.\n",
      "Key '-838108448451407576' not in persistent cache.\n",
      "Key '7060975859948783908' not in persistent cache.\n",
      "Key '-8044403011689425777' not in persistent cache.\n",
      "Key '5327987858656302845' not in persistent cache.\n",
      "Key '4212629970651264498' not in persistent cache.\n",
      "Key '-6335029794658095634' not in persistent cache.\n",
      "Key '7055239761118174916' not in persistent cache.\n",
      "Key '-2815960280110211365' not in persistent cache.\n",
      "Key '-870077395953165768' not in persistent cache.\n",
      "Key '-8383321999677619513' not in persistent cache.\n",
      "Key '-5572318612160333546' not in persistent cache.\n",
      "Key '-2242085073043005234' not in persistent cache.\n",
      "Key '4967275697458648861' not in persistent cache.\n",
      "Key '1186078510822350342' not in persistent cache.\n",
      "Key '8395439281324004437' not in persistent cache.\n",
      "Key '-8629748119831481640' not in persistent cache.\n",
      "Key '7384426333970347759' not in persistent cache.\n",
      "Key '7547757815837145029' not in persistent cache.\n",
      "Key '8969314488391210568' not in persistent cache.\n",
      "Key '-8580702679008476227' not in persistent cache.\n",
      "Key '2449697978823477167' not in persistent cache.\n",
      "Key '-2624655224540345827' not in persistent cache.\n",
      "Key '7660701672529310617' not in persistent cache.\n",
      "Key '4159071195854807310' not in persistent cache.\n",
      "Key '6104954080011852907' not in persistent cache.\n",
      "Key '632111421767834754' not in persistent cache.\n",
      "Key '-8822720479149814440' not in persistent cache.\n",
      "Key '2110778990835283431' not in persistent cache.\n",
      "Key '-2124246910282287427' not in persistent cache.\n",
      "Key '8252015917469897710' not in persistent cache.\n",
      "Key '8415347399336694980' not in persistent cache.\n",
      "Key '-6766564572374298330' not in persistent cache.\n",
      "Key '442796198127355765' not in persistent cache.\n",
      "Key '1864352870681421304' not in persistent cache.\n",
      "Key '-7614246037861157738' not in persistent cache.\n",
      "Key '-404885267359503643' not in persistent cache.\n",
      "Key '1016671405194561896' not in persistent cache.\n",
      "Key '-5132630977130430108' not in persistent cache.\n",
      "Key '-9204385776729258296' not in persistent cache.\n",
      "Key '4168005093616470326' not in persistent cache.\n",
      "Key '3052647205611431979' not in persistent cache.\n",
      "Key '-3096655176713560025' not in persistent cache.\n",
      "Key '5895256996078342397' not in persistent cache.\n",
      "Key '422414337834324244' not in persistent cache.\n",
      "Key '2368297221991369841' not in persistent cache.\n",
      "Key '8903439308992099584' not in persistent cache.\n",
      "Key '-2333943994215797937' not in persistent cache.\n",
      "Key '996289544901530375' not in persistent cache.\n",
      "Key '8205650315403184470' not in persistent cache.\n",
      "Key '4424453128766885951' not in persistent cache.\n",
      "Key '-6812930174441011570' not in persistent cache.\n",
      "Key '-5391373501886946031' not in persistent cache.\n",
      "Key '-7823943121794668248' not in persistent cache.\n",
      "Key '-7660611639927870978' not in persistent cache.\n",
      "Key '-6239054967373805439' not in persistent cache.\n",
      "Key '8706058629661242870' not in persistent cache.\n",
      "Key '982684592062238558' not in persistent cache.\n",
      "Key '1209289149048125403' not in persistent cache.\n",
      "Key '-4597920343695872376' not in persistent cache.\n",
      "Key '43426869030148053' not in persistent cache.\n",
      "Key '9009961187983179076' not in persistent cache.\n",
      "Key '-2129203168076770515' not in persistent cache.\n",
      "Key '-5155435809474256922' not in persistent cache.\n",
      "Key '-552388850895848612' not in persistent cache.\n",
      "Key '-4861114234187730822' not in persistent cache.\n",
      "Key '3419391030120650221' not in persistent cache.\n",
      "Key '-1739555973864333681' not in persistent cache.\n",
      "Key '4556240413519058394' not in persistent cache.\n",
      "Key '9142608734413687021' not in persistent cache.\n",
      "Key '-4380589786769504473' not in persistent cache.\n",
      "Key '8764649571384991361' not in persistent cache.\n",
      "Key '8170152847833018831' not in persistent cache.\n",
      "Key '7202619687491294299' not in persistent cache.\n",
      "Key '-1704550721716026224' not in persistent cache.\n",
      "Key '4334535681459334648' not in persistent cache.\n",
      "Key '2472344762642165324' not in persistent cache.\n",
      "Key '6624623158723964550' not in persistent cache.\n",
      "Key '-4489771108770341118' not in persistent cache.\n",
      "Key '-380344700525580683' not in persistent cache.\n",
      "Key '443034708054117265' not in persistent cache.\n",
      "Key '-3732301297766796929' not in persistent cache.\n",
      "Key '-4180935540463395832' not in persistent cache.\n",
      "Key '5286236681754767342' not in persistent cache.\n",
      "Key '-3857234728905097376' not in persistent cache.\n",
      "Key '-3007575041680721733' not in persistent cache.\n",
      "Key '4772265836400682747' not in persistent cache.\n",
      "Key '-3213381310038718116' not in persistent cache.\n",
      "Key '-1977266741819050447' not in persistent cache.\n",
      "Key '-8856228129276499491' not in persistent cache.\n",
      "Key '1260026608005231750' not in persistent cache.\n",
      "Key '4628917172522020879' not in persistent cache.\n",
      "Key '2834531011850928368' not in persistent cache.\n",
      "Key '-7288272789458135832' not in persistent cache.\n",
      "Key '4182074131196756746' not in persistent cache.\n",
      "Key '-3361076890964717188' not in persistent cache.\n",
      "Key '3855619379905795270' not in persistent cache.\n",
      "Key '-6495242651381796857' not in persistent cache.\n",
      "Key '-7301071952793270256' not in persistent cache.\n",
      "Key '7652512073784619528' not in persistent cache.\n",
      "Key '-3699872641379841958' not in persistent cache.\n",
      "Key '-3834933690507191596' not in persistent cache.\n",
      "Key '2433589476112215010' not in persistent cache.\n",
      "Key '-4845982133495137753' not in persistent cache.\n",
      "Key '2377948174763204155' not in persistent cache.\n",
      "Key '-7472820712184390244' not in persistent cache.\n",
      "Key '5395666041063407129' not in persistent cache.\n",
      "Key '2543983374962017250' not in persistent cache.\n",
      "Key '6786992902209667885' not in persistent cache.\n",
      "Key '-2180304092296480512' not in persistent cache.\n",
      "Key '7832989415204945389' not in persistent cache.\n",
      "Key '7204373599043365468' not in persistent cache.\n",
      "Key '3618528336964656219' not in persistent cache.\n",
      "Key '-2069052999886950476' not in persistent cache.\n",
      "Key '-1000742457638815807' not in persistent cache.\n",
      "Key '8858964947656308119' not in persistent cache.\n",
      "Key '-201415588619134270' not in persistent cache.\n",
      "Key '-1511183573809228697' not in persistent cache.\n",
      "Key '4760493296114377335' not in persistent cache.\n",
      "Key '2892005976975995514' not in persistent cache.\n",
      "Key '-1496771550721405591' not in persistent cache.\n",
      "Key '-6063066579931672233' not in persistent cache.\n",
      "Key '1710945536000331289' not in persistent cache.\n",
      "Key '5444485816561759508' not in persistent cache.\n",
      "Key '-4433761512331372049' not in persistent cache.\n",
      "Key '4773483471186185194' not in persistent cache.\n",
      "Key '8677484751913551231' not in persistent cache.\n",
      "Key '-5668485093919764712' not in persistent cache.\n",
      "Key '7172805600085326345' not in persistent cache.\n",
      "Key '-4144537856352327573' not in persistent cache.\n",
      "Key '7964139163805552536' not in persistent cache.\n",
      "Key '-3207271188157602704' not in persistent cache.\n",
      "Key '-4866351974185869967' not in persistent cache.\n",
      "Key '-8017168817960005318' not in persistent cache.\n",
      "Key '-644195383499389760' not in persistent cache.\n",
      "Key '552015224474175852' not in persistent cache.\n",
      "Key '-8461829270014492303' not in persistent cache.\n",
      "Key '7851545506004992713' not in persistent cache.\n",
      "Key '-8054033130925456639' not in persistent cache.\n",
      "Key '-7558682389692119843' not in persistent cache.\n",
      "Key '6624303660399605952' not in persistent cache.\n",
      "Key '149266346475836149' not in persistent cache.\n",
      "Key '-6610016998114059638' not in persistent cache.\n",
      "Key '8226137256593173467' not in persistent cache.\n",
      "Key '-9213564203922380236' not in persistent cache.\n",
      "Key '5167945765282018243' not in persistent cache.\n",
      "Key '-1147789015124377994' not in persistent cache.\n",
      "Key '-2539281225983862060' not in persistent cache.\n",
      "Key '8501571741977789225' not in persistent cache.\n",
      "Key '415110645372666425' not in persistent cache.\n",
      "Key '9184894729098347270' not in persistent cache.\n",
      "Key '457989376028063692' not in persistent cache.\n",
      "Key '7300136888215699506' not in persistent cache.\n",
      "Key '7759589117620432770' not in persistent cache.\n",
      "Key '7689813654917246499' not in persistent cache.\n",
      "Key '6810296520484812938' not in persistent cache.\n",
      "Key '-3561717152709465395' not in persistent cache.\n",
      "Key '-1876064411465976873' not in persistent cache.\n",
      "Key '786027248656500427' not in persistent cache.\n",
      "Key '7450045900844370156' not in persistent cache.\n",
      "Key '8358632782464700416' not in persistent cache.\n",
      "Key '-3539428545632128161' not in persistent cache.\n",
      "Key '-8613781748995951155' not in persistent cache.\n",
      "Key '-6160223123800733964' not in persistent cache.\n",
      "Key '-3586207528683099613' not in persistent cache.\n",
      "Key '-2563293192107088127' not in persistent cache.\n",
      "Key '8836077720271681435' not in persistent cache.\n",
      "Key '3261866646300900468' not in persistent cache.\n",
      "Key '-4580833547471446208' not in persistent cache.\n",
      "Key '-1312861052381128402' not in persistent cache.\n",
      "Key '3795264522464425678' not in persistent cache.\n",
      "Key '-7759504725340624082' not in persistent cache.\n",
      "Key '5612886145005104540' not in persistent cache.\n",
      "Key '-2548501031634790632' not in persistent cache.\n",
      "Key '-6050131508309293939' not in persistent cache.\n",
      "Key '294108758832119786' not in persistent cache.\n",
      "Key '8869652791313285121' not in persistent cache.\n",
      "Key '-3103126963367432501' not in persistent cache.\n",
      "Key '227106575749895811' not in persistent cache.\n",
      "Key '7436467346251549906' not in persistent cache.\n",
      "Key '3655270159615251387' not in persistent cache.\n",
      "Key '-7582113143592646134' not in persistent cache.\n",
      "Key '-6160556471038580595' not in persistent cache.\n",
      "Key '-8593126090946302812' not in persistent cache.\n",
      "Key '-8429794609079505542' not in persistent cache.\n",
      "Key '-7008237936525440003' not in persistent cache.\n",
      "Key '-6111511030215575182' not in persistent cache.\n",
      "Key '6481420836995954194' not in persistent cache.\n",
      "Key '-2991289749352236928' not in persistent cache.\n",
      "Key '291709745627092853' not in persistent cache.\n",
      "Key '8190794054027284337' not in persistent cache.\n",
      "Key '-1264037846890364857' not in persistent cache.\n",
      "Key '-6736880505134383010' not in persistent cache.\n",
      "Key '-4790997620977337413' not in persistent cache.\n",
      "Key '1744144466023392330' not in persistent cache.\n",
      "Key '8953505236525046425' not in persistent cache.\n",
      "Key '-6163005298067176879' not in persistent cache.\n",
      "Key '1046355472434477216' not in persistent cache.\n",
      "Key '-2734841714201821303' not in persistent cache.\n",
      "Key '4474519056299832792' not in persistent cache.\n",
      "Key '5896075728853898331' not in persistent cache.\n",
      "Key '-3582523179688680711' not in persistent cache.\n",
      "Key '3626837590812973384' not in persistent cache.\n",
      "Key '5048394263367038923' not in persistent cache.\n",
      "Key '5945121169676903744' not in persistent cache.\n",
      "Key '-3803439257806860433' not in persistent cache.\n",
      "Key '-8877792461170683427' not in persistent cache.\n",
      "Key '1407564435898973017' not in persistent cache.\n",
      "Key '-9140095329410387115' not in persistent cache.\n",
      "Key '4250174226365883435' not in persistent cache.\n",
      "Key '-5621025814862502846' not in persistent cache.\n",
      "Key '7769243740913767704' not in persistent cache.\n",
      "Key '7258356539279640622' not in persistent cache.\n",
      "Key '-3979026763928256899' not in persistent cache.\n",
      "Key '-648793224810928587' not in persistent cache.\n",
      "Key '2162210162706357380' not in persistent cache.\n",
      "Key '-8621344426020267802' not in persistent cache.\n",
      "Key '-8458012944153470532' not in persistent cache.\n",
      "Key '9573017035451832' not in persistent cache.\n",
      "Key '8977718182202424406' not in persistent cache.\n",
      "Key '-2259665121005473115' not in persistent cache.\n",
      "Key '-838108448451407576' not in persistent cache.\n",
      "Key '7060975859948783908' not in persistent cache.\n",
      "Key '-8044403011689425777' not in persistent cache.\n",
      "Key '5327987858656302845' not in persistent cache.\n",
      "Key '4212629970651264498' not in persistent cache.\n",
      "Key '-6335029794658095634' not in persistent cache.\n",
      "Key '7055239761118174916' not in persistent cache.\n",
      "Key '-2815960280110211365' not in persistent cache.\n",
      "Key '-870077395953165768' not in persistent cache.\n",
      "Key '-8383321999677619513' not in persistent cache.\n",
      "Key '-5572318612160333546' not in persistent cache.\n",
      "Key '-2242085073043005234' not in persistent cache.\n",
      "Key '4967275697458648861' not in persistent cache.\n",
      "Key '1186078510822350342' not in persistent cache.\n",
      "Key '8395439281324004437' not in persistent cache.\n",
      "Key '-8629748119831481640' not in persistent cache.\n",
      "Key '7384426333970347759' not in persistent cache.\n",
      "Key '7547757815837145029' not in persistent cache.\n",
      "Key '8969314488391210568' not in persistent cache.\n",
      "Key '-8580702679008476227' not in persistent cache.\n",
      "Key '2449697978823477167' not in persistent cache.\n",
      "Key '-2624655224540345827' not in persistent cache.\n",
      "Key '7660701672529310617' not in persistent cache.\n",
      "Key '4159071195854807310' not in persistent cache.\n",
      "Key '6104954080011852907' not in persistent cache.\n",
      "Key '632111421767834754' not in persistent cache.\n",
      "Key '-8822720479149814440' not in persistent cache.\n",
      "Key '2110778990835283431' not in persistent cache.\n",
      "Key '-2124246910282287427' not in persistent cache.\n",
      "Key '8252015917469897710' not in persistent cache.\n",
      "Key '8415347399336694980' not in persistent cache.\n",
      "Key '-6766564572374298330' not in persistent cache.\n",
      "Key '442796198127355765' not in persistent cache.\n",
      "Key '1864352870681421304' not in persistent cache.\n",
      "Key '-7614246037861157738' not in persistent cache.\n",
      "Key '-404885267359503643' not in persistent cache.\n",
      "Key '1016671405194561896' not in persistent cache.\n",
      "Key '-5132630977130430108' not in persistent cache.\n",
      "Key '-9204385776729258296' not in persistent cache.\n",
      "Key '4168005093616470326' not in persistent cache.\n",
      "Key '3052647205611431979' not in persistent cache.\n",
      "Key '-3096655176713560025' not in persistent cache.\n",
      "Key '5895256996078342397' not in persistent cache.\n",
      "Key '422414337834324244' not in persistent cache.\n",
      "Key '2368297221991369841' not in persistent cache.\n",
      "Key '8903439308992099584' not in persistent cache.\n",
      "Key '-2333943994215797937' not in persistent cache.\n",
      "Key '996289544901530375' not in persistent cache.\n",
      "Key '8205650315403184470' not in persistent cache.\n",
      "Key '4424453128766885951' not in persistent cache.\n",
      "Key '-6812930174441011570' not in persistent cache.\n",
      "Key '-5391373501886946031' not in persistent cache.\n",
      "Key '-7823943121794668248' not in persistent cache.\n",
      "Key '-7660611639927870978' not in persistent cache.\n",
      "Key '-6239054967373805439' not in persistent cache.\n",
      "Key '8706058629661242870' not in persistent cache.\n",
      "Key '982684592062238558' not in persistent cache.\n",
      "Key '1209289149048125403' not in persistent cache.\n",
      "Key '-4597920343695872376' not in persistent cache.\n",
      "Key '43426869030148053' not in persistent cache.\n",
      "Key '9009961187983179076' not in persistent cache.\n",
      "Key '-2129203168076770515' not in persistent cache.\n",
      "Key '-5155435809474256922' not in persistent cache.\n",
      "Key '-552388850895848612' not in persistent cache.\n",
      "Key '-4861114234187730822' not in persistent cache.\n",
      "Key '3419391030120650221' not in persistent cache.\n",
      "Key '-1739555973864333681' not in persistent cache.\n",
      "Key '4556240413519058394' not in persistent cache.\n",
      "Key '9142608734413687021' not in persistent cache.\n",
      "Key '-4380589786769504473' not in persistent cache.\n",
      "Key '8764649571384991361' not in persistent cache.\n",
      "Key '8170152847833018831' not in persistent cache.\n",
      "Key '7202619687491294299' not in persistent cache.\n",
      "Key '-1704550721716026224' not in persistent cache.\n",
      "Key '4334535681459334648' not in persistent cache.\n",
      "Key '2472344762642165324' not in persistent cache.\n",
      "Key '6624623158723964550' not in persistent cache.\n",
      "Key '-4489771108770341118' not in persistent cache.\n",
      "Key '-380344700525580683' not in persistent cache.\n",
      "Key '443034708054117265' not in persistent cache.\n",
      "Key '-3732301297766796929' not in persistent cache.\n",
      "Key '-4180935540463395832' not in persistent cache.\n",
      "Key '5286236681754767342' not in persistent cache.\n",
      "Key '-3857234728905097376' not in persistent cache.\n",
      "Key '-3007575041680721733' not in persistent cache.\n",
      "Key '4772265836400682747' not in persistent cache.\n",
      "Key '-3213381310038718116' not in persistent cache.\n",
      "Key '-1977266741819050447' not in persistent cache.\n",
      "Key '-8856228129276499491' not in persistent cache.\n",
      "Key '1260026608005231750' not in persistent cache.\n",
      "Key '4628917172522020879' not in persistent cache.\n",
      "Key '2834531011850928368' not in persistent cache.\n",
      "Key '-7288272789458135832' not in persistent cache.\n",
      "Key '4182074131196756746' not in persistent cache.\n",
      "Key '-3361076890964717188' not in persistent cache.\n",
      "Key '3855619379905795270' not in persistent cache.\n",
      "Key '-6495242651381796857' not in persistent cache.\n",
      "Key '-7301071952793270256' not in persistent cache.\n",
      "Key '7652512073784619528' not in persistent cache.\n",
      "Key '-3699872641379841958' not in persistent cache.\n",
      "Key '-3834933690507191596' not in persistent cache.\n",
      "Key '2433589476112215010' not in persistent cache.\n",
      "Key '-4845982133495137753' not in persistent cache.\n",
      "Key '2377948174763204155' not in persistent cache.\n",
      "Key '-7472820712184390244' not in persistent cache.\n",
      "Key '5395666041063407129' not in persistent cache.\n",
      "Key '2543983374962017250' not in persistent cache.\n",
      "Key '6786992902209667885' not in persistent cache.\n",
      "Key '-2180304092296480512' not in persistent cache.\n",
      "Key '7832989415204945389' not in persistent cache.\n",
      "Key '7204373599043365468' not in persistent cache.\n",
      "Key '3618528336964656219' not in persistent cache.\n",
      "Key '-2069052999886950476' not in persistent cache.\n",
      "Key '-1000742457638815807' not in persistent cache.\n",
      "Key '8858964947656308119' not in persistent cache.\n",
      "Key '-201415588619134270' not in persistent cache.\n",
      "Key '-1511183573809228697' not in persistent cache.\n",
      "Key '4760493296114377335' not in persistent cache.\n",
      "Key '2892005976975995514' not in persistent cache.\n",
      "Key '-1496771550721405591' not in persistent cache.\n",
      "Key '-6063066579931672233' not in persistent cache.\n",
      "Key '1710945536000331289' not in persistent cache.\n",
      "Key '5444485816561759508' not in persistent cache.\n",
      "Key '-4433761512331372049' not in persistent cache.\n",
      "Key '4773483471186185194' not in persistent cache.\n",
      "Key '8677484751913551231' not in persistent cache.\n",
      "Key '-5668485093919764712' not in persistent cache.\n",
      "Key '7172805600085326345' not in persistent cache.\n",
      "Key '-4144537856352327573' not in persistent cache.\n",
      "Key '7964139163805552536' not in persistent cache.\n",
      "Key '-3207271188157602704' not in persistent cache.\n",
      "Key '-4866351974185869967' not in persistent cache.\n",
      "Key '-8017168817960005318' not in persistent cache.\n",
      "Key '-644195383499389760' not in persistent cache.\n",
      "Key '552015224474175852' not in persistent cache.\n",
      "Key '-8461829270014492303' not in persistent cache.\n",
      "Key '7851545506004992713' not in persistent cache.\n",
      "Key '-8054033130925456639' not in persistent cache.\n",
      "Key '-7558682389692119843' not in persistent cache.\n",
      "Key '6624303660399605952' not in persistent cache.\n",
      "Key '149266346475836149' not in persistent cache.\n",
      "Key '-6610016998114059638' not in persistent cache.\n",
      "Key '8226137256593173467' not in persistent cache.\n",
      "Key '-9213564203922380236' not in persistent cache.\n",
      "Key '5167945765282018243' not in persistent cache.\n",
      "Key '-1147789015124377994' not in persistent cache.\n",
      "Key '-2539281225983862060' not in persistent cache.\n",
      "Key '8501571741977789225' not in persistent cache.\n",
      "Key '415110645372666425' not in persistent cache.\n",
      "Key '9184894729098347270' not in persistent cache.\n",
      "Key '457989376028063692' not in persistent cache.\n",
      "Key '7300136888215699506' not in persistent cache.\n",
      "Key '7759589117620432770' not in persistent cache.\n",
      "Key '7689813654917246499' not in persistent cache.\n",
      "Key '6810296520484812938' not in persistent cache.\n",
      "Key '-3561717152709465395' not in persistent cache.\n",
      "Key '-1876064411465976873' not in persistent cache.\n",
      "Key '786027248656500427' not in persistent cache.\n",
      "Key '7450045900844370156' not in persistent cache.\n",
      "Key '8358632782464700416' not in persistent cache.\n",
      "Key '-3539428545632128161' not in persistent cache.\n",
      "Key '-8613781748995951155' not in persistent cache.\n",
      "Key '-6160223123800733964' not in persistent cache.\n",
      "Key '-3586207528683099613' not in persistent cache.\n",
      "Key '-2563293192107088127' not in persistent cache.\n",
      "Key '8836077720271681435' not in persistent cache.\n",
      "Key '3261866646300900468' not in persistent cache.\n",
      "Key '-4580833547471446208' not in persistent cache.\n",
      "Key '-1312861052381128402' not in persistent cache.\n",
      "Key '3795264522464425678' not in persistent cache.\n",
      "Key '-7759504725340624082' not in persistent cache.\n",
      "Key '5612886145005104540' not in persistent cache.\n",
      "Key '-2548501031634790632' not in persistent cache.\n",
      "Key '-6050131508309293939' not in persistent cache.\n",
      "Key '294108758832119786' not in persistent cache.\n",
      "Key '8869652791313285121' not in persistent cache.\n",
      "Key '-3103126963367432501' not in persistent cache.\n",
      "Key '227106575749895811' not in persistent cache.\n",
      "Key '7436467346251549906' not in persistent cache.\n",
      "Key '3655270159615251387' not in persistent cache.\n",
      "Key '-7582113143592646134' not in persistent cache.\n",
      "Key '-6160556471038580595' not in persistent cache.\n",
      "Key '-8593126090946302812' not in persistent cache.\n",
      "Key '-8429794609079505542' not in persistent cache.\n",
      "Key '-7008237936525440003' not in persistent cache.\n",
      "Key '-6111511030215575182' not in persistent cache.\n",
      "Key '6481420836995954194' not in persistent cache.\n",
      "Key '-2991289749352236928' not in persistent cache.\n",
      "Key '291709745627092853' not in persistent cache.\n",
      "Key '8190794054027284337' not in persistent cache.\n",
      "Key '-1264037846890364857' not in persistent cache.\n",
      "Key '-6736880505134383010' not in persistent cache.\n",
      "Key '-4790997620977337413' not in persistent cache.\n",
      "Key '1744144466023392330' not in persistent cache.\n",
      "Key '8953505236525046425' not in persistent cache.\n",
      "Key '-6163005298067176879' not in persistent cache.\n",
      "Key '1046355472434477216' not in persistent cache.\n",
      "Key '-2734841714201821303' not in persistent cache.\n",
      "Key '4474519056299832792' not in persistent cache.\n",
      "Key '5896075728853898331' not in persistent cache.\n",
      "Key '-3582523179688680711' not in persistent cache.\n",
      "Key '3626837590812973384' not in persistent cache.\n",
      "Key '5048394263367038923' not in persistent cache.\n",
      "Key '5945121169676903744' not in persistent cache.\n",
      "Key '-3803439257806860433' not in persistent cache.\n",
      "Key '-8877792461170683427' not in persistent cache.\n",
      "Key '1407564435898973017' not in persistent cache.\n",
      "Key '-9140095329410387115' not in persistent cache.\n",
      "Key '4250174226365883435' not in persistent cache.\n",
      "Key '-5621025814862502846' not in persistent cache.\n",
      "Key '7769243740913767704' not in persistent cache.\n",
      "Key '7258356539279640622' not in persistent cache.\n",
      "Key '-3979026763928256899' not in persistent cache.\n",
      "Key '-648793224810928587' not in persistent cache.\n",
      "Key '2162210162706357380' not in persistent cache.\n",
      "Key '-8621344426020267802' not in persistent cache.\n",
      "Key '-8458012944153470532' not in persistent cache.\n",
      "Key '9573017035451832' not in persistent cache.\n",
      "Key '8977718182202424406' not in persistent cache.\n",
      "Key '-2259665121005473115' not in persistent cache.\n",
      "Key '-838108448451407576' not in persistent cache.\n",
      "Key '7060975859948783908' not in persistent cache.\n",
      "Key '-8044403011689425777' not in persistent cache.\n",
      "Key '5327987858656302845' not in persistent cache.\n",
      "Key '4212629970651264498' not in persistent cache.\n",
      "Key '-6335029794658095634' not in persistent cache.\n",
      "Key '7055239761118174916' not in persistent cache.\n",
      "Key '-2815960280110211365' not in persistent cache.\n",
      "Key '-870077395953165768' not in persistent cache.\n",
      "Key '-8383321999677619513' not in persistent cache.\n",
      "Key '-5572318612160333546' not in persistent cache.\n",
      "Key '-2242085073043005234' not in persistent cache.\n",
      "Key '4967275697458648861' not in persistent cache.\n",
      "Key '1186078510822350342' not in persistent cache.\n",
      "Key '8395439281324004437' not in persistent cache.\n",
      "Key '-8629748119831481640' not in persistent cache.\n",
      "Key '7384426333970347759' not in persistent cache.\n",
      "Key '7547757815837145029' not in persistent cache.\n",
      "Key '8969314488391210568' not in persistent cache.\n",
      "Key '-8580702679008476227' not in persistent cache.\n",
      "Key '2449697978823477167' not in persistent cache.\n",
      "Key '-2624655224540345827' not in persistent cache.\n",
      "Key '7660701672529310617' not in persistent cache.\n",
      "Key '4159071195854807310' not in persistent cache.\n",
      "Key '6104954080011852907' not in persistent cache.\n",
      "Key '632111421767834754' not in persistent cache.\n",
      "Key '-8822720479149814440' not in persistent cache.\n",
      "Key '2110778990835283431' not in persistent cache.\n",
      "Key '-2124246910282287427' not in persistent cache.\n",
      "Key '8252015917469897710' not in persistent cache.\n",
      "Key '8415347399336694980' not in persistent cache.\n",
      "Key '-6766564572374298330' not in persistent cache.\n",
      "Key '442796198127355765' not in persistent cache.\n",
      "Key '1864352870681421304' not in persistent cache.\n",
      "Key '-7614246037861157738' not in persistent cache.\n",
      "Key '-404885267359503643' not in persistent cache.\n",
      "Key '1016671405194561896' not in persistent cache.\n",
      "Key '-5132630977130430108' not in persistent cache.\n",
      "Key '-9204385776729258296' not in persistent cache.\n",
      "Key '4168005093616470326' not in persistent cache.\n",
      "Key '3052647205611431979' not in persistent cache.\n",
      "Key '-3096655176713560025' not in persistent cache.\n",
      "Key '5895256996078342397' not in persistent cache.\n",
      "Key '422414337834324244' not in persistent cache.\n",
      "Key '2368297221991369841' not in persistent cache.\n",
      "Key '8903439308992099584' not in persistent cache.\n",
      "Key '-2333943994215797937' not in persistent cache.\n",
      "Key '996289544901530375' not in persistent cache.\n",
      "Key '8205650315403184470' not in persistent cache.\n",
      "Key '4424453128766885951' not in persistent cache.\n",
      "Key '-6812930174441011570' not in persistent cache.\n",
      "Key '-5391373501886946031' not in persistent cache.\n",
      "Key '-7823943121794668248' not in persistent cache.\n",
      "Key '-7660611639927870978' not in persistent cache.\n",
      "Key '-6239054967373805439' not in persistent cache.\n",
      "Key '8706058629661242870' not in persistent cache.\n",
      "Key '982684592062238558' not in persistent cache.\n",
      "Key '1209289149048125403' not in persistent cache.\n",
      "Key '-4597920343695872376' not in persistent cache.\n",
      "Key '43426869030148053' not in persistent cache.\n",
      "Key '9009961187983179076' not in persistent cache.\n",
      "Key '-2129203168076770515' not in persistent cache.\n",
      "Key '-5155435809474256922' not in persistent cache.\n",
      "Key '-552388850895848612' not in persistent cache.\n",
      "Key '-4861114234187730822' not in persistent cache.\n",
      "Key '3419391030120650221' not in persistent cache.\n",
      "Key '-1739555973864333681' not in persistent cache.\n",
      "Key '4556240413519058394' not in persistent cache.\n",
      "Key '9142608734413687021' not in persistent cache.\n",
      "Key '-4380589786769504473' not in persistent cache.\n",
      "Key '8764649571384991361' not in persistent cache.\n",
      "Key '8170152847833018831' not in persistent cache.\n",
      "Key '7202619687491294299' not in persistent cache.\n",
      "Key '-1704550721716026224' not in persistent cache.\n",
      "Key '4334535681459334648' not in persistent cache.\n",
      "Key '2472344762642165324' not in persistent cache.\n",
      "Key '6624623158723964550' not in persistent cache.\n",
      "Key '-4489771108770341118' not in persistent cache.\n",
      "Key '-380344700525580683' not in persistent cache.\n",
      "Key '443034708054117265' not in persistent cache.\n",
      "Key '-3732301297766796929' not in persistent cache.\n",
      "Key '-4180935540463395832' not in persistent cache.\n",
      "Key '5286236681754767342' not in persistent cache.\n",
      "Key '-3857234728905097376' not in persistent cache.\n",
      "Key '-3007575041680721733' not in persistent cache.\n",
      "Key '4772265836400682747' not in persistent cache.\n",
      "Key '-3213381310038718116' not in persistent cache.\n",
      "Key '-1977266741819050447' not in persistent cache.\n",
      "Key '-8856228129276499491' not in persistent cache.\n",
      "Key '1260026608005231750' not in persistent cache.\n",
      "Key '4628917172522020879' not in persistent cache.\n",
      "Key '2834531011850928368' not in persistent cache.\n",
      "Key '-7288272789458135832' not in persistent cache.\n",
      "Key '4182074131196756746' not in persistent cache.\n",
      "Key '-3361076890964717188' not in persistent cache.\n",
      "Key '3855619379905795270' not in persistent cache.\n",
      "Key '-6495242651381796857' not in persistent cache.\n",
      "Key '-7301071952793270256' not in persistent cache.\n",
      "Key '7652512073784619528' not in persistent cache.\n",
      "Key '-3699872641379841958' not in persistent cache.\n",
      "Key '-3834933690507191596' not in persistent cache.\n",
      "Key '2433589476112215010' not in persistent cache.\n",
      "Key '-4845982133495137753' not in persistent cache.\n",
      "Key '2377948174763204155' not in persistent cache.\n",
      "Key '-7472820712184390244' not in persistent cache.\n",
      "Key '5395666041063407129' not in persistent cache.\n",
      "Key '2543983374962017250' not in persistent cache.\n",
      "Key '6786992902209667885' not in persistent cache.\n",
      "Key '-2180304092296480512' not in persistent cache.\n",
      "Key '7832989415204945389' not in persistent cache.\n",
      "Key '7204373599043365468' not in persistent cache.\n",
      "Key '3618528336964656219' not in persistent cache.\n",
      "Key '-2069052999886950476' not in persistent cache.\n",
      "Key '-1000742457638815807' not in persistent cache.\n",
      "Key '8858964947656308119' not in persistent cache.\n",
      "Key '-201415588619134270' not in persistent cache.\n",
      "Key '-1511183573809228697' not in persistent cache.\n",
      "Key '4760493296114377335' not in persistent cache.\n",
      "Key '2892005976975995514' not in persistent cache.\n",
      "Key '-1496771550721405591' not in persistent cache.\n",
      "Key '-6063066579931672233' not in persistent cache.\n",
      "Key '1710945536000331289' not in persistent cache.\n",
      "Key '5444485816561759508' not in persistent cache.\n",
      "Key '-4433761512331372049' not in persistent cache.\n",
      "Key '4773483471186185194' not in persistent cache.\n",
      "Key '8677484751913551231' not in persistent cache.\n",
      "Key '-5668485093919764712' not in persistent cache.\n",
      "Key '7172805600085326345' not in persistent cache.\n",
      "Key '-4144537856352327573' not in persistent cache.\n",
      "Key '7964139163805552536' not in persistent cache.\n",
      "Key '-3207271188157602704' not in persistent cache.\n",
      "Key '-4866351974185869967' not in persistent cache.\n",
      "Key '-8017168817960005318' not in persistent cache.\n",
      "Key '-644195383499389760' not in persistent cache.\n",
      "Key '552015224474175852' not in persistent cache.\n",
      "Key '-8461829270014492303' not in persistent cache.\n",
      "Key '7851545506004992713' not in persistent cache.\n",
      "Key '-8054033130925456639' not in persistent cache.\n",
      "Key '-7558682389692119843' not in persistent cache.\n",
      "Key '6624303660399605952' not in persistent cache.\n",
      "Key '149266346475836149' not in persistent cache.\n",
      "Key '-6610016998114059638' not in persistent cache.\n",
      "Key '8226137256593173467' not in persistent cache.\n",
      "Key '-9213564203922380236' not in persistent cache.\n",
      "Key '5167945765282018243' not in persistent cache.\n",
      "Key '-1147789015124377994' not in persistent cache.\n",
      "Key '-2539281225983862060' not in persistent cache.\n",
      "Key '8501571741977789225' not in persistent cache.\n",
      "Key '415110645372666425' not in persistent cache.\n",
      "Key '9184894729098347270' not in persistent cache.\n",
      "Key '457989376028063692' not in persistent cache.\n",
      "Key '7300136888215699506' not in persistent cache.\n",
      "Key '7759589117620432770' not in persistent cache.\n",
      "Key '7689813654917246499' not in persistent cache.\n",
      "Key '6810296520484812938' not in persistent cache.\n",
      "Key '-3561717152709465395' not in persistent cache.\n",
      "Key '-1876064411465976873' not in persistent cache.\n",
      "Key '786027248656500427' not in persistent cache.\n",
      "Key '7450045900844370156' not in persistent cache.\n",
      "Key '8358632782464700416' not in persistent cache.\n",
      "Key '-3539428545632128161' not in persistent cache.\n",
      "Key '-8613781748995951155' not in persistent cache.\n",
      "Key '-6160223123800733964' not in persistent cache.\n",
      "Key '-3586207528683099613' not in persistent cache.\n",
      "Key '-2563293192107088127' not in persistent cache.\n",
      "Key '8836077720271681435' not in persistent cache.\n",
      "Key '3261866646300900468' not in persistent cache.\n",
      "Key '-4580833547471446208' not in persistent cache.\n",
      "Key '-1312861052381128402' not in persistent cache.\n",
      "Key '3795264522464425678' not in persistent cache.\n",
      "Key '-7759504725340624082' not in persistent cache.\n",
      "Key '5612886145005104540' not in persistent cache.\n",
      "Key '-2548501031634790632' not in persistent cache.\n",
      "Key '-6050131508309293939' not in persistent cache.\n",
      "Key '294108758832119786' not in persistent cache.\n",
      "Key '8869652791313285121' not in persistent cache.\n",
      "Key '-3103126963367432501' not in persistent cache.\n",
      "Key '227106575749895811' not in persistent cache.\n",
      "Key '7436467346251549906' not in persistent cache.\n",
      "Key '3655270159615251387' not in persistent cache.\n",
      "Key '-7582113143592646134' not in persistent cache.\n",
      "Key '-6160556471038580595' not in persistent cache.\n",
      "Key '-8593126090946302812' not in persistent cache.\n",
      "Key '-8429794609079505542' not in persistent cache.\n",
      "Key '-7008237936525440003' not in persistent cache.\n",
      "Key '-6111511030215575182' not in persistent cache.\n",
      "Key '6481420836995954194' not in persistent cache.\n",
      "Key '-2991289749352236928' not in persistent cache.\n",
      "Key '291709745627092853' not in persistent cache.\n",
      "Key '8190794054027284337' not in persistent cache.\n",
      "Key '-1264037846890364857' not in persistent cache.\n",
      "Key '-6736880505134383010' not in persistent cache.\n",
      "Key '-4790997620977337413' not in persistent cache.\n",
      "Key '1744144466023392330' not in persistent cache.\n",
      "Key '8953505236525046425' not in persistent cache.\n",
      "Key '-6163005298067176879' not in persistent cache.\n",
      "Key '1046355472434477216' not in persistent cache.\n",
      "Key '-2734841714201821303' not in persistent cache.\n",
      "Key '4474519056299832792' not in persistent cache.\n",
      "Key '5896075728853898331' not in persistent cache.\n",
      "Key '-3582523179688680711' not in persistent cache.\n",
      "Key '3626837590812973384' not in persistent cache.\n",
      "Key '5048394263367038923' not in persistent cache.\n",
      "Key '5945121169676903744' not in persistent cache.\n",
      "Key '-3803439257806860433' not in persistent cache.\n",
      "Key '-8877792461170683427' not in persistent cache.\n",
      "Key '1407564435898973017' not in persistent cache.\n",
      "Key '-9140095329410387115' not in persistent cache.\n",
      "Key '4250174226365883435' not in persistent cache.\n",
      "Key '-5621025814862502846' not in persistent cache.\n",
      "Key '7769243740913767704' not in persistent cache.\n",
      "Key '7258356539279640622' not in persistent cache.\n",
      "Key '-3979026763928256899' not in persistent cache.\n",
      "Key '-648793224810928587' not in persistent cache.\n",
      "Key '2162210162706357380' not in persistent cache.\n",
      "Key '-8621344426020267802' not in persistent cache.\n",
      "Key '-8458012944153470532' not in persistent cache.\n",
      "Key '9573017035451832' not in persistent cache.\n",
      "Key '8977718182202424406' not in persistent cache.\n",
      "Key '-2259665121005473115' not in persistent cache.\n",
      "Key '-838108448451407576' not in persistent cache.\n",
      "Key '7060975859948783908' not in persistent cache.\n",
      "Key '-8044403011689425777' not in persistent cache.\n",
      "Key '5327987858656302845' not in persistent cache.\n",
      "Key '4212629970651264498' not in persistent cache.\n",
      "Key '-6335029794658095634' not in persistent cache.\n",
      "Key '7055239761118174916' not in persistent cache.\n",
      "Key '-2815960280110211365' not in persistent cache.\n",
      "Key '-870077395953165768' not in persistent cache.\n",
      "Key '-8383321999677619513' not in persistent cache.\n",
      "Key '-5572318612160333546' not in persistent cache.\n",
      "Key '-2242085073043005234' not in persistent cache.\n",
      "Key '4967275697458648861' not in persistent cache.\n",
      "Key '1186078510822350342' not in persistent cache.\n",
      "Key '8395439281324004437' not in persistent cache.\n",
      "Key '-8629748119831481640' not in persistent cache.\n",
      "Key '7384426333970347759' not in persistent cache.\n",
      "Key '7547757815837145029' not in persistent cache.\n",
      "Key '8969314488391210568' not in persistent cache.\n",
      "Key '-8580702679008476227' not in persistent cache.\n",
      "Key '2449697978823477167' not in persistent cache.\n",
      "Key '-2624655224540345827' not in persistent cache.\n",
      "Key '7660701672529310617' not in persistent cache.\n",
      "Key '4159071195854807310' not in persistent cache.\n",
      "Key '6104954080011852907' not in persistent cache.\n",
      "Key '632111421767834754' not in persistent cache.\n",
      "Key '-8822720479149814440' not in persistent cache.\n",
      "Key '2110778990835283431' not in persistent cache.\n",
      "Key '-2124246910282287427' not in persistent cache.\n",
      "Key '8252015917469897710' not in persistent cache.\n",
      "Key '8415347399336694980' not in persistent cache.\n",
      "Key '-6766564572374298330' not in persistent cache.\n",
      "Key '442796198127355765' not in persistent cache.\n",
      "Key '1864352870681421304' not in persistent cache.\n",
      "Key '-7614246037861157738' not in persistent cache.\n",
      "Key '-404885267359503643' not in persistent cache.\n",
      "Key '1016671405194561896' not in persistent cache.\n",
      "Key '-5132630977130430108' not in persistent cache.\n",
      "Key '-9204385776729258296' not in persistent cache.\n",
      "Key '4168005093616470326' not in persistent cache.\n",
      "Key '3052647205611431979' not in persistent cache.\n",
      "Key '-3096655176713560025' not in persistent cache.\n",
      "Key '5895256996078342397' not in persistent cache.\n",
      "Key '422414337834324244' not in persistent cache.\n",
      "Key '2368297221991369841' not in persistent cache.\n",
      "Key '8903439308992099584' not in persistent cache.\n",
      "Key '-2333943994215797937' not in persistent cache.\n",
      "Key '996289544901530375' not in persistent cache.\n",
      "Key '8205650315403184470' not in persistent cache.\n",
      "Key '4424453128766885951' not in persistent cache.\n",
      "Key '-6812930174441011570' not in persistent cache.\n",
      "Key '-5391373501886946031' not in persistent cache.\n",
      "Key '-7823943121794668248' not in persistent cache.\n",
      "Key '-7660611639927870978' not in persistent cache.\n",
      "Key '-6239054967373805439' not in persistent cache.\n",
      "Key '8706058629661242870' not in persistent cache.\n",
      "Key '982684592062238558' not in persistent cache.\n",
      "Key '1209289149048125403' not in persistent cache.\n",
      "Key '-4597920343695872376' not in persistent cache.\n",
      "Key '43426869030148053' not in persistent cache.\n",
      "Key '9009961187983179076' not in persistent cache.\n",
      "Key '-2129203168076770515' not in persistent cache.\n",
      "Key '-5155435809474256922' not in persistent cache.\n",
      "Key '-552388850895848612' not in persistent cache.\n",
      "Key '-4861114234187730822' not in persistent cache.\n",
      "Key '3419391030120650221' not in persistent cache.\n",
      "Key '-1739555973864333681' not in persistent cache.\n",
      "Key '4556240413519058394' not in persistent cache.\n",
      "Key '9142608734413687021' not in persistent cache.\n",
      "Key '-4380589786769504473' not in persistent cache.\n",
      "Key '8764649571384991361' not in persistent cache.\n",
      "Key '8170152847833018831' not in persistent cache.\n",
      "Key '7202619687491294299' not in persistent cache.\n",
      "Key '-1704550721716026224' not in persistent cache.\n",
      "Key '4334535681459334648' not in persistent cache.\n",
      "Key '2472344762642165324' not in persistent cache.\n",
      "Key '6624623158723964550' not in persistent cache.\n",
      "Key '-4489771108770341118' not in persistent cache.\n",
      "Key '-380344700525580683' not in persistent cache.\n",
      "Key '443034708054117265' not in persistent cache.\n",
      "Key '-3732301297766796929' not in persistent cache.\n",
      "Key '-4180935540463395832' not in persistent cache.\n",
      "Key '5286236681754767342' not in persistent cache.\n",
      "Key '-3857234728905097376' not in persistent cache.\n",
      "Key '-3007575041680721733' not in persistent cache.\n",
      "Key '4772265836400682747' not in persistent cache.\n",
      "Key '-3213381310038718116' not in persistent cache.\n",
      "Key '-1977266741819050447' not in persistent cache.\n",
      "Key '-8856228129276499491' not in persistent cache.\n",
      "Key '1260026608005231750' not in persistent cache.\n",
      "Key '4628917172522020879' not in persistent cache.\n",
      "Key '2834531011850928368' not in persistent cache.\n",
      "Key '-7288272789458135832' not in persistent cache.\n",
      "Key '4182074131196756746' not in persistent cache.\n",
      "Key '-3361076890964717188' not in persistent cache.\n",
      "Key '3855619379905795270' not in persistent cache.\n",
      "Key '-6495242651381796857' not in persistent cache.\n",
      "Key '-7301071952793270256' not in persistent cache.\n",
      "Key '7652512073784619528' not in persistent cache.\n",
      "Key '-3699872641379841958' not in persistent cache.\n",
      "Key '-3834933690507191596' not in persistent cache.\n",
      "Key '2433589476112215010' not in persistent cache.\n",
      "Key '-4845982133495137753' not in persistent cache.\n",
      "Key '2377948174763204155' not in persistent cache.\n",
      "Key '-7472820712184390244' not in persistent cache.\n",
      "Key '5395666041063407129' not in persistent cache.\n",
      "Key '2543983374962017250' not in persistent cache.\n",
      "Key '6786992902209667885' not in persistent cache.\n",
      "Key '-2180304092296480512' not in persistent cache.\n",
      "Key '7832989415204945389' not in persistent cache.\n",
      "Key '7204373599043365468' not in persistent cache.\n",
      "Key '3618528336964656219' not in persistent cache.\n",
      "Key '-2069052999886950476' not in persistent cache.\n",
      "Key '-1000742457638815807' not in persistent cache.\n",
      "Key '8858964947656308119' not in persistent cache.\n",
      "Key '-201415588619134270' not in persistent cache.\n",
      "Key '-1511183573809228697' not in persistent cache.\n",
      "Key '4760493296114377335' not in persistent cache.\n",
      "Key '2892005976975995514' not in persistent cache.\n",
      "Key '-1496771550721405591' not in persistent cache.\n",
      "Key '-6063066579931672233' not in persistent cache.\n",
      "Key '1710945536000331289' not in persistent cache.\n",
      "Key '5444485816561759508' not in persistent cache.\n",
      "Key '-4433761512331372049' not in persistent cache.\n",
      "Key '4773483471186185194' not in persistent cache.\n",
      "Key '8677484751913551231' not in persistent cache.\n",
      "Key '-5668485093919764712' not in persistent cache.\n",
      "Key '7172805600085326345' not in persistent cache.\n",
      "Key '-4144537856352327573' not in persistent cache.\n",
      "Key '7964139163805552536' not in persistent cache.\n",
      "Key '-3207271188157602704' not in persistent cache.\n",
      "Key '-4866351974185869967' not in persistent cache.\n",
      "Key '-8017168817960005318' not in persistent cache.\n",
      "Key '-644195383499389760' not in persistent cache.\n",
      "Key '552015224474175852' not in persistent cache.\n",
      "Key '-8461829270014492303' not in persistent cache.\n",
      "Key '7851545506004992713' not in persistent cache.\n",
      "Key '-8054033130925456639' not in persistent cache.\n",
      "Key '-7558682389692119843' not in persistent cache.\n",
      "Key '6624303660399605952' not in persistent cache.\n",
      "Key '149266346475836149' not in persistent cache.\n",
      "Key '-6610016998114059638' not in persistent cache.\n",
      "Key '8226137256593173467' not in persistent cache.\n",
      "Key '-9213564203922380236' not in persistent cache.\n",
      "Key '5167945765282018243' not in persistent cache.\n",
      "Key '-1147789015124377994' not in persistent cache.\n",
      "Key '-2539281225983862060' not in persistent cache.\n",
      "Key '8501571741977789225' not in persistent cache.\n",
      "Key '415110645372666425' not in persistent cache.\n",
      "Key '9184894729098347270' not in persistent cache.\n",
      "Key '457989376028063692' not in persistent cache.\n",
      "Key '7300136888215699506' not in persistent cache.\n",
      "Key '7759589117620432770' not in persistent cache.\n",
      "Key '7689813654917246499' not in persistent cache.\n",
      "Key '6810296520484812938' not in persistent cache.\n",
      "Key '-3561717152709465395' not in persistent cache.\n",
      "Key '-1876064411465976873' not in persistent cache.\n",
      "Key '786027248656500427' not in persistent cache.\n",
      "Key '7450045900844370156' not in persistent cache.\n",
      "Key '8358632782464700416' not in persistent cache.\n",
      "Key '-3539428545632128161' not in persistent cache.\n",
      "Key '-8613781748995951155' not in persistent cache.\n",
      "Key '-6160223123800733964' not in persistent cache.\n",
      "Key '-3586207528683099613' not in persistent cache.\n",
      "Key '-2563293192107088127' not in persistent cache.\n",
      "Key '8836077720271681435' not in persistent cache.\n",
      "Key '3261866646300900468' not in persistent cache.\n",
      "Key '-4580833547471446208' not in persistent cache.\n",
      "Key '-1312861052381128402' not in persistent cache.\n",
      "Key '3795264522464425678' not in persistent cache.\n",
      "Key '-7759504725340624082' not in persistent cache.\n",
      "Key '5612886145005104540' not in persistent cache.\n",
      "Key '-2548501031634790632' not in persistent cache.\n",
      "Key '-6050131508309293939' not in persistent cache.\n",
      "Key '294108758832119786' not in persistent cache.\n",
      "Key '8869652791313285121' not in persistent cache.\n",
      "Key '3813178273380004055' not in persistent cache.\n"
     ]
    },
    {
     "data": {
      "text/plain": [
       "  id  value\n",
       "----  -------------------------------\n",
       "   1  Agriculture & Rural Development\n",
       "   2  Aid Effectiveness\n",
       "   3  Economy & Growth\n",
       "   4  Education\n",
       "   5  Energy & Mining\n",
       "   6  Environment\n",
       "   7  Financial Sector\n",
       "   8  Health\n",
       "   9  Infrastructure\n",
       "  10  Social Protection & Labor\n",
       "  11  Poverty\n",
       "  12  Private Sector\n",
       "  13  Public Sector\n",
       "  14  Science & Technology\n",
       "  15  Social Development\n",
       "  16  Urban Development\n",
       "  17  Gender\n",
       "  18  Millenium development goals\n",
       "  19  Climate Change\n",
       "  20  External Debt\n",
       "  21  Trade"
      ]
     },
     "execution_count": 2,
     "metadata": {},
     "output_type": "execute_result"
    }
   ],
   "source": [
    "import wbdata\n",
    "wbdata.get_topics()"
   ]
  },
  {
   "cell_type": "code",
   "execution_count": 3,
   "id": "11a8c885-a912-411f-b4fc-36d9fa401101",
   "metadata": {},
   "outputs": [],
   "source": [
    "import pandas as pd\n",
    "import numpy as np"
   ]
  },
  {
   "cell_type": "code",
   "execution_count": 4,
   "id": "a6be8c7f-7920-4270-90e0-90bf24829787",
   "metadata": {},
   "outputs": [
    {
     "name": "stderr",
     "output_type": "stream",
     "text": [
      "WARNING:shelved_cache.persistent_cache:Key '3813178273380004055' not in persistent cache.\n"
     ]
    },
    {
     "data": {
      "text/plain": [
       "  id  name\n",
       "----  --------------------------------------------------------------------\n",
       "   1  Doing Business\n",
       "   2  World Development Indicators\n",
       "   3  Worldwide Governance Indicators\n",
       "   5  Subnational Malnutrition Database\n",
       "   6  International Debt Statistics\n",
       "  11  Africa Development Indicators\n",
       "  12  Education Statistics\n",
       "  13  Enterprise Surveys\n",
       "  14  Gender Statistics\n",
       "  15  Global Economic Monitor\n",
       "  16  Health Nutrition and Population Statistics\n",
       "  18  IDA Results Measurement System\n",
       "  19  Millennium Development Goals\n",
       "  20  Quarterly Public Sector Debt\n",
       "  22  Quarterly External Debt Statistics SDDS\n",
       "  23  Quarterly External Debt Statistics GDDS\n",
       "  25  Jobs\n",
       "  27  Global Economic Prospects\n",
       "  28  Global Financial Inclusion\n",
       "  29  The Atlas of Social Protection: Indicators of Resilience and Equity\n",
       "  30  Exporter Dynamics Database – Indicators at Country-Year Level\n",
       "  31  Country Policy and Institutional Assessment\n",
       "  32  Global Financial Development\n",
       "  33  G20 Financial Inclusion Indicators\n",
       "  34  Global Partnership for Education\n",
       "  35  Sustainable Energy for All\n",
       "  37  LAC Equity Lab\n",
       "  38  Subnational Poverty\n",
       "  39  Health Nutrition and Population Statistics by Wealth Quintile\n",
       "  40  Population estimates and projections\n",
       "  41  Country Partnership Strategy for India (FY2013 - 17)\n",
       "  43  Adjusted Net Savings\n",
       "  45  Indonesia Database for Policy and Economic Research\n",
       "  46  Sustainable Development Goals\n",
       "  50  Subnational Population\n",
       "  54  Joint External Debt Hub\n",
       "  57  WDI Database Archives\n",
       "  58  Universal Health Coverage\n",
       "  59  Wealth Accounts\n",
       "  60  Economic Fitness\n",
       "  61  PPPs Regulatory Quality\n",
       "  62  International Comparison Program (ICP) 2011\n",
       "  63  Human Capital Index\n",
       "  64  Worldwide Bureaucracy Indicators\n",
       "  65  Health Equity and Financial Protection Indicators\n",
       "  66  Logistics Performance Index\n",
       "  67  PEFA 2011\n",
       "  68  PEFA 2016\n",
       "  69  Global Financial Inclusion and Consumer Protection Survey\n",
       "  70  Economic Fitness 2\n",
       "  71  International Comparison Program (ICP) 2005\n",
       "  73  Global Financial Inclusion and Consumer Protection Survey (Internal)\n",
       "  75  Environment, Social and Governance (ESG) Data\n",
       "  76  Remittance Prices Worldwide (Sending Countries)\n",
       "  77  Remittance Prices Worldwide (Receiving Countries)\n",
       "  78  ICP 2017\n",
       "  79  PEFA_GRPFM\n",
       "  80  Gender Disaggregated Labor Database (GDLD)\n",
       "  81  International Debt Statistics: DSSI\n",
       "  82  Global Public Procurement\n",
       "  83  Statistical Performance Indicators (SPI)\n",
       "  84  Education Policy\n",
       "  85  PEFA_2021_SNG\n",
       "  86  Global Jobs Indicators Database (JOIN)\n",
       "  87  Country Climate and Development Report (CCDR)\n",
       "  88  Food Prices for Nutrition\n",
       "  89  Identification for Development (ID4D) Data\n",
       "  90  ICP 2021\n",
       "  91  PEFA_CRPFM"
      ]
     },
     "execution_count": 4,
     "metadata": {},
     "output_type": "execute_result"
    }
   ],
   "source": [
    "wbdata.get_sources()"
   ]
  },
  {
   "cell_type": "code",
   "execution_count": 7,
   "id": "b45070da-7ebb-490e-aeb3-5a03335021a9",
   "metadata": {
    "scrolled": true
   },
   "outputs": [
    {
     "data": {
      "text/plain": [
       "id                 name\n",
       "-----------------  -------------------------------------------------------------------\n",
       "SH.DTH.0509        Number of deaths ages 5-9 years\n",
       "SH.DTH.0514        Number of deaths ages 5-14 years\n",
       "SH.DTH.1014        Number of deaths ages 10-14 years\n",
       "SH.DTH.1019        Number of deaths ages 10-19 years\n",
       "SH.DTH.1519        Number of deaths ages 15-19 years\n",
       "SH.DTH.2024        Number of deaths ages 20-24 years\n",
       "SH.DTH.IMRT        Number of infant deaths\n",
       "SH.DTH.IMRT.FE     Number of infant deaths, female\n",
       "SH.DTH.IMRT.MA     Number of infant deaths, male\n",
       "SH.DTH.MORT        Number of under-five deaths\n",
       "SH.DTH.MORT.FE     Number of under-five deaths, female\n",
       "SH.DTH.MORT.MA     Number of under-five deaths, male\n",
       "SH.DTH.NMRT        Number of neonatal deaths\n",
       "SH.DYN.0509        Probability of dying among children ages 5-9 years (per 1,000)\n",
       "SH.DYN.0514        Probability of dying at age 5-14 years (per 1,000 children age 5)\n",
       "SH.DYN.1014        Probability of dying among adolescents ages 10-14 years (per 1,000)\n",
       "SH.DYN.1019        Probability of dying among adolescents ages 10-19 years (per 1,000)\n",
       "SH.DYN.1519        Probability of dying among adolescents ages 15-19 years (per 1,000)\n",
       "SH.DYN.2024        Probability of dying among youth ages 20-24 years (per 1,000)\n",
       "SH.DYN.MORT        Mortality rate, under-5 (per 1,000 live births)\n",
       "SH.DYN.MORT.FE     Mortality rate, under-5, female (per 1,000 live births)\n",
       "SH.DYN.MORT.MA     Mortality rate, under-5, male (per 1,000 live births)\n",
       "SH.DYN.NMRT        Mortality rate, neonatal (per 1,000 live births)\n",
       "SM.POP.NETM        Net migration\n",
       "SP.DYN.AMRT.FE     Mortality rate, adult, female (per 1,000 female adults)\n",
       "SP.DYN.AMRT.MA     Mortality rate, adult, male (per 1,000 male adults)\n",
       "SP.DYN.CBRT.IN     Birth rate, crude (per 1,000 people)\n",
       "SP.DYN.CDRT.IN     Death rate, crude (per 1,000 people)\n",
       "SP.DYN.IMRT.FE.IN  Mortality rate, infant, female (per 1,000 live births)\n",
       "SP.DYN.IMRT.IN     Mortality rate, infant (per 1,000 live births)\n",
       "SP.DYN.IMRT.MA.IN  Mortality rate, infant, male (per 1,000 live births)\n",
       "SP.DYN.LE00.FE.IN  Life expectancy at birth, female (years)\n",
       "SP.DYN.LE00.IN     Life expectancy at birth, total (years)\n",
       "SP.DYN.LE00.MA.IN  Life expectancy at birth, male (years)\n",
       "SP.DYN.TFRT.IN     Fertility rate, total (births per woman)\n",
       "SP.POP.0004.FE     Population ages 00-04, female\n",
       "SP.POP.0004.FE.5Y  Population ages 00-04, female (% of female population)\n",
       "SP.POP.0004.MA     Population ages 00-04, male\n",
       "SP.POP.0004.MA.5Y  Population ages 00-04, male (% of male population)\n",
       "SP.POP.0014.FE.IN  Population ages 0-14, female\n",
       "SP.POP.0014.FE.ZS  Population ages 0-14, female (% of female population)\n",
       "SP.POP.0014.MA.IN  Population ages 0-14, male\n",
       "SP.POP.0014.MA.ZS  Population ages 0-14, male (% of male population)\n",
       "SP.POP.0014.TO     Population ages 0-14, total\n",
       "SP.POP.0014.TO.ZS  Population ages 0-14 (% of total population)\n",
       "SP.POP.0509.FE     Population ages 05-09, female\n",
       "SP.POP.0509.FE.5Y  Population ages 05-09, female (% of female population)\n",
       "SP.POP.0509.MA     Population ages 05-09, male\n",
       "SP.POP.0509.MA.5Y  Population ages 05-09, male (% of male population)\n",
       "SP.POP.1014.FE     Population ages 10-14, female\n",
       "SP.POP.1014.FE.5Y  Population ages 10-14, female (% of female population)\n",
       "SP.POP.1014.MA     Population ages 10-14, male\n",
       "SP.POP.1014.MA.5Y  Population ages 10-14, male (% of male population)\n",
       "SP.POP.1519.FE     Population ages 15-19, female\n",
       "SP.POP.1519.FE.5Y  Population ages 15-19, female (% of female population)\n",
       "SP.POP.1519.MA     Population ages 15-19, male\n",
       "SP.POP.1519.MA.5Y  Population ages 15-19, male (% of male population)\n",
       "SP.POP.1564.FE.IN  Population ages 15-64, female\n",
       "SP.POP.1564.FE.ZS  Population ages 15-64, female (% of female population)\n",
       "SP.POP.1564.MA.IN  Population ages 15-64, male\n",
       "SP.POP.1564.MA.ZS  Population ages 15-64, male (% of male population)\n",
       "SP.POP.1564.TO     Population ages 15-64, total\n",
       "SP.POP.1564.TO.ZS  Population ages 15-64 (% of total population)\n",
       "SP.POP.2024.FE     Population ages 20-24, female\n",
       "SP.POP.2024.FE.5Y  Population ages 20-24, female (% of female population)\n",
       "SP.POP.2024.MA     Population ages 20-24, male\n",
       "SP.POP.2024.MA.5Y  Population ages 20-24, male (% of male population)\n",
       "SP.POP.2529.FE     Population ages 25-29, female\n",
       "SP.POP.2529.FE.5Y  Population ages 25-29, female (% of female population)\n",
       "SP.POP.2529.MA     Population ages 25-29, male\n",
       "SP.POP.2529.MA.5Y  Population ages 25-29, male (% of male population)\n",
       "SP.POP.3034.FE     Population ages 30-34, female\n",
       "SP.POP.3034.FE.5Y  Population ages 30-34, female (% of female population)\n",
       "SP.POP.3034.MA     Population ages 30-34, male\n",
       "SP.POP.3034.MA.5Y  Population ages 30-34, male (% of male population)\n",
       "SP.POP.3539.FE     Population ages 35-39, female\n",
       "SP.POP.3539.FE.5Y  Population ages 35-39, female (% of female population)\n",
       "SP.POP.3539.MA     Population ages 35-39, male\n",
       "SP.POP.3539.MA.5Y  Population ages 35-39, male (% of male population)\n",
       "SP.POP.4044.FE     Population ages 40-44, female\n",
       "SP.POP.4044.FE.5Y  Population ages 40-44, female (% of female population)\n",
       "SP.POP.4044.MA     Population ages 40-44, male\n",
       "SP.POP.4044.MA.5Y  Population ages 40-44, male (% of male population)\n",
       "SP.POP.4549.FE     Population ages 45-49, female\n",
       "SP.POP.4549.FE.5Y  Population ages 45-49, female (% of female population)\n",
       "SP.POP.4549.MA     Population ages 45-49, male\n",
       "SP.POP.4549.MA.5Y  Population ages 45-49, male (% of male population)\n",
       "SP.POP.5054.FE     Population ages 50-54, female\n",
       "SP.POP.5054.FE.5Y  Population ages 50-54, female (% of female population)\n",
       "SP.POP.5054.MA     Population ages 50-54, male\n",
       "SP.POP.5054.MA.5Y  Population ages 50-54, male (% of male population)\n",
       "SP.POP.5559.FE     Population ages 55-59, female\n",
       "SP.POP.5559.FE.5Y  Population ages 55-59, female (% of female population)\n",
       "SP.POP.5559.MA     Population ages 55-59, male\n",
       "SP.POP.5559.MA.5Y  Population ages 55-59, male (% of male population)\n",
       "SP.POP.6064.FE     Population ages 60-64, female\n",
       "SP.POP.6064.FE.5Y  Population ages 60-64, female (% of female population)\n",
       "SP.POP.6064.MA     Population ages 60-64, male\n",
       "SP.POP.6064.MA.5Y  Population ages 60-64, male (% of male population)\n",
       "SP.POP.6569.FE     Population ages 65-69, female\n",
       "SP.POP.6569.FE.5Y  Population ages 65-69, female (% of female population)\n",
       "SP.POP.6569.MA     Population ages 65-69, male\n",
       "SP.POP.6569.MA.5Y  Population ages 65-69, male (% of male population)\n",
       "SP.POP.65UP.FE.IN  Population ages 65 and above, female\n",
       "SP.POP.65UP.FE.ZS  Population ages 65 and above, female (% of female population)\n",
       "SP.POP.65UP.MA.IN  Population ages 65 and above, male\n",
       "SP.POP.65UP.MA.ZS  Population ages 65 and above, male (% of male population)\n",
       "SP.POP.65UP.TO     Population ages 65 and above, total\n",
       "SP.POP.65UP.TO.ZS  Population ages 65 and above (% of total population)\n",
       "SP.POP.7074.FE     Population ages 70-74, female\n",
       "SP.POP.7074.FE.5Y  Population ages 70-74, female (% of female population)\n",
       "SP.POP.7074.MA     Population ages 70-74, male\n",
       "SP.POP.7074.MA.5Y  Population ages 70-74, male (% of male population)\n",
       "SP.POP.7579.FE     Population ages 75-79, female\n",
       "SP.POP.7579.FE.5Y  Population ages 75-79, female (% of female population)\n",
       "SP.POP.7579.MA     Population ages 75-79, male\n",
       "SP.POP.7579.MA.5Y  Population ages 75-79, male (% of male population)\n",
       "SP.POP.80UP.FE     Population ages 80 and above, female\n",
       "SP.POP.80UP.FE.5Y  Population ages 80 and above, female (% of female population)\n",
       "SP.POP.80UP.MA     Population ages 80 and above, male\n",
       "SP.POP.80UP.MA.5Y  Population ages 80 and above, male (% of male population)\n",
       "SP.POP.AG00.FE.IN  Age population, age 00, female, interpolated\n",
       "SP.POP.AG00.MA.IN  Age population, age 00, male, interpolated\n",
       "SP.POP.AG01.FE.IN  Age population, age 01, female, interpolated\n",
       "SP.POP.AG01.MA.IN  Age population, age 01, male, interpolated\n",
       "SP.POP.AG02.FE.IN  Age population, age 02, female, interpolated\n",
       "SP.POP.AG02.MA.IN  Age population, age 02, male, interpolated\n",
       "SP.POP.AG03.FE.IN  Age population, age 03, female, interpolated\n",
       "SP.POP.AG03.MA.IN  Age population, age 03, male, interpolated\n",
       "SP.POP.AG04.FE.IN  Age population, age 04, female, interpolated\n",
       "SP.POP.AG04.MA.IN  Age population, age 04, male, interpolated\n",
       "SP.POP.AG05.FE.IN  Age population, age 05, female, interpolated\n",
       "SP.POP.AG05.MA.IN  Age population, age 05, male, interpolated\n",
       "SP.POP.AG06.FE.IN  Age population, age 06, female, interpolated\n",
       "SP.POP.AG06.MA.IN  Age population, age 06, male, interpolated\n",
       "SP.POP.AG07.FE.IN  Age population, age 07, female, interpolated\n",
       "SP.POP.AG07.MA.IN  Age population, age 07, male, interpolated\n",
       "SP.POP.AG08.FE.IN  Age population, age 08, female, interpolated\n",
       "SP.POP.AG08.MA.IN  Age population, age 08, male, interpolated\n",
       "SP.POP.AG09.FE.IN  Age population, age 09, female, interpolated\n",
       "SP.POP.AG09.MA.IN  Age population, age 09, male, interpolated\n",
       "SP.POP.AG10.FE.IN  Age population, age 10, female, interpolated\n",
       "SP.POP.AG10.MA.IN  Age population, age 10, male, interpolated\n",
       "SP.POP.AG11.FE.IN  Age population, age 11, female, interpolated\n",
       "SP.POP.AG11.MA.IN  Age population, age 11, male, interpolated\n",
       "SP.POP.AG12.FE.IN  Age population, age 12, female, interpolated\n",
       "SP.POP.AG12.MA.IN  Age population, age 12, male, interpolated\n",
       "SP.POP.AG13.FE.IN  Age population, age 13, female, interpolated\n",
       "SP.POP.AG13.MA.IN  Age population, age 13, male, interpolated\n",
       "SP.POP.AG14.FE.IN  Age population, age 14, female, interpolated\n",
       "SP.POP.AG14.MA.IN  Age population, age 14, male, interpolated\n",
       "SP.POP.AG15.FE.IN  Age population, age 15, female, interpolated\n",
       "SP.POP.AG15.MA.IN  Age population, age 15, male, interpolated\n",
       "SP.POP.AG16.FE.IN  Age population, age 16, female, interpolated\n",
       "SP.POP.AG16.MA.IN  Age population, age 16, male, interpolated\n",
       "SP.POP.AG17.FE.IN  Age population, age 17, female, interpolated\n",
       "SP.POP.AG17.MA.IN  Age population, age 17, male, interpolated\n",
       "SP.POP.AG18.FE.IN  Age population, age 18, female, interpolated\n",
       "SP.POP.AG18.MA.IN  Age population, age 18, male, interpolated\n",
       "SP.POP.AG19.FE.IN  Age population, age 19, female, interpolated\n",
       "SP.POP.AG19.MA.IN  Age population, age 19, male, interpolated\n",
       "SP.POP.AG20.FE.IN  Age population, age 20, female, interpolated\n",
       "SP.POP.AG20.MA.IN  Age population, age 20, male, interpolated\n",
       "SP.POP.AG21.FE.IN  Age population, age 21, female, interpolated\n",
       "SP.POP.AG21.MA.IN  Age population, age 21, male, interpolated\n",
       "SP.POP.AG22.FE.IN  Age population, age 22, female, interpolated\n",
       "SP.POP.AG22.MA.IN  Age population, age 22, male, interpolated\n",
       "SP.POP.AG23.FE.IN  Age population, age 23, female, interpolated\n",
       "SP.POP.AG23.MA.IN  Age population, age 23, male, interpolated\n",
       "SP.POP.AG24.FE.IN  Age population, age 24, female, interpolated\n",
       "SP.POP.AG24.MA.IN  Age population, age 24, male, interpolated\n",
       "SP.POP.AG25.FE.IN  Age population, age 25, female, interpolated\n",
       "SP.POP.AG25.MA.IN  Age population, age 25, male, interpolated\n",
       "SP.POP.BRTH.MF     Sex ratio at birth (male births per female births)\n",
       "SP.POP.DPND        Age dependency ratio (% of working-age population)\n",
       "SP.POP.DPND.OL     Age dependency ratio, old (% of working-age population)\n",
       "SP.POP.DPND.YG     Age dependency ratio, young (% of working-age population)\n",
       "SP.POP.GROW        Population growth (annual %)\n",
       "SP.POP.TOTL        Population, total\n",
       "SP.POP.TOTL.FE.IN  Population, female\n",
       "SP.POP.TOTL.FE.ZS  Population, female (% of total population)\n",
       "SP.POP.TOTL.MA.IN  Population, male\n",
       "SP.POP.TOTL.MA.ZS  Population, male (% of total population)\n",
       "SP.RUR.TOTL        Rural population\n",
       "SP.RUR.TOTL.ZG     Rural population growth (annual %)\n",
       "SP.RUR.TOTL.ZS     Rural population (% of total population)\n",
       "SP.URB.GROW        Urban population growth (annual %)\n",
       "SP.URB.TOTL        Urban population\n",
       "SP.URB.TOTL.IN.ZS  Urban population (% of total population)"
      ]
     },
     "execution_count": 7,
     "metadata": {},
     "output_type": "execute_result"
    }
   ],
   "source": [
    "indicators = wbdata.get_indicators(source=40)\n",
    "indicators"
   ]
  },
  {
   "cell_type": "code",
   "execution_count": 24,
   "id": "259d065c-5f78-42ab-8adf-f0da55baffe7",
   "metadata": {},
   "outputs": [],
   "source": [
    "sexdict = {'Male':'MA', 'Female':'FE'}\n",
    "def population(year,sex,age_range,place):\n",
    "        lower, upper = age_range[0], age_range[1]\n",
    "        df = population_data_frames(sex, age_range, place).reset_index()\n",
    "        df = df[df['date'] == f'{year}-01-01'] # selecting relevant year\n",
    "        df.drop(['date', 'country'], axis=1, inplace=True)\n",
    "        extra = ((upper - (int(df.columns[-1][-4:-2]))) / 5) * (df.iloc[:,-1].to_list()[0]) # controls for age ranges not on bounds, could change to \n",
    "                                                                          # year by year subtraction\n",
    "        final = df.sum(axis=1) - extra\n",
    "        return f' There were {final.iloc[0]} {sex.lower()}s living in {place} in {year}'"
   ]
  },
  {
   "cell_type": "code",
   "execution_count": 25,
   "id": "404dc3c7-9388-495e-877c-76b69ef6fa7e",
   "metadata": {
    "scrolled": true
   },
   "outputs": [
    {
     "data": {
      "text/plain": [
       "' There were 246693887.8 males living in CHN in 1990'"
      ]
     },
     "execution_count": 25,
     "metadata": {},
     "output_type": "execute_result"
    }
   ],
   "source": [
    "population(1990, 'Male', (10,33), 'CHN')"
   ]
  },
  {
   "cell_type": "code",
   "execution_count": 65,
   "id": "1902b851-18de-4fc2-8021-5e9265c054fd",
   "metadata": {},
   "outputs": [],
   "source": [
    "def population_data_frames(sex, age_range, place,):\n",
    "    lower, upper = age_range[0], age_range[1]\n",
    "    assert upper >= lower, \"Invalid date range!\" #Part of Deliverable 2\n",
    "    assert sex in [\"Male\", \"Female\", \"Both\"], \"Invalid sex Please use one of the following: Male, Female, Both\"\n",
    "    if sex == \"Both\":\n",
    "        return population_data_frames(\"Male\",age_range,place).merge(population_data_frames(\"Female\",age_range,place), on=[\"date\", \"country\"])\n",
    "    if upper > 80:\n",
    "        upper = 'UP'\n",
    "    if upper == lower + 4:\n",
    "        label = f'SP.POP.{lower:02d}{upper}.{sexdict[sex]}.IN'\n",
    "        df = wbdata.get_dataframe(label,country=place,parse_dates=True)\n",
    "    else:\n",
    "        yrs = [(x, x+4) for x in range(lower, upper, 5)]\n",
    "        ranges = [f'{x[0]:02d}{x[1]:02d}' for x in yrs]\n",
    "        var = [f\"SP.POP.{x}.{sexdict[sex]}\" for x in ranges]\n",
    "        feed = {x: f\"{sex} {ranges[var.index(x)]}\" for x in var} # constructs variable dictionary to be fed to wbdata\n",
    "        \n",
    "        df = wbdata.get_dataframe(feed,country=place,parse_dates=True).reset_index()\n",
    "        df['country'] = place\n",
    "        df.set_index(['country', 'date'], inplace=True)\n",
    "    return df"
   ]
  },
  {
   "cell_type": "code",
   "execution_count": 66,
   "id": "0429935c-d631-4614-9bd3-633f66b237aa",
   "metadata": {},
   "outputs": [
    {
     "data": {
      "text/html": [
       "<div>\n",
       "<style scoped>\n",
       "    .dataframe tbody tr th:only-of-type {\n",
       "        vertical-align: middle;\n",
       "    }\n",
       "\n",
       "    .dataframe tbody tr th {\n",
       "        vertical-align: top;\n",
       "    }\n",
       "\n",
       "    .dataframe thead th {\n",
       "        text-align: right;\n",
       "    }\n",
       "</style>\n",
       "<table border=\"1\" class=\"dataframe\">\n",
       "  <thead>\n",
       "    <tr style=\"text-align: right;\">\n",
       "      <th></th>\n",
       "      <th></th>\n",
       "      <th>Male 0004</th>\n",
       "      <th>Male 0509</th>\n",
       "      <th>Male 1014</th>\n",
       "      <th>Male 1519</th>\n",
       "      <th>Male 2024</th>\n",
       "      <th>Male 2529</th>\n",
       "      <th>Male 3034</th>\n",
       "      <th>Male 3539</th>\n",
       "      <th>Male 4044</th>\n",
       "      <th>Male 4549</th>\n",
       "      <th>...</th>\n",
       "      <th>Female 3034</th>\n",
       "      <th>Female 3539</th>\n",
       "      <th>Female 4044</th>\n",
       "      <th>Female 4549</th>\n",
       "      <th>Female 5054</th>\n",
       "      <th>Female 5559</th>\n",
       "      <th>Female 6064</th>\n",
       "      <th>Female 6569</th>\n",
       "      <th>Female 7074</th>\n",
       "      <th>Female 7579</th>\n",
       "    </tr>\n",
       "    <tr>\n",
       "      <th>date</th>\n",
       "      <th>country</th>\n",
       "      <th></th>\n",
       "      <th></th>\n",
       "      <th></th>\n",
       "      <th></th>\n",
       "      <th></th>\n",
       "      <th></th>\n",
       "      <th></th>\n",
       "      <th></th>\n",
       "      <th></th>\n",
       "      <th></th>\n",
       "      <th></th>\n",
       "      <th></th>\n",
       "      <th></th>\n",
       "      <th></th>\n",
       "      <th></th>\n",
       "      <th></th>\n",
       "      <th></th>\n",
       "      <th></th>\n",
       "      <th></th>\n",
       "      <th></th>\n",
       "      <th></th>\n",
       "    </tr>\n",
       "  </thead>\n",
       "  <tbody>\n",
       "    <tr>\n",
       "      <th>2023-01-01</th>\n",
       "      <th>CHN</th>\n",
       "      <td>30390275.0</td>\n",
       "      <td>46921541.0</td>\n",
       "      <td>47697475.0</td>\n",
       "      <td>43619845.0</td>\n",
       "      <td>42690196.0</td>\n",
       "      <td>45996968.0</td>\n",
       "      <td>58571312.0</td>\n",
       "      <td>58164459.0</td>\n",
       "      <td>50128672.0</td>\n",
       "      <td>49849324.0</td>\n",
       "      <td>...</td>\n",
       "      <td>52861422.0</td>\n",
       "      <td>54111081.0</td>\n",
       "      <td>47658004.0</td>\n",
       "      <td>48165337.0</td>\n",
       "      <td>60432093.0</td>\n",
       "      <td>56825905.0</td>\n",
       "      <td>37771419.0</td>\n",
       "      <td>39685195.0</td>\n",
       "      <td>31522585.0</td>\n",
       "      <td>18369107.0</td>\n",
       "    </tr>\n",
       "    <tr>\n",
       "      <th>2022-01-01</th>\n",
       "      <th>CHN</th>\n",
       "      <td>34407301.0</td>\n",
       "      <td>47977432.0</td>\n",
       "      <td>46945694.0</td>\n",
       "      <td>42880142.0</td>\n",
       "      <td>43079433.0</td>\n",
       "      <td>47322938.0</td>\n",
       "      <td>61347262.0</td>\n",
       "      <td>56040230.0</td>\n",
       "      <td>48623953.0</td>\n",
       "      <td>52814513.0</td>\n",
       "      <td>...</td>\n",
       "      <td>55702933.0</td>\n",
       "      <td>52391805.0</td>\n",
       "      <td>46321543.0</td>\n",
       "      <td>51130200.0</td>\n",
       "      <td>60536192.0</td>\n",
       "      <td>56551300.0</td>\n",
       "      <td>35002089.0</td>\n",
       "      <td>39507542.0</td>\n",
       "      <td>29106909.0</td>\n",
       "      <td>17241445.0</td>\n",
       "    </tr>\n",
       "    <tr>\n",
       "      <th>2021-01-01</th>\n",
       "      <th>CHN</th>\n",
       "      <td>38802141.0</td>\n",
       "      <td>48127269.0</td>\n",
       "      <td>46077575.0</td>\n",
       "      <td>42441714.0</td>\n",
       "      <td>43637348.0</td>\n",
       "      <td>48943931.0</td>\n",
       "      <td>63431979.0</td>\n",
       "      <td>54207913.0</td>\n",
       "      <td>47300851.0</td>\n",
       "      <td>55783379.0</td>\n",
       "      <td>...</td>\n",
       "      <td>57929324.0</td>\n",
       "      <td>50904100.0</td>\n",
       "      <td>45150868.0</td>\n",
       "      <td>54098374.0</td>\n",
       "      <td>59738602.0</td>\n",
       "      <td>53597653.0</td>\n",
       "      <td>35660756.0</td>\n",
       "      <td>38793955.0</td>\n",
       "      <td>26676375.0</td>\n",
       "      <td>16375324.0</td>\n",
       "    </tr>\n",
       "    <tr>\n",
       "      <th>2020-01-01</th>\n",
       "      <th>CHN</th>\n",
       "      <td>42401148.0</td>\n",
       "      <td>48099312.0</td>\n",
       "      <td>45390757.0</td>\n",
       "      <td>42444894.0</td>\n",
       "      <td>44208685.0</td>\n",
       "      <td>51917714.0</td>\n",
       "      <td>63016755.0</td>\n",
       "      <td>52572479.0</td>\n",
       "      <td>47188710.0</td>\n",
       "      <td>58708249.0</td>\n",
       "      <td>...</td>\n",
       "      <td>57874577.0</td>\n",
       "      <td>49544962.0</td>\n",
       "      <td>45127659.0</td>\n",
       "      <td>57028683.0</td>\n",
       "      <td>58862173.0</td>\n",
       "      <td>48420766.0</td>\n",
       "      <td>37969600.0</td>\n",
       "      <td>37695737.0</td>\n",
       "      <td>24481027.0</td>\n",
       "      <td>15706266.0</td>\n",
       "    </tr>\n",
       "    <tr>\n",
       "      <th>2019-01-01</th>\n",
       "      <th>CHN</th>\n",
       "      <td>45006875.0</td>\n",
       "      <td>48004396.0</td>\n",
       "      <td>44534610.0</td>\n",
       "      <td>42626158.0</td>\n",
       "      <td>45014490.0</td>\n",
       "      <td>55706672.0</td>\n",
       "      <td>60783908.0</td>\n",
       "      <td>51377332.0</td>\n",
       "      <td>48144457.0</td>\n",
       "      <td>61076492.0</td>\n",
       "      <td>...</td>\n",
       "      <td>56135406.0</td>\n",
       "      <td>48557018.0</td>\n",
       "      <td>46127571.0</td>\n",
       "      <td>59426420.0</td>\n",
       "      <td>57903342.0</td>\n",
       "      <td>43397958.0</td>\n",
       "      <td>40213974.0</td>\n",
       "      <td>35946934.0</td>\n",
       "      <td>22477861.0</td>\n",
       "      <td>15164232.0</td>\n",
       "    </tr>\n",
       "    <tr>\n",
       "      <th>...</th>\n",
       "      <th>...</th>\n",
       "      <td>...</td>\n",
       "      <td>...</td>\n",
       "      <td>...</td>\n",
       "      <td>...</td>\n",
       "      <td>...</td>\n",
       "      <td>...</td>\n",
       "      <td>...</td>\n",
       "      <td>...</td>\n",
       "      <td>...</td>\n",
       "      <td>...</td>\n",
       "      <td>...</td>\n",
       "      <td>...</td>\n",
       "      <td>...</td>\n",
       "      <td>...</td>\n",
       "      <td>...</td>\n",
       "      <td>...</td>\n",
       "      <td>...</td>\n",
       "      <td>...</td>\n",
       "      <td>...</td>\n",
       "      <td>...</td>\n",
       "      <td>...</td>\n",
       "    </tr>\n",
       "    <tr>\n",
       "      <th>1964-01-01</th>\n",
       "      <th>CHN</th>\n",
       "      <td>53250448.0</td>\n",
       "      <td>48925593.0</td>\n",
       "      <td>45210547.0</td>\n",
       "      <td>32772310.0</td>\n",
       "      <td>27179605.0</td>\n",
       "      <td>26566937.0</td>\n",
       "      <td>24330081.0</td>\n",
       "      <td>21031169.0</td>\n",
       "      <td>18185693.0</td>\n",
       "      <td>15660355.0</td>\n",
       "      <td>...</td>\n",
       "      <td>22007969.0</td>\n",
       "      <td>19483299.0</td>\n",
       "      <td>17392150.0</td>\n",
       "      <td>15431263.0</td>\n",
       "      <td>13393101.0</td>\n",
       "      <td>11786993.0</td>\n",
       "      <td>9466826.0</td>\n",
       "      <td>6632284.0</td>\n",
       "      <td>4460153.0</td>\n",
       "      <td>2517810.0</td>\n",
       "    </tr>\n",
       "    <tr>\n",
       "      <th>1963-01-01</th>\n",
       "      <th>CHN</th>\n",
       "      <td>47951039.0</td>\n",
       "      <td>50749733.0</td>\n",
       "      <td>43265071.0</td>\n",
       "      <td>31245247.0</td>\n",
       "      <td>27269359.0</td>\n",
       "      <td>26878889.0</td>\n",
       "      <td>23871048.0</td>\n",
       "      <td>20785092.0</td>\n",
       "      <td>17811841.0</td>\n",
       "      <td>15758791.0</td>\n",
       "      <td>...</td>\n",
       "      <td>21660173.0</td>\n",
       "      <td>19354179.0</td>\n",
       "      <td>17095469.0</td>\n",
       "      <td>15479965.0</td>\n",
       "      <td>13256152.0</td>\n",
       "      <td>11717468.0</td>\n",
       "      <td>9144942.0</td>\n",
       "      <td>6641740.0</td>\n",
       "      <td>4377684.0</td>\n",
       "      <td>2488273.0</td>\n",
       "    </tr>\n",
       "    <tr>\n",
       "      <th>1962-01-01</th>\n",
       "      <th>CHN</th>\n",
       "      <td>44777918.0</td>\n",
       "      <td>50854256.0</td>\n",
       "      <td>40877563.0</td>\n",
       "      <td>29902774.0</td>\n",
       "      <td>27482213.0</td>\n",
       "      <td>26824171.0</td>\n",
       "      <td>23384228.0</td>\n",
       "      <td>20378091.0</td>\n",
       "      <td>17531795.0</td>\n",
       "      <td>15710166.0</td>\n",
       "      <td>...</td>\n",
       "      <td>21287773.0</td>\n",
       "      <td>19076777.0</td>\n",
       "      <td>16884402.0</td>\n",
       "      <td>15370624.0</td>\n",
       "      <td>13165906.0</td>\n",
       "      <td>11656254.0</td>\n",
       "      <td>8846123.0</td>\n",
       "      <td>6626940.0</td>\n",
       "      <td>4305783.0</td>\n",
       "      <td>2473695.0</td>\n",
       "    </tr>\n",
       "    <tr>\n",
       "      <th>1961-01-01</th>\n",
       "      <th>CHN</th>\n",
       "      <td>46459365.0</td>\n",
       "      <td>50481643.0</td>\n",
       "      <td>38596810.0</td>\n",
       "      <td>29125584.0</td>\n",
       "      <td>27700640.0</td>\n",
       "      <td>26562875.0</td>\n",
       "      <td>23028989.0</td>\n",
       "      <td>20175956.0</td>\n",
       "      <td>17398685.0</td>\n",
       "      <td>15571913.0</td>\n",
       "      <td>...</td>\n",
       "      <td>21019399.0</td>\n",
       "      <td>18973517.0</td>\n",
       "      <td>16813420.0</td>\n",
       "      <td>15151213.0</td>\n",
       "      <td>13242628.0</td>\n",
       "      <td>11605418.0</td>\n",
       "      <td>8661101.0</td>\n",
       "      <td>6627978.0</td>\n",
       "      <td>4325327.0</td>\n",
       "      <td>2515440.0</td>\n",
       "    </tr>\n",
       "    <tr>\n",
       "      <th>1960-01-01</th>\n",
       "      <th>CHN</th>\n",
       "      <td>51416955.0</td>\n",
       "      <td>50098089.0</td>\n",
       "      <td>36823111.0</td>\n",
       "      <td>29027168.0</td>\n",
       "      <td>28092415.0</td>\n",
       "      <td>26459425.0</td>\n",
       "      <td>22874774.0</td>\n",
       "      <td>20178976.0</td>\n",
       "      <td>17445180.0</td>\n",
       "      <td>15573208.0</td>\n",
       "      <td>...</td>\n",
       "      <td>20951533.0</td>\n",
       "      <td>19029161.0</td>\n",
       "      <td>16873602.0</td>\n",
       "      <td>15079311.0</td>\n",
       "      <td>13488469.0</td>\n",
       "      <td>11589857.0</td>\n",
       "      <td>8685206.0</td>\n",
       "      <td>6699927.0</td>\n",
       "      <td>4482097.0</td>\n",
       "      <td>2635883.0</td>\n",
       "    </tr>\n",
       "  </tbody>\n",
       "</table>\n",
       "<p>64 rows × 32 columns</p>\n",
       "</div>"
      ],
      "text/plain": [
       "                     Male 0004   Male 0509   Male 1014   Male 1519  \\\n",
       "date       country                                                   \n",
       "2023-01-01 CHN      30390275.0  46921541.0  47697475.0  43619845.0   \n",
       "2022-01-01 CHN      34407301.0  47977432.0  46945694.0  42880142.0   \n",
       "2021-01-01 CHN      38802141.0  48127269.0  46077575.0  42441714.0   \n",
       "2020-01-01 CHN      42401148.0  48099312.0  45390757.0  42444894.0   \n",
       "2019-01-01 CHN      45006875.0  48004396.0  44534610.0  42626158.0   \n",
       "...                        ...         ...         ...         ...   \n",
       "1964-01-01 CHN      53250448.0  48925593.0  45210547.0  32772310.0   \n",
       "1963-01-01 CHN      47951039.0  50749733.0  43265071.0  31245247.0   \n",
       "1962-01-01 CHN      44777918.0  50854256.0  40877563.0  29902774.0   \n",
       "1961-01-01 CHN      46459365.0  50481643.0  38596810.0  29125584.0   \n",
       "1960-01-01 CHN      51416955.0  50098089.0  36823111.0  29027168.0   \n",
       "\n",
       "                     Male 2024   Male 2529   Male 3034   Male 3539  \\\n",
       "date       country                                                   \n",
       "2023-01-01 CHN      42690196.0  45996968.0  58571312.0  58164459.0   \n",
       "2022-01-01 CHN      43079433.0  47322938.0  61347262.0  56040230.0   \n",
       "2021-01-01 CHN      43637348.0  48943931.0  63431979.0  54207913.0   \n",
       "2020-01-01 CHN      44208685.0  51917714.0  63016755.0  52572479.0   \n",
       "2019-01-01 CHN      45014490.0  55706672.0  60783908.0  51377332.0   \n",
       "...                        ...         ...         ...         ...   \n",
       "1964-01-01 CHN      27179605.0  26566937.0  24330081.0  21031169.0   \n",
       "1963-01-01 CHN      27269359.0  26878889.0  23871048.0  20785092.0   \n",
       "1962-01-01 CHN      27482213.0  26824171.0  23384228.0  20378091.0   \n",
       "1961-01-01 CHN      27700640.0  26562875.0  23028989.0  20175956.0   \n",
       "1960-01-01 CHN      28092415.0  26459425.0  22874774.0  20178976.0   \n",
       "\n",
       "                     Male 4044   Male 4549  ...  Female 3034  Female 3539  \\\n",
       "date       country                          ...                             \n",
       "2023-01-01 CHN      50128672.0  49849324.0  ...   52861422.0   54111081.0   \n",
       "2022-01-01 CHN      48623953.0  52814513.0  ...   55702933.0   52391805.0   \n",
       "2021-01-01 CHN      47300851.0  55783379.0  ...   57929324.0   50904100.0   \n",
       "2020-01-01 CHN      47188710.0  58708249.0  ...   57874577.0   49544962.0   \n",
       "2019-01-01 CHN      48144457.0  61076492.0  ...   56135406.0   48557018.0   \n",
       "...                        ...         ...  ...          ...          ...   \n",
       "1964-01-01 CHN      18185693.0  15660355.0  ...   22007969.0   19483299.0   \n",
       "1963-01-01 CHN      17811841.0  15758791.0  ...   21660173.0   19354179.0   \n",
       "1962-01-01 CHN      17531795.0  15710166.0  ...   21287773.0   19076777.0   \n",
       "1961-01-01 CHN      17398685.0  15571913.0  ...   21019399.0   18973517.0   \n",
       "1960-01-01 CHN      17445180.0  15573208.0  ...   20951533.0   19029161.0   \n",
       "\n",
       "                    Female 4044  Female 4549  Female 5054  Female 5559  \\\n",
       "date       country                                                       \n",
       "2023-01-01 CHN       47658004.0   48165337.0   60432093.0   56825905.0   \n",
       "2022-01-01 CHN       46321543.0   51130200.0   60536192.0   56551300.0   \n",
       "2021-01-01 CHN       45150868.0   54098374.0   59738602.0   53597653.0   \n",
       "2020-01-01 CHN       45127659.0   57028683.0   58862173.0   48420766.0   \n",
       "2019-01-01 CHN       46127571.0   59426420.0   57903342.0   43397958.0   \n",
       "...                         ...          ...          ...          ...   \n",
       "1964-01-01 CHN       17392150.0   15431263.0   13393101.0   11786993.0   \n",
       "1963-01-01 CHN       17095469.0   15479965.0   13256152.0   11717468.0   \n",
       "1962-01-01 CHN       16884402.0   15370624.0   13165906.0   11656254.0   \n",
       "1961-01-01 CHN       16813420.0   15151213.0   13242628.0   11605418.0   \n",
       "1960-01-01 CHN       16873602.0   15079311.0   13488469.0   11589857.0   \n",
       "\n",
       "                    Female 6064  Female 6569  Female 7074  Female 7579  \n",
       "date       country                                                      \n",
       "2023-01-01 CHN       37771419.0   39685195.0   31522585.0   18369107.0  \n",
       "2022-01-01 CHN       35002089.0   39507542.0   29106909.0   17241445.0  \n",
       "2021-01-01 CHN       35660756.0   38793955.0   26676375.0   16375324.0  \n",
       "2020-01-01 CHN       37969600.0   37695737.0   24481027.0   15706266.0  \n",
       "2019-01-01 CHN       40213974.0   35946934.0   22477861.0   15164232.0  \n",
       "...                         ...          ...          ...          ...  \n",
       "1964-01-01 CHN        9466826.0    6632284.0    4460153.0    2517810.0  \n",
       "1963-01-01 CHN        9144942.0    6641740.0    4377684.0    2488273.0  \n",
       "1962-01-01 CHN        8846123.0    6626940.0    4305783.0    2473695.0  \n",
       "1961-01-01 CHN        8661101.0    6627978.0    4325327.0    2515440.0  \n",
       "1960-01-01 CHN        8685206.0    6699927.0    4482097.0    2635883.0  \n",
       "\n",
       "[64 rows x 32 columns]"
      ]
     },
     "execution_count": 66,
     "metadata": {},
     "output_type": "execute_result"
    }
   ],
   "source": [
    "df = population_data_frames(\"Both\", (0,80), 'CHN')\n",
    "df"
   ]
  },
  {
   "cell_type": "markdown",
   "id": "e7f7bd41-7318-4fca-a9b7-11cec08170f0",
   "metadata": {},
   "source": [
    "Deliverable 4: Population Pyramids Function"
   ]
  },
  {
   "cell_type": "code",
   "execution_count": 67,
   "id": "567ac807-b491-4107-a555-fe067061a43a",
   "metadata": {},
   "outputs": [],
   "source": [
    "import plotly.offline as py\n",
    "import plotly.graph_objs as go\n",
    "import pandas as pd\n",
    "import numpy as np\n",
    "\n",
    "def population_pyramid(df,year):\n",
    "    \"\"\"Plots population pyramid given dataframe from population dataframe function and year.\"\"\"\n",
    "    df = df.reset_index()\n",
    "    df = df.drop('country',axis=1)\n",
    "    df = df.set_index('date')\n",
    "    year = f\"{year}-01-01\"\n",
    "    age_ranges = [f\"{i:02d}{i+4:02d}\" for i in range(0, 80, 5)]\n",
    "    age_ranges.append(\"80UP\")\n",
    "    layout = go.Layout(barmode='overlay',\n",
    "                   yaxis=go.layout.YAxis(range=[0, 90], title='Age'),\n",
    "                   xaxis=go.layout.XAxis(title='Population'))\n",
    "    bins = [go.Bar(x = df.loc[year,:].filter(regex=\"Male\").values,\n",
    "               y = [int(s[:2])+1 for s in age_ranges],\n",
    "               orientation='h',\n",
    "               name='Men',\n",
    "               marker=dict(color='blue'),\n",
    "               hoverinfo='skip'\n",
    "               ),\n",
    "\n",
    "        go.Bar(x = -df.loc[year,:].filter(regex=\"Female\").values,\n",
    "               y=[int(s[:2])+1 for s in age_ranges],\n",
    "               orientation='h',\n",
    "               name='Women',\n",
    "               marker=dict(color='pink'),\n",
    "               hoverinfo='skip',\n",
    "               )\n",
    "        ]\n",
    "    py.iplot(dict(data=bins, layout=layout))"
   ]
  },
  {
   "cell_type": "code",
   "execution_count": 68,
   "id": "7697a2e9-2316-4eaa-999d-3d684556b99f",
   "metadata": {},
   "outputs": [
    {
     "data": {
      "application/vnd.plotly.v1+json": {
       "config": {
        "linkText": "Export to plot.ly",
        "plotlyServerURL": "https://plot.ly",
        "showLink": false
       },
       "data": [
        {
         "hoverinfo": "skip",
         "marker": {
          "color": "blue"
         },
         "name": "Men",
         "orientation": "h",
         "type": "bar",
         "x": [
          65511275,
          54628101,
          49441049,
          62257922,
          64411127,
          53476141,
          42769122,
          43655412,
          31974204,
          24645669,
          22870118,
          20323469,
          15977181,
          11880936,
          7706014,
          4402262
         ],
         "y": [
          1,
          6,
          11,
          16,
          21,
          26,
          31,
          36,
          41,
          46,
          51,
          56,
          61,
          66,
          71,
          76,
          81
         ]
        },
        {
         "hoverinfo": "skip",
         "marker": {
          "color": "pink"
         },
         "name": "Women",
         "orientation": "h",
         "type": "bar",
         "x": [
          -59762660,
          -50964545,
          -46601384,
          -59104964,
          -61533330,
          -51338467,
          -41296411,
          -42679533,
          -30259538,
          -22704285,
          -20864952,
          -19405181,
          -16051536,
          -13072787,
          -9623710,
          -6358856
         ],
         "y": [
          1,
          6,
          11,
          16,
          21,
          26,
          31,
          36,
          41,
          46,
          51,
          56,
          61,
          66,
          71,
          76,
          81
         ]
        }
       ],
       "layout": {
        "barmode": "overlay",
        "template": {
         "data": {
          "bar": [
           {
            "error_x": {
             "color": "#2a3f5f"
            },
            "error_y": {
             "color": "#2a3f5f"
            },
            "marker": {
             "line": {
              "color": "#E5ECF6",
              "width": 0.5
             },
             "pattern": {
              "fillmode": "overlay",
              "size": 10,
              "solidity": 0.2
             }
            },
            "type": "bar"
           }
          ],
          "barpolar": [
           {
            "marker": {
             "line": {
              "color": "#E5ECF6",
              "width": 0.5
             },
             "pattern": {
              "fillmode": "overlay",
              "size": 10,
              "solidity": 0.2
             }
            },
            "type": "barpolar"
           }
          ],
          "carpet": [
           {
            "aaxis": {
             "endlinecolor": "#2a3f5f",
             "gridcolor": "white",
             "linecolor": "white",
             "minorgridcolor": "white",
             "startlinecolor": "#2a3f5f"
            },
            "baxis": {
             "endlinecolor": "#2a3f5f",
             "gridcolor": "white",
             "linecolor": "white",
             "minorgridcolor": "white",
             "startlinecolor": "#2a3f5f"
            },
            "type": "carpet"
           }
          ],
          "choropleth": [
           {
            "colorbar": {
             "outlinewidth": 0,
             "ticks": ""
            },
            "type": "choropleth"
           }
          ],
          "contour": [
           {
            "colorbar": {
             "outlinewidth": 0,
             "ticks": ""
            },
            "colorscale": [
             [
              0,
              "#0d0887"
             ],
             [
              0.1111111111111111,
              "#46039f"
             ],
             [
              0.2222222222222222,
              "#7201a8"
             ],
             [
              0.3333333333333333,
              "#9c179e"
             ],
             [
              0.4444444444444444,
              "#bd3786"
             ],
             [
              0.5555555555555556,
              "#d8576b"
             ],
             [
              0.6666666666666666,
              "#ed7953"
             ],
             [
              0.7777777777777778,
              "#fb9f3a"
             ],
             [
              0.8888888888888888,
              "#fdca26"
             ],
             [
              1,
              "#f0f921"
             ]
            ],
            "type": "contour"
           }
          ],
          "contourcarpet": [
           {
            "colorbar": {
             "outlinewidth": 0,
             "ticks": ""
            },
            "type": "contourcarpet"
           }
          ],
          "heatmap": [
           {
            "colorbar": {
             "outlinewidth": 0,
             "ticks": ""
            },
            "colorscale": [
             [
              0,
              "#0d0887"
             ],
             [
              0.1111111111111111,
              "#46039f"
             ],
             [
              0.2222222222222222,
              "#7201a8"
             ],
             [
              0.3333333333333333,
              "#9c179e"
             ],
             [
              0.4444444444444444,
              "#bd3786"
             ],
             [
              0.5555555555555556,
              "#d8576b"
             ],
             [
              0.6666666666666666,
              "#ed7953"
             ],
             [
              0.7777777777777778,
              "#fb9f3a"
             ],
             [
              0.8888888888888888,
              "#fdca26"
             ],
             [
              1,
              "#f0f921"
             ]
            ],
            "type": "heatmap"
           }
          ],
          "heatmapgl": [
           {
            "colorbar": {
             "outlinewidth": 0,
             "ticks": ""
            },
            "colorscale": [
             [
              0,
              "#0d0887"
             ],
             [
              0.1111111111111111,
              "#46039f"
             ],
             [
              0.2222222222222222,
              "#7201a8"
             ],
             [
              0.3333333333333333,
              "#9c179e"
             ],
             [
              0.4444444444444444,
              "#bd3786"
             ],
             [
              0.5555555555555556,
              "#d8576b"
             ],
             [
              0.6666666666666666,
              "#ed7953"
             ],
             [
              0.7777777777777778,
              "#fb9f3a"
             ],
             [
              0.8888888888888888,
              "#fdca26"
             ],
             [
              1,
              "#f0f921"
             ]
            ],
            "type": "heatmapgl"
           }
          ],
          "histogram": [
           {
            "marker": {
             "pattern": {
              "fillmode": "overlay",
              "size": 10,
              "solidity": 0.2
             }
            },
            "type": "histogram"
           }
          ],
          "histogram2d": [
           {
            "colorbar": {
             "outlinewidth": 0,
             "ticks": ""
            },
            "colorscale": [
             [
              0,
              "#0d0887"
             ],
             [
              0.1111111111111111,
              "#46039f"
             ],
             [
              0.2222222222222222,
              "#7201a8"
             ],
             [
              0.3333333333333333,
              "#9c179e"
             ],
             [
              0.4444444444444444,
              "#bd3786"
             ],
             [
              0.5555555555555556,
              "#d8576b"
             ],
             [
              0.6666666666666666,
              "#ed7953"
             ],
             [
              0.7777777777777778,
              "#fb9f3a"
             ],
             [
              0.8888888888888888,
              "#fdca26"
             ],
             [
              1,
              "#f0f921"
             ]
            ],
            "type": "histogram2d"
           }
          ],
          "histogram2dcontour": [
           {
            "colorbar": {
             "outlinewidth": 0,
             "ticks": ""
            },
            "colorscale": [
             [
              0,
              "#0d0887"
             ],
             [
              0.1111111111111111,
              "#46039f"
             ],
             [
              0.2222222222222222,
              "#7201a8"
             ],
             [
              0.3333333333333333,
              "#9c179e"
             ],
             [
              0.4444444444444444,
              "#bd3786"
             ],
             [
              0.5555555555555556,
              "#d8576b"
             ],
             [
              0.6666666666666666,
              "#ed7953"
             ],
             [
              0.7777777777777778,
              "#fb9f3a"
             ],
             [
              0.8888888888888888,
              "#fdca26"
             ],
             [
              1,
              "#f0f921"
             ]
            ],
            "type": "histogram2dcontour"
           }
          ],
          "mesh3d": [
           {
            "colorbar": {
             "outlinewidth": 0,
             "ticks": ""
            },
            "type": "mesh3d"
           }
          ],
          "parcoords": [
           {
            "line": {
             "colorbar": {
              "outlinewidth": 0,
              "ticks": ""
             }
            },
            "type": "parcoords"
           }
          ],
          "pie": [
           {
            "automargin": true,
            "type": "pie"
           }
          ],
          "scatter": [
           {
            "fillpattern": {
             "fillmode": "overlay",
             "size": 10,
             "solidity": 0.2
            },
            "type": "scatter"
           }
          ],
          "scatter3d": [
           {
            "line": {
             "colorbar": {
              "outlinewidth": 0,
              "ticks": ""
             }
            },
            "marker": {
             "colorbar": {
              "outlinewidth": 0,
              "ticks": ""
             }
            },
            "type": "scatter3d"
           }
          ],
          "scattercarpet": [
           {
            "marker": {
             "colorbar": {
              "outlinewidth": 0,
              "ticks": ""
             }
            },
            "type": "scattercarpet"
           }
          ],
          "scattergeo": [
           {
            "marker": {
             "colorbar": {
              "outlinewidth": 0,
              "ticks": ""
             }
            },
            "type": "scattergeo"
           }
          ],
          "scattergl": [
           {
            "marker": {
             "colorbar": {
              "outlinewidth": 0,
              "ticks": ""
             }
            },
            "type": "scattergl"
           }
          ],
          "scattermapbox": [
           {
            "marker": {
             "colorbar": {
              "outlinewidth": 0,
              "ticks": ""
             }
            },
            "type": "scattermapbox"
           }
          ],
          "scatterpolar": [
           {
            "marker": {
             "colorbar": {
              "outlinewidth": 0,
              "ticks": ""
             }
            },
            "type": "scatterpolar"
           }
          ],
          "scatterpolargl": [
           {
            "marker": {
             "colorbar": {
              "outlinewidth": 0,
              "ticks": ""
             }
            },
            "type": "scatterpolargl"
           }
          ],
          "scatterternary": [
           {
            "marker": {
             "colorbar": {
              "outlinewidth": 0,
              "ticks": ""
             }
            },
            "type": "scatterternary"
           }
          ],
          "surface": [
           {
            "colorbar": {
             "outlinewidth": 0,
             "ticks": ""
            },
            "colorscale": [
             [
              0,
              "#0d0887"
             ],
             [
              0.1111111111111111,
              "#46039f"
             ],
             [
              0.2222222222222222,
              "#7201a8"
             ],
             [
              0.3333333333333333,
              "#9c179e"
             ],
             [
              0.4444444444444444,
              "#bd3786"
             ],
             [
              0.5555555555555556,
              "#d8576b"
             ],
             [
              0.6666666666666666,
              "#ed7953"
             ],
             [
              0.7777777777777778,
              "#fb9f3a"
             ],
             [
              0.8888888888888888,
              "#fdca26"
             ],
             [
              1,
              "#f0f921"
             ]
            ],
            "type": "surface"
           }
          ],
          "table": [
           {
            "cells": {
             "fill": {
              "color": "#EBF0F8"
             },
             "line": {
              "color": "white"
             }
            },
            "header": {
             "fill": {
              "color": "#C8D4E3"
             },
             "line": {
              "color": "white"
             }
            },
            "type": "table"
           }
          ]
         },
         "layout": {
          "annotationdefaults": {
           "arrowcolor": "#2a3f5f",
           "arrowhead": 0,
           "arrowwidth": 1
          },
          "autotypenumbers": "strict",
          "coloraxis": {
           "colorbar": {
            "outlinewidth": 0,
            "ticks": ""
           }
          },
          "colorscale": {
           "diverging": [
            [
             0,
             "#8e0152"
            ],
            [
             0.1,
             "#c51b7d"
            ],
            [
             0.2,
             "#de77ae"
            ],
            [
             0.3,
             "#f1b6da"
            ],
            [
             0.4,
             "#fde0ef"
            ],
            [
             0.5,
             "#f7f7f7"
            ],
            [
             0.6,
             "#e6f5d0"
            ],
            [
             0.7,
             "#b8e186"
            ],
            [
             0.8,
             "#7fbc41"
            ],
            [
             0.9,
             "#4d9221"
            ],
            [
             1,
             "#276419"
            ]
           ],
           "sequential": [
            [
             0,
             "#0d0887"
            ],
            [
             0.1111111111111111,
             "#46039f"
            ],
            [
             0.2222222222222222,
             "#7201a8"
            ],
            [
             0.3333333333333333,
             "#9c179e"
            ],
            [
             0.4444444444444444,
             "#bd3786"
            ],
            [
             0.5555555555555556,
             "#d8576b"
            ],
            [
             0.6666666666666666,
             "#ed7953"
            ],
            [
             0.7777777777777778,
             "#fb9f3a"
            ],
            [
             0.8888888888888888,
             "#fdca26"
            ],
            [
             1,
             "#f0f921"
            ]
           ],
           "sequentialminus": [
            [
             0,
             "#0d0887"
            ],
            [
             0.1111111111111111,
             "#46039f"
            ],
            [
             0.2222222222222222,
             "#7201a8"
            ],
            [
             0.3333333333333333,
             "#9c179e"
            ],
            [
             0.4444444444444444,
             "#bd3786"
            ],
            [
             0.5555555555555556,
             "#d8576b"
            ],
            [
             0.6666666666666666,
             "#ed7953"
            ],
            [
             0.7777777777777778,
             "#fb9f3a"
            ],
            [
             0.8888888888888888,
             "#fdca26"
            ],
            [
             1,
             "#f0f921"
            ]
           ]
          },
          "colorway": [
           "#636efa",
           "#EF553B",
           "#00cc96",
           "#ab63fa",
           "#FFA15A",
           "#19d3f3",
           "#FF6692",
           "#B6E880",
           "#FF97FF",
           "#FECB52"
          ],
          "font": {
           "color": "#2a3f5f"
          },
          "geo": {
           "bgcolor": "white",
           "lakecolor": "white",
           "landcolor": "#E5ECF6",
           "showlakes": true,
           "showland": true,
           "subunitcolor": "white"
          },
          "hoverlabel": {
           "align": "left"
          },
          "hovermode": "closest",
          "mapbox": {
           "style": "light"
          },
          "paper_bgcolor": "white",
          "plot_bgcolor": "#E5ECF6",
          "polar": {
           "angularaxis": {
            "gridcolor": "white",
            "linecolor": "white",
            "ticks": ""
           },
           "bgcolor": "#E5ECF6",
           "radialaxis": {
            "gridcolor": "white",
            "linecolor": "white",
            "ticks": ""
           }
          },
          "scene": {
           "xaxis": {
            "backgroundcolor": "#E5ECF6",
            "gridcolor": "white",
            "gridwidth": 2,
            "linecolor": "white",
            "showbackground": true,
            "ticks": "",
            "zerolinecolor": "white"
           },
           "yaxis": {
            "backgroundcolor": "#E5ECF6",
            "gridcolor": "white",
            "gridwidth": 2,
            "linecolor": "white",
            "showbackground": true,
            "ticks": "",
            "zerolinecolor": "white"
           },
           "zaxis": {
            "backgroundcolor": "#E5ECF6",
            "gridcolor": "white",
            "gridwidth": 2,
            "linecolor": "white",
            "showbackground": true,
            "ticks": "",
            "zerolinecolor": "white"
           }
          },
          "shapedefaults": {
           "line": {
            "color": "#2a3f5f"
           }
          },
          "ternary": {
           "aaxis": {
            "gridcolor": "white",
            "linecolor": "white",
            "ticks": ""
           },
           "baxis": {
            "gridcolor": "white",
            "linecolor": "white",
            "ticks": ""
           },
           "bgcolor": "#E5ECF6",
           "caxis": {
            "gridcolor": "white",
            "linecolor": "white",
            "ticks": ""
           }
          },
          "title": {
           "x": 0.05
          },
          "xaxis": {
           "automargin": true,
           "gridcolor": "white",
           "linecolor": "white",
           "ticks": "",
           "title": {
            "standoff": 15
           },
           "zerolinecolor": "white",
           "zerolinewidth": 2
          },
          "yaxis": {
           "automargin": true,
           "gridcolor": "white",
           "linecolor": "white",
           "ticks": "",
           "title": {
            "standoff": 15
           },
           "zerolinecolor": "white",
           "zerolinewidth": 2
          }
         }
        },
        "xaxis": {
         "title": {
          "text": "Population"
         }
        },
        "yaxis": {
         "range": [
          0,
          90
         ],
         "title": {
          "text": "Age"
         }
        }
       }
      },
      "image/png": "[encoded data removed]",
      "text/html": [
       "<div>                            <div id=\"6bef92c6-9af2-4f93-9531-55a6a7355f05\" class=\"plotly-graph-div\" style=\"height:525px; width:100%;\"></div>            <script type=\"text/javascript\">                require([\"plotly\"], function(Plotly) {                    window.PLOTLYENV=window.PLOTLYENV || {};                                    if (document.getElementById(\"6bef92c6-9af2-4f93-9531-55a6a7355f05\")) {                    Plotly.newPlot(                        \"6bef92c6-9af2-4f93-9531-55a6a7355f05\",                        [{\"hoverinfo\":\"skip\",\"marker\":{\"color\":\"blue\"},\"name\":\"Men\",\"orientation\":\"h\",\"x\":[65511275.0,54628101.0,49441049.0,62257922.0,64411127.0,53476141.0,42769122.0,43655412.0,31974204.0,24645669.0,22870118.0,20323469.0,15977181.0,11880936.0,7706014.0,4402262.0],\"y\":[1,6,11,16,21,26,31,36,41,46,51,56,61,66,71,76,81],\"type\":\"bar\"},{\"hoverinfo\":\"skip\",\"marker\":{\"color\":\"pink\"},\"name\":\"Women\",\"orientation\":\"h\",\"x\":[-59762660.0,-50964545.0,-46601384.0,-59104964.0,-61533330.0,-51338467.0,-41296411.0,-42679533.0,-30259538.0,-22704285.0,-20864952.0,-19405181.0,-16051536.0,-13072787.0,-9623710.0,-6358856.0],\"y\":[1,6,11,16,21,26,31,36,41,46,51,56,61,66,71,76,81],\"type\":\"bar\"}],                        {\"barmode\":\"overlay\",\"template\":{\"data\":{\"barpolar\":[{\"marker\":{\"line\":{\"color\":\"#E5ECF6\",\"width\":0.5},\"pattern\":{\"fillmode\":\"overlay\",\"size\":10,\"solidity\":0.2}},\"type\":\"barpolar\"}],\"bar\":[{\"error_x\":{\"color\":\"#2a3f5f\"},\"error_y\":{\"color\":\"#2a3f5f\"},\"marker\":{\"line\":{\"color\":\"#E5ECF6\",\"width\":0.5},\"pattern\":{\"fillmode\":\"overlay\",\"size\":10,\"solidity\":0.2}},\"type\":\"bar\"}],\"carpet\":[{\"aaxis\":{\"endlinecolor\":\"#2a3f5f\",\"gridcolor\":\"white\",\"linecolor\":\"white\",\"minorgridcolor\":\"white\",\"startlinecolor\":\"#2a3f5f\"},\"baxis\":{\"endlinecolor\":\"#2a3f5f\",\"gridcolor\":\"white\",\"linecolor\":\"white\",\"minorgridcolor\":\"white\",\"startlinecolor\":\"#2a3f5f\"},\"type\":\"carpet\"}],\"choropleth\":[{\"colorbar\":{\"outlinewidth\":0,\"ticks\":\"\"},\"type\":\"choropleth\"}],\"contourcarpet\":[{\"colorbar\":{\"outlinewidth\":0,\"ticks\":\"\"},\"type\":\"contourcarpet\"}],\"contour\":[{\"colorbar\":{\"outlinewidth\":0,\"ticks\":\"\"},\"colorscale\":[[0.0,\"#0d0887\"],[0.1111111111111111,\"#46039f\"],[0.2222222222222222,\"#7201a8\"],[0.3333333333333333,\"#9c179e\"],[0.4444444444444444,\"#bd3786\"],[0.5555555555555556,\"#d8576b\"],[0.6666666666666666,\"#ed7953\"],[0.7777777777777778,\"#fb9f3a\"],[0.8888888888888888,\"#fdca26\"],[1.0,\"#f0f921\"]],\"type\":\"contour\"}],\"heatmapgl\":[{\"colorbar\":{\"outlinewidth\":0,\"ticks\":\"\"},\"colorscale\":[[0.0,\"#0d0887\"],[0.1111111111111111,\"#46039f\"],[0.2222222222222222,\"#7201a8\"],[0.3333333333333333,\"#9c179e\"],[0.4444444444444444,\"#bd3786\"],[0.5555555555555556,\"#d8576b\"],[0.6666666666666666,\"#ed7953\"],[0.7777777777777778,\"#fb9f3a\"],[0.8888888888888888,\"#fdca26\"],[1.0,\"#f0f921\"]],\"type\":\"heatmapgl\"}],\"heatmap\":[{\"colorbar\":{\"outlinewidth\":0,\"ticks\":\"\"},\"colorscale\":[[0.0,\"#0d0887\"],[0.1111111111111111,\"#46039f\"],[0.2222222222222222,\"#7201a8\"],[0.3333333333333333,\"#9c179e\"],[0.4444444444444444,\"#bd3786\"],[0.5555555555555556,\"#d8576b\"],[0.6666666666666666,\"#ed7953\"],[0.7777777777777778,\"#fb9f3a\"],[0.8888888888888888,\"#fdca26\"],[1.0,\"#f0f921\"]],\"type\":\"heatmap\"}],\"histogram2dcontour\":[{\"colorbar\":{\"outlinewidth\":0,\"ticks\":\"\"},\"colorscale\":[[0.0,\"#0d0887\"],[0.1111111111111111,\"#46039f\"],[0.2222222222222222,\"#7201a8\"],[0.3333333333333333,\"#9c179e\"],[0.4444444444444444,\"#bd3786\"],[0.5555555555555556,\"#d8576b\"],[0.6666666666666666,\"#ed7953\"],[0.7777777777777778,\"#fb9f3a\"],[0.8888888888888888,\"#fdca26\"],[1.0,\"#f0f921\"]],\"type\":\"histogram2dcontour\"}],\"histogram2d\":[{\"colorbar\":{\"outlinewidth\":0,\"ticks\":\"\"},\"colorscale\":[[0.0,\"#0d0887\"],[0.1111111111111111,\"#46039f\"],[0.2222222222222222,\"#7201a8\"],[0.3333333333333333,\"#9c179e\"],[0.4444444444444444,\"#bd3786\"],[0.5555555555555556,\"#d8576b\"],[0.6666666666666666,\"#ed7953\"],[0.7777777777777778,\"#fb9f3a\"],[0.8888888888888888,\"#fdca26\"],[1.0,\"#f0f921\"]],\"type\":\"histogram2d\"}],\"histogram\":[{\"marker\":{\"pattern\":{\"fillmode\":\"overlay\",\"size\":10,\"solidity\":0.2}},\"type\":\"histogram\"}],\"mesh3d\":[{\"colorbar\":{\"outlinewidth\":0,\"ticks\":\"\"},\"type\":\"mesh3d\"}],\"parcoords\":[{\"line\":{\"colorbar\":{\"outlinewidth\":0,\"ticks\":\"\"}},\"type\":\"parcoords\"}],\"pie\":[{\"automargin\":true,\"type\":\"pie\"}],\"scatter3d\":[{\"line\":{\"colorbar\":{\"outlinewidth\":0,\"ticks\":\"\"}},\"marker\":{\"colorbar\":{\"outlinewidth\":0,\"ticks\":\"\"}},\"type\":\"scatter3d\"}],\"scattercarpet\":[{\"marker\":{\"colorbar\":{\"outlinewidth\":0,\"ticks\":\"\"}},\"type\":\"scattercarpet\"}],\"scattergeo\":[{\"marker\":{\"colorbar\":{\"outlinewidth\":0,\"ticks\":\"\"}},\"type\":\"scattergeo\"}],\"scattergl\":[{\"marker\":{\"colorbar\":{\"outlinewidth\":0,\"ticks\":\"\"}},\"type\":\"scattergl\"}],\"scattermapbox\":[{\"marker\":{\"colorbar\":{\"outlinewidth\":0,\"ticks\":\"\"}},\"type\":\"scattermapbox\"}],\"scatterpolargl\":[{\"marker\":{\"colorbar\":{\"outlinewidth\":0,\"ticks\":\"\"}},\"type\":\"scatterpolargl\"}],\"scatterpolar\":[{\"marker\":{\"colorbar\":{\"outlinewidth\":0,\"ticks\":\"\"}},\"type\":\"scatterpolar\"}],\"scatter\":[{\"fillpattern\":{\"fillmode\":\"overlay\",\"size\":10,\"solidity\":0.2},\"type\":\"scatter\"}],\"scatterternary\":[{\"marker\":{\"colorbar\":{\"outlinewidth\":0,\"ticks\":\"\"}},\"type\":\"scatterternary\"}],\"surface\":[{\"colorbar\":{\"outlinewidth\":0,\"ticks\":\"\"},\"colorscale\":[[0.0,\"#0d0887\"],[0.1111111111111111,\"#46039f\"],[0.2222222222222222,\"#7201a8\"],[0.3333333333333333,\"#9c179e\"],[0.4444444444444444,\"#bd3786\"],[0.5555555555555556,\"#d8576b\"],[0.6666666666666666,\"#ed7953\"],[0.7777777777777778,\"#fb9f3a\"],[0.8888888888888888,\"#fdca26\"],[1.0,\"#f0f921\"]],\"type\":\"surface\"}],\"table\":[{\"cells\":{\"fill\":{\"color\":\"#EBF0F8\"},\"line\":{\"color\":\"white\"}},\"header\":{\"fill\":{\"color\":\"#C8D4E3\"},\"line\":{\"color\":\"white\"}},\"type\":\"table\"}]},\"layout\":{\"annotationdefaults\":{\"arrowcolor\":\"#2a3f5f\",\"arrowhead\":0,\"arrowwidth\":1},\"autotypenumbers\":\"strict\",\"coloraxis\":{\"colorbar\":{\"outlinewidth\":0,\"ticks\":\"\"}},\"colorscale\":{\"diverging\":[[0,\"#8e0152\"],[0.1,\"#c51b7d\"],[0.2,\"#de77ae\"],[0.3,\"#f1b6da\"],[0.4,\"#fde0ef\"],[0.5,\"#f7f7f7\"],[0.6,\"#e6f5d0\"],[0.7,\"#b8e186\"],[0.8,\"#7fbc41\"],[0.9,\"#4d9221\"],[1,\"#276419\"]],\"sequential\":[[0.0,\"#0d0887\"],[0.1111111111111111,\"#46039f\"],[0.2222222222222222,\"#7201a8\"],[0.3333333333333333,\"#9c179e\"],[0.4444444444444444,\"#bd3786\"],[0.5555555555555556,\"#d8576b\"],[0.6666666666666666,\"#ed7953\"],[0.7777777777777778,\"#fb9f3a\"],[0.8888888888888888,\"#fdca26\"],[1.0,\"#f0f921\"]],\"sequentialminus\":[[0.0,\"#0d0887\"],[0.1111111111111111,\"#46039f\"],[0.2222222222222222,\"#7201a8\"],[0.3333333333333333,\"#9c179e\"],[0.4444444444444444,\"#bd3786\"],[0.5555555555555556,\"#d8576b\"],[0.6666666666666666,\"#ed7953\"],[0.7777777777777778,\"#fb9f3a\"],[0.8888888888888888,\"#fdca26\"],[1.0,\"#f0f921\"]]},\"colorway\":[\"#636efa\",\"#EF553B\",\"#00cc96\",\"#ab63fa\",\"#FFA15A\",\"#19d3f3\",\"#FF6692\",\"#B6E880\",\"#FF97FF\",\"#FECB52\"],\"font\":{\"color\":\"#2a3f5f\"},\"geo\":{\"bgcolor\":\"white\",\"lakecolor\":\"white\",\"landcolor\":\"#E5ECF6\",\"showlakes\":true,\"showland\":true,\"subunitcolor\":\"white\"},\"hoverlabel\":{\"align\":\"left\"},\"hovermode\":\"closest\",\"mapbox\":{\"style\":\"light\"},\"paper_bgcolor\":\"white\",\"plot_bgcolor\":\"#E5ECF6\",\"polar\":{\"angularaxis\":{\"gridcolor\":\"white\",\"linecolor\":\"white\",\"ticks\":\"\"},\"bgcolor\":\"#E5ECF6\",\"radialaxis\":{\"gridcolor\":\"white\",\"linecolor\":\"white\",\"ticks\":\"\"}},\"scene\":{\"xaxis\":{\"backgroundcolor\":\"#E5ECF6\",\"gridcolor\":\"white\",\"gridwidth\":2,\"linecolor\":\"white\",\"showbackground\":true,\"ticks\":\"\",\"zerolinecolor\":\"white\"},\"yaxis\":{\"backgroundcolor\":\"#E5ECF6\",\"gridcolor\":\"white\",\"gridwidth\":2,\"linecolor\":\"white\",\"showbackground\":true,\"ticks\":\"\",\"zerolinecolor\":\"white\"},\"zaxis\":{\"backgroundcolor\":\"#E5ECF6\",\"gridcolor\":\"white\",\"gridwidth\":2,\"linecolor\":\"white\",\"showbackground\":true,\"ticks\":\"\",\"zerolinecolor\":\"white\"}},\"shapedefaults\":{\"line\":{\"color\":\"#2a3f5f\"}},\"ternary\":{\"aaxis\":{\"gridcolor\":\"white\",\"linecolor\":\"white\",\"ticks\":\"\"},\"baxis\":{\"gridcolor\":\"white\",\"linecolor\":\"white\",\"ticks\":\"\"},\"bgcolor\":\"#E5ECF6\",\"caxis\":{\"gridcolor\":\"white\",\"linecolor\":\"white\",\"ticks\":\"\"}},\"title\":{\"x\":0.05},\"xaxis\":{\"automargin\":true,\"gridcolor\":\"white\",\"linecolor\":\"white\",\"ticks\":\"\",\"title\":{\"standoff\":15},\"zerolinecolor\":\"white\",\"zerolinewidth\":2},\"yaxis\":{\"automargin\":true,\"gridcolor\":\"white\",\"linecolor\":\"white\",\"ticks\":\"\",\"title\":{\"standoff\":15},\"zerolinecolor\":\"white\",\"zerolinewidth\":2}}},\"xaxis\":{\"title\":{\"text\":\"Population\"}},\"yaxis\":{\"range\":[0,90],\"title\":{\"text\":\"Age\"}}},                        {\"responsive\": true}                    ).then(function(){\n",
       "                            \n",
       "var gd = document.getElementById('6bef92c6-9af2-4f93-9531-55a6a7355f05');\n",
       "var x = new MutationObserver(function (mutations, observer) {{\n",
       "        var display = window.getComputedStyle(gd).display;\n",
       "        if (!display || display === 'none') {{\n",
       "            console.log([gd, 'removed!']);\n",
       "            Plotly.purge(gd);\n",
       "            observer.disconnect();\n",
       "        }}\n",
       "}});\n",
       "\n",
       "// Listen for the removal of the full notebook cells\n",
       "var notebookContainer = gd.closest('#notebook-container');\n",
       "if (notebookContainer) {{\n",
       "    x.observe(notebookContainer, {childList: true});\n",
       "}}\n",
       "\n",
       "// Listen for the clearing of the current output cell\n",
       "var outputEl = gd.closest('.output');\n",
       "if (outputEl) {{\n",
       "    x.observe(outputEl, {childList: true});\n",
       "}}\n",
       "\n",
       "                        })                };                });            </script>        </div>"
      ]
     },
     "metadata": {},
     "output_type": "display_data"
    }
   ],
   "source": [
    "population_pyramid(df, 1990)"
   ]
  },
  {
   "cell_type": "markdown",
   "id": "9dbfb942-88fb-457b-9eff-556fc2c4423e",
   "metadata": {},
   "source": [
    "Deliverable 5: Animated Population Pyramids Function"
   ]
  },
  {
   "cell_type": "code",
   "execution_count": 63,
   "id": "25339170-6127-4645-a7bd-c734dfd96374",
   "metadata": {},
   "outputs": [],
   "source": [
    "import plotly.graph_objects as go\n",
    "\n",
    "def population_pyramid_slider(df):\n",
    "    \"\"\"Plots animated population pyramid given dataframe from population dataframe function\"\"\"\n",
    "    years = list(range(1960, 2024))\n",
    "    df = df.reset_index()\n",
    "    df = df.drop('country',axis=1)\n",
    "    df = df.set_index('date')\n",
    "    age_ranges = [f\"{i:02d}{i+4:02d}\" for i in range(0, 80, 5)]\n",
    "    age_ranges.append(\"80UP\")\n",
    "    \n",
    "    y_values = [int(s[:2]) for s in age_ranges]\n",
    "\n",
    "    initial_year = years[0]\n",
    "    initial_year_str = f\"{initial_year}-01-01\"\n",
    "\n",
    "    male_population = df.loc[initial_year_str, :].filter(regex=\"Male\").values\n",
    "    female_population = df.loc[initial_year_str, :].filter(regex=\"Female\").values\n",
    "\n",
    "    bars = [\n",
    "        go.Bar(\n",
    "            x=male_population,\n",
    "            y=y_values,\n",
    "            orientation='h',\n",
    "            name='Men',\n",
    "            marker=dict(color='blue'),\n",
    "            hoverinfo='x+y'\n",
    "        ),\n",
    "        go.Bar(\n",
    "            x=-female_population,\n",
    "            y=y_values,\n",
    "            orientation='h',\n",
    "            name='Women',\n",
    "            marker=dict(color='pink'),\n",
    "            hoverinfo='x+y'\n",
    "        )\n",
    "    ]\n",
    "\n",
    "    frames = []\n",
    "    for year in years:\n",
    "        year_str = f\"{year}-01-01\"\n",
    "        if year_str in df.index:  \n",
    "            frame_male = df.loc[year_str, :].filter(regex=\"Male\").values\n",
    "            frame_female = df.loc[year_str, :].filter(regex=\"Female\").values\n",
    "        else:\n",
    "            frame_male = [0] * len(y_values)\n",
    "            frame_female = [0] * len(y_values)\n",
    "\n",
    "        frames.append(\n",
    "            go.Frame(\n",
    "                data=[\n",
    "                    go.Bar(x=frame_male, y=y_values),\n",
    "                    go.Bar(x=-frame_female, y=y_values)\n",
    "                ],\n",
    "                name=str(year)\n",
    "            )\n",
    "        )\n",
    "\n",
    "    layout = go.Layout(\n",
    "        title=\"Population Pyramid Over Time\",\n",
    "        barmode='overlay',\n",
    "        yaxis=dict(title='Age', range=[0, max(y_values) + 5]),\n",
    "        xaxis=dict(title='Population', tickformat=\",\", showgrid=True),\n",
    "        bargap=0.1,\n",
    "        template=\"plotly_white\",\n",
    "        height=600,\n",
    "        margin=dict(t=150, b=50),\n",
    "        updatemenus=[{\n",
    "            \"buttons\": [\n",
    "                {\n",
    "                    \"args\": [None, {\"frame\": {\"duration\": 500, \"redraw\": True}, \"fromcurrent\": True}],\n",
    "                    \"label\": \"Play\",\n",
    "                    \"method\": \"animate\"\n",
    "                },\n",
    "                {\n",
    "                    \"args\": [[None], {\"frame\": {\"duration\": 0, \"redraw\": True}, \"mode\": \"immediate\", \"transition\": {\"duration\": 0}}],\n",
    "                    \"label\": \"Pause\",\n",
    "                    \"method\": \"animate\"\n",
    "                }\n",
    "            ],\n",
    "            \"direction\": \"left\",\n",
    "            \"pad\": {\"r\": 10, \"t\": 30},\n",
    "            \"showactive\": False,\n",
    "            \"type\": \"buttons\",\n",
    "            \"x\": 0.1,\n",
    "            \"xanchor\": \"right\",\n",
    "            \"y\": 1.25,\n",
    "            \"yanchor\": \"top\"\n",
    "        }],\n",
    "        sliders=[{\n",
    "            \"active\": 0,\n",
    "            \"yanchor\": \"bottom\",\n",
    "            \"xanchor\": \"left\",\n",
    "            \"currentvalue\": {\"prefix\": \"Year: \", \"font\": {\"size\": 20}},\n",
    "            \"pad\": {\"b\": 0, \"t\": 100},\n",
    "            \"len\": 0.9,\n",
    "            \"x\": 0.1,\n",
    "            \"y\": 1.15,\n",
    "            \"steps\": [\n",
    "                {\"args\": [[str(year)], {\"frame\": {\"duration\": 300, \"redraw\": True}, \"mode\": \"immediate\"}], \"label\": str(year), \"method\": \"animate\"}\n",
    "                for year in years\n",
    "            ]\n",
    "        }]\n",
    "    )\n",
    "\n",
    "    fig = go.Figure(data=bars, layout=layout, frames=frames)\n",
    "    fig.show()"
   ]
  },
  {
   "cell_type": "code",
   "execution_count": 64,
   "id": "268325cc-8402-47e4-8a10-39c50ace2109",
   "metadata": {},
   "outputs": [
    {
     "data": {
      "application/vnd.plotly.v1+json": {
       "config": {
        "plotlyServerURL": "https://plot.ly"
       },
       "data": [
        {
         "hoverinfo": "x+y",
         "marker": {
          "color": "blue"
         },
         "name": "Men",
         "orientation": "h",
         "type": "bar",
         "x": [
          51416955,
          50098089,
          36823111,
          29027168,
          28092415,
          26459425,
          22874774,
          20178976,
          17445180,
          15573208,
          13126586,
          10884917,
          7858547,
          5468648,
          3289905,
          1628784
         ],
         "y": [
          0,
          5,
          10,
          15,
          20,
          25,
          30,
          35,
          40,
          45,
          50,
          55,
          60,
          65,
          70,
          75,
          80
         ]
        },
        {
         "hoverinfo": "x+y",
         "marker": {
          "color": "pink"
         },
         "name": "Women",
         "orientation": "h",
         "type": "bar",
         "x": [
          -48955681,
          -47796299,
          -33964856,
          -25955016,
          -24590972,
          -23794913,
          -20951533,
          -19029161,
          -16873602,
          -15079311,
          -13488469,
          -11589857,
          -8685206,
          -6699927,
          -4482097,
          -2635883
         ],
         "y": [
          0,
          5,
          10,
          15,
          20,
          25,
          30,
          35,
          40,
          45,
          50,
          55,
          60,
          65,
          70,
          75,
          80
         ]
        }
       ],
       "frames": [
        {
         "data": [
          {
           "type": "bar",
           "x": [
            51416955,
            50098089,
            36823111,
            29027168,
            28092415,
            26459425,
            22874774,
            20178976,
            17445180,
            15573208,
            13126586,
            10884917,
            7858547,
            5468648,
            3289905,
            1628784
           ],
           "y": [
            0,
            5,
            10,
            15,
            20,
            25,
            30,
            35,
            40,
            45,
            50,
            55,
            60,
            65,
            70,
            75,
            80
           ]
          },
          {
           "type": "bar",
           "x": [
            -48955681,
            -47796299,
            -33964856,
            -25955016,
            -24590972,
            -23794913,
            -20951533,
            -19029161,
            -16873602,
            -15079311,
            -13488469,
            -11589857,
            -8685206,
            -6699927,
            -4482097,
            -2635883
           ],
           "y": [
            0,
            5,
            10,
            15,
            20,
            25,
            30,
            35,
            40,
            45,
            50,
            55,
            60,
            65,
            70,
            75,
            80
           ]
          }
         ],
         "name": "1960"
        },
        {
         "data": [
          {
           "type": "bar",
           "x": [
            46459365,
            50481643,
            38596810,
            29125584,
            27700640,
            26562875,
            23028989,
            20175956,
            17398685,
            15571913,
            12923650,
            10792560,
            7747646,
            5362310,
            3131356,
            1537572
           ],
           "y": [
            0,
            5,
            10,
            15,
            20,
            25,
            30,
            35,
            40,
            45,
            50,
            55,
            60,
            65,
            70,
            75,
            80
           ]
          },
          {
           "type": "bar",
           "x": [
            -44179678,
            -48119335,
            -35990952,
            -26262486,
            -24208928,
            -23901128,
            -21019399,
            -18973517,
            -16813420,
            -15151213,
            -13242628,
            -11605418,
            -8661101,
            -6627978,
            -4325327,
            -2515440
           ],
           "y": [
            0,
            5,
            10,
            15,
            20,
            25,
            30,
            35,
            40,
            45,
            50,
            55,
            60,
            65,
            70,
            75,
            80
           ]
          }
         ],
         "name": "1961"
        },
        {
         "data": [
          {
           "type": "bar",
           "x": [
            44777918,
            50854256,
            40877563,
            29902774,
            27482213,
            26824171,
            23384228,
            20378091,
            17531795,
            15710166,
            12919455,
            10776768,
            7829214,
            5339866,
            3082473,
            1507571
           ],
           "y": [
            0,
            5,
            10,
            15,
            20,
            25,
            30,
            35,
            40,
            45,
            50,
            55,
            60,
            65,
            70,
            75,
            80
           ]
          },
          {
           "type": "bar",
           "x": [
            -42573068,
            -48411736,
            -38550727,
            -27084802,
            -24120873,
            -24034501,
            -21287773,
            -19076777,
            -16884402,
            -15370624,
            -13165906,
            -11656254,
            -8846123,
            -6626940,
            -4305783,
            -2473695
           ],
           "y": [
            0,
            5,
            10,
            15,
            20,
            25,
            30,
            35,
            40,
            45,
            50,
            55,
            60,
            65,
            70,
            75,
            80
           ]
          }
         ],
         "name": "1962"
        },
        {
         "data": [
          {
           "type": "bar",
           "x": [
            47951039,
            50749733,
            43265071,
            31245247,
            27269359,
            26878889,
            23871048,
            20785092,
            17811841,
            15758791,
            13103423,
            10794563,
            8016810,
            5346612,
            3103485,
            1514318
           ],
           "y": [
            0,
            5,
            10,
            15,
            20,
            25,
            30,
            35,
            40,
            45,
            50,
            55,
            60,
            65,
            70,
            75,
            80
           ]
          },
          {
           "type": "bar",
           "x": [
            -45607962,
            -48243174,
            -41174542,
            -28433763,
            -24118305,
            -23923846,
            -21660173,
            -19354179,
            -17095469,
            -15479965,
            -13256152,
            -11717468,
            -9144942,
            -6641740,
            -4377684,
            -2488273
           ],
           "y": [
            0,
            5,
            10,
            15,
            20,
            25,
            30,
            35,
            40,
            45,
            50,
            55,
            60,
            65,
            70,
            75,
            80
           ]
          }
         ],
         "name": "1963"
        },
        {
         "data": [
          {
           "type": "bar",
           "x": [
            53250448,
            48925593,
            45210547,
            32772310,
            27179605,
            26566937,
            24330081,
            21031169,
            18185693,
            15660355,
            13340206,
            10840068,
            8229597,
            5325280,
            3127717,
            1527155
           ],
           "y": [
            0,
            5,
            10,
            15,
            20,
            25,
            30,
            35,
            40,
            45,
            50,
            55,
            60,
            65,
            70,
            75,
            80
           ]
          },
          {
           "type": "bar",
           "x": [
            -50656142,
            -46459927,
            -43236900,
            -30062519,
            -24208269,
            -23499927,
            -22007969,
            -19483299,
            -17392150,
            -15431263,
            -13393101,
            -11786993,
            -9466826,
            -6632284,
            -4460153,
            -2517810
           ],
           "y": [
            0,
            5,
            10,
            15,
            20,
            25,
            30,
            35,
            40,
            45,
            50,
            55,
            60,
            65,
            70,
            75,
            80
           ]
          }
         ],
         "name": "1964"
        },
        {
         "data": [
          {
           "type": "bar",
           "x": [
            58836320,
            45982890,
            47044743,
            34817107,
            27393105,
            26358076,
            24757314,
            21327925,
            18603512,
            15753865,
            13617966,
            10951141,
            8439694,
            5355549,
            3182276,
            1534165
           ],
           "y": [
            0,
            5,
            10,
            15,
            20,
            25,
            30,
            35,
            40,
            45,
            50,
            55,
            60,
            65,
            70,
            75,
            80
           ]
          },
          {
           "type": "bar",
           "x": [
            -55953280,
            -43645724,
            -45039829,
            -32265766,
            -24581994,
            -23180528,
            -22393674,
            -19654001,
            -17719417,
            -15529087,
            -13617775,
            -11871055,
            -9779520,
            -6706478,
            -4580788,
            -2548547
           ],
           "y": [
            0,
            5,
            10,
            15,
            20,
            25,
            30,
            35,
            40,
            45,
            50,
            55,
            60,
            65,
            70,
            75,
            80
           ]
          }
         ],
         "name": "1965"
        },
        {
         "data": [
          {
           "type": "bar",
           "x": [
            64819659,
            43162402,
            48416863,
            37180195,
            27965225,
            26442502,
            25293403,
            21866446,
            18970615,
            16060453,
            13950719,
            11082684,
            8627400,
            5490014,
            3264774,
            1539237
           ],
           "y": [
            0,
            5,
            10,
            15,
            20,
            25,
            30,
            35,
            40,
            45,
            50,
            55,
            60,
            65,
            70,
            75,
            80
           ]
          },
          {
           "type": "bar",
           "x": [
            -61610223,
            -40971686,
            -46304349,
            -34835407,
            -25298539,
            -23202064,
            -22871021,
            -20055310,
            -17984642,
            -15773812,
            -13970021,
            -11924286,
            -10048865,
            -6918115,
            -4721523,
            -2583078
           ],
           "y": [
            0,
            5,
            10,
            15,
            20,
            25,
            30,
            35,
            40,
            45,
            50,
            55,
            60,
            65,
            70,
            75,
            80
           ]
          }
         ],
         "name": "1966"
        },
        {
         "data": [
          {
           "type": "bar",
           "x": [
            68074876,
            42247016,
            49278629,
            39777772,
            29031553,
            26523417,
            25811235,
            22434787,
            19369392,
            16379415,
            14260087,
            11249065,
            8760788,
            5671680,
            3338221,
            1562289
           ],
           "y": [
            0,
            5,
            10,
            15,
            20,
            25,
            30,
            35,
            40,
            45,
            50,
            55,
            60,
            65,
            70,
            75,
            80
           ]
          },
          {
           "type": "bar",
           "x": [
            -64672869,
            -40117280,
            -47059935,
            -37700959,
            -26387821,
            -23374716,
            -23234699,
            -20512631,
            -18261180,
            -16005856,
            -14328071,
            -11996368,
            -10222359,
            -7188876,
            -4823944,
            -2642818
           ],
           "y": [
            0,
            5,
            10,
            15,
            20,
            25,
            30,
            35,
            40,
            45,
            50,
            55,
            60,
            65,
            70,
            75,
            80
           ]
          }
         ],
         "name": "1967"
        },
        {
         "data": [
          {
           "type": "bar",
           "x": [
            68129871,
            45353413,
            49447323,
            42352932,
            30561846,
            26520914,
            26046831,
            23056346,
            19891631,
            16767163,
            14422614,
            11521233,
            8871750,
            5889039,
            3403560,
            1605110
           ],
           "y": [
            0,
            5,
            10,
            15,
            20,
            25,
            30,
            35,
            40,
            45,
            50,
            55,
            60,
            65,
            70,
            75,
            80
           ]
          },
          {
           "type": "bar",
           "x": [
            -64693385,
            -43082268,
            -47145421,
            -40512404,
            -27917971,
            -23558216,
            -23291336,
            -21009788,
            -18645003,
            -16312294,
            -14528014,
            -12165343,
            -10350032,
            -7502335,
            -4897788,
            -2733850
           ],
           "y": [
            0,
            5,
            10,
            15,
            20,
            25,
            30,
            35,
            40,
            45,
            50,
            55,
            60,
            65,
            70,
            75,
            80
           ]
          }
         ],
         "name": "1968"
        },
        {
         "data": [
          {
           "type": "bar",
           "x": [
            68315460,
            50811971,
            48038145,
            44580081,
            32323035,
            26694141,
            25994438,
            23720274,
            20316324,
            17290331,
            14489771,
            11874070,
            9034058,
            6139779,
            3460826,
            1655647
           ],
           "y": [
            0,
            5,
            10,
            15,
            20,
            25,
            30,
            35,
            40,
            45,
            50,
            55,
            60,
            65,
            70,
            75,
            80
           ]
          },
          {
           "type": "bar",
           "x": [
            -64833919,
            -48265169,
            -45747421,
            -42846428,
            -29769200,
            -23886011,
            -23105036,
            -21547357,
            -18938955,
            -16745169,
            -14617718,
            -12410722,
            -10514279,
            -7852891,
            -4966416,
            -2840359
           ],
           "y": [
            0,
            5,
            10,
            15,
            20,
            25,
            30,
            35,
            40,
            45,
            50,
            55,
            60,
            65,
            70,
            75,
            80
           ]
          }
         ],
         "name": "1969"
        },
        {
         "data": [
          {
           "type": "bar",
           "x": [
            69241900,
            56603909,
            45372333,
            46590504,
            34516687,
            27090157,
            25972178,
            24297773,
            20740760,
            17815193,
            14699365,
            12236241,
            9231615,
            6377108,
            3546380,
            1720726
           ],
           "y": [
            0,
            5,
            10,
            15,
            20,
            25,
            30,
            35,
            40,
            45,
            50,
            55,
            60,
            65,
            70,
            75,
            80
           ]
          },
          {
           "type": "bar",
           "x": [
            -65674714,
            -53741506,
            -43181760,
            -44816666,
            -32119606,
            -24427841,
            -22957498,
            -22071044,
            -19226167,
            -17166581,
            -14808775,
            -12706933,
            -10665706,
            -8177580,
            -5086953,
            -2964566
           ],
           "y": [
            0,
            5,
            10,
            15,
            20,
            25,
            30,
            35,
            40,
            45,
            50,
            55,
            60,
            65,
            70,
            75,
            80
           ]
          }
         ],
         "name": "1970"
        },
        {
         "data": [
          {
           "type": "bar",
           "x": [
            70130116,
            62647260,
            42655327,
            47994845,
            36882608,
            27690755,
            26099012,
            24867315,
            21307998,
            18218950,
            15051305,
            12604059,
            9416226,
            6583572,
            3693603,
            1798396
           ],
           "y": [
            0,
            5,
            10,
            15,
            20,
            25,
            30,
            35,
            40,
            45,
            50,
            55,
            60,
            65,
            70,
            75,
            80
           ]
          },
          {
           "type": "bar",
           "x": [
            -66478603,
            -59445974,
            -40589613,
            -46103974,
            -34694746,
            -25163918,
            -23014015,
            -22576520,
            -19651932,
            -17457816,
            -15083172,
            -13076924,
            -10752908,
            -8442058,
            -5297101,
            -3092747
           ],
           "y": [
            0,
            5,
            10,
            15,
            20,
            25,
            30,
            35,
            40,
            45,
            50,
            55,
            60,
            65,
            70,
            75,
            80
           ]
          }
         ],
         "name": "1971"
        },
        {
         "data": [
          {
           "type": "bar",
           "x": [
            70852551,
            66043059,
            41802619,
            48894264,
            39450064,
            28713941,
            26160778,
            25374927,
            21875126,
            18633540,
            15402446,
            12944985,
            9627777,
            6751542,
            3872954,
            1875189
           ],
           "y": [
            0,
            5,
            10,
            15,
            20,
            25,
            30,
            35,
            40,
            45,
            50,
            55,
            60,
            65,
            70,
            75,
            80
           ]
          },
          {
           "type": "bar",
           "x": [
            -67124735,
            -62642160,
            -39777530,
            -46883789,
            -37528632,
            -26199045,
            -23155431,
            -22925843,
            -20104835,
            -17742820,
            -15335126,
            -13448272,
            -10855529,
            -8626974,
            -5552362,
            -3199927
           ],
           "y": [
            0,
            5,
            10,
            15,
            20,
            25,
            30,
            35,
            40,
            45,
            50,
            55,
            60,
            65,
            70,
            75,
            80
           ]
          }
         ],
         "name": "1972"
        },
        {
         "data": [
          {
           "type": "bar",
           "x": [
            70528054,
            66265155,
            44938958,
            49127518,
            42021707,
            30206311,
            26145174,
            25611192,
            22501907,
            19171619,
            15820715,
            13157221,
            9936054,
            6908586,
            4078001,
            1951525
           ],
           "y": [
            0,
            5,
            10,
            15,
            20,
            25,
            30,
            35,
            40,
            45,
            50,
            55,
            60,
            65,
            70,
            75,
            80
           ]
          },
          {
           "type": "bar",
           "x": [
            -66774507,
            -62831956,
            -42757818,
            -47018478,
            -40335424,
            -27683149,
            -23312199,
            -22978405,
            -20605009,
            -18139072,
            -15663942,
            -13679183,
            -11056928,
            -8783656,
            -5846555,
            -3297413
           ],
           "y": [
            0,
            5,
            10,
            15,
            20,
            25,
            30,
            35,
            40,
            45,
            50,
            55,
            60,
            65,
            70,
            75,
            80
           ]
          }
         ],
         "name": "1973"
        },
        {
         "data": [
          {
           "type": "bar",
           "x": [
            68685271,
            66543836,
            50385632,
            47757367,
            44254835,
            31962975,
            26333612,
            25579863,
            23176948,
            19614584,
            16362127,
            13277456,
            10311445,
            7103963,
            4299672,
            2021162
           ],
           "y": [
            0,
            5,
            10,
            15,
            20,
            25,
            30,
            35,
            40,
            45,
            50,
            55,
            60,
            65,
            70,
            75,
            80
           ]
          },
          {
           "type": "bar",
           "x": [
            -64984883,
            -63075113,
            -47931163,
            -45644077,
            -42679395,
            -29532497,
            -23648675,
            -22811077,
            -21154975,
            -18450172,
            -16112543,
            -13804250,
            -11330700,
            -8974504,
            -6168543,
            -3394381
           ],
           "y": [
            0,
            5,
            10,
            15,
            20,
            25,
            30,
            35,
            40,
            45,
            50,
            55,
            60,
            65,
            70,
            75,
            80
           ]
          }
         ],
         "name": "1974"
        },
        {
         "data": [
          {
           "type": "bar",
           "x": [
            65750492,
            67492208,
            56098832,
            45073376,
            46214673,
            34111649,
            26709969,
            25545177,
            23735594,
            20029137,
            16880588,
            13508095,
            10674831,
            7313734,
            4501417,
            2102700
           ],
           "y": [
            0,
            5,
            10,
            15,
            20,
            25,
            30,
            35,
            40,
            45,
            50,
            55,
            60,
            65,
            70,
            75,
            80
           ]
          },
          {
           "type": "bar",
           "x": [
            -62165477,
            -63949869,
            -53347437,
            -43046315,
            -44605203,
            -31849696,
            -24170746,
            -22655033,
            -21664881,
            -18731358,
            -16528852,
            -14007420,
            -11635687,
            -9143367,
            -6461665,
            -3524176
           ],
           "y": [
            0,
            5,
            10,
            15,
            20,
            25,
            30,
            35,
            40,
            45,
            50,
            55,
            60,
            65,
            70,
            75,
            80
           ]
          }
         ],
         "name": "1975"
        },
        {
         "data": [
          {
           "type": "bar",
           "x": [
            62216467,
            68334986,
            61973190,
            42288778,
            47513924,
            36389301,
            27259099,
            25628468,
            24255414,
            20552149,
            17256178,
            13846511,
            11018515,
            7497389,
            4673152,
            2216004
           ],
           "y": [
            0,
            5,
            10,
            15,
            20,
            25,
            30,
            35,
            40,
            45,
            50,
            55,
            60,
            65,
            70,
            75,
            80
           ]
          },
          {
           "type": "bar",
           "x": [
            -58783187,
            -64715192,
            -58912135,
            -40375968,
            -45793428,
            -34352899,
            -24859437,
            -22676173,
            -22129505,
            -19122416,
            -16794949,
            -14268337,
            -11986270,
            -9241018,
            -6695980,
            -3710012
           ],
           "y": [
            0,
            5,
            10,
            15,
            20,
            25,
            30,
            35,
            40,
            45,
            50,
            55,
            60,
            65,
            70,
            75,
            80
           ]
          }
         ],
         "name": "1976"
        },
        {
         "data": [
          {
           "type": "bar",
           "x": [
            58649243,
            69069418,
            65239262,
            41379276,
            48338520,
            38882587,
            28241349,
            25664512,
            24726618,
            21083077,
            17645929,
            14186277,
            11338406,
            7702442,
            4818521,
            2346542
           ],
           "y": [
            0,
            5,
            10,
            15,
            20,
            25,
            30,
            35,
            40,
            45,
            50,
            55,
            60,
            65,
            70,
            75,
            80
           ]
          },
          {
           "type": "bar",
           "x": [
            -55372716,
            -65373446,
            -62003091,
            -39503937,
            -46502560,
            -37128532,
            -25860000,
            -22796396,
            -22452657,
            -19549257,
            -17061526,
            -14512721,
            -12340104,
            -9354944,
            -6868019,
            -3925576
           ],
           "y": [
            0,
            5,
            10,
            15,
            20,
            25,
            30,
            35,
            40,
            45,
            50,
            55,
            60,
            65,
            70,
            75,
            80
           ]
          }
         ],
         "name": "1977"
        },
        {
         "data": [
          {
           "type": "bar",
           "x": [
            55168873,
            68832984,
            65426195,
            44457309,
            48552899,
            41416468,
            29712604,
            25652664,
            24959539,
            21694071,
            18169704,
            14599769,
            11557991,
            7994852,
            4963672,
            2493021
           ],
           "y": [
            0,
            5,
            10,
            15,
            20,
            25,
            30,
            35,
            40,
            45,
            50,
            55,
            60,
            65,
            70,
            75,
            80
           ]
          },
          {
           "type": "bar",
           "x": [
            -52041643,
            -65114420,
            -62167882,
            -42438062,
            -46619727,
            -39911811,
            -27331106,
            -22956613,
            -22509176,
            -20043005,
            -17452670,
            -14842553,
            -12577423,
            -9566354,
            -7025387,
            -4168610
           ],
           "y": [
            0,
            5,
            10,
            15,
            20,
            25,
            30,
            35,
            40,
            45,
            50,
            55,
            60,
            65,
            70,
            75,
            80
           ]
          }
         ],
         "name": "1978"
        },
        {
         "data": [
          {
           "type": "bar",
           "x": [
            52570877,
            67097722,
            65667711,
            49815895,
            47178635,
            43611444,
            31439972,
            25840461,
            24931064,
            22351011,
            18602404,
            15125768,
            11701441,
            8344876,
            5140883,
            2647212
           ],
           "y": [
            0,
            5,
            10,
            15,
            20,
            25,
            30,
            35,
            40,
            45,
            50,
            55,
            60,
            65,
            70,
            75,
            80
           ]
          },
          {
           "type": "bar",
           "x": [
            -49539080,
            -63435754,
            -62380960,
            -47543634,
            -45236228,
            -42228379,
            -29160271,
            -23291746,
            -22348857,
            -20583350,
            -17760068,
            -15282398,
            -12717408,
            -9841327,
            -7209206,
            -4424265
           ],
           "y": [
            0,
            5,
            10,
            15,
            20,
            25,
            30,
            35,
            40,
            45,
            50,
            55,
            60,
            65,
            70,
            75,
            80
           ]
          }
         ],
         "name": "1979"
        },
        {
         "data": [
          {
           "type": "bar",
           "x": [
            51307251,
            64229567,
            66513775,
            55383033,
            44465092,
            45487651,
            33519036,
            26186564,
            24875980,
            22873865,
            18990643,
            15616269,
            11935600,
            8676509,
            5326161,
            2786585
           ],
           "y": [
            0,
            5,
            10,
            15,
            20,
            25,
            30,
            35,
            40,
            45,
            50,
            55,
            60,
            65,
            70,
            75,
            80
           ]
          },
          {
           "type": "bar",
           "x": [
            -48293451,
            -60688106,
            -63163230,
            -52836397,
            -42600133,
            -44079417,
            -31420338,
            -23784664,
            -22178225,
            -21063780,
            -18021244,
            -15675350,
            -12918094,
            -10131815,
            -7367293,
            -4651528
           ],
           "y": [
            0,
            5,
            10,
            15,
            20,
            25,
            30,
            35,
            40,
            45,
            50,
            55,
            60,
            65,
            70,
            75,
            80
           ]
          }
         ],
         "name": "1980"
        },
        {
         "data": [
          {
           "type": "bar",
           "x": [
            51188963,
            60770067,
            67258788,
            61094343,
            41657820,
            46702809,
            35714441,
            26697951,
            24935023,
            23357273,
            19478149,
            15971550,
            12264387,
            8988568,
            5492973,
            2910005
           ],
           "y": [
            0,
            5,
            10,
            15,
            20,
            25,
            30,
            35,
            40,
            45,
            50,
            55,
            60,
            65,
            70,
            75,
            80
           ]
          },
          {
           "type": "bar",
           "x": [
            -48122921,
            -57385048,
            -63840499,
            -58263606,
            -39898849,
            -45191423,
            -33855270,
            -24437920,
            -22181088,
            -21499173,
            -18386877,
            -15924713,
            -13172209,
            -10459983,
            -7469000,
            -4838755
           ],
           "y": [
            0,
            5,
            10,
            15,
            20,
            25,
            30,
            35,
            40,
            45,
            50,
            55,
            60,
            65,
            70,
            75,
            80
           ]
          }
         ],
         "name": "1981"
        },
        {
         "data": [
          {
           "type": "bar",
           "x": [
            52413144,
            57337634,
            67982815,
            64299969,
            40754909,
            47503841,
            38157113,
            27661515,
            24976747,
            23820204,
            19994346,
            16356148,
            12606191,
            9291115,
            5682607,
            3022638
           ],
           "y": [
            0,
            5,
            10,
            15,
            20,
            25,
            30,
            35,
            40,
            45,
            50,
            55,
            60,
            65,
            70,
            75,
            80
           ]
          },
          {
           "type": "bar",
           "x": [
            -49204735,
            -54109470,
            -64492922,
            -61307393,
            -39028767,
            -45880614,
            -36592251,
            -25423403,
            -22306137,
            -21821873,
            -18808308,
            -16192560,
            -13424988,
            -10802296,
            -7593318,
            -4986508
           ],
           "y": [
            0,
            5,
            10,
            15,
            20,
            25,
            30,
            35,
            40,
            45,
            50,
            55,
            60,
            65,
            70,
            75,
            80
           ]
          }
         ],
         "name": "1982"
        },
        {
         "data": [
          {
           "type": "bar",
           "x": [
            53850739,
            53949887,
            67731504,
            64450361,
            43768562,
            47689970,
            40625156,
            29091218,
            24963138,
            24046303,
            20582183,
            16858354,
            13006252,
            9510650,
            5938880,
            3138101
           ],
           "y": [
            0,
            5,
            10,
            15,
            20,
            25,
            30,
            35,
            40,
            45,
            50,
            55,
            60,
            65,
            70,
            75,
            80
           ]
          },
          {
           "type": "bar",
           "x": [
            -50473812,
            -50871463,
            -64217093,
            -61437006,
            -41906572,
            -45968710,
            -39320546,
            -26859739,
            -22461105,
            -21878048,
            -19289086,
            -16572623,
            -13749328,
            -11039500,
            -7798214,
            -5123540
           ],
           "y": [
            0,
            5,
            10,
            15,
            20,
            25,
            30,
            35,
            40,
            45,
            50,
            55,
            60,
            65,
            70,
            75,
            80
           ]
          }
         ],
         "name": "1983"
        },
        {
         "data": [
          {
           "type": "bar",
           "x": [
            54698979,
            51404377,
            66001231,
            64651433,
            49017168,
            46311714,
            42755191,
            30766672,
            25141759,
            24018941,
            21212513,
            17274346,
            13505947,
            9672563,
            6243037,
            3278651
           ],
           "y": [
            0,
            5,
            10,
            15,
            20,
            25,
            30,
            35,
            40,
            45,
            50,
            55,
            60,
            65,
            70,
            75,
            80
           ]
          },
          {
           "type": "bar",
           "x": [
            -51168611,
            -48422671,
            -62535909,
            -61611365,
            -46919481,
            -44574130,
            -41581515,
            -28645118,
            -22784946,
            -21722522,
            -19814165,
            -16872779,
            -14174983,
            -11195211,
            -8061921,
            -5284783
           ],
           "y": [
            0,
            5,
            10,
            15,
            20,
            25,
            30,
            35,
            40,
            45,
            50,
            55,
            60,
            65,
            70,
            75,
            80
           ]
          }
         ],
         "name": "1984"
        },
        {
         "data": [
          {
           "type": "bar",
           "x": [
            55790005,
            50205352,
            63217868,
            65511537,
            54512549,
            43661955,
            44611043,
            32816844,
            25498396,
            23988832,
            21735224,
            17665396,
            13988035,
            9922989,
            6538789,
            3429554
           ],
           "y": [
            0,
            5,
            10,
            15,
            20,
            25,
            30,
            35,
            40,
            45,
            50,
            55,
            60,
            65,
            70,
            75,
            80
           ]
          },
          {
           "type": "bar",
           "x": [
            -52056930,
            -47241478,
            -59858343,
            -62407890,
            -52158009,
            -41987475,
            -43419384,
            -30884531,
            -23284704,
            -21578141,
            -20300714,
            -17145959,
            -14571452,
            -11418287,
            -8347191,
            -5434223
           ],
           "y": [
            0,
            5,
            10,
            15,
            20,
            25,
            30,
            35,
            40,
            45,
            50,
            55,
            60,
            65,
            70,
            75,
            80
           ]
          }
         ],
         "name": "1985"
        },
        {
         "data": [
          {
           "type": "bar",
           "x": [
            57338922,
            50139861,
            59867670,
            66295974,
            60169941,
            40931126,
            45833160,
            34994020,
            26025370,
            24077323,
            22227603,
            18152803,
            14350148,
            10255341,
            6818766,
            3570538
           ],
           "y": [
            0,
            5,
            10,
            15,
            20,
            25,
            30,
            35,
            40,
            45,
            50,
            55,
            60,
            65,
            70,
            75,
            80
           ]
          },
          {
           "type": "bar",
           "x": [
            -53327475,
            -47123558,
            -56647476,
            -63121873,
            -57549913,
            -39347203,
            -44542528,
            -33309881,
            -23949763,
            -21609913,
            -20750821,
            -17523896,
            -14837052,
            -11692226,
            -8664175,
            -5544518
           ],
           "y": [
            0,
            5,
            10,
            15,
            20,
            25,
            30,
            35,
            40,
            45,
            50,
            55,
            60,
            65,
            70,
            75,
            80
           ]
          }
         ],
         "name": "1986"
        },
        {
         "data": [
          {
           "type": "bar",
           "x": [
            59087968,
            51340933,
            56489094,
            67003372,
            63306898,
            40034152,
            46608789,
            37382707,
            26969223,
            24127882,
            22680791,
            18650726,
            14722966,
            10588257,
            7086095,
            3725201
           ],
           "y": [
            0,
            5,
            10,
            15,
            20,
            25,
            30,
            35,
            40,
            45,
            50,
            55,
            60,
            65,
            70,
            75,
            80
           ]
          },
          {
           "type": "bar",
           "x": [
            -54728531,
            -48186153,
            -53412709,
            -63755547,
            -60537595,
            -38475927,
            -45209210,
            -36003909,
            -24918793,
            -21741371,
            -21074244,
            -17940624,
            -15105954,
            -11954073,
            -8986104,
            -5669463
           ],
           "y": [
            0,
            5,
            10,
            15,
            20,
            25,
            30,
            35,
            40,
            45,
            50,
            55,
            60,
            65,
            70,
            75,
            80
           ]
          }
         ],
         "name": "1987"
        },
        {
         "data": [
          {
           "type": "bar",
           "x": [
            61142321,
            52753777,
            53150928,
            66743309,
            63428596,
            42978844,
            46773599,
            39790245,
            28360725,
            24122073,
            22908059,
            19216903,
            15201070,
            10968001,
            7293598,
            3928321
           ],
           "y": [
            0,
            5,
            10,
            15,
            20,
            25,
            30,
            35,
            40,
            45,
            50,
            55,
            60,
            65,
            70,
            75,
            80
           ]
          },
          {
           "type": "bar",
           "x": [
            -56367296,
            -49435086,
            -50212031,
            -63463952,
            -60639368,
            -41293234,
            -45275818,
            -38683111,
            -26325103,
            -21899006,
            -21139825,
            -18415199,
            -15480723,
            -12278175,
            -9223793,
            -5861912
           ],
           "y": [
            0,
            5,
            10,
            15,
            20,
            25,
            30,
            35,
            40,
            45,
            50,
            55,
            60,
            65,
            70,
            75,
            80
           ]
          }
         ],
         "name": "1988"
        },
        {
         "data": [
          {
           "type": "bar",
           "x": [
            63449157,
            53597258,
            50650390,
            65037383,
            63610734,
            48120038,
            45406443,
            41870508,
            29993285,
            24305217,
            22897574,
            19827051,
            15605207,
            11435181,
            7465357,
            4169483
           ],
           "y": [
            0,
            5,
            10,
            15,
            20,
            25,
            30,
            35,
            40,
            45,
            50,
            55,
            60,
            65,
            70,
            75,
            80
           ]
          },
          {
           "type": "bar",
           "x": [
            -58201003,
            -50128958,
            -47797771,
            -61793324,
            -60793865,
            -46217169,
            -43884439,
            -40904191,
            -28077151,
            -22223461,
            -21004218,
            -18935821,
            -15784982,
            -12694784,
            -9399363,
            -6106458
           ],
           "y": [
            0,
            5,
            10,
            15,
            20,
            25,
            30,
            35,
            40,
            45,
            50,
            55,
            60,
            65,
            70,
            75,
            80
           ]
          }
         ],
         "name": "1989"
        },
        {
         "data": [
          {
           "type": "bar",
           "x": [
            65511275,
            54628101,
            49441049,
            62257922,
            64411127,
            53476141,
            42769122,
            43655412,
            31974204,
            24645669,
            22870118,
            20323469,
            15977181,
            11880936,
            7706014,
            4402262
           ],
           "y": [
            0,
            5,
            10,
            15,
            20,
            25,
            30,
            35,
            40,
            45,
            50,
            55,
            60,
            65,
            70,
            75,
            80
           ]
          },
          {
           "type": "bar",
           "x": [
            -59762660,
            -50964545,
            -46601384,
            -59104964,
            -61533330,
            -51338467,
            -41296411,
            -42679533,
            -30259538,
            -22704285,
            -20864952,
            -19405181,
            -16051536,
            -13072787,
            -9623710,
            -6358856
           ],
           "y": [
            0,
            5,
            10,
            15,
            20,
            25,
            30,
            35,
            40,
            45,
            50,
            55,
            60,
            65,
            70,
            75,
            80
           ]
          }
         ],
         "name": "1990"
        },
        {
         "data": [
          {
           "type": "bar",
           "x": [
            65747865,
            56163817,
            49403593,
            58987503,
            65205028,
            59043589,
            40096238,
            44864480,
            34113711,
            25178897,
            22983783,
            20815778,
            16452115,
            12236302,
            8021975,
            4629243
           ],
           "y": [
            0,
            5,
            10,
            15,
            20,
            25,
            30,
            35,
            40,
            45,
            50,
            55,
            60,
            65,
            70,
            75,
            80
           ]
          },
          {
           "type": "bar",
           "x": [
            -59644249,
            -52226243,
            -46506189,
            -55953198,
            -62253203,
            -56660590,
            -38697212,
            -43793708,
            -32657702,
            -23370700,
            -20919662,
            -19860977,
            -16431344,
            -13343623,
            -9900291,
            -6638639
           ],
           "y": [
            0,
            5,
            10,
            15,
            20,
            25,
            30,
            35,
            40,
            45,
            50,
            55,
            60,
            65,
            70,
            75,
            80
           ]
          }
         ],
         "name": "1991"
        },
        {
         "data": [
          {
           "type": "bar",
           "x": [
            63522500,
            57991773,
            50700221,
            55779001,
            66035568,
            62244354,
            39290861,
            45717005,
            36525491,
            26161423,
            23102855,
            21310709,
            16968128,
            12624358,
            8356685,
            4861981
           ],
           "y": [
            0,
            5,
            10,
            15,
            20,
            25,
            30,
            35,
            40,
            45,
            50,
            55,
            60,
            65,
            70,
            75,
            80
           ]
          },
          {
           "type": "bar",
           "x": [
            -57298554,
            -53703535,
            -47656897,
            -52863446,
            -62999115,
            -59716974,
            -37905506,
            -44535683,
            -35382848,
            -24375930,
            -21107041,
            -20230966,
            -16877691,
            -13641188,
            -10184980,
            -6936799
           ],
           "y": [
            0,
            5,
            10,
            15,
            20,
            25,
            30,
            35,
            40,
            45,
            50,
            55,
            60,
            65,
            70,
            75,
            80
           ]
          }
         ],
         "name": "1992"
        },
        {
         "data": [
          {
           "type": "bar",
           "x": [
            60623164,
            60137290,
            52209766,
            52598361,
            65923042,
            62498130,
            42282314,
            45979616,
            38971270,
            27583571,
            23169681,
            21597942,
            17555841,
            13107226,
            8730634,
            5060825
           ],
           "y": [
            0,
            5,
            10,
            15,
            20,
            25,
            30,
            35,
            40,
            45,
            50,
            55,
            60,
            65,
            70,
            75,
            80
           ]
          },
          {
           "type": "bar",
           "x": [
            -54361678,
            -55430007,
            -48996225,
            -49798027,
            -62840857,
            -59943208,
            -40773844,
            -44694236,
            -38108882,
            -25815887,
            -21321107,
            -20356242,
            -17386095,
            -14039868,
            -10524425,
            -7176795
           ],
           "y": [
            0,
            5,
            10,
            15,
            20,
            25,
            30,
            35,
            40,
            45,
            50,
            55,
            60,
            65,
            70,
            75,
            80
           ]
          }
         ],
         "name": "1993"
        },
        {
         "data": [
          {
           "type": "bar",
           "x": [
            57456484,
            62610975,
            53210328,
            50270269,
            64419356,
            62858255,
            47489041,
            44766174,
            41139865,
            29269924,
            23438180,
            21680441,
            18202920,
            13539273,
            9184102,
            5245491
           ],
           "y": [
            0,
            5,
            10,
            15,
            20,
            25,
            30,
            35,
            40,
            45,
            50,
            55,
            60,
            65,
            70,
            75,
            80
           ]
          },
          {
           "type": "bar",
           "x": [
            -51208461,
            -57422056,
            -49836513,
            -47534250,
            -61349273,
            -60265382,
            -45776204,
            -43444075,
            -40427396,
            -27628119,
            -21718597,
            -20308332,
            -17960671,
            -14394590,
            -10959116,
            -7385881
           ],
           "y": [
            0,
            5,
            10,
            15,
            20,
            25,
            30,
            35,
            40,
            45,
            50,
            55,
            60,
            65,
            70,
            75,
            80
           ]
          }
         ],
         "name": "1994"
        },
        {
         "data": [
          {
           "type": "bar",
           "x": [
            53583968,
            64930103,
            54467548,
            49274717,
            61907026,
            63900482,
            52991752,
            42328018,
            43074765,
            31344615,
            23887343,
            21772491,
            18770809,
            13963583,
            9637446,
            5493222
           ],
           "y": [
            0,
            5,
            10,
            15,
            20,
            25,
            30,
            35,
            40,
            45,
            50,
            55,
            60,
            65,
            70,
            75,
            80
           ]
          },
          {
           "type": "bar",
           "x": [
            -47450968,
            -59223815,
            -50883259,
            -46531542,
            -58898894,
            -61234930,
            -51055871,
            -41037303,
            -42361205,
            -29915876,
            -22298426,
            -20282900,
            -18515612,
            -14741387,
            -11384440,
            -7656120
           ],
           "y": [
            0,
            5,
            10,
            15,
            20,
            25,
            30,
            35,
            40,
            45,
            50,
            55,
            60,
            65,
            70,
            75,
            80
           ]
          }
         ],
         "name": "1995"
        },
        {
         "data": [
          {
           "type": "bar",
           "x": [
            50526955,
            65379739,
            56168086,
            49393365,
            58831452,
            64889729,
            58697599,
            39796139,
            44404842,
            33557286,
            24502421,
            21976342,
            19316952,
            14462216,
            10006930,
            5793449
           ],
           "y": [
            0,
            5,
            10,
            15,
            20,
            25,
            30,
            35,
            40,
            45,
            50,
            55,
            60,
            65,
            70,
            75,
            80
           ]
          },
          {
           "type": "bar",
           "x": [
            -44464761,
            -59304211,
            -52298836,
            -46580808,
            -55919251,
            -62141889,
            -56531297,
            -38563053,
            -43601940,
            -32404520,
            -23041343,
            -20424004,
            -19040107,
            -15177740,
            -11705781,
            -7965768
           ],
           "y": [
            0,
            5,
            10,
            15,
            20,
            25,
            30,
            35,
            40,
            45,
            50,
            55,
            60,
            65,
            70,
            75,
            80
           ]
          }
         ],
         "name": "1996"
        },
        {
         "data": [
          {
           "type": "bar",
           "x": [
            48873470,
            63294517,
            58089864,
            50782449,
            55728756,
            65839694,
            61993441,
            39066475,
            45330891,
            36004380,
            25524580,
            22155660,
            19839115,
            14976419,
            10385690,
            6098109
           ],
           "y": [
            0,
            5,
            10,
            15,
            20,
            25,
            30,
            35,
            40,
            45,
            50,
            55,
            60,
            65,
            70,
            75,
            80
           ]
          },
          {
           "type": "bar",
           "x": [
            -42772587,
            -57089607,
            -53863179,
            -47818897,
            -52918551,
            -63001483,
            -59691502,
            -37839464,
            -44419548,
            -35187293,
            -24090381,
            -20665987,
            -19455280,
            -15654233,
            -12030697,
            -8267313
           ],
           "y": [
            0,
            5,
            10,
            15,
            20,
            25,
            30,
            35,
            40,
            45,
            50,
            55,
            60,
            65,
            70,
            75,
            80
           ]
          }
         ],
         "name": "1997"
        },
        {
         "data": [
          {
           "type": "bar",
           "x": [
            47524070,
            60492599,
            60309031,
            52368238,
            52625220,
            65821432,
            62327900,
            42108537,
            45652877,
            38475833,
            26962850,
            22273988,
            20161998,
            15553391,
            10838069,
            6427383
           ],
           "y": [
            0,
            5,
            10,
            15,
            20,
            25,
            30,
            35,
            40,
            45,
            50,
            55,
            60,
            65,
            70,
            75,
            80
           ]
          },
          {
           "type": "bar",
           "x": [
            -41384876,
            -54242969,
            -55658400,
            -49231178,
            -49915883,
            -62927842,
            -59995983,
            -40765080,
            -44634646,
            -37961544,
            -25559118,
            -20922502,
            -19626102,
            -16184054,
            -12438028,
            -8603285
           ],
           "y": [
            0,
            5,
            10,
            15,
            20,
            25,
            30,
            35,
            40,
            45,
            50,
            55,
            60,
            65,
            70,
            75,
            80
           ]
          }
         ],
         "name": "1998"
        },
        {
         "data": [
          {
           "type": "bar",
           "x": [
            46314389,
            57343842,
            62781302,
            53378500,
            50324999,
            64358180,
            62719153,
            47329620,
            44458758,
            40634001,
            28628713,
            22560740,
            20270136,
            16166656,
            11236914,
            6810622
           ],
           "y": [
            0,
            5,
            10,
            15,
            20,
            25,
            30,
            35,
            40,
            45,
            50,
            55,
            60,
            65,
            70,
            75,
            80
           ]
          },
          {
           "type": "bar",
           "x": [
            -40154354,
            -51107925,
            -57650209,
            -50081224,
            -47673432,
            -61466798,
            -60349032,
            -45797845,
            -43393271,
            -40286677,
            -27368885,
            -21331793,
            -19603418,
            -16752538,
            -12787544,
            -9000606
           ],
           "y": [
            0,
            5,
            10,
            15,
            20,
            25,
            30,
            35,
            40,
            45,
            50,
            55,
            60,
            65,
            70,
            75,
            80
           ]
          }
         ],
         "name": "1999"
        },
        {
         "data": [
          {
           "type": "bar",
           "x": [
            45454689,
            53439323,
            65037433,
            54590659,
            49310776,
            61828514,
            63735773,
            52794746,
            42009591,
            42519790,
            30648271,
            22999870,
            20367438,
            16691398,
            11616987,
            7186754
           ],
           "y": [
            0,
            5,
            10,
            15,
            20,
            25,
            30,
            35,
            40,
            45,
            50,
            55,
            60,
            65,
            70,
            75,
            80
           ]
          },
          {
           "type": "bar",
           "x": [
            -39256012,
            -47322793,
            -59394557,
            -51085775,
            -46650578,
            -58988301,
            -61295733,
            -51058732,
            -40958667,
            -42183822,
            -29626273,
            -21897948,
            -19583131,
            -17281731,
            -13113224,
            -9374708
           ],
           "y": [
            0,
            5,
            10,
            15,
            20,
            25,
            30,
            35,
            40,
            45,
            50,
            55,
            60,
            65,
            70,
            75,
            80
           ]
          }
         ],
         "name": "2000"
        },
        {
         "data": [
          {
           "type": "bar",
           "x": [
            44803376,
            50335875,
            65393759,
            56216476,
            49375979,
            58695683,
            64654402,
            58412028,
            39448858,
            43779667,
            32781846,
            23586237,
            20560835,
            17184389,
            12043970,
            7487994
           ],
           "y": [
            0,
            5,
            10,
            15,
            20,
            25,
            30,
            35,
            40,
            45,
            50,
            55,
            60,
            65,
            70,
            75,
            80
           ]
          },
          {
           "type": "bar",
           "x": [
            -38563962,
            -44295722,
            -59388592,
            -52431167,
            -46646853,
            -55939248,
            -62134053,
            -56467747,
            -38438989,
            -43362357,
            -32064231,
            -22611534,
            -19715410,
            -17769814,
            -13504572,
            -9648373
           ],
           "y": [
            0,
            5,
            10,
            15,
            20,
            25,
            30,
            35,
            40,
            45,
            50,
            55,
            60,
            65,
            70,
            75,
            80
           ]
          }
         ],
         "name": "2001"
        },
        {
         "data": [
          {
           "type": "bar",
           "x": [
            44176068,
            48633740,
            63208781,
            58033884,
            50669022,
            55503598,
            65499301,
            61592882,
            38672426,
            44628399,
            35129771,
            24554464,
            20726327,
            17649129,
            12476555,
            7788376
           ],
           "y": [
            0,
            5,
            10,
            15,
            20,
            25,
            30,
            35,
            40,
            45,
            50,
            55,
            60,
            65,
            70,
            75,
            80
           ]
          },
          {
           "type": "bar",
           "x": [
            -37915054,
            -42561004,
            -57079422,
            -53895321,
            -47790216,
            -52837509,
            -62890361,
            -59528731,
            -37659608,
            -44107118,
            -34779238,
            -23617160,
            -19940140,
            -18149968,
            -13926675,
            -9918456
           ],
           "y": [
            0,
            5,
            10,
            15,
            20,
            25,
            30,
            35,
            40,
            45,
            50,
            55,
            60,
            65,
            70,
            75,
            80
           ]
          }
         ],
         "name": "2002"
        },
        {
         "data": [
          {
           "type": "bar",
           "x": [
            43722972,
            47239131,
            60320027,
            60140011,
            52133278,
            52295010,
            65361941,
            61817460,
            41629427,
            44878801,
            37494004,
            25912888,
            20833260,
            17937983,
            12965901,
            8142205
           ],
           "y": [
            0,
            5,
            10,
            15,
            20,
            25,
            30,
            35,
            40,
            45,
            50,
            55,
            60,
            65,
            70,
            75,
            80
           ]
          },
          {
           "type": "bar",
           "x": [
            -37435686,
            -41133702,
            -54149575,
            -55582000,
            -49081252,
            -49717280,
            -62694760,
            -59727971,
            -40508901,
            -44250584,
            -37477875,
            -25029038,
            -20177256,
            -18305395,
            -14402468,
            -10259117
           ],
           "y": [
            0,
            5,
            10,
            15,
            20,
            25,
            30,
            35,
            40,
            45,
            50,
            55,
            60,
            65,
            70,
            75,
            80
           ]
          }
         ],
         "name": "2003"
        },
        {
         "data": [
          {
           "type": "bar",
           "x": [
            43484662,
            45999277,
            57114636,
            62519526,
            53035806,
            49901356,
            63802996,
            62114527,
            46736452,
            43647591,
            39556167,
            27490320,
            21102551,
            18040478,
            13488927,
            8456570
           ],
           "y": [
            0,
            5,
            10,
            15,
            20,
            25,
            30,
            35,
            40,
            45,
            50,
            55,
            60,
            65,
            70,
            75,
            80
           ]
          },
          {
           "type": "bar",
           "x": [
            -37158195,
            -39876810,
            -50958444,
            -57486331,
            -49821985,
            -47369993,
            -61128320,
            -59990780,
            -45451950,
            -42962217,
            -39735641,
            -26780984,
            -20566906,
            -18289494,
            -14920484,
            -10559718
           ],
           "y": [
            0,
            5,
            10,
            15,
            20,
            25,
            30,
            35,
            40,
            45,
            50,
            55,
            60,
            65,
            70,
            75,
            80
           ]
          }
         ],
         "name": "2004"
        },
        {
         "data": [
          {
           "type": "bar",
           "x": [
            43240854,
            45131002,
            53193696,
            64728736,
            54192707,
            48837225,
            61234195,
            63072718,
            52097468,
            41211059,
            41369346,
            29424005,
            21527194,
            18144627,
            13944004,
            8761658
           ],
           "y": [
            0,
            5,
            10,
            15,
            20,
            25,
            30,
            35,
            40,
            45,
            50,
            55,
            60,
            65,
            70,
            75,
            80
           ]
          },
          {
           "type": "bar",
           "x": [
            -36893409,
            -38971259,
            -47152821,
            -59189496,
            -50770868,
            -46289176,
            -58595843,
            -60883377,
            -50638980,
            -40519675,
            -41585239,
            -28990957,
            -21120030,
            -18290495,
            -15413782,
            -10851184
           ],
           "y": [
            0,
            5,
            10,
            15,
            20,
            25,
            30,
            35,
            40,
            45,
            50,
            55,
            60,
            65,
            70,
            75,
            80
           ]
          }
         ],
         "name": "2005"
        },
        {
         "data": [
          {
           "type": "bar",
           "x": [
            43153214,
            44470296,
            50075936,
            65046668,
            55767925,
            48852344,
            58072482,
            63936429,
            57598234,
            38669482,
            42568805,
            31467013,
            22094271,
            18339779,
            14372128,
            9097379
           ],
           "y": [
            0,
            5,
            10,
            15,
            20,
            25,
            30,
            35,
            40,
            45,
            50,
            55,
            60,
            65,
            70,
            75,
            80
           ]
          },
          {
           "type": "bar",
           "x": [
            -36778717,
            -38271247,
            -44107980,
            -59148639,
            -52067013,
            -46230707,
            -55501323,
            -61669334,
            -55967243,
            -37996964,
            -42721833,
            -31380213,
            -21817927,
            -18438713,
            -15870811,
            -11194983
           ],
           "y": [
            0,
            5,
            10,
            15,
            20,
            25,
            30,
            35,
            40,
            45,
            50,
            55,
            60,
            65,
            70,
            75,
            80
           ]
          }
         ],
         "name": "2006"
        },
        {
         "data": [
          {
           "type": "bar",
           "x": [
            43497430,
            43819456,
            48335407,
            62791029,
            57488432,
            50058928,
            54831343,
            64701590,
            60665358,
            37875709,
            43356035,
            33702094,
            23010277,
            18506224,
            14772555,
            9434441
           ],
           "y": [
            0,
            5,
            10,
            15,
            20,
            25,
            30,
            35,
            40,
            45,
            50,
            55,
            60,
            65,
            70,
            75,
            80
           ]
          },
          {
           "type": "bar",
           "x": [
            -37048916,
            -37602359,
            -42335663,
            -56768140,
            -53437035,
            -47288167,
            -52336258,
            -62348089,
            -58938872,
            -37188302,
            -43414350,
            -34026054,
            -22787261,
            -18665183,
            -16223417,
            -11559097
           ],
           "y": [
            0,
            5,
            10,
            15,
            20,
            25,
            30,
            35,
            40,
            45,
            50,
            55,
            60,
            65,
            70,
            75,
            80
           ]
          }
         ],
         "name": "2007"
        },
        {
         "data": [
          {
           "type": "bar",
           "x": [
            44134759,
            43335810,
            46897012,
            59833882,
            59492078,
            51439610,
            51585275,
            64493062,
            60817915,
            40748418,
            43556738,
            35944362,
            24277944,
            18617316,
            15027694,
            9820826
           ],
           "y": [
            0,
            5,
            10,
            15,
            20,
            25,
            30,
            35,
            40,
            45,
            50,
            55,
            60,
            65,
            70,
            75,
            80
           ]
          },
          {
           "type": "bar",
           "x": [
            -37586536,
            -37097577,
            -40867454,
            -53769098,
            -55027309,
            -48498894,
            -49165452,
            -62078275,
            -59069686,
            -39967340,
            -43507278,
            -36644628,
            -24139009,
            -18896559,
            -16374679,
            -11973251
           ],
           "y": [
            0,
            5,
            10,
            15,
            20,
            25,
            30,
            35,
            40,
            45,
            50,
            55,
            60,
            65,
            70,
            75,
            80
           ]
          }
         ],
         "name": "2008"
        },
        {
         "data": [
          {
           "type": "bar",
           "x": [
            44940820,
            43050080,
            45601601,
            56570506,
            61775143,
            52274403,
            49159716,
            62873539,
            61033184,
            45702535,
            42299032,
            37876981,
            25731820,
            18865430,
            15120004,
            10228146
           ],
           "y": [
            0,
            5,
            10,
            15,
            20,
            25,
            30,
            35,
            40,
            45,
            50,
            55,
            60,
            65,
            70,
            75,
            80
           ]
          },
          {
           "type": "bar",
           "x": [
            -38286207,
            -36781745,
            -39561644,
            -50523536,
            -56848385,
            -49177189,
            -46777414,
            -60442263,
            -59252560,
            -44793064,
            -42176468,
            -38809393,
            -25807916,
            -19262202,
            -16369872,
            -12420866
           ],
           "y": [
            0,
            5,
            10,
            15,
            20,
            25,
            30,
            35,
            40,
            45,
            50,
            55,
            60,
            65,
            70,
            75,
            80
           ]
          }
         ],
         "name": "2009"
        },
        {
         "data": [
          {
           "type": "bar",
           "x": [
            45676137,
            42752341,
            44676117,
            52616651,
            63891751,
            53358300,
            48050208,
            60257661,
            61893692,
            50878614,
            39876815,
            39562639,
            27520561,
            19256842,
            15220229,
            10586993
           ],
           "y": [
            0,
            5,
            10,
            15,
            20,
            25,
            30,
            35,
            40,
            45,
            50,
            55,
            60,
            65,
            70,
            75,
            80
           ]
          },
          {
           "type": "bar",
           "x": [
            -38944357,
            -36472605,
            -38606730,
            -46688136,
            -58474619,
            -50059191,
            -45646449,
            -57848999,
            -60051871,
            -49837465,
            -39715558,
            -40561065,
            -27921532,
            -19780777,
            -16385656,
            -12848043
           ],
           "y": [
            0,
            5,
            10,
            15,
            20,
            25,
            30,
            35,
            40,
            45,
            50,
            55,
            60,
            65,
            70,
            75,
            80
           ]
          }
         ],
         "name": "2010"
        },
        {
         "data": [
          {
           "type": "bar",
           "x": [
            46272558,
            42661150,
            44012005,
            49523270,
            64201405,
            54911961,
            48061801,
            57133012,
            62735586,
            56237681,
            37408831,
            40703574,
            29443681,
            19803989,
            15422913,
            10938665
           ],
           "y": [
            0,
            5,
            10,
            15,
            20,
            25,
            30,
            35,
            40,
            45,
            50,
            55,
            60,
            65,
            70,
            75,
            80
           ]
          },
          {
           "type": "bar",
           "x": [
            -39501929,
            -36355405,
            -37903444,
            -43663442,
            -58431050,
            -51337467,
            -45580634,
            -54773111,
            -60816965,
            -55070930,
            -37230819,
            -41660160,
            -30244209,
            -20461710,
            -16559612,
            -13260496
           ],
           "y": [
            0,
            5,
            10,
            15,
            20,
            25,
            30,
            35,
            40,
            45,
            50,
            55,
            60,
            65,
            70,
            75,
            80
           ]
          }
         ],
         "name": "2011"
        },
        {
         "data": [
          {
           "type": "bar",
           "x": [
            47093081,
            43056249,
            43410156,
            47852175,
            62058506,
            56717126,
            49347881,
            54022241,
            63568422,
            59292064,
            36698436,
            41502705,
            31581326,
            20682733,
            15617713,
            11277082
           ],
           "y": [
            0,
            5,
            10,
            15,
            20,
            25,
            30,
            35,
            40,
            45,
            50,
            55,
            60,
            65,
            70,
            75,
            80
           ]
          },
          {
           "type": "bar",
           "x": [
            -40272858,
            -36671235,
            -37277443,
            -41953838,
            -56160888,
            -52796840,
            -46717090,
            -51718842,
            -61561922,
            -58057720,
            -36483760,
            -42378060,
            -32854073,
            -21421667,
            -16824315,
            -13602183
           ],
           "y": [
            0,
            5,
            10,
            15,
            20,
            25,
            30,
            35,
            40,
            45,
            50,
            55,
            60,
            65,
            70,
            75,
            80
           ]
          }
         ],
         "name": "2012"
        },
        {
         "data": [
          {
           "type": "bar",
           "x": [
            47788528,
            43747957,
            42977080,
            46481674,
            59224216,
            58816373,
            50818869,
            50911590,
            63453768,
            59515624,
            39566750,
            41748508,
            33735068,
            21871219,
            15770184,
            11514181
           ],
           "y": [
            0,
            5,
            10,
            15,
            20,
            25,
            30,
            35,
            40,
            45,
            50,
            55,
            60,
            65,
            70,
            75,
            80
           ]
          },
          {
           "type": "bar",
           "x": [
            -40958147,
            -37257717,
            -36817115,
            -40547488,
            -53280901,
            -54489350,
            -48019204,
            -48664978,
            -61377190,
            -58258865,
            -39272824,
            -42515885,
            -35445933,
            -22741937,
            -17094254,
            -13784933
           ],
           "y": [
            0,
            5,
            10,
            15,
            20,
            25,
            30,
            35,
            40,
            45,
            50,
            55,
            60,
            65,
            70,
            75,
            80
           ]
          }
         ],
         "name": "2013"
        },
        {
         "data": [
          {
           "type": "bar",
           "x": [
            48117177,
            44627502,
            42763690,
            45266104,
            56079475,
            61183974,
            51741021,
            48608795,
            61973276,
            59835969,
            44472524,
            40613118,
            35619656,
            23237570,
            16051645,
            11638683
           ],
           "y": [
            0,
            5,
            10,
            15,
            20,
            25,
            30,
            35,
            40,
            45,
            50,
            55,
            60,
            65,
            70,
            75,
            80
           ]
          },
          {
           "type": "bar",
           "x": [
            -41351542,
            -38020592,
            -36562718,
            -39309528,
            -50140581,
            -56396027,
            -48781730,
            -46383692,
            -59861195,
            -58543315,
            -44097205,
            -41282888,
            -37619994,
            -24381475,
            -17495770,
            -13850520
           ],
           "y": [
            0,
            5,
            10,
            15,
            20,
            25,
            30,
            35,
            40,
            45,
            50,
            55,
            60,
            65,
            70,
            75,
            80
           ]
          }
         ],
         "name": "2014"
        },
        {
         "data": [
          {
           "type": "bar",
           "x": [
            48169388,
            45447311,
            42549745,
            44418586,
            52224781,
            63371892,
            52894241,
            47593078,
            59508847,
            60803194,
            49602041,
            38362894,
            37282332,
            24924398,
            16461909,
            11774103
           ],
           "y": [
            0,
            5,
            10,
            15,
            20,
            25,
            30,
            35,
            40,
            45,
            50,
            55,
            60,
            65,
            70,
            75,
            80
           ]
          },
          {
           "type": "bar",
           "x": [
            -41525526,
            -38749647,
            -36323133,
            -38416849,
            -46382923,
            -58088605,
            -49728433,
            -45335247,
            -57395525,
            -59451669,
            -49157500,
            -38949757,
            -39403725,
            -26471677,
            -18045214,
            -13944872
           ],
           "y": [
            0,
            5,
            10,
            15,
            20,
            25,
            30,
            35,
            40,
            45,
            50,
            55,
            60,
            65,
            70,
            75,
            80
           ]
          }
         ],
         "name": "2015"
        },
        {
         "data": [
          {
           "type": "bar",
           "x": [
            48157905,
            46098262,
            42510248,
            43803782,
            49192514,
            63736895,
            54491373,
            47659859,
            56493361,
            61712954,
            54875972,
            36034762,
            38400099,
            26722076,
            17001047,
            11988950
           ],
           "y": [
            0,
            5,
            10,
            15,
            20,
            25,
            30,
            35,
            40,
            45,
            50,
            55,
            60,
            65,
            70,
            75,
            80
           ]
          },
          {
           "type": "bar",
           "x": [
            -41663403,
            -39353107,
            -36248537,
            -37753116,
            -43405284,
            -58095639,
            -51048962,
            -45318531,
            -54403795,
            -60285361,
            -54379041,
            -36556957,
            -40520017,
            -28755111,
            -18734778,
            -14170739
           ],
           "y": [
            0,
            5,
            10,
            15,
            20,
            25,
            30,
            35,
            40,
            45,
            50,
            55,
            60,
            65,
            70,
            75,
            80
           ]
          }
         ],
         "name": "2016"
        },
        {
         "data": [
          {
           "type": "bar",
           "x": [
            47978653,
            46934198,
            42921295,
            43227403,
            47553107,
            61624715,
            56305160,
            48958324,
            53441896,
            62561800,
            57857871,
            35380194,
            39166770,
            28686253,
            17800201,
            12181208
           ],
           "y": [
            0,
            5,
            10,
            15,
            20,
            25,
            30,
            35,
            40,
            45,
            50,
            55,
            60,
            65,
            70,
            75,
            80
           ]
          },
          {
           "type": "bar",
           "x": [
            -41700629,
            -40136912,
            -36577429,
            -37149652,
            -41722530,
            -55851615,
            -52519403,
            -46467309,
            -51387334,
            -61049105,
            -57344698,
            -35843806,
            -41235373,
            -31292683,
            -19662260,
            -14460695
           ],
           "y": [
            0,
            5,
            10,
            15,
            20,
            25,
            30,
            35,
            40,
            45,
            50,
            55,
            60,
            65,
            70,
            75,
            80
           ]
          }
         ],
         "name": "2017"
        },
        {
         "data": [
          {
           "type": "bar",
           "x": [
            46887981,
            47644396,
            43627885,
            42817248,
            46207604,
            58815885,
            58403254,
            50433603,
            50386002,
            62479517,
            58099846,
            38194366,
            39418402,
            30669590,
            18852756,
            12343207
           ],
           "y": [
            0,
            5,
            10,
            15,
            20,
            25,
            30,
            35,
            40,
            45,
            50,
            55,
            60,
            65,
            70,
            75,
            80
           ]
          },
          {
           "type": "bar",
           "x": [
            -40934647,
            -40833901,
            -37175700,
            -36708768,
            -40336064,
            -52989528,
            -54213798,
            -47774737,
            -48367270,
            -60889687,
            -57571152,
            -38614498,
            -41389486,
            -33817315,
            -20917059,
            -14753883
           ],
           "y": [
            0,
            5,
            10,
            15,
            20,
            25,
            30,
            35,
            40,
            45,
            50,
            55,
            60,
            65,
            70,
            75,
            80
           ]
          }
         ],
         "name": "2018"
        },
        {
         "data": [
          {
           "type": "bar",
           "x": [
            45006875,
            48004396,
            44534610,
            42626158,
            45014490,
            55706672,
            60783908,
            51377332,
            48144457,
            61076492,
            58472576,
            42984534,
            38374180,
            32428084,
            20069867,
            12627031
           ],
           "y": [
            0,
            5,
            10,
            15,
            20,
            25,
            30,
            35,
            40,
            45,
            50,
            55,
            60,
            65,
            70,
            75,
            80
           ]
          },
          {
           "type": "bar",
           "x": [
            -39415269,
            -41253090,
            -37959894,
            -36469477,
            -39112543,
            -49873080,
            -56135406,
            -48557018,
            -46127571,
            -59426420,
            -57903342,
            -43397958,
            -40213974,
            -35946934,
            -22477861,
            -15164232
           ],
           "y": [
            0,
            5,
            10,
            15,
            20,
            25,
            30,
            35,
            40,
            45,
            50,
            55,
            60,
            65,
            70,
            75,
            80
           ]
          }
         ],
         "name": "2019"
        },
        {
         "data": [
          {
           "type": "bar",
           "x": [
            42401148,
            48099312,
            45390757,
            42444894,
            44208685,
            51917714,
            63016755,
            52572479,
            47188710,
            58708249,
            59481364,
            47982121,
            36274094,
            33979409,
            21574911,
            13015232
           ],
           "y": [
            0,
            5,
            10,
            15,
            20,
            25,
            30,
            35,
            40,
            45,
            50,
            55,
            60,
            65,
            70,
            75,
            80
           ]
          },
          {
           "type": "bar",
           "x": [
            -37286857,
            -41463846,
            -38718791,
            -36255224,
            -38255106,
            -46168527,
            -57874577,
            -49544962,
            -45127659,
            -57028683,
            -58862173,
            -48420766,
            -37969600,
            -37695737,
            -24481027,
            -15706266
           ],
           "y": [
            0,
            5,
            10,
            15,
            20,
            25,
            30,
            35,
            40,
            45,
            50,
            55,
            60,
            65,
            70,
            75,
            80
           ]
          }
         ],
         "name": "2020"
        },
        {
         "data": [
          {
           "type": "bar",
           "x": [
            38802141,
            48127269,
            46077575,
            42441714,
            43637348,
            48943931,
            63431979,
            54207913,
            47300851,
            55783379,
            60422799,
            53103266,
            34097647,
            35022489,
            23177262,
            13510140
           ],
           "y": [
            0,
            5,
            10,
            15,
            20,
            25,
            30,
            35,
            40,
            45,
            50,
            55,
            60,
            65,
            70,
            75,
            80
           ]
          },
          {
           "type": "bar",
           "x": [
            -34324224,
            -41635821,
            -39352043,
            -36210584,
            -37629021,
            -43238213,
            -57929324,
            -50904100,
            -45150868,
            -54098374,
            -59738602,
            -53597653,
            -35660756,
            -38793955,
            -26676375,
            -16375324
           ],
           "y": [
            0,
            5,
            10,
            15,
            20,
            25,
            30,
            35,
            40,
            45,
            50,
            55,
            60,
            65,
            70,
            75,
            80
           ]
          }
         ],
         "name": "2021"
        },
        {
         "data": [
          {
           "type": "bar",
           "x": [
            34407301,
            47977432,
            46945694,
            42880142,
            43079433,
            47322938,
            61347262,
            56040230,
            48623953,
            52814513,
            61302770,
            56011299,
            33543614,
            35762285,
            24926689,
            14205563
           ],
           "y": [
            0,
            5,
            10,
            15,
            20,
            25,
            30,
            35,
            40,
            45,
            50,
            55,
            60,
            65,
            70,
            75,
            80
           ]
          },
          {
           "type": "bar",
           "x": [
            -30600067,
            -41697708,
            -40161573,
            -36559731,
            -37035577,
            -41562725,
            -55702933,
            -52391805,
            -46321543,
            -51130200,
            -60536192,
            -56551300,
            -35002089,
            -39507542,
            -29106909,
            -17241445
           ],
           "y": [
            0,
            5,
            10,
            15,
            20,
            25,
            30,
            35,
            40,
            45,
            50,
            55,
            60,
            65,
            70,
            75,
            80
           ]
          }
         ],
         "name": "2022"
        },
        {
         "data": [
          {
           "type": "bar",
           "x": [
            30390275,
            46921541,
            47697475,
            43619845,
            42690196,
            45996968,
            58571312,
            58164459,
            50128672,
            49849324,
            61288205,
            56295989,
            36317207,
            36029698,
            26676047,
            15052265
           ],
           "y": [
            0,
            5,
            10,
            15,
            20,
            25,
            30,
            35,
            40,
            45,
            50,
            55,
            60,
            65,
            70,
            75,
            80
           ]
          },
          {
           "type": "bar",
           "x": [
            -27167674,
            -40962090,
            -40892243,
            -37182969,
            -36605841,
            -40184117,
            -52861422,
            -54111081,
            -47658004,
            -48165337,
            -60432093,
            -56825905,
            -37771419,
            -39685195,
            -31522585,
            -18369107
           ],
           "y": [
            0,
            5,
            10,
            15,
            20,
            25,
            30,
            35,
            40,
            45,
            50,
            55,
            60,
            65,
            70,
            75,
            80
           ]
          }
         ],
         "name": "2023"
        }
       ],
       "layout": {
        "bargap": 0.1,
        "barmode": "overlay",
        "height": 600,
        "margin": {
         "b": 50,
         "t": 150
        },
        "sliders": [
         {
          "active": 0,
          "currentvalue": {
           "font": {
            "size": 20
           },
           "prefix": "Year: "
          },
          "len": 0.9,
          "pad": {
           "b": 0,
           "t": 100
          },
          "steps": [
           {
            "args": [
             [
              "1960"
             ],
             {
              "frame": {
               "duration": 300,
               "redraw": true
              },
              "mode": "immediate"
             }
            ],
            "label": "1960",
            "method": "animate"
           },
           {
            "args": [
             [
              "1961"
             ],
             {
              "frame": {
               "duration": 300,
               "redraw": true
              },
              "mode": "immediate"
             }
            ],
            "label": "1961",
            "method": "animate"
           },
           {
            "args": [
             [
              "1962"
             ],
             {
              "frame": {
               "duration": 300,
               "redraw": true
              },
              "mode": "immediate"
             }
            ],
            "label": "1962",
            "method": "animate"
           },
           {
            "args": [
             [
              "1963"
             ],
             {
              "frame": {
               "duration": 300,
               "redraw": true
              },
              "mode": "immediate"
             }
            ],
            "label": "1963",
            "method": "animate"
           },
           {
            "args": [
             [
              "1964"
             ],
             {
              "frame": {
               "duration": 300,
               "redraw": true
              },
              "mode": "immediate"
             }
            ],
            "label": "1964",
            "method": "animate"
           },
           {
            "args": [
             [
              "1965"
             ],
             {
              "frame": {
               "duration": 300,
               "redraw": true
              },
              "mode": "immediate"
             }
            ],
            "label": "1965",
            "method": "animate"
           },
           {
            "args": [
             [
              "1966"
             ],
             {
              "frame": {
               "duration": 300,
               "redraw": true
              },
              "mode": "immediate"
             }
            ],
            "label": "1966",
            "method": "animate"
           },
           {
            "args": [
             [
              "1967"
             ],
             {
              "frame": {
               "duration": 300,
               "redraw": true
              },
              "mode": "immediate"
             }
            ],
            "label": "1967",
            "method": "animate"
           },
           {
            "args": [
             [
              "1968"
             ],
             {
              "frame": {
               "duration": 300,
               "redraw": true
              },
              "mode": "immediate"
             }
            ],
            "label": "1968",
            "method": "animate"
           },
           {
            "args": [
             [
              "1969"
             ],
             {
              "frame": {
               "duration": 300,
               "redraw": true
              },
              "mode": "immediate"
             }
            ],
            "label": "1969",
            "method": "animate"
           },
           {
            "args": [
             [
              "1970"
             ],
             {
              "frame": {
               "duration": 300,
               "redraw": true
              },
              "mode": "immediate"
             }
            ],
            "label": "1970",
            "method": "animate"
           },
           {
            "args": [
             [
              "1971"
             ],
             {
              "frame": {
               "duration": 300,
               "redraw": true
              },
              "mode": "immediate"
             }
            ],
            "label": "1971",
            "method": "animate"
           },
           {
            "args": [
             [
              "1972"
             ],
             {
              "frame": {
               "duration": 300,
               "redraw": true
              },
              "mode": "immediate"
             }
            ],
            "label": "1972",
            "method": "animate"
           },
           {
            "args": [
             [
              "1973"
             ],
             {
              "frame": {
               "duration": 300,
               "redraw": true
              },
              "mode": "immediate"
             }
            ],
            "label": "1973",
            "method": "animate"
           },
           {
            "args": [
             [
              "1974"
             ],
             {
              "frame": {
               "duration": 300,
               "redraw": true
              },
              "mode": "immediate"
             }
            ],
            "label": "1974",
            "method": "animate"
           },
           {
            "args": [
             [
              "1975"
             ],
             {
              "frame": {
               "duration": 300,
               "redraw": true
              },
              "mode": "immediate"
             }
            ],
            "label": "1975",
            "method": "animate"
           },
           {
            "args": [
             [
              "1976"
             ],
             {
              "frame": {
               "duration": 300,
               "redraw": true
              },
              "mode": "immediate"
             }
            ],
            "label": "1976",
            "method": "animate"
           },
           {
            "args": [
             [
              "1977"
             ],
             {
              "frame": {
               "duration": 300,
               "redraw": true
              },
              "mode": "immediate"
             }
            ],
            "label": "1977",
            "method": "animate"
           },
           {
            "args": [
             [
              "1978"
             ],
             {
              "frame": {
               "duration": 300,
               "redraw": true
              },
              "mode": "immediate"
             }
            ],
            "label": "1978",
            "method": "animate"
           },
           {
            "args": [
             [
              "1979"
             ],
             {
              "frame": {
               "duration": 300,
               "redraw": true
              },
              "mode": "immediate"
             }
            ],
            "label": "1979",
            "method": "animate"
           },
           {
            "args": [
             [
              "1980"
             ],
             {
              "frame": {
               "duration": 300,
               "redraw": true
              },
              "mode": "immediate"
             }
            ],
            "label": "1980",
            "method": "animate"
           },
           {
            "args": [
             [
              "1981"
             ],
             {
              "frame": {
               "duration": 300,
               "redraw": true
              },
              "mode": "immediate"
             }
            ],
            "label": "1981",
            "method": "animate"
           },
           {
            "args": [
             [
              "1982"
             ],
             {
              "frame": {
               "duration": 300,
               "redraw": true
              },
              "mode": "immediate"
             }
            ],
            "label": "1982",
            "method": "animate"
           },
           {
            "args": [
             [
              "1983"
             ],
             {
              "frame": {
               "duration": 300,
               "redraw": true
              },
              "mode": "immediate"
             }
            ],
            "label": "1983",
            "method": "animate"
           },
           {
            "args": [
             [
              "1984"
             ],
             {
              "frame": {
               "duration": 300,
               "redraw": true
              },
              "mode": "immediate"
             }
            ],
            "label": "1984",
            "method": "animate"
           },
           {
            "args": [
             [
              "1985"
             ],
             {
              "frame": {
               "duration": 300,
               "redraw": true
              },
              "mode": "immediate"
             }
            ],
            "label": "1985",
            "method": "animate"
           },
           {
            "args": [
             [
              "1986"
             ],
             {
              "frame": {
               "duration": 300,
               "redraw": true
              },
              "mode": "immediate"
             }
            ],
            "label": "1986",
            "method": "animate"
           },
           {
            "args": [
             [
              "1987"
             ],
             {
              "frame": {
               "duration": 300,
               "redraw": true
              },
              "mode": "immediate"
             }
            ],
            "label": "1987",
            "method": "animate"
           },
           {
            "args": [
             [
              "1988"
             ],
             {
              "frame": {
               "duration": 300,
               "redraw": true
              },
              "mode": "immediate"
             }
            ],
            "label": "1988",
            "method": "animate"
           },
           {
            "args": [
             [
              "1989"
             ],
             {
              "frame": {
               "duration": 300,
               "redraw": true
              },
              "mode": "immediate"
             }
            ],
            "label": "1989",
            "method": "animate"
           },
           {
            "args": [
             [
              "1990"
             ],
             {
              "frame": {
               "duration": 300,
               "redraw": true
              },
              "mode": "immediate"
             }
            ],
            "label": "1990",
            "method": "animate"
           },
           {
            "args": [
             [
              "1991"
             ],
             {
              "frame": {
               "duration": 300,
               "redraw": true
              },
              "mode": "immediate"
             }
            ],
            "label": "1991",
            "method": "animate"
           },
           {
            "args": [
             [
              "1992"
             ],
             {
              "frame": {
               "duration": 300,
               "redraw": true
              },
              "mode": "immediate"
             }
            ],
            "label": "1992",
            "method": "animate"
           },
           {
            "args": [
             [
              "1993"
             ],
             {
              "frame": {
               "duration": 300,
               "redraw": true
              },
              "mode": "immediate"
             }
            ],
            "label": "1993",
            "method": "animate"
           },
           {
            "args": [
             [
              "1994"
             ],
             {
              "frame": {
               "duration": 300,
               "redraw": true
              },
              "mode": "immediate"
             }
            ],
            "label": "1994",
            "method": "animate"
           },
           {
            "args": [
             [
              "1995"
             ],
             {
              "frame": {
               "duration": 300,
               "redraw": true
              },
              "mode": "immediate"
             }
            ],
            "label": "1995",
            "method": "animate"
           },
           {
            "args": [
             [
              "1996"
             ],
             {
              "frame": {
               "duration": 300,
               "redraw": true
              },
              "mode": "immediate"
             }
            ],
            "label": "1996",
            "method": "animate"
           },
           {
            "args": [
             [
              "1997"
             ],
             {
              "frame": {
               "duration": 300,
               "redraw": true
              },
              "mode": "immediate"
             }
            ],
            "label": "1997",
            "method": "animate"
           },
           {
            "args": [
             [
              "1998"
             ],
             {
              "frame": {
               "duration": 300,
               "redraw": true
              },
              "mode": "immediate"
             }
            ],
            "label": "1998",
            "method": "animate"
           },
           {
            "args": [
             [
              "1999"
             ],
             {
              "frame": {
               "duration": 300,
               "redraw": true
              },
              "mode": "immediate"
             }
            ],
            "label": "1999",
            "method": "animate"
           },
           {
            "args": [
             [
              "2000"
             ],
             {
              "frame": {
               "duration": 300,
               "redraw": true
              },
              "mode": "immediate"
             }
            ],
            "label": "2000",
            "method": "animate"
           },
           {
            "args": [
             [
              "2001"
             ],
             {
              "frame": {
               "duration": 300,
               "redraw": true
              },
              "mode": "immediate"
             }
            ],
            "label": "2001",
            "method": "animate"
           },
           {
            "args": [
             [
              "2002"
             ],
             {
              "frame": {
               "duration": 300,
               "redraw": true
              },
              "mode": "immediate"
             }
            ],
            "label": "2002",
            "method": "animate"
           },
           {
            "args": [
             [
              "2003"
             ],
             {
              "frame": {
               "duration": 300,
               "redraw": true
              },
              "mode": "immediate"
             }
            ],
            "label": "2003",
            "method": "animate"
           },
           {
            "args": [
             [
              "2004"
             ],
             {
              "frame": {
               "duration": 300,
               "redraw": true
              },
              "mode": "immediate"
             }
            ],
            "label": "2004",
            "method": "animate"
           },
           {
            "args": [
             [
              "2005"
             ],
             {
              "frame": {
               "duration": 300,
               "redraw": true
              },
              "mode": "immediate"
             }
            ],
            "label": "2005",
            "method": "animate"
           },
           {
            "args": [
             [
              "2006"
             ],
             {
              "frame": {
               "duration": 300,
               "redraw": true
              },
              "mode": "immediate"
             }
            ],
            "label": "2006",
            "method": "animate"
           },
           {
            "args": [
             [
              "2007"
             ],
             {
              "frame": {
               "duration": 300,
               "redraw": true
              },
              "mode": "immediate"
             }
            ],
            "label": "2007",
            "method": "animate"
           },
           {
            "args": [
             [
              "2008"
             ],
             {
              "frame": {
               "duration": 300,
               "redraw": true
              },
              "mode": "immediate"
             }
            ],
            "label": "2008",
            "method": "animate"
           },
           {
            "args": [
             [
              "2009"
             ],
             {
              "frame": {
               "duration": 300,
               "redraw": true
              },
              "mode": "immediate"
             }
            ],
            "label": "2009",
            "method": "animate"
           },
           {
            "args": [
             [
              "2010"
             ],
             {
              "frame": {
               "duration": 300,
               "redraw": true
              },
              "mode": "immediate"
             }
            ],
            "label": "2010",
            "method": "animate"
           },
           {
            "args": [
             [
              "2011"
             ],
             {
              "frame": {
               "duration": 300,
               "redraw": true
              },
              "mode": "immediate"
             }
            ],
            "label": "2011",
            "method": "animate"
           },
           {
            "args": [
             [
              "2012"
             ],
             {
              "frame": {
               "duration": 300,
               "redraw": true
              },
              "mode": "immediate"
             }
            ],
            "label": "2012",
            "method": "animate"
           },
           {
            "args": [
             [
              "2013"
             ],
             {
              "frame": {
               "duration": 300,
               "redraw": true
              },
              "mode": "immediate"
             }
            ],
            "label": "2013",
            "method": "animate"
           },
           {
            "args": [
             [
              "2014"
             ],
             {
              "frame": {
               "duration": 300,
               "redraw": true
              },
              "mode": "immediate"
             }
            ],
            "label": "2014",
            "method": "animate"
           },
           {
            "args": [
             [
              "2015"
             ],
             {
              "frame": {
               "duration": 300,
               "redraw": true
              },
              "mode": "immediate"
             }
            ],
            "label": "2015",
            "method": "animate"
           },
           {
            "args": [
             [
              "2016"
             ],
             {
              "frame": {
               "duration": 300,
               "redraw": true
              },
              "mode": "immediate"
             }
            ],
            "label": "2016",
            "method": "animate"
           },
           {
            "args": [
             [
              "2017"
             ],
             {
              "frame": {
               "duration": 300,
               "redraw": true
              },
              "mode": "immediate"
             }
            ],
            "label": "2017",
            "method": "animate"
           },
           {
            "args": [
             [
              "2018"
             ],
             {
              "frame": {
               "duration": 300,
               "redraw": true
              },
              "mode": "immediate"
             }
            ],
            "label": "2018",
            "method": "animate"
           },
           {
            "args": [
             [
              "2019"
             ],
             {
              "frame": {
               "duration": 300,
               "redraw": true
              },
              "mode": "immediate"
             }
            ],
            "label": "2019",
            "method": "animate"
           },
           {
            "args": [
             [
              "2020"
             ],
             {
              "frame": {
               "duration": 300,
               "redraw": true
              },
              "mode": "immediate"
             }
            ],
            "label": "2020",
            "method": "animate"
           },
           {
            "args": [
             [
              "2021"
             ],
             {
              "frame": {
               "duration": 300,
               "redraw": true
              },
              "mode": "immediate"
             }
            ],
            "label": "2021",
            "method": "animate"
           },
           {
            "args": [
             [
              "2022"
             ],
             {
              "frame": {
               "duration": 300,
               "redraw": true
              },
              "mode": "immediate"
             }
            ],
            "label": "2022",
            "method": "animate"
           },
           {
            "args": [
             [
              "2023"
             ],
             {
              "frame": {
               "duration": 300,
               "redraw": true
              },
              "mode": "immediate"
             }
            ],
            "label": "2023",
            "method": "animate"
           }
          ],
          "x": 0.1,
          "xanchor": "left",
          "y": 1.15,
          "yanchor": "bottom"
         }
        ],
        "template": {
         "data": {
          "bar": [
           {
            "error_x": {
             "color": "#2a3f5f"
            },
            "error_y": {
             "color": "#2a3f5f"
            },
            "marker": {
             "line": {
              "color": "white",
              "width": 0.5
             },
             "pattern": {
              "fillmode": "overlay",
              "size": 10,
              "solidity": 0.2
             }
            },
            "type": "bar"
           }
          ],
          "barpolar": [
           {
            "marker": {
             "line": {
              "color": "white",
              "width": 0.5
             },
             "pattern": {
              "fillmode": "overlay",
              "size": 10,
              "solidity": 0.2
             }
            },
            "type": "barpolar"
           }
          ],
          "carpet": [
           {
            "aaxis": {
             "endlinecolor": "#2a3f5f",
             "gridcolor": "#C8D4E3",
             "linecolor": "#C8D4E3",
             "minorgridcolor": "#C8D4E3",
             "startlinecolor": "#2a3f5f"
            },
            "baxis": {
             "endlinecolor": "#2a3f5f",
             "gridcolor": "#C8D4E3",
             "linecolor": "#C8D4E3",
             "minorgridcolor": "#C8D4E3",
             "startlinecolor": "#2a3f5f"
            },
            "type": "carpet"
           }
          ],
          "choropleth": [
           {
            "colorbar": {
             "outlinewidth": 0,
             "ticks": ""
            },
            "type": "choropleth"
           }
          ],
          "contour": [
           {
            "colorbar": {
             "outlinewidth": 0,
             "ticks": ""
            },
            "colorscale": [
             [
              0,
              "#0d0887"
             ],
             [
              0.1111111111111111,
              "#46039f"
             ],
             [
              0.2222222222222222,
              "#7201a8"
             ],
             [
              0.3333333333333333,
              "#9c179e"
             ],
             [
              0.4444444444444444,
              "#bd3786"
             ],
             [
              0.5555555555555556,
              "#d8576b"
             ],
             [
              0.6666666666666666,
              "#ed7953"
             ],
             [
              0.7777777777777778,
              "#fb9f3a"
             ],
             [
              0.8888888888888888,
              "#fdca26"
             ],
             [
              1,
              "#f0f921"
             ]
            ],
            "type": "contour"
           }
          ],
          "contourcarpet": [
           {
            "colorbar": {
             "outlinewidth": 0,
             "ticks": ""
            },
            "type": "contourcarpet"
           }
          ],
          "heatmap": [
           {
            "colorbar": {
             "outlinewidth": 0,
             "ticks": ""
            },
            "colorscale": [
             [
              0,
              "#0d0887"
             ],
             [
              0.1111111111111111,
              "#46039f"
             ],
             [
              0.2222222222222222,
              "#7201a8"
             ],
             [
              0.3333333333333333,
              "#9c179e"
             ],
             [
              0.4444444444444444,
              "#bd3786"
             ],
             [
              0.5555555555555556,
              "#d8576b"
             ],
             [
              0.6666666666666666,
              "#ed7953"
             ],
             [
              0.7777777777777778,
              "#fb9f3a"
             ],
             [
              0.8888888888888888,
              "#fdca26"
             ],
             [
              1,
              "#f0f921"
             ]
            ],
            "type": "heatmap"
           }
          ],
          "heatmapgl": [
           {
            "colorbar": {
             "outlinewidth": 0,
             "ticks": ""
            },
            "colorscale": [
             [
              0,
              "#0d0887"
             ],
             [
              0.1111111111111111,
              "#46039f"
             ],
             [
              0.2222222222222222,
              "#7201a8"
             ],
             [
              0.3333333333333333,
              "#9c179e"
             ],
             [
              0.4444444444444444,
              "#bd3786"
             ],
             [
              0.5555555555555556,
              "#d8576b"
             ],
             [
              0.6666666666666666,
              "#ed7953"
             ],
             [
              0.7777777777777778,
              "#fb9f3a"
             ],
             [
              0.8888888888888888,
              "#fdca26"
             ],
             [
              1,
              "#f0f921"
             ]
            ],
            "type": "heatmapgl"
           }
          ],
          "histogram": [
           {
            "marker": {
             "pattern": {
              "fillmode": "overlay",
              "size": 10,
              "solidity": 0.2
             }
            },
            "type": "histogram"
           }
          ],
          "histogram2d": [
           {
            "colorbar": {
             "outlinewidth": 0,
             "ticks": ""
            },
            "colorscale": [
             [
              0,
              "#0d0887"
             ],
             [
              0.1111111111111111,
              "#46039f"
             ],
             [
              0.2222222222222222,
              "#7201a8"
             ],
             [
              0.3333333333333333,
              "#9c179e"
             ],
             [
              0.4444444444444444,
              "#bd3786"
             ],
             [
              0.5555555555555556,
              "#d8576b"
             ],
             [
              0.6666666666666666,
              "#ed7953"
             ],
             [
              0.7777777777777778,
              "#fb9f3a"
             ],
             [
              0.8888888888888888,
              "#fdca26"
             ],
             [
              1,
              "#f0f921"
             ]
            ],
            "type": "histogram2d"
           }
          ],
          "histogram2dcontour": [
           {
            "colorbar": {
             "outlinewidth": 0,
             "ticks": ""
            },
            "colorscale": [
             [
              0,
              "#0d0887"
             ],
             [
              0.1111111111111111,
              "#46039f"
             ],
             [
              0.2222222222222222,
              "#7201a8"
             ],
             [
              0.3333333333333333,
              "#9c179e"
             ],
             [
              0.4444444444444444,
              "#bd3786"
             ],
             [
              0.5555555555555556,
              "#d8576b"
             ],
             [
              0.6666666666666666,
              "#ed7953"
             ],
             [
              0.7777777777777778,
              "#fb9f3a"
             ],
             [
              0.8888888888888888,
              "#fdca26"
             ],
             [
              1,
              "#f0f921"
             ]
            ],
            "type": "histogram2dcontour"
           }
          ],
          "mesh3d": [
           {
            "colorbar": {
             "outlinewidth": 0,
             "ticks": ""
            },
            "type": "mesh3d"
           }
          ],
          "parcoords": [
           {
            "line": {
             "colorbar": {
              "outlinewidth": 0,
              "ticks": ""
             }
            },
            "type": "parcoords"
           }
          ],
          "pie": [
           {
            "automargin": true,
            "type": "pie"
           }
          ],
          "scatter": [
           {
            "fillpattern": {
             "fillmode": "overlay",
             "size": 10,
             "solidity": 0.2
            },
            "type": "scatter"
           }
          ],
          "scatter3d": [
           {
            "line": {
             "colorbar": {
              "outlinewidth": 0,
              "ticks": ""
             }
            },
            "marker": {
             "colorbar": {
              "outlinewidth": 0,
              "ticks": ""
             }
            },
            "type": "scatter3d"
           }
          ],
          "scattercarpet": [
           {
            "marker": {
             "colorbar": {
              "outlinewidth": 0,
              "ticks": ""
             }
            },
            "type": "scattercarpet"
           }
          ],
          "scattergeo": [
           {
            "marker": {
             "colorbar": {
              "outlinewidth": 0,
              "ticks": ""
             }
            },
            "type": "scattergeo"
           }
          ],
          "scattergl": [
           {
            "marker": {
             "colorbar": {
              "outlinewidth": 0,
              "ticks": ""
             }
            },
            "type": "scattergl"
           }
          ],
          "scattermapbox": [
           {
            "marker": {
             "colorbar": {
              "outlinewidth": 0,
              "ticks": ""
             }
            },
            "type": "scattermapbox"
           }
          ],
          "scatterpolar": [
           {
            "marker": {
             "colorbar": {
              "outlinewidth": 0,
              "ticks": ""
             }
            },
            "type": "scatterpolar"
           }
          ],
          "scatterpolargl": [
           {
            "marker": {
             "colorbar": {
              "outlinewidth": 0,
              "ticks": ""
             }
            },
            "type": "scatterpolargl"
           }
          ],
          "scatterternary": [
           {
            "marker": {
             "colorbar": {
              "outlinewidth": 0,
              "ticks": ""
             }
            },
            "type": "scatterternary"
           }
          ],
          "surface": [
           {
            "colorbar": {
             "outlinewidth": 0,
             "ticks": ""
            },
            "colorscale": [
             [
              0,
              "#0d0887"
             ],
             [
              0.1111111111111111,
              "#46039f"
             ],
             [
              0.2222222222222222,
              "#7201a8"
             ],
             [
              0.3333333333333333,
              "#9c179e"
             ],
             [
              0.4444444444444444,
              "#bd3786"
             ],
             [
              0.5555555555555556,
              "#d8576b"
             ],
             [
              0.6666666666666666,
              "#ed7953"
             ],
             [
              0.7777777777777778,
              "#fb9f3a"
             ],
             [
              0.8888888888888888,
              "#fdca26"
             ],
             [
              1,
              "#f0f921"
             ]
            ],
            "type": "surface"
           }
          ],
          "table": [
           {
            "cells": {
             "fill": {
              "color": "#EBF0F8"
             },
             "line": {
              "color": "white"
             }
            },
            "header": {
             "fill": {
              "color": "#C8D4E3"
             },
             "line": {
              "color": "white"
             }
            },
            "type": "table"
           }
          ]
         },
         "layout": {
          "annotationdefaults": {
           "arrowcolor": "#2a3f5f",
           "arrowhead": 0,
           "arrowwidth": 1
          },
          "autotypenumbers": "strict",
          "coloraxis": {
           "colorbar": {
            "outlinewidth": 0,
            "ticks": ""
           }
          },
          "colorscale": {
           "diverging": [
            [
             0,
             "#8e0152"
            ],
            [
             0.1,
             "#c51b7d"
            ],
            [
             0.2,
             "#de77ae"
            ],
            [
             0.3,
             "#f1b6da"
            ],
            [
             0.4,
             "#fde0ef"
            ],
            [
             0.5,
             "#f7f7f7"
            ],
            [
             0.6,
             "#e6f5d0"
            ],
            [
             0.7,
             "#b8e186"
            ],
            [
             0.8,
             "#7fbc41"
            ],
            [
             0.9,
             "#4d9221"
            ],
            [
             1,
             "#276419"
            ]
           ],
           "sequential": [
            [
             0,
             "#0d0887"
            ],
            [
             0.1111111111111111,
             "#46039f"
            ],
            [
             0.2222222222222222,
             "#7201a8"
            ],
            [
             0.3333333333333333,
             "#9c179e"
            ],
            [
             0.4444444444444444,
             "#bd3786"
            ],
            [
             0.5555555555555556,
             "#d8576b"
            ],
            [
             0.6666666666666666,
             "#ed7953"
            ],
            [
             0.7777777777777778,
             "#fb9f3a"
            ],
            [
             0.8888888888888888,
             "#fdca26"
            ],
            [
             1,
             "#f0f921"
            ]
           ],
           "sequentialminus": [
            [
             0,
             "#0d0887"
            ],
            [
             0.1111111111111111,
             "#46039f"
            ],
            [
             0.2222222222222222,
             "#7201a8"
            ],
            [
             0.3333333333333333,
             "#9c179e"
            ],
            [
             0.4444444444444444,
             "#bd3786"
            ],
            [
             0.5555555555555556,
             "#d8576b"
            ],
            [
             0.6666666666666666,
             "#ed7953"
            ],
            [
             0.7777777777777778,
             "#fb9f3a"
            ],
            [
             0.8888888888888888,
             "#fdca26"
            ],
            [
             1,
             "#f0f921"
            ]
           ]
          },
          "colorway": [
           "#636efa",
           "#EF553B",
           "#00cc96",
           "#ab63fa",
           "#FFA15A",
           "#19d3f3",
           "#FF6692",
           "#B6E880",
           "#FF97FF",
           "#FECB52"
          ],
          "font": {
           "color": "#2a3f5f"
          },
          "geo": {
           "bgcolor": "white",
           "lakecolor": "white",
           "landcolor": "white",
           "showlakes": true,
           "showland": true,
           "subunitcolor": "#C8D4E3"
          },
          "hoverlabel": {
           "align": "left"
          },
          "hovermode": "closest",
          "mapbox": {
           "style": "light"
          },
          "paper_bgcolor": "white",
          "plot_bgcolor": "white",
          "polar": {
           "angularaxis": {
            "gridcolor": "#EBF0F8",
            "linecolor": "#EBF0F8",
            "ticks": ""
           },
           "bgcolor": "white",
           "radialaxis": {
            "gridcolor": "#EBF0F8",
            "linecolor": "#EBF0F8",
            "ticks": ""
           }
          },
          "scene": {
           "xaxis": {
            "backgroundcolor": "white",
            "gridcolor": "#DFE8F3",
            "gridwidth": 2,
            "linecolor": "#EBF0F8",
            "showbackground": true,
            "ticks": "",
            "zerolinecolor": "#EBF0F8"
           },
           "yaxis": {
            "backgroundcolor": "white",
            "gridcolor": "#DFE8F3",
            "gridwidth": 2,
            "linecolor": "#EBF0F8",
            "showbackground": true,
            "ticks": "",
            "zerolinecolor": "#EBF0F8"
           },
           "zaxis": {
            "backgroundcolor": "white",
            "gridcolor": "#DFE8F3",
            "gridwidth": 2,
            "linecolor": "#EBF0F8",
            "showbackground": true,
            "ticks": "",
            "zerolinecolor": "#EBF0F8"
           }
          },
          "shapedefaults": {
           "line": {
            "color": "#2a3f5f"
           }
          },
          "ternary": {
           "aaxis": {
            "gridcolor": "#DFE8F3",
            "linecolor": "#A2B1C6",
            "ticks": ""
           },
           "baxis": {
            "gridcolor": "#DFE8F3",
            "linecolor": "#A2B1C6",
            "ticks": ""
           },
           "bgcolor": "white",
           "caxis": {
            "gridcolor": "#DFE8F3",
            "linecolor": "#A2B1C6",
            "ticks": ""
           }
          },
          "title": {
           "x": 0.05
          },
          "xaxis": {
           "automargin": true,
           "gridcolor": "#EBF0F8",
           "linecolor": "#EBF0F8",
           "ticks": "",
           "title": {
            "standoff": 15
           },
           "zerolinecolor": "#EBF0F8",
           "zerolinewidth": 2
          },
          "yaxis": {
           "automargin": true,
           "gridcolor": "#EBF0F8",
           "linecolor": "#EBF0F8",
           "ticks": "",
           "title": {
            "standoff": 15
           },
           "zerolinecolor": "#EBF0F8",
           "zerolinewidth": 2
          }
         }
        },
        "title": {
         "text": "Population Pyramid Over Time"
        },
        "updatemenus": [
         {
          "buttons": [
           {
            "args": [
             null,
             {
              "frame": {
               "duration": 500,
               "redraw": true
              },
              "fromcurrent": true
             }
            ],
            "label": "Play",
            "method": "animate"
           },
           {
            "args": [
             [
              null
             ],
             {
              "frame": {
               "duration": 0,
               "redraw": true
              },
              "mode": "immediate",
              "transition": {
               "duration": 0
              }
             }
            ],
            "label": "Pause",
            "method": "animate"
           }
          ],
          "direction": "left",
          "pad": {
           "r": 10,
           "t": 30
          },
          "showactive": false,
          "type": "buttons",
          "x": 0.1,
          "xanchor": "right",
          "y": 1.25,
          "yanchor": "top"
         }
        ],
        "xaxis": {
         "showgrid": true,
         "tickformat": ",",
         "title": {
          "text": "Population"
         }
        },
        "yaxis": {
         "range": [
          0,
          85
         ],
         "title": {
          "text": "Age"
         }
        }
       }
      },
      "image/png": "[encoded data removed]",
      "text/html": [
       "<div>                            <div id=\"28648c74-e8dd-4bf4-a238-8be4fe7eec88\" class=\"plotly-graph-div\" style=\"height:600px; width:100%;\"></div>            <script type=\"text/javascript\">                require([\"plotly\"], function(Plotly) {                    window.PLOTLYENV=window.PLOTLYENV || {};                                    if (document.getElementById(\"28648c74-e8dd-4bf4-a238-8be4fe7eec88\")) {                    Plotly.newPlot(                        \"28648c74-e8dd-4bf4-a238-8be4fe7eec88\",                        [{\"hoverinfo\":\"x+y\",\"marker\":{\"color\":\"blue\"},\"name\":\"Men\",\"orientation\":\"h\",\"x\":[51416955.0,50098089.0,36823111.0,29027168.0,28092415.0,26459425.0,22874774.0,20178976.0,17445180.0,15573208.0,13126586.0,10884917.0,7858547.0,5468648.0,3289905.0,1628784.0],\"y\":[0,5,10,15,20,25,30,35,40,45,50,55,60,65,70,75,80],\"type\":\"bar\"},{\"hoverinfo\":\"x+y\",\"marker\":{\"color\":\"pink\"},\"name\":\"Women\",\"orientation\":\"h\",\"x\":[-48955681.0,-47796299.0,-33964856.0,-25955016.0,-24590972.0,-23794913.0,-20951533.0,-19029161.0,-16873602.0,-15079311.0,-13488469.0,-11589857.0,-8685206.0,-6699927.0,-4482097.0,-2635883.0],\"y\":[0,5,10,15,20,25,30,35,40,45,50,55,60,65,70,75,80],\"type\":\"bar\"}],                        {\"bargap\":0.1,\"barmode\":\"overlay\",\"height\":600,\"margin\":{\"b\":50,\"t\":150},\"sliders\":[{\"active\":0,\"currentvalue\":{\"font\":{\"size\":20},\"prefix\":\"Year: \"},\"len\":0.9,\"pad\":{\"b\":0,\"t\":100},\"steps\":[{\"args\":[[\"1960\"],{\"frame\":{\"duration\":300,\"redraw\":true},\"mode\":\"immediate\"}],\"label\":\"1960\",\"method\":\"animate\"},{\"args\":[[\"1961\"],{\"frame\":{\"duration\":300,\"redraw\":true},\"mode\":\"immediate\"}],\"label\":\"1961\",\"method\":\"animate\"},{\"args\":[[\"1962\"],{\"frame\":{\"duration\":300,\"redraw\":true},\"mode\":\"immediate\"}],\"label\":\"1962\",\"method\":\"animate\"},{\"args\":[[\"1963\"],{\"frame\":{\"duration\":300,\"redraw\":true},\"mode\":\"immediate\"}],\"label\":\"1963\",\"method\":\"animate\"},{\"args\":[[\"1964\"],{\"frame\":{\"duration\":300,\"redraw\":true},\"mode\":\"immediate\"}],\"label\":\"1964\",\"method\":\"animate\"},{\"args\":[[\"1965\"],{\"frame\":{\"duration\":300,\"redraw\":true},\"mode\":\"immediate\"}],\"label\":\"1965\",\"method\":\"animate\"},{\"args\":[[\"1966\"],{\"frame\":{\"duration\":300,\"redraw\":true},\"mode\":\"immediate\"}],\"label\":\"1966\",\"method\":\"animate\"},{\"args\":[[\"1967\"],{\"frame\":{\"duration\":300,\"redraw\":true},\"mode\":\"immediate\"}],\"label\":\"1967\",\"method\":\"animate\"},{\"args\":[[\"1968\"],{\"frame\":{\"duration\":300,\"redraw\":true},\"mode\":\"immediate\"}],\"label\":\"1968\",\"method\":\"animate\"},{\"args\":[[\"1969\"],{\"frame\":{\"duration\":300,\"redraw\":true},\"mode\":\"immediate\"}],\"label\":\"1969\",\"method\":\"animate\"},{\"args\":[[\"1970\"],{\"frame\":{\"duration\":300,\"redraw\":true},\"mode\":\"immediate\"}],\"label\":\"1970\",\"method\":\"animate\"},{\"args\":[[\"1971\"],{\"frame\":{\"duration\":300,\"redraw\":true},\"mode\":\"immediate\"}],\"label\":\"1971\",\"method\":\"animate\"},{\"args\":[[\"1972\"],{\"frame\":{\"duration\":300,\"redraw\":true},\"mode\":\"immediate\"}],\"label\":\"1972\",\"method\":\"animate\"},{\"args\":[[\"1973\"],{\"frame\":{\"duration\":300,\"redraw\":true},\"mode\":\"immediate\"}],\"label\":\"1973\",\"method\":\"animate\"},{\"args\":[[\"1974\"],{\"frame\":{\"duration\":300,\"redraw\":true},\"mode\":\"immediate\"}],\"label\":\"1974\",\"method\":\"animate\"},{\"args\":[[\"1975\"],{\"frame\":{\"duration\":300,\"redraw\":true},\"mode\":\"immediate\"}],\"label\":\"1975\",\"method\":\"animate\"},{\"args\":[[\"1976\"],{\"frame\":{\"duration\":300,\"redraw\":true},\"mode\":\"immediate\"}],\"label\":\"1976\",\"method\":\"animate\"},{\"args\":[[\"1977\"],{\"frame\":{\"duration\":300,\"redraw\":true},\"mode\":\"immediate\"}],\"label\":\"1977\",\"method\":\"animate\"},{\"args\":[[\"1978\"],{\"frame\":{\"duration\":300,\"redraw\":true},\"mode\":\"immediate\"}],\"label\":\"1978\",\"method\":\"animate\"},{\"args\":[[\"1979\"],{\"frame\":{\"duration\":300,\"redraw\":true},\"mode\":\"immediate\"}],\"label\":\"1979\",\"method\":\"animate\"},{\"args\":[[\"1980\"],{\"frame\":{\"duration\":300,\"redraw\":true},\"mode\":\"immediate\"}],\"label\":\"1980\",\"method\":\"animate\"},{\"args\":[[\"1981\"],{\"frame\":{\"duration\":300,\"redraw\":true},\"mode\":\"immediate\"}],\"label\":\"1981\",\"method\":\"animate\"},{\"args\":[[\"1982\"],{\"frame\":{\"duration\":300,\"redraw\":true},\"mode\":\"immediate\"}],\"label\":\"1982\",\"method\":\"animate\"},{\"args\":[[\"1983\"],{\"frame\":{\"duration\":300,\"redraw\":true},\"mode\":\"immediate\"}],\"label\":\"1983\",\"method\":\"animate\"},{\"args\":[[\"1984\"],{\"frame\":{\"duration\":300,\"redraw\":true},\"mode\":\"immediate\"}],\"label\":\"1984\",\"method\":\"animate\"},{\"args\":[[\"1985\"],{\"frame\":{\"duration\":300,\"redraw\":true},\"mode\":\"immediate\"}],\"label\":\"1985\",\"method\":\"animate\"},{\"args\":[[\"1986\"],{\"frame\":{\"duration\":300,\"redraw\":true},\"mode\":\"immediate\"}],\"label\":\"1986\",\"method\":\"animate\"},{\"args\":[[\"1987\"],{\"frame\":{\"duration\":300,\"redraw\":true},\"mode\":\"immediate\"}],\"label\":\"1987\",\"method\":\"animate\"},{\"args\":[[\"1988\"],{\"frame\":{\"duration\":300,\"redraw\":true},\"mode\":\"immediate\"}],\"label\":\"1988\",\"method\":\"animate\"},{\"args\":[[\"1989\"],{\"frame\":{\"duration\":300,\"redraw\":true},\"mode\":\"immediate\"}],\"label\":\"1989\",\"method\":\"animate\"},{\"args\":[[\"1990\"],{\"frame\":{\"duration\":300,\"redraw\":true},\"mode\":\"immediate\"}],\"label\":\"1990\",\"method\":\"animate\"},{\"args\":[[\"1991\"],{\"frame\":{\"duration\":300,\"redraw\":true},\"mode\":\"immediate\"}],\"label\":\"1991\",\"method\":\"animate\"},{\"args\":[[\"1992\"],{\"frame\":{\"duration\":300,\"redraw\":true},\"mode\":\"immediate\"}],\"label\":\"1992\",\"method\":\"animate\"},{\"args\":[[\"1993\"],{\"frame\":{\"duration\":300,\"redraw\":true},\"mode\":\"immediate\"}],\"label\":\"1993\",\"method\":\"animate\"},{\"args\":[[\"1994\"],{\"frame\":{\"duration\":300,\"redraw\":true},\"mode\":\"immediate\"}],\"label\":\"1994\",\"method\":\"animate\"},{\"args\":[[\"1995\"],{\"frame\":{\"duration\":300,\"redraw\":true},\"mode\":\"immediate\"}],\"label\":\"1995\",\"method\":\"animate\"},{\"args\":[[\"1996\"],{\"frame\":{\"duration\":300,\"redraw\":true},\"mode\":\"immediate\"}],\"label\":\"1996\",\"method\":\"animate\"},{\"args\":[[\"1997\"],{\"frame\":{\"duration\":300,\"redraw\":true},\"mode\":\"immediate\"}],\"label\":\"1997\",\"method\":\"animate\"},{\"args\":[[\"1998\"],{\"frame\":{\"duration\":300,\"redraw\":true},\"mode\":\"immediate\"}],\"label\":\"1998\",\"method\":\"animate\"},{\"args\":[[\"1999\"],{\"frame\":{\"duration\":300,\"redraw\":true},\"mode\":\"immediate\"}],\"label\":\"1999\",\"method\":\"animate\"},{\"args\":[[\"2000\"],{\"frame\":{\"duration\":300,\"redraw\":true},\"mode\":\"immediate\"}],\"label\":\"2000\",\"method\":\"animate\"},{\"args\":[[\"2001\"],{\"frame\":{\"duration\":300,\"redraw\":true},\"mode\":\"immediate\"}],\"label\":\"2001\",\"method\":\"animate\"},{\"args\":[[\"2002\"],{\"frame\":{\"duration\":300,\"redraw\":true},\"mode\":\"immediate\"}],\"label\":\"2002\",\"method\":\"animate\"},{\"args\":[[\"2003\"],{\"frame\":{\"duration\":300,\"redraw\":true},\"mode\":\"immediate\"}],\"label\":\"2003\",\"method\":\"animate\"},{\"args\":[[\"2004\"],{\"frame\":{\"duration\":300,\"redraw\":true},\"mode\":\"immediate\"}],\"label\":\"2004\",\"method\":\"animate\"},{\"args\":[[\"2005\"],{\"frame\":{\"duration\":300,\"redraw\":true},\"mode\":\"immediate\"}],\"label\":\"2005\",\"method\":\"animate\"},{\"args\":[[\"2006\"],{\"frame\":{\"duration\":300,\"redraw\":true},\"mode\":\"immediate\"}],\"label\":\"2006\",\"method\":\"animate\"},{\"args\":[[\"2007\"],{\"frame\":{\"duration\":300,\"redraw\":true},\"mode\":\"immediate\"}],\"label\":\"2007\",\"method\":\"animate\"},{\"args\":[[\"2008\"],{\"frame\":{\"duration\":300,\"redraw\":true},\"mode\":\"immediate\"}],\"label\":\"2008\",\"method\":\"animate\"},{\"args\":[[\"2009\"],{\"frame\":{\"duration\":300,\"redraw\":true},\"mode\":\"immediate\"}],\"label\":\"2009\",\"method\":\"animate\"},{\"args\":[[\"2010\"],{\"frame\":{\"duration\":300,\"redraw\":true},\"mode\":\"immediate\"}],\"label\":\"2010\",\"method\":\"animate\"},{\"args\":[[\"2011\"],{\"frame\":{\"duration\":300,\"redraw\":true},\"mode\":\"immediate\"}],\"label\":\"2011\",\"method\":\"animate\"},{\"args\":[[\"2012\"],{\"frame\":{\"duration\":300,\"redraw\":true},\"mode\":\"immediate\"}],\"label\":\"2012\",\"method\":\"animate\"},{\"args\":[[\"2013\"],{\"frame\":{\"duration\":300,\"redraw\":true},\"mode\":\"immediate\"}],\"label\":\"2013\",\"method\":\"animate\"},{\"args\":[[\"2014\"],{\"frame\":{\"duration\":300,\"redraw\":true},\"mode\":\"immediate\"}],\"label\":\"2014\",\"method\":\"animate\"},{\"args\":[[\"2015\"],{\"frame\":{\"duration\":300,\"redraw\":true},\"mode\":\"immediate\"}],\"label\":\"2015\",\"method\":\"animate\"},{\"args\":[[\"2016\"],{\"frame\":{\"duration\":300,\"redraw\":true},\"mode\":\"immediate\"}],\"label\":\"2016\",\"method\":\"animate\"},{\"args\":[[\"2017\"],{\"frame\":{\"duration\":300,\"redraw\":true},\"mode\":\"immediate\"}],\"label\":\"2017\",\"method\":\"animate\"},{\"args\":[[\"2018\"],{\"frame\":{\"duration\":300,\"redraw\":true},\"mode\":\"immediate\"}],\"label\":\"2018\",\"method\":\"animate\"},{\"args\":[[\"2019\"],{\"frame\":{\"duration\":300,\"redraw\":true},\"mode\":\"immediate\"}],\"label\":\"2019\",\"method\":\"animate\"},{\"args\":[[\"2020\"],{\"frame\":{\"duration\":300,\"redraw\":true},\"mode\":\"immediate\"}],\"label\":\"2020\",\"method\":\"animate\"},{\"args\":[[\"2021\"],{\"frame\":{\"duration\":300,\"redraw\":true},\"mode\":\"immediate\"}],\"label\":\"2021\",\"method\":\"animate\"},{\"args\":[[\"2022\"],{\"frame\":{\"duration\":300,\"redraw\":true},\"mode\":\"immediate\"}],\"label\":\"2022\",\"method\":\"animate\"},{\"args\":[[\"2023\"],{\"frame\":{\"duration\":300,\"redraw\":true},\"mode\":\"immediate\"}],\"label\":\"2023\",\"method\":\"animate\"}],\"x\":0.1,\"xanchor\":\"left\",\"y\":1.15,\"yanchor\":\"bottom\"}],\"template\":{\"data\":{\"barpolar\":[{\"marker\":{\"line\":{\"color\":\"white\",\"width\":0.5},\"pattern\":{\"fillmode\":\"overlay\",\"size\":10,\"solidity\":0.2}},\"type\":\"barpolar\"}],\"bar\":[{\"error_x\":{\"color\":\"#2a3f5f\"},\"error_y\":{\"color\":\"#2a3f5f\"},\"marker\":{\"line\":{\"color\":\"white\",\"width\":0.5},\"pattern\":{\"fillmode\":\"overlay\",\"size\":10,\"solidity\":0.2}},\"type\":\"bar\"}],\"carpet\":[{\"aaxis\":{\"endlinecolor\":\"#2a3f5f\",\"gridcolor\":\"#C8D4E3\",\"linecolor\":\"#C8D4E3\",\"minorgridcolor\":\"#C8D4E3\",\"startlinecolor\":\"#2a3f5f\"},\"baxis\":{\"endlinecolor\":\"#2a3f5f\",\"gridcolor\":\"#C8D4E3\",\"linecolor\":\"#C8D4E3\",\"minorgridcolor\":\"#C8D4E3\",\"startlinecolor\":\"#2a3f5f\"},\"type\":\"carpet\"}],\"choropleth\":[{\"colorbar\":{\"outlinewidth\":0,\"ticks\":\"\"},\"type\":\"choropleth\"}],\"contourcarpet\":[{\"colorbar\":{\"outlinewidth\":0,\"ticks\":\"\"},\"type\":\"contourcarpet\"}],\"contour\":[{\"colorbar\":{\"outlinewidth\":0,\"ticks\":\"\"},\"colorscale\":[[0.0,\"#0d0887\"],[0.1111111111111111,\"#46039f\"],[0.2222222222222222,\"#7201a8\"],[0.3333333333333333,\"#9c179e\"],[0.4444444444444444,\"#bd3786\"],[0.5555555555555556,\"#d8576b\"],[0.6666666666666666,\"#ed7953\"],[0.7777777777777778,\"#fb9f3a\"],[0.8888888888888888,\"#fdca26\"],[1.0,\"#f0f921\"]],\"type\":\"contour\"}],\"heatmapgl\":[{\"colorbar\":{\"outlinewidth\":0,\"ticks\":\"\"},\"colorscale\":[[0.0,\"#0d0887\"],[0.1111111111111111,\"#46039f\"],[0.2222222222222222,\"#7201a8\"],[0.3333333333333333,\"#9c179e\"],[0.4444444444444444,\"#bd3786\"],[0.5555555555555556,\"#d8576b\"],[0.6666666666666666,\"#ed7953\"],[0.7777777777777778,\"#fb9f3a\"],[0.8888888888888888,\"#fdca26\"],[1.0,\"#f0f921\"]],\"type\":\"heatmapgl\"}],\"heatmap\":[{\"colorbar\":{\"outlinewidth\":0,\"ticks\":\"\"},\"colorscale\":[[0.0,\"#0d0887\"],[0.1111111111111111,\"#46039f\"],[0.2222222222222222,\"#7201a8\"],[0.3333333333333333,\"#9c179e\"],[0.4444444444444444,\"#bd3786\"],[0.5555555555555556,\"#d8576b\"],[0.6666666666666666,\"#ed7953\"],[0.7777777777777778,\"#fb9f3a\"],[0.8888888888888888,\"#fdca26\"],[1.0,\"#f0f921\"]],\"type\":\"heatmap\"}],\"histogram2dcontour\":[{\"colorbar\":{\"outlinewidth\":0,\"ticks\":\"\"},\"colorscale\":[[0.0,\"#0d0887\"],[0.1111111111111111,\"#46039f\"],[0.2222222222222222,\"#7201a8\"],[0.3333333333333333,\"#9c179e\"],[0.4444444444444444,\"#bd3786\"],[0.5555555555555556,\"#d8576b\"],[0.6666666666666666,\"#ed7953\"],[0.7777777777777778,\"#fb9f3a\"],[0.8888888888888888,\"#fdca26\"],[1.0,\"#f0f921\"]],\"type\":\"histogram2dcontour\"}],\"histogram2d\":[{\"colorbar\":{\"outlinewidth\":0,\"ticks\":\"\"},\"colorscale\":[[0.0,\"#0d0887\"],[0.1111111111111111,\"#46039f\"],[0.2222222222222222,\"#7201a8\"],[0.3333333333333333,\"#9c179e\"],[0.4444444444444444,\"#bd3786\"],[0.5555555555555556,\"#d8576b\"],[0.6666666666666666,\"#ed7953\"],[0.7777777777777778,\"#fb9f3a\"],[0.8888888888888888,\"#fdca26\"],[1.0,\"#f0f921\"]],\"type\":\"histogram2d\"}],\"histogram\":[{\"marker\":{\"pattern\":{\"fillmode\":\"overlay\",\"size\":10,\"solidity\":0.2}},\"type\":\"histogram\"}],\"mesh3d\":[{\"colorbar\":{\"outlinewidth\":0,\"ticks\":\"\"},\"type\":\"mesh3d\"}],\"parcoords\":[{\"line\":{\"colorbar\":{\"outlinewidth\":0,\"ticks\":\"\"}},\"type\":\"parcoords\"}],\"pie\":[{\"automargin\":true,\"type\":\"pie\"}],\"scatter3d\":[{\"line\":{\"colorbar\":{\"outlinewidth\":0,\"ticks\":\"\"}},\"marker\":{\"colorbar\":{\"outlinewidth\":0,\"ticks\":\"\"}},\"type\":\"scatter3d\"}],\"scattercarpet\":[{\"marker\":{\"colorbar\":{\"outlinewidth\":0,\"ticks\":\"\"}},\"type\":\"scattercarpet\"}],\"scattergeo\":[{\"marker\":{\"colorbar\":{\"outlinewidth\":0,\"ticks\":\"\"}},\"type\":\"scattergeo\"}],\"scattergl\":[{\"marker\":{\"colorbar\":{\"outlinewidth\":0,\"ticks\":\"\"}},\"type\":\"scattergl\"}],\"scattermapbox\":[{\"marker\":{\"colorbar\":{\"outlinewidth\":0,\"ticks\":\"\"}},\"type\":\"scattermapbox\"}],\"scatterpolargl\":[{\"marker\":{\"colorbar\":{\"outlinewidth\":0,\"ticks\":\"\"}},\"type\":\"scatterpolargl\"}],\"scatterpolar\":[{\"marker\":{\"colorbar\":{\"outlinewidth\":0,\"ticks\":\"\"}},\"type\":\"scatterpolar\"}],\"scatter\":[{\"fillpattern\":{\"fillmode\":\"overlay\",\"size\":10,\"solidity\":0.2},\"type\":\"scatter\"}],\"scatterternary\":[{\"marker\":{\"colorbar\":{\"outlinewidth\":0,\"ticks\":\"\"}},\"type\":\"scatterternary\"}],\"surface\":[{\"colorbar\":{\"outlinewidth\":0,\"ticks\":\"\"},\"colorscale\":[[0.0,\"#0d0887\"],[0.1111111111111111,\"#46039f\"],[0.2222222222222222,\"#7201a8\"],[0.3333333333333333,\"#9c179e\"],[0.4444444444444444,\"#bd3786\"],[0.5555555555555556,\"#d8576b\"],[0.6666666666666666,\"#ed7953\"],[0.7777777777777778,\"#fb9f3a\"],[0.8888888888888888,\"#fdca26\"],[1.0,\"#f0f921\"]],\"type\":\"surface\"}],\"table\":[{\"cells\":{\"fill\":{\"color\":\"#EBF0F8\"},\"line\":{\"color\":\"white\"}},\"header\":{\"fill\":{\"color\":\"#C8D4E3\"},\"line\":{\"color\":\"white\"}},\"type\":\"table\"}]},\"layout\":{\"annotationdefaults\":{\"arrowcolor\":\"#2a3f5f\",\"arrowhead\":0,\"arrowwidth\":1},\"autotypenumbers\":\"strict\",\"coloraxis\":{\"colorbar\":{\"outlinewidth\":0,\"ticks\":\"\"}},\"colorscale\":{\"diverging\":[[0,\"#8e0152\"],[0.1,\"#c51b7d\"],[0.2,\"#de77ae\"],[0.3,\"#f1b6da\"],[0.4,\"#fde0ef\"],[0.5,\"#f7f7f7\"],[0.6,\"#e6f5d0\"],[0.7,\"#b8e186\"],[0.8,\"#7fbc41\"],[0.9,\"#4d9221\"],[1,\"#276419\"]],\"sequential\":[[0.0,\"#0d0887\"],[0.1111111111111111,\"#46039f\"],[0.2222222222222222,\"#7201a8\"],[0.3333333333333333,\"#9c179e\"],[0.4444444444444444,\"#bd3786\"],[0.5555555555555556,\"#d8576b\"],[0.6666666666666666,\"#ed7953\"],[0.7777777777777778,\"#fb9f3a\"],[0.8888888888888888,\"#fdca26\"],[1.0,\"#f0f921\"]],\"sequentialminus\":[[0.0,\"#0d0887\"],[0.1111111111111111,\"#46039f\"],[0.2222222222222222,\"#7201a8\"],[0.3333333333333333,\"#9c179e\"],[0.4444444444444444,\"#bd3786\"],[0.5555555555555556,\"#d8576b\"],[0.6666666666666666,\"#ed7953\"],[0.7777777777777778,\"#fb9f3a\"],[0.8888888888888888,\"#fdca26\"],[1.0,\"#f0f921\"]]},\"colorway\":[\"#636efa\",\"#EF553B\",\"#00cc96\",\"#ab63fa\",\"#FFA15A\",\"#19d3f3\",\"#FF6692\",\"#B6E880\",\"#FF97FF\",\"#FECB52\"],\"font\":{\"color\":\"#2a3f5f\"},\"geo\":{\"bgcolor\":\"white\",\"lakecolor\":\"white\",\"landcolor\":\"white\",\"showlakes\":true,\"showland\":true,\"subunitcolor\":\"#C8D4E3\"},\"hoverlabel\":{\"align\":\"left\"},\"hovermode\":\"closest\",\"mapbox\":{\"style\":\"light\"},\"paper_bgcolor\":\"white\",\"plot_bgcolor\":\"white\",\"polar\":{\"angularaxis\":{\"gridcolor\":\"#EBF0F8\",\"linecolor\":\"#EBF0F8\",\"ticks\":\"\"},\"bgcolor\":\"white\",\"radialaxis\":{\"gridcolor\":\"#EBF0F8\",\"linecolor\":\"#EBF0F8\",\"ticks\":\"\"}},\"scene\":{\"xaxis\":{\"backgroundcolor\":\"white\",\"gridcolor\":\"#DFE8F3\",\"gridwidth\":2,\"linecolor\":\"#EBF0F8\",\"showbackground\":true,\"ticks\":\"\",\"zerolinecolor\":\"#EBF0F8\"},\"yaxis\":{\"backgroundcolor\":\"white\",\"gridcolor\":\"#DFE8F3\",\"gridwidth\":2,\"linecolor\":\"#EBF0F8\",\"showbackground\":true,\"ticks\":\"\",\"zerolinecolor\":\"#EBF0F8\"},\"zaxis\":{\"backgroundcolor\":\"white\",\"gridcolor\":\"#DFE8F3\",\"gridwidth\":2,\"linecolor\":\"#EBF0F8\",\"showbackground\":true,\"ticks\":\"\",\"zerolinecolor\":\"#EBF0F8\"}},\"shapedefaults\":{\"line\":{\"color\":\"#2a3f5f\"}},\"ternary\":{\"aaxis\":{\"gridcolor\":\"#DFE8F3\",\"linecolor\":\"#A2B1C6\",\"ticks\":\"\"},\"baxis\":{\"gridcolor\":\"#DFE8F3\",\"linecolor\":\"#A2B1C6\",\"ticks\":\"\"},\"bgcolor\":\"white\",\"caxis\":{\"gridcolor\":\"#DFE8F3\",\"linecolor\":\"#A2B1C6\",\"ticks\":\"\"}},\"title\":{\"x\":0.05},\"xaxis\":{\"automargin\":true,\"gridcolor\":\"#EBF0F8\",\"linecolor\":\"#EBF0F8\",\"ticks\":\"\",\"title\":{\"standoff\":15},\"zerolinecolor\":\"#EBF0F8\",\"zerolinewidth\":2},\"yaxis\":{\"automargin\":true,\"gridcolor\":\"#EBF0F8\",\"linecolor\":\"#EBF0F8\",\"ticks\":\"\",\"title\":{\"standoff\":15},\"zerolinecolor\":\"#EBF0F8\",\"zerolinewidth\":2}}},\"title\":{\"text\":\"Population Pyramid Over Time\"},\"updatemenus\":[{\"buttons\":[{\"args\":[null,{\"frame\":{\"duration\":500,\"redraw\":true},\"fromcurrent\":true}],\"label\":\"Play\",\"method\":\"animate\"},{\"args\":[[null],{\"frame\":{\"duration\":0,\"redraw\":true},\"mode\":\"immediate\",\"transition\":{\"duration\":0}}],\"label\":\"Pause\",\"method\":\"animate\"}],\"direction\":\"left\",\"pad\":{\"r\":10,\"t\":30},\"showactive\":false,\"type\":\"buttons\",\"x\":0.1,\"xanchor\":\"right\",\"y\":1.25,\"yanchor\":\"top\"}],\"xaxis\":{\"showgrid\":true,\"tickformat\":\",\",\"title\":{\"text\":\"Population\"}},\"yaxis\":{\"range\":[0,85],\"title\":{\"text\":\"Age\"}}},                        {\"responsive\": true}                    ).then(function(){\n",
       "                            Plotly.addFrames('28648c74-e8dd-4bf4-a238-8be4fe7eec88', [{\"data\":[{\"x\":[51416955.0,50098089.0,36823111.0,29027168.0,28092415.0,26459425.0,22874774.0,20178976.0,17445180.0,15573208.0,13126586.0,10884917.0,7858547.0,5468648.0,3289905.0,1628784.0],\"y\":[0,5,10,15,20,25,30,35,40,45,50,55,60,65,70,75,80],\"type\":\"bar\"},{\"x\":[-48955681.0,-47796299.0,-33964856.0,-25955016.0,-24590972.0,-23794913.0,-20951533.0,-19029161.0,-16873602.0,-15079311.0,-13488469.0,-11589857.0,-8685206.0,-6699927.0,-4482097.0,-2635883.0],\"y\":[0,5,10,15,20,25,30,35,40,45,50,55,60,65,70,75,80],\"type\":\"bar\"}],\"name\":\"1960\"},{\"data\":[{\"x\":[46459365.0,50481643.0,38596810.0,29125584.0,27700640.0,26562875.0,23028989.0,20175956.0,17398685.0,15571913.0,12923650.0,10792560.0,7747646.0,5362310.0,3131356.0,1537572.0],\"y\":[0,5,10,15,20,25,30,35,40,45,50,55,60,65,70,75,80],\"type\":\"bar\"},{\"x\":[-44179678.0,-48119335.0,-35990952.0,-26262486.0,-24208928.0,-23901128.0,-21019399.0,-18973517.0,-16813420.0,-15151213.0,-13242628.0,-11605418.0,-8661101.0,-6627978.0,-4325327.0,-2515440.0],\"y\":[0,5,10,15,20,25,30,35,40,45,50,55,60,65,70,75,80],\"type\":\"bar\"}],\"name\":\"1961\"},{\"data\":[{\"x\":[44777918.0,50854256.0,40877563.0,29902774.0,27482213.0,26824171.0,23384228.0,20378091.0,17531795.0,15710166.0,12919455.0,10776768.0,7829214.0,5339866.0,3082473.0,1507571.0],\"y\":[0,5,10,15,20,25,30,35,40,45,50,55,60,65,70,75,80],\"type\":\"bar\"},{\"x\":[-42573068.0,-48411736.0,-38550727.0,-27084802.0,-24120873.0,-24034501.0,-21287773.0,-19076777.0,-16884402.0,-15370624.0,-13165906.0,-11656254.0,-8846123.0,-6626940.0,-4305783.0,-2473695.0],\"y\":[0,5,10,15,20,25,30,35,40,45,50,55,60,65,70,75,80],\"type\":\"bar\"}],\"name\":\"1962\"},{\"data\":[{\"x\":[47951039.0,50749733.0,43265071.0,31245247.0,27269359.0,26878889.0,23871048.0,20785092.0,17811841.0,15758791.0,13103423.0,10794563.0,8016810.0,5346612.0,3103485.0,1514318.0],\"y\":[0,5,10,15,20,25,30,35,40,45,50,55,60,65,70,75,80],\"type\":\"bar\"},{\"x\":[-45607962.0,-48243174.0,-41174542.0,-28433763.0,-24118305.0,-23923846.0,-21660173.0,-19354179.0,-17095469.0,-15479965.0,-13256152.0,-11717468.0,-9144942.0,-6641740.0,-4377684.0,-2488273.0],\"y\":[0,5,10,15,20,25,30,35,40,45,50,55,60,65,70,75,80],\"type\":\"bar\"}],\"name\":\"1963\"},{\"data\":[{\"x\":[53250448.0,48925593.0,45210547.0,32772310.0,27179605.0,26566937.0,24330081.0,21031169.0,18185693.0,15660355.0,13340206.0,10840068.0,8229597.0,5325280.0,3127717.0,1527155.0],\"y\":[0,5,10,15,20,25,30,35,40,45,50,55,60,65,70,75,80],\"type\":\"bar\"},{\"x\":[-50656142.0,-46459927.0,-43236900.0,-30062519.0,-24208269.0,-23499927.0,-22007969.0,-19483299.0,-17392150.0,-15431263.0,-13393101.0,-11786993.0,-9466826.0,-6632284.0,-4460153.0,-2517810.0],\"y\":[0,5,10,15,20,25,30,35,40,45,50,55,60,65,70,75,80],\"type\":\"bar\"}],\"name\":\"1964\"},{\"data\":[{\"x\":[58836320.0,45982890.0,47044743.0,34817107.0,27393105.0,26358076.0,24757314.0,21327925.0,18603512.0,15753865.0,13617966.0,10951141.0,8439694.0,5355549.0,3182276.0,1534165.0],\"y\":[0,5,10,15,20,25,30,35,40,45,50,55,60,65,70,75,80],\"type\":\"bar\"},{\"x\":[-55953280.0,-43645724.0,-45039829.0,-32265766.0,-24581994.0,-23180528.0,-22393674.0,-19654001.0,-17719417.0,-15529087.0,-13617775.0,-11871055.0,-9779520.0,-6706478.0,-4580788.0,-2548547.0],\"y\":[0,5,10,15,20,25,30,35,40,45,50,55,60,65,70,75,80],\"type\":\"bar\"}],\"name\":\"1965\"},{\"data\":[{\"x\":[64819659.0,43162402.0,48416863.0,37180195.0,27965225.0,26442502.0,25293403.0,21866446.0,18970615.0,16060453.0,13950719.0,11082684.0,8627400.0,5490014.0,3264774.0,1539237.0],\"y\":[0,5,10,15,20,25,30,35,40,45,50,55,60,65,70,75,80],\"type\":\"bar\"},{\"x\":[-61610223.0,-40971686.0,-46304349.0,-34835407.0,-25298539.0,-23202064.0,-22871021.0,-20055310.0,-17984642.0,-15773812.0,-13970021.0,-11924286.0,-10048865.0,-6918115.0,-4721523.0,-2583078.0],\"y\":[0,5,10,15,20,25,30,35,40,45,50,55,60,65,70,75,80],\"type\":\"bar\"}],\"name\":\"1966\"},{\"data\":[{\"x\":[68074876.0,42247016.0,49278629.0,39777772.0,29031553.0,26523417.0,25811235.0,22434787.0,19369392.0,16379415.0,14260087.0,11249065.0,8760788.0,5671680.0,3338221.0,1562289.0],\"y\":[0,5,10,15,20,25,30,35,40,45,50,55,60,65,70,75,80],\"type\":\"bar\"},{\"x\":[-64672869.0,-40117280.0,-47059935.0,-37700959.0,-26387821.0,-23374716.0,-23234699.0,-20512631.0,-18261180.0,-16005856.0,-14328071.0,-11996368.0,-10222359.0,-7188876.0,-4823944.0,-2642818.0],\"y\":[0,5,10,15,20,25,30,35,40,45,50,55,60,65,70,75,80],\"type\":\"bar\"}],\"name\":\"1967\"},{\"data\":[{\"x\":[68129871.0,45353413.0,49447323.0,42352932.0,30561846.0,26520914.0,26046831.0,23056346.0,19891631.0,16767163.0,14422614.0,11521233.0,8871750.0,5889039.0,3403560.0,1605110.0],\"y\":[0,5,10,15,20,25,30,35,40,45,50,55,60,65,70,75,80],\"type\":\"bar\"},{\"x\":[-64693385.0,-43082268.0,-47145421.0,-40512404.0,-27917971.0,-23558216.0,-23291336.0,-21009788.0,-18645003.0,-16312294.0,-14528014.0,-12165343.0,-10350032.0,-7502335.0,-4897788.0,-2733850.0],\"y\":[0,5,10,15,20,25,30,35,40,45,50,55,60,65,70,75,80],\"type\":\"bar\"}],\"name\":\"1968\"},{\"data\":[{\"x\":[68315460.0,50811971.0,48038145.0,44580081.0,32323035.0,26694141.0,25994438.0,23720274.0,20316324.0,17290331.0,14489771.0,11874070.0,9034058.0,6139779.0,3460826.0,1655647.0],\"y\":[0,5,10,15,20,25,30,35,40,45,50,55,60,65,70,75,80],\"type\":\"bar\"},{\"x\":[-64833919.0,-48265169.0,-45747421.0,-42846428.0,-29769200.0,-23886011.0,-23105036.0,-21547357.0,-18938955.0,-16745169.0,-14617718.0,-12410722.0,-10514279.0,-7852891.0,-4966416.0,-2840359.0],\"y\":[0,5,10,15,20,25,30,35,40,45,50,55,60,65,70,75,80],\"type\":\"bar\"}],\"name\":\"1969\"},{\"data\":[{\"x\":[69241900.0,56603909.0,45372333.0,46590504.0,34516687.0,27090157.0,25972178.0,24297773.0,20740760.0,17815193.0,14699365.0,12236241.0,9231615.0,6377108.0,3546380.0,1720726.0],\"y\":[0,5,10,15,20,25,30,35,40,45,50,55,60,65,70,75,80],\"type\":\"bar\"},{\"x\":[-65674714.0,-53741506.0,-43181760.0,-44816666.0,-32119606.0,-24427841.0,-22957498.0,-22071044.0,-19226167.0,-17166581.0,-14808775.0,-12706933.0,-10665706.0,-8177580.0,-5086953.0,-2964566.0],\"y\":[0,5,10,15,20,25,30,35,40,45,50,55,60,65,70,75,80],\"type\":\"bar\"}],\"name\":\"1970\"},{\"data\":[{\"x\":[70130116.0,62647260.0,42655327.0,47994845.0,36882608.0,27690755.0,26099012.0,24867315.0,21307998.0,18218950.0,15051305.0,12604059.0,9416226.0,6583572.0,3693603.0,1798396.0],\"y\":[0,5,10,15,20,25,30,35,40,45,50,55,60,65,70,75,80],\"type\":\"bar\"},{\"x\":[-66478603.0,-59445974.0,-40589613.0,-46103974.0,-34694746.0,-25163918.0,-23014015.0,-22576520.0,-19651932.0,-17457816.0,-15083172.0,-13076924.0,-10752908.0,-8442058.0,-5297101.0,-3092747.0],\"y\":[0,5,10,15,20,25,30,35,40,45,50,55,60,65,70,75,80],\"type\":\"bar\"}],\"name\":\"1971\"},{\"data\":[{\"x\":[70852551.0,66043059.0,41802619.0,48894264.0,39450064.0,28713941.0,26160778.0,25374927.0,21875126.0,18633540.0,15402446.0,12944985.0,9627777.0,6751542.0,3872954.0,1875189.0],\"y\":[0,5,10,15,20,25,30,35,40,45,50,55,60,65,70,75,80],\"type\":\"bar\"},{\"x\":[-67124735.0,-62642160.0,-39777530.0,-46883789.0,-37528632.0,-26199045.0,-23155431.0,-22925843.0,-20104835.0,-17742820.0,-15335126.0,-13448272.0,-10855529.0,-8626974.0,-5552362.0,-3199927.0],\"y\":[0,5,10,15,20,25,30,35,40,45,50,55,60,65,70,75,80],\"type\":\"bar\"}],\"name\":\"1972\"},{\"data\":[{\"x\":[70528054.0,66265155.0,44938958.0,49127518.0,42021707.0,30206311.0,26145174.0,25611192.0,22501907.0,19171619.0,15820715.0,13157221.0,9936054.0,6908586.0,4078001.0,1951525.0],\"y\":[0,5,10,15,20,25,30,35,40,45,50,55,60,65,70,75,80],\"type\":\"bar\"},{\"x\":[-66774507.0,-62831956.0,-42757818.0,-47018478.0,-40335424.0,-27683149.0,-23312199.0,-22978405.0,-20605009.0,-18139072.0,-15663942.0,-13679183.0,-11056928.0,-8783656.0,-5846555.0,-3297413.0],\"y\":[0,5,10,15,20,25,30,35,40,45,50,55,60,65,70,75,80],\"type\":\"bar\"}],\"name\":\"1973\"},{\"data\":[{\"x\":[68685271.0,66543836.0,50385632.0,47757367.0,44254835.0,31962975.0,26333612.0,25579863.0,23176948.0,19614584.0,16362127.0,13277456.0,10311445.0,7103963.0,4299672.0,2021162.0],\"y\":[0,5,10,15,20,25,30,35,40,45,50,55,60,65,70,75,80],\"type\":\"bar\"},{\"x\":[-64984883.0,-63075113.0,-47931163.0,-45644077.0,-42679395.0,-29532497.0,-23648675.0,-22811077.0,-21154975.0,-18450172.0,-16112543.0,-13804250.0,-11330700.0,-8974504.0,-6168543.0,-3394381.0],\"y\":[0,5,10,15,20,25,30,35,40,45,50,55,60,65,70,75,80],\"type\":\"bar\"}],\"name\":\"1974\"},{\"data\":[{\"x\":[65750492.0,67492208.0,56098832.0,45073376.0,46214673.0,34111649.0,26709969.0,25545177.0,23735594.0,20029137.0,16880588.0,13508095.0,10674831.0,7313734.0,4501417.0,2102700.0],\"y\":[0,5,10,15,20,25,30,35,40,45,50,55,60,65,70,75,80],\"type\":\"bar\"},{\"x\":[-62165477.0,-63949869.0,-53347437.0,-43046315.0,-44605203.0,-31849696.0,-24170746.0,-22655033.0,-21664881.0,-18731358.0,-16528852.0,-14007420.0,-11635687.0,-9143367.0,-6461665.0,-3524176.0],\"y\":[0,5,10,15,20,25,30,35,40,45,50,55,60,65,70,75,80],\"type\":\"bar\"}],\"name\":\"1975\"},{\"data\":[{\"x\":[62216467.0,68334986.0,61973190.0,42288778.0,47513924.0,36389301.0,27259099.0,25628468.0,24255414.0,20552149.0,17256178.0,13846511.0,11018515.0,7497389.0,4673152.0,2216004.0],\"y\":[0,5,10,15,20,25,30,35,40,45,50,55,60,65,70,75,80],\"type\":\"bar\"},{\"x\":[-58783187.0,-64715192.0,-58912135.0,-40375968.0,-45793428.0,-34352899.0,-24859437.0,-22676173.0,-22129505.0,-19122416.0,-16794949.0,-14268337.0,-11986270.0,-9241018.0,-6695980.0,-3710012.0],\"y\":[0,5,10,15,20,25,30,35,40,45,50,55,60,65,70,75,80],\"type\":\"bar\"}],\"name\":\"1976\"},{\"data\":[{\"x\":[58649243.0,69069418.0,65239262.0,41379276.0,48338520.0,38882587.0,28241349.0,25664512.0,24726618.0,21083077.0,17645929.0,14186277.0,11338406.0,7702442.0,4818521.0,2346542.0],\"y\":[0,5,10,15,20,25,30,35,40,45,50,55,60,65,70,75,80],\"type\":\"bar\"},{\"x\":[-55372716.0,-65373446.0,-62003091.0,-39503937.0,-46502560.0,-37128532.0,-25860000.0,-22796396.0,-22452657.0,-19549257.0,-17061526.0,-14512721.0,-12340104.0,-9354944.0,-6868019.0,-3925576.0],\"y\":[0,5,10,15,20,25,30,35,40,45,50,55,60,65,70,75,80],\"type\":\"bar\"}],\"name\":\"1977\"},{\"data\":[{\"x\":[55168873.0,68832984.0,65426195.0,44457309.0,48552899.0,41416468.0,29712604.0,25652664.0,24959539.0,21694071.0,18169704.0,14599769.0,11557991.0,7994852.0,4963672.0,2493021.0],\"y\":[0,5,10,15,20,25,30,35,40,45,50,55,60,65,70,75,80],\"type\":\"bar\"},{\"x\":[-52041643.0,-65114420.0,-62167882.0,-42438062.0,-46619727.0,-39911811.0,-27331106.0,-22956613.0,-22509176.0,-20043005.0,-17452670.0,-14842553.0,-12577423.0,-9566354.0,-7025387.0,-4168610.0],\"y\":[0,5,10,15,20,25,30,35,40,45,50,55,60,65,70,75,80],\"type\":\"bar\"}],\"name\":\"1978\"},{\"data\":[{\"x\":[52570877.0,67097722.0,65667711.0,49815895.0,47178635.0,43611444.0,31439972.0,25840461.0,24931064.0,22351011.0,18602404.0,15125768.0,11701441.0,8344876.0,5140883.0,2647212.0],\"y\":[0,5,10,15,20,25,30,35,40,45,50,55,60,65,70,75,80],\"type\":\"bar\"},{\"x\":[-49539080.0,-63435754.0,-62380960.0,-47543634.0,-45236228.0,-42228379.0,-29160271.0,-23291746.0,-22348857.0,-20583350.0,-17760068.0,-15282398.0,-12717408.0,-9841327.0,-7209206.0,-4424265.0],\"y\":[0,5,10,15,20,25,30,35,40,45,50,55,60,65,70,75,80],\"type\":\"bar\"}],\"name\":\"1979\"},{\"data\":[{\"x\":[51307251.0,64229567.0,66513775.0,55383033.0,44465092.0,45487651.0,33519036.0,26186564.0,24875980.0,22873865.0,18990643.0,15616269.0,11935600.0,8676509.0,5326161.0,2786585.0],\"y\":[0,5,10,15,20,25,30,35,40,45,50,55,60,65,70,75,80],\"type\":\"bar\"},{\"x\":[-48293451.0,-60688106.0,-63163230.0,-52836397.0,-42600133.0,-44079417.0,-31420338.0,-23784664.0,-22178225.0,-21063780.0,-18021244.0,-15675350.0,-12918094.0,-10131815.0,-7367293.0,-4651528.0],\"y\":[0,5,10,15,20,25,30,35,40,45,50,55,60,65,70,75,80],\"type\":\"bar\"}],\"name\":\"1980\"},{\"data\":[{\"x\":[51188963.0,60770067.0,67258788.0,61094343.0,41657820.0,46702809.0,35714441.0,26697951.0,24935023.0,23357273.0,19478149.0,15971550.0,12264387.0,8988568.0,5492973.0,2910005.0],\"y\":[0,5,10,15,20,25,30,35,40,45,50,55,60,65,70,75,80],\"type\":\"bar\"},{\"x\":[-48122921.0,-57385048.0,-63840499.0,-58263606.0,-39898849.0,-45191423.0,-33855270.0,-24437920.0,-22181088.0,-21499173.0,-18386877.0,-15924713.0,-13172209.0,-10459983.0,-7469000.0,-4838755.0],\"y\":[0,5,10,15,20,25,30,35,40,45,50,55,60,65,70,75,80],\"type\":\"bar\"}],\"name\":\"1981\"},{\"data\":[{\"x\":[52413144.0,57337634.0,67982815.0,64299969.0,40754909.0,47503841.0,38157113.0,27661515.0,24976747.0,23820204.0,19994346.0,16356148.0,12606191.0,9291115.0,5682607.0,3022638.0],\"y\":[0,5,10,15,20,25,30,35,40,45,50,55,60,65,70,75,80],\"type\":\"bar\"},{\"x\":[-49204735.0,-54109470.0,-64492922.0,-61307393.0,-39028767.0,-45880614.0,-36592251.0,-25423403.0,-22306137.0,-21821873.0,-18808308.0,-16192560.0,-13424988.0,-10802296.0,-7593318.0,-4986508.0],\"y\":[0,5,10,15,20,25,30,35,40,45,50,55,60,65,70,75,80],\"type\":\"bar\"}],\"name\":\"1982\"},{\"data\":[{\"x\":[53850739.0,53949887.0,67731504.0,64450361.0,43768562.0,47689970.0,40625156.0,29091218.0,24963138.0,24046303.0,20582183.0,16858354.0,13006252.0,9510650.0,5938880.0,3138101.0],\"y\":[0,5,10,15,20,25,30,35,40,45,50,55,60,65,70,75,80],\"type\":\"bar\"},{\"x\":[-50473812.0,-50871463.0,-64217093.0,-61437006.0,-41906572.0,-45968710.0,-39320546.0,-26859739.0,-22461105.0,-21878048.0,-19289086.0,-16572623.0,-13749328.0,-11039500.0,-7798214.0,-5123540.0],\"y\":[0,5,10,15,20,25,30,35,40,45,50,55,60,65,70,75,80],\"type\":\"bar\"}],\"name\":\"1983\"},{\"data\":[{\"x\":[54698979.0,51404377.0,66001231.0,64651433.0,49017168.0,46311714.0,42755191.0,30766672.0,25141759.0,24018941.0,21212513.0,17274346.0,13505947.0,9672563.0,6243037.0,3278651.0],\"y\":[0,5,10,15,20,25,30,35,40,45,50,55,60,65,70,75,80],\"type\":\"bar\"},{\"x\":[-51168611.0,-48422671.0,-62535909.0,-61611365.0,-46919481.0,-44574130.0,-41581515.0,-28645118.0,-22784946.0,-21722522.0,-19814165.0,-16872779.0,-14174983.0,-11195211.0,-8061921.0,-5284783.0],\"y\":[0,5,10,15,20,25,30,35,40,45,50,55,60,65,70,75,80],\"type\":\"bar\"}],\"name\":\"1984\"},{\"data\":[{\"x\":[55790005.0,50205352.0,63217868.0,65511537.0,54512549.0,43661955.0,44611043.0,32816844.0,25498396.0,23988832.0,21735224.0,17665396.0,13988035.0,9922989.0,6538789.0,3429554.0],\"y\":[0,5,10,15,20,25,30,35,40,45,50,55,60,65,70,75,80],\"type\":\"bar\"},{\"x\":[-52056930.0,-47241478.0,-59858343.0,-62407890.0,-52158009.0,-41987475.0,-43419384.0,-30884531.0,-23284704.0,-21578141.0,-20300714.0,-17145959.0,-14571452.0,-11418287.0,-8347191.0,-5434223.0],\"y\":[0,5,10,15,20,25,30,35,40,45,50,55,60,65,70,75,80],\"type\":\"bar\"}],\"name\":\"1985\"},{\"data\":[{\"x\":[57338922.0,50139861.0,59867670.0,66295974.0,60169941.0,40931126.0,45833160.0,34994020.0,26025370.0,24077323.0,22227603.0,18152803.0,14350148.0,10255341.0,6818766.0,3570538.0],\"y\":[0,5,10,15,20,25,30,35,40,45,50,55,60,65,70,75,80],\"type\":\"bar\"},{\"x\":[-53327475.0,-47123558.0,-56647476.0,-63121873.0,-57549913.0,-39347203.0,-44542528.0,-33309881.0,-23949763.0,-21609913.0,-20750821.0,-17523896.0,-14837052.0,-11692226.0,-8664175.0,-5544518.0],\"y\":[0,5,10,15,20,25,30,35,40,45,50,55,60,65,70,75,80],\"type\":\"bar\"}],\"name\":\"1986\"},{\"data\":[{\"x\":[59087968.0,51340933.0,56489094.0,67003372.0,63306898.0,40034152.0,46608789.0,37382707.0,26969223.0,24127882.0,22680791.0,18650726.0,14722966.0,10588257.0,7086095.0,3725201.0],\"y\":[0,5,10,15,20,25,30,35,40,45,50,55,60,65,70,75,80],\"type\":\"bar\"},{\"x\":[-54728531.0,-48186153.0,-53412709.0,-63755547.0,-60537595.0,-38475927.0,-45209210.0,-36003909.0,-24918793.0,-21741371.0,-21074244.0,-17940624.0,-15105954.0,-11954073.0,-8986104.0,-5669463.0],\"y\":[0,5,10,15,20,25,30,35,40,45,50,55,60,65,70,75,80],\"type\":\"bar\"}],\"name\":\"1987\"},{\"data\":[{\"x\":[61142321.0,52753777.0,53150928.0,66743309.0,63428596.0,42978844.0,46773599.0,39790245.0,28360725.0,24122073.0,22908059.0,19216903.0,15201070.0,10968001.0,7293598.0,3928321.0],\"y\":[0,5,10,15,20,25,30,35,40,45,50,55,60,65,70,75,80],\"type\":\"bar\"},{\"x\":[-56367296.0,-49435086.0,-50212031.0,-63463952.0,-60639368.0,-41293234.0,-45275818.0,-38683111.0,-26325103.0,-21899006.0,-21139825.0,-18415199.0,-15480723.0,-12278175.0,-9223793.0,-5861912.0],\"y\":[0,5,10,15,20,25,30,35,40,45,50,55,60,65,70,75,80],\"type\":\"bar\"}],\"name\":\"1988\"},{\"data\":[{\"x\":[63449157.0,53597258.0,50650390.0,65037383.0,63610734.0,48120038.0,45406443.0,41870508.0,29993285.0,24305217.0,22897574.0,19827051.0,15605207.0,11435181.0,7465357.0,4169483.0],\"y\":[0,5,10,15,20,25,30,35,40,45,50,55,60,65,70,75,80],\"type\":\"bar\"},{\"x\":[-58201003.0,-50128958.0,-47797771.0,-61793324.0,-60793865.0,-46217169.0,-43884439.0,-40904191.0,-28077151.0,-22223461.0,-21004218.0,-18935821.0,-15784982.0,-12694784.0,-9399363.0,-6106458.0],\"y\":[0,5,10,15,20,25,30,35,40,45,50,55,60,65,70,75,80],\"type\":\"bar\"}],\"name\":\"1989\"},{\"data\":[{\"x\":[65511275.0,54628101.0,49441049.0,62257922.0,64411127.0,53476141.0,42769122.0,43655412.0,31974204.0,24645669.0,22870118.0,20323469.0,15977181.0,11880936.0,7706014.0,4402262.0],\"y\":[0,5,10,15,20,25,30,35,40,45,50,55,60,65,70,75,80],\"type\":\"bar\"},{\"x\":[-59762660.0,-50964545.0,-46601384.0,-59104964.0,-61533330.0,-51338467.0,-41296411.0,-42679533.0,-30259538.0,-22704285.0,-20864952.0,-19405181.0,-16051536.0,-13072787.0,-9623710.0,-6358856.0],\"y\":[0,5,10,15,20,25,30,35,40,45,50,55,60,65,70,75,80],\"type\":\"bar\"}],\"name\":\"1990\"},{\"data\":[{\"x\":[65747865.0,56163817.0,49403593.0,58987503.0,65205028.0,59043589.0,40096238.0,44864480.0,34113711.0,25178897.0,22983783.0,20815778.0,16452115.0,12236302.0,8021975.0,4629243.0],\"y\":[0,5,10,15,20,25,30,35,40,45,50,55,60,65,70,75,80],\"type\":\"bar\"},{\"x\":[-59644249.0,-52226243.0,-46506189.0,-55953198.0,-62253203.0,-56660590.0,-38697212.0,-43793708.0,-32657702.0,-23370700.0,-20919662.0,-19860977.0,-16431344.0,-13343623.0,-9900291.0,-6638639.0],\"y\":[0,5,10,15,20,25,30,35,40,45,50,55,60,65,70,75,80],\"type\":\"bar\"}],\"name\":\"1991\"},{\"data\":[{\"x\":[63522500.0,57991773.0,50700221.0,55779001.0,66035568.0,62244354.0,39290861.0,45717005.0,36525491.0,26161423.0,23102855.0,21310709.0,16968128.0,12624358.0,8356685.0,4861981.0],\"y\":[0,5,10,15,20,25,30,35,40,45,50,55,60,65,70,75,80],\"type\":\"bar\"},{\"x\":[-57298554.0,-53703535.0,-47656897.0,-52863446.0,-62999115.0,-59716974.0,-37905506.0,-44535683.0,-35382848.0,-24375930.0,-21107041.0,-20230966.0,-16877691.0,-13641188.0,-10184980.0,-6936799.0],\"y\":[0,5,10,15,20,25,30,35,40,45,50,55,60,65,70,75,80],\"type\":\"bar\"}],\"name\":\"1992\"},{\"data\":[{\"x\":[60623164.0,60137290.0,52209766.0,52598361.0,65923042.0,62498130.0,42282314.0,45979616.0,38971270.0,27583571.0,23169681.0,21597942.0,17555841.0,13107226.0,8730634.0,5060825.0],\"y\":[0,5,10,15,20,25,30,35,40,45,50,55,60,65,70,75,80],\"type\":\"bar\"},{\"x\":[-54361678.0,-55430007.0,-48996225.0,-49798027.0,-62840857.0,-59943208.0,-40773844.0,-44694236.0,-38108882.0,-25815887.0,-21321107.0,-20356242.0,-17386095.0,-14039868.0,-10524425.0,-7176795.0],\"y\":[0,5,10,15,20,25,30,35,40,45,50,55,60,65,70,75,80],\"type\":\"bar\"}],\"name\":\"1993\"},{\"data\":[{\"x\":[57456484.0,62610975.0,53210328.0,50270269.0,64419356.0,62858255.0,47489041.0,44766174.0,41139865.0,29269924.0,23438180.0,21680441.0,18202920.0,13539273.0,9184102.0,5245491.0],\"y\":[0,5,10,15,20,25,30,35,40,45,50,55,60,65,70,75,80],\"type\":\"bar\"},{\"x\":[-51208461.0,-57422056.0,-49836513.0,-47534250.0,-61349273.0,-60265382.0,-45776204.0,-43444075.0,-40427396.0,-27628119.0,-21718597.0,-20308332.0,-17960671.0,-14394590.0,-10959116.0,-7385881.0],\"y\":[0,5,10,15,20,25,30,35,40,45,50,55,60,65,70,75,80],\"type\":\"bar\"}],\"name\":\"1994\"},{\"data\":[{\"x\":[53583968.0,64930103.0,54467548.0,49274717.0,61907026.0,63900482.0,52991752.0,42328018.0,43074765.0,31344615.0,23887343.0,21772491.0,18770809.0,13963583.0,9637446.0,5493222.0],\"y\":[0,5,10,15,20,25,30,35,40,45,50,55,60,65,70,75,80],\"type\":\"bar\"},{\"x\":[-47450968.0,-59223815.0,-50883259.0,-46531542.0,-58898894.0,-61234930.0,-51055871.0,-41037303.0,-42361205.0,-29915876.0,-22298426.0,-20282900.0,-18515612.0,-14741387.0,-11384440.0,-7656120.0],\"y\":[0,5,10,15,20,25,30,35,40,45,50,55,60,65,70,75,80],\"type\":\"bar\"}],\"name\":\"1995\"},{\"data\":[{\"x\":[50526955.0,65379739.0,56168086.0,49393365.0,58831452.0,64889729.0,58697599.0,39796139.0,44404842.0,33557286.0,24502421.0,21976342.0,19316952.0,14462216.0,10006930.0,5793449.0],\"y\":[0,5,10,15,20,25,30,35,40,45,50,55,60,65,70,75,80],\"type\":\"bar\"},{\"x\":[-44464761.0,-59304211.0,-52298836.0,-46580808.0,-55919251.0,-62141889.0,-56531297.0,-38563053.0,-43601940.0,-32404520.0,-23041343.0,-20424004.0,-19040107.0,-15177740.0,-11705781.0,-7965768.0],\"y\":[0,5,10,15,20,25,30,35,40,45,50,55,60,65,70,75,80],\"type\":\"bar\"}],\"name\":\"1996\"},{\"data\":[{\"x\":[48873470.0,63294517.0,58089864.0,50782449.0,55728756.0,65839694.0,61993441.0,39066475.0,45330891.0,36004380.0,25524580.0,22155660.0,19839115.0,14976419.0,10385690.0,6098109.0],\"y\":[0,5,10,15,20,25,30,35,40,45,50,55,60,65,70,75,80],\"type\":\"bar\"},{\"x\":[-42772587.0,-57089607.0,-53863179.0,-47818897.0,-52918551.0,-63001483.0,-59691502.0,-37839464.0,-44419548.0,-35187293.0,-24090381.0,-20665987.0,-19455280.0,-15654233.0,-12030697.0,-8267313.0],\"y\":[0,5,10,15,20,25,30,35,40,45,50,55,60,65,70,75,80],\"type\":\"bar\"}],\"name\":\"1997\"},{\"data\":[{\"x\":[47524070.0,60492599.0,60309031.0,52368238.0,52625220.0,65821432.0,62327900.0,42108537.0,45652877.0,38475833.0,26962850.0,22273988.0,20161998.0,15553391.0,10838069.0,6427383.0],\"y\":[0,5,10,15,20,25,30,35,40,45,50,55,60,65,70,75,80],\"type\":\"bar\"},{\"x\":[-41384876.0,-54242969.0,-55658400.0,-49231178.0,-49915883.0,-62927842.0,-59995983.0,-40765080.0,-44634646.0,-37961544.0,-25559118.0,-20922502.0,-19626102.0,-16184054.0,-12438028.0,-8603285.0],\"y\":[0,5,10,15,20,25,30,35,40,45,50,55,60,65,70,75,80],\"type\":\"bar\"}],\"name\":\"1998\"},{\"data\":[{\"x\":[46314389.0,57343842.0,62781302.0,53378500.0,50324999.0,64358180.0,62719153.0,47329620.0,44458758.0,40634001.0,28628713.0,22560740.0,20270136.0,16166656.0,11236914.0,6810622.0],\"y\":[0,5,10,15,20,25,30,35,40,45,50,55,60,65,70,75,80],\"type\":\"bar\"},{\"x\":[-40154354.0,-51107925.0,-57650209.0,-50081224.0,-47673432.0,-61466798.0,-60349032.0,-45797845.0,-43393271.0,-40286677.0,-27368885.0,-21331793.0,-19603418.0,-16752538.0,-12787544.0,-9000606.0],\"y\":[0,5,10,15,20,25,30,35,40,45,50,55,60,65,70,75,80],\"type\":\"bar\"}],\"name\":\"1999\"},{\"data\":[{\"x\":[45454689.0,53439323.0,65037433.0,54590659.0,49310776.0,61828514.0,63735773.0,52794746.0,42009591.0,42519790.0,30648271.0,22999870.0,20367438.0,16691398.0,11616987.0,7186754.0],\"y\":[0,5,10,15,20,25,30,35,40,45,50,55,60,65,70,75,80],\"type\":\"bar\"},{\"x\":[-39256012.0,-47322793.0,-59394557.0,-51085775.0,-46650578.0,-58988301.0,-61295733.0,-51058732.0,-40958667.0,-42183822.0,-29626273.0,-21897948.0,-19583131.0,-17281731.0,-13113224.0,-9374708.0],\"y\":[0,5,10,15,20,25,30,35,40,45,50,55,60,65,70,75,80],\"type\":\"bar\"}],\"name\":\"2000\"},{\"data\":[{\"x\":[44803376.0,50335875.0,65393759.0,56216476.0,49375979.0,58695683.0,64654402.0,58412028.0,39448858.0,43779667.0,32781846.0,23586237.0,20560835.0,17184389.0,12043970.0,7487994.0],\"y\":[0,5,10,15,20,25,30,35,40,45,50,55,60,65,70,75,80],\"type\":\"bar\"},{\"x\":[-38563962.0,-44295722.0,-59388592.0,-52431167.0,-46646853.0,-55939248.0,-62134053.0,-56467747.0,-38438989.0,-43362357.0,-32064231.0,-22611534.0,-19715410.0,-17769814.0,-13504572.0,-9648373.0],\"y\":[0,5,10,15,20,25,30,35,40,45,50,55,60,65,70,75,80],\"type\":\"bar\"}],\"name\":\"2001\"},{\"data\":[{\"x\":[44176068.0,48633740.0,63208781.0,58033884.0,50669022.0,55503598.0,65499301.0,61592882.0,38672426.0,44628399.0,35129771.0,24554464.0,20726327.0,17649129.0,12476555.0,7788376.0],\"y\":[0,5,10,15,20,25,30,35,40,45,50,55,60,65,70,75,80],\"type\":\"bar\"},{\"x\":[-37915054.0,-42561004.0,-57079422.0,-53895321.0,-47790216.0,-52837509.0,-62890361.0,-59528731.0,-37659608.0,-44107118.0,-34779238.0,-23617160.0,-19940140.0,-18149968.0,-13926675.0,-9918456.0],\"y\":[0,5,10,15,20,25,30,35,40,45,50,55,60,65,70,75,80],\"type\":\"bar\"}],\"name\":\"2002\"},{\"data\":[{\"x\":[43722972.0,47239131.0,60320027.0,60140011.0,52133278.0,52295010.0,65361941.0,61817460.0,41629427.0,44878801.0,37494004.0,25912888.0,20833260.0,17937983.0,12965901.0,8142205.0],\"y\":[0,5,10,15,20,25,30,35,40,45,50,55,60,65,70,75,80],\"type\":\"bar\"},{\"x\":[-37435686.0,-41133702.0,-54149575.0,-55582000.0,-49081252.0,-49717280.0,-62694760.0,-59727971.0,-40508901.0,-44250584.0,-37477875.0,-25029038.0,-20177256.0,-18305395.0,-14402468.0,-10259117.0],\"y\":[0,5,10,15,20,25,30,35,40,45,50,55,60,65,70,75,80],\"type\":\"bar\"}],\"name\":\"2003\"},{\"data\":[{\"x\":[43484662.0,45999277.0,57114636.0,62519526.0,53035806.0,49901356.0,63802996.0,62114527.0,46736452.0,43647591.0,39556167.0,27490320.0,21102551.0,18040478.0,13488927.0,8456570.0],\"y\":[0,5,10,15,20,25,30,35,40,45,50,55,60,65,70,75,80],\"type\":\"bar\"},{\"x\":[-37158195.0,-39876810.0,-50958444.0,-57486331.0,-49821985.0,-47369993.0,-61128320.0,-59990780.0,-45451950.0,-42962217.0,-39735641.0,-26780984.0,-20566906.0,-18289494.0,-14920484.0,-10559718.0],\"y\":[0,5,10,15,20,25,30,35,40,45,50,55,60,65,70,75,80],\"type\":\"bar\"}],\"name\":\"2004\"},{\"data\":[{\"x\":[43240854.0,45131002.0,53193696.0,64728736.0,54192707.0,48837225.0,61234195.0,63072718.0,52097468.0,41211059.0,41369346.0,29424005.0,21527194.0,18144627.0,13944004.0,8761658.0],\"y\":[0,5,10,15,20,25,30,35,40,45,50,55,60,65,70,75,80],\"type\":\"bar\"},{\"x\":[-36893409.0,-38971259.0,-47152821.0,-59189496.0,-50770868.0,-46289176.0,-58595843.0,-60883377.0,-50638980.0,-40519675.0,-41585239.0,-28990957.0,-21120030.0,-18290495.0,-15413782.0,-10851184.0],\"y\":[0,5,10,15,20,25,30,35,40,45,50,55,60,65,70,75,80],\"type\":\"bar\"}],\"name\":\"2005\"},{\"data\":[{\"x\":[43153214.0,44470296.0,50075936.0,65046668.0,55767925.0,48852344.0,58072482.0,63936429.0,57598234.0,38669482.0,42568805.0,31467013.0,22094271.0,18339779.0,14372128.0,9097379.0],\"y\":[0,5,10,15,20,25,30,35,40,45,50,55,60,65,70,75,80],\"type\":\"bar\"},{\"x\":[-36778717.0,-38271247.0,-44107980.0,-59148639.0,-52067013.0,-46230707.0,-55501323.0,-61669334.0,-55967243.0,-37996964.0,-42721833.0,-31380213.0,-21817927.0,-18438713.0,-15870811.0,-11194983.0],\"y\":[0,5,10,15,20,25,30,35,40,45,50,55,60,65,70,75,80],\"type\":\"bar\"}],\"name\":\"2006\"},{\"data\":[{\"x\":[43497430.0,43819456.0,48335407.0,62791029.0,57488432.0,50058928.0,54831343.0,64701590.0,60665358.0,37875709.0,43356035.0,33702094.0,23010277.0,18506224.0,14772555.0,9434441.0],\"y\":[0,5,10,15,20,25,30,35,40,45,50,55,60,65,70,75,80],\"type\":\"bar\"},{\"x\":[-37048916.0,-37602359.0,-42335663.0,-56768140.0,-53437035.0,-47288167.0,-52336258.0,-62348089.0,-58938872.0,-37188302.0,-43414350.0,-34026054.0,-22787261.0,-18665183.0,-16223417.0,-11559097.0],\"y\":[0,5,10,15,20,25,30,35,40,45,50,55,60,65,70,75,80],\"type\":\"bar\"}],\"name\":\"2007\"},{\"data\":[{\"x\":[44134759.0,43335810.0,46897012.0,59833882.0,59492078.0,51439610.0,51585275.0,64493062.0,60817915.0,40748418.0,43556738.0,35944362.0,24277944.0,18617316.0,15027694.0,9820826.0],\"y\":[0,5,10,15,20,25,30,35,40,45,50,55,60,65,70,75,80],\"type\":\"bar\"},{\"x\":[-37586536.0,-37097577.0,-40867454.0,-53769098.0,-55027309.0,-48498894.0,-49165452.0,-62078275.0,-59069686.0,-39967340.0,-43507278.0,-36644628.0,-24139009.0,-18896559.0,-16374679.0,-11973251.0],\"y\":[0,5,10,15,20,25,30,35,40,45,50,55,60,65,70,75,80],\"type\":\"bar\"}],\"name\":\"2008\"},{\"data\":[{\"x\":[44940820.0,43050080.0,45601601.0,56570506.0,61775143.0,52274403.0,49159716.0,62873539.0,61033184.0,45702535.0,42299032.0,37876981.0,25731820.0,18865430.0,15120004.0,10228146.0],\"y\":[0,5,10,15,20,25,30,35,40,45,50,55,60,65,70,75,80],\"type\":\"bar\"},{\"x\":[-38286207.0,-36781745.0,-39561644.0,-50523536.0,-56848385.0,-49177189.0,-46777414.0,-60442263.0,-59252560.0,-44793064.0,-42176468.0,-38809393.0,-25807916.0,-19262202.0,-16369872.0,-12420866.0],\"y\":[0,5,10,15,20,25,30,35,40,45,50,55,60,65,70,75,80],\"type\":\"bar\"}],\"name\":\"2009\"},{\"data\":[{\"x\":[45676137.0,42752341.0,44676117.0,52616651.0,63891751.0,53358300.0,48050208.0,60257661.0,61893692.0,50878614.0,39876815.0,39562639.0,27520561.0,19256842.0,15220229.0,10586993.0],\"y\":[0,5,10,15,20,25,30,35,40,45,50,55,60,65,70,75,80],\"type\":\"bar\"},{\"x\":[-38944357.0,-36472605.0,-38606730.0,-46688136.0,-58474619.0,-50059191.0,-45646449.0,-57848999.0,-60051871.0,-49837465.0,-39715558.0,-40561065.0,-27921532.0,-19780777.0,-16385656.0,-12848043.0],\"y\":[0,5,10,15,20,25,30,35,40,45,50,55,60,65,70,75,80],\"type\":\"bar\"}],\"name\":\"2010\"},{\"data\":[{\"x\":[46272558.0,42661150.0,44012005.0,49523270.0,64201405.0,54911961.0,48061801.0,57133012.0,62735586.0,56237681.0,37408831.0,40703574.0,29443681.0,19803989.0,15422913.0,10938665.0],\"y\":[0,5,10,15,20,25,30,35,40,45,50,55,60,65,70,75,80],\"type\":\"bar\"},{\"x\":[-39501929.0,-36355405.0,-37903444.0,-43663442.0,-58431050.0,-51337467.0,-45580634.0,-54773111.0,-60816965.0,-55070930.0,-37230819.0,-41660160.0,-30244209.0,-20461710.0,-16559612.0,-13260496.0],\"y\":[0,5,10,15,20,25,30,35,40,45,50,55,60,65,70,75,80],\"type\":\"bar\"}],\"name\":\"2011\"},{\"data\":[{\"x\":[47093081.0,43056249.0,43410156.0,47852175.0,62058506.0,56717126.0,49347881.0,54022241.0,63568422.0,59292064.0,36698436.0,41502705.0,31581326.0,20682733.0,15617713.0,11277082.0],\"y\":[0,5,10,15,20,25,30,35,40,45,50,55,60,65,70,75,80],\"type\":\"bar\"},{\"x\":[-40272858.0,-36671235.0,-37277443.0,-41953838.0,-56160888.0,-52796840.0,-46717090.0,-51718842.0,-61561922.0,-58057720.0,-36483760.0,-42378060.0,-32854073.0,-21421667.0,-16824315.0,-13602183.0],\"y\":[0,5,10,15,20,25,30,35,40,45,50,55,60,65,70,75,80],\"type\":\"bar\"}],\"name\":\"2012\"},{\"data\":[{\"x\":[47788528.0,43747957.0,42977080.0,46481674.0,59224216.0,58816373.0,50818869.0,50911590.0,63453768.0,59515624.0,39566750.0,41748508.0,33735068.0,21871219.0,15770184.0,11514181.0],\"y\":[0,5,10,15,20,25,30,35,40,45,50,55,60,65,70,75,80],\"type\":\"bar\"},{\"x\":[-40958147.0,-37257717.0,-36817115.0,-40547488.0,-53280901.0,-54489350.0,-48019204.0,-48664978.0,-61377190.0,-58258865.0,-39272824.0,-42515885.0,-35445933.0,-22741937.0,-17094254.0,-13784933.0],\"y\":[0,5,10,15,20,25,30,35,40,45,50,55,60,65,70,75,80],\"type\":\"bar\"}],\"name\":\"2013\"},{\"data\":[{\"x\":[48117177.0,44627502.0,42763690.0,45266104.0,56079475.0,61183974.0,51741021.0,48608795.0,61973276.0,59835969.0,44472524.0,40613118.0,35619656.0,23237570.0,16051645.0,11638683.0],\"y\":[0,5,10,15,20,25,30,35,40,45,50,55,60,65,70,75,80],\"type\":\"bar\"},{\"x\":[-41351542.0,-38020592.0,-36562718.0,-39309528.0,-50140581.0,-56396027.0,-48781730.0,-46383692.0,-59861195.0,-58543315.0,-44097205.0,-41282888.0,-37619994.0,-24381475.0,-17495770.0,-13850520.0],\"y\":[0,5,10,15,20,25,30,35,40,45,50,55,60,65,70,75,80],\"type\":\"bar\"}],\"name\":\"2014\"},{\"data\":[{\"x\":[48169388.0,45447311.0,42549745.0,44418586.0,52224781.0,63371892.0,52894241.0,47593078.0,59508847.0,60803194.0,49602041.0,38362894.0,37282332.0,24924398.0,16461909.0,11774103.0],\"y\":[0,5,10,15,20,25,30,35,40,45,50,55,60,65,70,75,80],\"type\":\"bar\"},{\"x\":[-41525526.0,-38749647.0,-36323133.0,-38416849.0,-46382923.0,-58088605.0,-49728433.0,-45335247.0,-57395525.0,-59451669.0,-49157500.0,-38949757.0,-39403725.0,-26471677.0,-18045214.0,-13944872.0],\"y\":[0,5,10,15,20,25,30,35,40,45,50,55,60,65,70,75,80],\"type\":\"bar\"}],\"name\":\"2015\"},{\"data\":[{\"x\":[48157905.0,46098262.0,42510248.0,43803782.0,49192514.0,63736895.0,54491373.0,47659859.0,56493361.0,61712954.0,54875972.0,36034762.0,38400099.0,26722076.0,17001047.0,11988950.0],\"y\":[0,5,10,15,20,25,30,35,40,45,50,55,60,65,70,75,80],\"type\":\"bar\"},{\"x\":[-41663403.0,-39353107.0,-36248537.0,-37753116.0,-43405284.0,-58095639.0,-51048962.0,-45318531.0,-54403795.0,-60285361.0,-54379041.0,-36556957.0,-40520017.0,-28755111.0,-18734778.0,-14170739.0],\"y\":[0,5,10,15,20,25,30,35,40,45,50,55,60,65,70,75,80],\"type\":\"bar\"}],\"name\":\"2016\"},{\"data\":[{\"x\":[47978653.0,46934198.0,42921295.0,43227403.0,47553107.0,61624715.0,56305160.0,48958324.0,53441896.0,62561800.0,57857871.0,35380194.0,39166770.0,28686253.0,17800201.0,12181208.0],\"y\":[0,5,10,15,20,25,30,35,40,45,50,55,60,65,70,75,80],\"type\":\"bar\"},{\"x\":[-41700629.0,-40136912.0,-36577429.0,-37149652.0,-41722530.0,-55851615.0,-52519403.0,-46467309.0,-51387334.0,-61049105.0,-57344698.0,-35843806.0,-41235373.0,-31292683.0,-19662260.0,-14460695.0],\"y\":[0,5,10,15,20,25,30,35,40,45,50,55,60,65,70,75,80],\"type\":\"bar\"}],\"name\":\"2017\"},{\"data\":[{\"x\":[46887981.0,47644396.0,43627885.0,42817248.0,46207604.0,58815885.0,58403254.0,50433603.0,50386002.0,62479517.0,58099846.0,38194366.0,39418402.0,30669590.0,18852756.0,12343207.0],\"y\":[0,5,10,15,20,25,30,35,40,45,50,55,60,65,70,75,80],\"type\":\"bar\"},{\"x\":[-40934647.0,-40833901.0,-37175700.0,-36708768.0,-40336064.0,-52989528.0,-54213798.0,-47774737.0,-48367270.0,-60889687.0,-57571152.0,-38614498.0,-41389486.0,-33817315.0,-20917059.0,-14753883.0],\"y\":[0,5,10,15,20,25,30,35,40,45,50,55,60,65,70,75,80],\"type\":\"bar\"}],\"name\":\"2018\"},{\"data\":[{\"x\":[45006875.0,48004396.0,44534610.0,42626158.0,45014490.0,55706672.0,60783908.0,51377332.0,48144457.0,61076492.0,58472576.0,42984534.0,38374180.0,32428084.0,20069867.0,12627031.0],\"y\":[0,5,10,15,20,25,30,35,40,45,50,55,60,65,70,75,80],\"type\":\"bar\"},{\"x\":[-39415269.0,-41253090.0,-37959894.0,-36469477.0,-39112543.0,-49873080.0,-56135406.0,-48557018.0,-46127571.0,-59426420.0,-57903342.0,-43397958.0,-40213974.0,-35946934.0,-22477861.0,-15164232.0],\"y\":[0,5,10,15,20,25,30,35,40,45,50,55,60,65,70,75,80],\"type\":\"bar\"}],\"name\":\"2019\"},{\"data\":[{\"x\":[42401148.0,48099312.0,45390757.0,42444894.0,44208685.0,51917714.0,63016755.0,52572479.0,47188710.0,58708249.0,59481364.0,47982121.0,36274094.0,33979409.0,21574911.0,13015232.0],\"y\":[0,5,10,15,20,25,30,35,40,45,50,55,60,65,70,75,80],\"type\":\"bar\"},{\"x\":[-37286857.0,-41463846.0,-38718791.0,-36255224.0,-38255106.0,-46168527.0,-57874577.0,-49544962.0,-45127659.0,-57028683.0,-58862173.0,-48420766.0,-37969600.0,-37695737.0,-24481027.0,-15706266.0],\"y\":[0,5,10,15,20,25,30,35,40,45,50,55,60,65,70,75,80],\"type\":\"bar\"}],\"name\":\"2020\"},{\"data\":[{\"x\":[38802141.0,48127269.0,46077575.0,42441714.0,43637348.0,48943931.0,63431979.0,54207913.0,47300851.0,55783379.0,60422799.0,53103266.0,34097647.0,35022489.0,23177262.0,13510140.0],\"y\":[0,5,10,15,20,25,30,35,40,45,50,55,60,65,70,75,80],\"type\":\"bar\"},{\"x\":[-34324224.0,-41635821.0,-39352043.0,-36210584.0,-37629021.0,-43238213.0,-57929324.0,-50904100.0,-45150868.0,-54098374.0,-59738602.0,-53597653.0,-35660756.0,-38793955.0,-26676375.0,-16375324.0],\"y\":[0,5,10,15,20,25,30,35,40,45,50,55,60,65,70,75,80],\"type\":\"bar\"}],\"name\":\"2021\"},{\"data\":[{\"x\":[34407301.0,47977432.0,46945694.0,42880142.0,43079433.0,47322938.0,61347262.0,56040230.0,48623953.0,52814513.0,61302770.0,56011299.0,33543614.0,35762285.0,24926689.0,14205563.0],\"y\":[0,5,10,15,20,25,30,35,40,45,50,55,60,65,70,75,80],\"type\":\"bar\"},{\"x\":[-30600067.0,-41697708.0,-40161573.0,-36559731.0,-37035577.0,-41562725.0,-55702933.0,-52391805.0,-46321543.0,-51130200.0,-60536192.0,-56551300.0,-35002089.0,-39507542.0,-29106909.0,-17241445.0],\"y\":[0,5,10,15,20,25,30,35,40,45,50,55,60,65,70,75,80],\"type\":\"bar\"}],\"name\":\"2022\"},{\"data\":[{\"x\":[30390275.0,46921541.0,47697475.0,43619845.0,42690196.0,45996968.0,58571312.0,58164459.0,50128672.0,49849324.0,61288205.0,56295989.0,36317207.0,36029698.0,26676047.0,15052265.0],\"y\":[0,5,10,15,20,25,30,35,40,45,50,55,60,65,70,75,80],\"type\":\"bar\"},{\"x\":[-27167674.0,-40962090.0,-40892243.0,-37182969.0,-36605841.0,-40184117.0,-52861422.0,-54111081.0,-47658004.0,-48165337.0,-60432093.0,-56825905.0,-37771419.0,-39685195.0,-31522585.0,-18369107.0],\"y\":[0,5,10,15,20,25,30,35,40,45,50,55,60,65,70,75,80],\"type\":\"bar\"}],\"name\":\"2023\"}]);\n",
       "                        }).then(function(){\n",
       "                            \n",
       "var gd = document.getElementById('28648c74-e8dd-4bf4-a238-8be4fe7eec88');\n",
       "var x = new MutationObserver(function (mutations, observer) {{\n",
       "        var display = window.getComputedStyle(gd).display;\n",
       "        if (!display || display === 'none') {{\n",
       "            console.log([gd, 'removed!']);\n",
       "            Plotly.purge(gd);\n",
       "            observer.disconnect();\n",
       "        }}\n",
       "}});\n",
       "\n",
       "// Listen for the removal of the full notebook cells\n",
       "var notebookContainer = gd.closest('#notebook-container');\n",
       "if (notebookContainer) {{\n",
       "    x.observe(notebookContainer, {childList: true});\n",
       "}}\n",
       "\n",
       "// Listen for the clearing of the current output cell\n",
       "var outputEl = gd.closest('.output');\n",
       "if (outputEl) {{\n",
       "    x.observe(outputEl, {childList: true});\n",
       "}}\n",
       "\n",
       "                        })                };                });            </script>        </div>"
      ]
     },
     "metadata": {},
     "output_type": "display_data"
    }
   ],
   "source": [
    "population_pyramid_slider(df)"
   ]
  },
  {
   "cell_type": "code",
   "execution_count": null,
   "id": "81bab401-a4ff-44c3-814f-2051cc4c0470",
   "metadata": {},
   "outputs": [],
   "source": []
  }
 ],
 "metadata": {
  "kernelspec": {
   "display_name": "Python 3 (ipykernel)",
   "language": "python",
   "name": "python3"
  },
  "language_info": {
   "codemirror_mode": {
    "name": "ipython",
    "version": 3
   },
   "file_extension": ".py",
   "mimetype": "text/x-python",
   "name": "python",
   "nbconvert_exporter": "python",
   "pygments_lexer": "ipython3",
   "version": "3.11.11"
  }
 },
 "nbformat": 4,
 "nbformat_minor": 5
}
