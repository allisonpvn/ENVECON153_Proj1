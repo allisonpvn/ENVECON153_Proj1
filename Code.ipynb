{
 "cells": [
  {
   "cell_type": "code",
   "execution_count": 23,
   "id": "949eeb90",
   "metadata": {},
   "outputs": [],
   "source": [
    "#Title "
   ]
  },
  {
   "cell_type": "code",
   "execution_count": 24,
   "id": "6d3828c7",
   "metadata": {},
   "outputs": [],
   "source": [
    "#Deliverable 1 Population Statistics"
   ]
  },
  {
   "cell_type": "code",
   "execution_count": 51,
   "id": "4f74ed3d",
   "metadata": {
    "scrolled": true
   },
   "outputs": [
    {
     "name": "stdout",
     "output_type": "stream",
     "text": [
      "Requirement already satisfied: wbdata in /srv/conda/lib/python3.11/site-packages (1.0.0)\n",
      "Requirement already satisfied: appdirs<2.0,>=1.4 in /srv/conda/lib/python3.11/site-packages (from wbdata) (1.4.4)\n",
      "Requirement already satisfied: backoff<3.0.0,>=2.2.1 in /srv/conda/lib/python3.11/site-packages (from wbdata) (2.2.1)\n",
      "Requirement already satisfied: cachetools<6.0.0,>=5.3.2 in /srv/conda/lib/python3.11/site-packages (from wbdata) (5.5.1)\n",
      "Requirement already satisfied: dateparser<2.0.0,>=1.2.0 in /srv/conda/lib/python3.11/site-packages (from wbdata) (1.2.1)\n",
      "Requirement already satisfied: decorator<6.0.0,>=5.1.1 in /srv/conda/lib/python3.11/site-packages (from wbdata) (5.1.1)\n",
      "Requirement already satisfied: requests<3.0,>=2.0 in /srv/conda/lib/python3.11/site-packages (from wbdata) (2.32.3)\n",
      "Requirement already satisfied: shelved-cache<0.4.0,>=0.3.1 in /srv/conda/lib/python3.11/site-packages (from wbdata) (0.3.1)\n",
      "Requirement already satisfied: tabulate<0.9.0,>=0.8.5 in /srv/conda/lib/python3.11/site-packages (from wbdata) (0.8.10)\n",
      "Requirement already satisfied: python-dateutil>=2.7.0 in /srv/conda/lib/python3.11/site-packages (from dateparser<2.0.0,>=1.2.0->wbdata) (2.9.0.post0)\n",
      "Requirement already satisfied: pytz>=2024.2 in /srv/conda/lib/python3.11/site-packages (from dateparser<2.0.0,>=1.2.0->wbdata) (2025.1)\n",
      "Requirement already satisfied: regex!=2019.02.19,!=2021.8.27,>=2015.06.24 in /srv/conda/lib/python3.11/site-packages (from dateparser<2.0.0,>=1.2.0->wbdata) (2024.11.6)\n",
      "Requirement already satisfied: tzlocal>=0.2 in /srv/conda/lib/python3.11/site-packages (from dateparser<2.0.0,>=1.2.0->wbdata) (5.3)\n",
      "Requirement already satisfied: charset_normalizer<4,>=2 in /srv/conda/lib/python3.11/site-packages (from requests<3.0,>=2.0->wbdata) (3.4.0)\n",
      "Requirement already satisfied: idna<4,>=2.5 in /srv/conda/lib/python3.11/site-packages (from requests<3.0,>=2.0->wbdata) (3.10)\n",
      "Requirement already satisfied: urllib3<3,>=1.21.1 in /srv/conda/lib/python3.11/site-packages (from requests<3.0,>=2.0->wbdata) (2.3.0)\n",
      "Requirement already satisfied: certifi>=2017.4.17 in /srv/conda/lib/python3.11/site-packages (from requests<3.0,>=2.0->wbdata) (2024.12.14)\n",
      "Requirement already satisfied: six>=1.5 in /srv/conda/lib/python3.11/site-packages (from python-dateutil>=2.7.0->dateparser<2.0.0,>=1.2.0->wbdata) (1.17.0)\n"
     ]
    }
   ],
   "source": [
    "!pip install wbdata"
   ]
  },
  {
   "cell_type": "code",
   "execution_count": 52,
   "id": "94e954a1",
   "metadata": {
    "scrolled": true
   },
   "outputs": [
    {
     "data": {
      "text/plain": [
       "  id  value\n",
       "----  -------------------------------\n",
       "   1  Agriculture & Rural Development\n",
       "   2  Aid Effectiveness\n",
       "   3  Economy & Growth\n",
       "   4  Education\n",
       "   5  Energy & Mining\n",
       "   6  Environment\n",
       "   7  Financial Sector\n",
       "   8  Health\n",
       "   9  Infrastructure\n",
       "  10  Social Protection & Labor\n",
       "  11  Poverty\n",
       "  12  Private Sector\n",
       "  13  Public Sector\n",
       "  14  Science & Technology\n",
       "  15  Social Development\n",
       "  16  Urban Development\n",
       "  17  Gender\n",
       "  18  Millenium development goals\n",
       "  19  Climate Change\n",
       "  20  External Debt\n",
       "  21  Trade"
      ]
     },
     "execution_count": 52,
     "metadata": {},
     "output_type": "execute_result"
    }
   ],
   "source": [
    "import wbdata\n",
    "wbdata.get_topics()"
   ]
  },
  {
   "cell_type": "code",
   "execution_count": 53,
   "id": "6faecebe",
   "metadata": {},
   "outputs": [],
   "source": [
    "import pandas as pd\n",
    "pd.options.plotting.backend = \"plotly\"\n",
    "import numpy as np"
   ]
  },
  {
   "cell_type": "code",
   "execution_count": 54,
   "id": "d0eb1683",
   "metadata": {
    "scrolled": true
   },
   "outputs": [
    {
     "data": {
      "text/plain": [
       "  id  name\n",
       "----  --------------------------------------------------------------------\n",
       "   1  Doing Business\n",
       "   2  World Development Indicators\n",
       "   3  Worldwide Governance Indicators\n",
       "   5  Subnational Malnutrition Database\n",
       "   6  International Debt Statistics\n",
       "  11  Africa Development Indicators\n",
       "  12  Education Statistics\n",
       "  13  Enterprise Surveys\n",
       "  14  Gender Statistics\n",
       "  15  Global Economic Monitor\n",
       "  16  Health Nutrition and Population Statistics\n",
       "  18  IDA Results Measurement System\n",
       "  19  Millennium Development Goals\n",
       "  20  Quarterly Public Sector Debt\n",
       "  22  Quarterly External Debt Statistics SDDS\n",
       "  23  Quarterly External Debt Statistics GDDS\n",
       "  25  Jobs\n",
       "  27  Global Economic Prospects\n",
       "  28  Global Financial Inclusion\n",
       "  29  The Atlas of Social Protection: Indicators of Resilience and Equity\n",
       "  30  Exporter Dynamics Database – Indicators at Country-Year Level\n",
       "  31  Country Policy and Institutional Assessment\n",
       "  32  Global Financial Development\n",
       "  33  G20 Financial Inclusion Indicators\n",
       "  34  Global Partnership for Education\n",
       "  35  Sustainable Energy for All\n",
       "  37  LAC Equity Lab\n",
       "  38  Subnational Poverty\n",
       "  39  Health Nutrition and Population Statistics by Wealth Quintile\n",
       "  40  Population estimates and projections\n",
       "  41  Country Partnership Strategy for India (FY2013 - 17)\n",
       "  43  Adjusted Net Savings\n",
       "  45  Indonesia Database for Policy and Economic Research\n",
       "  46  Sustainable Development Goals\n",
       "  50  Subnational Population\n",
       "  54  Joint External Debt Hub\n",
       "  57  WDI Database Archives\n",
       "  58  Universal Health Coverage\n",
       "  59  Wealth Accounts\n",
       "  60  Economic Fitness\n",
       "  61  PPPs Regulatory Quality\n",
       "  62  International Comparison Program (ICP) 2011\n",
       "  63  Human Capital Index\n",
       "  64  Worldwide Bureaucracy Indicators\n",
       "  65  Health Equity and Financial Protection Indicators\n",
       "  66  Logistics Performance Index\n",
       "  67  PEFA 2011\n",
       "  68  PEFA 2016\n",
       "  69  Global Financial Inclusion and Consumer Protection Survey\n",
       "  70  Economic Fitness 2\n",
       "  71  International Comparison Program (ICP) 2005\n",
       "  73  Global Financial Inclusion and Consumer Protection Survey (Internal)\n",
       "  75  Environment, Social and Governance (ESG) Data\n",
       "  76  Remittance Prices Worldwide (Sending Countries)\n",
       "  77  Remittance Prices Worldwide (Receiving Countries)\n",
       "  78  ICP 2017\n",
       "  79  PEFA_GRPFM\n",
       "  80  Gender Disaggregated Labor Database (GDLD)\n",
       "  81  International Debt Statistics: DSSI\n",
       "  82  Global Public Procurement\n",
       "  83  Statistical Performance Indicators (SPI)\n",
       "  84  Education Policy\n",
       "  85  PEFA_2021_SNG\n",
       "  86  Global Jobs Indicators Database (JOIN)\n",
       "  87  Country Climate and Development Report (CCDR)\n",
       "  88  Food Prices for Nutrition\n",
       "  89  Identification for Development (ID4D) Data\n",
       "  90  ICP 2021\n",
       "  91  PEFA_CRPFM"
      ]
     },
     "execution_count": 54,
     "metadata": {},
     "output_type": "execute_result"
    }
   ],
   "source": [
    "wbdata.get_sources()"
   ]
  },
  {
   "cell_type": "code",
   "execution_count": 55,
   "id": "09466c57",
   "metadata": {
    "scrolled": true
   },
   "outputs": [
    {
     "data": {
      "text/plain": [
       "id                 name\n",
       "-----------------  -------------------------------------------------------------------\n",
       "SH.DTH.0509        Number of deaths ages 5-9 years\n",
       "SH.DTH.0514        Number of deaths ages 5-14 years\n",
       "SH.DTH.1014        Number of deaths ages 10-14 years\n",
       "SH.DTH.1019        Number of deaths ages 10-19 years\n",
       "SH.DTH.1519        Number of deaths ages 15-19 years\n",
       "SH.DTH.2024        Number of deaths ages 20-24 years\n",
       "SH.DTH.IMRT        Number of infant deaths\n",
       "SH.DTH.IMRT.FE     Number of infant deaths, female\n",
       "SH.DTH.IMRT.MA     Number of infant deaths, male\n",
       "SH.DTH.MORT        Number of under-five deaths\n",
       "SH.DTH.MORT.FE     Number of under-five deaths, female\n",
       "SH.DTH.MORT.MA     Number of under-five deaths, male\n",
       "SH.DTH.NMRT        Number of neonatal deaths\n",
       "SH.DYN.0509        Probability of dying among children ages 5-9 years (per 1,000)\n",
       "SH.DYN.0514        Probability of dying at age 5-14 years (per 1,000 children age 5)\n",
       "SH.DYN.1014        Probability of dying among adolescents ages 10-14 years (per 1,000)\n",
       "SH.DYN.1019        Probability of dying among adolescents ages 10-19 years (per 1,000)\n",
       "SH.DYN.1519        Probability of dying among adolescents ages 15-19 years (per 1,000)\n",
       "SH.DYN.2024        Probability of dying among youth ages 20-24 years (per 1,000)\n",
       "SH.DYN.MORT        Mortality rate, under-5 (per 1,000 live births)\n",
       "SH.DYN.MORT.FE     Mortality rate, under-5, female (per 1,000 live births)\n",
       "SH.DYN.MORT.MA     Mortality rate, under-5, male (per 1,000 live births)\n",
       "SH.DYN.NMRT        Mortality rate, neonatal (per 1,000 live births)\n",
       "SM.POP.NETM        Net migration\n",
       "SP.DYN.AMRT.FE     Mortality rate, adult, female (per 1,000 female adults)\n",
       "SP.DYN.AMRT.MA     Mortality rate, adult, male (per 1,000 male adults)\n",
       "SP.DYN.CBRT.IN     Birth rate, crude (per 1,000 people)\n",
       "SP.DYN.CDRT.IN     Death rate, crude (per 1,000 people)\n",
       "SP.DYN.IMRT.FE.IN  Mortality rate, infant, female (per 1,000 live births)\n",
       "SP.DYN.IMRT.IN     Mortality rate, infant (per 1,000 live births)\n",
       "SP.DYN.IMRT.MA.IN  Mortality rate, infant, male (per 1,000 live births)\n",
       "SP.DYN.LE00.FE.IN  Life expectancy at birth, female (years)\n",
       "SP.DYN.LE00.IN     Life expectancy at birth, total (years)\n",
       "SP.DYN.LE00.MA.IN  Life expectancy at birth, male (years)\n",
       "SP.DYN.TFRT.IN     Fertility rate, total (births per woman)\n",
       "SP.POP.0004.FE     Population ages 00-04, female\n",
       "SP.POP.0004.FE.5Y  Population ages 00-04, female (% of female population)\n",
       "SP.POP.0004.MA     Population ages 00-04, male\n",
       "SP.POP.0004.MA.5Y  Population ages 00-04, male (% of male population)\n",
       "SP.POP.0014.FE.IN  Population ages 0-14, female\n",
       "SP.POP.0014.FE.ZS  Population ages 0-14, female (% of female population)\n",
       "SP.POP.0014.MA.IN  Population ages 0-14, male\n",
       "SP.POP.0014.MA.ZS  Population ages 0-14, male (% of male population)\n",
       "SP.POP.0014.TO     Population ages 0-14, total\n",
       "SP.POP.0014.TO.ZS  Population ages 0-14 (% of total population)\n",
       "SP.POP.0509.FE     Population ages 05-09, female\n",
       "SP.POP.0509.FE.5Y  Population ages 05-09, female (% of female population)\n",
       "SP.POP.0509.MA     Population ages 05-09, male\n",
       "SP.POP.0509.MA.5Y  Population ages 05-09, male (% of male population)\n",
       "SP.POP.1014.FE     Population ages 10-14, female\n",
       "SP.POP.1014.FE.5Y  Population ages 10-14, female (% of female population)\n",
       "SP.POP.1014.MA     Population ages 10-14, male\n",
       "SP.POP.1014.MA.5Y  Population ages 10-14, male (% of male population)\n",
       "SP.POP.1519.FE     Population ages 15-19, female\n",
       "SP.POP.1519.FE.5Y  Population ages 15-19, female (% of female population)\n",
       "SP.POP.1519.MA     Population ages 15-19, male\n",
       "SP.POP.1519.MA.5Y  Population ages 15-19, male (% of male population)\n",
       "SP.POP.1564.FE.IN  Population ages 15-64, female\n",
       "SP.POP.1564.FE.ZS  Population ages 15-64, female (% of female population)\n",
       "SP.POP.1564.MA.IN  Population ages 15-64, male\n",
       "SP.POP.1564.MA.ZS  Population ages 15-64, male (% of male population)\n",
       "SP.POP.1564.TO     Population ages 15-64, total\n",
       "SP.POP.1564.TO.ZS  Population ages 15-64 (% of total population)\n",
       "SP.POP.2024.FE     Population ages 20-24, female\n",
       "SP.POP.2024.FE.5Y  Population ages 20-24, female (% of female population)\n",
       "SP.POP.2024.MA     Population ages 20-24, male\n",
       "SP.POP.2024.MA.5Y  Population ages 20-24, male (% of male population)\n",
       "SP.POP.2529.FE     Population ages 25-29, female\n",
       "SP.POP.2529.FE.5Y  Population ages 25-29, female (% of female population)\n",
       "SP.POP.2529.MA     Population ages 25-29, male\n",
       "SP.POP.2529.MA.5Y  Population ages 25-29, male (% of male population)\n",
       "SP.POP.3034.FE     Population ages 30-34, female\n",
       "SP.POP.3034.FE.5Y  Population ages 30-34, female (% of female population)\n",
       "SP.POP.3034.MA     Population ages 30-34, male\n",
       "SP.POP.3034.MA.5Y  Population ages 30-34, male (% of male population)\n",
       "SP.POP.3539.FE     Population ages 35-39, female\n",
       "SP.POP.3539.FE.5Y  Population ages 35-39, female (% of female population)\n",
       "SP.POP.3539.MA     Population ages 35-39, male\n",
       "SP.POP.3539.MA.5Y  Population ages 35-39, male (% of male population)\n",
       "SP.POP.4044.FE     Population ages 40-44, female\n",
       "SP.POP.4044.FE.5Y  Population ages 40-44, female (% of female population)\n",
       "SP.POP.4044.MA     Population ages 40-44, male\n",
       "SP.POP.4044.MA.5Y  Population ages 40-44, male (% of male population)\n",
       "SP.POP.4549.FE     Population ages 45-49, female\n",
       "SP.POP.4549.FE.5Y  Population ages 45-49, female (% of female population)\n",
       "SP.POP.4549.MA     Population ages 45-49, male\n",
       "SP.POP.4549.MA.5Y  Population ages 45-49, male (% of male population)\n",
       "SP.POP.5054.FE     Population ages 50-54, female\n",
       "SP.POP.5054.FE.5Y  Population ages 50-54, female (% of female population)\n",
       "SP.POP.5054.MA     Population ages 50-54, male\n",
       "SP.POP.5054.MA.5Y  Population ages 50-54, male (% of male population)\n",
       "SP.POP.5559.FE     Population ages 55-59, female\n",
       "SP.POP.5559.FE.5Y  Population ages 55-59, female (% of female population)\n",
       "SP.POP.5559.MA     Population ages 55-59, male\n",
       "SP.POP.5559.MA.5Y  Population ages 55-59, male (% of male population)\n",
       "SP.POP.6064.FE     Population ages 60-64, female\n",
       "SP.POP.6064.FE.5Y  Population ages 60-64, female (% of female population)\n",
       "SP.POP.6064.MA     Population ages 60-64, male\n",
       "SP.POP.6064.MA.5Y  Population ages 60-64, male (% of male population)\n",
       "SP.POP.6569.FE     Population ages 65-69, female\n",
       "SP.POP.6569.FE.5Y  Population ages 65-69, female (% of female population)\n",
       "SP.POP.6569.MA     Population ages 65-69, male\n",
       "SP.POP.6569.MA.5Y  Population ages 65-69, male (% of male population)\n",
       "SP.POP.65UP.FE.IN  Population ages 65 and above, female\n",
       "SP.POP.65UP.FE.ZS  Population ages 65 and above, female (% of female population)\n",
       "SP.POP.65UP.MA.IN  Population ages 65 and above, male\n",
       "SP.POP.65UP.MA.ZS  Population ages 65 and above, male (% of male population)\n",
       "SP.POP.65UP.TO     Population ages 65 and above, total\n",
       "SP.POP.65UP.TO.ZS  Population ages 65 and above (% of total population)\n",
       "SP.POP.7074.FE     Population ages 70-74, female\n",
       "SP.POP.7074.FE.5Y  Population ages 70-74, female (% of female population)\n",
       "SP.POP.7074.MA     Population ages 70-74, male\n",
       "SP.POP.7074.MA.5Y  Population ages 70-74, male (% of male population)\n",
       "SP.POP.7579.FE     Population ages 75-79, female\n",
       "SP.POP.7579.FE.5Y  Population ages 75-79, female (% of female population)\n",
       "SP.POP.7579.MA     Population ages 75-79, male\n",
       "SP.POP.7579.MA.5Y  Population ages 75-79, male (% of male population)\n",
       "SP.POP.80UP.FE     Population ages 80 and above, female\n",
       "SP.POP.80UP.FE.5Y  Population ages 80 and above, female (% of female population)\n",
       "SP.POP.80UP.MA     Population ages 80 and above, male\n",
       "SP.POP.80UP.MA.5Y  Population ages 80 and above, male (% of male population)\n",
       "SP.POP.AG00.FE.IN  Age population, age 00, female, interpolated\n",
       "SP.POP.AG00.MA.IN  Age population, age 00, male, interpolated\n",
       "SP.POP.AG01.FE.IN  Age population, age 01, female, interpolated\n",
       "SP.POP.AG01.MA.IN  Age population, age 01, male, interpolated\n",
       "SP.POP.AG02.FE.IN  Age population, age 02, female, interpolated\n",
       "SP.POP.AG02.MA.IN  Age population, age 02, male, interpolated\n",
       "SP.POP.AG03.FE.IN  Age population, age 03, female, interpolated\n",
       "SP.POP.AG03.MA.IN  Age population, age 03, male, interpolated\n",
       "SP.POP.AG04.FE.IN  Age population, age 04, female, interpolated\n",
       "SP.POP.AG04.MA.IN  Age population, age 04, male, interpolated\n",
       "SP.POP.AG05.FE.IN  Age population, age 05, female, interpolated\n",
       "SP.POP.AG05.MA.IN  Age population, age 05, male, interpolated\n",
       "SP.POP.AG06.FE.IN  Age population, age 06, female, interpolated\n",
       "SP.POP.AG06.MA.IN  Age population, age 06, male, interpolated\n",
       "SP.POP.AG07.FE.IN  Age population, age 07, female, interpolated\n",
       "SP.POP.AG07.MA.IN  Age population, age 07, male, interpolated\n",
       "SP.POP.AG08.FE.IN  Age population, age 08, female, interpolated\n",
       "SP.POP.AG08.MA.IN  Age population, age 08, male, interpolated\n",
       "SP.POP.AG09.FE.IN  Age population, age 09, female, interpolated\n",
       "SP.POP.AG09.MA.IN  Age population, age 09, male, interpolated\n",
       "SP.POP.AG10.FE.IN  Age population, age 10, female, interpolated\n",
       "SP.POP.AG10.MA.IN  Age population, age 10, male, interpolated\n",
       "SP.POP.AG11.FE.IN  Age population, age 11, female, interpolated\n",
       "SP.POP.AG11.MA.IN  Age population, age 11, male, interpolated\n",
       "SP.POP.AG12.FE.IN  Age population, age 12, female, interpolated\n",
       "SP.POP.AG12.MA.IN  Age population, age 12, male, interpolated\n",
       "SP.POP.AG13.FE.IN  Age population, age 13, female, interpolated\n",
       "SP.POP.AG13.MA.IN  Age population, age 13, male, interpolated\n",
       "SP.POP.AG14.FE.IN  Age population, age 14, female, interpolated\n",
       "SP.POP.AG14.MA.IN  Age population, age 14, male, interpolated\n",
       "SP.POP.AG15.FE.IN  Age population, age 15, female, interpolated\n",
       "SP.POP.AG15.MA.IN  Age population, age 15, male, interpolated\n",
       "SP.POP.AG16.FE.IN  Age population, age 16, female, interpolated\n",
       "SP.POP.AG16.MA.IN  Age population, age 16, male, interpolated\n",
       "SP.POP.AG17.FE.IN  Age population, age 17, female, interpolated\n",
       "SP.POP.AG17.MA.IN  Age population, age 17, male, interpolated\n",
       "SP.POP.AG18.FE.IN  Age population, age 18, female, interpolated\n",
       "SP.POP.AG18.MA.IN  Age population, age 18, male, interpolated\n",
       "SP.POP.AG19.FE.IN  Age population, age 19, female, interpolated\n",
       "SP.POP.AG19.MA.IN  Age population, age 19, male, interpolated\n",
       "SP.POP.AG20.FE.IN  Age population, age 20, female, interpolated\n",
       "SP.POP.AG20.MA.IN  Age population, age 20, male, interpolated\n",
       "SP.POP.AG21.FE.IN  Age population, age 21, female, interpolated\n",
       "SP.POP.AG21.MA.IN  Age population, age 21, male, interpolated\n",
       "SP.POP.AG22.FE.IN  Age population, age 22, female, interpolated\n",
       "SP.POP.AG22.MA.IN  Age population, age 22, male, interpolated\n",
       "SP.POP.AG23.FE.IN  Age population, age 23, female, interpolated\n",
       "SP.POP.AG23.MA.IN  Age population, age 23, male, interpolated\n",
       "SP.POP.AG24.FE.IN  Age population, age 24, female, interpolated\n",
       "SP.POP.AG24.MA.IN  Age population, age 24, male, interpolated\n",
       "SP.POP.AG25.FE.IN  Age population, age 25, female, interpolated\n",
       "SP.POP.AG25.MA.IN  Age population, age 25, male, interpolated\n",
       "SP.POP.BRTH.MF     Sex ratio at birth (male births per female births)\n",
       "SP.POP.DPND        Age dependency ratio (% of working-age population)\n",
       "SP.POP.DPND.OL     Age dependency ratio, old (% of working-age population)\n",
       "SP.POP.DPND.YG     Age dependency ratio, young (% of working-age population)\n",
       "SP.POP.GROW        Population growth (annual %)\n",
       "SP.POP.TOTL        Population, total\n",
       "SP.POP.TOTL.FE.IN  Population, female\n",
       "SP.POP.TOTL.FE.ZS  Population, female (% of total population)\n",
       "SP.POP.TOTL.MA.IN  Population, male\n",
       "SP.POP.TOTL.MA.ZS  Population, male (% of total population)\n",
       "SP.RUR.TOTL        Rural population\n",
       "SP.RUR.TOTL.ZG     Rural population growth (annual %)\n",
       "SP.RUR.TOTL.ZS     Rural population (% of total population)\n",
       "SP.URB.GROW        Urban population growth (annual %)\n",
       "SP.URB.TOTL        Urban population\n",
       "SP.URB.TOTL.IN.ZS  Urban population (% of total population)"
      ]
     },
     "execution_count": 55,
     "metadata": {},
     "output_type": "execute_result"
    }
   ],
   "source": [
    "indicators = wbdata.get_indicators(source=40)\n",
    "indicators"
   ]
  },
  {
   "cell_type": "code",
   "execution_count": 56,
   "id": "ebc76173",
   "metadata": {},
   "outputs": [],
   "source": [
    "def population_data_frames(sex, age_range, place, year=None):\n",
    "    lower, upper = age_range[0], age_range[1]\n",
    "    if sex == \"Both\":\n",
    "        return population_data_frames(\"Male\",age_range,place).merge(population_data_frames(\"Female\",age_range,place), on=[\"date\", \"country\"])\n",
    "    if upper > 80:\n",
    "        ages = []\n",
    "        for x in range (lower, upper, 5):\n",
    "            if x < 80:\n",
    "                ages.append((x, x+4))\n",
    "            if x > 80:\n",
    "                break\n",
    "        ranges = [f'{x[0]:02d}{x[1]:02d}' for x in ages[:-1]]\n",
    "        ranges.append('80UP')\n",
    "    elif upper == lower + 4:\n",
    "        label = f'SP.POP.{lower:02d}{upper}.{sexdict[sex]}.IN'\n",
    "        df = wbdata.get_dataframe(label,country=place,parse_dates=True)\n",
    "    else:\n",
    "        ages = [(x, x+4) for x in range(lower, upper, 5)]\n",
    "        ranges = [f'{x[0]:02d}{x[1]:02d}' for x in ages]\n",
    "\n",
    "    var = [f\"SP.POP.{x}.{sexdict[sex]}\" for x in ranges]\n",
    "    feed = {x: f\"{sex} {ranges[var.index(x)]}\" for x in var} # constructs variable dictionary to be fed to wbdata\n",
    "    df = wbdata.get_dataframe(feed,country=place,parse_dates=True).reset_index()\n",
    "    df['country'] = place\n",
    "    df.set_index(['country', 'date'], inplace=True)\n",
    "    return df"
   ]
  },
  {
   "cell_type": "code",
   "execution_count": 57,
   "id": "3cc9c939-376f-4eb9-a0dc-40dbed37ebab",
   "metadata": {},
   "outputs": [
    {
     "name": "stderr",
     "output_type": "stream",
     "text": [
      "WARNING:shelved_cache.persistent_cache:Key '-4654638386598865505' not in persistent cache.\n",
      "WARNING:shelved_cache.persistent_cache:Key '6709085610706808519' not in persistent cache.\n"
     ]
    },
    {
     "data": {
      "text/html": [
       "<div>\n",
       "<style scoped>\n",
       "    .dataframe tbody tr th:only-of-type {\n",
       "        vertical-align: middle;\n",
       "    }\n",
       "\n",
       "    .dataframe tbody tr th {\n",
       "        vertical-align: top;\n",
       "    }\n",
       "\n",
       "    .dataframe thead th {\n",
       "        text-align: right;\n",
       "    }\n",
       "</style>\n",
       "<table border=\"1\" class=\"dataframe\">\n",
       "  <thead>\n",
       "    <tr style=\"text-align: right;\">\n",
       "      <th></th>\n",
       "      <th></th>\n",
       "      <th>Male 0004</th>\n",
       "      <th>Male 0509</th>\n",
       "      <th>Male 1014</th>\n",
       "      <th>Male 1519</th>\n",
       "      <th>Male 2024</th>\n",
       "      <th>Male 2529</th>\n",
       "      <th>Male 3034</th>\n",
       "      <th>Male 3539</th>\n",
       "      <th>Male 4044</th>\n",
       "      <th>Male 4549</th>\n",
       "      <th>...</th>\n",
       "      <th>Female 3034</th>\n",
       "      <th>Female 3539</th>\n",
       "      <th>Female 4044</th>\n",
       "      <th>Female 4549</th>\n",
       "      <th>Female 5054</th>\n",
       "      <th>Female 5559</th>\n",
       "      <th>Female 6064</th>\n",
       "      <th>Female 6569</th>\n",
       "      <th>Female 7074</th>\n",
       "      <th>Female 80UP</th>\n",
       "    </tr>\n",
       "    <tr>\n",
       "      <th>date</th>\n",
       "      <th>country</th>\n",
       "      <th></th>\n",
       "      <th></th>\n",
       "      <th></th>\n",
       "      <th></th>\n",
       "      <th></th>\n",
       "      <th></th>\n",
       "      <th></th>\n",
       "      <th></th>\n",
       "      <th></th>\n",
       "      <th></th>\n",
       "      <th></th>\n",
       "      <th></th>\n",
       "      <th></th>\n",
       "      <th></th>\n",
       "      <th></th>\n",
       "      <th></th>\n",
       "      <th></th>\n",
       "      <th></th>\n",
       "      <th></th>\n",
       "      <th></th>\n",
       "      <th></th>\n",
       "    </tr>\n",
       "  </thead>\n",
       "  <tbody>\n",
       "    <tr>\n",
       "      <th>2023-01-01</th>\n",
       "      <th>CHN</th>\n",
       "      <td>30390275.0</td>\n",
       "      <td>46921541.0</td>\n",
       "      <td>47697475.0</td>\n",
       "      <td>43619845.0</td>\n",
       "      <td>42690196.0</td>\n",
       "      <td>45996968.0</td>\n",
       "      <td>58571312.0</td>\n",
       "      <td>58164459.0</td>\n",
       "      <td>50128672.0</td>\n",
       "      <td>49849324.0</td>\n",
       "      <td>...</td>\n",
       "      <td>52861422.0</td>\n",
       "      <td>54111081.0</td>\n",
       "      <td>47658004.0</td>\n",
       "      <td>48165337.0</td>\n",
       "      <td>60432093.0</td>\n",
       "      <td>56825905.0</td>\n",
       "      <td>37771419.0</td>\n",
       "      <td>39685195.0</td>\n",
       "      <td>31522585.0</td>\n",
       "      <td>21143382.0</td>\n",
       "    </tr>\n",
       "    <tr>\n",
       "      <th>2022-01-01</th>\n",
       "      <th>CHN</th>\n",
       "      <td>34407301.0</td>\n",
       "      <td>47977432.0</td>\n",
       "      <td>46945694.0</td>\n",
       "      <td>42880142.0</td>\n",
       "      <td>43079433.0</td>\n",
       "      <td>47322938.0</td>\n",
       "      <td>61347262.0</td>\n",
       "      <td>56040230.0</td>\n",
       "      <td>48623953.0</td>\n",
       "      <td>52814513.0</td>\n",
       "      <td>...</td>\n",
       "      <td>55702933.0</td>\n",
       "      <td>52391805.0</td>\n",
       "      <td>46321543.0</td>\n",
       "      <td>51130200.0</td>\n",
       "      <td>60536192.0</td>\n",
       "      <td>56551300.0</td>\n",
       "      <td>35002089.0</td>\n",
       "      <td>39507542.0</td>\n",
       "      <td>29106909.0</td>\n",
       "      <td>20609359.0</td>\n",
       "    </tr>\n",
       "    <tr>\n",
       "      <th>2021-01-01</th>\n",
       "      <th>CHN</th>\n",
       "      <td>38802141.0</td>\n",
       "      <td>48127269.0</td>\n",
       "      <td>46077575.0</td>\n",
       "      <td>42441714.0</td>\n",
       "      <td>43637348.0</td>\n",
       "      <td>48943931.0</td>\n",
       "      <td>63431979.0</td>\n",
       "      <td>54207913.0</td>\n",
       "      <td>47300851.0</td>\n",
       "      <td>55783379.0</td>\n",
       "      <td>...</td>\n",
       "      <td>57929324.0</td>\n",
       "      <td>50904100.0</td>\n",
       "      <td>45150868.0</td>\n",
       "      <td>54098374.0</td>\n",
       "      <td>59738602.0</td>\n",
       "      <td>53597653.0</td>\n",
       "      <td>35660756.0</td>\n",
       "      <td>38793955.0</td>\n",
       "      <td>26676375.0</td>\n",
       "      <td>20037771.0</td>\n",
       "    </tr>\n",
       "    <tr>\n",
       "      <th>2020-01-01</th>\n",
       "      <th>CHN</th>\n",
       "      <td>42401148.0</td>\n",
       "      <td>48099312.0</td>\n",
       "      <td>45390757.0</td>\n",
       "      <td>42444894.0</td>\n",
       "      <td>44208685.0</td>\n",
       "      <td>51917714.0</td>\n",
       "      <td>63016755.0</td>\n",
       "      <td>52572479.0</td>\n",
       "      <td>47188710.0</td>\n",
       "      <td>58708249.0</td>\n",
       "      <td>...</td>\n",
       "      <td>57874577.0</td>\n",
       "      <td>49544962.0</td>\n",
       "      <td>45127659.0</td>\n",
       "      <td>57028683.0</td>\n",
       "      <td>58862173.0</td>\n",
       "      <td>48420766.0</td>\n",
       "      <td>37969600.0</td>\n",
       "      <td>37695737.0</td>\n",
       "      <td>24481027.0</td>\n",
       "      <td>19453664.0</td>\n",
       "    </tr>\n",
       "    <tr>\n",
       "      <th>2019-01-01</th>\n",
       "      <th>CHN</th>\n",
       "      <td>45006875.0</td>\n",
       "      <td>48004396.0</td>\n",
       "      <td>44534610.0</td>\n",
       "      <td>42626158.0</td>\n",
       "      <td>45014490.0</td>\n",
       "      <td>55706672.0</td>\n",
       "      <td>60783908.0</td>\n",
       "      <td>51377332.0</td>\n",
       "      <td>48144457.0</td>\n",
       "      <td>61076492.0</td>\n",
       "      <td>...</td>\n",
       "      <td>56135406.0</td>\n",
       "      <td>48557018.0</td>\n",
       "      <td>46127571.0</td>\n",
       "      <td>59426420.0</td>\n",
       "      <td>57903342.0</td>\n",
       "      <td>43397958.0</td>\n",
       "      <td>40213974.0</td>\n",
       "      <td>35946934.0</td>\n",
       "      <td>22477861.0</td>\n",
       "      <td>18898610.0</td>\n",
       "    </tr>\n",
       "    <tr>\n",
       "      <th>...</th>\n",
       "      <th>...</th>\n",
       "      <td>...</td>\n",
       "      <td>...</td>\n",
       "      <td>...</td>\n",
       "      <td>...</td>\n",
       "      <td>...</td>\n",
       "      <td>...</td>\n",
       "      <td>...</td>\n",
       "      <td>...</td>\n",
       "      <td>...</td>\n",
       "      <td>...</td>\n",
       "      <td>...</td>\n",
       "      <td>...</td>\n",
       "      <td>...</td>\n",
       "      <td>...</td>\n",
       "      <td>...</td>\n",
       "      <td>...</td>\n",
       "      <td>...</td>\n",
       "      <td>...</td>\n",
       "      <td>...</td>\n",
       "      <td>...</td>\n",
       "      <td>...</td>\n",
       "    </tr>\n",
       "    <tr>\n",
       "      <th>1964-01-01</th>\n",
       "      <th>CHN</th>\n",
       "      <td>53250448.0</td>\n",
       "      <td>48925593.0</td>\n",
       "      <td>45210547.0</td>\n",
       "      <td>32772310.0</td>\n",
       "      <td>27179605.0</td>\n",
       "      <td>26566937.0</td>\n",
       "      <td>24330081.0</td>\n",
       "      <td>21031169.0</td>\n",
       "      <td>18185693.0</td>\n",
       "      <td>15660355.0</td>\n",
       "      <td>...</td>\n",
       "      <td>22007969.0</td>\n",
       "      <td>19483299.0</td>\n",
       "      <td>17392150.0</td>\n",
       "      <td>15431263.0</td>\n",
       "      <td>13393101.0</td>\n",
       "      <td>11786993.0</td>\n",
       "      <td>9466826.0</td>\n",
       "      <td>6632284.0</td>\n",
       "      <td>4460153.0</td>\n",
       "      <td>1460761.0</td>\n",
       "    </tr>\n",
       "    <tr>\n",
       "      <th>1963-01-01</th>\n",
       "      <th>CHN</th>\n",
       "      <td>47951039.0</td>\n",
       "      <td>50749733.0</td>\n",
       "      <td>43265071.0</td>\n",
       "      <td>31245247.0</td>\n",
       "      <td>27269359.0</td>\n",
       "      <td>26878889.0</td>\n",
       "      <td>23871048.0</td>\n",
       "      <td>20785092.0</td>\n",
       "      <td>17811841.0</td>\n",
       "      <td>15758791.0</td>\n",
       "      <td>...</td>\n",
       "      <td>21660173.0</td>\n",
       "      <td>19354179.0</td>\n",
       "      <td>17095469.0</td>\n",
       "      <td>15479965.0</td>\n",
       "      <td>13256152.0</td>\n",
       "      <td>11717468.0</td>\n",
       "      <td>9144942.0</td>\n",
       "      <td>6641740.0</td>\n",
       "      <td>4377684.0</td>\n",
       "      <td>1450193.0</td>\n",
       "    </tr>\n",
       "    <tr>\n",
       "      <th>1962-01-01</th>\n",
       "      <th>CHN</th>\n",
       "      <td>44777918.0</td>\n",
       "      <td>50854256.0</td>\n",
       "      <td>40877563.0</td>\n",
       "      <td>29902774.0</td>\n",
       "      <td>27482213.0</td>\n",
       "      <td>26824171.0</td>\n",
       "      <td>23384228.0</td>\n",
       "      <td>20378091.0</td>\n",
       "      <td>17531795.0</td>\n",
       "      <td>15710166.0</td>\n",
       "      <td>...</td>\n",
       "      <td>21287773.0</td>\n",
       "      <td>19076777.0</td>\n",
       "      <td>16884402.0</td>\n",
       "      <td>15370624.0</td>\n",
       "      <td>13165906.0</td>\n",
       "      <td>11656254.0</td>\n",
       "      <td>8846123.0</td>\n",
       "      <td>6626940.0</td>\n",
       "      <td>4305783.0</td>\n",
       "      <td>1422151.0</td>\n",
       "    </tr>\n",
       "    <tr>\n",
       "      <th>1961-01-01</th>\n",
       "      <th>CHN</th>\n",
       "      <td>46459365.0</td>\n",
       "      <td>50481643.0</td>\n",
       "      <td>38596810.0</td>\n",
       "      <td>29125584.0</td>\n",
       "      <td>27700640.0</td>\n",
       "      <td>26562875.0</td>\n",
       "      <td>23028989.0</td>\n",
       "      <td>20175956.0</td>\n",
       "      <td>17398685.0</td>\n",
       "      <td>15571913.0</td>\n",
       "      <td>...</td>\n",
       "      <td>21019399.0</td>\n",
       "      <td>18973517.0</td>\n",
       "      <td>16813420.0</td>\n",
       "      <td>15151213.0</td>\n",
       "      <td>13242628.0</td>\n",
       "      <td>11605418.0</td>\n",
       "      <td>8661101.0</td>\n",
       "      <td>6627978.0</td>\n",
       "      <td>4325327.0</td>\n",
       "      <td>1421175.0</td>\n",
       "    </tr>\n",
       "    <tr>\n",
       "      <th>1960-01-01</th>\n",
       "      <th>CHN</th>\n",
       "      <td>51416955.0</td>\n",
       "      <td>50098089.0</td>\n",
       "      <td>36823111.0</td>\n",
       "      <td>29027168.0</td>\n",
       "      <td>28092415.0</td>\n",
       "      <td>26459425.0</td>\n",
       "      <td>22874774.0</td>\n",
       "      <td>20178976.0</td>\n",
       "      <td>17445180.0</td>\n",
       "      <td>15573208.0</td>\n",
       "      <td>...</td>\n",
       "      <td>20951533.0</td>\n",
       "      <td>19029161.0</td>\n",
       "      <td>16873602.0</td>\n",
       "      <td>15079311.0</td>\n",
       "      <td>13488469.0</td>\n",
       "      <td>11589857.0</td>\n",
       "      <td>8685206.0</td>\n",
       "      <td>6699927.0</td>\n",
       "      <td>4482097.0</td>\n",
       "      <td>1485887.0</td>\n",
       "    </tr>\n",
       "  </tbody>\n",
       "</table>\n",
       "<p>64 rows × 32 columns</p>\n",
       "</div>"
      ],
      "text/plain": [
       "                     Male 0004   Male 0509   Male 1014   Male 1519  \\\n",
       "date       country                                                   \n",
       "2023-01-01 CHN      30390275.0  46921541.0  47697475.0  43619845.0   \n",
       "2022-01-01 CHN      34407301.0  47977432.0  46945694.0  42880142.0   \n",
       "2021-01-01 CHN      38802141.0  48127269.0  46077575.0  42441714.0   \n",
       "2020-01-01 CHN      42401148.0  48099312.0  45390757.0  42444894.0   \n",
       "2019-01-01 CHN      45006875.0  48004396.0  44534610.0  42626158.0   \n",
       "...                        ...         ...         ...         ...   \n",
       "1964-01-01 CHN      53250448.0  48925593.0  45210547.0  32772310.0   \n",
       "1963-01-01 CHN      47951039.0  50749733.0  43265071.0  31245247.0   \n",
       "1962-01-01 CHN      44777918.0  50854256.0  40877563.0  29902774.0   \n",
       "1961-01-01 CHN      46459365.0  50481643.0  38596810.0  29125584.0   \n",
       "1960-01-01 CHN      51416955.0  50098089.0  36823111.0  29027168.0   \n",
       "\n",
       "                     Male 2024   Male 2529   Male 3034   Male 3539  \\\n",
       "date       country                                                   \n",
       "2023-01-01 CHN      42690196.0  45996968.0  58571312.0  58164459.0   \n",
       "2022-01-01 CHN      43079433.0  47322938.0  61347262.0  56040230.0   \n",
       "2021-01-01 CHN      43637348.0  48943931.0  63431979.0  54207913.0   \n",
       "2020-01-01 CHN      44208685.0  51917714.0  63016755.0  52572479.0   \n",
       "2019-01-01 CHN      45014490.0  55706672.0  60783908.0  51377332.0   \n",
       "...                        ...         ...         ...         ...   \n",
       "1964-01-01 CHN      27179605.0  26566937.0  24330081.0  21031169.0   \n",
       "1963-01-01 CHN      27269359.0  26878889.0  23871048.0  20785092.0   \n",
       "1962-01-01 CHN      27482213.0  26824171.0  23384228.0  20378091.0   \n",
       "1961-01-01 CHN      27700640.0  26562875.0  23028989.0  20175956.0   \n",
       "1960-01-01 CHN      28092415.0  26459425.0  22874774.0  20178976.0   \n",
       "\n",
       "                     Male 4044   Male 4549  ...  Female 3034  Female 3539  \\\n",
       "date       country                          ...                             \n",
       "2023-01-01 CHN      50128672.0  49849324.0  ...   52861422.0   54111081.0   \n",
       "2022-01-01 CHN      48623953.0  52814513.0  ...   55702933.0   52391805.0   \n",
       "2021-01-01 CHN      47300851.0  55783379.0  ...   57929324.0   50904100.0   \n",
       "2020-01-01 CHN      47188710.0  58708249.0  ...   57874577.0   49544962.0   \n",
       "2019-01-01 CHN      48144457.0  61076492.0  ...   56135406.0   48557018.0   \n",
       "...                        ...         ...  ...          ...          ...   \n",
       "1964-01-01 CHN      18185693.0  15660355.0  ...   22007969.0   19483299.0   \n",
       "1963-01-01 CHN      17811841.0  15758791.0  ...   21660173.0   19354179.0   \n",
       "1962-01-01 CHN      17531795.0  15710166.0  ...   21287773.0   19076777.0   \n",
       "1961-01-01 CHN      17398685.0  15571913.0  ...   21019399.0   18973517.0   \n",
       "1960-01-01 CHN      17445180.0  15573208.0  ...   20951533.0   19029161.0   \n",
       "\n",
       "                    Female 4044  Female 4549  Female 5054  Female 5559  \\\n",
       "date       country                                                       \n",
       "2023-01-01 CHN       47658004.0   48165337.0   60432093.0   56825905.0   \n",
       "2022-01-01 CHN       46321543.0   51130200.0   60536192.0   56551300.0   \n",
       "2021-01-01 CHN       45150868.0   54098374.0   59738602.0   53597653.0   \n",
       "2020-01-01 CHN       45127659.0   57028683.0   58862173.0   48420766.0   \n",
       "2019-01-01 CHN       46127571.0   59426420.0   57903342.0   43397958.0   \n",
       "...                         ...          ...          ...          ...   \n",
       "1964-01-01 CHN       17392150.0   15431263.0   13393101.0   11786993.0   \n",
       "1963-01-01 CHN       17095469.0   15479965.0   13256152.0   11717468.0   \n",
       "1962-01-01 CHN       16884402.0   15370624.0   13165906.0   11656254.0   \n",
       "1961-01-01 CHN       16813420.0   15151213.0   13242628.0   11605418.0   \n",
       "1960-01-01 CHN       16873602.0   15079311.0   13488469.0   11589857.0   \n",
       "\n",
       "                    Female 6064  Female 6569  Female 7074  Female 80UP  \n",
       "date       country                                                      \n",
       "2023-01-01 CHN       37771419.0   39685195.0   31522585.0   21143382.0  \n",
       "2022-01-01 CHN       35002089.0   39507542.0   29106909.0   20609359.0  \n",
       "2021-01-01 CHN       35660756.0   38793955.0   26676375.0   20037771.0  \n",
       "2020-01-01 CHN       37969600.0   37695737.0   24481027.0   19453664.0  \n",
       "2019-01-01 CHN       40213974.0   35946934.0   22477861.0   18898610.0  \n",
       "...                         ...          ...          ...          ...  \n",
       "1964-01-01 CHN        9466826.0    6632284.0    4460153.0    1460761.0  \n",
       "1963-01-01 CHN        9144942.0    6641740.0    4377684.0    1450193.0  \n",
       "1962-01-01 CHN        8846123.0    6626940.0    4305783.0    1422151.0  \n",
       "1961-01-01 CHN        8661101.0    6627978.0    4325327.0    1421175.0  \n",
       "1960-01-01 CHN        8685206.0    6699927.0    4482097.0    1485887.0  \n",
       "\n",
       "[64 rows x 32 columns]"
      ]
     },
     "execution_count": 57,
     "metadata": {},
     "output_type": "execute_result"
    }
   ],
   "source": [
    "df = population_data_frames('Both', (0,100), \"CHN\")\n",
    "df"
   ]
  },
  {
   "cell_type": "code",
   "execution_count": 58,
   "id": "79ca0ddd",
   "metadata": {},
   "outputs": [],
   "source": [
    "sexdict = {'Male':'MA', 'Female':'FE'}\n",
    "def population(year,sex,age_range,place):\n",
    "    lower, upper = age_range[0], age_range[1]\n",
    "    df = population_data_frames(sex, age_range,place).reset_index()\n",
    "    df = df[df['date'] == f'{year}-01-01'] # selecting relevant year\n",
    "    df.drop('date', axis=1, inplace=True)\n",
    "    if '80UP' in df.columns[-1]:\n",
    "        df = df.drop('country', axis=1)\n",
    "        ultrafinal = df.sum(axis = 1).iloc[0]\n",
    "    else:\n",
    "        sub = (int(df.columns[-1][-4:-2]))\n",
    "        extra = ((upper - sub) / 5) * (df.iloc[:,-1].to_list()[0]) # controls for age ranges not on bounds, could change to \n",
    "                                                                      # year by year subtraction)\n",
    "        df = df.drop('country', axis=1)\n",
    "        finalpop = df.sum(axis=1) - extra\n",
    "        ultrafinal = finalpop.iloc[0]\n",
    "    if sex.lower() == 'both':\n",
    "        endstr = f'In {year} there were {ultrafinal} people aged {lower} to {upper} in {place}'\n",
    "    else:\n",
    "        endstr = f'In {year} there were {ultrafinal} {sex.lower()}s aged {lower} to {upper} in {place}'\n",
    "    return endstr"
   ]
  },
  {
   "cell_type": "code",
   "execution_count": 59,
   "id": "ad8be91d",
   "metadata": {
    "scrolled": true
   },
   "outputs": [
    {
     "data": {
      "text/plain": [
       "'In 1990 there were 453811201.0 males aged 10 to 100 in CHN'"
      ]
     },
     "execution_count": 59,
     "metadata": {},
     "output_type": "execute_result"
    }
   ],
   "source": [
    "population(1990, 'Male', (10,100), 'CHN')"
   ]
  },
  {
   "cell_type": "code",
   "execution_count": 60,
   "id": "04e8dedd",
   "metadata": {},
   "outputs": [
    {
     "ename": "NameError",
     "evalue": "name 'usa' is not defined",
     "output_type": "error",
     "traceback": [
      "\u001b[0;31m---------------------------------------------------------------------------\u001b[0m",
      "\u001b[0;31mNameError\u001b[0m                                 Traceback (most recent call last)",
      "Cell \u001b[0;32mIn[60], line 2\u001b[0m\n\u001b[1;32m      1\u001b[0m pd\u001b[38;5;241m.\u001b[39moptions\u001b[38;5;241m.\u001b[39mplotting\u001b[38;5;241m.\u001b[39mbackend \u001b[38;5;241m=\u001b[39m \u001b[38;5;124m'\u001b[39m\u001b[38;5;124mplotly\u001b[39m\u001b[38;5;124m'\u001b[39m\n\u001b[0;32m----> 2\u001b[0m usaplot, chnplot \u001b[38;5;241m=\u001b[39m \u001b[43musa\u001b[49m\u001b[38;5;241m.\u001b[39mreset_index(), chn\u001b[38;5;241m.\u001b[39mreset_index()\n\u001b[1;32m      3\u001b[0m usaplot\u001b[38;5;241m.\u001b[39mset_index(\u001b[38;5;124m'\u001b[39m\u001b[38;5;124mdate\u001b[39m\u001b[38;5;124m'\u001b[39m)\u001b[38;5;241m.\u001b[39mdrop(\u001b[38;5;124m'\u001b[39m\u001b[38;5;124mcountry\u001b[39m\u001b[38;5;124m'\u001b[39m, axis\u001b[38;5;241m=\u001b[39m\u001b[38;5;241m1\u001b[39m)\u001b[38;5;241m.\u001b[39mplot(title \u001b[38;5;241m=\u001b[39m \u001b[38;5;124m'\u001b[39m\u001b[38;5;124mPopulation Over time for males 10-33 in USA\u001b[39m\u001b[38;5;124m'\u001b[39m)\n",
      "\u001b[0;31mNameError\u001b[0m: name 'usa' is not defined"
     ]
    }
   ],
   "source": [
    "pd.options.plotting.backend = 'plotly'\n",
    "usaplot, chnplot = usa.reset_index(), chn.reset_index()\n",
    "usaplot.set_index('date').drop('country', axis=1).plot(title = 'Population Over time for males 10-33 in USA')"
   ]
  },
  {
   "cell_type": "code",
   "execution_count": null,
   "id": "db60d04c",
   "metadata": {},
   "outputs": [],
   "source": [
    "genderframe = wbdata.get_dataframe({'SP.POP.BRTH.MF' : 'Sex Ratio'}, country = 'CHN', parse_dates=True).reset_index()\n",
    "sexratiofig = genderframe.plot(kind = 'line', x = 'date', y = 'Sex Ratio', title = 'Sex Ratio Over Time')\n",
    "highlight_year = 1979\n",
    "if highlight_year in genderframe['date'].dt.year.values:\n",
    "    y_value = genderframe.loc[genderframe['date'].dt.year == highlight_year, 'Sex Ratio'].values[0]\n",
    "sexratiofig.add_annotation(\n",
    "        x=pd.to_datetime('1979'), y= y_value,\n",
    "        text=\"one child policy\", showarrow=True, arrowhead=2, font=dict(color=\"red\"))\n",
    "sexratiofig.add_annotation(\n",
    "        x=pd.to_datetime('2015'), y = genderframe.loc[genderframe['date'].dt.year == 2015, 'Sex Ratio'].values[0],\n",
    "        text='end of policy', showarrow=True, arrowhead=3, font=dict(color='red'))\n",
    "sexratiofig"
   ]
  },
  {
   "cell_type": "code",
   "execution_count": null,
   "id": "70f53658",
   "metadata": {},
   "outputs": [],
   "source": [
    "genderframe"
   ]
  },
  {
   "cell_type": "code",
   "execution_count": null,
   "id": "de8d6300",
   "metadata": {},
   "outputs": [],
   "source": [
    "import plotly.offline as py\n",
    "import plotly.graph_objs as go\n",
    "\n",
    "def population_pyramid(df, year):\n",
    "    \"\"\"Plots population pyramid given dataframe from population dataframe function and year.\"\"\"\n",
    "    df = df.reset_index()\n",
    "    df = df.drop('country', axis=1)\n",
    "    df = df.set_index('date')\n",
    "    year = f\"{year}-01-01\"\n",
    "    age_ranges = [f\"{i:02d}{i+4:02d}\" for i in range(0, 80, 5)]\n",
    "    age_ranges.append(\"80UP\")\n",
    "    layout = go.Layout(\n",
    "        barmode='overlay',\n",
    "        yaxis=go.layout.YAxis(range=[-2, 90], title='Age'),\n",
    "        xaxis=go.layout.XAxis(title='Population')\n",
    "    )\n",
    "    y_values = [int(s[:2]) + 2.5 for s in age_ranges]\n",
    "    bins = [\n",
    "        go.Bar(\n",
    "            x=df.loc[year, :].filter(regex=\"Male\").values,\n",
    "            y=y_values,\n",
    "            orientation='h',\n",
    "            name='Men',\n",
    "            marker=dict(color='blue'),\n",
    "            hoverinfo='x+y'\n",
    "        ),\n",
    "        go.Bar(\n",
    "            x=-df.loc[year, :].filter(regex=\"Female\").values,\n",
    "            y=y_values,\n",
    "            orientation='h',\n",
    "            name='Women',\n",
    "            marker=dict(color='pink'),\n",
    "            hoverinfo='x+y'\n",
    "        )\n",
    "    ]\n",
    "    py.iplot(dict(data=bins, layout=layout))"
   ]
  },
  {
   "cell_type": "code",
   "execution_count": null,
   "id": "ac1581fe",
   "metadata": {},
   "outputs": [],
   "source": [
    "population_pyramid(df, 1990)"
   ]
  },
  {
   "cell_type": "code",
   "execution_count": 61,
   "id": "ef116ae0-b5b8-4d02-be41-9ad386835524",
   "metadata": {},
   "outputs": [],
   "source": [
    "import plotly.graph_objects as go\n",
    "\n",
    "def population_pyramid_slider(df):\n",
    "    \"\"\"Plots animated population pyramid given dataframe from population dataframe function\"\"\"\n",
    "    years = list(range(1960, 2024))\n",
    "    df = df.reset_index()\n",
    "    df = df.drop('country',axis=1)\n",
    "    df = df.set_index('date')\n",
    "    age_ranges = [f\"{i:02d}{i+4:02d}\" for i in range(0, 80, 5)]\n",
    "    age_ranges.append(\"80UP\")\n",
    "    \n",
    "    y_values = [int(s[:2])+2.5 for s in age_ranges]\n",
    "\n",
    "    initial_year = years[0]\n",
    "    initial_year_str = f\"{initial_year}-01-01\"\n",
    "\n",
    "    male_population = df.loc[initial_year_str, :].filter(regex=\"Male\").values\n",
    "    female_population = df.loc[initial_year_str, :].filter(regex=\"Female\").values\n",
    "\n",
    "    bars = [\n",
    "        go.Bar(\n",
    "            x=male_population,\n",
    "            y=y_values,\n",
    "            orientation='h',\n",
    "            name='Men',\n",
    "            marker=dict(color='blue'),\n",
    "            hoverinfo='x+y'\n",
    "        ),\n",
    "        go.Bar(\n",
    "            x=-female_population,\n",
    "            y=y_values,\n",
    "            orientation='h',\n",
    "            name='Women',\n",
    "            marker=dict(color='pink'),\n",
    "            hoverinfo='x+y'\n",
    "        )\n",
    "    ]\n",
    "\n",
    "    frames = []\n",
    "    for year in years:\n",
    "        year_str = f\"{year}-01-01\"\n",
    "        if year_str in df.index:  \n",
    "            frame_male = df.loc[year_str, :].filter(regex=\"Male\").values\n",
    "            frame_female = df.loc[year_str, :].filter(regex=\"Female\").values\n",
    "        else:\n",
    "            frame_male = [0] * len(y_values)\n",
    "            frame_female = [0] * len(y_values)\n",
    "\n",
    "        frames.append(\n",
    "            go.Frame(\n",
    "                data=[\n",
    "                    go.Bar(x=frame_male, y=y_values),\n",
    "                    go.Bar(x=-frame_female, y=y_values)\n",
    "                ],\n",
    "                name=str(year)\n",
    "            )\n",
    "        )\n",
    "\n",
    "    layout = go.Layout(\n",
    "        title=\"Population Pyramid Over Time For China\",\n",
    "        barmode='overlay',\n",
    "        yaxis=dict(title='Age', range=[-2, max(y_values) + 5]),\n",
    "        xaxis=dict(title='Population', tickformat=\",\", showgrid=True),\n",
    "        bargap=0.1,\n",
    "        template=\"plotly_white\",\n",
    "        height=600,\n",
    "        margin=dict(t=150, b=50),\n",
    "        updatemenus=[{\n",
    "            \"buttons\": [\n",
    "                {\n",
    "                    \"args\": [None, {\"frame\": {\"duration\": 500, \"redraw\": True}, \"fromcurrent\": True}],\n",
    "                    \"label\": \"Play\",\n",
    "                    \"method\": \"animate\"\n",
    "                },\n",
    "                {\n",
    "                    \"args\": [[None], {\"frame\": {\"duration\": 0, \"redraw\": True}, \"mode\": \"immediate\", \"transition\": {\"duration\": 0}}],\n",
    "                    \"label\": \"Pause\",\n",
    "                    \"method\": \"animate\"\n",
    "                }\n",
    "            ],\n",
    "            \"direction\": \"left\",\n",
    "            \"pad\": {\"r\": 10, \"t\": 30},\n",
    "            \"showactive\": False,\n",
    "            \"type\": \"buttons\",\n",
    "            \"x\": 0.1,\n",
    "            \"xanchor\": \"right\",\n",
    "            \"y\": 1.25,\n",
    "            \"yanchor\": \"top\"\n",
    "        }],\n",
    "        sliders=[{\n",
    "            \"active\": 0,\n",
    "            \"yanchor\": \"bottom\",\n",
    "            \"xanchor\": \"left\",\n",
    "            \"currentvalue\": {\"prefix\": \"Year: \", \"font\": {\"size\": 12}},\n",
    "            \"pad\": {\"b\": 0, \"t\": 100},\n",
    "            \"len\": 0.9,\n",
    "            \"x\": 0.1,\n",
    "            \"y\": 1.15,\n",
    "            \"steps\": [\n",
    "                {\"args\": [[str(year)], {\"frame\": {\"duration\": 300, \"redraw\": True}, \"mode\": \"immediate\"}], \"label\": str(year), \"method\": \"animate\"}\n",
    "                for year in years\n",
    "            ]\n",
    "        }]\n",
    "    )\n",
    "\n",
    "    fig = go.Figure(data=bars, layout=layout, frames=frames)\n",
    "    fig.show()"
   ]
  },
  {
   "cell_type": "code",
   "execution_count": 62,
   "id": "dd9eff46",
   "metadata": {},
   "outputs": [
    {
     "data": {
      "application/vnd.plotly.v1+json": {
       "config": {
        "plotlyServerURL": "https://plot.ly"
       },
       "data": [
        {
         "hoverinfo": "x+y",
         "marker": {
          "color": "blue"
         },
         "name": "Men",
         "orientation": "h",
         "type": "bar",
         "x": {
          "bdata": "AAAA2HuEiEEAAABIfeOHQQAAADgCj4FBAAAAALaue0EAAADwf8p6QQAAABDSO3lBAAAAYKnQdUEAAAAAgj5zQQAAAMATo3BBAAAAABu0bUEAAABAdwlpQQAAAKDmwmRBAAAAwFz6XUEAAAAAetxUQQAAAICYGUlBAAAAAMRVJ0E=",
          "dtype": "f8"
         },
         "y": [
          2.5,
          7.5,
          12.5,
          17.5,
          22.5,
          27.5,
          32.5,
          37.5,
          42.5,
          47.5,
          52.5,
          57.5,
          62.5,
          67.5,
          72.5,
          77.5,
          82.5
         ]
        },
        {
         "hoverinfo": "x+y",
         "marker": {
          "color": "pink"
         },
         "name": "Women",
         "orientation": "h",
         "type": "bar",
         "x": {
          "bdata": "AAAACAlYh8EAAABYgsqGwQAAAMAZMoDBAAAAgKzAeMEAAADAp3N3wQAAABBOsXbBAAAA0B77c8EAAACQyiVywQAAACCIF3DBAAAA4PHCbMEAAACgKrppwQAAACAcG2bBAAAAwNKQYMEAAADA5Y5ZwQAAAEAMGVHBAAAAAD+sNsE=",
          "dtype": "f8"
         },
         "y": [
          2.5,
          7.5,
          12.5,
          17.5,
          22.5,
          27.5,
          32.5,
          37.5,
          42.5,
          47.5,
          52.5,
          57.5,
          62.5,
          67.5,
          72.5,
          77.5,
          82.5
         ]
        }
       ],
       "frames": [
        {
         "data": [
          {
           "type": "bar",
           "x": {
            "bdata": "AAAA2HuEiEEAAABIfeOHQQAAADgCj4FBAAAAALaue0EAAADwf8p6QQAAABDSO3lBAAAAYKnQdUEAAAAAgj5zQQAAAMATo3BBAAAAABu0bUEAAABAdwlpQQAAAKDmwmRBAAAAwFz6XUEAAAAAetxUQQAAAICYGUlBAAAAAMRVJ0E=",
            "dtype": "f8"
           },
           "y": [
            2.5,
            7.5,
            12.5,
            17.5,
            22.5,
            27.5,
            32.5,
            37.5,
            42.5,
            47.5,
            52.5,
            57.5,
            62.5,
            67.5,
            72.5,
            77.5,
            82.5
           ]
          },
          {
           "type": "bar",
           "x": {
            "bdata": "AAAACAlYh8EAAABYgsqGwQAAAMAZMoDBAAAAgKzAeMEAAADAp3N3wQAAABBOsXbBAAAA0B77c8EAAACQyiVywQAAACCIF3DBAAAA4PHCbMEAAACgKrppwQAAACAcG2bBAAAAwNKQYMEAAADA5Y5ZwQAAAEAMGVHBAAAAAD+sNsE=",
            "dtype": "f8"
           },
           "y": [
            2.5,
            7.5,
            12.5,
            17.5,
            22.5,
            27.5,
            32.5,
            37.5,
            42.5,
            47.5,
            52.5,
            57.5,
            62.5,
            67.5,
            72.5,
            77.5,
            82.5
           ]
          }
         ],
         "name": "1960"
        },
        {
         "data": [
          {
           "type": "bar",
           "x": {
            "bdata": "AAAAKE8nhkEAAABYTxKIQQAAAFCGZ4JBAAAAAL3Ge0EAAAAA2mp6QQAAALATVXlBAAAA0E/2dUEAAABAxT1zQQAAANC5l3BBAAAAIHmzbUEAAABAYKZoQQAAAADOlWRBAAAAgA+OXUEAAACAoXRUQQAAAADu40dBAAAAANTEJUE=",
            "dtype": "f8"
           },
           "y": [
            2.5,
            7.5,
            12.5,
            17.5,
            22.5,
            27.5,
            32.5,
            37.5,
            42.5,
            47.5,
            52.5,
            57.5,
            62.5,
            67.5,
            72.5,
            77.5,
            82.5
           ]
          },
          {
           "type": "bar",
           "x": {
            "bdata": "AAAA8AYRhcEAAAA48fGGwQAAAEBtKYHBAAAAYL0LecEAAAAAYhZ3wQAAAIA8y3bBAAAAcLALdMEAAADQNBhywQAAAMDWCHDBAAAAoA3mbMEAAACAIEJpwQAAAEC1ImbBAAAAoA2FYMEAAACAokhZwQAAAMDzf1DBAAAAAHevNcE=",
            "dtype": "f8"
           },
           "y": [
            2.5,
            7.5,
            12.5,
            17.5,
            22.5,
            27.5,
            32.5,
            37.5,
            42.5,
            47.5,
            52.5,
            57.5,
            62.5,
            67.5,
            72.5,
            77.5,
            82.5
           ]
          }
         ],
         "name": "1961"
        },
        {
         "data": [
          {
           "type": "bar",
           "x": {
            "bdata": "AAAA8A1ahUEAAACAyz+IQQAAANjvfYNBAAAAYHuEfEEAAABQhjV6QQAAALDelHlBAAAAQApNdkEAAACwHm9zQQAAADA5uHBBAAAAwPr2bUEAAADgU6RoQQAAAAAYjmRBAAAAgLfdXUEAAACAtl5UQQAAAIB0hEdBAAAAAJZXJUE=",
            "dtype": "f8"
           },
           "y": [
            2.5,
            7.5,
            12.5,
            17.5,
            22.5,
            27.5,
            32.5,
            37.5,
            42.5,
            47.5,
            52.5,
            57.5,
            62.5,
            67.5,
            72.5,
            77.5,
            82.5
           ]
          },
          {
           "type": "bar",
           "x": {
            "bdata": "AAAAYOhMhMEAAADAohWHwQAAADjmYYLBAAAAIIDUecEAAACQ4gB3wQAAAFDM63bBAAAA0DVNdMEAAACQajFywQAAACArGnDBAAAAADBRbcEAAABAqhxpwQAAAMCHO2bBAAAAYGXfYMEAAAAAn0dZwQAAAMDdbFDBAAAAAEezNcE=",
            "dtype": "f8"
           },
           "y": [
            2.5,
            7.5,
            12.5,
            17.5,
            22.5,
            27.5,
            32.5,
            37.5,
            42.5,
            47.5,
            52.5,
            57.5,
            62.5,
            67.5,
            72.5,
            77.5,
            82.5
           ]
          }
         ],
         "name": "1962"
        },
        {
         "data": [
          {
           "type": "bar",
           "x": {
            "bdata": "AAAA+GXdhkEAAAAoCTOIQQAAAHhhoYRBAAAA8DvMfUEAAADwjgF6QQAAAJA6onlBAAAAgOTDdkEAAABAfNJzQQAAABCY/HBBAAAA4LgObkEAAADgJ/5oQQAAAGDIlmRBAAAAgOqUXkEAAAAATWVUQQAAAIB+rUdBAAAAADBrJUE=",
            "dtype": "f8"
           },
           "y": [
            2.5,
            7.5,
            12.5,
            17.5,
            22.5,
            27.5,
            32.5,
            37.5,
            42.5,
            47.5,
            52.5,
            57.5,
            62.5,
            67.5,
            72.5,
            77.5,
            82.5
           ]
          },
          {
           "type": "bar",
           "x": {
            "bdata": "AAAA0GC/hcEAAAAwDwGHwQAAAHAwooPBAAAAMNYde8EAAAAQQgB3wQAAAGDI0HbBAAAA0CCodMEAAAAwJHVywQAAANCyTXDBAAAAoJOGbcEAAAAAu0hpwQAAAIBrWWbBAAAAwE1xYcEAAAAAE1ZZwQAAAAAVs1DBAAAAANEgNsE=",
            "dtype": "f8"
           },
           "y": [
            2.5,
            7.5,
            12.5,
            17.5,
            22.5,
            27.5,
            32.5,
            37.5,
            42.5,
            47.5,
            52.5,
            57.5,
            62.5,
            67.5,
            72.5,
            77.5,
            82.5
           ]
          }
         ],
         "name": "1963"
        },
        {
         "data": [
          {
           "type": "bar",
           "x": {
            "bdata": "AAAAgExkiUEAAADIXFSHQQAAAJjdjoVBAAAAYA1Bf0EAAABQpet5QQAAAJARVnlBAAAAEPYzd0EAAAAQkA50QQAAANDdV3FBAAAAYKjebUEAAADAxXFpQQAAAIAArWRBAAAAQLdkX0EAAAAAeFBUQQAAAIDS3EdBAAAAABI9JUE=",
            "dtype": "f8"
           },
           "y": [
            2.5,
            7.5,
            12.5,
            17.5,
            22.5,
            27.5,
            32.5,
            37.5,
            42.5,
            47.5,
            52.5,
            57.5,
            62.5,
            67.5,
            72.5,
            77.5,
            82.5
           ]
          },
          {
           "type": "bar",
           "x": {
            "bdata": "AAAAcJwniMEAAAC4YCeGwQAAACDxnYTBAAAAcHurfMEAAADQOBZ3wQAAAHBJaXbBAAAAEAr9dMEAAAAwqpRywQAAAGAhlnDBAAAA4MtubcEAAACgmYtpwQAAACBee2bBAAAAQHkOYsEAAAAA10xZwQAAAECeA1HBAAAAABlKNsE=",
            "dtype": "f8"
           },
           "y": [
            2.5,
            7.5,
            12.5,
            17.5,
            22.5,
            27.5,
            32.5,
            37.5,
            42.5,
            47.5,
            52.5,
            57.5,
            62.5,
            67.5,
            72.5,
            77.5,
            82.5
           ]
          }
         ],
         "name": "1964"
        },
        {
         "data": [
          {
           "type": "bar",
           "x": {
            "bdata": "AAAAACsOjEEAAABQJe2FQQAAADjEboZBAAAAmCKagEEAAAAQxR96QQAAAMATI3lBAAAAIEScd0EAAABQA1d0QQAAAIDfvXFBAAAAIFEMbkEAAADAZflpQQAAAKA842RBAAAAwPEYYEEAAABAB25UQQAAAABiR0hBAAAAACgTJUE=",
            "dtype": "f8"
           },
           "y": [
            2.5,
            7.5,
            12.5,
            17.5,
            22.5,
            27.5,
            32.5,
            37.5,
            42.5,
            47.5,
            52.5,
            57.5,
            62.5,
            67.5,
            72.5,
            77.5,
            82.5
           ]
          },
          {
           "type": "bar",
           "x": {
            "bdata": "AAAAADyuisEAAADg2M+EwQAAAKgGeoXBAAAAYGLFfsEAAACgdnF3wQAAAABPG3bBAAAAoDRbdcEAAAAQV75ywQAAAJAH5nDBAAAA4I+ebcEAAADgTflpwQAAAOBppGbBAAAAACinYsEAAACAS5VZwQAAAABteVHBAAAAAExzNsE=",
            "dtype": "f8"
           },
           "y": [
            2.5,
            7.5,
            12.5,
            17.5,
            22.5,
            27.5,
            32.5,
            37.5,
            42.5,
            47.5,
            52.5,
            57.5,
            62.5,
            67.5,
            72.5,
            77.5,
            82.5
           ]
          }
         ],
         "name": "1965"
        },
        {
         "data": [
          {
           "type": "bar",
           "x": {
            "bdata": "AAAAWI7ojkEAAAAQ2ZSEQQAAAPhCFodBAAAAGJm6gUEAAACQcqt6QQAAAGCwN3lBAAAAsCUfeEEAAADgfNp0QQAAAHB/F3JBAAAAoASibkEAAADg35tqQQAAAIB3I2VBAAAAAJl0YEEAAACAV/FUQQAAAACD6EhBAAAAANpGJUE=",
            "dtype": "f8"
           },
           "y": [
            2.5,
            7.5,
            12.5,
            17.5,
            22.5,
            27.5,
            32.5,
            37.5,
            42.5,
            47.5,
            52.5,
            57.5,
            62.5,
            67.5,
            72.5,
            77.5,
            82.5
           ]
          },
          {
           "type": "bar",
           "x": {
            "bdata": "AAAAeMdgjcEAAAAwbYmDwQAAAOhiFIbBAAAAeF6cgMEAAACwZiB4wQAAAACRIHbBAAAA0L7PdcEAAADgUCBzwQAAACDIJnHBAAAAgA4WbsEAAACgTKVqwQAAAMBnvmbBAAAAIKwqY8EAAADA+GNawQAAAMDcAlLBAAAAALnYNsE=",
            "dtype": "f8"
           },
           "y": [
            2.5,
            7.5,
            12.5,
            17.5,
            22.5,
            27.5,
            32.5,
            37.5,
            42.5,
            47.5,
            52.5,
            57.5,
            62.5,
            67.5,
            72.5,
            77.5,
            82.5
           ]
          }
         ],
         "name": "1966"
        },
        {
         "data": [
          {
           "type": "bar",
           "x": {
            "bdata": "AAAA8PU6kEEAAABAGyWEQQAAACh1f4dBAAAAYK/3gkEAAAAQyK97QQAAAJBxS3lBAAAAMJKdeEEAAAAwPmV1QQAAAADbeHJBAAAA4MI9b0EAAADg7jJrQQAAACC1dGVBAAAAgLq1YEEAAAAAwKJVQQAAAID2d0lBAAAAANrRJUE=",
            "dtype": "f8"
           },
           "y": [
            2.5,
            7.5,
            12.5,
            17.5,
            22.5,
            27.5,
            32.5,
            37.5,
            42.5,
            47.5,
            52.5,
            57.5,
            62.5,
            67.5,
            72.5,
            77.5,
            82.5
           ]
          },
          {
           "type": "bar",
           "x": {
            "bdata": "AAAAKKPWjsEAAAAAISGDwQAAAPiecIbBAAAA+Cr6gcEAAADQVip5wQAAAMC3SnbBAAAAsIgodsEAAABw949zwQAAAMBLanHBAAAAAFyHbsEAAADgIFRrwQAAAACa4WbBAAAA4GJ/Y8EAAAAAY2xbwQAAAADiZlLBAAAAAMlpN8E=",
            "dtype": "f8"
           },
           "y": [
            2.5,
            7.5,
            12.5,
            17.5,
            22.5,
            27.5,
            32.5,
            37.5,
            42.5,
            47.5,
            52.5,
            57.5,
            62.5,
            67.5,
            72.5,
            77.5,
            82.5
           ]
          }
         ],
         "name": "1967"
        },
        {
         "data": [
          {
           "type": "bar",
           "x": {
            "bdata": "AAAAPFE+kEEAAAAoTqCFQQAAANgMlIdBAAAAIAkyhEEAAABgYyV9QQAAACDVSnlBAAAA8BbXeEEAAACg/fx1QQAAAPBa+HJBAAAAYBf7b0EAAADASoJrQQAAACCa+WVBAAAAwOjrYEEAAADAA3dWQQAAAACU90lBAAAAANiNJkE=",
            "dtype": "f8"
           },
           "y": [
            2.5,
            7.5,
            12.5,
            17.5,
            22.5,
            27.5,
            32.5,
            37.5,
            42.5,
            47.5,
            52.5,
            57.5,
            62.5,
            67.5,
            72.5,
            77.5,
            82.5
           ]
          },
          {
           "type": "bar",
           "x": {
            "bdata": "AAAASCTZjsEAAADgEIuEwQAAAGgOe4bBAAAAoFxRg8EAAAAw6Z96wQAAAICEd3bBAAAAgFw2dsEAAADAVwl0wQAAALAAyHHBAAAAwPwcb8EAAADAwbVrwQAAAOAbNGfBAAAAALq9Y8EAAADAf55cwQAAAAD/rlLBAAAAADQrOME=",
            "dtype": "f8"
           },
           "y": [
            2.5,
            7.5,
            12.5,
            17.5,
            22.5,
            27.5,
            32.5,
            37.5,
            42.5,
            47.5,
            52.5,
            57.5,
            62.5,
            67.5,
            72.5,
            77.5,
            82.5
           ]
          }
         ],
         "name": "1968"
        },
        {
         "data": [
          {
           "type": "bar",
           "x": {
            "bdata": "AAAAEKVJkEEAAAAYojqIQQAAAAgI6IZBAAAAiOdBhUEAAACwXdN+QQAAANAfdXlBAAAAYEzKeEEAAAAgFZ92QQAAAEAKYHNBAAAAsEV9cEEAAABgFaNrQQAAAMDipWZBAAAAQCk7YUEAAADA4GtXQQAAAABtZ0pBAAAAAPJGJ0E=",
            "dtype": "f8"
           },
           "y": [
            2.5,
            7.5,
            12.5,
            17.5,
            22.5,
            27.5,
            32.5,
            37.5,
            42.5,
            47.5,
            52.5,
            57.5,
            62.5,
            67.5,
            72.5,
            77.5,
            82.5
           ]
          },
          {
           "type": "bar",
           "x": {
            "bdata": "AAAA+EvqjsEAAACIvgOHwQAAAOhm0IXBAAAA4EZuhMEAAAAA32N8wQAAALCLx3bBAAAAwOAIdsEAAADQlYx0wQAAALDED3LBAAAAIFrwb8EAAADAjuFrwQAAAEDsq2fBAAAA4OwNZMEAAADA1vRdwQAAAAAE8lLBAAAAAPX5OME=",
            "dtype": "f8"
           },
           "y": [
            2.5,
            7.5,
            12.5,
            17.5,
            22.5,
            27.5,
            32.5,
            37.5,
            42.5,
            47.5,
            52.5,
            57.5,
            62.5,
            67.5,
            72.5,
            77.5,
            82.5
           ]
          }
         ],
         "name": "1969"
        },
        {
         "data": [
          {
           "type": "bar",
           "x": {
            "bdata": "AAAAsDCCkEEAAAAoqP2KQQAAAGidooVBAAAAQFE3hkEAAAB4dnWAQQAAANDO1XlBAAAAIN3EeEEAAADQEix3QQAAAICpx3NBAAAAkGn9cEEAAACgbAlsQQAAACC6VmdBAAAA4J+bYUEAAAAApVNYQQAAAACGDktBAAAAAB7hJ0E=",
            "dtype": "f8"
           },
           "y": [
            2.5,
            7.5,
            12.5,
            17.5,
            22.5,
            27.5,
            32.5,
            37.5,
            42.5,
            47.5,
            52.5,
            57.5,
            62.5,
            67.5,
            72.5,
            77.5,
            82.5
           ]
          },
          {
           "type": "bar",
           "x": {
            "bdata": "AAAA0O5Qj8EAAAAQPqCJwQAAAAA2l4TBAAAA0MhehcEAAABgs6F+wQAAABDUS3fBAAAAoNvkdcEAAABAcAx1wQAAAHDjVXLBAAAAUA9fcMEAAADg2D5swQAAAKCOPGjBAAAAQN1XZMEAAAAA6zFfwQAAAEC6Z1PBAAAAACO5OcE=",
            "dtype": "f8"
           },
           "y": [
            2.5,
            7.5,
            12.5,
            17.5,
            22.5,
            27.5,
            32.5,
            37.5,
            42.5,
            47.5,
            52.5,
            57.5,
            62.5,
            67.5,
            72.5,
            77.5,
            82.5
           ]
          }
         ],
         "name": "1970"
        },
        {
         "data": [
          {
           "type": "bar",
           "x": {
            "bdata": "AAAAEGe4kEEAAADgXt+NQQAAAPjyVoRBAAAA6L7ihkEAAACARZaBQQAAADBwaHpBAAAAQNTjeEEAAAAwH7d3QQAAAOAlUnRBAAAAYPxfcUEAAAAgRbVsQQAAAGBTCmhBAAAAQMT1YUEAAAAARR1ZQQAAAIARLkxBAAAAAB6CKEE=",
            "dtype": "f8"
           },
           "y": [
            2.5,
            7.5,
            12.5,
            17.5,
            22.5,
            27.5,
            32.5,
            37.5,
            42.5,
            47.5,
            52.5,
            57.5,
            62.5,
            67.5,
            72.5,
            77.5,
            82.5
           ]
          },
          {
           "type": "bar",
           "x": {
            "bdata": "AAAAWBCzj8EAAACwlliMwQAAAGjJWoPBAAAAMO37hcEAAADQMouAwQAAAOCI/3fBAAAA8KfydcEAAACA2Id1wQAAAMDVvXLBAAAAgCmmcMEAAACA1MRswQAAAIA38WjBAAAAgHGCZMEAAABAGRpgwQAAAEDzNFTBAAAAADSHOsE=",
            "dtype": "f8"
           },
           "y": [
            2.5,
            7.5,
            12.5,
            17.5,
            22.5,
            27.5,
            32.5,
            37.5,
            42.5,
            47.5,
            52.5,
            57.5,
            62.5,
            67.5,
            72.5,
            77.5,
            82.5
           ]
          }
         ],
         "name": "1971"
        },
        {
         "data": [
          {
           "type": "bar",
           "x": {
            "bdata": "AAAAHH/kkEEAAACY5X2PQQAAANjb7oNBAAAAwIlQh0EAAACArs+CQQAAAFA9YntBAAAAoOjyeEEAAADwDDN4QQAAAGCb3HRBAAAAQDTFcUEAAADAuWBtQQAAACDLsGhBAAAAIBBdYkEAAACATcFZQQAAAABdjE1BAAAAAE6HKUE=",
            "dtype": "f8"
           },
           "y": [
            2.5,
            7.5,
            12.5,
            17.5,
            22.5,
            27.5,
            32.5,
            37.5,
            42.5,
            47.5,
            52.5,
            57.5,
            62.5,
            67.5,
            72.5,
            77.5,
            82.5
           ]
          },
          {
           "type": "bar",
           "x": {
            "bdata": "AAAA/PcAkMEAAACAv96NwQAAANCn94LBAAAAaB5bhsEAAADAIeWBwQAAAFBA/HjBAAAAcC4VdsEAAAAwId11wQAAADBoLHPBAAAAQL7rcMEAAADA2j9twQAAAACKpmnBAAAAII20ZMEAAADAY3RgwQAAAIA6LlXBAAAAALmwO8E=",
            "dtype": "f8"
           },
           "y": [
            2.5,
            7.5,
            12.5,
            17.5,
            22.5,
            27.5,
            32.5,
            37.5,
            42.5,
            47.5,
            52.5,
            57.5,
            62.5,
            67.5,
            72.5,
            77.5,
            82.5
           ]
          }
         ],
         "name": "1972"
        },
        {
         "data": [
          {
           "type": "bar",
           "x": {
            "bdata": "AAAA2LDQkEEAAAAYApmPQQAAAHC2bYVBAAAA8AJth0EAAABYmgmEQQAAAHCWznxBAAAAYBnveEEAAACAu2x4QQAAADChdXVBAAAAMJJIckEAAABg9SxuQQAAAKBsGGlBAAAAwJbzYkEAAACAqlpaQQAAAIDYHE9BAAAAAKr0KkE=",
            "dtype": "f8"
           },
           "y": [
            2.5,
            7.5,
            12.5,
            17.5,
            22.5,
            27.5,
            32.5,
            37.5,
            42.5,
            47.5,
            52.5,
            57.5,
            62.5,
            67.5,
            72.5,
            77.5,
            82.5
           ]
          },
          {
           "type": "bar",
           "x": {
            "bdata": "AAAAWC/Xj8EAAACg6vWNwQAAANB1Y4TBAAAAcI9rhsEAAAAAwjuDwQAAANCUZnrBAAAAcHQ7dsEAAABQ9ul1wQAAABCFpnPBAAAAAHxMccEAAADAaOBtwQAAAOBJF2rBAAAAAOQWZcEAAAAA5cBgwQAAAMCGTVbBAAAAAP1YPcE=",
            "dtype": "f8"
           },
           "y": [
            2.5,
            7.5,
            12.5,
            17.5,
            22.5,
            27.5,
            32.5,
            37.5,
            42.5,
            47.5,
            52.5,
            57.5,
            62.5,
            67.5,
            72.5,
            77.5,
            82.5
           ]
          }
         ],
         "name": "1973"
        },
        {
         "data": [
          {
           "type": "bar",
           "x": {
            "bdata": "AAAAXDdgkEEAAADgBruPQQAAAACXBohBAAAAuMHFhkEAAACYMxqFQQAAAPB1e35BAAAAwBodeUEAAABwFWV4QQAAAEBvGnZBAAAAgLe0ckEAAADgUTVvQQAAAAAiU2lBAAAAoOKqY0EAAADAdhlbQQAAAADmZlBBAAAAAEB/LEE=",
            "dtype": "f8"
           },
           "y": [
            2.5,
            7.5,
            12.5,
            17.5,
            22.5,
            27.5,
            32.5,
            37.5,
            42.5,
            47.5,
            52.5,
            57.5,
            62.5,
            67.5,
            72.5,
            77.5,
            82.5
           ]
          },
          {
           "type": "bar",
           "x": {
            "bdata": "AAAAmLn8jsEAAABImROOwQAAANj42obBAAAAaMnDhcEAAAAY41mEwQAAABAVKnzBAAAAMJqNdsEAAABQHMF1wQAAAPDJLHTBAAAAwG+YccEAAADgc7tuwQAAAEBbVGrBAAAAgJGcZcEAAAAAFR5hwQAAAMD3h1fBAAAAAABCP8E=",
            "dtype": "f8"
           },
           "y": [
            2.5,
            7.5,
            12.5,
            17.5,
            22.5,
            27.5,
            32.5,
            37.5,
            42.5,
            47.5,
            52.5,
            57.5,
            62.5,
            67.5,
            72.5,
            77.5,
            82.5
           ]
          }
         ],
         "name": "1974"
        },
        {
         "data": [
          {
           "type": "bar",
           "x": {
            "bdata": "AAAA4C5aj0EAAADAZReQQQAAAIAAwIpBAAAAAB9+hUEAAACIcAmGQQAAAAgFRIBBAAAAEP14eUEAAACQnVx4QQAAAKDSonZBAAAAEO0Zc0EAAADAPBlwQQAAAOC/w2lBAAAA4FFcZEEAAACAUeZbQQAAAEDqK1FBAAAAAOYVLkE=",
            "dtype": "f8"
           },
           "y": [
            2.5,
            7.5,
            12.5,
            17.5,
            22.5,
            27.5,
            32.5,
            37.5,
            42.5,
            47.5,
            52.5,
            57.5,
            62.5,
            67.5,
            72.5,
            77.5,
            82.5
           ]
          },
          {
           "type": "bar",
           "x": {
            "bdata": "AAAAKI+kjcEAAABoYX6OwQAAAGgjcInBAAAAWK2GhMEAAACY+ESFwQAAAADOX37BAAAAoA8Nd8EAAACQA5t1wQAAABBHqXTBAAAA4BXdccEAAACAuoZvwQAAAICPt2rBAAAA4HwxZsEAAADgiHBhwQAAAEA4pljBAAAAgNegQME=",
            "dtype": "f8"
           },
           "y": [
            2.5,
            7.5,
            12.5,
            17.5,
            22.5,
            27.5,
            32.5,
            37.5,
            42.5,
            47.5,
            52.5,
            57.5,
            62.5,
            67.5,
            72.5,
            77.5,
            82.5
           ]
          }
         ],
         "name": "1975"
        },
        {
         "data": [
          {
           "type": "bar",
           "x": {
            "bdata": "AAAAmMiqjUEAAAAo1kqQQQAAADAWjY1BAAAAUDQqhEEAAAAgCqiGQQAAAKgNWoFBAAAAsA3/eUEAAABA83B4QQAAAGC7IXdBAAAAUJ2Zc0EAAAAg73RwQQAAAOD9aGpBAAAAYCIEZUEAAABAq5lcQQAAAACg01FBAAAAAJq9L0E=",
            "dtype": "f8"
           },
           "y": [
            2.5,
            7.5,
            12.5,
            17.5,
            22.5,
            27.5,
            32.5,
            37.5,
            42.5,
            47.5,
            52.5,
            57.5,
            62.5,
            67.5,
            72.5,
            77.5,
            82.5
           ]
          },
          {
           "type": "bar",
           "x": {
            "bdata": "AAAAmK4HjMEAAADAzduOwQAAADhsF4zBAAAAALVAg8EAAACgBNaFwQAAABh4YYDBAAAA0DK1d8EAAADQLKB1wQAAABC2GnXBAAAAAI88csEAAABQVARwwQAAACD2NmvBAAAAwKvcZsEAAABAN6BhwQAAAAALi1nBAAAAAMacQcE=",
            "dtype": "f8"
           },
           "y": [
            2.5,
            7.5,
            12.5,
            17.5,
            22.5,
            27.5,
            32.5,
            37.5,
            42.5,
            47.5,
            52.5,
            57.5,
            62.5,
            67.5,
            72.5,
            77.5,
            82.5
           ]
          }
         ],
         "name": "1976"
        },
        {
         "data": [
          {
           "type": "bar",
           "x": {
            "bdata": "AAAA2FT3i0EAAACoqXeQQQAAAPDGG49BAAAAYC67g0EAAADAsgyHQQAAANhoioJBAAAAUNzuekEAAAAAwHl4QQAAAKDFlHdBAAAAUDwbdEEAAACQFtRwQQAAAKDkDmtBAAAAwFSgZUEAAACA6mFdQQAAAECWYVJBAAAAAAjFMEE=",
            "dtype": "f8"
           },
           "y": [
            2.5,
            7.5,
            12.5,
            17.5,
            22.5,
            27.5,
            32.5,
            37.5,
            42.5,
            47.5,
            52.5,
            57.5,
            62.5,
            67.5,
            72.5,
            77.5,
            82.5
           ]
          },
          {
           "type": "bar",
           "x": {
            "bdata": "AAAAYF1nisEAAAAwKCyPwQAAAJi8kI3BAAAACELWgsEAAAAAlSyGwQAAAKBKtIHBAAAAAHqpeMEAAADAhr11wQAAABCbaXXBAAAAkMSkcsEAAABgaUVwwQAAACBKrmvBAAAAAHGJZ8EAAAAA2NdhwQAAAMAMM1rBAAAAAL2aQsE=",
            "dtype": "f8"
           },
           "y": [
            2.5,
            7.5,
            12.5,
            17.5,
            22.5,
            27.5,
            32.5,
            37.5,
            42.5,
            47.5,
            52.5,
            57.5,
            62.5,
            67.5,
            72.5,
            77.5,
            82.5
           ]
          }
         ],
         "name": "1977"
        },
        {
         "data": [
          {
           "type": "bar",
           "x": {
            "bdata": "AAAASHtOikEAAABgO2mQQQAAAJiYMo9BAAAA6OoyhUEAAAAY3iaHQQAAAKC4v4NBAAAAwA1WfEEAAACA23Z4QQAAADCjzXdBAAAAcGewdEEAAACA9lNxQQAAACDL2GtBAAAA4IwLZkEAAAAAeX9eQQAAAABW71JBAAAAANjFMUE=",
            "dtype": "f8"
           },
           "y": [
            2.5,
            7.5,
            12.5,
            17.5,
            22.5,
            27.5,
            32.5,
            37.5,
            42.5,
            47.5,
            52.5,
            57.5,
            62.5,
            67.5,
            72.5,
            77.5,
            82.5
           ]
          },
          {
           "type": "bar",
           "x": {
            "bdata": "AAAAWL3QiMEAAACgiQyPwQAAAFDapI3BAAAAcG08hMEAAAB44jqGwQAAABgMCIPBAAAAIKIQesEAAABQpOR1wQAAAIBnd3XBAAAA0E8dc8EAAADg56RwwQAAACBXT2zBAAAA4FH9Z8EAAABAEj9iwQAAAMC6zFrBAAAAAF+xQ8E=",
            "dtype": "f8"
           },
           "y": [
            2.5,
            7.5,
            12.5,
            17.5,
            22.5,
            27.5,
            32.5,
            37.5,
            42.5,
            47.5,
            52.5,
            57.5,
            62.5,
            67.5,
            72.5,
            77.5,
            82.5
           ]
          }
         ],
         "name": "1978"
        },
        {
         "data": [
          {
           "type": "bar",
           "x": {
            "bdata": "AAAA6FcRiUEAAADQo/6PQQAAAPgTUI9BAAAAuArBh0EAAABYHH+GQQAAAKCpy4RBAAAAQMb7fUEAAADQtKR4QQAAAICvxndBAAAAMMpQdUEAAABAmr1xQQAAAACh2WxBAAAAIJhRZkEAAAAAS9VfQQAAAMBknFNBAAAAAIa+MkE=",
            "dtype": "f8"
           },
           "y": [
            2.5,
            7.5,
            12.5,
            17.5,
            22.5,
            27.5,
            32.5,
            37.5,
            42.5,
            47.5,
            52.5,
            57.5,
            62.5,
            67.5,
            72.5,
            77.5,
            82.5
           ]
          },
          {
           "type": "bar",
           "x": {
            "bdata": "AAAAQECfh8EAAABQnz+OwQAAAADdvo3BAAAAkKqrhsEAAAAgAJKFwQAAANjUIoTBAAAA8DTPe8EAAAAgdjZ2wQAAAJBDUHXBAAAAYDuhc8EAAABA9O9wwQAAAMAbJm3BAAAAAKxBaMEAAADgVcViwQAAAIA9gFvBAAAAAMDMRME=",
            "dtype": "f8"
           },
           "y": [
            2.5,
            7.5,
            12.5,
            17.5,
            22.5,
            27.5,
            32.5,
            37.5,
            42.5,
            47.5,
            52.5,
            57.5,
            62.5,
            67.5,
            72.5,
            77.5,
            82.5
           ]
          }
         ],
         "name": "1979"
        },
        {
         "data": [
          {
           "type": "bar",
           "x": {
            "bdata": "AAAAmBd3iEEAAAD4haCOQQAAAHhbt49BAAAAyJ9oikEAAAAg3jOFQQAAABixsIVBAAAAwFv3f0EAAABANPl4QQAAAMA8uXdBAAAAkHDQdUEAAAAwYxxyQQAAAKAhyW1BAAAAAO7DZkEAAACgk4xgQQAAAEBUUVRBAAAAAIfQM0E=",
            "dtype": "f8"
           },
           "y": [
            2.5,
            7.5,
            12.5,
            17.5,
            22.5,
            27.5,
            32.5,
            37.5,
            42.5,
            47.5,
            52.5,
            57.5,
            62.5,
            67.5,
            72.5,
            77.5,
            82.5
           ]
          },
          {
           "type": "bar",
           "x": {
            "bdata": "AAAAWDIHh8EAAABQN/CMwQAAAPBaHo7BAAAAaMExicEAAAAoNlCEwQAAAMjJBIXBAAAAIPv2fcEAAACAza52wQAAABCbJnXBAAAAQIYWdMEAAADAty9xwQAAAMD65W3BAAAAwKmjaMEAAADgLFNjwQAAAECfGlzBAAAAgB0MRsE=",
            "dtype": "f8"
           },
           "y": [
            2.5,
            7.5,
            12.5,
            17.5,
            22.5,
            27.5,
            32.5,
            37.5,
            42.5,
            47.5,
            52.5,
            57.5,
            62.5,
            67.5,
            72.5,
            77.5,
            82.5
           ]
          }
         ],
         "name": "1980"
        },
        {
         "data": [
          {
           "type": "bar",
           "x": {
            "bdata": "AAAAGKdoiEEAAACYOPqMQQAAAJAmCZBBAAAAOM4hjUEAAADgLt2DQQAAAMgGRYZBAAAASKwHgUEAAADwDXZ5QQAAAPCmx3dBAAAAkHVGdkEAAABQaJNyQQAAAMCbdm5BAAAAYHhkZ0EAAAAA8yRhQQAAAEA79FRBAAAAANYnNUE=",
            "dtype": "f8"
           },
           "y": [
            2.5,
            7.5,
            12.5,
            17.5,
            22.5,
            27.5,
            32.5,
            37.5,
            42.5,
            47.5,
            52.5,
            57.5,
            62.5,
            67.5,
            72.5,
            77.5,
            82.5
           ]
          },
          {
           "type": "bar",
           "x": {
            "bdata": "AAAASGHyhsEAAADAAl2LwQAAAJgHcY7BAAAAsEHIi8EAAAAIdwaDwQAAAPiHjIXBAAAAMLkkgMEAAAAASk53wQAAAABOJ3XBAAAAUNKAdMEAAADQ+4hxwQAAACC9X27BAAAAIL4facEAAADgafNjwQAAAADyfVzBAAAAAHSPR8E=",
            "dtype": "f8"
           },
           "y": [
            2.5,
            7.5,
            12.5,
            17.5,
            22.5,
            27.5,
            32.5,
            37.5,
            42.5,
            47.5,
            52.5,
            57.5,
            62.5,
            67.5,
            72.5,
            77.5,
            82.5
           ]
          }
         ],
         "name": "1981"
        },
        {
         "data": [
          {
           "type": "bar",
           "x": {
            "bdata": "AAAAwBb+iEEAAAAQOVeLQQAAAHxXNZBBAAAACB6pjkEAAADo9m6DQQAAAAjPpoZBAAAAyNkxgkEAAACwTGF6QQAAALDW0XdBAAAAwHq3dkEAAACgbhFzQQAAAIBmMm9BAAAA4F0LaEEAAABgrbhhQQAAAMBrrVVBAAAAAF2tNkE=",
            "dtype": "f8"
           },
           "y": [
            2.5,
            7.5,
            12.5,
            17.5,
            22.5,
            27.5,
            32.5,
            37.5,
            42.5,
            47.5,
            52.5,
            57.5,
            62.5,
            67.5,
            72.5,
            77.5,
            82.5
           ]
          },
          {
           "type": "bar",
           "x": {
            "bdata": "AAAA+G92h8EAAADwKM2JwQAAANCrwI7BAAAACNA7jcEAAAD4QJyCwQAAADCp4IXBAAAA2NNygcEAAACw4j54wQAAAJDVRXXBAAAAEJvPdMEAAABA3+9xwQAAAACG4m7BAAAAgCubacEAAAAAj5pkwQAAAIBZ91zBAAAAAKk7ScE=",
            "dtype": "f8"
           },
           "y": [
            2.5,
            7.5,
            12.5,
            17.5,
            22.5,
            27.5,
            32.5,
            37.5,
            42.5,
            47.5,
            52.5,
            57.5,
            62.5,
            67.5,
            72.5,
            77.5,
            82.5
           ]
          }
         ],
         "name": "1982"
        },
        {
         "data": [
          {
           "type": "bar",
           "x": {
            "bdata": "AAAAmJOtiUEAAAD4rbmJQQAAAMAAJpBBAAAAyHm7jkEAAACQ196EQQAAAJCHvYZBAAAAICBfg0EAAAAgWb57QQAAACCEzndBAAAA8K3udkEAAABw8qBzQQAAACDPE3BBAAAAgLXOaEEAAABA3yNiQQAAAACwp1ZBAAAAAFNZOEE=",
            "dtype": "f8"
           },
           "y": [
            2.5,
            7.5,
            12.5,
            17.5,
            22.5,
            27.5,
            32.5,
            37.5,
            42.5,
            47.5,
            52.5,
            57.5,
            62.5,
            67.5,
            72.5,
            77.5,
            82.5
           ]
          },
          {
           "type": "bar",
           "x": {
            "bdata": "AAAAoFoRiMEAAAA45UGIwQAAACgAn47BAAAAcKJLjcEAAABgjPuDwQAAADBq64XBAAAAEN+/gsEAAACwjZ15wQAAABCra3XBAAAAAFLddMEAAADgP2VywQAAAOAZnG/BAAAAAIo5asEAAACAYQ5lwQAAAIBxv13BAAAAAAIPS8E=",
            "dtype": "f8"
           },
           "y": [
            2.5,
            7.5,
            12.5,
            17.5,
            22.5,
            27.5,
            32.5,
            37.5,
            42.5,
            47.5,
            52.5,
            57.5,
            62.5,
            67.5,
            72.5,
            77.5,
            82.5
           ]
          }
         ],
         "name": "1983"
        },
        {
         "data": [
          {
           "type": "bar",
           "x": {
            "bdata": "AAAAGB8VikEAAADI8oKIQQAAAHjKeI9BAAAASAXUjkEAAACAil+HQQAAABBJFYZBAAAAuCNjhEEAAAAAZVd9QQAAAPAf+ndBAAAA0P/ndkEAAAAQ1jp0QQAAAKBeeXBBAAAAYLPCaUEAAABg7nJiQQAAAEC30FdBAAAAAA4MOkE=",
            "dtype": "f8"
           },
           "y": [
            2.5,
            7.5,
            12.5,
            17.5,
            22.5,
            27.5,
            32.5,
            37.5,
            42.5,
            47.5,
            52.5,
            57.5,
            62.5,
            67.5,
            72.5,
            77.5,
            82.5
           ]
          },
          {
           "type": "bar",
           "x": {
            "bdata": "AAAAGCtmiMEAAAB4+BaHwQAAACjH0Y3BAAAAKOtgjcEAAADIeV+GwQAAAJAtQYXBAAAAWN7Tg8EAAADgb1F7wQAAACC7unXBAAAAoFm3dMEAAABQceVywQAAALBUF3DBAAAA4GAJa8EAAABgaVplwQAAAED4wF7BAAAAAODwTME=",
            "dtype": "f8"
           },
           "y": [
            2.5,
            7.5,
            12.5,
            17.5,
            22.5,
            27.5,
            32.5,
            37.5,
            42.5,
            47.5,
            52.5,
            57.5,
            62.5,
            67.5,
            72.5,
            77.5,
            82.5
           ]
          }
         ],
         "name": "1984"
        },
        {
         "data": [
          {
           "type": "bar",
           "x": {
            "bdata": "AAAAqE2aikEAAABAlfCHQQAAAGAGJY5BAAAAiAM9j0EAAAAoXf6JQQAAABjU0YRBAAAAGK9FhUEAAADA7Et/QQAAAMAxUXhBAAAAAKbgdkEAAACAc7p0QQAAAEDX2HBBAAAAYBiuakEAAACgNe1iQQAAAECJ8VhBAAAAAEKxO0E=",
            "dtype": "f8"
           },
           "y": [
            2.5,
            7.5,
            12.5,
            17.5,
            22.5,
            27.5,
            32.5,
            37.5,
            42.5,
            47.5,
            52.5,
            57.5,
            62.5,
            67.5,
            72.5,
            77.5,
            82.5
           ]
          },
          {
           "type": "bar",
           "x": {
            "bdata": "AAAAEJvSiMEAAAAwyIaGwQAAADjtiozBAAAAkCbCjcEAAADI8d6IwQAAAJhsBYTBAAAAwDe0hMEAAAAwK3R9wQAAAAC+NHbBAAAA0BmUdMEAAACgOlxzwQAAAHAGWnDBAAAAgPfKa8EAAADgVcdlwQAAAMCN11/BAAAAAPPKTsE=",
            "dtype": "f8"
           },
           "y": [
            2.5,
            7.5,
            12.5,
            17.5,
            22.5,
            27.5,
            32.5,
            37.5,
            42.5,
            47.5,
            52.5,
            57.5,
            62.5,
            67.5,
            72.5,
            77.5,
            82.5
           ]
          }
         ],
         "name": "1985"
        },
        {
         "data": [
          {
           "type": "bar",
           "x": {
            "bdata": "AAAAUGFXi0EAAAColuiHQQAAALAQjIxBAAAAMMWcj0EAAACo9rCMQQAAALB5hINBAAAAQN7ahUEAAAAgu6+AQQAAAKDZ0XhBAAAAsED2dkEAAAAwqTJ1QQAAADDWT3FBAAAAgOhea0EAAACgfY9jQQAAAIDzAlpBAAAAAApcPUE=",
            "dtype": "f8"
           },
           "y": [
            2.5,
            7.5,
            12.5,
            17.5,
            22.5,
            27.5,
            32.5,
            37.5,
            42.5,
            47.5,
            52.5,
            57.5,
            62.5,
            67.5,
            72.5,
            77.5,
            82.5
           ]
          },
          {
           "type": "bar",
           "x": {
            "bdata": "AAAAmLNticEAAAAwY3iGwQAAAKD5AovBAAAAiE4ZjsEAAADIInGLwQAAABggw4LBAAAAAFI9hcEAAACQS8R/wQAAADAc13bBAAAAkNubdMEAAABQHspzwQAAAIBLtnDBAAAAgKdMbMEAAABAGE1mwQAAAOCNhmDBAAAAwNtOUME=",
            "dtype": "f8"
           },
           "y": [
            2.5,
            7.5,
            12.5,
            17.5,
            22.5,
            27.5,
            32.5,
            37.5,
            42.5,
            47.5,
            52.5,
            57.5,
            62.5,
            67.5,
            72.5,
            77.5,
            82.5
           ]
          }
         ],
         "name": "1986"
        },
        {
         "data": [
          {
           "type": "bar",
           "x": {
            "bdata": "AAAAAOMsjEEAAAAoNHuIQQAAADCk74pBAAAAYB/zj0EAAACQ5C+OQQAAAED7FoNBAAAAqIw5hkEAAACYUdOBQQAAAHBIuHlBAAAAoJgCd0EAAABwTaF1QQAAAGBmyXFBAAAAwPIUbEEAAAAgDDJkQQAAAMADCFtBAAAAAA8DP0E=",
            "dtype": "f8"
           },
           "y": [
            2.5,
            7.5,
            12.5,
            17.5,
            22.5,
            27.5,
            32.5,
            37.5,
            42.5,
            47.5,
            52.5,
            57.5,
            62.5,
            67.5,
            72.5,
            77.5,
            82.5
           ]
          },
          {
           "type": "bar",
           "x": {
            "bdata": "AAAAmLoYisEAAABIGfqGwQAAACgbeInBAAAA2KhmjsEAAADY192MwQAAALjEWILBAAAA0LOOhcEAAAAoAiuBwQAAAJCww3fBAAAAsPO7dMEAAABAFBl0wQAAAAAJHHHBAAAAQPTPbMEAAAAg88xmwQAAAAC/I2HBAAAAgO8nUcE=",
            "dtype": "f8"
           },
           "y": [
            2.5,
            7.5,
            12.5,
            17.5,
            22.5,
            27.5,
            32.5,
            37.5,
            42.5,
            47.5,
            52.5,
            57.5,
            62.5,
            67.5,
            72.5,
            77.5,
            82.5
           ]
          }
         ],
         "name": "1987"
        },
        {
         "data": [
          {
           "type": "bar",
           "x": {
            "bdata": "AAAAiKknjUEAAACIqyeJQQAAAIAmWIlBAAAAaGDTj0EAAACgvz6OQQAAAOBwfoRBAAAA+KpNhkEAAAAoNfmCQQAAAFABDHtBAAAAkC0Bd0EAAACwydh1QQAAAHCgU3JBAAAAwGX+bEEAAAAgeOtkQQAAAICn0ltBAAAAAOlkQEE=",
            "dtype": "f8"
           },
           "y": [
            2.5,
            7.5,
            12.5,
            17.5,
            22.5,
            27.5,
            32.5,
            37.5,
            42.5,
            47.5,
            52.5,
            57.5,
            62.5,
            67.5,
            72.5,
            77.5,
            82.5
           ]
          },
          {
           "type": "bar",
           "x": {
            "bdata": "AAAAAMbgisEAAABwjpKHwQAAAPhl8YfBAAAAgBBDjsEAAABAROqMwQAAAJCtsIPBAAAAUNWWhcEAAAA4D3KCwQAAAPAGG3nBAAAA4G/idMEAAAAQFyl0wQAAAPDlj3HBAAAAYPKGbcEAAADgM2tnwQAAACDOl2HBAAAAgGMIUsE=",
            "dtype": "f8"
           },
           "y": [
            2.5,
            7.5,
            12.5,
            17.5,
            22.5,
            27.5,
            32.5,
            37.5,
            42.5,
            47.5,
            52.5,
            57.5,
            62.5,
            67.5,
            72.5,
            77.5,
            82.5
           ]
          }
         ],
         "name": "1988"
        },
        {
         "data": [
          {
           "type": "bar",
           "x": {
            "bdata": "AAAAKEJBjkEAAABQoo6JQQAAALDoJohBAAAAOCIDj0EAAABw+1SOQQAAADAH8oZBAAAAWMemhUEAAABgJfeDQQAAAFCUmnxBAAAAEOQtd0EAAABgOtZ1QQAAALCW6HJBAAAA4LrDbUEAAACglc9lQQAAAEBjelxBAAAAAL9rQUE=",
            "dtype": "f8"
           },
           "y": [
            2.5,
            7.5,
            12.5,
            17.5,
            22.5,
            27.5,
            32.5,
            37.5,
            42.5,
            47.5,
            52.5,
            57.5,
            62.5,
            67.5,
            72.5,
            77.5,
            82.5
           ]
          },
          {
           "type": "bar",
           "x": {
            "bdata": "AAAAWJ3Ai8EAAADwQeeHwQAAAFiwyobBAAAAYCF3jcEAAABIIP2MwQAAAIi+CYbBAAAAuPzshMEAAAD4L4GDwQAAAPDFxnrBAAAAUKYxdcEAAACg+wd0wQAAANAAD3LBAAAAwIIbbsEAAAAAoDZowQAAAGCI7WHBAAAAAK/+UsE=",
            "dtype": "f8"
           },
           "y": [
            2.5,
            7.5,
            12.5,
            17.5,
            22.5,
            27.5,
            32.5,
            37.5,
            42.5,
            47.5,
            52.5,
            57.5,
            62.5,
            67.5,
            72.5,
            77.5,
            82.5
           ]
          }
         ],
         "name": "1989"
        },
        {
         "data": [
          {
           "type": "bar",
           "x": {
            "bdata": "AAAAWPs8j0EAAAAoeAyKQQAAAMhIk4dBAAAAENivjUEAAAC4r7aOQQAAAGjZf4lBAAAAENdkhEEAAACgB9GEQQAAAMAzfn5BAAAAUAKBd0EAAABghs91QQAAANDIYXNBAAAAoFt5bkEAAAAAPalmQQAAAIBnZV1BAAAAgBp8QkE=",
            "dtype": "f8"
           },
           "y": [
            2.5,
            7.5,
            12.5,
            17.5,
            22.5,
            27.5,
            32.5,
            37.5,
            42.5,
            47.5,
            52.5,
            57.5,
            62.5,
            67.5,
            72.5,
            77.5,
            82.5
           ]
          },
          {
           "type": "bar",
           "x": {
            "bdata": "AAAAID9/jMEAAAAIQk2IwQAAAEClOIbBAAAAIPYujMEAAACQZFeNwQAAABjneojBAAAA2BCxg8EAAABo51mEwQAAACCV23zBAAAA0AmndcEAAACA++VzwQAAANCXgXLBAAAAAKqdbsEAAABgMu9owQAAAMATW2LBAAAAwOnfU8E=",
            "dtype": "f8"
           },
           "y": [
            2.5,
            7.5,
            12.5,
            17.5,
            22.5,
            27.5,
            32.5,
            37.5,
            42.5,
            47.5,
            52.5,
            57.5,
            62.5,
            67.5,
            72.5,
            77.5,
            82.5
           ]
          }
         ],
         "name": "1990"
        },
        {
         "data": [
          {
           "type": "bar",
           "x": {
            "bdata": "AAAAyNxZj0EAAABI78eKQQAAAEi2jodBAAAAeJ8gjEEAAAAgmRePQQAAACh4J4xBAAAAcI8eg0EAAAAAn2SFQQAAAHhFRIBBAAAAEDEDeEEAAABwRut1QQAAACD62XNBAAAAYEJhb0EAAADAwVZnQQAAAMD1mV5BAAAAAE+OQ0E=",
            "dtype": "f8"
           },
           "y": [
            2.5,
            7.5,
            12.5,
            17.5,
            22.5,
            27.5,
            32.5,
            37.5,
            42.5,
            47.5,
            52.5,
            57.5,
            62.5,
            67.5,
            72.5,
            77.5,
            82.5
           ]
          },
          {
           "type": "bar",
           "x": {
            "bdata": "AAAAyMpwjMEAAAAYRueIwQAAAGgGLYbBAAAAcDmuisEAAACYRK+NwQAAAHCTBIvBAAAA4MdzgsEAAABg6eGEwQAAAGASJX/BAAAAwLxJdsEAAADgVvNzwQAAABDf8HLBAAAAAB5Xb8EAAADgcHNpwQAAAGAg4mLBAAAAgGaoVME=",
            "dtype": "f8"
           },
           "y": [
            2.5,
            7.5,
            12.5,
            17.5,
            22.5,
            27.5,
            32.5,
            37.5,
            42.5,
            47.5,
            52.5,
            57.5,
            62.5,
            67.5,
            72.5,
            77.5,
            82.5
           ]
          }
         ],
         "name": "1991"
        },
        {
         "data": [
          {
           "type": "bar",
           "x": {
            "bdata": "AAAAIDZKjkEAAADoEqeLQQAAAOj9LIhBAAAAyPWYikEAAACA+3yPQQAAABAwro1BAAAAaD+8gkEAAABosMyFQQAAAJitaoFBAAAA8BDzeEEAAABwWAh2QQAAAFDPUnRBAAAAAJwucEEAAADAPBRoQQAAAEDT4F9BAAAAgIfGREE=",
            "dtype": "f8"
           },
           "y": [
            2.5,
            7.5,
            12.5,
            17.5,
            22.5,
            27.5,
            32.5,
            37.5,
            42.5,
            47.5,
            52.5,
            57.5,
            62.5,
            67.5,
            72.5,
            77.5,
            82.5
           ]
          },
          {
           "type": "bar",
           "x": {
            "bdata": "AAAA0HNSi8EAAAB4m5uJwQAAAAh+uYbBAAAAsA41icEAAABYUgqOwQAAAHCreYzBAAAAECMTgsEAAAAYfDyFwQAAAAAy34DBAAAAoCc/d8EAAAAQFiF0wQAAAGAzS3PBAAAAsIcYcMEAAACAvARqwQAAAIAibWPBAAAAQLyAVcE=",
            "dtype": "f8"
           },
           "y": [
            2.5,
            7.5,
            12.5,
            17.5,
            22.5,
            27.5,
            32.5,
            37.5,
            42.5,
            47.5,
            52.5,
            57.5,
            62.5,
            67.5,
            72.5,
            77.5,
            82.5
           ]
          }
         ],
         "name": "1992"
        },
        {
         "data": [
          {
           "type": "bar",
           "x": {
            "bdata": "AAAA4EnojEEAAABQ+qyMQQAAADBD5YhBAAAAyLIUiUEAAAAQP2+PQQAAAJAqzY1BAAAAUGophEEAAAAAv+yFQQAAADA8lYJBAAAAMEVOekEAAAAQqRh2QQAAAGDvmHRBAAAAEBi+cEEAAABAAwBpQQAAAEABp2BBAAAAgK5MRkE=",
            "dtype": "f8"
           },
           "y": [
            2.5,
            7.5,
            12.5,
            17.5,
            22.5,
            27.5,
            32.5,
            37.5,
            42.5,
            47.5,
            52.5,
            57.5,
            62.5,
            67.5,
            72.5,
            77.5,
            82.5
           ]
          },
          {
           "type": "bar",
           "x": {
            "bdata": "AAAAcPLricEAAAC4W26KwQAAAAj8XIfBAAAAWNy+h8EAAADIAPeNwQAAAEBJlYzBAAAAoEZxg8EAAADg1k+FwQAAAJD2K4LBAAAA8LSeeMEAAAAwWVV0wQAAACDJaXPBAAAA8KaUcMEAAACAZ8dqwQAAACDhEmTBAAAAAFOWVsE=",
            "dtype": "f8"
           },
           "y": [
            2.5,
            7.5,
            12.5,
            17.5,
            22.5,
            27.5,
            32.5,
            37.5,
            42.5,
            47.5,
            52.5,
            57.5,
            62.5,
            67.5,
            72.5,
            77.5,
            82.5
           ]
          }
         ],
         "name": "1993"
        },
        {
         "data": [
          {
           "type": "bar",
           "x": {
            "bdata": "AAAAILtli0EAAAD48NqNQQAAAMBmX4lBAAAA6IH4h0EAAADgsLeOQQAAAHgg+Y1BAAAAiAClhkEAAADwnliFQQAAAMj0nYNBAAAAQPrpe0EAAABANlp2QQAAAJATrXRBAAAAgBJccUEAAAAg+dJpQQAAAMBshGFBAAAAgJ0aSEE=",
            "dtype": "f8"
           },
           "y": [
            2.5,
            7.5,
            12.5,
            17.5,
            22.5,
            27.5,
            32.5,
            37.5,
            42.5,
            47.5,
            52.5,
            57.5,
            62.5,
            67.5,
            72.5,
            77.5,
            82.5
           ]
          },
          {
           "type": "bar",
           "x": {
            "bdata": "AAAAaAhriMEAAABAh2GLwQAAAAiPw4fBAAAAUIWqhsEAAADI7ECNwQAAADCdvIzBAAAAYOrThcEAAABYO7eEwQAAACD8RoPBAAAAcCVZesEAAABQZLZ0wQAAAMAWXnPBAAAA8O0gccEAAADAm3RrwQAAAIAh52TBAAAAwJDwV8E=",
            "dtype": "f8"
           },
           "y": [
            2.5,
            7.5,
            12.5,
            17.5,
            22.5,
            27.5,
            32.5,
            37.5,
            42.5,
            47.5,
            52.5,
            57.5,
            62.5,
            67.5,
            72.5,
            77.5,
            82.5
           ]
          }
         ],
         "name": "1994"
        },
        {
         "data": [
          {
           "type": "bar",
           "x": {
            "bdata": "AAAAAAONiUEAAAC4CfaOQQAAAODe+IlBAAAA6Pp+h0EAAACQAoWNQQAAABBaeI5BAAAAQLhEiUEAAACQ/i6EQQAAAGgmioRBAAAAcH7kfUEAAADw3sd2QQAAALCMw3RBAAAAkLfmcUEAAADgJ6JqQQAAAMDIYWJBAAAAgFjzSUE=",
            "dtype": "f8"
           },
           "y": [
            2.5,
            7.5,
            12.5,
            17.5,
            22.5,
            27.5,
            32.5,
            37.5,
            42.5,
            47.5,
            52.5,
            57.5,
            62.5,
            67.5,
            72.5,
            77.5,
            82.5
           ]
          },
          {
           "type": "bar",
           "x": {
            "bdata": "AAAAwFqghsEAAAA4eD2MwQAAANhVQ4jBAAAAsB4whsEAAABwzhWMwQAAAJD3Mo3BAAAA+GdYiMEAAAC4b5GDwQAAAKgLM4TBAAAAQK6HfMEAAACg80N1wQAAAEDhV3PBAAAAwGmoccEAAABg8R1swQAAAADPtmXBAAAAQDxhWcE=",
            "dtype": "f8"
           },
           "y": [
            2.5,
            7.5,
            12.5,
            17.5,
            22.5,
            27.5,
            32.5,
            37.5,
            42.5,
            47.5,
            52.5,
            57.5,
            62.5,
            67.5,
            72.5,
            77.5,
            82.5
           ]
          }
         ],
         "name": "1995"
        },
        {
         "data": [
          {
           "type": "bar",
           "x": {
            "bdata": "AAAAWNcXiEEAAADY7CyPQQAAALB0yIpBAAAAqHaNh0EAAADgkg2MQQAAAAgc8Y5BAAAA+Dv9i0EAAABY7fmCQQAAAFCDLIVBAAAAMFkAgEEAAABQCV53QQAAAGBR9XRBAAAAgA1sckEAAAAAoZVrQQAAAEAyFmNBAAAAAPfGS0E=",
            "dtype": "f8"
           },
           "y": [
            2.5,
            7.5,
            12.5,
            17.5,
            22.5,
            27.5,
            32.5,
            37.5,
            42.5,
            47.5,
            52.5,
            57.5,
            62.5,
            67.5,
            72.5,
            77.5,
            82.5
           ]
          },
          {
           "type": "bar",
           "x": {
            "bdata": "AAAAyNMzhcEAAACYSEeMwQAAAKAi8IjBAAAAQCI2hsEAAACYFKqKwQAAAAiuoY3BAAAACMv0isEAAABoZ2OCwQAAAKCAyoTBAAAAgELnfsEAAADwU/l1wQAAAEBUenPBAAAAsHYocsEAAACAAfNswQAAAKC2U2bBAAAAwF3bWsE=",
            "dtype": "f8"
           },
           "y": [
            2.5,
            7.5,
            12.5,
            17.5,
            22.5,
            27.5,
            32.5,
            37.5,
            42.5,
            47.5,
            52.5,
            57.5,
            62.5,
            67.5,
            72.5,
            77.5,
            82.5
           ]
          }
         ],
         "name": "1996"
        },
        {
         "data": [
          {
           "type": "bar",
           "x": {
            "bdata": "AAAA8P9Nh0EAAACoYS6OQQAAAEAMs4tBAAAAiAc3iEEAAACg05KKQQAAAHASZY9BAAAACI+PjUEAAABY26CCQQAAAFiOnYVBAAAA4BArgUEAAABAlld4QQAAAMAYIXVBAAAAsIjrckEAAABgtJBsQQAAAEAjz2NBAAAAAFiqTUE=",
            "dtype": "f8"
           },
           "y": [
            2.5,
            7.5,
            12.5,
            17.5,
            22.5,
            27.5,
            32.5,
            37.5,
            42.5,
            47.5,
            52.5,
            57.5,
            62.5,
            67.5,
            72.5,
            77.5,
            82.5
           ]
          },
          {
           "type": "bar",
           "x": {
            "bdata": "AAAAWENlhMEAAAA48jiLwQAAAFgYr4nBAAAAiETNhsEAAAC4yDuJwQAAAFicCo7BAAAAcI92jMEAAABAEwuCwQAAAOBOLoXBAAAA6FLHgMEAAADQcPl2wQAAADBotXPBAAAAANONcsEAAAAgq9ttwQAAACBd8mbBAAAAAOBeXME=",
            "dtype": "f8"
           },
           "y": [
            2.5,
            7.5,
            12.5,
            17.5,
            22.5,
            27.5,
            32.5,
            37.5,
            42.5,
            47.5,
            52.5,
            57.5,
            62.5,
            67.5,
            72.5,
            77.5,
            82.5
           ]
          }
         ],
         "name": "1997"
        },
        {
         "data": [
          {
           "type": "bar",
           "x": {
            "bdata": "AAAAMEephkEAAAC4WdiMQQAAADjxwYxBAAAAcJv4iEEAAAAg+heJQQAAAMDXYo9BAAAA4GK4jUEAAADIMxSEQQAAAGjcxIVBAAAAyMFYgkEAAAAgurZ5QQAAAED8PXVBAAAA4Fw6c0EAAADgbaptQQAAAKAGrGRBAAAAgImPT0E=",
            "dtype": "f8"
           },
           "y": [
            2.5,
            7.5,
            12.5,
            17.5,
            22.5,
            27.5,
            32.5,
            37.5,
            42.5,
            47.5,
            52.5,
            57.5,
            62.5,
            67.5,
            72.5,
            77.5,
            82.5
           ]
          },
          {
           "type": "bar",
           "x": {
            "bdata": "AAAAYN27g8EAAADIdN2JwQAAAAA9iorBAAAAUKp5h8EAAABYP82HwQAAABCfAY7BAAAAeLqbjMEAAADANHCDwQAAALCQSIXBAAAAQPoZgsEAAADgBGB4wQAAAGAI9HPBAAAAYIe3csEAAADAXt5uwQAAAIBBuWfBAAAAgALYXcE=",
            "dtype": "f8"
           },
           "y": [
            2.5,
            7.5,
            12.5,
            17.5,
            22.5,
            27.5,
            32.5,
            37.5,
            42.5,
            47.5,
            52.5,
            57.5,
            62.5,
            67.5,
            72.5,
            77.5,
            82.5
           ]
          }
         ],
         "name": "1998"
        },
        {
         "data": [
          {
           "type": "bar",
           "x": {
            "bdata": "AAAAqJwVhkEAAAAQ+1eLQQAAALC7741BAAAAIO5ziUEAAAA4MP+HQQAAACA5sI5BAAAAiCXojUEAAACgipGGQQAAADAYM4VBAAAAiDRgg0EAAACQbk17QQAAAED+g3VBAAAAgMNUc0EAAAAA4NVuQQAAAEDGbmVBAAAAwITHUEE=",
            "dtype": "f8"
           },
           "y": [
            2.5,
            7.5,
            12.5,
            17.5,
            22.5,
            27.5,
            32.5,
            37.5,
            42.5,
            47.5,
            52.5,
            57.5,
            62.5,
            67.5,
            72.5,
            77.5,
            82.5
           ]
          },
          {
           "type": "bar",
           "x": {
            "bdata": "AAAAkKclg8EAAACowl6IwQAAAAhhfYvBAAAAQG7hh8EAAADAgruGwQAAAHBFT43BAAAAQNPGjMEAAACojtaFwQAAALgHsYTBAAAAqM41g8EAAABQ2xl6wQAAABD1V3TBAAAAoP2xcsEAAABA8/NvwQAAAADrY2jBAAAAwMpVX8E=",
            "dtype": "f8"
           },
           "y": [
            2.5,
            7.5,
            12.5,
            17.5,
            22.5,
            27.5,
            32.5,
            37.5,
            42.5,
            47.5,
            52.5,
            57.5,
            62.5,
            67.5,
            72.5,
            77.5,
            82.5
           ]
          }
         ],
         "name": "1999"
        },
        {
         "data": [
          {
           "type": "bar",
           "x": {
            "bdata": "AAAACKushUEAAADYWnuJQQAAAMgjA49BAAAAGOYHikEAAADAYYOHQQAAABBte41BAAAA6D5kjkEAAADQqyyJQQAAALgfCIRBAAAAcGdGhEEAAADwfDp9QQAAAOAz73VBAAAA4IRsc0EAAADAGNZvQQAAAGBbKGZBAAAAQOnsUUE=",
            "dtype": "f8"
           },
           "y": [
            2.5,
            7.5,
            12.5,
            17.5,
            22.5,
            27.5,
            32.5,
            37.5,
            42.5,
            47.5,
            52.5,
            57.5,
            62.5,
            67.5,
            72.5,
            77.5,
            82.5
           ]
          },
          {
           "type": "bar",
           "x": {
            "bdata": "AAAAYP63gsEAAABItZCGwQAAAOhPUozBAAAAeA5ciMEAAACQpj6GwQAAAGi4IIzBAAAAqGM6jcEAAABgwViIwQAAAFjWh4PBAAAAcGQdhMEAAAAQ+kB8wQAAAMAt4nTBAAAAsAmtcsEAAAAwLHtwwQAAAADxAmnBAAAA4LR7YME=",
            "dtype": "f8"
           },
           "y": [
            2.5,
            7.5,
            12.5,
            17.5,
            22.5,
            27.5,
            32.5,
            37.5,
            42.5,
            47.5,
            52.5,
            57.5,
            62.5,
            67.5,
            72.5,
            77.5,
            82.5
           ]
          }
         ],
         "name": "2000"
        },
        {
         "data": [
          {
           "type": "bar",
           "x": {
            "bdata": "AAAAgCldhUEAAAAYhACIQQAAAPiiLo9BAAAA4FzOikEAAABYV4uHQQAAABgA/YtBAAAAEGLUjkEAAADgX9qLQQAAANCIz4JBAAAAmDLghEEAAABgYUN/QQAAANBbfnZBAAAAMLybc0EAAABQaGNwQQAAAEDY+GZBAAAAQPInU0E=",
            "dtype": "f8"
           },
           "y": [
            2.5,
            7.5,
            12.5,
            17.5,
            22.5,
            27.5,
            32.5,
            37.5,
            42.5,
            47.5,
            52.5,
            57.5,
            62.5,
            67.5,
            72.5,
            77.5,
            82.5
           ]
          },
          {
           "type": "bar",
           "x": {
            "bdata": "AAAA0INjgsEAAABQMR+FwQAAAICVUYzBAAAA+EkAicEAAAAoMj6GwQAAAICFrIrBAAAAKLmgjcEAAAAYCe2KwQAAAGhCVILBAAAAqEGthMEAAABwLpR+wQAAAOBkkHXBAAAAIFXNcsEAAABgVfJwwQAAAIAHwmnBAAAAQLlTYcE=",
            "dtype": "f8"
           },
           "y": [
            2.5,
            7.5,
            12.5,
            17.5,
            22.5,
            27.5,
            32.5,
            37.5,
            42.5,
            47.5,
            52.5,
            57.5,
            62.5,
            67.5,
            72.5,
            77.5,
            82.5
           ]
          }
         ],
         "name": "2001"
        },
        {
         "data": [
          {
           "type": "bar",
           "x": {
            "bdata": "AAAAIJYQhUEAAABgvDCHQQAAAGjqI45BAAAA4Dasi0EAAADwLimIQQAAAHBXd4pBAAAAKIU7j0EAAACQqV6NQQAAAFDBcIJBAAAAeM1HhUEAAABYTcCAQQAAAAC+andBAAAAcCPEc0EAAACQ3tRwQQAAAGARzGdBAAAAQOBiVEE=",
            "dtype": "f8"
           },
           "y": [
            2.5,
            7.5,
            12.5,
            17.5,
            22.5,
            27.5,
            32.5,
            37.5,
            42.5,
            47.5,
            52.5,
            57.5,
            62.5,
            67.5,
            72.5,
            77.5,
            82.5
           ]
          },
          {
           "type": "bar",
           "x": {
            "bdata": "AAAAcE0UgsEAAABgb0uEwQAAAPCzN4vBAAAAyASzicEAAABAxMmGwQAAACjkMYnBAAAAyAv9jcEAAADYsGKMwQAAAMAe9YHBAAAAcCsIhcEAAAAwg5WAwQAAAIDohXbBAAAAwDIEc8EAAAAAJU9xwQAAAGAikGrBAAAA4A0nYsE=",
            "dtype": "f8"
           },
           "y": [
            2.5,
            7.5,
            12.5,
            17.5,
            22.5,
            27.5,
            32.5,
            37.5,
            42.5,
            47.5,
            52.5,
            57.5,
            62.5,
            67.5,
            72.5,
            77.5,
            82.5
           ]
          }
         ],
         "name": "2002"
        },
        {
         "data": [
          {
           "type": "bar",
           "x": {
            "bdata": "AAAA4EbZhEEAAADYfoaGQQAAANhIw4xBAAAAWE+tjEEAAADw7NuIQQAAABCr74hBAAAAqMAqj0EAAACgE3qNQQAAAJi32YNBAAAAiF5mhUEAAACg5+CBQQAAAIBjtnhBAAAAwD7ec0EAAADwYxtxQQAAAKABu2hBAAAAgNqoVUE=",
            "dtype": "f8"
           },
           "y": [
            2.5,
            7.5,
            12.5,
            17.5,
            22.5,
            27.5,
            32.5,
            37.5,
            42.5,
            47.5,
            52.5,
            57.5,
            62.5,
            67.5,
            72.5,
            77.5,
            82.5
           ]
          },
          {
           "type": "bar",
           "x": {
            "bdata": "AAAAMMnZgcEAAAAwNJ2DwQAAADgO0onBAAAAgOmAisEAAAAgXWeHwQAAAAABtYfBAAAAQCvljcEAAAAYA3uMwQAAACjvUIPBAAAAwK4ZhcEAAACY796BwQAAAOCa3nfBAAAAgBY+c8EAAAAwF3VxwQAAAIB0eGvBAAAAwK0BY8E=",
            "dtype": "f8"
           },
           "y": [
            2.5,
            7.5,
            12.5,
            17.5,
            22.5,
            27.5,
            32.5,
            37.5,
            42.5,
            47.5,
            52.5,
            57.5,
            62.5,
            67.5,
            72.5,
            77.5,
            82.5
           ]
          }
         ],
         "name": "2003"
        },
        {
         "data": [
          {
           "type": "bar",
           "x": {
            "bdata": "AAAAsC+8hEEAAABoJe+FQQAAAGAAPItBAAAAMMfPjUEAAADwGEqJQQAAAGB5y4dBAAAAoHNsjkEAAAD4Vp6NQQAAACAiSYZBAAAAOBPQhEEAAAA4otyCQQAAAACBN3pBAAAAcP0fdEEAAADgaTRxQQAAAOBjumlBAAAAQDwZV0E=",
            "dtype": "f8"
           },
           "y": [
            2.5,
            7.5,
            12.5,
            17.5,
            22.5,
            27.5,
            32.5,
            37.5,
            42.5,
            47.5,
            52.5,
            57.5,
            62.5,
            67.5,
            72.5,
            77.5,
            82.5
           ]
          },
          {
           "type": "bar",
           "x": {
            "bdata": "AAAAmOm3gcEAAABQxgODwQAAAGCDTIjBAAAA2F9pi8EAAAAIycGHwQAAAEh4lobBAAAAAPQljcEAAADgF5uMwQAAAHBVrIXBAAAASGl8hMEAAADIivKCwQAAAIBTinnBAAAAoDedc8EAAABgNXFxwQAAAIBkdWzBAAAAAC/4Y8E=",
            "dtype": "f8"
           },
           "y": [
            2.5,
            7.5,
            12.5,
            17.5,
            22.5,
            27.5,
            32.5,
            37.5,
            42.5,
            47.5,
            52.5,
            57.5,
            62.5,
            67.5,
            72.5,
            77.5,
            82.5
           ]
          }
         ],
         "name": "2004"
        },
        {
         "data": [
          {
           "type": "bar",
           "x": {
            "bdata": "AAAAsGyehEEAAADQJ4WFQQAAAABfXYlBAAAAAHXdjkEAAAAYUteJQQAAAEiTSYdBAAAAmOAyjUEAAABwThOOQQAAAOCN14hBAAAAmKWmg0EAAAAQ+LmDQQAAAFCYD3xBAAAAoKmHdEEAAAAw101xQQAAAICYmGpBAAAAAEKgWEE=",
            "dtype": "f8"
           },
           "y": [
            2.5,
            7.5,
            12.5,
            17.5,
            22.5,
            27.5,
            32.5,
            37.5,
            42.5,
            47.5,
            52.5,
            57.5,
            62.5,
            67.5,
            72.5,
            77.5,
            82.5
           ]
          },
          {
           "type": "bar",
           "x": {
            "bdata": "AAAACJeXgcEAAADYO5WCwQAAAKj1e4bBAAAAwEc5jMEAAACgnTWIwQAAAMCIEobBAAAAGNDwi8EAAACIDQiNwQAAACCEJYjBAAAA2D9Sg8EAAAC4UtSDwQAAANDepXvBAAAA4EEkdMEAAADwc3FxwQAAAMBCZm3BAAAAIM35ZME=",
            "dtype": "f8"
           },
           "y": [
            2.5,
            7.5,
            12.5,
            17.5,
            22.5,
            27.5,
            32.5,
            37.5,
            42.5,
            47.5,
            52.5,
            57.5,
            62.5,
            67.5,
            72.5,
            77.5,
            82.5
           ]
          }
         ],
         "name": "2005"
        },
        {
         "data": [
          {
           "type": "bar",
           "x": {
            "bdata": "AAAA8LmThEEAAADAgDSFQQAAAADJ4IdBAAAAYEQEj0EAAACom5eKQQAAAMBrS4dBAAAAEO2wi0EAAABovXyOQQAAANAId4tBAAAAUGVwgkEAAAAoY0yEQQAAAFBgAn5BAAAA8BsSdUEAAAAwfH1xQQAAAACkaWtBAAAAAK3/WUE=",
            "dtype": "f8"
           },
           "y": [
            2.5,
            7.5,
            12.5,
            17.5,
            22.5,
            27.5,
            32.5,
            37.5,
            42.5,
            47.5,
            52.5,
            57.5,
            62.5,
            67.5,
            72.5,
            77.5,
            82.5
           ]
          },
          {
           "type": "bar",
           "x": {
            "bdata": "AAAA6JaJgcEAAAB4yD+CwQAAAGBGCIXBAAAA+Eo0jMEAAAAo1tOIwQAAAJhlC4bBAAAAWBB3isEAAACw/meNwQAAAFjwr4rBAAAAIE0egsEAAABIEV+EwQAAAFAv7X3BAAAAcKTOdMEAAACQo5VxwQAAAGBrRW7BAAAAgP/aZcE=",
            "dtype": "f8"
           },
           "y": [
            2.5,
            7.5,
            12.5,
            17.5,
            22.5,
            27.5,
            32.5,
            37.5,
            42.5,
            47.5,
            52.5,
            57.5,
            62.5,
            67.5,
            72.5,
            77.5,
            82.5
           ]
          }
         ],
         "name": "2006"
        },
        {
         "data": [
          {
           "type": "bar",
           "x": {
            "bdata": "AAAAsL69hEEAAAAADuWEQQAAAHhRDIdBAAAAqOvwjUEAAACAoWmLQQAAAIC13odBAAAAeEclikEAAACwJNqOQQAAAHBw7YxBAAAA6H8PgkEAAAAYfKyEQQAAAHAGEoBBAAAAUL7xdUEAAAAAH6ZxQQAAAGApLWxBAAAAgBtbW0E=",
            "dtype": "f8"
           },
           "y": [
            2.5,
            7.5,
            12.5,
            17.5,
            22.5,
            27.5,
            32.5,
            37.5,
            42.5,
            47.5,
            52.5,
            57.5,
            62.5,
            67.5,
            72.5,
            77.5,
            82.5
           ]
          },
          {
           "type": "bar",
           "x": {
            "bdata": "AAAAoJKqgcEAAAC4Ie6BwQAAAHjtL4TBAAAAYLQRi8EAAABYE3uJwQAAADh7jIbBAAAAELT0iMEAAADI2bqNwQAAAMCvGozBAAAAcJa7gcEAAABwmrOEwQAAADCSOYDBAAAA0Eu7dcEAAADw7cxxwQAAACCX8W7BAAAA4LayZsE=",
            "dtype": "f8"
           },
           "y": [
            2.5,
            7.5,
            12.5,
            17.5,
            22.5,
            27.5,
            32.5,
            37.5,
            42.5,
            47.5,
            52.5,
            57.5,
            62.5,
            67.5,
            72.5,
            77.5,
            82.5
           ]
          }
         ],
         "name": "2007"
        },
        {
         "data": [
          {
           "type": "bar",
           "x": {
            "bdata": "AAAAOIsLhUEAAAAQBKqEQQAAAKC7XIZBAAAA0PCHjEEAAABwN16MQQAAANA/h4hBAAAA2AeZiEEAAAAwsMCOQQAAANgPAI1BAAAAECxug0EAAAAQ/MSEQQAAAFC9I4FBAAAAgDsnd0EAAABAPsFxQQAAAMC9qWxBAAAAgB3eXEE=",
            "dtype": "f8"
           },
           "y": [
            2.5,
            7.5,
            12.5,
            17.5,
            22.5,
            27.5,
            32.5,
            37.5,
            42.5,
            47.5,
            52.5,
            57.5,
            62.5,
            67.5,
            72.5,
            77.5,
            82.5
           ]
          },
          {
           "type": "bar",
           "x": {
            "bdata": "AAAAQDPsgcEAAABIg7CBwQAAAPCzfIPBAAAAUJyjicEAAABoMz2KwQAAAHBGIIfBAAAAYKRxh8EAAAAY6pmNwQAAALCnKozBAAAAYNMOg8EAAABw8r6EwQAAAKA4eYHBAAAAEFAFd8EAAADwagVywQAAAOByO2/BAAAAoJCnZ8E=",
            "dtype": "f8"
           },
           "y": [
            2.5,
            7.5,
            12.5,
            17.5,
            22.5,
            27.5,
            32.5,
            37.5,
            42.5,
            47.5,
            52.5,
            57.5,
            62.5,
            67.5,
            72.5,
            77.5,
            82.5
           ]
          }
         ],
         "name": "2008"
        },
        {
         "data": [
          {
           "type": "bar",
           "x": {
            "bdata": "AAAAoPBthUEAAAAAI4eEQQAAAAiavoVBAAAAUJT5ikEAAAA46XSNQQAAABgn7YhBAAAAIPFwh0EAAAAY/vqNQQAAAABXGo1BAAAAOOzKhUEAAADAdCuEQQAAAKinD4JBAAAAwC6KeEEAAABg0f1xQQAAAIDQ1mxBAAAAQLNZXkE=",
            "dtype": "f8"
           },
           "y": [
            2.5,
            7.5,
            12.5,
            17.5,
            22.5,
            27.5,
            32.5,
            37.5,
            42.5,
            47.5,
            52.5,
            57.5,
            62.5,
            67.5,
            72.5,
            77.5,
            82.5
           ]
          },
          {
           "type": "bar",
           "x": {
            "bdata": "AAAA+JtBgsEAAACI9YmBwQAAAGBN3YLBAAAAgGwXiMEAAAAIgBuLwQAAACgTc4fBAAAAMCJOhsEAAAC4NNKMwQAAAID6QIzBAAAAQOdbhcEAAACgfhyEwQAAAIh5gYLBAAAAwMKceMEAAACgr15ywQAAAAAaOW/BAAAAQMqfaME=",
            "dtype": "f8"
           },
           "y": [
            2.5,
            7.5,
            12.5,
            17.5,
            22.5,
            27.5,
            32.5,
            37.5,
            42.5,
            47.5,
            52.5,
            57.5,
            62.5,
            67.5,
            72.5,
            77.5,
            82.5
           ]
          }
         ],
         "name": "2009"
        },
        {
         "data": [
          {
           "type": "bar",
           "x": {
            "bdata": "AAAASLPHhUEAAACoymKEQQAAAKigTYVBAAAAWO4WiUEAAAA4SXeOQQAAAOB2cYlBAAAAAIHphkEAAADoq7uMQQAAAOBhg41BAAAAsMRCiEEAAAB4xgODQQAAAHhs3YJBAAAAEOM+ekEAAACgYF1yQQAAAKDAB21BAAAAAHbiX0E=",
            "dtype": "f8"
           },
           "y": [
            2.5,
            7.5,
            12.5,
            17.5,
            22.5,
            27.5,
            32.5,
            37.5,
            42.5,
            47.5,
            52.5,
            57.5,
            62.5,
            67.5,
            72.5,
            77.5,
            82.5
           ]
          },
          {
           "type": "bar",
           "x": {
            "bdata": "AAAAKPORgsEAAADoOGSBwQAAAFC8aILBAAAAQDxDhsEAAADYA+KLwQAAALi93ofBAAAAiBPEhcEAAAA4pZWLwQAAAPiMoozBAAAAyKzDh8EAAAAwF/CCwQAAAEhNV4PBAAAAwMegesEAAACQSt1ywQAAAADPQG/BAAAAgKicacE=",
            "dtype": "f8"
           },
           "y": [
            2.5,
            7.5,
            12.5,
            17.5,
            22.5,
            27.5,
            32.5,
            37.5,
            42.5,
            47.5,
            52.5,
            57.5,
            62.5,
            67.5,
            72.5,
            77.5,
            82.5
           ]
          }
         ],
         "name": "2010"
        },
        {
         "data": [
          {
           "type": "bar",
           "x": {
            "bdata": "AAAAcIEQhkEAAADwqFeEQQAAACiP/IRBAAAAMFKdh0EAAADoFZ2OQQAAAMgeL4pBAAAASOvqhkEAAACgPj6LQQAAABAn6o1BAAAAiPPQikEAAAD4gdaBQQAAALCyaINBAAAAEGYUfEEAAABQ9eJyQQAAACC4am1BAAAA4KS1YEE=",
            "dtype": "f8"
           },
           "y": [
            2.5,
            7.5,
            12.5,
            17.5,
            22.5,
            27.5,
            32.5,
            37.5,
            42.5,
            47.5,
            52.5,
            57.5,
            62.5,
            67.5,
            72.5,
            77.5,
            82.5
           ]
          },
          {
           "type": "bar",
           "x": {
            "bdata": "AAAASAPWgsEAAABo6lWBwQAAAKDiEoLBAAAAkALShMEAAABQstyLwQAAANjHeojBAAAA0Aq8hcEAAAC4Kx6KwQAAACjy/4zBAAAAkIZCisEAAAAYx8CBwQAAAAB43YPBAAAAENfXfMEAAADgiINzwQAAAIC/lW/BAAAAAPmbasE=",
            "dtype": "f8"
           },
           "y": [
            2.5,
            7.5,
            12.5,
            17.5,
            22.5,
            27.5,
            32.5,
            37.5,
            42.5,
            47.5,
            52.5,
            57.5,
            62.5,
            67.5,
            72.5,
            77.5,
            82.5
           ]
          }
         ],
         "name": "2011"
        },
        {
         "data": [
          {
           "type": "bar",
           "x": {
            "bdata": "AAAAyKp0hkEAAADI44eEQQAAAGAXs4RBAAAAeFTRhkEAAABQgJeNQQAAADB6C4tBAAAASOmHh0EAAAAIg8KJQQAAADDRT45BAAAAAM1FjEEAAAAgyn+BQQAAAIg/yoNBAAAA4EgefkEAAADQfrlzQQAAACDWyW1BAAAAAOt4YUE=",
            "dtype": "f8"
           },
           "y": [
            2.5,
            7.5,
            12.5,
            17.5,
            22.5,
            27.5,
            32.5,
            37.5,
            42.5,
            47.5,
            52.5,
            57.5,
            62.5,
            67.5,
            72.5,
            77.5,
            82.5
           ]
          },
          {
           "type": "bar",
           "x": {
            "bdata": "AAAA0B40g8EAAAAYeHyBwQAAABh4xoHBAAAAcFEBhMEAAADAk8eKwQAAAEDtLInBAAAAEMVGhsEAAADQVamIwQAAABDiWo3BAAAAwB+vi8EAAACAlWWBwQAAAGAaNYTBAAAAkANVf8EAAAAw5m10wQAAALB/C3DBAAAAYIKna8E=",
            "dtype": "f8"
           },
           "y": [
            2.5,
            7.5,
            12.5,
            17.5,
            22.5,
            27.5,
            32.5,
            37.5,
            42.5,
            47.5,
            52.5,
            57.5,
            62.5,
            67.5,
            72.5,
            77.5,
            82.5
           ]
          }
         ],
         "name": "2012"
        },
        {
         "data": [
          {
           "type": "bar",
           "x": {
            "bdata": "AAAAgI/JhkEAAACoU9yEQQAAAMA5foRBAAAAUAgqhkEAAADAhD2MQQAAAKi7C4xBAAAAqHk7iEEAAAAwy0aIQQAAAEDSQY5BAAAAQBdhjEEAAADw7N2CQQAAAOBA6INBAAAA4AwWgEEAAAAwp9t0QQAAAABJFG5BAAAAYF1dYkE=",
            "dtype": "f8"
           },
           "y": [
            2.5,
            7.5,
            12.5,
            17.5,
            22.5,
            27.5,
            32.5,
            37.5,
            42.5,
            47.5,
            52.5,
            57.5,
            62.5,
            67.5,
            72.5,
            77.5,
            82.5
           ]
          },
          {
           "type": "bar",
           "x": {
            "bdata": "AAAAGMaHg8EAAACoD8SBwQAAANhGjoHBAAAAAKVVg8EAAAAoBGiJwQAAADCI+4nBAAAAILjlhsEAAACQjDSHwQAAADBVRI3BAAAAiK3Hi8EAAADAC7qCwQAAAGjtRYTBAAAAaOXmgMEAAAAQO7B1wQAAAOBmTXDBAAAAwC/ibME=",
            "dtype": "f8"
           },
           "y": [
            2.5,
            7.5,
            12.5,
            17.5,
            22.5,
            27.5,
            32.5,
            37.5,
            42.5,
            47.5,
            52.5,
            57.5,
            62.5,
            67.5,
            72.5,
            77.5,
            82.5
           ]
          }
         ],
         "name": "2013"
        },
        {
         "data": [
          {
           "type": "bar",
           "x": {
            "bdata": "AAAAyK3xhkEAAABwsUeFQQAAAFAtZIRBAAAAwKWVhUEAAACYo72KQQAAADC/LI1BAAAA6AqsiEEAAADYsC2HQQAAAOAYjY1BAAAACDKIjEEAAABgxjSFQQAAAPCnXYNBAAAAQBr8gEEAAAAgPCl2QQAAAKC3nW5BAAAA4AhMY0E=",
            "dtype": "f8"
           },
           "y": [
            2.5,
            7.5,
            12.5,
            17.5,
            22.5,
            27.5,
            32.5,
            37.5,
            42.5,
            47.5,
            52.5,
            57.5,
            62.5,
            67.5,
            72.5,
            77.5,
            82.5
           ]
          },
          {
           "type": "bar",
           "x": {
            "bdata": "AAAAsMu3g8EAAACALyGCwQAAAPA4b4HBAAAAwIa+gsEAAAAoreiHwQAAANhH5IrBAAAAEM1Ch8EAAABgEh6GwQAAAFhGi4zBAAAAmGbqi8EAAACo9QaFwQAAAEBqr4PBAAAA0EjwgcEAAAAwgkB3wQAAAKBtr3DBAAAAgGAzbsE=",
            "dtype": "f8"
           },
           "y": [
            2.5,
            7.5,
            12.5,
            17.5,
            22.5,
            27.5,
            32.5,
            37.5,
            42.5,
            47.5,
            52.5,
            57.5,
            62.5,
            67.5,
            72.5,
            77.5,
            82.5
           ]
          }
         ],
         "name": "2014"
        },
        {
         "data": [
          {
           "type": "bar",
           "x": {
            "bdata": "AAAAYA34hkEAAAB4xKuFQQAAAIgPSoRBAAAA0DAuhUEAAABoGOeIQQAAAKDTN45BAAAACNE4iUEAAACws7GGQQAAAHhDYIxBAAAA0EP+jEEAAADI76aHQQAAAHD4SoJBAAAA4BDHgUEAAADgDsV3QQAAAKAKZm9BAAAAwGwsZEE=",
            "dtype": "f8"
           },
           "y": [
            2.5,
            7.5,
            12.5,
            17.5,
            22.5,
            27.5,
            32.5,
            37.5,
            42.5,
            47.5,
            52.5,
            57.5,
            62.5,
            67.5,
            72.5,
            77.5,
            82.5
           ]
          },
          {
           "type": "bar",
           "x": {
            "bdata": "AAAAsAjNg8EAAAB4LnqCwQAAAOj5UYHBAAAAiI5RgsEAAABY+h2GwQAAAOjksovBAAAAiF22h8EAAAB4Fp6FwQAAAChKXovBAAAAqEhZjMEAAADgq3CHwQAAAOibkoLBAAAAaAbKgsEAAADQzz55wQAAAOCRNXHBAAAAYHeEb8E=",
            "dtype": "f8"
           },
           "y": [
            2.5,
            7.5,
            12.5,
            17.5,
            22.5,
            27.5,
            32.5,
            37.5,
            42.5,
            47.5,
            52.5,
            57.5,
            62.5,
            67.5,
            72.5,
            77.5,
            82.5
           ]
          }
         ],
         "name": "2015"
        },
        {
         "data": [
          {
           "type": "bar",
           "x": {
            "bdata": "AAAAiKb2hkEAAACwOvuFQQAAAEA9RYRBAAAAMCTjhEEAAAAQ8nSHQQAAAPhhZI5BAAAAaMf7iUEAAACY2rmGQQAAAIgp8IpBAAAA0FFtjUEAAAAguiqKQQAAAFDGLoFBAAAAGINPgkEAAADA8Xt5QQAAAHClNnBBAAAAILcGZUE=",
            "dtype": "f8"
           },
           "y": [
            2.5,
            7.5,
            12.5,
            17.5,
            22.5,
            27.5,
            32.5,
            37.5,
            42.5,
            47.5,
            52.5,
            57.5,
            62.5,
            67.5,
            72.5,
            77.5,
            82.5
           ]
          },
          {
           "type": "bar",
           "x": {
            "bdata": "AAAAWN3dg8EAAACY2MOCwQAAAMjeSIHBAAAA4IgAgsEAAAAgf7KEwQAAALjAs4vBAAAAEJBXiMEAAAAYDJyFwQAAAJgW8YnBAAAAiA2/jMEAAAAIEe6JwQAAAOiEboHBAAAAiEpSg8EAAABwSmx7wQAAAKDr3XHBAAAAQLJlcME=",
            "dtype": "f8"
           },
           "y": [
            2.5,
            7.5,
            12.5,
            17.5,
            22.5,
            27.5,
            32.5,
            37.5,
            42.5,
            47.5,
            52.5,
            57.5,
            62.5,
            67.5,
            72.5,
            77.5,
            82.5
           ]
          }
         ],
         "name": "2016"
        },
        {
         "data": [
          {
           "type": "bar",
           "x": {
            "bdata": "AAAA6MTghkEAAACwRWGGQQAAAHhqd4RBAAAAWMichEEAAACY0qyGQQAAAFiMYo1BAAAAQDDZikEAAACgW1iHQQAAAECre4lBAAAAQPDUjUEAAAB4upaLQQAAABDf3oBBAAAAkBmtgkEAAADQelt7QQAAAJDA+XBBAAAAgCzNZUE=",
            "dtype": "f8"
           },
           "y": [
            2.5,
            7.5,
            12.5,
            17.5,
            22.5,
            27.5,
            32.5,
            37.5,
            42.5,
            47.5,
            52.5,
            57.5,
            62.5,
            67.5,
            72.5,
            77.5,
            82.5
           ]
          },
          {
           "type": "bar",
           "x": {
            "bdata": "AAAAqGjig8EAAACAhiODwQAAAKgEcYHBAAAAoN62gcEAAAAQFeWDwQAAAPjSoYrBAAAAWA8LicEAAABoRyiGwQAAADDegIjBAAAAiEgcjcEAAADQFViLwQAAAPB2F4HBAAAAaJ2pg8EAAACw0Nd9wQAAAEBbwHLBAAAAUL/6cME=",
            "dtype": "f8"
           },
           "y": [
            2.5,
            7.5,
            12.5,
            17.5,
            22.5,
            27.5,
            32.5,
            37.5,
            42.5,
            47.5,
            52.5,
            57.5,
            62.5,
            67.5,
            72.5,
            77.5,
            82.5
           ]
          }
         ],
         "name": "2017"
        },
        {
         "data": [
          {
           "type": "bar",
           "x": {
            "bdata": "AAAAaKFbhkEAAABg97eGQQAAAGirzYRBAAAAALdqhEEAAACgkwiGQQAAAGisC4xBAAAAsE3Zi0EAAAAYcgyIQQAAAJCiBohBAAAA6OTKjUEAAAAwRLSLQQAAAPBlNoJBAAAAENHLgkEAAABgsT99QQAAAEC5+nFBAAAAgFKKZkE=",
            "dtype": "f8"
           },
           "y": [
            2.5,
            7.5,
            12.5,
            17.5,
            22.5,
            27.5,
            32.5,
            37.5,
            42.5,
            47.5,
            52.5,
            57.5,
            62.5,
            67.5,
            72.5,
            77.5,
            82.5
           ]
          },
          {
           "type": "bar",
           "x": {
            "bdata": "AAAAuOeEg8EAAABom3iDwQAAAKAMuoHBAAAAAA2BgcEAAAAA1juDwQAAAMByRInBAAAAMOXZicEAAACI4MeGwQAAADA1EIfBAAAAuNIIjcEAAACAunOLwQAAABCvaYLBAAAAcG28g8EAAAAYFyCAwQAAADC08nPBAAAAMK6FccE=",
            "dtype": "f8"
           },
           "y": [
            2.5,
            7.5,
            12.5,
            17.5,
            22.5,
            27.5,
            32.5,
            37.5,
            42.5,
            47.5,
            52.5,
            57.5,
            62.5,
            67.5,
            72.5,
            77.5,
            82.5
           ]
          }
         ],
         "name": "2018"
        },
        {
         "data": [
          {
           "type": "bar",
           "x": {
            "bdata": "AAAA2AB2hUEAAABg6eOGQQAAAJBaPIVBAAAAcGNThEEAAADQ7naFQQAAAIAhkIpBAAAAIOn7jEEAAACgpX+IQQAAAEgC9YZBAAAAYKAfjUEAAAAAxOGLQQAAALAif4RBAAAAIFlMgkEAAABAA+1+QQAAALDeI3NBAAAAAJY7Z0E=",
            "dtype": "f8"
           },
           "y": [
            2.5,
            7.5,
            12.5,
            17.5,
            22.5,
            27.5,
            32.5,
            37.5,
            42.5,
            47.5,
            52.5,
            57.5,
            62.5,
            67.5,
            72.5,
            77.5,
            82.5
           ]
          },
          {
           "type": "bar",
           "x": {
            "bdata": "AAAAKG/LgsEAAAAQx6uDwQAAALDGGYLBAAAAKNdjgcEAAAD4eqaCwQAAAMAFyIfBAAAAcHfEisEAAADQXieHwQAAAJjO/oXBAAAAoDNWjMEAAABwR5yLwQAAADCasYTBAAAAsO4sg8EAAACwDSSBwQAAAFDCb3XBAAAAIOsFcsE=",
            "dtype": "f8"
           },
           "y": [
            2.5,
            7.5,
            12.5,
            17.5,
            22.5,
            27.5,
            32.5,
            37.5,
            42.5,
            47.5,
            52.5,
            57.5,
            62.5,
            67.5,
            72.5,
            77.5,
            82.5
           ]
          }
         ],
         "name": "2019"
        },
        {
         "data": [
          {
           "type": "bar",
           "x": {
            "bdata": "AAAA4Os3hEEAAACAf++GQQAAACjdpIVBAAAA8EI9hEEAAABokRSFQQAAAJCcwYhBAAAAmHkMjkEAAAD4iRGJQQAAADBXgIZBAAAAyIj+i0EAAACg6FyMQQAAAEgx4YZBAAAAcP1LgUEAAACI4DOAQQAAAPBPk3RBAAAAgIHmZ0E=",
            "dtype": "f8"
           },
           "y": [
            2.5,
            7.5,
            12.5,
            17.5,
            22.5,
            27.5,
            32.5,
            37.5,
            42.5,
            47.5,
            52.5,
            57.5,
            62.5,
            67.5,
            72.5,
            77.5,
            82.5
           ]
          },
          {
           "type": "bar",
           "x": {
            "bdata": "AAAASJ7HgcEAAAAwgcWDwQAAADhqdoLBAAAAwK9JgcEAAAAQ0D2CwQAAAHjOA4bBAAAAiMSYi8EAAAAQ+J+HwQAAAFi/hIXBAAAAWIIxi8EAAADoUhGMwQAAAPC8FofBAAAAAPYagsEAAADIh/mBwQAAADDQWHfBAAAAAG6NcsE=",
            "dtype": "f8"
           },
           "y": [
            2.5,
            7.5,
            12.5,
            17.5,
            22.5,
            27.5,
            32.5,
            37.5,
            42.5,
            47.5,
            52.5,
            57.5,
            62.5,
            67.5,
            72.5,
            77.5,
            82.5
           ]
          }
         ],
         "name": "2020"
        },
        {
         "data": [
          {
           "type": "bar",
           "x": {
            "bdata": "AAAA6JaAgkEAAAAo6fKGQQAAADi0+IVBAAAAkN88hEEAAAAg086EQQAAANiZVodBAAAAWCk/jkEAAABILdmJQQAAAJgHjoZBAAAAmH6ZikEAAAB41M+MQQAAABBVUolBAAAAeE9CgEEAAADINLOAQQAAAOCCGnZBAAAAwD6kaEE=",
            "dtype": "f8"
           },
           "y": [
            2.5,
            7.5,
            12.5,
            17.5,
            22.5,
            27.5,
            32.5,
            37.5,
            42.5,
            47.5,
            52.5,
            57.5,
            62.5,
            67.5,
            72.5,
            77.5,
            82.5
           ]
          },
          {
           "type": "bar",
           "x": {
            "bdata": "AAAAAPhdgMEAAABof9qDwQAAAFi3w4LBAAAAwDxEgcEAAADoYvGBwQAAACganoTBAAAAYHOfi8EAAAAg4UWIwQAAAKCUh4XBAAAAMM7LicEAAABQT3yMwQAAAKiujonBAAAAoB4BgcEAAAAYl3+CwQAAAHDJcHnBAAAAsAgcc8E=",
            "dtype": "f8"
           },
           "y": [
            2.5,
            7.5,
            12.5,
            17.5,
            22.5,
            27.5,
            32.5,
            37.5,
            42.5,
            47.5,
            52.5,
            57.5,
            62.5,
            67.5,
            72.5,
            77.5,
            82.5
           ]
          }
         ],
         "name": "2021"
        },
        {
         "data": [
          {
           "type": "bar",
           "x": {
            "bdata": "AAAAKBxogEEAAADAnuCGQQAAAPCsYoZBAAAAcGRyhEEAAABIuIqEQQAAANC5kIZBAAAA8K1AjUEAAAAw2biKQQAAAIiKL4dBAAAAiBUviUEAAACQPzuNQQAAABhRtYpBAAAA4Fv9f0EAAABogw2BQQAAABCexXdBAAAAwCNNaUE=",
            "dtype": "f8"
           },
           "y": [
            2.5,
            7.5,
            12.5,
            17.5,
            22.5,
            27.5,
            32.5,
            37.5,
            42.5,
            47.5,
            52.5,
            57.5,
            62.5,
            67.5,
            72.5,
            77.5,
            82.5
           ]
          },
          {
           "type": "bar",
           "x": {
            "bdata": "AAAAMLgufcEAAABgDeKDwQAAACiJJoPBAAAAmNtugcEAAADI8aiBwQAAACiT0YPBAAAAqKyPisEAAADoe/uIwQAAADh8FobBAAAAwHphiMEAAAAArN2MwQAAACA894rBAAAASLewgMEAAACwstaCwQAAANAtwnvBAAAA8JSnc8E=",
            "dtype": "f8"
           },
           "y": [
            2.5,
            7.5,
            12.5,
            17.5,
            22.5,
            27.5,
            32.5,
            37.5,
            42.5,
            47.5,
            52.5,
            57.5,
            62.5,
            67.5,
            72.5,
            77.5,
            82.5
           ]
          }
         ],
         "name": "2022"
        },
        {
         "data": [
          {
           "type": "bar",
           "x": {
            "bdata": "AAAAMID7fEEAAAAoul+GQQAAABhyvoZBAAAAKLDMhEEAAACgNFuEQQAAAEDd7oVBAAAAgNHti0EAAABYJ7yLQQAAAAA554dBAAAAYB/Fh0EAAABoeDmNQQAAAKgR2IpBAAAAuEBRgUEAAAAQKC6BQQAAAPC0cHlBAAAAQA+2aUE=",
            "dtype": "f8"
           },
           "y": [
            2.5,
            7.5,
            12.5,
            17.5,
            22.5,
            27.5,
            32.5,
            37.5,
            42.5,
            47.5,
            52.5,
            57.5,
            62.5,
            67.5,
            72.5,
            77.5,
            82.5
           ]
          },
          {
           "type": "bar",
           "x": {
            "bdata": "AAAAoLvoecEAAABQQYiDwQAAAJi6f4PBAAAAyO+6gcEAAACIfHSBwQAAAKhJKYPBAAAAcM80icEAAABIW82JwQAAAKCguYbBAAAAyI73hsEAAADo9tCMwQAAAIjBGIvBAAAA2MQCgsEAAABYYuyCwQAAAJDxD37BAAAAYPUpdME=",
            "dtype": "f8"
           },
           "y": [
            2.5,
            7.5,
            12.5,
            17.5,
            22.5,
            27.5,
            32.5,
            37.5,
            42.5,
            47.5,
            52.5,
            57.5,
            62.5,
            67.5,
            72.5,
            77.5,
            82.5
           ]
          }
         ],
         "name": "2023"
        }
       ],
       "layout": {
        "bargap": 0.1,
        "barmode": "overlay",
        "height": 600,
        "margin": {
         "b": 50,
         "t": 150
        },
        "sliders": [
         {
          "active": 0,
          "currentvalue": {
           "font": {
            "size": 12
           },
           "prefix": "Year: "
          },
          "len": 0.9,
          "pad": {
           "b": 0,
           "t": 100
          },
          "steps": [
           {
            "args": [
             [
              "1960"
             ],
             {
              "frame": {
               "duration": 300,
               "redraw": true
              },
              "mode": "immediate"
             }
            ],
            "label": "1960",
            "method": "animate"
           },
           {
            "args": [
             [
              "1961"
             ],
             {
              "frame": {
               "duration": 300,
               "redraw": true
              },
              "mode": "immediate"
             }
            ],
            "label": "1961",
            "method": "animate"
           },
           {
            "args": [
             [
              "1962"
             ],
             {
              "frame": {
               "duration": 300,
               "redraw": true
              },
              "mode": "immediate"
             }
            ],
            "label": "1962",
            "method": "animate"
           },
           {
            "args": [
             [
              "1963"
             ],
             {
              "frame": {
               "duration": 300,
               "redraw": true
              },
              "mode": "immediate"
             }
            ],
            "label": "1963",
            "method": "animate"
           },
           {
            "args": [
             [
              "1964"
             ],
             {
              "frame": {
               "duration": 300,
               "redraw": true
              },
              "mode": "immediate"
             }
            ],
            "label": "1964",
            "method": "animate"
           },
           {
            "args": [
             [
              "1965"
             ],
             {
              "frame": {
               "duration": 300,
               "redraw": true
              },
              "mode": "immediate"
             }
            ],
            "label": "1965",
            "method": "animate"
           },
           {
            "args": [
             [
              "1966"
             ],
             {
              "frame": {
               "duration": 300,
               "redraw": true
              },
              "mode": "immediate"
             }
            ],
            "label": "1966",
            "method": "animate"
           },
           {
            "args": [
             [
              "1967"
             ],
             {
              "frame": {
               "duration": 300,
               "redraw": true
              },
              "mode": "immediate"
             }
            ],
            "label": "1967",
            "method": "animate"
           },
           {
            "args": [
             [
              "1968"
             ],
             {
              "frame": {
               "duration": 300,
               "redraw": true
              },
              "mode": "immediate"
             }
            ],
            "label": "1968",
            "method": "animate"
           },
           {
            "args": [
             [
              "1969"
             ],
             {
              "frame": {
               "duration": 300,
               "redraw": true
              },
              "mode": "immediate"
             }
            ],
            "label": "1969",
            "method": "animate"
           },
           {
            "args": [
             [
              "1970"
             ],
             {
              "frame": {
               "duration": 300,
               "redraw": true
              },
              "mode": "immediate"
             }
            ],
            "label": "1970",
            "method": "animate"
           },
           {
            "args": [
             [
              "1971"
             ],
             {
              "frame": {
               "duration": 300,
               "redraw": true
              },
              "mode": "immediate"
             }
            ],
            "label": "1971",
            "method": "animate"
           },
           {
            "args": [
             [
              "1972"
             ],
             {
              "frame": {
               "duration": 300,
               "redraw": true
              },
              "mode": "immediate"
             }
            ],
            "label": "1972",
            "method": "animate"
           },
           {
            "args": [
             [
              "1973"
             ],
             {
              "frame": {
               "duration": 300,
               "redraw": true
              },
              "mode": "immediate"
             }
            ],
            "label": "1973",
            "method": "animate"
           },
           {
            "args": [
             [
              "1974"
             ],
             {
              "frame": {
               "duration": 300,
               "redraw": true
              },
              "mode": "immediate"
             }
            ],
            "label": "1974",
            "method": "animate"
           },
           {
            "args": [
             [
              "1975"
             ],
             {
              "frame": {
               "duration": 300,
               "redraw": true
              },
              "mode": "immediate"
             }
            ],
            "label": "1975",
            "method": "animate"
           },
           {
            "args": [
             [
              "1976"
             ],
             {
              "frame": {
               "duration": 300,
               "redraw": true
              },
              "mode": "immediate"
             }
            ],
            "label": "1976",
            "method": "animate"
           },
           {
            "args": [
             [
              "1977"
             ],
             {
              "frame": {
               "duration": 300,
               "redraw": true
              },
              "mode": "immediate"
             }
            ],
            "label": "1977",
            "method": "animate"
           },
           {
            "args": [
             [
              "1978"
             ],
             {
              "frame": {
               "duration": 300,
               "redraw": true
              },
              "mode": "immediate"
             }
            ],
            "label": "1978",
            "method": "animate"
           },
           {
            "args": [
             [
              "1979"
             ],
             {
              "frame": {
               "duration": 300,
               "redraw": true
              },
              "mode": "immediate"
             }
            ],
            "label": "1979",
            "method": "animate"
           },
           {
            "args": [
             [
              "1980"
             ],
             {
              "frame": {
               "duration": 300,
               "redraw": true
              },
              "mode": "immediate"
             }
            ],
            "label": "1980",
            "method": "animate"
           },
           {
            "args": [
             [
              "1981"
             ],
             {
              "frame": {
               "duration": 300,
               "redraw": true
              },
              "mode": "immediate"
             }
            ],
            "label": "1981",
            "method": "animate"
           },
           {
            "args": [
             [
              "1982"
             ],
             {
              "frame": {
               "duration": 300,
               "redraw": true
              },
              "mode": "immediate"
             }
            ],
            "label": "1982",
            "method": "animate"
           },
           {
            "args": [
             [
              "1983"
             ],
             {
              "frame": {
               "duration": 300,
               "redraw": true
              },
              "mode": "immediate"
             }
            ],
            "label": "1983",
            "method": "animate"
           },
           {
            "args": [
             [
              "1984"
             ],
             {
              "frame": {
               "duration": 300,
               "redraw": true
              },
              "mode": "immediate"
             }
            ],
            "label": "1984",
            "method": "animate"
           },
           {
            "args": [
             [
              "1985"
             ],
             {
              "frame": {
               "duration": 300,
               "redraw": true
              },
              "mode": "immediate"
             }
            ],
            "label": "1985",
            "method": "animate"
           },
           {
            "args": [
             [
              "1986"
             ],
             {
              "frame": {
               "duration": 300,
               "redraw": true
              },
              "mode": "immediate"
             }
            ],
            "label": "1986",
            "method": "animate"
           },
           {
            "args": [
             [
              "1987"
             ],
             {
              "frame": {
               "duration": 300,
               "redraw": true
              },
              "mode": "immediate"
             }
            ],
            "label": "1987",
            "method": "animate"
           },
           {
            "args": [
             [
              "1988"
             ],
             {
              "frame": {
               "duration": 300,
               "redraw": true
              },
              "mode": "immediate"
             }
            ],
            "label": "1988",
            "method": "animate"
           },
           {
            "args": [
             [
              "1989"
             ],
             {
              "frame": {
               "duration": 300,
               "redraw": true
              },
              "mode": "immediate"
             }
            ],
            "label": "1989",
            "method": "animate"
           },
           {
            "args": [
             [
              "1990"
             ],
             {
              "frame": {
               "duration": 300,
               "redraw": true
              },
              "mode": "immediate"
             }
            ],
            "label": "1990",
            "method": "animate"
           },
           {
            "args": [
             [
              "1991"
             ],
             {
              "frame": {
               "duration": 300,
               "redraw": true
              },
              "mode": "immediate"
             }
            ],
            "label": "1991",
            "method": "animate"
           },
           {
            "args": [
             [
              "1992"
             ],
             {
              "frame": {
               "duration": 300,
               "redraw": true
              },
              "mode": "immediate"
             }
            ],
            "label": "1992",
            "method": "animate"
           },
           {
            "args": [
             [
              "1993"
             ],
             {
              "frame": {
               "duration": 300,
               "redraw": true
              },
              "mode": "immediate"
             }
            ],
            "label": "1993",
            "method": "animate"
           },
           {
            "args": [
             [
              "1994"
             ],
             {
              "frame": {
               "duration": 300,
               "redraw": true
              },
              "mode": "immediate"
             }
            ],
            "label": "1994",
            "method": "animate"
           },
           {
            "args": [
             [
              "1995"
             ],
             {
              "frame": {
               "duration": 300,
               "redraw": true
              },
              "mode": "immediate"
             }
            ],
            "label": "1995",
            "method": "animate"
           },
           {
            "args": [
             [
              "1996"
             ],
             {
              "frame": {
               "duration": 300,
               "redraw": true
              },
              "mode": "immediate"
             }
            ],
            "label": "1996",
            "method": "animate"
           },
           {
            "args": [
             [
              "1997"
             ],
             {
              "frame": {
               "duration": 300,
               "redraw": true
              },
              "mode": "immediate"
             }
            ],
            "label": "1997",
            "method": "animate"
           },
           {
            "args": [
             [
              "1998"
             ],
             {
              "frame": {
               "duration": 300,
               "redraw": true
              },
              "mode": "immediate"
             }
            ],
            "label": "1998",
            "method": "animate"
           },
           {
            "args": [
             [
              "1999"
             ],
             {
              "frame": {
               "duration": 300,
               "redraw": true
              },
              "mode": "immediate"
             }
            ],
            "label": "1999",
            "method": "animate"
           },
           {
            "args": [
             [
              "2000"
             ],
             {
              "frame": {
               "duration": 300,
               "redraw": true
              },
              "mode": "immediate"
             }
            ],
            "label": "2000",
            "method": "animate"
           },
           {
            "args": [
             [
              "2001"
             ],
             {
              "frame": {
               "duration": 300,
               "redraw": true
              },
              "mode": "immediate"
             }
            ],
            "label": "2001",
            "method": "animate"
           },
           {
            "args": [
             [
              "2002"
             ],
             {
              "frame": {
               "duration": 300,
               "redraw": true
              },
              "mode": "immediate"
             }
            ],
            "label": "2002",
            "method": "animate"
           },
           {
            "args": [
             [
              "2003"
             ],
             {
              "frame": {
               "duration": 300,
               "redraw": true
              },
              "mode": "immediate"
             }
            ],
            "label": "2003",
            "method": "animate"
           },
           {
            "args": [
             [
              "2004"
             ],
             {
              "frame": {
               "duration": 300,
               "redraw": true
              },
              "mode": "immediate"
             }
            ],
            "label": "2004",
            "method": "animate"
           },
           {
            "args": [
             [
              "2005"
             ],
             {
              "frame": {
               "duration": 300,
               "redraw": true
              },
              "mode": "immediate"
             }
            ],
            "label": "2005",
            "method": "animate"
           },
           {
            "args": [
             [
              "2006"
             ],
             {
              "frame": {
               "duration": 300,
               "redraw": true
              },
              "mode": "immediate"
             }
            ],
            "label": "2006",
            "method": "animate"
           },
           {
            "args": [
             [
              "2007"
             ],
             {
              "frame": {
               "duration": 300,
               "redraw": true
              },
              "mode": "immediate"
             }
            ],
            "label": "2007",
            "method": "animate"
           },
           {
            "args": [
             [
              "2008"
             ],
             {
              "frame": {
               "duration": 300,
               "redraw": true
              },
              "mode": "immediate"
             }
            ],
            "label": "2008",
            "method": "animate"
           },
           {
            "args": [
             [
              "2009"
             ],
             {
              "frame": {
               "duration": 300,
               "redraw": true
              },
              "mode": "immediate"
             }
            ],
            "label": "2009",
            "method": "animate"
           },
           {
            "args": [
             [
              "2010"
             ],
             {
              "frame": {
               "duration": 300,
               "redraw": true
              },
              "mode": "immediate"
             }
            ],
            "label": "2010",
            "method": "animate"
           },
           {
            "args": [
             [
              "2011"
             ],
             {
              "frame": {
               "duration": 300,
               "redraw": true
              },
              "mode": "immediate"
             }
            ],
            "label": "2011",
            "method": "animate"
           },
           {
            "args": [
             [
              "2012"
             ],
             {
              "frame": {
               "duration": 300,
               "redraw": true
              },
              "mode": "immediate"
             }
            ],
            "label": "2012",
            "method": "animate"
           },
           {
            "args": [
             [
              "2013"
             ],
             {
              "frame": {
               "duration": 300,
               "redraw": true
              },
              "mode": "immediate"
             }
            ],
            "label": "2013",
            "method": "animate"
           },
           {
            "args": [
             [
              "2014"
             ],
             {
              "frame": {
               "duration": 300,
               "redraw": true
              },
              "mode": "immediate"
             }
            ],
            "label": "2014",
            "method": "animate"
           },
           {
            "args": [
             [
              "2015"
             ],
             {
              "frame": {
               "duration": 300,
               "redraw": true
              },
              "mode": "immediate"
             }
            ],
            "label": "2015",
            "method": "animate"
           },
           {
            "args": [
             [
              "2016"
             ],
             {
              "frame": {
               "duration": 300,
               "redraw": true
              },
              "mode": "immediate"
             }
            ],
            "label": "2016",
            "method": "animate"
           },
           {
            "args": [
             [
              "2017"
             ],
             {
              "frame": {
               "duration": 300,
               "redraw": true
              },
              "mode": "immediate"
             }
            ],
            "label": "2017",
            "method": "animate"
           },
           {
            "args": [
             [
              "2018"
             ],
             {
              "frame": {
               "duration": 300,
               "redraw": true
              },
              "mode": "immediate"
             }
            ],
            "label": "2018",
            "method": "animate"
           },
           {
            "args": [
             [
              "2019"
             ],
             {
              "frame": {
               "duration": 300,
               "redraw": true
              },
              "mode": "immediate"
             }
            ],
            "label": "2019",
            "method": "animate"
           },
           {
            "args": [
             [
              "2020"
             ],
             {
              "frame": {
               "duration": 300,
               "redraw": true
              },
              "mode": "immediate"
             }
            ],
            "label": "2020",
            "method": "animate"
           },
           {
            "args": [
             [
              "2021"
             ],
             {
              "frame": {
               "duration": 300,
               "redraw": true
              },
              "mode": "immediate"
             }
            ],
            "label": "2021",
            "method": "animate"
           },
           {
            "args": [
             [
              "2022"
             ],
             {
              "frame": {
               "duration": 300,
               "redraw": true
              },
              "mode": "immediate"
             }
            ],
            "label": "2022",
            "method": "animate"
           },
           {
            "args": [
             [
              "2023"
             ],
             {
              "frame": {
               "duration": 300,
               "redraw": true
              },
              "mode": "immediate"
             }
            ],
            "label": "2023",
            "method": "animate"
           }
          ],
          "x": 0.1,
          "xanchor": "left",
          "y": 1.15,
          "yanchor": "bottom"
         }
        ],
        "template": {
         "data": {
          "bar": [
           {
            "error_x": {
             "color": "#2a3f5f"
            },
            "error_y": {
             "color": "#2a3f5f"
            },
            "marker": {
             "line": {
              "color": "white",
              "width": 0.5
             },
             "pattern": {
              "fillmode": "overlay",
              "size": 10,
              "solidity": 0.2
             }
            },
            "type": "bar"
           }
          ],
          "barpolar": [
           {
            "marker": {
             "line": {
              "color": "white",
              "width": 0.5
             },
             "pattern": {
              "fillmode": "overlay",
              "size": 10,
              "solidity": 0.2
             }
            },
            "type": "barpolar"
           }
          ],
          "carpet": [
           {
            "aaxis": {
             "endlinecolor": "#2a3f5f",
             "gridcolor": "#C8D4E3",
             "linecolor": "#C8D4E3",
             "minorgridcolor": "#C8D4E3",
             "startlinecolor": "#2a3f5f"
            },
            "baxis": {
             "endlinecolor": "#2a3f5f",
             "gridcolor": "#C8D4E3",
             "linecolor": "#C8D4E3",
             "minorgridcolor": "#C8D4E3",
             "startlinecolor": "#2a3f5f"
            },
            "type": "carpet"
           }
          ],
          "choropleth": [
           {
            "colorbar": {
             "outlinewidth": 0,
             "ticks": ""
            },
            "type": "choropleth"
           }
          ],
          "contour": [
           {
            "colorbar": {
             "outlinewidth": 0,
             "ticks": ""
            },
            "colorscale": [
             [
              0,
              "#0d0887"
             ],
             [
              0.1111111111111111,
              "#46039f"
             ],
             [
              0.2222222222222222,
              "#7201a8"
             ],
             [
              0.3333333333333333,
              "#9c179e"
             ],
             [
              0.4444444444444444,
              "#bd3786"
             ],
             [
              0.5555555555555556,
              "#d8576b"
             ],
             [
              0.6666666666666666,
              "#ed7953"
             ],
             [
              0.7777777777777778,
              "#fb9f3a"
             ],
             [
              0.8888888888888888,
              "#fdca26"
             ],
             [
              1,
              "#f0f921"
             ]
            ],
            "type": "contour"
           }
          ],
          "contourcarpet": [
           {
            "colorbar": {
             "outlinewidth": 0,
             "ticks": ""
            },
            "type": "contourcarpet"
           }
          ],
          "heatmap": [
           {
            "colorbar": {
             "outlinewidth": 0,
             "ticks": ""
            },
            "colorscale": [
             [
              0,
              "#0d0887"
             ],
             [
              0.1111111111111111,
              "#46039f"
             ],
             [
              0.2222222222222222,
              "#7201a8"
             ],
             [
              0.3333333333333333,
              "#9c179e"
             ],
             [
              0.4444444444444444,
              "#bd3786"
             ],
             [
              0.5555555555555556,
              "#d8576b"
             ],
             [
              0.6666666666666666,
              "#ed7953"
             ],
             [
              0.7777777777777778,
              "#fb9f3a"
             ],
             [
              0.8888888888888888,
              "#fdca26"
             ],
             [
              1,
              "#f0f921"
             ]
            ],
            "type": "heatmap"
           }
          ],
          "histogram": [
           {
            "marker": {
             "pattern": {
              "fillmode": "overlay",
              "size": 10,
              "solidity": 0.2
             }
            },
            "type": "histogram"
           }
          ],
          "histogram2d": [
           {
            "colorbar": {
             "outlinewidth": 0,
             "ticks": ""
            },
            "colorscale": [
             [
              0,
              "#0d0887"
             ],
             [
              0.1111111111111111,
              "#46039f"
             ],
             [
              0.2222222222222222,
              "#7201a8"
             ],
             [
              0.3333333333333333,
              "#9c179e"
             ],
             [
              0.4444444444444444,
              "#bd3786"
             ],
             [
              0.5555555555555556,
              "#d8576b"
             ],
             [
              0.6666666666666666,
              "#ed7953"
             ],
             [
              0.7777777777777778,
              "#fb9f3a"
             ],
             [
              0.8888888888888888,
              "#fdca26"
             ],
             [
              1,
              "#f0f921"
             ]
            ],
            "type": "histogram2d"
           }
          ],
          "histogram2dcontour": [
           {
            "colorbar": {
             "outlinewidth": 0,
             "ticks": ""
            },
            "colorscale": [
             [
              0,
              "#0d0887"
             ],
             [
              0.1111111111111111,
              "#46039f"
             ],
             [
              0.2222222222222222,
              "#7201a8"
             ],
             [
              0.3333333333333333,
              "#9c179e"
             ],
             [
              0.4444444444444444,
              "#bd3786"
             ],
             [
              0.5555555555555556,
              "#d8576b"
             ],
             [
              0.6666666666666666,
              "#ed7953"
             ],
             [
              0.7777777777777778,
              "#fb9f3a"
             ],
             [
              0.8888888888888888,
              "#fdca26"
             ],
             [
              1,
              "#f0f921"
             ]
            ],
            "type": "histogram2dcontour"
           }
          ],
          "mesh3d": [
           {
            "colorbar": {
             "outlinewidth": 0,
             "ticks": ""
            },
            "type": "mesh3d"
           }
          ],
          "parcoords": [
           {
            "line": {
             "colorbar": {
              "outlinewidth": 0,
              "ticks": ""
             }
            },
            "type": "parcoords"
           }
          ],
          "pie": [
           {
            "automargin": true,
            "type": "pie"
           }
          ],
          "scatter": [
           {
            "fillpattern": {
             "fillmode": "overlay",
             "size": 10,
             "solidity": 0.2
            },
            "type": "scatter"
           }
          ],
          "scatter3d": [
           {
            "line": {
             "colorbar": {
              "outlinewidth": 0,
              "ticks": ""
             }
            },
            "marker": {
             "colorbar": {
              "outlinewidth": 0,
              "ticks": ""
             }
            },
            "type": "scatter3d"
           }
          ],
          "scattercarpet": [
           {
            "marker": {
             "colorbar": {
              "outlinewidth": 0,
              "ticks": ""
             }
            },
            "type": "scattercarpet"
           }
          ],
          "scattergeo": [
           {
            "marker": {
             "colorbar": {
              "outlinewidth": 0,
              "ticks": ""
             }
            },
            "type": "scattergeo"
           }
          ],
          "scattergl": [
           {
            "marker": {
             "colorbar": {
              "outlinewidth": 0,
              "ticks": ""
             }
            },
            "type": "scattergl"
           }
          ],
          "scattermap": [
           {
            "marker": {
             "colorbar": {
              "outlinewidth": 0,
              "ticks": ""
             }
            },
            "type": "scattermap"
           }
          ],
          "scattermapbox": [
           {
            "marker": {
             "colorbar": {
              "outlinewidth": 0,
              "ticks": ""
             }
            },
            "type": "scattermapbox"
           }
          ],
          "scatterpolar": [
           {
            "marker": {
             "colorbar": {
              "outlinewidth": 0,
              "ticks": ""
             }
            },
            "type": "scatterpolar"
           }
          ],
          "scatterpolargl": [
           {
            "marker": {
             "colorbar": {
              "outlinewidth": 0,
              "ticks": ""
             }
            },
            "type": "scatterpolargl"
           }
          ],
          "scatterternary": [
           {
            "marker": {
             "colorbar": {
              "outlinewidth": 0,
              "ticks": ""
             }
            },
            "type": "scatterternary"
           }
          ],
          "surface": [
           {
            "colorbar": {
             "outlinewidth": 0,
             "ticks": ""
            },
            "colorscale": [
             [
              0,
              "#0d0887"
             ],
             [
              0.1111111111111111,
              "#46039f"
             ],
             [
              0.2222222222222222,
              "#7201a8"
             ],
             [
              0.3333333333333333,
              "#9c179e"
             ],
             [
              0.4444444444444444,
              "#bd3786"
             ],
             [
              0.5555555555555556,
              "#d8576b"
             ],
             [
              0.6666666666666666,
              "#ed7953"
             ],
             [
              0.7777777777777778,
              "#fb9f3a"
             ],
             [
              0.8888888888888888,
              "#fdca26"
             ],
             [
              1,
              "#f0f921"
             ]
            ],
            "type": "surface"
           }
          ],
          "table": [
           {
            "cells": {
             "fill": {
              "color": "#EBF0F8"
             },
             "line": {
              "color": "white"
             }
            },
            "header": {
             "fill": {
              "color": "#C8D4E3"
             },
             "line": {
              "color": "white"
             }
            },
            "type": "table"
           }
          ]
         },
         "layout": {
          "annotationdefaults": {
           "arrowcolor": "#2a3f5f",
           "arrowhead": 0,
           "arrowwidth": 1
          },
          "autotypenumbers": "strict",
          "coloraxis": {
           "colorbar": {
            "outlinewidth": 0,
            "ticks": ""
           }
          },
          "colorscale": {
           "diverging": [
            [
             0,
             "#8e0152"
            ],
            [
             0.1,
             "#c51b7d"
            ],
            [
             0.2,
             "#de77ae"
            ],
            [
             0.3,
             "#f1b6da"
            ],
            [
             0.4,
             "#fde0ef"
            ],
            [
             0.5,
             "#f7f7f7"
            ],
            [
             0.6,
             "#e6f5d0"
            ],
            [
             0.7,
             "#b8e186"
            ],
            [
             0.8,
             "#7fbc41"
            ],
            [
             0.9,
             "#4d9221"
            ],
            [
             1,
             "#276419"
            ]
           ],
           "sequential": [
            [
             0,
             "#0d0887"
            ],
            [
             0.1111111111111111,
             "#46039f"
            ],
            [
             0.2222222222222222,
             "#7201a8"
            ],
            [
             0.3333333333333333,
             "#9c179e"
            ],
            [
             0.4444444444444444,
             "#bd3786"
            ],
            [
             0.5555555555555556,
             "#d8576b"
            ],
            [
             0.6666666666666666,
             "#ed7953"
            ],
            [
             0.7777777777777778,
             "#fb9f3a"
            ],
            [
             0.8888888888888888,
             "#fdca26"
            ],
            [
             1,
             "#f0f921"
            ]
           ],
           "sequentialminus": [
            [
             0,
             "#0d0887"
            ],
            [
             0.1111111111111111,
             "#46039f"
            ],
            [
             0.2222222222222222,
             "#7201a8"
            ],
            [
             0.3333333333333333,
             "#9c179e"
            ],
            [
             0.4444444444444444,
             "#bd3786"
            ],
            [
             0.5555555555555556,
             "#d8576b"
            ],
            [
             0.6666666666666666,
             "#ed7953"
            ],
            [
             0.7777777777777778,
             "#fb9f3a"
            ],
            [
             0.8888888888888888,
             "#fdca26"
            ],
            [
             1,
             "#f0f921"
            ]
           ]
          },
          "colorway": [
           "#636efa",
           "#EF553B",
           "#00cc96",
           "#ab63fa",
           "#FFA15A",
           "#19d3f3",
           "#FF6692",
           "#B6E880",
           "#FF97FF",
           "#FECB52"
          ],
          "font": {
           "color": "#2a3f5f"
          },
          "geo": {
           "bgcolor": "white",
           "lakecolor": "white",
           "landcolor": "white",
           "showlakes": true,
           "showland": true,
           "subunitcolor": "#C8D4E3"
          },
          "hoverlabel": {
           "align": "left"
          },
          "hovermode": "closest",
          "mapbox": {
           "style": "light"
          },
          "paper_bgcolor": "white",
          "plot_bgcolor": "white",
          "polar": {
           "angularaxis": {
            "gridcolor": "#EBF0F8",
            "linecolor": "#EBF0F8",
            "ticks": ""
           },
           "bgcolor": "white",
           "radialaxis": {
            "gridcolor": "#EBF0F8",
            "linecolor": "#EBF0F8",
            "ticks": ""
           }
          },
          "scene": {
           "xaxis": {
            "backgroundcolor": "white",
            "gridcolor": "#DFE8F3",
            "gridwidth": 2,
            "linecolor": "#EBF0F8",
            "showbackground": true,
            "ticks": "",
            "zerolinecolor": "#EBF0F8"
           },
           "yaxis": {
            "backgroundcolor": "white",
            "gridcolor": "#DFE8F3",
            "gridwidth": 2,
            "linecolor": "#EBF0F8",
            "showbackground": true,
            "ticks": "",
            "zerolinecolor": "#EBF0F8"
           },
           "zaxis": {
            "backgroundcolor": "white",
            "gridcolor": "#DFE8F3",
            "gridwidth": 2,
            "linecolor": "#EBF0F8",
            "showbackground": true,
            "ticks": "",
            "zerolinecolor": "#EBF0F8"
           }
          },
          "shapedefaults": {
           "line": {
            "color": "#2a3f5f"
           }
          },
          "ternary": {
           "aaxis": {
            "gridcolor": "#DFE8F3",
            "linecolor": "#A2B1C6",
            "ticks": ""
           },
           "baxis": {
            "gridcolor": "#DFE8F3",
            "linecolor": "#A2B1C6",
            "ticks": ""
           },
           "bgcolor": "white",
           "caxis": {
            "gridcolor": "#DFE8F3",
            "linecolor": "#A2B1C6",
            "ticks": ""
           }
          },
          "title": {
           "x": 0.05
          },
          "xaxis": {
           "automargin": true,
           "gridcolor": "#EBF0F8",
           "linecolor": "#EBF0F8",
           "ticks": "",
           "title": {
            "standoff": 15
           },
           "zerolinecolor": "#EBF0F8",
           "zerolinewidth": 2
          },
          "yaxis": {
           "automargin": true,
           "gridcolor": "#EBF0F8",
           "linecolor": "#EBF0F8",
           "ticks": "",
           "title": {
            "standoff": 15
           },
           "zerolinecolor": "#EBF0F8",
           "zerolinewidth": 2
          }
         }
        },
        "title": {
         "text": "Population Pyramid Over Time For China"
        },
        "updatemenus": [
         {
          "buttons": [
           {
            "args": [
             null,
             {
              "frame": {
               "duration": 500,
               "redraw": true
              },
              "fromcurrent": true
             }
            ],
            "label": "Play",
            "method": "animate"
           },
           {
            "args": [
             [
              null
             ],
             {
              "frame": {
               "duration": 0,
               "redraw": true
              },
              "mode": "immediate",
              "transition": {
               "duration": 0
              }
             }
            ],
            "label": "Pause",
            "method": "animate"
           }
          ],
          "direction": "left",
          "pad": {
           "r": 10,
           "t": 30
          },
          "showactive": false,
          "type": "buttons",
          "x": 0.1,
          "xanchor": "right",
          "y": 1.25,
          "yanchor": "top"
         }
        ],
        "xaxis": {
         "showgrid": true,
         "tickformat": ",",
         "title": {
          "text": "Population"
         }
        },
        "yaxis": {
         "range": [
          -2,
          87.5
         ],
         "title": {
          "text": "Age"
         }
        }
       }
      },
      "text/html": [
       "<div>            <script src=\"https://cdnjs.cloudflare.com/ajax/libs/mathjax/2.7.5/MathJax.js?config=TeX-AMS-MML_SVG\"></script><script type=\"text/javascript\">if (window.MathJax && window.MathJax.Hub && window.MathJax.Hub.Config) {window.MathJax.Hub.Config({SVG: {font: \"STIX-Web\"}});}</script>                <script type=\"text/javascript\">window.PlotlyConfig = {MathJaxConfig: 'local'};</script>\n",
       "        <script charset=\"utf-8\" src=\"https://cdn.plot.ly/plotly-3.0.0.min.js\"></script>                <div id=\"fdf604d3-ceaa-4ee4-a4f6-8d61f118b03d\" class=\"plotly-graph-div\" style=\"height:600px; width:100%;\"></div>            <script type=\"text/javascript\">                window.PLOTLYENV=window.PLOTLYENV || {};                                if (document.getElementById(\"fdf604d3-ceaa-4ee4-a4f6-8d61f118b03d\")) {                    Plotly.newPlot(                        \"fdf604d3-ceaa-4ee4-a4f6-8d61f118b03d\",                        [{\"hoverinfo\":\"x+y\",\"marker\":{\"color\":\"blue\"},\"name\":\"Men\",\"orientation\":\"h\",\"x\":{\"dtype\":\"f8\",\"bdata\":\"AAAA2HuEiEEAAABIfeOHQQAAADgCj4FBAAAAALaue0EAAADwf8p6QQAAABDSO3lBAAAAYKnQdUEAAAAAgj5zQQAAAMATo3BBAAAAABu0bUEAAABAdwlpQQAAAKDmwmRBAAAAwFz6XUEAAAAAetxUQQAAAICYGUlBAAAAAMRVJ0E=\"},\"y\":[2.5,7.5,12.5,17.5,22.5,27.5,32.5,37.5,42.5,47.5,52.5,57.5,62.5,67.5,72.5,77.5,82.5],\"type\":\"bar\"},{\"hoverinfo\":\"x+y\",\"marker\":{\"color\":\"pink\"},\"name\":\"Women\",\"orientation\":\"h\",\"x\":{\"dtype\":\"f8\",\"bdata\":\"AAAACAlYh8EAAABYgsqGwQAAAMAZMoDBAAAAgKzAeMEAAADAp3N3wQAAABBOsXbBAAAA0B77c8EAAACQyiVywQAAACCIF3DBAAAA4PHCbMEAAACgKrppwQAAACAcG2bBAAAAwNKQYMEAAADA5Y5ZwQAAAEAMGVHBAAAAAD+sNsE=\"},\"y\":[2.5,7.5,12.5,17.5,22.5,27.5,32.5,37.5,42.5,47.5,52.5,57.5,62.5,67.5,72.5,77.5,82.5],\"type\":\"bar\"}],                        {\"bargap\":0.1,\"barmode\":\"overlay\",\"height\":600,\"margin\":{\"b\":50,\"t\":150},\"sliders\":[{\"active\":0,\"currentvalue\":{\"font\":{\"size\":12},\"prefix\":\"Year: \"},\"len\":0.9,\"pad\":{\"b\":0,\"t\":100},\"steps\":[{\"args\":[[\"1960\"],{\"frame\":{\"duration\":300,\"redraw\":true},\"mode\":\"immediate\"}],\"label\":\"1960\",\"method\":\"animate\"},{\"args\":[[\"1961\"],{\"frame\":{\"duration\":300,\"redraw\":true},\"mode\":\"immediate\"}],\"label\":\"1961\",\"method\":\"animate\"},{\"args\":[[\"1962\"],{\"frame\":{\"duration\":300,\"redraw\":true},\"mode\":\"immediate\"}],\"label\":\"1962\",\"method\":\"animate\"},{\"args\":[[\"1963\"],{\"frame\":{\"duration\":300,\"redraw\":true},\"mode\":\"immediate\"}],\"label\":\"1963\",\"method\":\"animate\"},{\"args\":[[\"1964\"],{\"frame\":{\"duration\":300,\"redraw\":true},\"mode\":\"immediate\"}],\"label\":\"1964\",\"method\":\"animate\"},{\"args\":[[\"1965\"],{\"frame\":{\"duration\":300,\"redraw\":true},\"mode\":\"immediate\"}],\"label\":\"1965\",\"method\":\"animate\"},{\"args\":[[\"1966\"],{\"frame\":{\"duration\":300,\"redraw\":true},\"mode\":\"immediate\"}],\"label\":\"1966\",\"method\":\"animate\"},{\"args\":[[\"1967\"],{\"frame\":{\"duration\":300,\"redraw\":true},\"mode\":\"immediate\"}],\"label\":\"1967\",\"method\":\"animate\"},{\"args\":[[\"1968\"],{\"frame\":{\"duration\":300,\"redraw\":true},\"mode\":\"immediate\"}],\"label\":\"1968\",\"method\":\"animate\"},{\"args\":[[\"1969\"],{\"frame\":{\"duration\":300,\"redraw\":true},\"mode\":\"immediate\"}],\"label\":\"1969\",\"method\":\"animate\"},{\"args\":[[\"1970\"],{\"frame\":{\"duration\":300,\"redraw\":true},\"mode\":\"immediate\"}],\"label\":\"1970\",\"method\":\"animate\"},{\"args\":[[\"1971\"],{\"frame\":{\"duration\":300,\"redraw\":true},\"mode\":\"immediate\"}],\"label\":\"1971\",\"method\":\"animate\"},{\"args\":[[\"1972\"],{\"frame\":{\"duration\":300,\"redraw\":true},\"mode\":\"immediate\"}],\"label\":\"1972\",\"method\":\"animate\"},{\"args\":[[\"1973\"],{\"frame\":{\"duration\":300,\"redraw\":true},\"mode\":\"immediate\"}],\"label\":\"1973\",\"method\":\"animate\"},{\"args\":[[\"1974\"],{\"frame\":{\"duration\":300,\"redraw\":true},\"mode\":\"immediate\"}],\"label\":\"1974\",\"method\":\"animate\"},{\"args\":[[\"1975\"],{\"frame\":{\"duration\":300,\"redraw\":true},\"mode\":\"immediate\"}],\"label\":\"1975\",\"method\":\"animate\"},{\"args\":[[\"1976\"],{\"frame\":{\"duration\":300,\"redraw\":true},\"mode\":\"immediate\"}],\"label\":\"1976\",\"method\":\"animate\"},{\"args\":[[\"1977\"],{\"frame\":{\"duration\":300,\"redraw\":true},\"mode\":\"immediate\"}],\"label\":\"1977\",\"method\":\"animate\"},{\"args\":[[\"1978\"],{\"frame\":{\"duration\":300,\"redraw\":true},\"mode\":\"immediate\"}],\"label\":\"1978\",\"method\":\"animate\"},{\"args\":[[\"1979\"],{\"frame\":{\"duration\":300,\"redraw\":true},\"mode\":\"immediate\"}],\"label\":\"1979\",\"method\":\"animate\"},{\"args\":[[\"1980\"],{\"frame\":{\"duration\":300,\"redraw\":true},\"mode\":\"immediate\"}],\"label\":\"1980\",\"method\":\"animate\"},{\"args\":[[\"1981\"],{\"frame\":{\"duration\":300,\"redraw\":true},\"mode\":\"immediate\"}],\"label\":\"1981\",\"method\":\"animate\"},{\"args\":[[\"1982\"],{\"frame\":{\"duration\":300,\"redraw\":true},\"mode\":\"immediate\"}],\"label\":\"1982\",\"method\":\"animate\"},{\"args\":[[\"1983\"],{\"frame\":{\"duration\":300,\"redraw\":true},\"mode\":\"immediate\"}],\"label\":\"1983\",\"method\":\"animate\"},{\"args\":[[\"1984\"],{\"frame\":{\"duration\":300,\"redraw\":true},\"mode\":\"immediate\"}],\"label\":\"1984\",\"method\":\"animate\"},{\"args\":[[\"1985\"],{\"frame\":{\"duration\":300,\"redraw\":true},\"mode\":\"immediate\"}],\"label\":\"1985\",\"method\":\"animate\"},{\"args\":[[\"1986\"],{\"frame\":{\"duration\":300,\"redraw\":true},\"mode\":\"immediate\"}],\"label\":\"1986\",\"method\":\"animate\"},{\"args\":[[\"1987\"],{\"frame\":{\"duration\":300,\"redraw\":true},\"mode\":\"immediate\"}],\"label\":\"1987\",\"method\":\"animate\"},{\"args\":[[\"1988\"],{\"frame\":{\"duration\":300,\"redraw\":true},\"mode\":\"immediate\"}],\"label\":\"1988\",\"method\":\"animate\"},{\"args\":[[\"1989\"],{\"frame\":{\"duration\":300,\"redraw\":true},\"mode\":\"immediate\"}],\"label\":\"1989\",\"method\":\"animate\"},{\"args\":[[\"1990\"],{\"frame\":{\"duration\":300,\"redraw\":true},\"mode\":\"immediate\"}],\"label\":\"1990\",\"method\":\"animate\"},{\"args\":[[\"1991\"],{\"frame\":{\"duration\":300,\"redraw\":true},\"mode\":\"immediate\"}],\"label\":\"1991\",\"method\":\"animate\"},{\"args\":[[\"1992\"],{\"frame\":{\"duration\":300,\"redraw\":true},\"mode\":\"immediate\"}],\"label\":\"1992\",\"method\":\"animate\"},{\"args\":[[\"1993\"],{\"frame\":{\"duration\":300,\"redraw\":true},\"mode\":\"immediate\"}],\"label\":\"1993\",\"method\":\"animate\"},{\"args\":[[\"1994\"],{\"frame\":{\"duration\":300,\"redraw\":true},\"mode\":\"immediate\"}],\"label\":\"1994\",\"method\":\"animate\"},{\"args\":[[\"1995\"],{\"frame\":{\"duration\":300,\"redraw\":true},\"mode\":\"immediate\"}],\"label\":\"1995\",\"method\":\"animate\"},{\"args\":[[\"1996\"],{\"frame\":{\"duration\":300,\"redraw\":true},\"mode\":\"immediate\"}],\"label\":\"1996\",\"method\":\"animate\"},{\"args\":[[\"1997\"],{\"frame\":{\"duration\":300,\"redraw\":true},\"mode\":\"immediate\"}],\"label\":\"1997\",\"method\":\"animate\"},{\"args\":[[\"1998\"],{\"frame\":{\"duration\":300,\"redraw\":true},\"mode\":\"immediate\"}],\"label\":\"1998\",\"method\":\"animate\"},{\"args\":[[\"1999\"],{\"frame\":{\"duration\":300,\"redraw\":true},\"mode\":\"immediate\"}],\"label\":\"1999\",\"method\":\"animate\"},{\"args\":[[\"2000\"],{\"frame\":{\"duration\":300,\"redraw\":true},\"mode\":\"immediate\"}],\"label\":\"2000\",\"method\":\"animate\"},{\"args\":[[\"2001\"],{\"frame\":{\"duration\":300,\"redraw\":true},\"mode\":\"immediate\"}],\"label\":\"2001\",\"method\":\"animate\"},{\"args\":[[\"2002\"],{\"frame\":{\"duration\":300,\"redraw\":true},\"mode\":\"immediate\"}],\"label\":\"2002\",\"method\":\"animate\"},{\"args\":[[\"2003\"],{\"frame\":{\"duration\":300,\"redraw\":true},\"mode\":\"immediate\"}],\"label\":\"2003\",\"method\":\"animate\"},{\"args\":[[\"2004\"],{\"frame\":{\"duration\":300,\"redraw\":true},\"mode\":\"immediate\"}],\"label\":\"2004\",\"method\":\"animate\"},{\"args\":[[\"2005\"],{\"frame\":{\"duration\":300,\"redraw\":true},\"mode\":\"immediate\"}],\"label\":\"2005\",\"method\":\"animate\"},{\"args\":[[\"2006\"],{\"frame\":{\"duration\":300,\"redraw\":true},\"mode\":\"immediate\"}],\"label\":\"2006\",\"method\":\"animate\"},{\"args\":[[\"2007\"],{\"frame\":{\"duration\":300,\"redraw\":true},\"mode\":\"immediate\"}],\"label\":\"2007\",\"method\":\"animate\"},{\"args\":[[\"2008\"],{\"frame\":{\"duration\":300,\"redraw\":true},\"mode\":\"immediate\"}],\"label\":\"2008\",\"method\":\"animate\"},{\"args\":[[\"2009\"],{\"frame\":{\"duration\":300,\"redraw\":true},\"mode\":\"immediate\"}],\"label\":\"2009\",\"method\":\"animate\"},{\"args\":[[\"2010\"],{\"frame\":{\"duration\":300,\"redraw\":true},\"mode\":\"immediate\"}],\"label\":\"2010\",\"method\":\"animate\"},{\"args\":[[\"2011\"],{\"frame\":{\"duration\":300,\"redraw\":true},\"mode\":\"immediate\"}],\"label\":\"2011\",\"method\":\"animate\"},{\"args\":[[\"2012\"],{\"frame\":{\"duration\":300,\"redraw\":true},\"mode\":\"immediate\"}],\"label\":\"2012\",\"method\":\"animate\"},{\"args\":[[\"2013\"],{\"frame\":{\"duration\":300,\"redraw\":true},\"mode\":\"immediate\"}],\"label\":\"2013\",\"method\":\"animate\"},{\"args\":[[\"2014\"],{\"frame\":{\"duration\":300,\"redraw\":true},\"mode\":\"immediate\"}],\"label\":\"2014\",\"method\":\"animate\"},{\"args\":[[\"2015\"],{\"frame\":{\"duration\":300,\"redraw\":true},\"mode\":\"immediate\"}],\"label\":\"2015\",\"method\":\"animate\"},{\"args\":[[\"2016\"],{\"frame\":{\"duration\":300,\"redraw\":true},\"mode\":\"immediate\"}],\"label\":\"2016\",\"method\":\"animate\"},{\"args\":[[\"2017\"],{\"frame\":{\"duration\":300,\"redraw\":true},\"mode\":\"immediate\"}],\"label\":\"2017\",\"method\":\"animate\"},{\"args\":[[\"2018\"],{\"frame\":{\"duration\":300,\"redraw\":true},\"mode\":\"immediate\"}],\"label\":\"2018\",\"method\":\"animate\"},{\"args\":[[\"2019\"],{\"frame\":{\"duration\":300,\"redraw\":true},\"mode\":\"immediate\"}],\"label\":\"2019\",\"method\":\"animate\"},{\"args\":[[\"2020\"],{\"frame\":{\"duration\":300,\"redraw\":true},\"mode\":\"immediate\"}],\"label\":\"2020\",\"method\":\"animate\"},{\"args\":[[\"2021\"],{\"frame\":{\"duration\":300,\"redraw\":true},\"mode\":\"immediate\"}],\"label\":\"2021\",\"method\":\"animate\"},{\"args\":[[\"2022\"],{\"frame\":{\"duration\":300,\"redraw\":true},\"mode\":\"immediate\"}],\"label\":\"2022\",\"method\":\"animate\"},{\"args\":[[\"2023\"],{\"frame\":{\"duration\":300,\"redraw\":true},\"mode\":\"immediate\"}],\"label\":\"2023\",\"method\":\"animate\"}],\"x\":0.1,\"xanchor\":\"left\",\"y\":1.15,\"yanchor\":\"bottom\"}],\"template\":{\"data\":{\"barpolar\":[{\"marker\":{\"line\":{\"color\":\"white\",\"width\":0.5},\"pattern\":{\"fillmode\":\"overlay\",\"size\":10,\"solidity\":0.2}},\"type\":\"barpolar\"}],\"bar\":[{\"error_x\":{\"color\":\"#2a3f5f\"},\"error_y\":{\"color\":\"#2a3f5f\"},\"marker\":{\"line\":{\"color\":\"white\",\"width\":0.5},\"pattern\":{\"fillmode\":\"overlay\",\"size\":10,\"solidity\":0.2}},\"type\":\"bar\"}],\"carpet\":[{\"aaxis\":{\"endlinecolor\":\"#2a3f5f\",\"gridcolor\":\"#C8D4E3\",\"linecolor\":\"#C8D4E3\",\"minorgridcolor\":\"#C8D4E3\",\"startlinecolor\":\"#2a3f5f\"},\"baxis\":{\"endlinecolor\":\"#2a3f5f\",\"gridcolor\":\"#C8D4E3\",\"linecolor\":\"#C8D4E3\",\"minorgridcolor\":\"#C8D4E3\",\"startlinecolor\":\"#2a3f5f\"},\"type\":\"carpet\"}],\"choropleth\":[{\"colorbar\":{\"outlinewidth\":0,\"ticks\":\"\"},\"type\":\"choropleth\"}],\"contourcarpet\":[{\"colorbar\":{\"outlinewidth\":0,\"ticks\":\"\"},\"type\":\"contourcarpet\"}],\"contour\":[{\"colorbar\":{\"outlinewidth\":0,\"ticks\":\"\"},\"colorscale\":[[0.0,\"#0d0887\"],[0.1111111111111111,\"#46039f\"],[0.2222222222222222,\"#7201a8\"],[0.3333333333333333,\"#9c179e\"],[0.4444444444444444,\"#bd3786\"],[0.5555555555555556,\"#d8576b\"],[0.6666666666666666,\"#ed7953\"],[0.7777777777777778,\"#fb9f3a\"],[0.8888888888888888,\"#fdca26\"],[1.0,\"#f0f921\"]],\"type\":\"contour\"}],\"heatmap\":[{\"colorbar\":{\"outlinewidth\":0,\"ticks\":\"\"},\"colorscale\":[[0.0,\"#0d0887\"],[0.1111111111111111,\"#46039f\"],[0.2222222222222222,\"#7201a8\"],[0.3333333333333333,\"#9c179e\"],[0.4444444444444444,\"#bd3786\"],[0.5555555555555556,\"#d8576b\"],[0.6666666666666666,\"#ed7953\"],[0.7777777777777778,\"#fb9f3a\"],[0.8888888888888888,\"#fdca26\"],[1.0,\"#f0f921\"]],\"type\":\"heatmap\"}],\"histogram2dcontour\":[{\"colorbar\":{\"outlinewidth\":0,\"ticks\":\"\"},\"colorscale\":[[0.0,\"#0d0887\"],[0.1111111111111111,\"#46039f\"],[0.2222222222222222,\"#7201a8\"],[0.3333333333333333,\"#9c179e\"],[0.4444444444444444,\"#bd3786\"],[0.5555555555555556,\"#d8576b\"],[0.6666666666666666,\"#ed7953\"],[0.7777777777777778,\"#fb9f3a\"],[0.8888888888888888,\"#fdca26\"],[1.0,\"#f0f921\"]],\"type\":\"histogram2dcontour\"}],\"histogram2d\":[{\"colorbar\":{\"outlinewidth\":0,\"ticks\":\"\"},\"colorscale\":[[0.0,\"#0d0887\"],[0.1111111111111111,\"#46039f\"],[0.2222222222222222,\"#7201a8\"],[0.3333333333333333,\"#9c179e\"],[0.4444444444444444,\"#bd3786\"],[0.5555555555555556,\"#d8576b\"],[0.6666666666666666,\"#ed7953\"],[0.7777777777777778,\"#fb9f3a\"],[0.8888888888888888,\"#fdca26\"],[1.0,\"#f0f921\"]],\"type\":\"histogram2d\"}],\"histogram\":[{\"marker\":{\"pattern\":{\"fillmode\":\"overlay\",\"size\":10,\"solidity\":0.2}},\"type\":\"histogram\"}],\"mesh3d\":[{\"colorbar\":{\"outlinewidth\":0,\"ticks\":\"\"},\"type\":\"mesh3d\"}],\"parcoords\":[{\"line\":{\"colorbar\":{\"outlinewidth\":0,\"ticks\":\"\"}},\"type\":\"parcoords\"}],\"pie\":[{\"automargin\":true,\"type\":\"pie\"}],\"scatter3d\":[{\"line\":{\"colorbar\":{\"outlinewidth\":0,\"ticks\":\"\"}},\"marker\":{\"colorbar\":{\"outlinewidth\":0,\"ticks\":\"\"}},\"type\":\"scatter3d\"}],\"scattercarpet\":[{\"marker\":{\"colorbar\":{\"outlinewidth\":0,\"ticks\":\"\"}},\"type\":\"scattercarpet\"}],\"scattergeo\":[{\"marker\":{\"colorbar\":{\"outlinewidth\":0,\"ticks\":\"\"}},\"type\":\"scattergeo\"}],\"scattergl\":[{\"marker\":{\"colorbar\":{\"outlinewidth\":0,\"ticks\":\"\"}},\"type\":\"scattergl\"}],\"scattermapbox\":[{\"marker\":{\"colorbar\":{\"outlinewidth\":0,\"ticks\":\"\"}},\"type\":\"scattermapbox\"}],\"scattermap\":[{\"marker\":{\"colorbar\":{\"outlinewidth\":0,\"ticks\":\"\"}},\"type\":\"scattermap\"}],\"scatterpolargl\":[{\"marker\":{\"colorbar\":{\"outlinewidth\":0,\"ticks\":\"\"}},\"type\":\"scatterpolargl\"}],\"scatterpolar\":[{\"marker\":{\"colorbar\":{\"outlinewidth\":0,\"ticks\":\"\"}},\"type\":\"scatterpolar\"}],\"scatter\":[{\"fillpattern\":{\"fillmode\":\"overlay\",\"size\":10,\"solidity\":0.2},\"type\":\"scatter\"}],\"scatterternary\":[{\"marker\":{\"colorbar\":{\"outlinewidth\":0,\"ticks\":\"\"}},\"type\":\"scatterternary\"}],\"surface\":[{\"colorbar\":{\"outlinewidth\":0,\"ticks\":\"\"},\"colorscale\":[[0.0,\"#0d0887\"],[0.1111111111111111,\"#46039f\"],[0.2222222222222222,\"#7201a8\"],[0.3333333333333333,\"#9c179e\"],[0.4444444444444444,\"#bd3786\"],[0.5555555555555556,\"#d8576b\"],[0.6666666666666666,\"#ed7953\"],[0.7777777777777778,\"#fb9f3a\"],[0.8888888888888888,\"#fdca26\"],[1.0,\"#f0f921\"]],\"type\":\"surface\"}],\"table\":[{\"cells\":{\"fill\":{\"color\":\"#EBF0F8\"},\"line\":{\"color\":\"white\"}},\"header\":{\"fill\":{\"color\":\"#C8D4E3\"},\"line\":{\"color\":\"white\"}},\"type\":\"table\"}]},\"layout\":{\"annotationdefaults\":{\"arrowcolor\":\"#2a3f5f\",\"arrowhead\":0,\"arrowwidth\":1},\"autotypenumbers\":\"strict\",\"coloraxis\":{\"colorbar\":{\"outlinewidth\":0,\"ticks\":\"\"}},\"colorscale\":{\"diverging\":[[0,\"#8e0152\"],[0.1,\"#c51b7d\"],[0.2,\"#de77ae\"],[0.3,\"#f1b6da\"],[0.4,\"#fde0ef\"],[0.5,\"#f7f7f7\"],[0.6,\"#e6f5d0\"],[0.7,\"#b8e186\"],[0.8,\"#7fbc41\"],[0.9,\"#4d9221\"],[1,\"#276419\"]],\"sequential\":[[0.0,\"#0d0887\"],[0.1111111111111111,\"#46039f\"],[0.2222222222222222,\"#7201a8\"],[0.3333333333333333,\"#9c179e\"],[0.4444444444444444,\"#bd3786\"],[0.5555555555555556,\"#d8576b\"],[0.6666666666666666,\"#ed7953\"],[0.7777777777777778,\"#fb9f3a\"],[0.8888888888888888,\"#fdca26\"],[1.0,\"#f0f921\"]],\"sequentialminus\":[[0.0,\"#0d0887\"],[0.1111111111111111,\"#46039f\"],[0.2222222222222222,\"#7201a8\"],[0.3333333333333333,\"#9c179e\"],[0.4444444444444444,\"#bd3786\"],[0.5555555555555556,\"#d8576b\"],[0.6666666666666666,\"#ed7953\"],[0.7777777777777778,\"#fb9f3a\"],[0.8888888888888888,\"#fdca26\"],[1.0,\"#f0f921\"]]},\"colorway\":[\"#636efa\",\"#EF553B\",\"#00cc96\",\"#ab63fa\",\"#FFA15A\",\"#19d3f3\",\"#FF6692\",\"#B6E880\",\"#FF97FF\",\"#FECB52\"],\"font\":{\"color\":\"#2a3f5f\"},\"geo\":{\"bgcolor\":\"white\",\"lakecolor\":\"white\",\"landcolor\":\"white\",\"showlakes\":true,\"showland\":true,\"subunitcolor\":\"#C8D4E3\"},\"hoverlabel\":{\"align\":\"left\"},\"hovermode\":\"closest\",\"mapbox\":{\"style\":\"light\"},\"paper_bgcolor\":\"white\",\"plot_bgcolor\":\"white\",\"polar\":{\"angularaxis\":{\"gridcolor\":\"#EBF0F8\",\"linecolor\":\"#EBF0F8\",\"ticks\":\"\"},\"bgcolor\":\"white\",\"radialaxis\":{\"gridcolor\":\"#EBF0F8\",\"linecolor\":\"#EBF0F8\",\"ticks\":\"\"}},\"scene\":{\"xaxis\":{\"backgroundcolor\":\"white\",\"gridcolor\":\"#DFE8F3\",\"gridwidth\":2,\"linecolor\":\"#EBF0F8\",\"showbackground\":true,\"ticks\":\"\",\"zerolinecolor\":\"#EBF0F8\"},\"yaxis\":{\"backgroundcolor\":\"white\",\"gridcolor\":\"#DFE8F3\",\"gridwidth\":2,\"linecolor\":\"#EBF0F8\",\"showbackground\":true,\"ticks\":\"\",\"zerolinecolor\":\"#EBF0F8\"},\"zaxis\":{\"backgroundcolor\":\"white\",\"gridcolor\":\"#DFE8F3\",\"gridwidth\":2,\"linecolor\":\"#EBF0F8\",\"showbackground\":true,\"ticks\":\"\",\"zerolinecolor\":\"#EBF0F8\"}},\"shapedefaults\":{\"line\":{\"color\":\"#2a3f5f\"}},\"ternary\":{\"aaxis\":{\"gridcolor\":\"#DFE8F3\",\"linecolor\":\"#A2B1C6\",\"ticks\":\"\"},\"baxis\":{\"gridcolor\":\"#DFE8F3\",\"linecolor\":\"#A2B1C6\",\"ticks\":\"\"},\"bgcolor\":\"white\",\"caxis\":{\"gridcolor\":\"#DFE8F3\",\"linecolor\":\"#A2B1C6\",\"ticks\":\"\"}},\"title\":{\"x\":0.05},\"xaxis\":{\"automargin\":true,\"gridcolor\":\"#EBF0F8\",\"linecolor\":\"#EBF0F8\",\"ticks\":\"\",\"title\":{\"standoff\":15},\"zerolinecolor\":\"#EBF0F8\",\"zerolinewidth\":2},\"yaxis\":{\"automargin\":true,\"gridcolor\":\"#EBF0F8\",\"linecolor\":\"#EBF0F8\",\"ticks\":\"\",\"title\":{\"standoff\":15},\"zerolinecolor\":\"#EBF0F8\",\"zerolinewidth\":2}}},\"title\":{\"text\":\"Population Pyramid Over Time For China\"},\"updatemenus\":[{\"buttons\":[{\"args\":[null,{\"frame\":{\"duration\":500,\"redraw\":true},\"fromcurrent\":true}],\"label\":\"Play\",\"method\":\"animate\"},{\"args\":[[null],{\"frame\":{\"duration\":0,\"redraw\":true},\"mode\":\"immediate\",\"transition\":{\"duration\":0}}],\"label\":\"Pause\",\"method\":\"animate\"}],\"direction\":\"left\",\"pad\":{\"r\":10,\"t\":30},\"showactive\":false,\"type\":\"buttons\",\"x\":0.1,\"xanchor\":\"right\",\"y\":1.25,\"yanchor\":\"top\"}],\"xaxis\":{\"showgrid\":true,\"tickformat\":\",\",\"title\":{\"text\":\"Population\"}},\"yaxis\":{\"range\":[-2,87.5],\"title\":{\"text\":\"Age\"}}},                        {\"responsive\": true}                    ).then(function(){\n",
       "                            Plotly.addFrames('fdf604d3-ceaa-4ee4-a4f6-8d61f118b03d', [{\"data\":[{\"x\":{\"dtype\":\"f8\",\"bdata\":\"AAAA2HuEiEEAAABIfeOHQQAAADgCj4FBAAAAALaue0EAAADwf8p6QQAAABDSO3lBAAAAYKnQdUEAAAAAgj5zQQAAAMATo3BBAAAAABu0bUEAAABAdwlpQQAAAKDmwmRBAAAAwFz6XUEAAAAAetxUQQAAAICYGUlBAAAAAMRVJ0E=\"},\"y\":[2.5,7.5,12.5,17.5,22.5,27.5,32.5,37.5,42.5,47.5,52.5,57.5,62.5,67.5,72.5,77.5,82.5],\"type\":\"bar\"},{\"x\":{\"dtype\":\"f8\",\"bdata\":\"AAAACAlYh8EAAABYgsqGwQAAAMAZMoDBAAAAgKzAeMEAAADAp3N3wQAAABBOsXbBAAAA0B77c8EAAACQyiVywQAAACCIF3DBAAAA4PHCbMEAAACgKrppwQAAACAcG2bBAAAAwNKQYMEAAADA5Y5ZwQAAAEAMGVHBAAAAAD+sNsE=\"},\"y\":[2.5,7.5,12.5,17.5,22.5,27.5,32.5,37.5,42.5,47.5,52.5,57.5,62.5,67.5,72.5,77.5,82.5],\"type\":\"bar\"}],\"name\":\"1960\"},{\"data\":[{\"x\":{\"dtype\":\"f8\",\"bdata\":\"AAAAKE8nhkEAAABYTxKIQQAAAFCGZ4JBAAAAAL3Ge0EAAAAA2mp6QQAAALATVXlBAAAA0E\\u002f2dUEAAABAxT1zQQAAANC5l3BBAAAAIHmzbUEAAABAYKZoQQAAAADOlWRBAAAAgA+OXUEAAACAoXRUQQAAAADu40dBAAAAANTEJUE=\"},\"y\":[2.5,7.5,12.5,17.5,22.5,27.5,32.5,37.5,42.5,47.5,52.5,57.5,62.5,67.5,72.5,77.5,82.5],\"type\":\"bar\"},{\"x\":{\"dtype\":\"f8\",\"bdata\":\"AAAA8AYRhcEAAAA48fGGwQAAAEBtKYHBAAAAYL0LecEAAAAAYhZ3wQAAAIA8y3bBAAAAcLALdMEAAADQNBhywQAAAMDWCHDBAAAAoA3mbMEAAACAIEJpwQAAAEC1ImbBAAAAoA2FYMEAAACAokhZwQAAAMDzf1DBAAAAAHevNcE=\"},\"y\":[2.5,7.5,12.5,17.5,22.5,27.5,32.5,37.5,42.5,47.5,52.5,57.5,62.5,67.5,72.5,77.5,82.5],\"type\":\"bar\"}],\"name\":\"1961\"},{\"data\":[{\"x\":{\"dtype\":\"f8\",\"bdata\":\"AAAA8A1ahUEAAACAyz+IQQAAANjvfYNBAAAAYHuEfEEAAABQhjV6QQAAALDelHlBAAAAQApNdkEAAACwHm9zQQAAADA5uHBBAAAAwPr2bUEAAADgU6RoQQAAAAAYjmRBAAAAgLfdXUEAAACAtl5UQQAAAIB0hEdBAAAAAJZXJUE=\"},\"y\":[2.5,7.5,12.5,17.5,22.5,27.5,32.5,37.5,42.5,47.5,52.5,57.5,62.5,67.5,72.5,77.5,82.5],\"type\":\"bar\"},{\"x\":{\"dtype\":\"f8\",\"bdata\":\"AAAAYOhMhMEAAADAohWHwQAAADjmYYLBAAAAIIDUecEAAACQ4gB3wQAAAFDM63bBAAAA0DVNdMEAAACQajFywQAAACArGnDBAAAAADBRbcEAAABAqhxpwQAAAMCHO2bBAAAAYGXfYMEAAAAAn0dZwQAAAMDdbFDBAAAAAEezNcE=\"},\"y\":[2.5,7.5,12.5,17.5,22.5,27.5,32.5,37.5,42.5,47.5,52.5,57.5,62.5,67.5,72.5,77.5,82.5],\"type\":\"bar\"}],\"name\":\"1962\"},{\"data\":[{\"x\":{\"dtype\":\"f8\",\"bdata\":\"AAAA+GXdhkEAAAAoCTOIQQAAAHhhoYRBAAAA8DvMfUEAAADwjgF6QQAAAJA6onlBAAAAgOTDdkEAAABAfNJzQQAAABCY\\u002fHBBAAAA4LgObkEAAADgJ\\u002f5oQQAAAGDIlmRBAAAAgOqUXkEAAAAATWVUQQAAAIB+rUdBAAAAADBrJUE=\"},\"y\":[2.5,7.5,12.5,17.5,22.5,27.5,32.5,37.5,42.5,47.5,52.5,57.5,62.5,67.5,72.5,77.5,82.5],\"type\":\"bar\"},{\"x\":{\"dtype\":\"f8\",\"bdata\":\"AAAA0GC\\u002fhcEAAAAwDwGHwQAAAHAwooPBAAAAMNYde8EAAAAQQgB3wQAAAGDI0HbBAAAA0CCodMEAAAAwJHVywQAAANCyTXDBAAAAoJOGbcEAAAAAu0hpwQAAAIBrWWbBAAAAwE1xYcEAAAAAE1ZZwQAAAAAVs1DBAAAAANEgNsE=\"},\"y\":[2.5,7.5,12.5,17.5,22.5,27.5,32.5,37.5,42.5,47.5,52.5,57.5,62.5,67.5,72.5,77.5,82.5],\"type\":\"bar\"}],\"name\":\"1963\"},{\"data\":[{\"x\":{\"dtype\":\"f8\",\"bdata\":\"AAAAgExkiUEAAADIXFSHQQAAAJjdjoVBAAAAYA1Bf0EAAABQpet5QQAAAJARVnlBAAAAEPYzd0EAAAAQkA50QQAAANDdV3FBAAAAYKjebUEAAADAxXFpQQAAAIAArWRBAAAAQLdkX0EAAAAAeFBUQQAAAIDS3EdBAAAAABI9JUE=\"},\"y\":[2.5,7.5,12.5,17.5,22.5,27.5,32.5,37.5,42.5,47.5,52.5,57.5,62.5,67.5,72.5,77.5,82.5],\"type\":\"bar\"},{\"x\":{\"dtype\":\"f8\",\"bdata\":\"AAAAcJwniMEAAAC4YCeGwQAAACDxnYTBAAAAcHurfMEAAADQOBZ3wQAAAHBJaXbBAAAAEAr9dMEAAAAwqpRywQAAAGAhlnDBAAAA4MtubcEAAACgmYtpwQAAACBee2bBAAAAQHkOYsEAAAAA10xZwQAAAECeA1HBAAAAABlKNsE=\"},\"y\":[2.5,7.5,12.5,17.5,22.5,27.5,32.5,37.5,42.5,47.5,52.5,57.5,62.5,67.5,72.5,77.5,82.5],\"type\":\"bar\"}],\"name\":\"1964\"},{\"data\":[{\"x\":{\"dtype\":\"f8\",\"bdata\":\"AAAAACsOjEEAAABQJe2FQQAAADjEboZBAAAAmCKagEEAAAAQxR96QQAAAMATI3lBAAAAIEScd0EAAABQA1d0QQAAAIDfvXFBAAAAIFEMbkEAAADAZflpQQAAAKA842RBAAAAwPEYYEEAAABAB25UQQAAAABiR0hBAAAAACgTJUE=\"},\"y\":[2.5,7.5,12.5,17.5,22.5,27.5,32.5,37.5,42.5,47.5,52.5,57.5,62.5,67.5,72.5,77.5,82.5],\"type\":\"bar\"},{\"x\":{\"dtype\":\"f8\",\"bdata\":\"AAAAADyuisEAAADg2M+EwQAAAKgGeoXBAAAAYGLFfsEAAACgdnF3wQAAAABPG3bBAAAAoDRbdcEAAAAQV75ywQAAAJAH5nDBAAAA4I+ebcEAAADgTflpwQAAAOBppGbBAAAAACinYsEAAACAS5VZwQAAAABteVHBAAAAAExzNsE=\"},\"y\":[2.5,7.5,12.5,17.5,22.5,27.5,32.5,37.5,42.5,47.5,52.5,57.5,62.5,67.5,72.5,77.5,82.5],\"type\":\"bar\"}],\"name\":\"1965\"},{\"data\":[{\"x\":{\"dtype\":\"f8\",\"bdata\":\"AAAAWI7ojkEAAAAQ2ZSEQQAAAPhCFodBAAAAGJm6gUEAAACQcqt6QQAAAGCwN3lBAAAAsCUfeEEAAADgfNp0QQAAAHB\\u002fF3JBAAAAoASibkEAAADg35tqQQAAAIB3I2VBAAAAAJl0YEEAAACAV\\u002fFUQQAAAACD6EhBAAAAANpGJUE=\"},\"y\":[2.5,7.5,12.5,17.5,22.5,27.5,32.5,37.5,42.5,47.5,52.5,57.5,62.5,67.5,72.5,77.5,82.5],\"type\":\"bar\"},{\"x\":{\"dtype\":\"f8\",\"bdata\":\"AAAAeMdgjcEAAAAwbYmDwQAAAOhiFIbBAAAAeF6cgMEAAACwZiB4wQAAAACRIHbBAAAA0L7PdcEAAADgUCBzwQAAACDIJnHBAAAAgA4WbsEAAACgTKVqwQAAAMBnvmbBAAAAIKwqY8EAAADA+GNawQAAAMDcAlLBAAAAALnYNsE=\"},\"y\":[2.5,7.5,12.5,17.5,22.5,27.5,32.5,37.5,42.5,47.5,52.5,57.5,62.5,67.5,72.5,77.5,82.5],\"type\":\"bar\"}],\"name\":\"1966\"},{\"data\":[{\"x\":{\"dtype\":\"f8\",\"bdata\":\"AAAA8PU6kEEAAABAGyWEQQAAACh1f4dBAAAAYK\\u002f3gkEAAAAQyK97QQAAAJBxS3lBAAAAMJKdeEEAAAAwPmV1QQAAAADbeHJBAAAA4MI9b0EAAADg7jJrQQAAACC1dGVBAAAAgLq1YEEAAAAAwKJVQQAAAID2d0lBAAAAANrRJUE=\"},\"y\":[2.5,7.5,12.5,17.5,22.5,27.5,32.5,37.5,42.5,47.5,52.5,57.5,62.5,67.5,72.5,77.5,82.5],\"type\":\"bar\"},{\"x\":{\"dtype\":\"f8\",\"bdata\":\"AAAAKKPWjsEAAAAAISGDwQAAAPiecIbBAAAA+Cr6gcEAAADQVip5wQAAAMC3SnbBAAAAsIgodsEAAABw949zwQAAAMBLanHBAAAAAFyHbsEAAADgIFRrwQAAAACa4WbBAAAA4GJ\\u002fY8EAAAAAY2xbwQAAAADiZlLBAAAAAMlpN8E=\"},\"y\":[2.5,7.5,12.5,17.5,22.5,27.5,32.5,37.5,42.5,47.5,52.5,57.5,62.5,67.5,72.5,77.5,82.5],\"type\":\"bar\"}],\"name\":\"1967\"},{\"data\":[{\"x\":{\"dtype\":\"f8\",\"bdata\":\"AAAAPFE+kEEAAAAoTqCFQQAAANgMlIdBAAAAIAkyhEEAAABgYyV9QQAAACDVSnlBAAAA8BbXeEEAAACg\\u002ffx1QQAAAPBa+HJBAAAAYBf7b0EAAADASoJrQQAAACCa+WVBAAAAwOjrYEEAAADAA3dWQQAAAACU90lBAAAAANiNJkE=\"},\"y\":[2.5,7.5,12.5,17.5,22.5,27.5,32.5,37.5,42.5,47.5,52.5,57.5,62.5,67.5,72.5,77.5,82.5],\"type\":\"bar\"},{\"x\":{\"dtype\":\"f8\",\"bdata\":\"AAAASCTZjsEAAADgEIuEwQAAAGgOe4bBAAAAoFxRg8EAAAAw6Z96wQAAAICEd3bBAAAAgFw2dsEAAADAVwl0wQAAALAAyHHBAAAAwPwcb8EAAADAwbVrwQAAAOAbNGfBAAAAALq9Y8EAAADAf55cwQAAAAD\\u002frlLBAAAAADQrOME=\"},\"y\":[2.5,7.5,12.5,17.5,22.5,27.5,32.5,37.5,42.5,47.5,52.5,57.5,62.5,67.5,72.5,77.5,82.5],\"type\":\"bar\"}],\"name\":\"1968\"},{\"data\":[{\"x\":{\"dtype\":\"f8\",\"bdata\":\"AAAAEKVJkEEAAAAYojqIQQAAAAgI6IZBAAAAiOdBhUEAAACwXdN+QQAAANAfdXlBAAAAYEzKeEEAAAAgFZ92QQAAAEAKYHNBAAAAsEV9cEEAAABgFaNrQQAAAMDipWZBAAAAQCk7YUEAAADA4GtXQQAAAABtZ0pBAAAAAPJGJ0E=\"},\"y\":[2.5,7.5,12.5,17.5,22.5,27.5,32.5,37.5,42.5,47.5,52.5,57.5,62.5,67.5,72.5,77.5,82.5],\"type\":\"bar\"},{\"x\":{\"dtype\":\"f8\",\"bdata\":\"AAAA+EvqjsEAAACIvgOHwQAAAOhm0IXBAAAA4EZuhMEAAAAA32N8wQAAALCLx3bBAAAAwOAIdsEAAADQlYx0wQAAALDED3LBAAAAIFrwb8EAAADAjuFrwQAAAEDsq2fBAAAA4OwNZMEAAADA1vRdwQAAAAAE8lLBAAAAAPX5OME=\"},\"y\":[2.5,7.5,12.5,17.5,22.5,27.5,32.5,37.5,42.5,47.5,52.5,57.5,62.5,67.5,72.5,77.5,82.5],\"type\":\"bar\"}],\"name\":\"1969\"},{\"data\":[{\"x\":{\"dtype\":\"f8\",\"bdata\":\"AAAAsDCCkEEAAAAoqP2KQQAAAGidooVBAAAAQFE3hkEAAAB4dnWAQQAAANDO1XlBAAAAIN3EeEEAAADQEix3QQAAAICpx3NBAAAAkGn9cEEAAACgbAlsQQAAACC6VmdBAAAA4J+bYUEAAAAApVNYQQAAAACGDktBAAAAAB7hJ0E=\"},\"y\":[2.5,7.5,12.5,17.5,22.5,27.5,32.5,37.5,42.5,47.5,52.5,57.5,62.5,67.5,72.5,77.5,82.5],\"type\":\"bar\"},{\"x\":{\"dtype\":\"f8\",\"bdata\":\"AAAA0O5Qj8EAAAAQPqCJwQAAAAA2l4TBAAAA0MhehcEAAABgs6F+wQAAABDUS3fBAAAAoNvkdcEAAABAcAx1wQAAAHDjVXLBAAAAUA9fcMEAAADg2D5swQAAAKCOPGjBAAAAQN1XZMEAAAAA6zFfwQAAAEC6Z1PBAAAAACO5OcE=\"},\"y\":[2.5,7.5,12.5,17.5,22.5,27.5,32.5,37.5,42.5,47.5,52.5,57.5,62.5,67.5,72.5,77.5,82.5],\"type\":\"bar\"}],\"name\":\"1970\"},{\"data\":[{\"x\":{\"dtype\":\"f8\",\"bdata\":\"AAAAEGe4kEEAAADgXt+NQQAAAPjyVoRBAAAA6L7ihkEAAACARZaBQQAAADBwaHpBAAAAQNTjeEEAAAAwH7d3QQAAAOAlUnRBAAAAYPxfcUEAAAAgRbVsQQAAAGBTCmhBAAAAQMT1YUEAAAAARR1ZQQAAAIARLkxBAAAAAB6CKEE=\"},\"y\":[2.5,7.5,12.5,17.5,22.5,27.5,32.5,37.5,42.5,47.5,52.5,57.5,62.5,67.5,72.5,77.5,82.5],\"type\":\"bar\"},{\"x\":{\"dtype\":\"f8\",\"bdata\":\"AAAAWBCzj8EAAACwlliMwQAAAGjJWoPBAAAAMO37hcEAAADQMouAwQAAAOCI\\u002f3fBAAAA8KfydcEAAACA2Id1wQAAAMDVvXLBAAAAgCmmcMEAAACA1MRswQAAAIA38WjBAAAAgHGCZMEAAABAGRpgwQAAAEDzNFTBAAAAADSHOsE=\"},\"y\":[2.5,7.5,12.5,17.5,22.5,27.5,32.5,37.5,42.5,47.5,52.5,57.5,62.5,67.5,72.5,77.5,82.5],\"type\":\"bar\"}],\"name\":\"1971\"},{\"data\":[{\"x\":{\"dtype\":\"f8\",\"bdata\":\"AAAAHH\\u002fkkEEAAACY5X2PQQAAANjb7oNBAAAAwIlQh0EAAACArs+CQQAAAFA9YntBAAAAoOjyeEEAAADwDDN4QQAAAGCb3HRBAAAAQDTFcUEAAADAuWBtQQAAACDLsGhBAAAAIBBdYkEAAACATcFZQQAAAABdjE1BAAAAAE6HKUE=\"},\"y\":[2.5,7.5,12.5,17.5,22.5,27.5,32.5,37.5,42.5,47.5,52.5,57.5,62.5,67.5,72.5,77.5,82.5],\"type\":\"bar\"},{\"x\":{\"dtype\":\"f8\",\"bdata\":\"AAAA\\u002fPcAkMEAAACAv96NwQAAANCn94LBAAAAaB5bhsEAAADAIeWBwQAAAFBA\\u002fHjBAAAAcC4VdsEAAAAwId11wQAAADBoLHPBAAAAQL7rcMEAAADA2j9twQAAAACKpmnBAAAAII20ZMEAAADAY3RgwQAAAIA6LlXBAAAAALmwO8E=\"},\"y\":[2.5,7.5,12.5,17.5,22.5,27.5,32.5,37.5,42.5,47.5,52.5,57.5,62.5,67.5,72.5,77.5,82.5],\"type\":\"bar\"}],\"name\":\"1972\"},{\"data\":[{\"x\":{\"dtype\":\"f8\",\"bdata\":\"AAAA2LDQkEEAAAAYApmPQQAAAHC2bYVBAAAA8AJth0EAAABYmgmEQQAAAHCWznxBAAAAYBnveEEAAACAu2x4QQAAADChdXVBAAAAMJJIckEAAABg9SxuQQAAAKBsGGlBAAAAwJbzYkEAAACAqlpaQQAAAIDYHE9BAAAAAKr0KkE=\"},\"y\":[2.5,7.5,12.5,17.5,22.5,27.5,32.5,37.5,42.5,47.5,52.5,57.5,62.5,67.5,72.5,77.5,82.5],\"type\":\"bar\"},{\"x\":{\"dtype\":\"f8\",\"bdata\":\"AAAAWC\\u002fXj8EAAACg6vWNwQAAANB1Y4TBAAAAcI9rhsEAAAAAwjuDwQAAANCUZnrBAAAAcHQ7dsEAAABQ9ul1wQAAABCFpnPBAAAAAHxMccEAAADAaOBtwQAAAOBJF2rBAAAAAOQWZcEAAAAA5cBgwQAAAMCGTVbBAAAAAP1YPcE=\"},\"y\":[2.5,7.5,12.5,17.5,22.5,27.5,32.5,37.5,42.5,47.5,52.5,57.5,62.5,67.5,72.5,77.5,82.5],\"type\":\"bar\"}],\"name\":\"1973\"},{\"data\":[{\"x\":{\"dtype\":\"f8\",\"bdata\":\"AAAAXDdgkEEAAADgBruPQQAAAACXBohBAAAAuMHFhkEAAACYMxqFQQAAAPB1e35BAAAAwBodeUEAAABwFWV4QQAAAEBvGnZBAAAAgLe0ckEAAADgUTVvQQAAAAAiU2lBAAAAoOKqY0EAAADAdhlbQQAAAADmZlBBAAAAAEB\\u002fLEE=\"},\"y\":[2.5,7.5,12.5,17.5,22.5,27.5,32.5,37.5,42.5,47.5,52.5,57.5,62.5,67.5,72.5,77.5,82.5],\"type\":\"bar\"},{\"x\":{\"dtype\":\"f8\",\"bdata\":\"AAAAmLn8jsEAAABImROOwQAAANj42obBAAAAaMnDhcEAAAAY41mEwQAAABAVKnzBAAAAMJqNdsEAAABQHMF1wQAAAPDJLHTBAAAAwG+YccEAAADgc7tuwQAAAEBbVGrBAAAAgJGcZcEAAAAAFR5hwQAAAMD3h1fBAAAAAABCP8E=\"},\"y\":[2.5,7.5,12.5,17.5,22.5,27.5,32.5,37.5,42.5,47.5,52.5,57.5,62.5,67.5,72.5,77.5,82.5],\"type\":\"bar\"}],\"name\":\"1974\"},{\"data\":[{\"x\":{\"dtype\":\"f8\",\"bdata\":\"AAAA4C5aj0EAAADAZReQQQAAAIAAwIpBAAAAAB9+hUEAAACIcAmGQQAAAAgFRIBBAAAAEP14eUEAAACQnVx4QQAAAKDSonZBAAAAEO0Zc0EAAADAPBlwQQAAAOC\\u002fw2lBAAAA4FFcZEEAAACAUeZbQQAAAEDqK1FBAAAAAOYVLkE=\"},\"y\":[2.5,7.5,12.5,17.5,22.5,27.5,32.5,37.5,42.5,47.5,52.5,57.5,62.5,67.5,72.5,77.5,82.5],\"type\":\"bar\"},{\"x\":{\"dtype\":\"f8\",\"bdata\":\"AAAAKI+kjcEAAABoYX6OwQAAAGgjcInBAAAAWK2GhMEAAACY+ESFwQAAAADOX37BAAAAoA8Nd8EAAACQA5t1wQAAABBHqXTBAAAA4BXdccEAAACAuoZvwQAAAICPt2rBAAAA4HwxZsEAAADgiHBhwQAAAEA4pljBAAAAgNegQME=\"},\"y\":[2.5,7.5,12.5,17.5,22.5,27.5,32.5,37.5,42.5,47.5,52.5,57.5,62.5,67.5,72.5,77.5,82.5],\"type\":\"bar\"}],\"name\":\"1975\"},{\"data\":[{\"x\":{\"dtype\":\"f8\",\"bdata\":\"AAAAmMiqjUEAAAAo1kqQQQAAADAWjY1BAAAAUDQqhEEAAAAgCqiGQQAAAKgNWoFBAAAAsA3\\u002feUEAAABA83B4QQAAAGC7IXdBAAAAUJ2Zc0EAAAAg73RwQQAAAOD9aGpBAAAAYCIEZUEAAABAq5lcQQAAAACg01FBAAAAAJq9L0E=\"},\"y\":[2.5,7.5,12.5,17.5,22.5,27.5,32.5,37.5,42.5,47.5,52.5,57.5,62.5,67.5,72.5,77.5,82.5],\"type\":\"bar\"},{\"x\":{\"dtype\":\"f8\",\"bdata\":\"AAAAmK4HjMEAAADAzduOwQAAADhsF4zBAAAAALVAg8EAAACgBNaFwQAAABh4YYDBAAAA0DK1d8EAAADQLKB1wQAAABC2GnXBAAAAAI88csEAAABQVARwwQAAACD2NmvBAAAAwKvcZsEAAABAN6BhwQAAAAALi1nBAAAAAMacQcE=\"},\"y\":[2.5,7.5,12.5,17.5,22.5,27.5,32.5,37.5,42.5,47.5,52.5,57.5,62.5,67.5,72.5,77.5,82.5],\"type\":\"bar\"}],\"name\":\"1976\"},{\"data\":[{\"x\":{\"dtype\":\"f8\",\"bdata\":\"AAAA2FT3i0EAAACoqXeQQQAAAPDGG49BAAAAYC67g0EAAADAsgyHQQAAANhoioJBAAAAUNzuekEAAAAAwHl4QQAAAKDFlHdBAAAAUDwbdEEAAACQFtRwQQAAAKDkDmtBAAAAwFSgZUEAAACA6mFdQQAAAECWYVJBAAAAAAjFMEE=\"},\"y\":[2.5,7.5,12.5,17.5,22.5,27.5,32.5,37.5,42.5,47.5,52.5,57.5,62.5,67.5,72.5,77.5,82.5],\"type\":\"bar\"},{\"x\":{\"dtype\":\"f8\",\"bdata\":\"AAAAYF1nisEAAAAwKCyPwQAAAJi8kI3BAAAACELWgsEAAAAAlSyGwQAAAKBKtIHBAAAAAHqpeMEAAADAhr11wQAAABCbaXXBAAAAkMSkcsEAAABgaUVwwQAAACBKrmvBAAAAAHGJZ8EAAAAA2NdhwQAAAMAMM1rBAAAAAL2aQsE=\"},\"y\":[2.5,7.5,12.5,17.5,22.5,27.5,32.5,37.5,42.5,47.5,52.5,57.5,62.5,67.5,72.5,77.5,82.5],\"type\":\"bar\"}],\"name\":\"1977\"},{\"data\":[{\"x\":{\"dtype\":\"f8\",\"bdata\":\"AAAASHtOikEAAABgO2mQQQAAAJiYMo9BAAAA6OoyhUEAAAAY3iaHQQAAAKC4v4NBAAAAwA1WfEEAAACA23Z4QQAAADCjzXdBAAAAcGewdEEAAACA9lNxQQAAACDL2GtBAAAA4IwLZkEAAAAAeX9eQQAAAABW71JBAAAAANjFMUE=\"},\"y\":[2.5,7.5,12.5,17.5,22.5,27.5,32.5,37.5,42.5,47.5,52.5,57.5,62.5,67.5,72.5,77.5,82.5],\"type\":\"bar\"},{\"x\":{\"dtype\":\"f8\",\"bdata\":\"AAAAWL3QiMEAAACgiQyPwQAAAFDapI3BAAAAcG08hMEAAAB44jqGwQAAABgMCIPBAAAAIKIQesEAAABQpOR1wQAAAIBnd3XBAAAA0E8dc8EAAADg56RwwQAAACBXT2zBAAAA4FH9Z8EAAABAEj9iwQAAAMC6zFrBAAAAAF+xQ8E=\"},\"y\":[2.5,7.5,12.5,17.5,22.5,27.5,32.5,37.5,42.5,47.5,52.5,57.5,62.5,67.5,72.5,77.5,82.5],\"type\":\"bar\"}],\"name\":\"1978\"},{\"data\":[{\"x\":{\"dtype\":\"f8\",\"bdata\":\"AAAA6FcRiUEAAADQo\\u002f6PQQAAAPgTUI9BAAAAuArBh0EAAABYHH+GQQAAAKCpy4RBAAAAQMb7fUEAAADQtKR4QQAAAICvxndBAAAAMMpQdUEAAABAmr1xQQAAAACh2WxBAAAAIJhRZkEAAAAAS9VfQQAAAMBknFNBAAAAAIa+MkE=\"},\"y\":[2.5,7.5,12.5,17.5,22.5,27.5,32.5,37.5,42.5,47.5,52.5,57.5,62.5,67.5,72.5,77.5,82.5],\"type\":\"bar\"},{\"x\":{\"dtype\":\"f8\",\"bdata\":\"AAAAQECfh8EAAABQnz+OwQAAAADdvo3BAAAAkKqrhsEAAAAgAJKFwQAAANjUIoTBAAAA8DTPe8EAAAAgdjZ2wQAAAJBDUHXBAAAAYDuhc8EAAABA9O9wwQAAAMAbJm3BAAAAAKxBaMEAAADgVcViwQAAAIA9gFvBAAAAAMDMRME=\"},\"y\":[2.5,7.5,12.5,17.5,22.5,27.5,32.5,37.5,42.5,47.5,52.5,57.5,62.5,67.5,72.5,77.5,82.5],\"type\":\"bar\"}],\"name\":\"1979\"},{\"data\":[{\"x\":{\"dtype\":\"f8\",\"bdata\":\"AAAAmBd3iEEAAAD4haCOQQAAAHhbt49BAAAAyJ9oikEAAAAg3jOFQQAAABixsIVBAAAAwFv3f0EAAABANPl4QQAAAMA8uXdBAAAAkHDQdUEAAAAwYxxyQQAAAKAhyW1BAAAAAO7DZkEAAACgk4xgQQAAAEBUUVRBAAAAAIfQM0E=\"},\"y\":[2.5,7.5,12.5,17.5,22.5,27.5,32.5,37.5,42.5,47.5,52.5,57.5,62.5,67.5,72.5,77.5,82.5],\"type\":\"bar\"},{\"x\":{\"dtype\":\"f8\",\"bdata\":\"AAAAWDIHh8EAAABQN\\u002fCMwQAAAPBaHo7BAAAAaMExicEAAAAoNlCEwQAAAMjJBIXBAAAAIPv2fcEAAACAza52wQAAABCbJnXBAAAAQIYWdMEAAADAty9xwQAAAMD65W3BAAAAwKmjaMEAAADgLFNjwQAAAECfGlzBAAAAgB0MRsE=\"},\"y\":[2.5,7.5,12.5,17.5,22.5,27.5,32.5,37.5,42.5,47.5,52.5,57.5,62.5,67.5,72.5,77.5,82.5],\"type\":\"bar\"}],\"name\":\"1980\"},{\"data\":[{\"x\":{\"dtype\":\"f8\",\"bdata\":\"AAAAGKdoiEEAAACYOPqMQQAAAJAmCZBBAAAAOM4hjUEAAADgLt2DQQAAAMgGRYZBAAAASKwHgUEAAADwDXZ5QQAAAPCmx3dBAAAAkHVGdkEAAABQaJNyQQAAAMCbdm5BAAAAYHhkZ0EAAAAA8yRhQQAAAEA79FRBAAAAANYnNUE=\"},\"y\":[2.5,7.5,12.5,17.5,22.5,27.5,32.5,37.5,42.5,47.5,52.5,57.5,62.5,67.5,72.5,77.5,82.5],\"type\":\"bar\"},{\"x\":{\"dtype\":\"f8\",\"bdata\":\"AAAASGHyhsEAAADAAl2LwQAAAJgHcY7BAAAAsEHIi8EAAAAIdwaDwQAAAPiHjIXBAAAAMLkkgMEAAAAASk53wQAAAABOJ3XBAAAAUNKAdMEAAADQ+4hxwQAAACC9X27BAAAAIL4facEAAADgafNjwQAAAADyfVzBAAAAAHSPR8E=\"},\"y\":[2.5,7.5,12.5,17.5,22.5,27.5,32.5,37.5,42.5,47.5,52.5,57.5,62.5,67.5,72.5,77.5,82.5],\"type\":\"bar\"}],\"name\":\"1981\"},{\"data\":[{\"x\":{\"dtype\":\"f8\",\"bdata\":\"AAAAwBb+iEEAAAAQOVeLQQAAAHxXNZBBAAAACB6pjkEAAADo9m6DQQAAAAjPpoZBAAAAyNkxgkEAAACwTGF6QQAAALDW0XdBAAAAwHq3dkEAAACgbhFzQQAAAIBmMm9BAAAA4F0LaEEAAABgrbhhQQAAAMBrrVVBAAAAAF2tNkE=\"},\"y\":[2.5,7.5,12.5,17.5,22.5,27.5,32.5,37.5,42.5,47.5,52.5,57.5,62.5,67.5,72.5,77.5,82.5],\"type\":\"bar\"},{\"x\":{\"dtype\":\"f8\",\"bdata\":\"AAAA+G92h8EAAADwKM2JwQAAANCrwI7BAAAACNA7jcEAAAD4QJyCwQAAADCp4IXBAAAA2NNygcEAAACw4j54wQAAAJDVRXXBAAAAEJvPdMEAAABA3+9xwQAAAACG4m7BAAAAgCubacEAAAAAj5pkwQAAAIBZ91zBAAAAAKk7ScE=\"},\"y\":[2.5,7.5,12.5,17.5,22.5,27.5,32.5,37.5,42.5,47.5,52.5,57.5,62.5,67.5,72.5,77.5,82.5],\"type\":\"bar\"}],\"name\":\"1982\"},{\"data\":[{\"x\":{\"dtype\":\"f8\",\"bdata\":\"AAAAmJOtiUEAAAD4rbmJQQAAAMAAJpBBAAAAyHm7jkEAAACQ196EQQAAAJCHvYZBAAAAICBfg0EAAAAgWb57QQAAACCEzndBAAAA8K3udkEAAABw8qBzQQAAACDPE3BBAAAAgLXOaEEAAABA3yNiQQAAAACwp1ZBAAAAAFNZOEE=\"},\"y\":[2.5,7.5,12.5,17.5,22.5,27.5,32.5,37.5,42.5,47.5,52.5,57.5,62.5,67.5,72.5,77.5,82.5],\"type\":\"bar\"},{\"x\":{\"dtype\":\"f8\",\"bdata\":\"AAAAoFoRiMEAAAA45UGIwQAAACgAn47BAAAAcKJLjcEAAABgjPuDwQAAADBq64XBAAAAEN+\\u002fgsEAAACwjZ15wQAAABCra3XBAAAAAFLddMEAAADgP2VywQAAAOAZnG\\u002fBAAAAAIo5asEAAACAYQ5lwQAAAIBxv13BAAAAAAIPS8E=\"},\"y\":[2.5,7.5,12.5,17.5,22.5,27.5,32.5,37.5,42.5,47.5,52.5,57.5,62.5,67.5,72.5,77.5,82.5],\"type\":\"bar\"}],\"name\":\"1983\"},{\"data\":[{\"x\":{\"dtype\":\"f8\",\"bdata\":\"AAAAGB8VikEAAADI8oKIQQAAAHjKeI9BAAAASAXUjkEAAACAil+HQQAAABBJFYZBAAAAuCNjhEEAAAAAZVd9QQAAAPAf+ndBAAAA0P\\u002fndkEAAAAQ1jp0QQAAAKBeeXBBAAAAYLPCaUEAAABg7nJiQQAAAEC30FdBAAAAAA4MOkE=\"},\"y\":[2.5,7.5,12.5,17.5,22.5,27.5,32.5,37.5,42.5,47.5,52.5,57.5,62.5,67.5,72.5,77.5,82.5],\"type\":\"bar\"},{\"x\":{\"dtype\":\"f8\",\"bdata\":\"AAAAGCtmiMEAAAB4+BaHwQAAACjH0Y3BAAAAKOtgjcEAAADIeV+GwQAAAJAtQYXBAAAAWN7Tg8EAAADgb1F7wQAAACC7unXBAAAAoFm3dMEAAABQceVywQAAALBUF3DBAAAA4GAJa8EAAABgaVplwQAAAED4wF7BAAAAAODwTME=\"},\"y\":[2.5,7.5,12.5,17.5,22.5,27.5,32.5,37.5,42.5,47.5,52.5,57.5,62.5,67.5,72.5,77.5,82.5],\"type\":\"bar\"}],\"name\":\"1984\"},{\"data\":[{\"x\":{\"dtype\":\"f8\",\"bdata\":\"AAAAqE2aikEAAABAlfCHQQAAAGAGJY5BAAAAiAM9j0EAAAAoXf6JQQAAABjU0YRBAAAAGK9FhUEAAADA7Et\\u002fQQAAAMAxUXhBAAAAAKbgdkEAAACAc7p0QQAAAEDX2HBBAAAAYBiuakEAAACgNe1iQQAAAECJ8VhBAAAAAEKxO0E=\"},\"y\":[2.5,7.5,12.5,17.5,22.5,27.5,32.5,37.5,42.5,47.5,52.5,57.5,62.5,67.5,72.5,77.5,82.5],\"type\":\"bar\"},{\"x\":{\"dtype\":\"f8\",\"bdata\":\"AAAAEJvSiMEAAAAwyIaGwQAAADjtiozBAAAAkCbCjcEAAADI8d6IwQAAAJhsBYTBAAAAwDe0hMEAAAAwK3R9wQAAAAC+NHbBAAAA0BmUdMEAAACgOlxzwQAAAHAGWnDBAAAAgPfKa8EAAADgVcdlwQAAAMCN11\\u002fBAAAAAPPKTsE=\"},\"y\":[2.5,7.5,12.5,17.5,22.5,27.5,32.5,37.5,42.5,47.5,52.5,57.5,62.5,67.5,72.5,77.5,82.5],\"type\":\"bar\"}],\"name\":\"1985\"},{\"data\":[{\"x\":{\"dtype\":\"f8\",\"bdata\":\"AAAAUGFXi0EAAAColuiHQQAAALAQjIxBAAAAMMWcj0EAAACo9rCMQQAAALB5hINBAAAAQN7ahUEAAAAgu6+AQQAAAKDZ0XhBAAAAsED2dkEAAAAwqTJ1QQAAADDWT3FBAAAAgOhea0EAAACgfY9jQQAAAIDzAlpBAAAAAApcPUE=\"},\"y\":[2.5,7.5,12.5,17.5,22.5,27.5,32.5,37.5,42.5,47.5,52.5,57.5,62.5,67.5,72.5,77.5,82.5],\"type\":\"bar\"},{\"x\":{\"dtype\":\"f8\",\"bdata\":\"AAAAmLNticEAAAAwY3iGwQAAAKD5AovBAAAAiE4ZjsEAAADIInGLwQAAABggw4LBAAAAAFI9hcEAAACQS8R\\u002fwQAAADAc13bBAAAAkNubdMEAAABQHspzwQAAAIBLtnDBAAAAgKdMbMEAAABAGE1mwQAAAOCNhmDBAAAAwNtOUME=\"},\"y\":[2.5,7.5,12.5,17.5,22.5,27.5,32.5,37.5,42.5,47.5,52.5,57.5,62.5,67.5,72.5,77.5,82.5],\"type\":\"bar\"}],\"name\":\"1986\"},{\"data\":[{\"x\":{\"dtype\":\"f8\",\"bdata\":\"AAAAAOMsjEEAAAAoNHuIQQAAADCk74pBAAAAYB\\u002fzj0EAAACQ5C+OQQAAAED7FoNBAAAAqIw5hkEAAACYUdOBQQAAAHBIuHlBAAAAoJgCd0EAAABwTaF1QQAAAGBmyXFBAAAAwPIUbEEAAAAgDDJkQQAAAMADCFtBAAAAAA8DP0E=\"},\"y\":[2.5,7.5,12.5,17.5,22.5,27.5,32.5,37.5,42.5,47.5,52.5,57.5,62.5,67.5,72.5,77.5,82.5],\"type\":\"bar\"},{\"x\":{\"dtype\":\"f8\",\"bdata\":\"AAAAmLoYisEAAABIGfqGwQAAACgbeInBAAAA2KhmjsEAAADY192MwQAAALjEWILBAAAA0LOOhcEAAAAoAiuBwQAAAJCww3fBAAAAsPO7dMEAAABAFBl0wQAAAAAJHHHBAAAAQPTPbMEAAAAg88xmwQAAAAC\\u002fI2HBAAAAgO8nUcE=\"},\"y\":[2.5,7.5,12.5,17.5,22.5,27.5,32.5,37.5,42.5,47.5,52.5,57.5,62.5,67.5,72.5,77.5,82.5],\"type\":\"bar\"}],\"name\":\"1987\"},{\"data\":[{\"x\":{\"dtype\":\"f8\",\"bdata\":\"AAAAiKknjUEAAACIqyeJQQAAAIAmWIlBAAAAaGDTj0EAAACgvz6OQQAAAOBwfoRBAAAA+KpNhkEAAAAoNfmCQQAAAFABDHtBAAAAkC0Bd0EAAACwydh1QQAAAHCgU3JBAAAAwGX+bEEAAAAgeOtkQQAAAICn0ltBAAAAAOlkQEE=\"},\"y\":[2.5,7.5,12.5,17.5,22.5,27.5,32.5,37.5,42.5,47.5,52.5,57.5,62.5,67.5,72.5,77.5,82.5],\"type\":\"bar\"},{\"x\":{\"dtype\":\"f8\",\"bdata\":\"AAAAAMbgisEAAABwjpKHwQAAAPhl8YfBAAAAgBBDjsEAAABAROqMwQAAAJCtsIPBAAAAUNWWhcEAAAA4D3KCwQAAAPAGG3nBAAAA4G\\u002fidMEAAAAQFyl0wQAAAPDlj3HBAAAAYPKGbcEAAADgM2tnwQAAACDOl2HBAAAAgGMIUsE=\"},\"y\":[2.5,7.5,12.5,17.5,22.5,27.5,32.5,37.5,42.5,47.5,52.5,57.5,62.5,67.5,72.5,77.5,82.5],\"type\":\"bar\"}],\"name\":\"1988\"},{\"data\":[{\"x\":{\"dtype\":\"f8\",\"bdata\":\"AAAAKEJBjkEAAABQoo6JQQAAALDoJohBAAAAOCIDj0EAAABw+1SOQQAAADAH8oZBAAAAWMemhUEAAABgJfeDQQAAAFCUmnxBAAAAEOQtd0EAAABgOtZ1QQAAALCW6HJBAAAA4LrDbUEAAACglc9lQQAAAEBjelxBAAAAAL9rQUE=\"},\"y\":[2.5,7.5,12.5,17.5,22.5,27.5,32.5,37.5,42.5,47.5,52.5,57.5,62.5,67.5,72.5,77.5,82.5],\"type\":\"bar\"},{\"x\":{\"dtype\":\"f8\",\"bdata\":\"AAAAWJ3Ai8EAAADwQeeHwQAAAFiwyobBAAAAYCF3jcEAAABIIP2MwQAAAIi+CYbBAAAAuPzshMEAAAD4L4GDwQAAAPDFxnrBAAAAUKYxdcEAAACg+wd0wQAAANAAD3LBAAAAwIIbbsEAAAAAoDZowQAAAGCI7WHBAAAAAK\\u002f+UsE=\"},\"y\":[2.5,7.5,12.5,17.5,22.5,27.5,32.5,37.5,42.5,47.5,52.5,57.5,62.5,67.5,72.5,77.5,82.5],\"type\":\"bar\"}],\"name\":\"1989\"},{\"data\":[{\"x\":{\"dtype\":\"f8\",\"bdata\":\"AAAAWPs8j0EAAAAoeAyKQQAAAMhIk4dBAAAAENivjUEAAAC4r7aOQQAAAGjZf4lBAAAAENdkhEEAAACgB9GEQQAAAMAzfn5BAAAAUAKBd0EAAABghs91QQAAANDIYXNBAAAAoFt5bkEAAAAAPalmQQAAAIBnZV1BAAAAgBp8QkE=\"},\"y\":[2.5,7.5,12.5,17.5,22.5,27.5,32.5,37.5,42.5,47.5,52.5,57.5,62.5,67.5,72.5,77.5,82.5],\"type\":\"bar\"},{\"x\":{\"dtype\":\"f8\",\"bdata\":\"AAAAID9\\u002fjMEAAAAIQk2IwQAAAEClOIbBAAAAIPYujMEAAACQZFeNwQAAABjneojBAAAA2BCxg8EAAABo51mEwQAAACCV23zBAAAA0AmndcEAAACA++VzwQAAANCXgXLBAAAAAKqdbsEAAABgMu9owQAAAMATW2LBAAAAwOnfU8E=\"},\"y\":[2.5,7.5,12.5,17.5,22.5,27.5,32.5,37.5,42.5,47.5,52.5,57.5,62.5,67.5,72.5,77.5,82.5],\"type\":\"bar\"}],\"name\":\"1990\"},{\"data\":[{\"x\":{\"dtype\":\"f8\",\"bdata\":\"AAAAyNxZj0EAAABI78eKQQAAAEi2jodBAAAAeJ8gjEEAAAAgmRePQQAAACh4J4xBAAAAcI8eg0EAAAAAn2SFQQAAAHhFRIBBAAAAEDEDeEEAAABwRut1QQAAACD62XNBAAAAYEJhb0EAAADAwVZnQQAAAMD1mV5BAAAAAE+OQ0E=\"},\"y\":[2.5,7.5,12.5,17.5,22.5,27.5,32.5,37.5,42.5,47.5,52.5,57.5,62.5,67.5,72.5,77.5,82.5],\"type\":\"bar\"},{\"x\":{\"dtype\":\"f8\",\"bdata\":\"AAAAyMpwjMEAAAAYRueIwQAAAGgGLYbBAAAAcDmuisEAAACYRK+NwQAAAHCTBIvBAAAA4MdzgsEAAABg6eGEwQAAAGASJX\\u002fBAAAAwLxJdsEAAADgVvNzwQAAABDf8HLBAAAAAB5Xb8EAAADgcHNpwQAAAGAg4mLBAAAAgGaoVME=\"},\"y\":[2.5,7.5,12.5,17.5,22.5,27.5,32.5,37.5,42.5,47.5,52.5,57.5,62.5,67.5,72.5,77.5,82.5],\"type\":\"bar\"}],\"name\":\"1991\"},{\"data\":[{\"x\":{\"dtype\":\"f8\",\"bdata\":\"AAAAIDZKjkEAAADoEqeLQQAAAOj9LIhBAAAAyPWYikEAAACA+3yPQQAAABAwro1BAAAAaD+8gkEAAABosMyFQQAAAJitaoFBAAAA8BDzeEEAAABwWAh2QQAAAFDPUnRBAAAAAJwucEEAAADAPBRoQQAAAEDT4F9BAAAAgIfGREE=\"},\"y\":[2.5,7.5,12.5,17.5,22.5,27.5,32.5,37.5,42.5,47.5,52.5,57.5,62.5,67.5,72.5,77.5,82.5],\"type\":\"bar\"},{\"x\":{\"dtype\":\"f8\",\"bdata\":\"AAAA0HNSi8EAAAB4m5uJwQAAAAh+uYbBAAAAsA41icEAAABYUgqOwQAAAHCreYzBAAAAECMTgsEAAAAYfDyFwQAAAAAy34DBAAAAoCc\\u002fd8EAAAAQFiF0wQAAAGAzS3PBAAAAsIcYcMEAAACAvARqwQAAAIAibWPBAAAAQLyAVcE=\"},\"y\":[2.5,7.5,12.5,17.5,22.5,27.5,32.5,37.5,42.5,47.5,52.5,57.5,62.5,67.5,72.5,77.5,82.5],\"type\":\"bar\"}],\"name\":\"1992\"},{\"data\":[{\"x\":{\"dtype\":\"f8\",\"bdata\":\"AAAA4EnojEEAAABQ+qyMQQAAADBD5YhBAAAAyLIUiUEAAAAQP2+PQQAAAJAqzY1BAAAAUGophEEAAAAAv+yFQQAAADA8lYJBAAAAMEVOekEAAAAQqRh2QQAAAGDvmHRBAAAAEBi+cEEAAABAAwBpQQAAAEABp2BBAAAAgK5MRkE=\"},\"y\":[2.5,7.5,12.5,17.5,22.5,27.5,32.5,37.5,42.5,47.5,52.5,57.5,62.5,67.5,72.5,77.5,82.5],\"type\":\"bar\"},{\"x\":{\"dtype\":\"f8\",\"bdata\":\"AAAAcPLricEAAAC4W26KwQAAAAj8XIfBAAAAWNy+h8EAAADIAPeNwQAAAEBJlYzBAAAAoEZxg8EAAADg1k+FwQAAAJD2K4LBAAAA8LSeeMEAAAAwWVV0wQAAACDJaXPBAAAA8KaUcMEAAACAZ8dqwQAAACDhEmTBAAAAAFOWVsE=\"},\"y\":[2.5,7.5,12.5,17.5,22.5,27.5,32.5,37.5,42.5,47.5,52.5,57.5,62.5,67.5,72.5,77.5,82.5],\"type\":\"bar\"}],\"name\":\"1993\"},{\"data\":[{\"x\":{\"dtype\":\"f8\",\"bdata\":\"AAAAILtli0EAAAD48NqNQQAAAMBmX4lBAAAA6IH4h0EAAADgsLeOQQAAAHgg+Y1BAAAAiAClhkEAAADwnliFQQAAAMj0nYNBAAAAQPrpe0EAAABANlp2QQAAAJATrXRBAAAAgBJccUEAAAAg+dJpQQAAAMBshGFBAAAAgJ0aSEE=\"},\"y\":[2.5,7.5,12.5,17.5,22.5,27.5,32.5,37.5,42.5,47.5,52.5,57.5,62.5,67.5,72.5,77.5,82.5],\"type\":\"bar\"},{\"x\":{\"dtype\":\"f8\",\"bdata\":\"AAAAaAhriMEAAABAh2GLwQAAAAiPw4fBAAAAUIWqhsEAAADI7ECNwQAAADCdvIzBAAAAYOrThcEAAABYO7eEwQAAACD8RoPBAAAAcCVZesEAAABQZLZ0wQAAAMAWXnPBAAAA8O0gccEAAADAm3RrwQAAAIAh52TBAAAAwJDwV8E=\"},\"y\":[2.5,7.5,12.5,17.5,22.5,27.5,32.5,37.5,42.5,47.5,52.5,57.5,62.5,67.5,72.5,77.5,82.5],\"type\":\"bar\"}],\"name\":\"1994\"},{\"data\":[{\"x\":{\"dtype\":\"f8\",\"bdata\":\"AAAAAAONiUEAAAC4CfaOQQAAAODe+IlBAAAA6Pp+h0EAAACQAoWNQQAAABBaeI5BAAAAQLhEiUEAAACQ\\u002fi6EQQAAAGgmioRBAAAAcH7kfUEAAADw3sd2QQAAALCMw3RBAAAAkLfmcUEAAADgJ6JqQQAAAMDIYWJBAAAAgFjzSUE=\"},\"y\":[2.5,7.5,12.5,17.5,22.5,27.5,32.5,37.5,42.5,47.5,52.5,57.5,62.5,67.5,72.5,77.5,82.5],\"type\":\"bar\"},{\"x\":{\"dtype\":\"f8\",\"bdata\":\"AAAAwFqghsEAAAA4eD2MwQAAANhVQ4jBAAAAsB4whsEAAABwzhWMwQAAAJD3Mo3BAAAA+GdYiMEAAAC4b5GDwQAAAKgLM4TBAAAAQK6HfMEAAACg80N1wQAAAEDhV3PBAAAAwGmoccEAAABg8R1swQAAAADPtmXBAAAAQDxhWcE=\"},\"y\":[2.5,7.5,12.5,17.5,22.5,27.5,32.5,37.5,42.5,47.5,52.5,57.5,62.5,67.5,72.5,77.5,82.5],\"type\":\"bar\"}],\"name\":\"1995\"},{\"data\":[{\"x\":{\"dtype\":\"f8\",\"bdata\":\"AAAAWNcXiEEAAADY7CyPQQAAALB0yIpBAAAAqHaNh0EAAADgkg2MQQAAAAgc8Y5BAAAA+Dv9i0EAAABY7fmCQQAAAFCDLIVBAAAAMFkAgEEAAABQCV53QQAAAGBR9XRBAAAAgA1sckEAAAAAoZVrQQAAAEAyFmNBAAAAAPfGS0E=\"},\"y\":[2.5,7.5,12.5,17.5,22.5,27.5,32.5,37.5,42.5,47.5,52.5,57.5,62.5,67.5,72.5,77.5,82.5],\"type\":\"bar\"},{\"x\":{\"dtype\":\"f8\",\"bdata\":\"AAAAyNMzhcEAAACYSEeMwQAAAKAi8IjBAAAAQCI2hsEAAACYFKqKwQAAAAiuoY3BAAAACMv0isEAAABoZ2OCwQAAAKCAyoTBAAAAgELnfsEAAADwU\\u002fl1wQAAAEBUenPBAAAAsHYocsEAAACAAfNswQAAAKC2U2bBAAAAwF3bWsE=\"},\"y\":[2.5,7.5,12.5,17.5,22.5,27.5,32.5,37.5,42.5,47.5,52.5,57.5,62.5,67.5,72.5,77.5,82.5],\"type\":\"bar\"}],\"name\":\"1996\"},{\"data\":[{\"x\":{\"dtype\":\"f8\",\"bdata\":\"AAAA8P9Nh0EAAACoYS6OQQAAAEAMs4tBAAAAiAc3iEEAAACg05KKQQAAAHASZY9BAAAACI+PjUEAAABY26CCQQAAAFiOnYVBAAAA4BArgUEAAABAlld4QQAAAMAYIXVBAAAAsIjrckEAAABgtJBsQQAAAEAjz2NBAAAAAFiqTUE=\"},\"y\":[2.5,7.5,12.5,17.5,22.5,27.5,32.5,37.5,42.5,47.5,52.5,57.5,62.5,67.5,72.5,77.5,82.5],\"type\":\"bar\"},{\"x\":{\"dtype\":\"f8\",\"bdata\":\"AAAAWENlhMEAAAA48jiLwQAAAFgYr4nBAAAAiETNhsEAAAC4yDuJwQAAAFicCo7BAAAAcI92jMEAAABAEwuCwQAAAOBOLoXBAAAA6FLHgMEAAADQcPl2wQAAADBotXPBAAAAANONcsEAAAAgq9ttwQAAACBd8mbBAAAAAOBeXME=\"},\"y\":[2.5,7.5,12.5,17.5,22.5,27.5,32.5,37.5,42.5,47.5,52.5,57.5,62.5,67.5,72.5,77.5,82.5],\"type\":\"bar\"}],\"name\":\"1997\"},{\"data\":[{\"x\":{\"dtype\":\"f8\",\"bdata\":\"AAAAMEephkEAAAC4WdiMQQAAADjxwYxBAAAAcJv4iEEAAAAg+heJQQAAAMDXYo9BAAAA4GK4jUEAAADIMxSEQQAAAGjcxIVBAAAAyMFYgkEAAAAgurZ5QQAAAED8PXVBAAAA4Fw6c0EAAADgbaptQQAAAKAGrGRBAAAAgImPT0E=\"},\"y\":[2.5,7.5,12.5,17.5,22.5,27.5,32.5,37.5,42.5,47.5,52.5,57.5,62.5,67.5,72.5,77.5,82.5],\"type\":\"bar\"},{\"x\":{\"dtype\":\"f8\",\"bdata\":\"AAAAYN27g8EAAADIdN2JwQAAAAA9iorBAAAAUKp5h8EAAABYP82HwQAAABCfAY7BAAAAeLqbjMEAAADANHCDwQAAALCQSIXBAAAAQPoZgsEAAADgBGB4wQAAAGAI9HPBAAAAYIe3csEAAADAXt5uwQAAAIBBuWfBAAAAgALYXcE=\"},\"y\":[2.5,7.5,12.5,17.5,22.5,27.5,32.5,37.5,42.5,47.5,52.5,57.5,62.5,67.5,72.5,77.5,82.5],\"type\":\"bar\"}],\"name\":\"1998\"},{\"data\":[{\"x\":{\"dtype\":\"f8\",\"bdata\":\"AAAAqJwVhkEAAAAQ+1eLQQAAALC7741BAAAAIO5ziUEAAAA4MP+HQQAAACA5sI5BAAAAiCXojUEAAACgipGGQQAAADAYM4VBAAAAiDRgg0EAAACQbk17QQAAAED+g3VBAAAAgMNUc0EAAAAA4NVuQQAAAEDGbmVBAAAAwITHUEE=\"},\"y\":[2.5,7.5,12.5,17.5,22.5,27.5,32.5,37.5,42.5,47.5,52.5,57.5,62.5,67.5,72.5,77.5,82.5],\"type\":\"bar\"},{\"x\":{\"dtype\":\"f8\",\"bdata\":\"AAAAkKclg8EAAACowl6IwQAAAAhhfYvBAAAAQG7hh8EAAADAgruGwQAAAHBFT43BAAAAQNPGjMEAAACojtaFwQAAALgHsYTBAAAAqM41g8EAAABQ2xl6wQAAABD1V3TBAAAAoP2xcsEAAABA8\\u002fNvwQAAAADrY2jBAAAAwMpVX8E=\"},\"y\":[2.5,7.5,12.5,17.5,22.5,27.5,32.5,37.5,42.5,47.5,52.5,57.5,62.5,67.5,72.5,77.5,82.5],\"type\":\"bar\"}],\"name\":\"1999\"},{\"data\":[{\"x\":{\"dtype\":\"f8\",\"bdata\":\"AAAACKushUEAAADYWnuJQQAAAMgjA49BAAAAGOYHikEAAADAYYOHQQAAABBte41BAAAA6D5kjkEAAADQqyyJQQAAALgfCIRBAAAAcGdGhEEAAADwfDp9QQAAAOAz73VBAAAA4IRsc0EAAADAGNZvQQAAAGBbKGZBAAAAQOnsUUE=\"},\"y\":[2.5,7.5,12.5,17.5,22.5,27.5,32.5,37.5,42.5,47.5,52.5,57.5,62.5,67.5,72.5,77.5,82.5],\"type\":\"bar\"},{\"x\":{\"dtype\":\"f8\",\"bdata\":\"AAAAYP63gsEAAABItZCGwQAAAOhPUozBAAAAeA5ciMEAAACQpj6GwQAAAGi4IIzBAAAAqGM6jcEAAABgwViIwQAAAFjWh4PBAAAAcGQdhMEAAAAQ+kB8wQAAAMAt4nTBAAAAsAmtcsEAAAAwLHtwwQAAAADxAmnBAAAA4LR7YME=\"},\"y\":[2.5,7.5,12.5,17.5,22.5,27.5,32.5,37.5,42.5,47.5,52.5,57.5,62.5,67.5,72.5,77.5,82.5],\"type\":\"bar\"}],\"name\":\"2000\"},{\"data\":[{\"x\":{\"dtype\":\"f8\",\"bdata\":\"AAAAgCldhUEAAAAYhACIQQAAAPiiLo9BAAAA4FzOikEAAABYV4uHQQAAABgA\\u002fYtBAAAAEGLUjkEAAADgX9qLQQAAANCIz4JBAAAAmDLghEEAAABgYUN\\u002fQQAAANBbfnZBAAAAMLybc0EAAABQaGNwQQAAAEDY+GZBAAAAQPInU0E=\"},\"y\":[2.5,7.5,12.5,17.5,22.5,27.5,32.5,37.5,42.5,47.5,52.5,57.5,62.5,67.5,72.5,77.5,82.5],\"type\":\"bar\"},{\"x\":{\"dtype\":\"f8\",\"bdata\":\"AAAA0INjgsEAAABQMR+FwQAAAICVUYzBAAAA+EkAicEAAAAoMj6GwQAAAICFrIrBAAAAKLmgjcEAAAAYCe2KwQAAAGhCVILBAAAAqEGthMEAAABwLpR+wQAAAOBkkHXBAAAAIFXNcsEAAABgVfJwwQAAAIAHwmnBAAAAQLlTYcE=\"},\"y\":[2.5,7.5,12.5,17.5,22.5,27.5,32.5,37.5,42.5,47.5,52.5,57.5,62.5,67.5,72.5,77.5,82.5],\"type\":\"bar\"}],\"name\":\"2001\"},{\"data\":[{\"x\":{\"dtype\":\"f8\",\"bdata\":\"AAAAIJYQhUEAAABgvDCHQQAAAGjqI45BAAAA4Dasi0EAAADwLimIQQAAAHBXd4pBAAAAKIU7j0EAAACQqV6NQQAAAFDBcIJBAAAAeM1HhUEAAABYTcCAQQAAAAC+andBAAAAcCPEc0EAAACQ3tRwQQAAAGARzGdBAAAAQOBiVEE=\"},\"y\":[2.5,7.5,12.5,17.5,22.5,27.5,32.5,37.5,42.5,47.5,52.5,57.5,62.5,67.5,72.5,77.5,82.5],\"type\":\"bar\"},{\"x\":{\"dtype\":\"f8\",\"bdata\":\"AAAAcE0UgsEAAABgb0uEwQAAAPCzN4vBAAAAyASzicEAAABAxMmGwQAAACjkMYnBAAAAyAv9jcEAAADYsGKMwQAAAMAe9YHBAAAAcCsIhcEAAAAwg5WAwQAAAIDohXbBAAAAwDIEc8EAAAAAJU9xwQAAAGAikGrBAAAA4A0nYsE=\"},\"y\":[2.5,7.5,12.5,17.5,22.5,27.5,32.5,37.5,42.5,47.5,52.5,57.5,62.5,67.5,72.5,77.5,82.5],\"type\":\"bar\"}],\"name\":\"2002\"},{\"data\":[{\"x\":{\"dtype\":\"f8\",\"bdata\":\"AAAA4EbZhEEAAADYfoaGQQAAANhIw4xBAAAAWE+tjEEAAADw7NuIQQAAABCr74hBAAAAqMAqj0EAAACgE3qNQQAAAJi32YNBAAAAiF5mhUEAAACg5+CBQQAAAIBjtnhBAAAAwD7ec0EAAADwYxtxQQAAAKABu2hBAAAAgNqoVUE=\"},\"y\":[2.5,7.5,12.5,17.5,22.5,27.5,32.5,37.5,42.5,47.5,52.5,57.5,62.5,67.5,72.5,77.5,82.5],\"type\":\"bar\"},{\"x\":{\"dtype\":\"f8\",\"bdata\":\"AAAAMMnZgcEAAAAwNJ2DwQAAADgO0onBAAAAgOmAisEAAAAgXWeHwQAAAAABtYfBAAAAQCvljcEAAAAYA3uMwQAAACjvUIPBAAAAwK4ZhcEAAACY796BwQAAAOCa3nfBAAAAgBY+c8EAAAAwF3VxwQAAAIB0eGvBAAAAwK0BY8E=\"},\"y\":[2.5,7.5,12.5,17.5,22.5,27.5,32.5,37.5,42.5,47.5,52.5,57.5,62.5,67.5,72.5,77.5,82.5],\"type\":\"bar\"}],\"name\":\"2003\"},{\"data\":[{\"x\":{\"dtype\":\"f8\",\"bdata\":\"AAAAsC+8hEEAAABoJe+FQQAAAGAAPItBAAAAMMfPjUEAAADwGEqJQQAAAGB5y4dBAAAAoHNsjkEAAAD4Vp6NQQAAACAiSYZBAAAAOBPQhEEAAAA4otyCQQAAAACBN3pBAAAAcP0fdEEAAADgaTRxQQAAAOBjumlBAAAAQDwZV0E=\"},\"y\":[2.5,7.5,12.5,17.5,22.5,27.5,32.5,37.5,42.5,47.5,52.5,57.5,62.5,67.5,72.5,77.5,82.5],\"type\":\"bar\"},{\"x\":{\"dtype\":\"f8\",\"bdata\":\"AAAAmOm3gcEAAABQxgODwQAAAGCDTIjBAAAA2F9pi8EAAAAIycGHwQAAAEh4lobBAAAAAPQljcEAAADgF5uMwQAAAHBVrIXBAAAASGl8hMEAAADIivKCwQAAAIBTinnBAAAAoDedc8EAAABgNXFxwQAAAIBkdWzBAAAAAC\\u002f4Y8E=\"},\"y\":[2.5,7.5,12.5,17.5,22.5,27.5,32.5,37.5,42.5,47.5,52.5,57.5,62.5,67.5,72.5,77.5,82.5],\"type\":\"bar\"}],\"name\":\"2004\"},{\"data\":[{\"x\":{\"dtype\":\"f8\",\"bdata\":\"AAAAsGyehEEAAADQJ4WFQQAAAABfXYlBAAAAAHXdjkEAAAAYUteJQQAAAEiTSYdBAAAAmOAyjUEAAABwThOOQQAAAOCN14hBAAAAmKWmg0EAAAAQ+LmDQQAAAFCYD3xBAAAAoKmHdEEAAAAw101xQQAAAICYmGpBAAAAAEKgWEE=\"},\"y\":[2.5,7.5,12.5,17.5,22.5,27.5,32.5,37.5,42.5,47.5,52.5,57.5,62.5,67.5,72.5,77.5,82.5],\"type\":\"bar\"},{\"x\":{\"dtype\":\"f8\",\"bdata\":\"AAAACJeXgcEAAADYO5WCwQAAAKj1e4bBAAAAwEc5jMEAAACgnTWIwQAAAMCIEobBAAAAGNDwi8EAAACIDQiNwQAAACCEJYjBAAAA2D9Sg8EAAAC4UtSDwQAAANDepXvBAAAA4EEkdMEAAADwc3FxwQAAAMBCZm3BAAAAIM35ZME=\"},\"y\":[2.5,7.5,12.5,17.5,22.5,27.5,32.5,37.5,42.5,47.5,52.5,57.5,62.5,67.5,72.5,77.5,82.5],\"type\":\"bar\"}],\"name\":\"2005\"},{\"data\":[{\"x\":{\"dtype\":\"f8\",\"bdata\":\"AAAA8LmThEEAAADAgDSFQQAAAADJ4IdBAAAAYEQEj0EAAACom5eKQQAAAMBrS4dBAAAAEO2wi0EAAABovXyOQQAAANAId4tBAAAAUGVwgkEAAAAoY0yEQQAAAFBgAn5BAAAA8BsSdUEAAAAwfH1xQQAAAACkaWtBAAAAAK3\\u002fWUE=\"},\"y\":[2.5,7.5,12.5,17.5,22.5,27.5,32.5,37.5,42.5,47.5,52.5,57.5,62.5,67.5,72.5,77.5,82.5],\"type\":\"bar\"},{\"x\":{\"dtype\":\"f8\",\"bdata\":\"AAAA6JaJgcEAAAB4yD+CwQAAAGBGCIXBAAAA+Eo0jMEAAAAo1tOIwQAAAJhlC4bBAAAAWBB3isEAAACw\\u002fmeNwQAAAFjwr4rBAAAAIE0egsEAAABIEV+EwQAAAFAv7X3BAAAAcKTOdMEAAACQo5VxwQAAAGBrRW7BAAAAgP\\u002faZcE=\"},\"y\":[2.5,7.5,12.5,17.5,22.5,27.5,32.5,37.5,42.5,47.5,52.5,57.5,62.5,67.5,72.5,77.5,82.5],\"type\":\"bar\"}],\"name\":\"2006\"},{\"data\":[{\"x\":{\"dtype\":\"f8\",\"bdata\":\"AAAAsL69hEEAAAAADuWEQQAAAHhRDIdBAAAAqOvwjUEAAACAoWmLQQAAAIC13odBAAAAeEclikEAAACwJNqOQQAAAHBw7YxBAAAA6H8PgkEAAAAYfKyEQQAAAHAGEoBBAAAAUL7xdUEAAAAAH6ZxQQAAAGApLWxBAAAAgBtbW0E=\"},\"y\":[2.5,7.5,12.5,17.5,22.5,27.5,32.5,37.5,42.5,47.5,52.5,57.5,62.5,67.5,72.5,77.5,82.5],\"type\":\"bar\"},{\"x\":{\"dtype\":\"f8\",\"bdata\":\"AAAAoJKqgcEAAAC4Ie6BwQAAAHjtL4TBAAAAYLQRi8EAAABYE3uJwQAAADh7jIbBAAAAELT0iMEAAADI2bqNwQAAAMCvGozBAAAAcJa7gcEAAABwmrOEwQAAADCSOYDBAAAA0Eu7dcEAAADw7cxxwQAAACCX8W7BAAAA4LayZsE=\"},\"y\":[2.5,7.5,12.5,17.5,22.5,27.5,32.5,37.5,42.5,47.5,52.5,57.5,62.5,67.5,72.5,77.5,82.5],\"type\":\"bar\"}],\"name\":\"2007\"},{\"data\":[{\"x\":{\"dtype\":\"f8\",\"bdata\":\"AAAAOIsLhUEAAAAQBKqEQQAAAKC7XIZBAAAA0PCHjEEAAABwN16MQQAAANA\\u002fh4hBAAAA2AeZiEEAAAAwsMCOQQAAANgPAI1BAAAAECxug0EAAAAQ\\u002fMSEQQAAAFC9I4FBAAAAgDsnd0EAAABAPsFxQQAAAMC9qWxBAAAAgB3eXEE=\"},\"y\":[2.5,7.5,12.5,17.5,22.5,27.5,32.5,37.5,42.5,47.5,52.5,57.5,62.5,67.5,72.5,77.5,82.5],\"type\":\"bar\"},{\"x\":{\"dtype\":\"f8\",\"bdata\":\"AAAAQDPsgcEAAABIg7CBwQAAAPCzfIPBAAAAUJyjicEAAABoMz2KwQAAAHBGIIfBAAAAYKRxh8EAAAAY6pmNwQAAALCnKozBAAAAYNMOg8EAAABw8r6EwQAAAKA4eYHBAAAAEFAFd8EAAADwagVywQAAAOByO2\\u002fBAAAAoJCnZ8E=\"},\"y\":[2.5,7.5,12.5,17.5,22.5,27.5,32.5,37.5,42.5,47.5,52.5,57.5,62.5,67.5,72.5,77.5,82.5],\"type\":\"bar\"}],\"name\":\"2008\"},{\"data\":[{\"x\":{\"dtype\":\"f8\",\"bdata\":\"AAAAoPBthUEAAAAAI4eEQQAAAAiavoVBAAAAUJT5ikEAAAA46XSNQQAAABgn7YhBAAAAIPFwh0EAAAAY\\u002fvqNQQAAAABXGo1BAAAAOOzKhUEAAADAdCuEQQAAAKinD4JBAAAAwC6KeEEAAABg0f1xQQAAAIDQ1mxBAAAAQLNZXkE=\"},\"y\":[2.5,7.5,12.5,17.5,22.5,27.5,32.5,37.5,42.5,47.5,52.5,57.5,62.5,67.5,72.5,77.5,82.5],\"type\":\"bar\"},{\"x\":{\"dtype\":\"f8\",\"bdata\":\"AAAA+JtBgsEAAACI9YmBwQAAAGBN3YLBAAAAgGwXiMEAAAAIgBuLwQAAACgTc4fBAAAAMCJOhsEAAAC4NNKMwQAAAID6QIzBAAAAQOdbhcEAAACgfhyEwQAAAIh5gYLBAAAAwMKceMEAAACgr15ywQAAAAAaOW\\u002fBAAAAQMqfaME=\"},\"y\":[2.5,7.5,12.5,17.5,22.5,27.5,32.5,37.5,42.5,47.5,52.5,57.5,62.5,67.5,72.5,77.5,82.5],\"type\":\"bar\"}],\"name\":\"2009\"},{\"data\":[{\"x\":{\"dtype\":\"f8\",\"bdata\":\"AAAASLPHhUEAAACoymKEQQAAAKigTYVBAAAAWO4WiUEAAAA4SXeOQQAAAOB2cYlBAAAAAIHphkEAAADoq7uMQQAAAOBhg41BAAAAsMRCiEEAAAB4xgODQQAAAHhs3YJBAAAAEOM+ekEAAACgYF1yQQAAAKDAB21BAAAAAHbiX0E=\"},\"y\":[2.5,7.5,12.5,17.5,22.5,27.5,32.5,37.5,42.5,47.5,52.5,57.5,62.5,67.5,72.5,77.5,82.5],\"type\":\"bar\"},{\"x\":{\"dtype\":\"f8\",\"bdata\":\"AAAAKPORgsEAAADoOGSBwQAAAFC8aILBAAAAQDxDhsEAAADYA+KLwQAAALi93ofBAAAAiBPEhcEAAAA4pZWLwQAAAPiMoozBAAAAyKzDh8EAAAAwF\\u002fCCwQAAAEhNV4PBAAAAwMegesEAAACQSt1ywQAAAADPQG\\u002fBAAAAgKicacE=\"},\"y\":[2.5,7.5,12.5,17.5,22.5,27.5,32.5,37.5,42.5,47.5,52.5,57.5,62.5,67.5,72.5,77.5,82.5],\"type\":\"bar\"}],\"name\":\"2010\"},{\"data\":[{\"x\":{\"dtype\":\"f8\",\"bdata\":\"AAAAcIEQhkEAAADwqFeEQQAAACiP\\u002fIRBAAAAMFKdh0EAAADoFZ2OQQAAAMgeL4pBAAAASOvqhkEAAACgPj6LQQAAABAn6o1BAAAAiPPQikEAAAD4gdaBQQAAALCyaINBAAAAEGYUfEEAAABQ9eJyQQAAACC4am1BAAAA4KS1YEE=\"},\"y\":[2.5,7.5,12.5,17.5,22.5,27.5,32.5,37.5,42.5,47.5,52.5,57.5,62.5,67.5,72.5,77.5,82.5],\"type\":\"bar\"},{\"x\":{\"dtype\":\"f8\",\"bdata\":\"AAAASAPWgsEAAABo6lWBwQAAAKDiEoLBAAAAkALShMEAAABQstyLwQAAANjHeojBAAAA0Aq8hcEAAAC4Kx6KwQAAACjy\\u002f4zBAAAAkIZCisEAAAAYx8CBwQAAAAB43YPBAAAAENfXfMEAAADgiINzwQAAAIC\\u002flW\\u002fBAAAAAPmbasE=\"},\"y\":[2.5,7.5,12.5,17.5,22.5,27.5,32.5,37.5,42.5,47.5,52.5,57.5,62.5,67.5,72.5,77.5,82.5],\"type\":\"bar\"}],\"name\":\"2011\"},{\"data\":[{\"x\":{\"dtype\":\"f8\",\"bdata\":\"AAAAyKp0hkEAAADI44eEQQAAAGAXs4RBAAAAeFTRhkEAAABQgJeNQQAAADB6C4tBAAAASOmHh0EAAAAIg8KJQQAAADDRT45BAAAAAM1FjEEAAAAgyn+BQQAAAIg\\u002fyoNBAAAA4EgefkEAAADQfrlzQQAAACDWyW1BAAAAAOt4YUE=\"},\"y\":[2.5,7.5,12.5,17.5,22.5,27.5,32.5,37.5,42.5,47.5,52.5,57.5,62.5,67.5,72.5,77.5,82.5],\"type\":\"bar\"},{\"x\":{\"dtype\":\"f8\",\"bdata\":\"AAAA0B40g8EAAAAYeHyBwQAAABh4xoHBAAAAcFEBhMEAAADAk8eKwQAAAEDtLInBAAAAEMVGhsEAAADQVamIwQAAABDiWo3BAAAAwB+vi8EAAACAlWWBwQAAAGAaNYTBAAAAkANVf8EAAAAw5m10wQAAALB\\u002fC3DBAAAAYIKna8E=\"},\"y\":[2.5,7.5,12.5,17.5,22.5,27.5,32.5,37.5,42.5,47.5,52.5,57.5,62.5,67.5,72.5,77.5,82.5],\"type\":\"bar\"}],\"name\":\"2012\"},{\"data\":[{\"x\":{\"dtype\":\"f8\",\"bdata\":\"AAAAgI\\u002fJhkEAAACoU9yEQQAAAMA5foRBAAAAUAgqhkEAAADAhD2MQQAAAKi7C4xBAAAAqHk7iEEAAAAwy0aIQQAAAEDSQY5BAAAAQBdhjEEAAADw7N2CQQAAAOBA6INBAAAA4AwWgEEAAAAwp9t0QQAAAABJFG5BAAAAYF1dYkE=\"},\"y\":[2.5,7.5,12.5,17.5,22.5,27.5,32.5,37.5,42.5,47.5,52.5,57.5,62.5,67.5,72.5,77.5,82.5],\"type\":\"bar\"},{\"x\":{\"dtype\":\"f8\",\"bdata\":\"AAAAGMaHg8EAAACoD8SBwQAAANhGjoHBAAAAAKVVg8EAAAAoBGiJwQAAADCI+4nBAAAAILjlhsEAAACQjDSHwQAAADBVRI3BAAAAiK3Hi8EAAADAC7qCwQAAAGjtRYTBAAAAaOXmgMEAAAAQO7B1wQAAAOBmTXDBAAAAwC\\u002fibME=\"},\"y\":[2.5,7.5,12.5,17.5,22.5,27.5,32.5,37.5,42.5,47.5,52.5,57.5,62.5,67.5,72.5,77.5,82.5],\"type\":\"bar\"}],\"name\":\"2013\"},{\"data\":[{\"x\":{\"dtype\":\"f8\",\"bdata\":\"AAAAyK3xhkEAAABwsUeFQQAAAFAtZIRBAAAAwKWVhUEAAACYo72KQQAAADC\\u002fLI1BAAAA6AqsiEEAAADYsC2HQQAAAOAYjY1BAAAACDKIjEEAAABgxjSFQQAAAPCnXYNBAAAAQBr8gEEAAAAgPCl2QQAAAKC3nW5BAAAA4AhMY0E=\"},\"y\":[2.5,7.5,12.5,17.5,22.5,27.5,32.5,37.5,42.5,47.5,52.5,57.5,62.5,67.5,72.5,77.5,82.5],\"type\":\"bar\"},{\"x\":{\"dtype\":\"f8\",\"bdata\":\"AAAAsMu3g8EAAACALyGCwQAAAPA4b4HBAAAAwIa+gsEAAAAoreiHwQAAANhH5IrBAAAAEM1Ch8EAAABgEh6GwQAAAFhGi4zBAAAAmGbqi8EAAACo9QaFwQAAAEBqr4PBAAAA0EjwgcEAAAAwgkB3wQAAAKBtr3DBAAAAgGAzbsE=\"},\"y\":[2.5,7.5,12.5,17.5,22.5,27.5,32.5,37.5,42.5,47.5,52.5,57.5,62.5,67.5,72.5,77.5,82.5],\"type\":\"bar\"}],\"name\":\"2014\"},{\"data\":[{\"x\":{\"dtype\":\"f8\",\"bdata\":\"AAAAYA34hkEAAAB4xKuFQQAAAIgPSoRBAAAA0DAuhUEAAABoGOeIQQAAAKDTN45BAAAACNE4iUEAAACws7GGQQAAAHhDYIxBAAAA0EP+jEEAAADI76aHQQAAAHD4SoJBAAAA4BDHgUEAAADgDsV3QQAAAKAKZm9BAAAAwGwsZEE=\"},\"y\":[2.5,7.5,12.5,17.5,22.5,27.5,32.5,37.5,42.5,47.5,52.5,57.5,62.5,67.5,72.5,77.5,82.5],\"type\":\"bar\"},{\"x\":{\"dtype\":\"f8\",\"bdata\":\"AAAAsAjNg8EAAAB4LnqCwQAAAOj5UYHBAAAAiI5RgsEAAABY+h2GwQAAAOjksovBAAAAiF22h8EAAAB4Fp6FwQAAAChKXovBAAAAqEhZjMEAAADgq3CHwQAAAOibkoLBAAAAaAbKgsEAAADQzz55wQAAAOCRNXHBAAAAYHeEb8E=\"},\"y\":[2.5,7.5,12.5,17.5,22.5,27.5,32.5,37.5,42.5,47.5,52.5,57.5,62.5,67.5,72.5,77.5,82.5],\"type\":\"bar\"}],\"name\":\"2015\"},{\"data\":[{\"x\":{\"dtype\":\"f8\",\"bdata\":\"AAAAiKb2hkEAAACwOvuFQQAAAEA9RYRBAAAAMCTjhEEAAAAQ8nSHQQAAAPhhZI5BAAAAaMf7iUEAAACY2rmGQQAAAIgp8IpBAAAA0FFtjUEAAAAguiqKQQAAAFDGLoFBAAAAGINPgkEAAADA8Xt5QQAAAHClNnBBAAAAILcGZUE=\"},\"y\":[2.5,7.5,12.5,17.5,22.5,27.5,32.5,37.5,42.5,47.5,52.5,57.5,62.5,67.5,72.5,77.5,82.5],\"type\":\"bar\"},{\"x\":{\"dtype\":\"f8\",\"bdata\":\"AAAAWN3dg8EAAACY2MOCwQAAAMjeSIHBAAAA4IgAgsEAAAAgf7KEwQAAALjAs4vBAAAAEJBXiMEAAAAYDJyFwQAAAJgW8YnBAAAAiA2\\u002fjMEAAAAIEe6JwQAAAOiEboHBAAAAiEpSg8EAAABwSmx7wQAAAKDr3XHBAAAAQLJlcME=\"},\"y\":[2.5,7.5,12.5,17.5,22.5,27.5,32.5,37.5,42.5,47.5,52.5,57.5,62.5,67.5,72.5,77.5,82.5],\"type\":\"bar\"}],\"name\":\"2016\"},{\"data\":[{\"x\":{\"dtype\":\"f8\",\"bdata\":\"AAAA6MTghkEAAACwRWGGQQAAAHhqd4RBAAAAWMichEEAAACY0qyGQQAAAFiMYo1BAAAAQDDZikEAAACgW1iHQQAAAECre4lBAAAAQPDUjUEAAAB4upaLQQAAABDf3oBBAAAAkBmtgkEAAADQelt7QQAAAJDA+XBBAAAAgCzNZUE=\"},\"y\":[2.5,7.5,12.5,17.5,22.5,27.5,32.5,37.5,42.5,47.5,52.5,57.5,62.5,67.5,72.5,77.5,82.5],\"type\":\"bar\"},{\"x\":{\"dtype\":\"f8\",\"bdata\":\"AAAAqGjig8EAAACAhiODwQAAAKgEcYHBAAAAoN62gcEAAAAQFeWDwQAAAPjSoYrBAAAAWA8LicEAAABoRyiGwQAAADDegIjBAAAAiEgcjcEAAADQFViLwQAAAPB2F4HBAAAAaJ2pg8EAAACw0Nd9wQAAAEBbwHLBAAAAUL\\u002f6cME=\"},\"y\":[2.5,7.5,12.5,17.5,22.5,27.5,32.5,37.5,42.5,47.5,52.5,57.5,62.5,67.5,72.5,77.5,82.5],\"type\":\"bar\"}],\"name\":\"2017\"},{\"data\":[{\"x\":{\"dtype\":\"f8\",\"bdata\":\"AAAAaKFbhkEAAABg97eGQQAAAGirzYRBAAAAALdqhEEAAACgkwiGQQAAAGisC4xBAAAAsE3Zi0EAAAAYcgyIQQAAAJCiBohBAAAA6OTKjUEAAAAwRLSLQQAAAPBlNoJBAAAAENHLgkEAAABgsT99QQAAAEC5+nFBAAAAgFKKZkE=\"},\"y\":[2.5,7.5,12.5,17.5,22.5,27.5,32.5,37.5,42.5,47.5,52.5,57.5,62.5,67.5,72.5,77.5,82.5],\"type\":\"bar\"},{\"x\":{\"dtype\":\"f8\",\"bdata\":\"AAAAuOeEg8EAAABom3iDwQAAAKAMuoHBAAAAAA2BgcEAAAAA1juDwQAAAMByRInBAAAAMOXZicEAAACI4MeGwQAAADA1EIfBAAAAuNIIjcEAAACAunOLwQAAABCvaYLBAAAAcG28g8EAAAAYFyCAwQAAADC08nPBAAAAMK6FccE=\"},\"y\":[2.5,7.5,12.5,17.5,22.5,27.5,32.5,37.5,42.5,47.5,52.5,57.5,62.5,67.5,72.5,77.5,82.5],\"type\":\"bar\"}],\"name\":\"2018\"},{\"data\":[{\"x\":{\"dtype\":\"f8\",\"bdata\":\"AAAA2AB2hUEAAABg6eOGQQAAAJBaPIVBAAAAcGNThEEAAADQ7naFQQAAAIAhkIpBAAAAIOn7jEEAAACgpX+IQQAAAEgC9YZBAAAAYKAfjUEAAAAAxOGLQQAAALAif4RBAAAAIFlMgkEAAABAA+1+QQAAALDeI3NBAAAAAJY7Z0E=\"},\"y\":[2.5,7.5,12.5,17.5,22.5,27.5,32.5,37.5,42.5,47.5,52.5,57.5,62.5,67.5,72.5,77.5,82.5],\"type\":\"bar\"},{\"x\":{\"dtype\":\"f8\",\"bdata\":\"AAAAKG\\u002fLgsEAAAAQx6uDwQAAALDGGYLBAAAAKNdjgcEAAAD4eqaCwQAAAMAFyIfBAAAAcHfEisEAAADQXieHwQAAAJjO\\u002foXBAAAAoDNWjMEAAABwR5yLwQAAADCasYTBAAAAsO4sg8EAAACwDSSBwQAAAFDCb3XBAAAAIOsFcsE=\"},\"y\":[2.5,7.5,12.5,17.5,22.5,27.5,32.5,37.5,42.5,47.5,52.5,57.5,62.5,67.5,72.5,77.5,82.5],\"type\":\"bar\"}],\"name\":\"2019\"},{\"data\":[{\"x\":{\"dtype\":\"f8\",\"bdata\":\"AAAA4Os3hEEAAACAf++GQQAAACjdpIVBAAAA8EI9hEEAAABokRSFQQAAAJCcwYhBAAAAmHkMjkEAAAD4iRGJQQAAADBXgIZBAAAAyIj+i0EAAACg6FyMQQAAAEgx4YZBAAAAcP1LgUEAAACI4DOAQQAAAPBPk3RBAAAAgIHmZ0E=\"},\"y\":[2.5,7.5,12.5,17.5,22.5,27.5,32.5,37.5,42.5,47.5,52.5,57.5,62.5,67.5,72.5,77.5,82.5],\"type\":\"bar\"},{\"x\":{\"dtype\":\"f8\",\"bdata\":\"AAAASJ7HgcEAAAAwgcWDwQAAADhqdoLBAAAAwK9JgcEAAAAQ0D2CwQAAAHjOA4bBAAAAiMSYi8EAAAAQ+J+HwQAAAFi\\u002fhIXBAAAAWIIxi8EAAADoUhGMwQAAAPC8FofBAAAAAPYagsEAAADIh\\u002fmBwQAAADDQWHfBAAAAAG6NcsE=\"},\"y\":[2.5,7.5,12.5,17.5,22.5,27.5,32.5,37.5,42.5,47.5,52.5,57.5,62.5,67.5,72.5,77.5,82.5],\"type\":\"bar\"}],\"name\":\"2020\"},{\"data\":[{\"x\":{\"dtype\":\"f8\",\"bdata\":\"AAAA6JaAgkEAAAAo6fKGQQAAADi0+IVBAAAAkN88hEEAAAAg086EQQAAANiZVodBAAAAWCk\\u002fjkEAAABILdmJQQAAAJgHjoZBAAAAmH6ZikEAAAB41M+MQQAAABBVUolBAAAAeE9CgEEAAADINLOAQQAAAOCCGnZBAAAAwD6kaEE=\"},\"y\":[2.5,7.5,12.5,17.5,22.5,27.5,32.5,37.5,42.5,47.5,52.5,57.5,62.5,67.5,72.5,77.5,82.5],\"type\":\"bar\"},{\"x\":{\"dtype\":\"f8\",\"bdata\":\"AAAAAPhdgMEAAABof9qDwQAAAFi3w4LBAAAAwDxEgcEAAADoYvGBwQAAACganoTBAAAAYHOfi8EAAAAg4UWIwQAAAKCUh4XBAAAAMM7LicEAAABQT3yMwQAAAKiujonBAAAAoB4BgcEAAAAYl3+CwQAAAHDJcHnBAAAAsAgcc8E=\"},\"y\":[2.5,7.5,12.5,17.5,22.5,27.5,32.5,37.5,42.5,47.5,52.5,57.5,62.5,67.5,72.5,77.5,82.5],\"type\":\"bar\"}],\"name\":\"2021\"},{\"data\":[{\"x\":{\"dtype\":\"f8\",\"bdata\":\"AAAAKBxogEEAAADAnuCGQQAAAPCsYoZBAAAAcGRyhEEAAABIuIqEQQAAANC5kIZBAAAA8K1AjUEAAAAw2biKQQAAAIiKL4dBAAAAiBUviUEAAACQPzuNQQAAABhRtYpBAAAA4Fv9f0EAAABogw2BQQAAABCexXdBAAAAwCNNaUE=\"},\"y\":[2.5,7.5,12.5,17.5,22.5,27.5,32.5,37.5,42.5,47.5,52.5,57.5,62.5,67.5,72.5,77.5,82.5],\"type\":\"bar\"},{\"x\":{\"dtype\":\"f8\",\"bdata\":\"AAAAMLgufcEAAABgDeKDwQAAACiJJoPBAAAAmNtugcEAAADI8aiBwQAAACiT0YPBAAAAqKyPisEAAADoe\\u002fuIwQAAADh8FobBAAAAwHphiMEAAAAArN2MwQAAACA894rBAAAASLewgMEAAACwstaCwQAAANAtwnvBAAAA8JSnc8E=\"},\"y\":[2.5,7.5,12.5,17.5,22.5,27.5,32.5,37.5,42.5,47.5,52.5,57.5,62.5,67.5,72.5,77.5,82.5],\"type\":\"bar\"}],\"name\":\"2022\"},{\"data\":[{\"x\":{\"dtype\":\"f8\",\"bdata\":\"AAAAMID7fEEAAAAoul+GQQAAABhyvoZBAAAAKLDMhEEAAACgNFuEQQAAAEDd7oVBAAAAgNHti0EAAABYJ7yLQQAAAAA554dBAAAAYB\\u002fFh0EAAABoeDmNQQAAAKgR2IpBAAAAuEBRgUEAAAAQKC6BQQAAAPC0cHlBAAAAQA+2aUE=\"},\"y\":[2.5,7.5,12.5,17.5,22.5,27.5,32.5,37.5,42.5,47.5,52.5,57.5,62.5,67.5,72.5,77.5,82.5],\"type\":\"bar\"},{\"x\":{\"dtype\":\"f8\",\"bdata\":\"AAAAoLvoecEAAABQQYiDwQAAAJi6f4PBAAAAyO+6gcEAAACIfHSBwQAAAKhJKYPBAAAAcM80icEAAABIW82JwQAAAKCguYbBAAAAyI73hsEAAADo9tCMwQAAAIjBGIvBAAAA2MQCgsEAAABYYuyCwQAAAJDxD37BAAAAYPUpdME=\"},\"y\":[2.5,7.5,12.5,17.5,22.5,27.5,32.5,37.5,42.5,47.5,52.5,57.5,62.5,67.5,72.5,77.5,82.5],\"type\":\"bar\"}],\"name\":\"2023\"}]);\n",
       "                        }).then(function(){\n",
       "                            \n",
       "var gd = document.getElementById('fdf604d3-ceaa-4ee4-a4f6-8d61f118b03d');\n",
       "var x = new MutationObserver(function (mutations, observer) {{\n",
       "        var display = window.getComputedStyle(gd).display;\n",
       "        if (!display || display === 'none') {{\n",
       "            console.log([gd, 'removed!']);\n",
       "            Plotly.purge(gd);\n",
       "            observer.disconnect();\n",
       "        }}\n",
       "}});\n",
       "\n",
       "// Listen for the removal of the full notebook cells\n",
       "var notebookContainer = gd.closest('#notebook-container');\n",
       "if (notebookContainer) {{\n",
       "    x.observe(notebookContainer, {childList: true});\n",
       "}}\n",
       "\n",
       "// Listen for the clearing of the current output cell\n",
       "var outputEl = gd.closest('.output');\n",
       "if (outputEl) {{\n",
       "    x.observe(outputEl, {childList: true});\n",
       "}}\n",
       "\n",
       "                        })                };            </script>        </div>"
      ]
     },
     "metadata": {},
     "output_type": "display_data"
    }
   ],
   "source": [
    "population_pyramid_slider(df)"
   ]
  },
  {
   "cell_type": "code",
   "execution_count": 63,
   "id": "6e195639",
   "metadata": {},
   "outputs": [
    {
     "data": {
      "application/vnd.plotly.v1+json": {
       "config": {
        "plotlyServerURL": "https://plot.ly"
       },
       "data": [
        {
         "hovertemplate": "Category=Adult female<br>Year=%{x}<br>Mortality Rate Per 1,000=%{y}<extra></extra>",
         "legendgroup": "Adult female",
         "line": {
          "color": "#636efa",
          "dash": "solid"
         },
         "marker": {
          "symbol": "circle"
         },
         "mode": "lines",
         "name": "Adult female",
         "orientation": "v",
         "showlegend": true,
         "type": "scatter",
         "x": {
          "bdata": "5wcAAOYHAADlBwAA5AcAAOMHAADiBwAA4QcAAOAHAADfBwAA3gcAAN0HAADcBwAA2wcAANoHAADZBwAA2AcAANcHAADWBwAA1QcAANQHAADTBwAA0gcAANEHAADQBwAAzwcAAM4HAADNBwAAzAcAAMsHAADKBwAAyQcAAMgHAADHBwAAxgcAAMUHAADEBwAAwwcAAMIHAADBBwAAwAcAAL8HAAC+BwAAvQcAALwHAAC7BwAAugcAALkHAAC4BwAAtwcAALYHAAC1BwAAtAcAALMHAACyBwAAsQcAALAHAACvBwAArgcAAK0HAACsBwAAqwcAAKoHAACpBwAAqAcAAA==",
          "dtype": "i4"
         },
         "xaxis": "x",
         "y": {
          "bdata": "AAAAAAAA+H+LbOf7qfFKQNEi2/l+GktADi2yne+3S0B56SYxCHxMQP7UeOkm8UxAQmDl0CLLTUAv3SQGgXVOQMP1KFyPIk9Ag8DKoUXGT0DsUbgehTNQQMuhRbbzbVBAKVyPwvXQUEBqvHSTGCxRQJhuEoPAalFAf2q8dJN4UkBYObTIdi5SQH9qvHSTmFJAexSuR+ECU0ACK4cW2X5TQFg5tMh27lNAkxgEVg5lVECWQ4ts5+NUQBsv3SQG2VZADi2yne/nV0BWDi2ynZ9XQMP1KFyP+lhA2c73U+PNWUDufD81XipaQIlBYOXQcltADi2yne/XW0DsUbgehVNdQN0kBoGVE19A9P3UeOnmXkAzMzMzM0NfQBKDwMqhDWBAbef7qfGSYEDufD81XjZhQEJg5dAiy2FAGy/dJAZhYkD+1HjpJvViQB+F61G4nmNA0SLb+X5KZEB3vp8aLwllQI/C9Shcv2VASOF6FK6HZkD2KFyPwl1nQMl2vp8aT2hAyXa+nxpfaUA1XrpJDF5qQC/dJAaBjWtADAIrhxYVbUAzMzMzM1duQOxRuB6Fk29APQrXo3BhcEArhxbZzuVwQFTjpZvEbHFA7FG4HoX3cUBOYhBYOWpyQNEi2/l+CHNA2/l+aryQc0B9PzVeuvlzQA4tsp3vqXlAGQRWDi0mfkA=",
          "dtype": "f8"
         },
         "yaxis": "y"
        },
        {
         "hovertemplate": "Category=Adult male<br>Year=%{x}<br>Mortality Rate Per 1,000=%{y}<extra></extra>",
         "legendgroup": "Adult male",
         "line": {
          "color": "#EF553B",
          "dash": "solid"
         },
         "marker": {
          "symbol": "circle"
         },
         "mode": "lines",
         "name": "Adult male",
         "orientation": "v",
         "showlegend": true,
         "type": "scatter",
         "x": {
          "bdata": "5wcAAOYHAADlBwAA5AcAAOMHAADiBwAA4QcAAOAHAADfBwAA3gcAAN0HAADcBwAA2wcAANoHAADZBwAA2AcAANcHAADWBwAA1QcAANQHAADTBwAA0gcAANEHAADQBwAAzwcAAM4HAADNBwAAzAcAAMsHAADKBwAAyQcAAMgHAADHBwAAxgcAAMUHAADEBwAAwwcAAMIHAADBBwAAwAcAAL8HAAC+BwAAvQcAALwHAAC7BwAAugcAALkHAAC4BwAAtwcAALYHAAC1BwAAtAcAALMHAACyBwAAsQcAALAHAACvBwAArgcAAK0HAACsBwAAqwcAAKoHAACpBwAAqAcAAA==",
          "dtype": "i4"
         },
         "xaxis": "x",
         "y": {
          "bdata": "AAAAAAAA+H8xCKwcWgRaQFYOLbKdt1pA30+Nl25aW0A730+Nl45bQBsv3SQGKVxAjZduEoOwXUCcxCCwcjBdQEjhehSul11AkxgEVg4VXkDdJAaBlZNeQDVeukkMGl9AMQisHFqEX0CWQ4ts5wNgQIGVQ4tsM2BAdZMYBFa6YEA5tMh2vrdgQKrx0k1iyGBAg8DKoUUmYUCwcmiR7WBhQDEIrBxaoGFAK4cW2c7jYUCBlUOLbCtiQPyp8dJNlmJA1XjpJjHcYkA/NV66SWBjQEjhehSuv2NAGQRWDi0+ZEBQjZduEp9kQNejcD0KL2VAXrpJDAK/ZUAGgZVDi1hmQCUGgZVDL2dAarx0kxjgZ0D6fmq8dE9oQHnpJjEI2GhA2c73U+NtaUBvEoPAyvVpQJ7vp8ZLh2pATDeJQWAVa0CsHFpkO79rQFg5tMh2XmxA46WbxCAUbUCYbhKDwNZtQBSuR+F6kG5ADi2yne9vb0AGgZVDiyZwQIts5/upp3BAz/dT46VFcUA3iUFg5cJxQAIrhxbZMnJAmG4Sg8D4ckDLoUW286NzQKwcWmQ7k3RApHA9CtdZdUBaZDvfTwV2QJqZmZmZyXZADi2yne+Hd0CPwvUoXE14QLbz/dR49XhA001iEFiteUCiRbbz/UR6QLByaJHtSIBAfT81Xrq0gkA=",
          "dtype": "f8"
         },
         "yaxis": "y"
        }
       ],
       "layout": {
        "legend": {
         "title": {
          "text": "Category"
         },
         "tracegroupgap": 0
        },
        "template": {
         "data": {
          "bar": [
           {
            "error_x": {
             "color": "#2a3f5f"
            },
            "error_y": {
             "color": "#2a3f5f"
            },
            "marker": {
             "line": {
              "color": "#E5ECF6",
              "width": 0.5
             },
             "pattern": {
              "fillmode": "overlay",
              "size": 10,
              "solidity": 0.2
             }
            },
            "type": "bar"
           }
          ],
          "barpolar": [
           {
            "marker": {
             "line": {
              "color": "#E5ECF6",
              "width": 0.5
             },
             "pattern": {
              "fillmode": "overlay",
              "size": 10,
              "solidity": 0.2
             }
            },
            "type": "barpolar"
           }
          ],
          "carpet": [
           {
            "aaxis": {
             "endlinecolor": "#2a3f5f",
             "gridcolor": "white",
             "linecolor": "white",
             "minorgridcolor": "white",
             "startlinecolor": "#2a3f5f"
            },
            "baxis": {
             "endlinecolor": "#2a3f5f",
             "gridcolor": "white",
             "linecolor": "white",
             "minorgridcolor": "white",
             "startlinecolor": "#2a3f5f"
            },
            "type": "carpet"
           }
          ],
          "choropleth": [
           {
            "colorbar": {
             "outlinewidth": 0,
             "ticks": ""
            },
            "type": "choropleth"
           }
          ],
          "contour": [
           {
            "colorbar": {
             "outlinewidth": 0,
             "ticks": ""
            },
            "colorscale": [
             [
              0,
              "#0d0887"
             ],
             [
              0.1111111111111111,
              "#46039f"
             ],
             [
              0.2222222222222222,
              "#7201a8"
             ],
             [
              0.3333333333333333,
              "#9c179e"
             ],
             [
              0.4444444444444444,
              "#bd3786"
             ],
             [
              0.5555555555555556,
              "#d8576b"
             ],
             [
              0.6666666666666666,
              "#ed7953"
             ],
             [
              0.7777777777777778,
              "#fb9f3a"
             ],
             [
              0.8888888888888888,
              "#fdca26"
             ],
             [
              1,
              "#f0f921"
             ]
            ],
            "type": "contour"
           }
          ],
          "contourcarpet": [
           {
            "colorbar": {
             "outlinewidth": 0,
             "ticks": ""
            },
            "type": "contourcarpet"
           }
          ],
          "heatmap": [
           {
            "colorbar": {
             "outlinewidth": 0,
             "ticks": ""
            },
            "colorscale": [
             [
              0,
              "#0d0887"
             ],
             [
              0.1111111111111111,
              "#46039f"
             ],
             [
              0.2222222222222222,
              "#7201a8"
             ],
             [
              0.3333333333333333,
              "#9c179e"
             ],
             [
              0.4444444444444444,
              "#bd3786"
             ],
             [
              0.5555555555555556,
              "#d8576b"
             ],
             [
              0.6666666666666666,
              "#ed7953"
             ],
             [
              0.7777777777777778,
              "#fb9f3a"
             ],
             [
              0.8888888888888888,
              "#fdca26"
             ],
             [
              1,
              "#f0f921"
             ]
            ],
            "type": "heatmap"
           }
          ],
          "histogram": [
           {
            "marker": {
             "pattern": {
              "fillmode": "overlay",
              "size": 10,
              "solidity": 0.2
             }
            },
            "type": "histogram"
           }
          ],
          "histogram2d": [
           {
            "colorbar": {
             "outlinewidth": 0,
             "ticks": ""
            },
            "colorscale": [
             [
              0,
              "#0d0887"
             ],
             [
              0.1111111111111111,
              "#46039f"
             ],
             [
              0.2222222222222222,
              "#7201a8"
             ],
             [
              0.3333333333333333,
              "#9c179e"
             ],
             [
              0.4444444444444444,
              "#bd3786"
             ],
             [
              0.5555555555555556,
              "#d8576b"
             ],
             [
              0.6666666666666666,
              "#ed7953"
             ],
             [
              0.7777777777777778,
              "#fb9f3a"
             ],
             [
              0.8888888888888888,
              "#fdca26"
             ],
             [
              1,
              "#f0f921"
             ]
            ],
            "type": "histogram2d"
           }
          ],
          "histogram2dcontour": [
           {
            "colorbar": {
             "outlinewidth": 0,
             "ticks": ""
            },
            "colorscale": [
             [
              0,
              "#0d0887"
             ],
             [
              0.1111111111111111,
              "#46039f"
             ],
             [
              0.2222222222222222,
              "#7201a8"
             ],
             [
              0.3333333333333333,
              "#9c179e"
             ],
             [
              0.4444444444444444,
              "#bd3786"
             ],
             [
              0.5555555555555556,
              "#d8576b"
             ],
             [
              0.6666666666666666,
              "#ed7953"
             ],
             [
              0.7777777777777778,
              "#fb9f3a"
             ],
             [
              0.8888888888888888,
              "#fdca26"
             ],
             [
              1,
              "#f0f921"
             ]
            ],
            "type": "histogram2dcontour"
           }
          ],
          "mesh3d": [
           {
            "colorbar": {
             "outlinewidth": 0,
             "ticks": ""
            },
            "type": "mesh3d"
           }
          ],
          "parcoords": [
           {
            "line": {
             "colorbar": {
              "outlinewidth": 0,
              "ticks": ""
             }
            },
            "type": "parcoords"
           }
          ],
          "pie": [
           {
            "automargin": true,
            "type": "pie"
           }
          ],
          "scatter": [
           {
            "fillpattern": {
             "fillmode": "overlay",
             "size": 10,
             "solidity": 0.2
            },
            "type": "scatter"
           }
          ],
          "scatter3d": [
           {
            "line": {
             "colorbar": {
              "outlinewidth": 0,
              "ticks": ""
             }
            },
            "marker": {
             "colorbar": {
              "outlinewidth": 0,
              "ticks": ""
             }
            },
            "type": "scatter3d"
           }
          ],
          "scattercarpet": [
           {
            "marker": {
             "colorbar": {
              "outlinewidth": 0,
              "ticks": ""
             }
            },
            "type": "scattercarpet"
           }
          ],
          "scattergeo": [
           {
            "marker": {
             "colorbar": {
              "outlinewidth": 0,
              "ticks": ""
             }
            },
            "type": "scattergeo"
           }
          ],
          "scattergl": [
           {
            "marker": {
             "colorbar": {
              "outlinewidth": 0,
              "ticks": ""
             }
            },
            "type": "scattergl"
           }
          ],
          "scattermap": [
           {
            "marker": {
             "colorbar": {
              "outlinewidth": 0,
              "ticks": ""
             }
            },
            "type": "scattermap"
           }
          ],
          "scattermapbox": [
           {
            "marker": {
             "colorbar": {
              "outlinewidth": 0,
              "ticks": ""
             }
            },
            "type": "scattermapbox"
           }
          ],
          "scatterpolar": [
           {
            "marker": {
             "colorbar": {
              "outlinewidth": 0,
              "ticks": ""
             }
            },
            "type": "scatterpolar"
           }
          ],
          "scatterpolargl": [
           {
            "marker": {
             "colorbar": {
              "outlinewidth": 0,
              "ticks": ""
             }
            },
            "type": "scatterpolargl"
           }
          ],
          "scatterternary": [
           {
            "marker": {
             "colorbar": {
              "outlinewidth": 0,
              "ticks": ""
             }
            },
            "type": "scatterternary"
           }
          ],
          "surface": [
           {
            "colorbar": {
             "outlinewidth": 0,
             "ticks": ""
            },
            "colorscale": [
             [
              0,
              "#0d0887"
             ],
             [
              0.1111111111111111,
              "#46039f"
             ],
             [
              0.2222222222222222,
              "#7201a8"
             ],
             [
              0.3333333333333333,
              "#9c179e"
             ],
             [
              0.4444444444444444,
              "#bd3786"
             ],
             [
              0.5555555555555556,
              "#d8576b"
             ],
             [
              0.6666666666666666,
              "#ed7953"
             ],
             [
              0.7777777777777778,
              "#fb9f3a"
             ],
             [
              0.8888888888888888,
              "#fdca26"
             ],
             [
              1,
              "#f0f921"
             ]
            ],
            "type": "surface"
           }
          ],
          "table": [
           {
            "cells": {
             "fill": {
              "color": "#EBF0F8"
             },
             "line": {
              "color": "white"
             }
            },
            "header": {
             "fill": {
              "color": "#C8D4E3"
             },
             "line": {
              "color": "white"
             }
            },
            "type": "table"
           }
          ]
         },
         "layout": {
          "annotationdefaults": {
           "arrowcolor": "#2a3f5f",
           "arrowhead": 0,
           "arrowwidth": 1
          },
          "autotypenumbers": "strict",
          "coloraxis": {
           "colorbar": {
            "outlinewidth": 0,
            "ticks": ""
           }
          },
          "colorscale": {
           "diverging": [
            [
             0,
             "#8e0152"
            ],
            [
             0.1,
             "#c51b7d"
            ],
            [
             0.2,
             "#de77ae"
            ],
            [
             0.3,
             "#f1b6da"
            ],
            [
             0.4,
             "#fde0ef"
            ],
            [
             0.5,
             "#f7f7f7"
            ],
            [
             0.6,
             "#e6f5d0"
            ],
            [
             0.7,
             "#b8e186"
            ],
            [
             0.8,
             "#7fbc41"
            ],
            [
             0.9,
             "#4d9221"
            ],
            [
             1,
             "#276419"
            ]
           ],
           "sequential": [
            [
             0,
             "#0d0887"
            ],
            [
             0.1111111111111111,
             "#46039f"
            ],
            [
             0.2222222222222222,
             "#7201a8"
            ],
            [
             0.3333333333333333,
             "#9c179e"
            ],
            [
             0.4444444444444444,
             "#bd3786"
            ],
            [
             0.5555555555555556,
             "#d8576b"
            ],
            [
             0.6666666666666666,
             "#ed7953"
            ],
            [
             0.7777777777777778,
             "#fb9f3a"
            ],
            [
             0.8888888888888888,
             "#fdca26"
            ],
            [
             1,
             "#f0f921"
            ]
           ],
           "sequentialminus": [
            [
             0,
             "#0d0887"
            ],
            [
             0.1111111111111111,
             "#46039f"
            ],
            [
             0.2222222222222222,
             "#7201a8"
            ],
            [
             0.3333333333333333,
             "#9c179e"
            ],
            [
             0.4444444444444444,
             "#bd3786"
            ],
            [
             0.5555555555555556,
             "#d8576b"
            ],
            [
             0.6666666666666666,
             "#ed7953"
            ],
            [
             0.7777777777777778,
             "#fb9f3a"
            ],
            [
             0.8888888888888888,
             "#fdca26"
            ],
            [
             1,
             "#f0f921"
            ]
           ]
          },
          "colorway": [
           "#636efa",
           "#EF553B",
           "#00cc96",
           "#ab63fa",
           "#FFA15A",
           "#19d3f3",
           "#FF6692",
           "#B6E880",
           "#FF97FF",
           "#FECB52"
          ],
          "font": {
           "color": "#2a3f5f"
          },
          "geo": {
           "bgcolor": "white",
           "lakecolor": "white",
           "landcolor": "#E5ECF6",
           "showlakes": true,
           "showland": true,
           "subunitcolor": "white"
          },
          "hoverlabel": {
           "align": "left"
          },
          "hovermode": "closest",
          "mapbox": {
           "style": "light"
          },
          "paper_bgcolor": "white",
          "plot_bgcolor": "#E5ECF6",
          "polar": {
           "angularaxis": {
            "gridcolor": "white",
            "linecolor": "white",
            "ticks": ""
           },
           "bgcolor": "#E5ECF6",
           "radialaxis": {
            "gridcolor": "white",
            "linecolor": "white",
            "ticks": ""
           }
          },
          "scene": {
           "xaxis": {
            "backgroundcolor": "#E5ECF6",
            "gridcolor": "white",
            "gridwidth": 2,
            "linecolor": "white",
            "showbackground": true,
            "ticks": "",
            "zerolinecolor": "white"
           },
           "yaxis": {
            "backgroundcolor": "#E5ECF6",
            "gridcolor": "white",
            "gridwidth": 2,
            "linecolor": "white",
            "showbackground": true,
            "ticks": "",
            "zerolinecolor": "white"
           },
           "zaxis": {
            "backgroundcolor": "#E5ECF6",
            "gridcolor": "white",
            "gridwidth": 2,
            "linecolor": "white",
            "showbackground": true,
            "ticks": "",
            "zerolinecolor": "white"
           }
          },
          "shapedefaults": {
           "line": {
            "color": "#2a3f5f"
           }
          },
          "ternary": {
           "aaxis": {
            "gridcolor": "white",
            "linecolor": "white",
            "ticks": ""
           },
           "baxis": {
            "gridcolor": "white",
            "linecolor": "white",
            "ticks": ""
           },
           "bgcolor": "#E5ECF6",
           "caxis": {
            "gridcolor": "white",
            "linecolor": "white",
            "ticks": ""
           }
          },
          "title": {
           "x": 0.05
          },
          "xaxis": {
           "automargin": true,
           "gridcolor": "white",
           "linecolor": "white",
           "ticks": "",
           "title": {
            "standoff": 15
           },
           "zerolinecolor": "white",
           "zerolinewidth": 2
          },
          "yaxis": {
           "automargin": true,
           "gridcolor": "white",
           "linecolor": "white",
           "ticks": "",
           "title": {
            "standoff": 15
           },
           "zerolinecolor": "white",
           "zerolinewidth": 2
          }
         }
        },
        "title": {
         "text": "Mortality Rate per 1,000 Adults (1960-2021)"
        },
        "xaxis": {
         "anchor": "y",
         "domain": [
          0,
          1
         ],
         "title": {
          "text": "Year"
         }
        },
        "yaxis": {
         "anchor": "x",
         "domain": [
          0,
          1
         ],
         "title": {
          "text": "Mortality Rate Per 1,000"
         }
        }
       }
      },
      "text/html": [
       "<div>            <script src=\"https://cdnjs.cloudflare.com/ajax/libs/mathjax/2.7.5/MathJax.js?config=TeX-AMS-MML_SVG\"></script><script type=\"text/javascript\">if (window.MathJax && window.MathJax.Hub && window.MathJax.Hub.Config) {window.MathJax.Hub.Config({SVG: {font: \"STIX-Web\"}});}</script>                <script type=\"text/javascript\">window.PlotlyConfig = {MathJaxConfig: 'local'};</script>\n",
       "        <script charset=\"utf-8\" src=\"https://cdn.plot.ly/plotly-3.0.0.min.js\"></script>                <div id=\"33a0c59e-b42c-4987-9a48-f505427127bb\" class=\"plotly-graph-div\" style=\"height:525px; width:100%;\"></div>            <script type=\"text/javascript\">                window.PLOTLYENV=window.PLOTLYENV || {};                                if (document.getElementById(\"33a0c59e-b42c-4987-9a48-f505427127bb\")) {                    Plotly.newPlot(                        \"33a0c59e-b42c-4987-9a48-f505427127bb\",                        [{\"hovertemplate\":\"Category=Adult female\\u003cbr\\u003eYear=%{x}\\u003cbr\\u003eMortality Rate Per 1,000=%{y}\\u003cextra\\u003e\\u003c\\u002fextra\\u003e\",\"legendgroup\":\"Adult female\",\"line\":{\"color\":\"#636efa\",\"dash\":\"solid\"},\"marker\":{\"symbol\":\"circle\"},\"mode\":\"lines\",\"name\":\"Adult female\",\"orientation\":\"v\",\"showlegend\":true,\"x\":{\"dtype\":\"i4\",\"bdata\":\"5wcAAOYHAADlBwAA5AcAAOMHAADiBwAA4QcAAOAHAADfBwAA3gcAAN0HAADcBwAA2wcAANoHAADZBwAA2AcAANcHAADWBwAA1QcAANQHAADTBwAA0gcAANEHAADQBwAAzwcAAM4HAADNBwAAzAcAAMsHAADKBwAAyQcAAMgHAADHBwAAxgcAAMUHAADEBwAAwwcAAMIHAADBBwAAwAcAAL8HAAC+BwAAvQcAALwHAAC7BwAAugcAALkHAAC4BwAAtwcAALYHAAC1BwAAtAcAALMHAACyBwAAsQcAALAHAACvBwAArgcAAK0HAACsBwAAqwcAAKoHAACpBwAAqAcAAA==\"},\"xaxis\":\"x\",\"y\":{\"dtype\":\"f8\",\"bdata\":\"AAAAAAAA+H+LbOf7qfFKQNEi2\\u002fl+GktADi2yne+3S0B56SYxCHxMQP7UeOkm8UxAQmDl0CLLTUAv3SQGgXVOQMP1KFyPIk9Ag8DKoUXGT0DsUbgehTNQQMuhRbbzbVBAKVyPwvXQUEBqvHSTGCxRQJhuEoPAalFAf2q8dJN4UkBYObTIdi5SQH9qvHSTmFJAexSuR+ECU0ACK4cW2X5TQFg5tMh27lNAkxgEVg5lVECWQ4ts5+NUQBsv3SQG2VZADi2yne\\u002fnV0BWDi2ynZ9XQMP1KFyP+lhA2c73U+PNWUDufD81XipaQIlBYOXQcltADi2yne\\u002fXW0DsUbgehVNdQN0kBoGVE19A9P3UeOnmXkAzMzMzM0NfQBKDwMqhDWBAbef7qfGSYEDufD81XjZhQEJg5dAiy2FAGy\\u002fdJAZhYkD+1HjpJvViQB+F61G4nmNA0SLb+X5KZEB3vp8aLwllQI\\u002fC9Shcv2VASOF6FK6HZkD2KFyPwl1nQMl2vp8aT2hAyXa+nxpfaUA1XrpJDF5qQC\\u002fdJAaBjWtADAIrhxYVbUAzMzMzM1duQOxRuB6Fk29APQrXo3BhcEArhxbZzuVwQFTjpZvEbHFA7FG4HoX3cUBOYhBYOWpyQNEi2\\u002fl+CHNA2\\u002fl+aryQc0B9PzVeuvlzQA4tsp3vqXlAGQRWDi0mfkA=\"},\"yaxis\":\"y\",\"type\":\"scatter\"},{\"hovertemplate\":\"Category=Adult male\\u003cbr\\u003eYear=%{x}\\u003cbr\\u003eMortality Rate Per 1,000=%{y}\\u003cextra\\u003e\\u003c\\u002fextra\\u003e\",\"legendgroup\":\"Adult male\",\"line\":{\"color\":\"#EF553B\",\"dash\":\"solid\"},\"marker\":{\"symbol\":\"circle\"},\"mode\":\"lines\",\"name\":\"Adult male\",\"orientation\":\"v\",\"showlegend\":true,\"x\":{\"dtype\":\"i4\",\"bdata\":\"5wcAAOYHAADlBwAA5AcAAOMHAADiBwAA4QcAAOAHAADfBwAA3gcAAN0HAADcBwAA2wcAANoHAADZBwAA2AcAANcHAADWBwAA1QcAANQHAADTBwAA0gcAANEHAADQBwAAzwcAAM4HAADNBwAAzAcAAMsHAADKBwAAyQcAAMgHAADHBwAAxgcAAMUHAADEBwAAwwcAAMIHAADBBwAAwAcAAL8HAAC+BwAAvQcAALwHAAC7BwAAugcAALkHAAC4BwAAtwcAALYHAAC1BwAAtAcAALMHAACyBwAAsQcAALAHAACvBwAArgcAAK0HAACsBwAAqwcAAKoHAACpBwAAqAcAAA==\"},\"xaxis\":\"x\",\"y\":{\"dtype\":\"f8\",\"bdata\":\"AAAAAAAA+H8xCKwcWgRaQFYOLbKdt1pA30+Nl25aW0A730+Nl45bQBsv3SQGKVxAjZduEoOwXUCcxCCwcjBdQEjhehSul11AkxgEVg4VXkDdJAaBlZNeQDVeukkMGl9AMQisHFqEX0CWQ4ts5wNgQIGVQ4tsM2BAdZMYBFa6YEA5tMh2vrdgQKrx0k1iyGBAg8DKoUUmYUCwcmiR7WBhQDEIrBxaoGFAK4cW2c7jYUCBlUOLbCtiQPyp8dJNlmJA1XjpJjHcYkA\\u002fNV66SWBjQEjhehSuv2NAGQRWDi0+ZEBQjZduEp9kQNejcD0KL2VAXrpJDAK\\u002fZUAGgZVDi1hmQCUGgZVDL2dAarx0kxjgZ0D6fmq8dE9oQHnpJjEI2GhA2c73U+NtaUBvEoPAyvVpQJ7vp8ZLh2pATDeJQWAVa0CsHFpkO79rQFg5tMh2XmxA46WbxCAUbUCYbhKDwNZtQBSuR+F6kG5ADi2yne9vb0AGgZVDiyZwQIts5\\u002fupp3BAz\\u002fdT46VFcUA3iUFg5cJxQAIrhxbZMnJAmG4Sg8D4ckDLoUW286NzQKwcWmQ7k3RApHA9CtdZdUBaZDvfTwV2QJqZmZmZyXZADi2yne+Hd0CPwvUoXE14QLbz\\u002fdR49XhA001iEFiteUCiRbbz\\u002fUR6QLByaJHtSIBAfT81Xrq0gkA=\"},\"yaxis\":\"y\",\"type\":\"scatter\"}],                        {\"template\":{\"data\":{\"histogram2dcontour\":[{\"type\":\"histogram2dcontour\",\"colorbar\":{\"outlinewidth\":0,\"ticks\":\"\"},\"colorscale\":[[0.0,\"#0d0887\"],[0.1111111111111111,\"#46039f\"],[0.2222222222222222,\"#7201a8\"],[0.3333333333333333,\"#9c179e\"],[0.4444444444444444,\"#bd3786\"],[0.5555555555555556,\"#d8576b\"],[0.6666666666666666,\"#ed7953\"],[0.7777777777777778,\"#fb9f3a\"],[0.8888888888888888,\"#fdca26\"],[1.0,\"#f0f921\"]]}],\"choropleth\":[{\"type\":\"choropleth\",\"colorbar\":{\"outlinewidth\":0,\"ticks\":\"\"}}],\"histogram2d\":[{\"type\":\"histogram2d\",\"colorbar\":{\"outlinewidth\":0,\"ticks\":\"\"},\"colorscale\":[[0.0,\"#0d0887\"],[0.1111111111111111,\"#46039f\"],[0.2222222222222222,\"#7201a8\"],[0.3333333333333333,\"#9c179e\"],[0.4444444444444444,\"#bd3786\"],[0.5555555555555556,\"#d8576b\"],[0.6666666666666666,\"#ed7953\"],[0.7777777777777778,\"#fb9f3a\"],[0.8888888888888888,\"#fdca26\"],[1.0,\"#f0f921\"]]}],\"heatmap\":[{\"type\":\"heatmap\",\"colorbar\":{\"outlinewidth\":0,\"ticks\":\"\"},\"colorscale\":[[0.0,\"#0d0887\"],[0.1111111111111111,\"#46039f\"],[0.2222222222222222,\"#7201a8\"],[0.3333333333333333,\"#9c179e\"],[0.4444444444444444,\"#bd3786\"],[0.5555555555555556,\"#d8576b\"],[0.6666666666666666,\"#ed7953\"],[0.7777777777777778,\"#fb9f3a\"],[0.8888888888888888,\"#fdca26\"],[1.0,\"#f0f921\"]]}],\"contourcarpet\":[{\"type\":\"contourcarpet\",\"colorbar\":{\"outlinewidth\":0,\"ticks\":\"\"}}],\"contour\":[{\"type\":\"contour\",\"colorbar\":{\"outlinewidth\":0,\"ticks\":\"\"},\"colorscale\":[[0.0,\"#0d0887\"],[0.1111111111111111,\"#46039f\"],[0.2222222222222222,\"#7201a8\"],[0.3333333333333333,\"#9c179e\"],[0.4444444444444444,\"#bd3786\"],[0.5555555555555556,\"#d8576b\"],[0.6666666666666666,\"#ed7953\"],[0.7777777777777778,\"#fb9f3a\"],[0.8888888888888888,\"#fdca26\"],[1.0,\"#f0f921\"]]}],\"surface\":[{\"type\":\"surface\",\"colorbar\":{\"outlinewidth\":0,\"ticks\":\"\"},\"colorscale\":[[0.0,\"#0d0887\"],[0.1111111111111111,\"#46039f\"],[0.2222222222222222,\"#7201a8\"],[0.3333333333333333,\"#9c179e\"],[0.4444444444444444,\"#bd3786\"],[0.5555555555555556,\"#d8576b\"],[0.6666666666666666,\"#ed7953\"],[0.7777777777777778,\"#fb9f3a\"],[0.8888888888888888,\"#fdca26\"],[1.0,\"#f0f921\"]]}],\"mesh3d\":[{\"type\":\"mesh3d\",\"colorbar\":{\"outlinewidth\":0,\"ticks\":\"\"}}],\"scatter\":[{\"fillpattern\":{\"fillmode\":\"overlay\",\"size\":10,\"solidity\":0.2},\"type\":\"scatter\"}],\"parcoords\":[{\"type\":\"parcoords\",\"line\":{\"colorbar\":{\"outlinewidth\":0,\"ticks\":\"\"}}}],\"scatterpolargl\":[{\"type\":\"scatterpolargl\",\"marker\":{\"colorbar\":{\"outlinewidth\":0,\"ticks\":\"\"}}}],\"bar\":[{\"error_x\":{\"color\":\"#2a3f5f\"},\"error_y\":{\"color\":\"#2a3f5f\"},\"marker\":{\"line\":{\"color\":\"#E5ECF6\",\"width\":0.5},\"pattern\":{\"fillmode\":\"overlay\",\"size\":10,\"solidity\":0.2}},\"type\":\"bar\"}],\"scattergeo\":[{\"type\":\"scattergeo\",\"marker\":{\"colorbar\":{\"outlinewidth\":0,\"ticks\":\"\"}}}],\"scatterpolar\":[{\"type\":\"scatterpolar\",\"marker\":{\"colorbar\":{\"outlinewidth\":0,\"ticks\":\"\"}}}],\"histogram\":[{\"marker\":{\"pattern\":{\"fillmode\":\"overlay\",\"size\":10,\"solidity\":0.2}},\"type\":\"histogram\"}],\"scattergl\":[{\"type\":\"scattergl\",\"marker\":{\"colorbar\":{\"outlinewidth\":0,\"ticks\":\"\"}}}],\"scatter3d\":[{\"type\":\"scatter3d\",\"line\":{\"colorbar\":{\"outlinewidth\":0,\"ticks\":\"\"}},\"marker\":{\"colorbar\":{\"outlinewidth\":0,\"ticks\":\"\"}}}],\"scattermap\":[{\"type\":\"scattermap\",\"marker\":{\"colorbar\":{\"outlinewidth\":0,\"ticks\":\"\"}}}],\"scattermapbox\":[{\"type\":\"scattermapbox\",\"marker\":{\"colorbar\":{\"outlinewidth\":0,\"ticks\":\"\"}}}],\"scatterternary\":[{\"type\":\"scatterternary\",\"marker\":{\"colorbar\":{\"outlinewidth\":0,\"ticks\":\"\"}}}],\"scattercarpet\":[{\"type\":\"scattercarpet\",\"marker\":{\"colorbar\":{\"outlinewidth\":0,\"ticks\":\"\"}}}],\"carpet\":[{\"aaxis\":{\"endlinecolor\":\"#2a3f5f\",\"gridcolor\":\"white\",\"linecolor\":\"white\",\"minorgridcolor\":\"white\",\"startlinecolor\":\"#2a3f5f\"},\"baxis\":{\"endlinecolor\":\"#2a3f5f\",\"gridcolor\":\"white\",\"linecolor\":\"white\",\"minorgridcolor\":\"white\",\"startlinecolor\":\"#2a3f5f\"},\"type\":\"carpet\"}],\"table\":[{\"cells\":{\"fill\":{\"color\":\"#EBF0F8\"},\"line\":{\"color\":\"white\"}},\"header\":{\"fill\":{\"color\":\"#C8D4E3\"},\"line\":{\"color\":\"white\"}},\"type\":\"table\"}],\"barpolar\":[{\"marker\":{\"line\":{\"color\":\"#E5ECF6\",\"width\":0.5},\"pattern\":{\"fillmode\":\"overlay\",\"size\":10,\"solidity\":0.2}},\"type\":\"barpolar\"}],\"pie\":[{\"automargin\":true,\"type\":\"pie\"}]},\"layout\":{\"autotypenumbers\":\"strict\",\"colorway\":[\"#636efa\",\"#EF553B\",\"#00cc96\",\"#ab63fa\",\"#FFA15A\",\"#19d3f3\",\"#FF6692\",\"#B6E880\",\"#FF97FF\",\"#FECB52\"],\"font\":{\"color\":\"#2a3f5f\"},\"hovermode\":\"closest\",\"hoverlabel\":{\"align\":\"left\"},\"paper_bgcolor\":\"white\",\"plot_bgcolor\":\"#E5ECF6\",\"polar\":{\"bgcolor\":\"#E5ECF6\",\"angularaxis\":{\"gridcolor\":\"white\",\"linecolor\":\"white\",\"ticks\":\"\"},\"radialaxis\":{\"gridcolor\":\"white\",\"linecolor\":\"white\",\"ticks\":\"\"}},\"ternary\":{\"bgcolor\":\"#E5ECF6\",\"aaxis\":{\"gridcolor\":\"white\",\"linecolor\":\"white\",\"ticks\":\"\"},\"baxis\":{\"gridcolor\":\"white\",\"linecolor\":\"white\",\"ticks\":\"\"},\"caxis\":{\"gridcolor\":\"white\",\"linecolor\":\"white\",\"ticks\":\"\"}},\"coloraxis\":{\"colorbar\":{\"outlinewidth\":0,\"ticks\":\"\"}},\"colorscale\":{\"sequential\":[[0.0,\"#0d0887\"],[0.1111111111111111,\"#46039f\"],[0.2222222222222222,\"#7201a8\"],[0.3333333333333333,\"#9c179e\"],[0.4444444444444444,\"#bd3786\"],[0.5555555555555556,\"#d8576b\"],[0.6666666666666666,\"#ed7953\"],[0.7777777777777778,\"#fb9f3a\"],[0.8888888888888888,\"#fdca26\"],[1.0,\"#f0f921\"]],\"sequentialminus\":[[0.0,\"#0d0887\"],[0.1111111111111111,\"#46039f\"],[0.2222222222222222,\"#7201a8\"],[0.3333333333333333,\"#9c179e\"],[0.4444444444444444,\"#bd3786\"],[0.5555555555555556,\"#d8576b\"],[0.6666666666666666,\"#ed7953\"],[0.7777777777777778,\"#fb9f3a\"],[0.8888888888888888,\"#fdca26\"],[1.0,\"#f0f921\"]],\"diverging\":[[0,\"#8e0152\"],[0.1,\"#c51b7d\"],[0.2,\"#de77ae\"],[0.3,\"#f1b6da\"],[0.4,\"#fde0ef\"],[0.5,\"#f7f7f7\"],[0.6,\"#e6f5d0\"],[0.7,\"#b8e186\"],[0.8,\"#7fbc41\"],[0.9,\"#4d9221\"],[1,\"#276419\"]]},\"xaxis\":{\"gridcolor\":\"white\",\"linecolor\":\"white\",\"ticks\":\"\",\"title\":{\"standoff\":15},\"zerolinecolor\":\"white\",\"automargin\":true,\"zerolinewidth\":2},\"yaxis\":{\"gridcolor\":\"white\",\"linecolor\":\"white\",\"ticks\":\"\",\"title\":{\"standoff\":15},\"zerolinecolor\":\"white\",\"automargin\":true,\"zerolinewidth\":2},\"scene\":{\"xaxis\":{\"backgroundcolor\":\"#E5ECF6\",\"gridcolor\":\"white\",\"linecolor\":\"white\",\"showbackground\":true,\"ticks\":\"\",\"zerolinecolor\":\"white\",\"gridwidth\":2},\"yaxis\":{\"backgroundcolor\":\"#E5ECF6\",\"gridcolor\":\"white\",\"linecolor\":\"white\",\"showbackground\":true,\"ticks\":\"\",\"zerolinecolor\":\"white\",\"gridwidth\":2},\"zaxis\":{\"backgroundcolor\":\"#E5ECF6\",\"gridcolor\":\"white\",\"linecolor\":\"white\",\"showbackground\":true,\"ticks\":\"\",\"zerolinecolor\":\"white\",\"gridwidth\":2}},\"shapedefaults\":{\"line\":{\"color\":\"#2a3f5f\"}},\"annotationdefaults\":{\"arrowcolor\":\"#2a3f5f\",\"arrowhead\":0,\"arrowwidth\":1},\"geo\":{\"bgcolor\":\"white\",\"landcolor\":\"#E5ECF6\",\"subunitcolor\":\"white\",\"showland\":true,\"showlakes\":true,\"lakecolor\":\"white\"},\"title\":{\"x\":0.05},\"mapbox\":{\"style\":\"light\"}}},\"xaxis\":{\"anchor\":\"y\",\"domain\":[0.0,1.0],\"title\":{\"text\":\"Year\"}},\"yaxis\":{\"anchor\":\"x\",\"domain\":[0.0,1.0],\"title\":{\"text\":\"Mortality Rate Per 1,000\"}},\"legend\":{\"title\":{\"text\":\"Category\"},\"tracegroupgap\":0},\"title\":{\"text\":\"Mortality Rate per 1,000 Adults (1960-2021)\"}},                        {\"responsive\": true}                    ).then(function(){\n",
       "                            \n",
       "var gd = document.getElementById('33a0c59e-b42c-4987-9a48-f505427127bb');\n",
       "var x = new MutationObserver(function (mutations, observer) {{\n",
       "        var display = window.getComputedStyle(gd).display;\n",
       "        if (!display || display === 'none') {{\n",
       "            console.log([gd, 'removed!']);\n",
       "            Plotly.purge(gd);\n",
       "            observer.disconnect();\n",
       "        }}\n",
       "}});\n",
       "\n",
       "// Listen for the removal of the full notebook cells\n",
       "var notebookContainer = gd.closest('#notebook-container');\n",
       "if (notebookContainer) {{\n",
       "    x.observe(notebookContainer, {childList: true});\n",
       "}}\n",
       "\n",
       "// Listen for the clearing of the current output cell\n",
       "var outputEl = gd.closest('.output');\n",
       "if (outputEl) {{\n",
       "    x.observe(outputEl, {childList: true});\n",
       "}}\n",
       "\n",
       "                        })                };            </script>        </div>"
      ]
     },
     "metadata": {},
     "output_type": "display_data"
    }
   ],
   "source": [
    "#Mortality Rate per 1,000 Adults \n",
    "\n",
    "variable_labels = {\"SP.DYN.AMRT.FE\": \"Adult female\",\n",
    "                   \"SP.DYN.AMRT.MA\": \"Adult male\"}\n",
    "\n",
    "China_pop = wbdata.get_dataframe(variable_labels, country = \"CHN\") \n",
    "\n",
    "China_pop.index = pd.to_datetime(China_pop.index)\n",
    "China_pop.index = China_pop.index.year\n",
    "China_pop = China_pop.reset_index().melt(id_vars = \"date\", var_name = \"Category\", value_name = \"Mortality Rate\")\n",
    "\n",
    "fig = px.line(China_pop,x = \"date\", y = \"Mortality Rate\", color = \"Category\", title = \"Mortality Rate per 1,000 Adults (1960-2021)\",labels = {\"date\": \"Year\", \"Mortality Rate\": \"Mortality Rate Per 1,000\"})\n",
    "fig.show()"
   ]
  },
  {
   "cell_type": "code",
   "execution_count": 65,
   "id": "419d2a2b-d19b-4c80-aeef-76c11325ed16",
   "metadata": {},
   "outputs": [
    {
     "data": {
      "application/vnd.plotly.v1+json": {
       "config": {
        "plotlyServerURL": "https://plot.ly"
       },
       "data": [
        {
         "mode": "lines",
         "name": "GDP (current US$)",
         "type": "scatter",
         "x": [
          "2023",
          "2022",
          "2021",
          "2020",
          "2019",
          "2018",
          "2017",
          "2016",
          "2015",
          "2014",
          "2013",
          "2012",
          "2011",
          "2010",
          "2009",
          "2008",
          "2007",
          "2006",
          "2005",
          "2004",
          "2003",
          "2002",
          "2001",
          "2000",
          "1999",
          "1998",
          "1997",
          "1996",
          "1995",
          "1994",
          "1993",
          "1992",
          "1991",
          "1990",
          "1989",
          "1988",
          "1987",
          "1986",
          "1985",
          "1984",
          "1983",
          "1982",
          "1981",
          "1980",
          "1979",
          "1978",
          "1977",
          "1976",
          "1975",
          "1974",
          "1973",
          "1972",
          "1971",
          "1970",
          "1969",
          "1968",
          "1967",
          "1966",
          "1965",
          "1964",
          "1963",
          "1962",
          "1961",
          "1960"
         ],
         "xaxis": "x",
         "y": {
          "bdata": "AEDQuCsvsEJNOwhObUOwQjN0pCgmNbBCAOL3i4O3qkJmP4PmoPmpQjOxFxhSRqlCzbkK7YRkpkJmWV5Z626kQmalkjbyHqRCZsalzhcOo0JcL9kPmWihQlzC7IM3Cp9CAEPwy+x4m0L23WGbIyWWQtf06PJRj5JCriaVP8+2kEIzs2M4ANWJQikAhXA4BoRCzb7tN++hgEI9FjX+O3R8QqRspukGKXhCM//wEEFmdULDESU8qH1zQnGhkeKPoHFC4SqPy/bWb0LNlCycGfNtQvATRzl+/GtCN9ETE28jaUKgsiGlVmBlQmogh4SGbGBC9uAANQPjWULJ9rIzitlYQvDn8CW1UFZC0309sTMBVUJt75vVJT5UQmr0+YpuLlJCeUlWhTrHT0K+zyIapYFRQsspeSK7A1JCTpI2fQJDTkLloAg1ANtKQrZjCTwm4EdCH0Uw6EXNRkIAgNu/sEBGQoGF9v0swURCTqLeZqloQULdVEtAf11EQjPjzWS/60FCqtERXpQGQ0I3iaKLKslAQjEIzYHoIEBCz1d0K2l4OkIV/X41lDw3Qq6oixKMjzVCdMQGKtOOMkIDedNhxH4wQqx9kl8R+DBCeuVzYd7cMULTbMIyUGYwQoa6J2DDzStCXkv8EbOcJ0IEtt4IxvslQs+3CtM4TydCyvK9TbvOK0I=",
          "dtype": "f8"
         },
         "yaxis": "y"
        },
        {
         "line": {
          "color": "red"
         },
         "mode": "lines",
         "name": "Total Population",
         "type": "scatter",
         "x": [
          "2023",
          "2022",
          "2021",
          "2020",
          "2019",
          "2018",
          "2017",
          "2016",
          "2015",
          "2014",
          "2013",
          "2012",
          "2011",
          "2010",
          "2009",
          "2008",
          "2007",
          "2006",
          "2005",
          "2004",
          "2003",
          "2002",
          "2001",
          "2000",
          "1999",
          "1998",
          "1997",
          "1996",
          "1995",
          "1994",
          "1993",
          "1992",
          "1991",
          "1990",
          "1989",
          "1988",
          "1987",
          "1986",
          "1985",
          "1984",
          "1983",
          "1982",
          "1981",
          "1980",
          "1979",
          "1978",
          "1977",
          "1976",
          "1975",
          "1974",
          "1973",
          "1972",
          "1971",
          "1970",
          "1969",
          "1968",
          "1967",
          "1966",
          "1965",
          "1964",
          "1963",
          "1962",
          "1961",
          "1960"
         ],
         "xaxis": "x",
         "y": {
          "bdata": "AAAAfG4F1UEAAAAmBQvVQQAAANC5C9VBAAAAWOsG1UEAAAD6HvrUQQAAANAa59RBAAAANiPO1EEAAACs/63UQQAAAIi/j9RBAAAACDtx1EEAAAAQWVDUQQAAACzTLdRBAAAAvuYK1EEAAACK8O7TQQAAAJha1tNBAAAAZii900EAAAASVaPTQQAAAPgkidNBAAAAEExt00EAAAA+IlDTQQAAACDbMtNBAAAAoFYU00EAAAAEufPSQQAAAMKb0NJBAAAABs6q0kEAAAAmm4HSQQAAAB5dVNJBAAAArJUk0kEAAAA2KPTRQQAAAF59wtFBAAAAUGSP0UEAAAAEAlzRQQAAAJjgJdFBAAAAGmPq0EEAAACkT6vQQQAAAIxiatBBAAAA7kMn0EEAAAA49srPQQAAAIDMUs9BAAAA1FjmzkEAAABYPH/OQQAAAHg8D85BAAAApL2ezUEAAACcOj7NQQAAAOTr4MxBAAAAxPV+zEEAAACM/R3MQQAAACSQvMtBAAAA/IlPy0EAAAAYINXKQQAAABCrSMpBAAAAWMSwyUEAAAA0HxHJQQAAAHw/Y8hBAAAAVDC5x0EAAADYChXHQQAAAHjCfMZBAAAAIKjqxUEAAAC0bVDFQQAAAJwG0MRBAAAAjM1VxEEAAAAIbNfDQQAAAAjrrcNBAAAAGFfhw0E=",
          "dtype": "f8"
         },
         "yaxis": "y2"
        }
       ],
       "layout": {
        "paper_bgcolor": "white",
        "plot_bgcolor": "white",
        "template": {
         "data": {
          "bar": [
           {
            "error_x": {
             "color": "#2a3f5f"
            },
            "error_y": {
             "color": "#2a3f5f"
            },
            "marker": {
             "line": {
              "color": "#E5ECF6",
              "width": 0.5
             },
             "pattern": {
              "fillmode": "overlay",
              "size": 10,
              "solidity": 0.2
             }
            },
            "type": "bar"
           }
          ],
          "barpolar": [
           {
            "marker": {
             "line": {
              "color": "#E5ECF6",
              "width": 0.5
             },
             "pattern": {
              "fillmode": "overlay",
              "size": 10,
              "solidity": 0.2
             }
            },
            "type": "barpolar"
           }
          ],
          "carpet": [
           {
            "aaxis": {
             "endlinecolor": "#2a3f5f",
             "gridcolor": "white",
             "linecolor": "white",
             "minorgridcolor": "white",
             "startlinecolor": "#2a3f5f"
            },
            "baxis": {
             "endlinecolor": "#2a3f5f",
             "gridcolor": "white",
             "linecolor": "white",
             "minorgridcolor": "white",
             "startlinecolor": "#2a3f5f"
            },
            "type": "carpet"
           }
          ],
          "choropleth": [
           {
            "colorbar": {
             "outlinewidth": 0,
             "ticks": ""
            },
            "type": "choropleth"
           }
          ],
          "contour": [
           {
            "colorbar": {
             "outlinewidth": 0,
             "ticks": ""
            },
            "colorscale": [
             [
              0,
              "#0d0887"
             ],
             [
              0.1111111111111111,
              "#46039f"
             ],
             [
              0.2222222222222222,
              "#7201a8"
             ],
             [
              0.3333333333333333,
              "#9c179e"
             ],
             [
              0.4444444444444444,
              "#bd3786"
             ],
             [
              0.5555555555555556,
              "#d8576b"
             ],
             [
              0.6666666666666666,
              "#ed7953"
             ],
             [
              0.7777777777777778,
              "#fb9f3a"
             ],
             [
              0.8888888888888888,
              "#fdca26"
             ],
             [
              1,
              "#f0f921"
             ]
            ],
            "type": "contour"
           }
          ],
          "contourcarpet": [
           {
            "colorbar": {
             "outlinewidth": 0,
             "ticks": ""
            },
            "type": "contourcarpet"
           }
          ],
          "heatmap": [
           {
            "colorbar": {
             "outlinewidth": 0,
             "ticks": ""
            },
            "colorscale": [
             [
              0,
              "#0d0887"
             ],
             [
              0.1111111111111111,
              "#46039f"
             ],
             [
              0.2222222222222222,
              "#7201a8"
             ],
             [
              0.3333333333333333,
              "#9c179e"
             ],
             [
              0.4444444444444444,
              "#bd3786"
             ],
             [
              0.5555555555555556,
              "#d8576b"
             ],
             [
              0.6666666666666666,
              "#ed7953"
             ],
             [
              0.7777777777777778,
              "#fb9f3a"
             ],
             [
              0.8888888888888888,
              "#fdca26"
             ],
             [
              1,
              "#f0f921"
             ]
            ],
            "type": "heatmap"
           }
          ],
          "histogram": [
           {
            "marker": {
             "pattern": {
              "fillmode": "overlay",
              "size": 10,
              "solidity": 0.2
             }
            },
            "type": "histogram"
           }
          ],
          "histogram2d": [
           {
            "colorbar": {
             "outlinewidth": 0,
             "ticks": ""
            },
            "colorscale": [
             [
              0,
              "#0d0887"
             ],
             [
              0.1111111111111111,
              "#46039f"
             ],
             [
              0.2222222222222222,
              "#7201a8"
             ],
             [
              0.3333333333333333,
              "#9c179e"
             ],
             [
              0.4444444444444444,
              "#bd3786"
             ],
             [
              0.5555555555555556,
              "#d8576b"
             ],
             [
              0.6666666666666666,
              "#ed7953"
             ],
             [
              0.7777777777777778,
              "#fb9f3a"
             ],
             [
              0.8888888888888888,
              "#fdca26"
             ],
             [
              1,
              "#f0f921"
             ]
            ],
            "type": "histogram2d"
           }
          ],
          "histogram2dcontour": [
           {
            "colorbar": {
             "outlinewidth": 0,
             "ticks": ""
            },
            "colorscale": [
             [
              0,
              "#0d0887"
             ],
             [
              0.1111111111111111,
              "#46039f"
             ],
             [
              0.2222222222222222,
              "#7201a8"
             ],
             [
              0.3333333333333333,
              "#9c179e"
             ],
             [
              0.4444444444444444,
              "#bd3786"
             ],
             [
              0.5555555555555556,
              "#d8576b"
             ],
             [
              0.6666666666666666,
              "#ed7953"
             ],
             [
              0.7777777777777778,
              "#fb9f3a"
             ],
             [
              0.8888888888888888,
              "#fdca26"
             ],
             [
              1,
              "#f0f921"
             ]
            ],
            "type": "histogram2dcontour"
           }
          ],
          "mesh3d": [
           {
            "colorbar": {
             "outlinewidth": 0,
             "ticks": ""
            },
            "type": "mesh3d"
           }
          ],
          "parcoords": [
           {
            "line": {
             "colorbar": {
              "outlinewidth": 0,
              "ticks": ""
             }
            },
            "type": "parcoords"
           }
          ],
          "pie": [
           {
            "automargin": true,
            "type": "pie"
           }
          ],
          "scatter": [
           {
            "fillpattern": {
             "fillmode": "overlay",
             "size": 10,
             "solidity": 0.2
            },
            "type": "scatter"
           }
          ],
          "scatter3d": [
           {
            "line": {
             "colorbar": {
              "outlinewidth": 0,
              "ticks": ""
             }
            },
            "marker": {
             "colorbar": {
              "outlinewidth": 0,
              "ticks": ""
             }
            },
            "type": "scatter3d"
           }
          ],
          "scattercarpet": [
           {
            "marker": {
             "colorbar": {
              "outlinewidth": 0,
              "ticks": ""
             }
            },
            "type": "scattercarpet"
           }
          ],
          "scattergeo": [
           {
            "marker": {
             "colorbar": {
              "outlinewidth": 0,
              "ticks": ""
             }
            },
            "type": "scattergeo"
           }
          ],
          "scattergl": [
           {
            "marker": {
             "colorbar": {
              "outlinewidth": 0,
              "ticks": ""
             }
            },
            "type": "scattergl"
           }
          ],
          "scattermap": [
           {
            "marker": {
             "colorbar": {
              "outlinewidth": 0,
              "ticks": ""
             }
            },
            "type": "scattermap"
           }
          ],
          "scattermapbox": [
           {
            "marker": {
             "colorbar": {
              "outlinewidth": 0,
              "ticks": ""
             }
            },
            "type": "scattermapbox"
           }
          ],
          "scatterpolar": [
           {
            "marker": {
             "colorbar": {
              "outlinewidth": 0,
              "ticks": ""
             }
            },
            "type": "scatterpolar"
           }
          ],
          "scatterpolargl": [
           {
            "marker": {
             "colorbar": {
              "outlinewidth": 0,
              "ticks": ""
             }
            },
            "type": "scatterpolargl"
           }
          ],
          "scatterternary": [
           {
            "marker": {
             "colorbar": {
              "outlinewidth": 0,
              "ticks": ""
             }
            },
            "type": "scatterternary"
           }
          ],
          "surface": [
           {
            "colorbar": {
             "outlinewidth": 0,
             "ticks": ""
            },
            "colorscale": [
             [
              0,
              "#0d0887"
             ],
             [
              0.1111111111111111,
              "#46039f"
             ],
             [
              0.2222222222222222,
              "#7201a8"
             ],
             [
              0.3333333333333333,
              "#9c179e"
             ],
             [
              0.4444444444444444,
              "#bd3786"
             ],
             [
              0.5555555555555556,
              "#d8576b"
             ],
             [
              0.6666666666666666,
              "#ed7953"
             ],
             [
              0.7777777777777778,
              "#fb9f3a"
             ],
             [
              0.8888888888888888,
              "#fdca26"
             ],
             [
              1,
              "#f0f921"
             ]
            ],
            "type": "surface"
           }
          ],
          "table": [
           {
            "cells": {
             "fill": {
              "color": "#EBF0F8"
             },
             "line": {
              "color": "white"
             }
            },
            "header": {
             "fill": {
              "color": "#C8D4E3"
             },
             "line": {
              "color": "white"
             }
            },
            "type": "table"
           }
          ]
         },
         "layout": {
          "annotationdefaults": {
           "arrowcolor": "#2a3f5f",
           "arrowhead": 0,
           "arrowwidth": 1
          },
          "autotypenumbers": "strict",
          "coloraxis": {
           "colorbar": {
            "outlinewidth": 0,
            "ticks": ""
           }
          },
          "colorscale": {
           "diverging": [
            [
             0,
             "#8e0152"
            ],
            [
             0.1,
             "#c51b7d"
            ],
            [
             0.2,
             "#de77ae"
            ],
            [
             0.3,
             "#f1b6da"
            ],
            [
             0.4,
             "#fde0ef"
            ],
            [
             0.5,
             "#f7f7f7"
            ],
            [
             0.6,
             "#e6f5d0"
            ],
            [
             0.7,
             "#b8e186"
            ],
            [
             0.8,
             "#7fbc41"
            ],
            [
             0.9,
             "#4d9221"
            ],
            [
             1,
             "#276419"
            ]
           ],
           "sequential": [
            [
             0,
             "#0d0887"
            ],
            [
             0.1111111111111111,
             "#46039f"
            ],
            [
             0.2222222222222222,
             "#7201a8"
            ],
            [
             0.3333333333333333,
             "#9c179e"
            ],
            [
             0.4444444444444444,
             "#bd3786"
            ],
            [
             0.5555555555555556,
             "#d8576b"
            ],
            [
             0.6666666666666666,
             "#ed7953"
            ],
            [
             0.7777777777777778,
             "#fb9f3a"
            ],
            [
             0.8888888888888888,
             "#fdca26"
            ],
            [
             1,
             "#f0f921"
            ]
           ],
           "sequentialminus": [
            [
             0,
             "#0d0887"
            ],
            [
             0.1111111111111111,
             "#46039f"
            ],
            [
             0.2222222222222222,
             "#7201a8"
            ],
            [
             0.3333333333333333,
             "#9c179e"
            ],
            [
             0.4444444444444444,
             "#bd3786"
            ],
            [
             0.5555555555555556,
             "#d8576b"
            ],
            [
             0.6666666666666666,
             "#ed7953"
            ],
            [
             0.7777777777777778,
             "#fb9f3a"
            ],
            [
             0.8888888888888888,
             "#fdca26"
            ],
            [
             1,
             "#f0f921"
            ]
           ]
          },
          "colorway": [
           "#636efa",
           "#EF553B",
           "#00cc96",
           "#ab63fa",
           "#FFA15A",
           "#19d3f3",
           "#FF6692",
           "#B6E880",
           "#FF97FF",
           "#FECB52"
          ],
          "font": {
           "color": "#2a3f5f"
          },
          "geo": {
           "bgcolor": "white",
           "lakecolor": "white",
           "landcolor": "#E5ECF6",
           "showlakes": true,
           "showland": true,
           "subunitcolor": "white"
          },
          "hoverlabel": {
           "align": "left"
          },
          "hovermode": "closest",
          "mapbox": {
           "style": "light"
          },
          "paper_bgcolor": "white",
          "plot_bgcolor": "#E5ECF6",
          "polar": {
           "angularaxis": {
            "gridcolor": "white",
            "linecolor": "white",
            "ticks": ""
           },
           "bgcolor": "#E5ECF6",
           "radialaxis": {
            "gridcolor": "white",
            "linecolor": "white",
            "ticks": ""
           }
          },
          "scene": {
           "xaxis": {
            "backgroundcolor": "#E5ECF6",
            "gridcolor": "white",
            "gridwidth": 2,
            "linecolor": "white",
            "showbackground": true,
            "ticks": "",
            "zerolinecolor": "white"
           },
           "yaxis": {
            "backgroundcolor": "#E5ECF6",
            "gridcolor": "white",
            "gridwidth": 2,
            "linecolor": "white",
            "showbackground": true,
            "ticks": "",
            "zerolinecolor": "white"
           },
           "zaxis": {
            "backgroundcolor": "#E5ECF6",
            "gridcolor": "white",
            "gridwidth": 2,
            "linecolor": "white",
            "showbackground": true,
            "ticks": "",
            "zerolinecolor": "white"
           }
          },
          "shapedefaults": {
           "line": {
            "color": "#2a3f5f"
           }
          },
          "ternary": {
           "aaxis": {
            "gridcolor": "white",
            "linecolor": "white",
            "ticks": ""
           },
           "baxis": {
            "gridcolor": "white",
            "linecolor": "white",
            "ticks": ""
           },
           "bgcolor": "#E5ECF6",
           "caxis": {
            "gridcolor": "white",
            "linecolor": "white",
            "ticks": ""
           }
          },
          "title": {
           "x": 0.05
          },
          "xaxis": {
           "automargin": true,
           "gridcolor": "white",
           "linecolor": "white",
           "ticks": "",
           "title": {
            "standoff": 15
           },
           "zerolinecolor": "white",
           "zerolinewidth": 2
          },
          "yaxis": {
           "automargin": true,
           "gridcolor": "white",
           "linecolor": "white",
           "ticks": "",
           "title": {
            "standoff": 15
           },
           "zerolinecolor": "white",
           "zerolinewidth": 2
          }
         }
        },
        "title": {
         "text": "GDP and Population Trend for China (1960-2021)"
        },
        "xaxis": {
         "anchor": "y",
         "autorange": "reversed",
         "domain": [
          0,
          0.94
         ],
         "title": {
          "text": "Year"
         }
        },
        "yaxis": {
         "anchor": "x",
         "domain": [
          0,
          1
         ],
         "title": {
          "text": "GDP (current US$)"
         }
        },
        "yaxis2": {
         "anchor": "x",
         "overlaying": "y",
         "side": "right",
         "title": {
          "text": "Total Population"
         }
        }
       }
      },
      "text/html": [
       "<div>            <script src=\"https://cdnjs.cloudflare.com/ajax/libs/mathjax/2.7.5/MathJax.js?config=TeX-AMS-MML_SVG\"></script><script type=\"text/javascript\">if (window.MathJax && window.MathJax.Hub && window.MathJax.Hub.Config) {window.MathJax.Hub.Config({SVG: {font: \"STIX-Web\"}});}</script>                <script type=\"text/javascript\">window.PlotlyConfig = {MathJaxConfig: 'local'};</script>\n",
       "        <script charset=\"utf-8\" src=\"https://cdn.plot.ly/plotly-3.0.0.min.js\"></script>                <div id=\"4f5fc3a1-b71f-4dc3-8670-eea7c896c60e\" class=\"plotly-graph-div\" style=\"height:525px; width:100%;\"></div>            <script type=\"text/javascript\">                window.PLOTLYENV=window.PLOTLYENV || {};                                if (document.getElementById(\"4f5fc3a1-b71f-4dc3-8670-eea7c896c60e\")) {                    Plotly.newPlot(                        \"4f5fc3a1-b71f-4dc3-8670-eea7c896c60e\",                        [{\"mode\":\"lines\",\"name\":\"GDP (current US$)\",\"x\":[\"2023\",\"2022\",\"2021\",\"2020\",\"2019\",\"2018\",\"2017\",\"2016\",\"2015\",\"2014\",\"2013\",\"2012\",\"2011\",\"2010\",\"2009\",\"2008\",\"2007\",\"2006\",\"2005\",\"2004\",\"2003\",\"2002\",\"2001\",\"2000\",\"1999\",\"1998\",\"1997\",\"1996\",\"1995\",\"1994\",\"1993\",\"1992\",\"1991\",\"1990\",\"1989\",\"1988\",\"1987\",\"1986\",\"1985\",\"1984\",\"1983\",\"1982\",\"1981\",\"1980\",\"1979\",\"1978\",\"1977\",\"1976\",\"1975\",\"1974\",\"1973\",\"1972\",\"1971\",\"1970\",\"1969\",\"1968\",\"1967\",\"1966\",\"1965\",\"1964\",\"1963\",\"1962\",\"1961\",\"1960\"],\"y\":{\"dtype\":\"f8\",\"bdata\":\"AEDQuCsvsEJNOwhObUOwQjN0pCgmNbBCAOL3i4O3qkJmP4PmoPmpQjOxFxhSRqlCzbkK7YRkpkJmWV5Z626kQmalkjbyHqRCZsalzhcOo0JcL9kPmWihQlzC7IM3Cp9CAEPwy+x4m0L23WGbIyWWQtf06PJRj5JCriaVP8+2kEIzs2M4ANWJQikAhXA4BoRCzb7tN++hgEI9FjX+O3R8QqRspukGKXhCM\\u002f\\u002fwEEFmdULDESU8qH1zQnGhkeKPoHFC4SqPy\\u002fbWb0LNlCycGfNtQvATRzl+\\u002fGtCN9ETE28jaUKgsiGlVmBlQmogh4SGbGBC9uAANQPjWULJ9rIzitlYQvDn8CW1UFZC0309sTMBVUJt75vVJT5UQmr0+YpuLlJCeUlWhTrHT0K+zyIapYFRQsspeSK7A1JCTpI2fQJDTkLloAg1ANtKQrZjCTwm4EdCH0Uw6EXNRkIAgNu\\u002fsEBGQoGF9v0swURCTqLeZqloQULdVEtAf11EQjPjzWS\\u002f60FCqtERXpQGQ0I3iaKLKslAQjEIzYHoIEBCz1d0K2l4OkIV\\u002fX41lDw3Qq6oixKMjzVCdMQGKtOOMkIDedNhxH4wQqx9kl8R+DBCeuVzYd7cMULTbMIyUGYwQoa6J2DDzStCXkv8EbOcJ0IEtt4IxvslQs+3CtM4TydCyvK9TbvOK0I=\"},\"type\":\"scatter\",\"xaxis\":\"x\",\"yaxis\":\"y\"},{\"line\":{\"color\":\"red\"},\"mode\":\"lines\",\"name\":\"Total Population\",\"x\":[\"2023\",\"2022\",\"2021\",\"2020\",\"2019\",\"2018\",\"2017\",\"2016\",\"2015\",\"2014\",\"2013\",\"2012\",\"2011\",\"2010\",\"2009\",\"2008\",\"2007\",\"2006\",\"2005\",\"2004\",\"2003\",\"2002\",\"2001\",\"2000\",\"1999\",\"1998\",\"1997\",\"1996\",\"1995\",\"1994\",\"1993\",\"1992\",\"1991\",\"1990\",\"1989\",\"1988\",\"1987\",\"1986\",\"1985\",\"1984\",\"1983\",\"1982\",\"1981\",\"1980\",\"1979\",\"1978\",\"1977\",\"1976\",\"1975\",\"1974\",\"1973\",\"1972\",\"1971\",\"1970\",\"1969\",\"1968\",\"1967\",\"1966\",\"1965\",\"1964\",\"1963\",\"1962\",\"1961\",\"1960\"],\"y\":{\"dtype\":\"f8\",\"bdata\":\"AAAAfG4F1UEAAAAmBQvVQQAAANC5C9VBAAAAWOsG1UEAAAD6HvrUQQAAANAa59RBAAAANiPO1EEAAACs\\u002f63UQQAAAIi\\u002fj9RBAAAACDtx1EEAAAAQWVDUQQAAACzTLdRBAAAAvuYK1EEAAACK8O7TQQAAAJha1tNBAAAAZii900EAAAASVaPTQQAAAPgkidNBAAAAEExt00EAAAA+IlDTQQAAACDbMtNBAAAAoFYU00EAAAAEufPSQQAAAMKb0NJBAAAABs6q0kEAAAAmm4HSQQAAAB5dVNJBAAAArJUk0kEAAAA2KPTRQQAAAF59wtFBAAAAUGSP0UEAAAAEAlzRQQAAAJjgJdFBAAAAGmPq0EEAAACkT6vQQQAAAIxiatBBAAAA7kMn0EEAAAA49srPQQAAAIDMUs9BAAAA1FjmzkEAAABYPH\\u002fOQQAAAHg8D85BAAAApL2ezUEAAACcOj7NQQAAAOTr4MxBAAAAxPV+zEEAAACM\\u002fR3MQQAAACSQvMtBAAAA\\u002fIlPy0EAAAAYINXKQQAAABCrSMpBAAAAWMSwyUEAAAA0HxHJQQAAAHw\\u002fY8hBAAAAVDC5x0EAAADYChXHQQAAAHjCfMZBAAAAIKjqxUEAAAC0bVDFQQAAAJwG0MRBAAAAjM1VxEEAAAAIbNfDQQAAAAjrrcNBAAAAGFfhw0E=\"},\"type\":\"scatter\",\"xaxis\":\"x\",\"yaxis\":\"y2\"}],                        {\"template\":{\"data\":{\"histogram2dcontour\":[{\"type\":\"histogram2dcontour\",\"colorbar\":{\"outlinewidth\":0,\"ticks\":\"\"},\"colorscale\":[[0.0,\"#0d0887\"],[0.1111111111111111,\"#46039f\"],[0.2222222222222222,\"#7201a8\"],[0.3333333333333333,\"#9c179e\"],[0.4444444444444444,\"#bd3786\"],[0.5555555555555556,\"#d8576b\"],[0.6666666666666666,\"#ed7953\"],[0.7777777777777778,\"#fb9f3a\"],[0.8888888888888888,\"#fdca26\"],[1.0,\"#f0f921\"]]}],\"choropleth\":[{\"type\":\"choropleth\",\"colorbar\":{\"outlinewidth\":0,\"ticks\":\"\"}}],\"histogram2d\":[{\"type\":\"histogram2d\",\"colorbar\":{\"outlinewidth\":0,\"ticks\":\"\"},\"colorscale\":[[0.0,\"#0d0887\"],[0.1111111111111111,\"#46039f\"],[0.2222222222222222,\"#7201a8\"],[0.3333333333333333,\"#9c179e\"],[0.4444444444444444,\"#bd3786\"],[0.5555555555555556,\"#d8576b\"],[0.6666666666666666,\"#ed7953\"],[0.7777777777777778,\"#fb9f3a\"],[0.8888888888888888,\"#fdca26\"],[1.0,\"#f0f921\"]]}],\"heatmap\":[{\"type\":\"heatmap\",\"colorbar\":{\"outlinewidth\":0,\"ticks\":\"\"},\"colorscale\":[[0.0,\"#0d0887\"],[0.1111111111111111,\"#46039f\"],[0.2222222222222222,\"#7201a8\"],[0.3333333333333333,\"#9c179e\"],[0.4444444444444444,\"#bd3786\"],[0.5555555555555556,\"#d8576b\"],[0.6666666666666666,\"#ed7953\"],[0.7777777777777778,\"#fb9f3a\"],[0.8888888888888888,\"#fdca26\"],[1.0,\"#f0f921\"]]}],\"contourcarpet\":[{\"type\":\"contourcarpet\",\"colorbar\":{\"outlinewidth\":0,\"ticks\":\"\"}}],\"contour\":[{\"type\":\"contour\",\"colorbar\":{\"outlinewidth\":0,\"ticks\":\"\"},\"colorscale\":[[0.0,\"#0d0887\"],[0.1111111111111111,\"#46039f\"],[0.2222222222222222,\"#7201a8\"],[0.3333333333333333,\"#9c179e\"],[0.4444444444444444,\"#bd3786\"],[0.5555555555555556,\"#d8576b\"],[0.6666666666666666,\"#ed7953\"],[0.7777777777777778,\"#fb9f3a\"],[0.8888888888888888,\"#fdca26\"],[1.0,\"#f0f921\"]]}],\"surface\":[{\"type\":\"surface\",\"colorbar\":{\"outlinewidth\":0,\"ticks\":\"\"},\"colorscale\":[[0.0,\"#0d0887\"],[0.1111111111111111,\"#46039f\"],[0.2222222222222222,\"#7201a8\"],[0.3333333333333333,\"#9c179e\"],[0.4444444444444444,\"#bd3786\"],[0.5555555555555556,\"#d8576b\"],[0.6666666666666666,\"#ed7953\"],[0.7777777777777778,\"#fb9f3a\"],[0.8888888888888888,\"#fdca26\"],[1.0,\"#f0f921\"]]}],\"mesh3d\":[{\"type\":\"mesh3d\",\"colorbar\":{\"outlinewidth\":0,\"ticks\":\"\"}}],\"scatter\":[{\"fillpattern\":{\"fillmode\":\"overlay\",\"size\":10,\"solidity\":0.2},\"type\":\"scatter\"}],\"parcoords\":[{\"type\":\"parcoords\",\"line\":{\"colorbar\":{\"outlinewidth\":0,\"ticks\":\"\"}}}],\"scatterpolargl\":[{\"type\":\"scatterpolargl\",\"marker\":{\"colorbar\":{\"outlinewidth\":0,\"ticks\":\"\"}}}],\"bar\":[{\"error_x\":{\"color\":\"#2a3f5f\"},\"error_y\":{\"color\":\"#2a3f5f\"},\"marker\":{\"line\":{\"color\":\"#E5ECF6\",\"width\":0.5},\"pattern\":{\"fillmode\":\"overlay\",\"size\":10,\"solidity\":0.2}},\"type\":\"bar\"}],\"scattergeo\":[{\"type\":\"scattergeo\",\"marker\":{\"colorbar\":{\"outlinewidth\":0,\"ticks\":\"\"}}}],\"scatterpolar\":[{\"type\":\"scatterpolar\",\"marker\":{\"colorbar\":{\"outlinewidth\":0,\"ticks\":\"\"}}}],\"histogram\":[{\"marker\":{\"pattern\":{\"fillmode\":\"overlay\",\"size\":10,\"solidity\":0.2}},\"type\":\"histogram\"}],\"scattergl\":[{\"type\":\"scattergl\",\"marker\":{\"colorbar\":{\"outlinewidth\":0,\"ticks\":\"\"}}}],\"scatter3d\":[{\"type\":\"scatter3d\",\"line\":{\"colorbar\":{\"outlinewidth\":0,\"ticks\":\"\"}},\"marker\":{\"colorbar\":{\"outlinewidth\":0,\"ticks\":\"\"}}}],\"scattermap\":[{\"type\":\"scattermap\",\"marker\":{\"colorbar\":{\"outlinewidth\":0,\"ticks\":\"\"}}}],\"scattermapbox\":[{\"type\":\"scattermapbox\",\"marker\":{\"colorbar\":{\"outlinewidth\":0,\"ticks\":\"\"}}}],\"scatterternary\":[{\"type\":\"scatterternary\",\"marker\":{\"colorbar\":{\"outlinewidth\":0,\"ticks\":\"\"}}}],\"scattercarpet\":[{\"type\":\"scattercarpet\",\"marker\":{\"colorbar\":{\"outlinewidth\":0,\"ticks\":\"\"}}}],\"carpet\":[{\"aaxis\":{\"endlinecolor\":\"#2a3f5f\",\"gridcolor\":\"white\",\"linecolor\":\"white\",\"minorgridcolor\":\"white\",\"startlinecolor\":\"#2a3f5f\"},\"baxis\":{\"endlinecolor\":\"#2a3f5f\",\"gridcolor\":\"white\",\"linecolor\":\"white\",\"minorgridcolor\":\"white\",\"startlinecolor\":\"#2a3f5f\"},\"type\":\"carpet\"}],\"table\":[{\"cells\":{\"fill\":{\"color\":\"#EBF0F8\"},\"line\":{\"color\":\"white\"}},\"header\":{\"fill\":{\"color\":\"#C8D4E3\"},\"line\":{\"color\":\"white\"}},\"type\":\"table\"}],\"barpolar\":[{\"marker\":{\"line\":{\"color\":\"#E5ECF6\",\"width\":0.5},\"pattern\":{\"fillmode\":\"overlay\",\"size\":10,\"solidity\":0.2}},\"type\":\"barpolar\"}],\"pie\":[{\"automargin\":true,\"type\":\"pie\"}]},\"layout\":{\"autotypenumbers\":\"strict\",\"colorway\":[\"#636efa\",\"#EF553B\",\"#00cc96\",\"#ab63fa\",\"#FFA15A\",\"#19d3f3\",\"#FF6692\",\"#B6E880\",\"#FF97FF\",\"#FECB52\"],\"font\":{\"color\":\"#2a3f5f\"},\"hovermode\":\"closest\",\"hoverlabel\":{\"align\":\"left\"},\"paper_bgcolor\":\"white\",\"plot_bgcolor\":\"#E5ECF6\",\"polar\":{\"bgcolor\":\"#E5ECF6\",\"angularaxis\":{\"gridcolor\":\"white\",\"linecolor\":\"white\",\"ticks\":\"\"},\"radialaxis\":{\"gridcolor\":\"white\",\"linecolor\":\"white\",\"ticks\":\"\"}},\"ternary\":{\"bgcolor\":\"#E5ECF6\",\"aaxis\":{\"gridcolor\":\"white\",\"linecolor\":\"white\",\"ticks\":\"\"},\"baxis\":{\"gridcolor\":\"white\",\"linecolor\":\"white\",\"ticks\":\"\"},\"caxis\":{\"gridcolor\":\"white\",\"linecolor\":\"white\",\"ticks\":\"\"}},\"coloraxis\":{\"colorbar\":{\"outlinewidth\":0,\"ticks\":\"\"}},\"colorscale\":{\"sequential\":[[0.0,\"#0d0887\"],[0.1111111111111111,\"#46039f\"],[0.2222222222222222,\"#7201a8\"],[0.3333333333333333,\"#9c179e\"],[0.4444444444444444,\"#bd3786\"],[0.5555555555555556,\"#d8576b\"],[0.6666666666666666,\"#ed7953\"],[0.7777777777777778,\"#fb9f3a\"],[0.8888888888888888,\"#fdca26\"],[1.0,\"#f0f921\"]],\"sequentialminus\":[[0.0,\"#0d0887\"],[0.1111111111111111,\"#46039f\"],[0.2222222222222222,\"#7201a8\"],[0.3333333333333333,\"#9c179e\"],[0.4444444444444444,\"#bd3786\"],[0.5555555555555556,\"#d8576b\"],[0.6666666666666666,\"#ed7953\"],[0.7777777777777778,\"#fb9f3a\"],[0.8888888888888888,\"#fdca26\"],[1.0,\"#f0f921\"]],\"diverging\":[[0,\"#8e0152\"],[0.1,\"#c51b7d\"],[0.2,\"#de77ae\"],[0.3,\"#f1b6da\"],[0.4,\"#fde0ef\"],[0.5,\"#f7f7f7\"],[0.6,\"#e6f5d0\"],[0.7,\"#b8e186\"],[0.8,\"#7fbc41\"],[0.9,\"#4d9221\"],[1,\"#276419\"]]},\"xaxis\":{\"gridcolor\":\"white\",\"linecolor\":\"white\",\"ticks\":\"\",\"title\":{\"standoff\":15},\"zerolinecolor\":\"white\",\"automargin\":true,\"zerolinewidth\":2},\"yaxis\":{\"gridcolor\":\"white\",\"linecolor\":\"white\",\"ticks\":\"\",\"title\":{\"standoff\":15},\"zerolinecolor\":\"white\",\"automargin\":true,\"zerolinewidth\":2},\"scene\":{\"xaxis\":{\"backgroundcolor\":\"#E5ECF6\",\"gridcolor\":\"white\",\"linecolor\":\"white\",\"showbackground\":true,\"ticks\":\"\",\"zerolinecolor\":\"white\",\"gridwidth\":2},\"yaxis\":{\"backgroundcolor\":\"#E5ECF6\",\"gridcolor\":\"white\",\"linecolor\":\"white\",\"showbackground\":true,\"ticks\":\"\",\"zerolinecolor\":\"white\",\"gridwidth\":2},\"zaxis\":{\"backgroundcolor\":\"#E5ECF6\",\"gridcolor\":\"white\",\"linecolor\":\"white\",\"showbackground\":true,\"ticks\":\"\",\"zerolinecolor\":\"white\",\"gridwidth\":2}},\"shapedefaults\":{\"line\":{\"color\":\"#2a3f5f\"}},\"annotationdefaults\":{\"arrowcolor\":\"#2a3f5f\",\"arrowhead\":0,\"arrowwidth\":1},\"geo\":{\"bgcolor\":\"white\",\"landcolor\":\"#E5ECF6\",\"subunitcolor\":\"white\",\"showland\":true,\"showlakes\":true,\"lakecolor\":\"white\"},\"title\":{\"x\":0.05},\"mapbox\":{\"style\":\"light\"}}},\"xaxis\":{\"anchor\":\"y\",\"domain\":[0.0,0.94],\"title\":{\"text\":\"Year\"},\"autorange\":\"reversed\"},\"yaxis\":{\"anchor\":\"x\",\"domain\":[0.0,1.0],\"title\":{\"text\":\"GDP (current US$)\"}},\"yaxis2\":{\"anchor\":\"x\",\"overlaying\":\"y\",\"side\":\"right\",\"title\":{\"text\":\"Total Population\"}},\"title\":{\"text\":\"GDP and Population Trend for China (1960-2021)\"},\"plot_bgcolor\":\"white\",\"paper_bgcolor\":\"white\"},                        {\"responsive\": true}                    ).then(function(){\n",
       "                            \n",
       "var gd = document.getElementById('4f5fc3a1-b71f-4dc3-8670-eea7c896c60e');\n",
       "var x = new MutationObserver(function (mutations, observer) {{\n",
       "        var display = window.getComputedStyle(gd).display;\n",
       "        if (!display || display === 'none') {{\n",
       "            console.log([gd, 'removed!']);\n",
       "            Plotly.purge(gd);\n",
       "            observer.disconnect();\n",
       "        }}\n",
       "}});\n",
       "\n",
       "// Listen for the removal of the full notebook cells\n",
       "var notebookContainer = gd.closest('#notebook-container');\n",
       "if (notebookContainer) {{\n",
       "    x.observe(notebookContainer, {childList: true});\n",
       "}}\n",
       "\n",
       "// Listen for the clearing of the current output cell\n",
       "var outputEl = gd.closest('.output');\n",
       "if (outputEl) {{\n",
       "    x.observe(outputEl, {childList: true});\n",
       "}}\n",
       "\n",
       "                        })                };            </script>        </div>"
      ]
     },
     "metadata": {},
     "output_type": "display_data"
    }
   ],
   "source": [
    "#China's Total Population vs GDP (1960-2023)\n",
    "\n",
    "import plotly.graph_objects as go\n",
    "from plotly.subplots import make_subplots\n",
    "\n",
    "indicator_gdp = {\"NY.GDP.MKTP.CD\": \"GDP (current US$)\"}\n",
    "indicator_pop = {\"SP.POP.TOTL\": \"Total Population\"}\n",
    "\n",
    "gdp_data = wbdata.get_dataframe(indicator_gdp, country = \"CHN\", date = (pd.to_datetime('1960-01-01'), pd.to_datetime('2023-12-31')))\n",
    "population_data = wbdata.get_dataframe(indicator_pop, country=\"CHN\", date = (pd.to_datetime('1960-01-01'), pd.to_datetime('2023-12-31')))\n",
    "\n",
    "merged_data = pd.merge(gdp_data, population_data, left_index=True, right_index = True, how = 'inner')\n",
    "merged_data = merged_data.reset_index()\n",
    "\n",
    "fig = make_subplots(specs = [[{\"secondary_y\": True}]])\n",
    "\n",
    "fig.add_trace(\n",
    "    go.Scatter(\n",
    "        x = merged_data[\"date\"],\n",
    "        y = merged_data[\"GDP (current US$)\"],\n",
    "        mode = \"lines\",\n",
    "        name = \"GDP (current US$)\",\n",
    "    ),\n",
    "    secondary_y = False,\n",
    ")\n",
    "\n",
    "fig.add_trace(\n",
    "    go.Scatter(\n",
    "        x = merged_data[\"date\"],\n",
    "        y = merged_data[\"Total Population\"],\n",
    "        mode = \"lines\",\n",
    "        name = \"Total Population\",\n",
    "        line = dict(color = \"red\"),  \n",
    "    ),\n",
    "    secondary_y=True,\n",
    ")\n",
    "\n",
    "fig.update_layout(\n",
    "    title = \"GDP and Population Trend for China (1960-2021)\",\n",
    "    xaxis_title = \"Year\",\n",
    "    plot_bgcolor = \"white\",  \n",
    "    paper_bgcolor = \"white\",  \n",
    ")\n",
    "\n",
    "fig.update_xaxes(autorange=\"reversed\")\n",
    "fig.update_yaxes(title_text=\"GDP (current US$)\", secondary_y = False)\n",
    "fig.update_yaxes(title_text=\"Total Population\", secondary_y = True)\n",
    "\n",
    "fig.show()"
   ]
  },
  {
   "cell_type": "code",
   "execution_count": 67,
   "id": "9819af13-a34f-4aff-a79b-af5717bd83ba",
   "metadata": {},
   "outputs": [
    {
     "data": {
      "application/vnd.plotly.v1+json": {
       "config": {
        "plotlyServerURL": "https://plot.ly"
       },
       "data": [
        {
         "mode": "lines+markers",
         "name": "China Fertility Rate",
         "type": "scatter",
         "x": {
          "bdata": "5wfmB+UH5AfjB+IH4QfgB98H3gfdB9wH2wfaB9kH2AfXB9YH1QfUB9MH0gfRB9AHzwfOB80HzAfLB8oHyQfIB8cHxgfFB8QHwwfCB8EHwAe/B74HvQe8B7sHuge5B7gHtwe2B7UHtAezB7IHsQewB68HrgetB6wHqweqB6kHqAc=",
          "dtype": "i2"
         },
         "y": {
          "bdata": "AAAAAAAA+H/NzMzMzMzyPzm0yHa+n/I/5dAi2/l+9D9WDi2yne/3P3e+nxov3fg/NV66SQwC/T8nMQisHFr8P7gehetRuPo/5/up8dJN/D8GgZVDi2z7P/hT46WbxPw/46WbxCCw+j/LoUW28/36PwaBlUOLbPs/nu+nxks3+z8OLbKd76f6P+f7qfHSTfo/lkOLbOf7+T+uR+F6FK75Px+F61G4Hvk/dZMYBFYO+T81XrpJDAL5Pz81XrpJDPo/exSuR+F6+D8nMQisHFr4PzvfT42Xbvg/d76fGi/d+D+cxCCwcmj5Pz81XrpJDPo/dZMYBFYO+z/RItv5fmr8P4ts5/up8f4/6SYxCKwcBEApXI/C9SgEQB1aZDvfTwRAFK5H4XoUBkD4U+Olm8QFQKrx0k1iEAVAQmDl0CLbBEBGtvP91HgEQC2yne+nxgdAvHSTGARWBkC28/3UeOkFQPYoXI/C9QVA7nw/NV66BUCNl24Sg8AGQOF6FK5H4QlAxSCwcmiRDECuR+F6FK4QQIGVQ4ts5xJAppvEILByFEBkO99PjRcWQNejcD0KVxhAMzMzMzOzGEDVeOkmMQgaQNNNYhBYORdA7nw/NV46GUDsUbgehWsaQOOlm8QgsBpAWmQ7308NHkDXo3A9ClcYQIGVQ4ts5w5A5/up8dLNEUA=",
          "dtype": "f8"
         }
        }
       ],
       "layout": {
        "showlegend": true,
        "template": {
         "data": {
          "bar": [
           {
            "error_x": {
             "color": "#2a3f5f"
            },
            "error_y": {
             "color": "#2a3f5f"
            },
            "marker": {
             "line": {
              "color": "#E5ECF6",
              "width": 0.5
             },
             "pattern": {
              "fillmode": "overlay",
              "size": 10,
              "solidity": 0.2
             }
            },
            "type": "bar"
           }
          ],
          "barpolar": [
           {
            "marker": {
             "line": {
              "color": "#E5ECF6",
              "width": 0.5
             },
             "pattern": {
              "fillmode": "overlay",
              "size": 10,
              "solidity": 0.2
             }
            },
            "type": "barpolar"
           }
          ],
          "carpet": [
           {
            "aaxis": {
             "endlinecolor": "#2a3f5f",
             "gridcolor": "white",
             "linecolor": "white",
             "minorgridcolor": "white",
             "startlinecolor": "#2a3f5f"
            },
            "baxis": {
             "endlinecolor": "#2a3f5f",
             "gridcolor": "white",
             "linecolor": "white",
             "minorgridcolor": "white",
             "startlinecolor": "#2a3f5f"
            },
            "type": "carpet"
           }
          ],
          "choropleth": [
           {
            "colorbar": {
             "outlinewidth": 0,
             "ticks": ""
            },
            "type": "choropleth"
           }
          ],
          "contour": [
           {
            "colorbar": {
             "outlinewidth": 0,
             "ticks": ""
            },
            "colorscale": [
             [
              0,
              "#0d0887"
             ],
             [
              0.1111111111111111,
              "#46039f"
             ],
             [
              0.2222222222222222,
              "#7201a8"
             ],
             [
              0.3333333333333333,
              "#9c179e"
             ],
             [
              0.4444444444444444,
              "#bd3786"
             ],
             [
              0.5555555555555556,
              "#d8576b"
             ],
             [
              0.6666666666666666,
              "#ed7953"
             ],
             [
              0.7777777777777778,
              "#fb9f3a"
             ],
             [
              0.8888888888888888,
              "#fdca26"
             ],
             [
              1,
              "#f0f921"
             ]
            ],
            "type": "contour"
           }
          ],
          "contourcarpet": [
           {
            "colorbar": {
             "outlinewidth": 0,
             "ticks": ""
            },
            "type": "contourcarpet"
           }
          ],
          "heatmap": [
           {
            "colorbar": {
             "outlinewidth": 0,
             "ticks": ""
            },
            "colorscale": [
             [
              0,
              "#0d0887"
             ],
             [
              0.1111111111111111,
              "#46039f"
             ],
             [
              0.2222222222222222,
              "#7201a8"
             ],
             [
              0.3333333333333333,
              "#9c179e"
             ],
             [
              0.4444444444444444,
              "#bd3786"
             ],
             [
              0.5555555555555556,
              "#d8576b"
             ],
             [
              0.6666666666666666,
              "#ed7953"
             ],
             [
              0.7777777777777778,
              "#fb9f3a"
             ],
             [
              0.8888888888888888,
              "#fdca26"
             ],
             [
              1,
              "#f0f921"
             ]
            ],
            "type": "heatmap"
           }
          ],
          "histogram": [
           {
            "marker": {
             "pattern": {
              "fillmode": "overlay",
              "size": 10,
              "solidity": 0.2
             }
            },
            "type": "histogram"
           }
          ],
          "histogram2d": [
           {
            "colorbar": {
             "outlinewidth": 0,
             "ticks": ""
            },
            "colorscale": [
             [
              0,
              "#0d0887"
             ],
             [
              0.1111111111111111,
              "#46039f"
             ],
             [
              0.2222222222222222,
              "#7201a8"
             ],
             [
              0.3333333333333333,
              "#9c179e"
             ],
             [
              0.4444444444444444,
              "#bd3786"
             ],
             [
              0.5555555555555556,
              "#d8576b"
             ],
             [
              0.6666666666666666,
              "#ed7953"
             ],
             [
              0.7777777777777778,
              "#fb9f3a"
             ],
             [
              0.8888888888888888,
              "#fdca26"
             ],
             [
              1,
              "#f0f921"
             ]
            ],
            "type": "histogram2d"
           }
          ],
          "histogram2dcontour": [
           {
            "colorbar": {
             "outlinewidth": 0,
             "ticks": ""
            },
            "colorscale": [
             [
              0,
              "#0d0887"
             ],
             [
              0.1111111111111111,
              "#46039f"
             ],
             [
              0.2222222222222222,
              "#7201a8"
             ],
             [
              0.3333333333333333,
              "#9c179e"
             ],
             [
              0.4444444444444444,
              "#bd3786"
             ],
             [
              0.5555555555555556,
              "#d8576b"
             ],
             [
              0.6666666666666666,
              "#ed7953"
             ],
             [
              0.7777777777777778,
              "#fb9f3a"
             ],
             [
              0.8888888888888888,
              "#fdca26"
             ],
             [
              1,
              "#f0f921"
             ]
            ],
            "type": "histogram2dcontour"
           }
          ],
          "mesh3d": [
           {
            "colorbar": {
             "outlinewidth": 0,
             "ticks": ""
            },
            "type": "mesh3d"
           }
          ],
          "parcoords": [
           {
            "line": {
             "colorbar": {
              "outlinewidth": 0,
              "ticks": ""
             }
            },
            "type": "parcoords"
           }
          ],
          "pie": [
           {
            "automargin": true,
            "type": "pie"
           }
          ],
          "scatter": [
           {
            "fillpattern": {
             "fillmode": "overlay",
             "size": 10,
             "solidity": 0.2
            },
            "type": "scatter"
           }
          ],
          "scatter3d": [
           {
            "line": {
             "colorbar": {
              "outlinewidth": 0,
              "ticks": ""
             }
            },
            "marker": {
             "colorbar": {
              "outlinewidth": 0,
              "ticks": ""
             }
            },
            "type": "scatter3d"
           }
          ],
          "scattercarpet": [
           {
            "marker": {
             "colorbar": {
              "outlinewidth": 0,
              "ticks": ""
             }
            },
            "type": "scattercarpet"
           }
          ],
          "scattergeo": [
           {
            "marker": {
             "colorbar": {
              "outlinewidth": 0,
              "ticks": ""
             }
            },
            "type": "scattergeo"
           }
          ],
          "scattergl": [
           {
            "marker": {
             "colorbar": {
              "outlinewidth": 0,
              "ticks": ""
             }
            },
            "type": "scattergl"
           }
          ],
          "scattermap": [
           {
            "marker": {
             "colorbar": {
              "outlinewidth": 0,
              "ticks": ""
             }
            },
            "type": "scattermap"
           }
          ],
          "scattermapbox": [
           {
            "marker": {
             "colorbar": {
              "outlinewidth": 0,
              "ticks": ""
             }
            },
            "type": "scattermapbox"
           }
          ],
          "scatterpolar": [
           {
            "marker": {
             "colorbar": {
              "outlinewidth": 0,
              "ticks": ""
             }
            },
            "type": "scatterpolar"
           }
          ],
          "scatterpolargl": [
           {
            "marker": {
             "colorbar": {
              "outlinewidth": 0,
              "ticks": ""
             }
            },
            "type": "scatterpolargl"
           }
          ],
          "scatterternary": [
           {
            "marker": {
             "colorbar": {
              "outlinewidth": 0,
              "ticks": ""
             }
            },
            "type": "scatterternary"
           }
          ],
          "surface": [
           {
            "colorbar": {
             "outlinewidth": 0,
             "ticks": ""
            },
            "colorscale": [
             [
              0,
              "#0d0887"
             ],
             [
              0.1111111111111111,
              "#46039f"
             ],
             [
              0.2222222222222222,
              "#7201a8"
             ],
             [
              0.3333333333333333,
              "#9c179e"
             ],
             [
              0.4444444444444444,
              "#bd3786"
             ],
             [
              0.5555555555555556,
              "#d8576b"
             ],
             [
              0.6666666666666666,
              "#ed7953"
             ],
             [
              0.7777777777777778,
              "#fb9f3a"
             ],
             [
              0.8888888888888888,
              "#fdca26"
             ],
             [
              1,
              "#f0f921"
             ]
            ],
            "type": "surface"
           }
          ],
          "table": [
           {
            "cells": {
             "fill": {
              "color": "#EBF0F8"
             },
             "line": {
              "color": "white"
             }
            },
            "header": {
             "fill": {
              "color": "#C8D4E3"
             },
             "line": {
              "color": "white"
             }
            },
            "type": "table"
           }
          ]
         },
         "layout": {
          "annotationdefaults": {
           "arrowcolor": "#2a3f5f",
           "arrowhead": 0,
           "arrowwidth": 1
          },
          "autotypenumbers": "strict",
          "coloraxis": {
           "colorbar": {
            "outlinewidth": 0,
            "ticks": ""
           }
          },
          "colorscale": {
           "diverging": [
            [
             0,
             "#8e0152"
            ],
            [
             0.1,
             "#c51b7d"
            ],
            [
             0.2,
             "#de77ae"
            ],
            [
             0.3,
             "#f1b6da"
            ],
            [
             0.4,
             "#fde0ef"
            ],
            [
             0.5,
             "#f7f7f7"
            ],
            [
             0.6,
             "#e6f5d0"
            ],
            [
             0.7,
             "#b8e186"
            ],
            [
             0.8,
             "#7fbc41"
            ],
            [
             0.9,
             "#4d9221"
            ],
            [
             1,
             "#276419"
            ]
           ],
           "sequential": [
            [
             0,
             "#0d0887"
            ],
            [
             0.1111111111111111,
             "#46039f"
            ],
            [
             0.2222222222222222,
             "#7201a8"
            ],
            [
             0.3333333333333333,
             "#9c179e"
            ],
            [
             0.4444444444444444,
             "#bd3786"
            ],
            [
             0.5555555555555556,
             "#d8576b"
            ],
            [
             0.6666666666666666,
             "#ed7953"
            ],
            [
             0.7777777777777778,
             "#fb9f3a"
            ],
            [
             0.8888888888888888,
             "#fdca26"
            ],
            [
             1,
             "#f0f921"
            ]
           ],
           "sequentialminus": [
            [
             0,
             "#0d0887"
            ],
            [
             0.1111111111111111,
             "#46039f"
            ],
            [
             0.2222222222222222,
             "#7201a8"
            ],
            [
             0.3333333333333333,
             "#9c179e"
            ],
            [
             0.4444444444444444,
             "#bd3786"
            ],
            [
             0.5555555555555556,
             "#d8576b"
            ],
            [
             0.6666666666666666,
             "#ed7953"
            ],
            [
             0.7777777777777778,
             "#fb9f3a"
            ],
            [
             0.8888888888888888,
             "#fdca26"
            ],
            [
             1,
             "#f0f921"
            ]
           ]
          },
          "colorway": [
           "#636efa",
           "#EF553B",
           "#00cc96",
           "#ab63fa",
           "#FFA15A",
           "#19d3f3",
           "#FF6692",
           "#B6E880",
           "#FF97FF",
           "#FECB52"
          ],
          "font": {
           "color": "#2a3f5f"
          },
          "geo": {
           "bgcolor": "white",
           "lakecolor": "white",
           "landcolor": "#E5ECF6",
           "showlakes": true,
           "showland": true,
           "subunitcolor": "white"
          },
          "hoverlabel": {
           "align": "left"
          },
          "hovermode": "closest",
          "mapbox": {
           "style": "light"
          },
          "paper_bgcolor": "white",
          "plot_bgcolor": "#E5ECF6",
          "polar": {
           "angularaxis": {
            "gridcolor": "white",
            "linecolor": "white",
            "ticks": ""
           },
           "bgcolor": "#E5ECF6",
           "radialaxis": {
            "gridcolor": "white",
            "linecolor": "white",
            "ticks": ""
           }
          },
          "scene": {
           "xaxis": {
            "backgroundcolor": "#E5ECF6",
            "gridcolor": "white",
            "gridwidth": 2,
            "linecolor": "white",
            "showbackground": true,
            "ticks": "",
            "zerolinecolor": "white"
           },
           "yaxis": {
            "backgroundcolor": "#E5ECF6",
            "gridcolor": "white",
            "gridwidth": 2,
            "linecolor": "white",
            "showbackground": true,
            "ticks": "",
            "zerolinecolor": "white"
           },
           "zaxis": {
            "backgroundcolor": "#E5ECF6",
            "gridcolor": "white",
            "gridwidth": 2,
            "linecolor": "white",
            "showbackground": true,
            "ticks": "",
            "zerolinecolor": "white"
           }
          },
          "shapedefaults": {
           "line": {
            "color": "#2a3f5f"
           }
          },
          "ternary": {
           "aaxis": {
            "gridcolor": "white",
            "linecolor": "white",
            "ticks": ""
           },
           "baxis": {
            "gridcolor": "white",
            "linecolor": "white",
            "ticks": ""
           },
           "bgcolor": "#E5ECF6",
           "caxis": {
            "gridcolor": "white",
            "linecolor": "white",
            "ticks": ""
           }
          },
          "title": {
           "x": 0.05
          },
          "xaxis": {
           "automargin": true,
           "gridcolor": "white",
           "linecolor": "white",
           "ticks": "",
           "title": {
            "standoff": 15
           },
           "zerolinecolor": "white",
           "zerolinewidth": 2
          },
          "yaxis": {
           "automargin": true,
           "gridcolor": "white",
           "linecolor": "white",
           "ticks": "",
           "title": {
            "standoff": 15
           },
           "zerolinecolor": "white",
           "zerolinewidth": 2
          }
         }
        },
        "title": {
         "text": "China Fertility Rate Over Time (1960-2022)"
        },
        "xaxis": {
         "tickangle": 90,
         "tickfont": {
          "size": 12
         },
         "tickmode": "linear",
         "title": {
          "text": "Year"
         }
        },
        "yaxis": {
         "title": {
          "text": "Fertility Rate (Births per Woman)"
         }
        }
       }
      },
      "text/html": [
       "<div>            <script src=\"https://cdnjs.cloudflare.com/ajax/libs/mathjax/2.7.5/MathJax.js?config=TeX-AMS-MML_SVG\"></script><script type=\"text/javascript\">if (window.MathJax && window.MathJax.Hub && window.MathJax.Hub.Config) {window.MathJax.Hub.Config({SVG: {font: \"STIX-Web\"}});}</script>                <script type=\"text/javascript\">window.PlotlyConfig = {MathJaxConfig: 'local'};</script>\n",
       "        <script charset=\"utf-8\" src=\"https://cdn.plot.ly/plotly-3.0.0.min.js\"></script>                <div id=\"a816255f-9f3f-4739-9e91-02f71ffdce6a\" class=\"plotly-graph-div\" style=\"height:525px; width:100%;\"></div>            <script type=\"text/javascript\">                window.PLOTLYENV=window.PLOTLYENV || {};                                if (document.getElementById(\"a816255f-9f3f-4739-9e91-02f71ffdce6a\")) {                    Plotly.newPlot(                        \"a816255f-9f3f-4739-9e91-02f71ffdce6a\",                        [{\"mode\":\"lines+markers\",\"name\":\"China Fertility Rate\",\"x\":{\"dtype\":\"i2\",\"bdata\":\"5wfmB+UH5AfjB+IH4QfgB98H3gfdB9wH2wfaB9kH2AfXB9YH1QfUB9MH0gfRB9AHzwfOB80HzAfLB8oHyQfIB8cHxgfFB8QHwwfCB8EHwAe\\u002fB74HvQe8B7sHuge5B7gHtwe2B7UHtAezB7IHsQewB68HrgetB6wHqweqB6kHqAc=\"},\"y\":{\"dtype\":\"f8\",\"bdata\":\"AAAAAAAA+H\\u002fNzMzMzMzyPzm0yHa+n\\u002fI\\u002f5dAi2\\u002fl+9D9WDi2yne\\u002f3P3e+nxov3fg\\u002fNV66SQwC\\u002fT8nMQisHFr8P7gehetRuPo\\u002f5\\u002fup8dJN\\u002fD8GgZVDi2z7P\\u002fhT46WbxPw\\u002f46WbxCCw+j\\u002fLoUW28\\u002f36PwaBlUOLbPs\\u002fnu+nxks3+z8OLbKd76f6P+f7qfHSTfo\\u002flkOLbOf7+T+uR+F6FK75Px+F61G4Hvk\\u002fdZMYBFYO+T81XrpJDAL5Pz81XrpJDPo\\u002fexSuR+F6+D8nMQisHFr4PzvfT42Xbvg\\u002fd76fGi\\u002fd+D+cxCCwcmj5Pz81XrpJDPo\\u002fdZMYBFYO+z\\u002fRItv5fmr8P4ts5\\u002fup8f4\\u002f6SYxCKwcBEApXI\\u002fC9SgEQB1aZDvfTwRAFK5H4XoUBkD4U+Olm8QFQKrx0k1iEAVAQmDl0CLbBEBGtvP91HgEQC2yne+nxgdAvHSTGARWBkC28\\u002f3UeOkFQPYoXI\\u002fC9QVA7nw\\u002fNV66BUCNl24Sg8AGQOF6FK5H4QlAxSCwcmiRDECuR+F6FK4QQIGVQ4ts5xJAppvEILByFEBkO99PjRcWQNejcD0KVxhAMzMzMzOzGEDVeOkmMQgaQNNNYhBYORdA7nw\\u002fNV46GUDsUbgehWsaQOOlm8QgsBpAWmQ7308NHkDXo3A9ClcYQIGVQ4ts5w5A5\\u002fup8dLNEUA=\"},\"type\":\"scatter\"}],                        {\"template\":{\"data\":{\"histogram2dcontour\":[{\"type\":\"histogram2dcontour\",\"colorbar\":{\"outlinewidth\":0,\"ticks\":\"\"},\"colorscale\":[[0.0,\"#0d0887\"],[0.1111111111111111,\"#46039f\"],[0.2222222222222222,\"#7201a8\"],[0.3333333333333333,\"#9c179e\"],[0.4444444444444444,\"#bd3786\"],[0.5555555555555556,\"#d8576b\"],[0.6666666666666666,\"#ed7953\"],[0.7777777777777778,\"#fb9f3a\"],[0.8888888888888888,\"#fdca26\"],[1.0,\"#f0f921\"]]}],\"choropleth\":[{\"type\":\"choropleth\",\"colorbar\":{\"outlinewidth\":0,\"ticks\":\"\"}}],\"histogram2d\":[{\"type\":\"histogram2d\",\"colorbar\":{\"outlinewidth\":0,\"ticks\":\"\"},\"colorscale\":[[0.0,\"#0d0887\"],[0.1111111111111111,\"#46039f\"],[0.2222222222222222,\"#7201a8\"],[0.3333333333333333,\"#9c179e\"],[0.4444444444444444,\"#bd3786\"],[0.5555555555555556,\"#d8576b\"],[0.6666666666666666,\"#ed7953\"],[0.7777777777777778,\"#fb9f3a\"],[0.8888888888888888,\"#fdca26\"],[1.0,\"#f0f921\"]]}],\"heatmap\":[{\"type\":\"heatmap\",\"colorbar\":{\"outlinewidth\":0,\"ticks\":\"\"},\"colorscale\":[[0.0,\"#0d0887\"],[0.1111111111111111,\"#46039f\"],[0.2222222222222222,\"#7201a8\"],[0.3333333333333333,\"#9c179e\"],[0.4444444444444444,\"#bd3786\"],[0.5555555555555556,\"#d8576b\"],[0.6666666666666666,\"#ed7953\"],[0.7777777777777778,\"#fb9f3a\"],[0.8888888888888888,\"#fdca26\"],[1.0,\"#f0f921\"]]}],\"contourcarpet\":[{\"type\":\"contourcarpet\",\"colorbar\":{\"outlinewidth\":0,\"ticks\":\"\"}}],\"contour\":[{\"type\":\"contour\",\"colorbar\":{\"outlinewidth\":0,\"ticks\":\"\"},\"colorscale\":[[0.0,\"#0d0887\"],[0.1111111111111111,\"#46039f\"],[0.2222222222222222,\"#7201a8\"],[0.3333333333333333,\"#9c179e\"],[0.4444444444444444,\"#bd3786\"],[0.5555555555555556,\"#d8576b\"],[0.6666666666666666,\"#ed7953\"],[0.7777777777777778,\"#fb9f3a\"],[0.8888888888888888,\"#fdca26\"],[1.0,\"#f0f921\"]]}],\"surface\":[{\"type\":\"surface\",\"colorbar\":{\"outlinewidth\":0,\"ticks\":\"\"},\"colorscale\":[[0.0,\"#0d0887\"],[0.1111111111111111,\"#46039f\"],[0.2222222222222222,\"#7201a8\"],[0.3333333333333333,\"#9c179e\"],[0.4444444444444444,\"#bd3786\"],[0.5555555555555556,\"#d8576b\"],[0.6666666666666666,\"#ed7953\"],[0.7777777777777778,\"#fb9f3a\"],[0.8888888888888888,\"#fdca26\"],[1.0,\"#f0f921\"]]}],\"mesh3d\":[{\"type\":\"mesh3d\",\"colorbar\":{\"outlinewidth\":0,\"ticks\":\"\"}}],\"scatter\":[{\"fillpattern\":{\"fillmode\":\"overlay\",\"size\":10,\"solidity\":0.2},\"type\":\"scatter\"}],\"parcoords\":[{\"type\":\"parcoords\",\"line\":{\"colorbar\":{\"outlinewidth\":0,\"ticks\":\"\"}}}],\"scatterpolargl\":[{\"type\":\"scatterpolargl\",\"marker\":{\"colorbar\":{\"outlinewidth\":0,\"ticks\":\"\"}}}],\"bar\":[{\"error_x\":{\"color\":\"#2a3f5f\"},\"error_y\":{\"color\":\"#2a3f5f\"},\"marker\":{\"line\":{\"color\":\"#E5ECF6\",\"width\":0.5},\"pattern\":{\"fillmode\":\"overlay\",\"size\":10,\"solidity\":0.2}},\"type\":\"bar\"}],\"scattergeo\":[{\"type\":\"scattergeo\",\"marker\":{\"colorbar\":{\"outlinewidth\":0,\"ticks\":\"\"}}}],\"scatterpolar\":[{\"type\":\"scatterpolar\",\"marker\":{\"colorbar\":{\"outlinewidth\":0,\"ticks\":\"\"}}}],\"histogram\":[{\"marker\":{\"pattern\":{\"fillmode\":\"overlay\",\"size\":10,\"solidity\":0.2}},\"type\":\"histogram\"}],\"scattergl\":[{\"type\":\"scattergl\",\"marker\":{\"colorbar\":{\"outlinewidth\":0,\"ticks\":\"\"}}}],\"scatter3d\":[{\"type\":\"scatter3d\",\"line\":{\"colorbar\":{\"outlinewidth\":0,\"ticks\":\"\"}},\"marker\":{\"colorbar\":{\"outlinewidth\":0,\"ticks\":\"\"}}}],\"scattermap\":[{\"type\":\"scattermap\",\"marker\":{\"colorbar\":{\"outlinewidth\":0,\"ticks\":\"\"}}}],\"scattermapbox\":[{\"type\":\"scattermapbox\",\"marker\":{\"colorbar\":{\"outlinewidth\":0,\"ticks\":\"\"}}}],\"scatterternary\":[{\"type\":\"scatterternary\",\"marker\":{\"colorbar\":{\"outlinewidth\":0,\"ticks\":\"\"}}}],\"scattercarpet\":[{\"type\":\"scattercarpet\",\"marker\":{\"colorbar\":{\"outlinewidth\":0,\"ticks\":\"\"}}}],\"carpet\":[{\"aaxis\":{\"endlinecolor\":\"#2a3f5f\",\"gridcolor\":\"white\",\"linecolor\":\"white\",\"minorgridcolor\":\"white\",\"startlinecolor\":\"#2a3f5f\"},\"baxis\":{\"endlinecolor\":\"#2a3f5f\",\"gridcolor\":\"white\",\"linecolor\":\"white\",\"minorgridcolor\":\"white\",\"startlinecolor\":\"#2a3f5f\"},\"type\":\"carpet\"}],\"table\":[{\"cells\":{\"fill\":{\"color\":\"#EBF0F8\"},\"line\":{\"color\":\"white\"}},\"header\":{\"fill\":{\"color\":\"#C8D4E3\"},\"line\":{\"color\":\"white\"}},\"type\":\"table\"}],\"barpolar\":[{\"marker\":{\"line\":{\"color\":\"#E5ECF6\",\"width\":0.5},\"pattern\":{\"fillmode\":\"overlay\",\"size\":10,\"solidity\":0.2}},\"type\":\"barpolar\"}],\"pie\":[{\"automargin\":true,\"type\":\"pie\"}]},\"layout\":{\"autotypenumbers\":\"strict\",\"colorway\":[\"#636efa\",\"#EF553B\",\"#00cc96\",\"#ab63fa\",\"#FFA15A\",\"#19d3f3\",\"#FF6692\",\"#B6E880\",\"#FF97FF\",\"#FECB52\"],\"font\":{\"color\":\"#2a3f5f\"},\"hovermode\":\"closest\",\"hoverlabel\":{\"align\":\"left\"},\"paper_bgcolor\":\"white\",\"plot_bgcolor\":\"#E5ECF6\",\"polar\":{\"bgcolor\":\"#E5ECF6\",\"angularaxis\":{\"gridcolor\":\"white\",\"linecolor\":\"white\",\"ticks\":\"\"},\"radialaxis\":{\"gridcolor\":\"white\",\"linecolor\":\"white\",\"ticks\":\"\"}},\"ternary\":{\"bgcolor\":\"#E5ECF6\",\"aaxis\":{\"gridcolor\":\"white\",\"linecolor\":\"white\",\"ticks\":\"\"},\"baxis\":{\"gridcolor\":\"white\",\"linecolor\":\"white\",\"ticks\":\"\"},\"caxis\":{\"gridcolor\":\"white\",\"linecolor\":\"white\",\"ticks\":\"\"}},\"coloraxis\":{\"colorbar\":{\"outlinewidth\":0,\"ticks\":\"\"}},\"colorscale\":{\"sequential\":[[0.0,\"#0d0887\"],[0.1111111111111111,\"#46039f\"],[0.2222222222222222,\"#7201a8\"],[0.3333333333333333,\"#9c179e\"],[0.4444444444444444,\"#bd3786\"],[0.5555555555555556,\"#d8576b\"],[0.6666666666666666,\"#ed7953\"],[0.7777777777777778,\"#fb9f3a\"],[0.8888888888888888,\"#fdca26\"],[1.0,\"#f0f921\"]],\"sequentialminus\":[[0.0,\"#0d0887\"],[0.1111111111111111,\"#46039f\"],[0.2222222222222222,\"#7201a8\"],[0.3333333333333333,\"#9c179e\"],[0.4444444444444444,\"#bd3786\"],[0.5555555555555556,\"#d8576b\"],[0.6666666666666666,\"#ed7953\"],[0.7777777777777778,\"#fb9f3a\"],[0.8888888888888888,\"#fdca26\"],[1.0,\"#f0f921\"]],\"diverging\":[[0,\"#8e0152\"],[0.1,\"#c51b7d\"],[0.2,\"#de77ae\"],[0.3,\"#f1b6da\"],[0.4,\"#fde0ef\"],[0.5,\"#f7f7f7\"],[0.6,\"#e6f5d0\"],[0.7,\"#b8e186\"],[0.8,\"#7fbc41\"],[0.9,\"#4d9221\"],[1,\"#276419\"]]},\"xaxis\":{\"gridcolor\":\"white\",\"linecolor\":\"white\",\"ticks\":\"\",\"title\":{\"standoff\":15},\"zerolinecolor\":\"white\",\"automargin\":true,\"zerolinewidth\":2},\"yaxis\":{\"gridcolor\":\"white\",\"linecolor\":\"white\",\"ticks\":\"\",\"title\":{\"standoff\":15},\"zerolinecolor\":\"white\",\"automargin\":true,\"zerolinewidth\":2},\"scene\":{\"xaxis\":{\"backgroundcolor\":\"#E5ECF6\",\"gridcolor\":\"white\",\"linecolor\":\"white\",\"showbackground\":true,\"ticks\":\"\",\"zerolinecolor\":\"white\",\"gridwidth\":2},\"yaxis\":{\"backgroundcolor\":\"#E5ECF6\",\"gridcolor\":\"white\",\"linecolor\":\"white\",\"showbackground\":true,\"ticks\":\"\",\"zerolinecolor\":\"white\",\"gridwidth\":2},\"zaxis\":{\"backgroundcolor\":\"#E5ECF6\",\"gridcolor\":\"white\",\"linecolor\":\"white\",\"showbackground\":true,\"ticks\":\"\",\"zerolinecolor\":\"white\",\"gridwidth\":2}},\"shapedefaults\":{\"line\":{\"color\":\"#2a3f5f\"}},\"annotationdefaults\":{\"arrowcolor\":\"#2a3f5f\",\"arrowhead\":0,\"arrowwidth\":1},\"geo\":{\"bgcolor\":\"white\",\"landcolor\":\"#E5ECF6\",\"subunitcolor\":\"white\",\"showland\":true,\"showlakes\":true,\"lakecolor\":\"white\"},\"title\":{\"x\":0.05},\"mapbox\":{\"style\":\"light\"}}},\"xaxis\":{\"tickfont\":{\"size\":12},\"title\":{\"text\":\"Year\"},\"tickmode\":\"linear\",\"tickangle\":90},\"title\":{\"text\":\"China Fertility Rate Over Time (1960-2022)\"},\"yaxis\":{\"title\":{\"text\":\"Fertility Rate (Births per Woman)\"}},\"showlegend\":true},                        {\"responsive\": true}                    ).then(function(){\n",
       "                            \n",
       "var gd = document.getElementById('a816255f-9f3f-4739-9e91-02f71ffdce6a');\n",
       "var x = new MutationObserver(function (mutations, observer) {{\n",
       "        var display = window.getComputedStyle(gd).display;\n",
       "        if (!display || display === 'none') {{\n",
       "            console.log([gd, 'removed!']);\n",
       "            Plotly.purge(gd);\n",
       "            observer.disconnect();\n",
       "        }}\n",
       "}});\n",
       "\n",
       "// Listen for the removal of the full notebook cells\n",
       "var notebookContainer = gd.closest('#notebook-container');\n",
       "if (notebookContainer) {{\n",
       "    x.observe(notebookContainer, {childList: true});\n",
       "}}\n",
       "\n",
       "// Listen for the clearing of the current output cell\n",
       "var outputEl = gd.closest('.output');\n",
       "if (outputEl) {{\n",
       "    x.observe(outputEl, {childList: true});\n",
       "}}\n",
       "\n",
       "                        })                };            </script>        </div>"
      ]
     },
     "metadata": {},
     "output_type": "display_data"
    }
   ],
   "source": [
    "#China Fertility Rate Over Time (1960-2022)\n",
    "\n",
    "tfr_indicator = {'SP.DYN.TFRT.IN': 'Fertility Rate'}\n",
    "\n",
    "country = 'CHN'\n",
    "start_year = 1960\n",
    "end_year = 2022\n",
    "\n",
    "fertility_data = wbdata.get_dataframe(tfr_indicator, country = country)\n",
    "fertility_data.reset_index(inplace = True)\n",
    "fertility_data['date'] = fertility_data['date'].astype(int)\n",
    "\n",
    "fig = go.Figure()\n",
    "fig.add_trace(go.Scatter(x = fertility_data['date'], y = fertility_data['Fertility Rate'], mode = 'lines+markers', name = 'China Fertility Rate'))\n",
    "\n",
    "fig.update_layout(\n",
    "    title = 'China Fertility Rate Over Time (1960-2022)',\n",
    "    xaxis_title = 'Year',\n",
    "    yaxis_title = 'Fertility Rate (Births per Woman)',\n",
    "    showlegend = True,\n",
    "    xaxis = dict(tickmode='linear', tickangle = 90, tickfont = dict(size = 12))\n",
    ")\n",
    "\n",
    "fig.show()"
   ]
  },
  {
   "cell_type": "code",
   "execution_count": 69,
   "id": "4fe65277-2a81-4f09-b783-d11c0f0ba575",
   "metadata": {
    "scrolled": true
   },
   "outputs": [
    {
     "data": {
      "application/vnd.plotly.v1+json": {
       "config": {
        "plotlyServerURL": "https://plot.ly"
       },
       "data": [
        {
         "mode": "lines+markers",
         "name": "Population Growth Rate",
         "type": "scatter",
         "x": {
          "bdata": "5wfmB+UH5AfjB+IH4QfgB98H3gfdB9wH2wfaB9kH2AfXB9YH1QfUB9MH0gfRB9AHzwfOB80HzAfLB8oHyQfIB8cHxgfFB8QHwwfCB8EHwAe/B74HvQe8B7sHuge5B7gHtwe2B7UHtAezB7IHsQewB68HrgetB6wHqweqB6kHqAc=",
          "dtype": "i2"
         },
         "y": {
          "bdata": "Fb6tRkeSur+y0TlP6dOKv2PyRXA72bY/TdZfjB94zj+6m3UiE7TWP2XTt8NW7t0/7D5fyipe4z/HZJDablbiPyh9vutJm+I/B2ycP6Ir5D+vs/1GeFDlP2RjJIkBteU/xytVo5R84T/VOwrBz+jePyIgnMwY1d8/nfpIR3ll4D+O0jh9c7bgP+BV2esz3uE/pHGDf+vR4j8IsR1kfwHjPzXK1A567uM/G3D77qJw5T/J2X6bgj7nP5j1rL7wNuk/CEUD+w216z8SQL0No7TuPyxj8CENYPA/8rdLCTDF8D/DBF5rV2LxPwIOMSyMFfI/y34kWNdk8j9RRkzgy5vzP3ZKOsG41PU/Qq2A7hJ69z9CXABD3Yf4P20LG+bZwvk/H22nzl2o+T/ezszRYsz3PyNEvgOFyfU/awoz0Dv+9D8B4EaSgx73P6ToyGgTkPc/1Iin4sd+9D9WlQAYShH0P+AzedbEV/U/siM04jFp9T9eIf3Z8c31P4zTVXblwfg/RgdgByRD/D8p+wpsE4cAQFeA4MlkRAJAgTL3v6qoA0CP4hPcrvkFQOmfAFzpFwZAHnhXOYbrBUDNW47qIOMEQCx35enJkARAI+6BonRMBkBkeEC4Cg0DQH6+7j3CkAJA9ZDICkOpA0CzSrb+K0HqP8MHqxCaP/C/AAAAAAAA+H8=",
          "dtype": "f8"
         }
        }
       ],
       "layout": {
        "showlegend": true,
        "template": {
         "data": {
          "bar": [
           {
            "error_x": {
             "color": "#2a3f5f"
            },
            "error_y": {
             "color": "#2a3f5f"
            },
            "marker": {
             "line": {
              "color": "#E5ECF6",
              "width": 0.5
             },
             "pattern": {
              "fillmode": "overlay",
              "size": 10,
              "solidity": 0.2
             }
            },
            "type": "bar"
           }
          ],
          "barpolar": [
           {
            "marker": {
             "line": {
              "color": "#E5ECF6",
              "width": 0.5
             },
             "pattern": {
              "fillmode": "overlay",
              "size": 10,
              "solidity": 0.2
             }
            },
            "type": "barpolar"
           }
          ],
          "carpet": [
           {
            "aaxis": {
             "endlinecolor": "#2a3f5f",
             "gridcolor": "white",
             "linecolor": "white",
             "minorgridcolor": "white",
             "startlinecolor": "#2a3f5f"
            },
            "baxis": {
             "endlinecolor": "#2a3f5f",
             "gridcolor": "white",
             "linecolor": "white",
             "minorgridcolor": "white",
             "startlinecolor": "#2a3f5f"
            },
            "type": "carpet"
           }
          ],
          "choropleth": [
           {
            "colorbar": {
             "outlinewidth": 0,
             "ticks": ""
            },
            "type": "choropleth"
           }
          ],
          "contour": [
           {
            "colorbar": {
             "outlinewidth": 0,
             "ticks": ""
            },
            "colorscale": [
             [
              0,
              "#0d0887"
             ],
             [
              0.1111111111111111,
              "#46039f"
             ],
             [
              0.2222222222222222,
              "#7201a8"
             ],
             [
              0.3333333333333333,
              "#9c179e"
             ],
             [
              0.4444444444444444,
              "#bd3786"
             ],
             [
              0.5555555555555556,
              "#d8576b"
             ],
             [
              0.6666666666666666,
              "#ed7953"
             ],
             [
              0.7777777777777778,
              "#fb9f3a"
             ],
             [
              0.8888888888888888,
              "#fdca26"
             ],
             [
              1,
              "#f0f921"
             ]
            ],
            "type": "contour"
           }
          ],
          "contourcarpet": [
           {
            "colorbar": {
             "outlinewidth": 0,
             "ticks": ""
            },
            "type": "contourcarpet"
           }
          ],
          "heatmap": [
           {
            "colorbar": {
             "outlinewidth": 0,
             "ticks": ""
            },
            "colorscale": [
             [
              0,
              "#0d0887"
             ],
             [
              0.1111111111111111,
              "#46039f"
             ],
             [
              0.2222222222222222,
              "#7201a8"
             ],
             [
              0.3333333333333333,
              "#9c179e"
             ],
             [
              0.4444444444444444,
              "#bd3786"
             ],
             [
              0.5555555555555556,
              "#d8576b"
             ],
             [
              0.6666666666666666,
              "#ed7953"
             ],
             [
              0.7777777777777778,
              "#fb9f3a"
             ],
             [
              0.8888888888888888,
              "#fdca26"
             ],
             [
              1,
              "#f0f921"
             ]
            ],
            "type": "heatmap"
           }
          ],
          "histogram": [
           {
            "marker": {
             "pattern": {
              "fillmode": "overlay",
              "size": 10,
              "solidity": 0.2
             }
            },
            "type": "histogram"
           }
          ],
          "histogram2d": [
           {
            "colorbar": {
             "outlinewidth": 0,
             "ticks": ""
            },
            "colorscale": [
             [
              0,
              "#0d0887"
             ],
             [
              0.1111111111111111,
              "#46039f"
             ],
             [
              0.2222222222222222,
              "#7201a8"
             ],
             [
              0.3333333333333333,
              "#9c179e"
             ],
             [
              0.4444444444444444,
              "#bd3786"
             ],
             [
              0.5555555555555556,
              "#d8576b"
             ],
             [
              0.6666666666666666,
              "#ed7953"
             ],
             [
              0.7777777777777778,
              "#fb9f3a"
             ],
             [
              0.8888888888888888,
              "#fdca26"
             ],
             [
              1,
              "#f0f921"
             ]
            ],
            "type": "histogram2d"
           }
          ],
          "histogram2dcontour": [
           {
            "colorbar": {
             "outlinewidth": 0,
             "ticks": ""
            },
            "colorscale": [
             [
              0,
              "#0d0887"
             ],
             [
              0.1111111111111111,
              "#46039f"
             ],
             [
              0.2222222222222222,
              "#7201a8"
             ],
             [
              0.3333333333333333,
              "#9c179e"
             ],
             [
              0.4444444444444444,
              "#bd3786"
             ],
             [
              0.5555555555555556,
              "#d8576b"
             ],
             [
              0.6666666666666666,
              "#ed7953"
             ],
             [
              0.7777777777777778,
              "#fb9f3a"
             ],
             [
              0.8888888888888888,
              "#fdca26"
             ],
             [
              1,
              "#f0f921"
             ]
            ],
            "type": "histogram2dcontour"
           }
          ],
          "mesh3d": [
           {
            "colorbar": {
             "outlinewidth": 0,
             "ticks": ""
            },
            "type": "mesh3d"
           }
          ],
          "parcoords": [
           {
            "line": {
             "colorbar": {
              "outlinewidth": 0,
              "ticks": ""
             }
            },
            "type": "parcoords"
           }
          ],
          "pie": [
           {
            "automargin": true,
            "type": "pie"
           }
          ],
          "scatter": [
           {
            "fillpattern": {
             "fillmode": "overlay",
             "size": 10,
             "solidity": 0.2
            },
            "type": "scatter"
           }
          ],
          "scatter3d": [
           {
            "line": {
             "colorbar": {
              "outlinewidth": 0,
              "ticks": ""
             }
            },
            "marker": {
             "colorbar": {
              "outlinewidth": 0,
              "ticks": ""
             }
            },
            "type": "scatter3d"
           }
          ],
          "scattercarpet": [
           {
            "marker": {
             "colorbar": {
              "outlinewidth": 0,
              "ticks": ""
             }
            },
            "type": "scattercarpet"
           }
          ],
          "scattergeo": [
           {
            "marker": {
             "colorbar": {
              "outlinewidth": 0,
              "ticks": ""
             }
            },
            "type": "scattergeo"
           }
          ],
          "scattergl": [
           {
            "marker": {
             "colorbar": {
              "outlinewidth": 0,
              "ticks": ""
             }
            },
            "type": "scattergl"
           }
          ],
          "scattermap": [
           {
            "marker": {
             "colorbar": {
              "outlinewidth": 0,
              "ticks": ""
             }
            },
            "type": "scattermap"
           }
          ],
          "scattermapbox": [
           {
            "marker": {
             "colorbar": {
              "outlinewidth": 0,
              "ticks": ""
             }
            },
            "type": "scattermapbox"
           }
          ],
          "scatterpolar": [
           {
            "marker": {
             "colorbar": {
              "outlinewidth": 0,
              "ticks": ""
             }
            },
            "type": "scatterpolar"
           }
          ],
          "scatterpolargl": [
           {
            "marker": {
             "colorbar": {
              "outlinewidth": 0,
              "ticks": ""
             }
            },
            "type": "scatterpolargl"
           }
          ],
          "scatterternary": [
           {
            "marker": {
             "colorbar": {
              "outlinewidth": 0,
              "ticks": ""
             }
            },
            "type": "scatterternary"
           }
          ],
          "surface": [
           {
            "colorbar": {
             "outlinewidth": 0,
             "ticks": ""
            },
            "colorscale": [
             [
              0,
              "#0d0887"
             ],
             [
              0.1111111111111111,
              "#46039f"
             ],
             [
              0.2222222222222222,
              "#7201a8"
             ],
             [
              0.3333333333333333,
              "#9c179e"
             ],
             [
              0.4444444444444444,
              "#bd3786"
             ],
             [
              0.5555555555555556,
              "#d8576b"
             ],
             [
              0.6666666666666666,
              "#ed7953"
             ],
             [
              0.7777777777777778,
              "#fb9f3a"
             ],
             [
              0.8888888888888888,
              "#fdca26"
             ],
             [
              1,
              "#f0f921"
             ]
            ],
            "type": "surface"
           }
          ],
          "table": [
           {
            "cells": {
             "fill": {
              "color": "#EBF0F8"
             },
             "line": {
              "color": "white"
             }
            },
            "header": {
             "fill": {
              "color": "#C8D4E3"
             },
             "line": {
              "color": "white"
             }
            },
            "type": "table"
           }
          ]
         },
         "layout": {
          "annotationdefaults": {
           "arrowcolor": "#2a3f5f",
           "arrowhead": 0,
           "arrowwidth": 1
          },
          "autotypenumbers": "strict",
          "coloraxis": {
           "colorbar": {
            "outlinewidth": 0,
            "ticks": ""
           }
          },
          "colorscale": {
           "diverging": [
            [
             0,
             "#8e0152"
            ],
            [
             0.1,
             "#c51b7d"
            ],
            [
             0.2,
             "#de77ae"
            ],
            [
             0.3,
             "#f1b6da"
            ],
            [
             0.4,
             "#fde0ef"
            ],
            [
             0.5,
             "#f7f7f7"
            ],
            [
             0.6,
             "#e6f5d0"
            ],
            [
             0.7,
             "#b8e186"
            ],
            [
             0.8,
             "#7fbc41"
            ],
            [
             0.9,
             "#4d9221"
            ],
            [
             1,
             "#276419"
            ]
           ],
           "sequential": [
            [
             0,
             "#0d0887"
            ],
            [
             0.1111111111111111,
             "#46039f"
            ],
            [
             0.2222222222222222,
             "#7201a8"
            ],
            [
             0.3333333333333333,
             "#9c179e"
            ],
            [
             0.4444444444444444,
             "#bd3786"
            ],
            [
             0.5555555555555556,
             "#d8576b"
            ],
            [
             0.6666666666666666,
             "#ed7953"
            ],
            [
             0.7777777777777778,
             "#fb9f3a"
            ],
            [
             0.8888888888888888,
             "#fdca26"
            ],
            [
             1,
             "#f0f921"
            ]
           ],
           "sequentialminus": [
            [
             0,
             "#0d0887"
            ],
            [
             0.1111111111111111,
             "#46039f"
            ],
            [
             0.2222222222222222,
             "#7201a8"
            ],
            [
             0.3333333333333333,
             "#9c179e"
            ],
            [
             0.4444444444444444,
             "#bd3786"
            ],
            [
             0.5555555555555556,
             "#d8576b"
            ],
            [
             0.6666666666666666,
             "#ed7953"
            ],
            [
             0.7777777777777778,
             "#fb9f3a"
            ],
            [
             0.8888888888888888,
             "#fdca26"
            ],
            [
             1,
             "#f0f921"
            ]
           ]
          },
          "colorway": [
           "#636efa",
           "#EF553B",
           "#00cc96",
           "#ab63fa",
           "#FFA15A",
           "#19d3f3",
           "#FF6692",
           "#B6E880",
           "#FF97FF",
           "#FECB52"
          ],
          "font": {
           "color": "#2a3f5f"
          },
          "geo": {
           "bgcolor": "white",
           "lakecolor": "white",
           "landcolor": "#E5ECF6",
           "showlakes": true,
           "showland": true,
           "subunitcolor": "white"
          },
          "hoverlabel": {
           "align": "left"
          },
          "hovermode": "closest",
          "mapbox": {
           "style": "light"
          },
          "paper_bgcolor": "white",
          "plot_bgcolor": "#E5ECF6",
          "polar": {
           "angularaxis": {
            "gridcolor": "white",
            "linecolor": "white",
            "ticks": ""
           },
           "bgcolor": "#E5ECF6",
           "radialaxis": {
            "gridcolor": "white",
            "linecolor": "white",
            "ticks": ""
           }
          },
          "scene": {
           "xaxis": {
            "backgroundcolor": "#E5ECF6",
            "gridcolor": "white",
            "gridwidth": 2,
            "linecolor": "white",
            "showbackground": true,
            "ticks": "",
            "zerolinecolor": "white"
           },
           "yaxis": {
            "backgroundcolor": "#E5ECF6",
            "gridcolor": "white",
            "gridwidth": 2,
            "linecolor": "white",
            "showbackground": true,
            "ticks": "",
            "zerolinecolor": "white"
           },
           "zaxis": {
            "backgroundcolor": "#E5ECF6",
            "gridcolor": "white",
            "gridwidth": 2,
            "linecolor": "white",
            "showbackground": true,
            "ticks": "",
            "zerolinecolor": "white"
           }
          },
          "shapedefaults": {
           "line": {
            "color": "#2a3f5f"
           }
          },
          "ternary": {
           "aaxis": {
            "gridcolor": "white",
            "linecolor": "white",
            "ticks": ""
           },
           "baxis": {
            "gridcolor": "white",
            "linecolor": "white",
            "ticks": ""
           },
           "bgcolor": "#E5ECF6",
           "caxis": {
            "gridcolor": "white",
            "linecolor": "white",
            "ticks": ""
           }
          },
          "title": {
           "x": 0.05
          },
          "xaxis": {
           "automargin": true,
           "gridcolor": "white",
           "linecolor": "white",
           "ticks": "",
           "title": {
            "standoff": 15
           },
           "zerolinecolor": "white",
           "zerolinewidth": 2
          },
          "yaxis": {
           "automargin": true,
           "gridcolor": "white",
           "linecolor": "white",
           "ticks": "",
           "title": {
            "standoff": 15
           },
           "zerolinecolor": "white",
           "zerolinewidth": 2
          }
         }
        },
        "title": {
         "text": "China Population Growth Rate (1960-2023)"
        },
        "xaxis": {
         "tickangle": 90,
         "tickfont": {
          "size": 12
         },
         "tickmode": "linear",
         "title": {
          "text": "Year"
         }
        },
        "yaxis": {
         "title": {
          "text": "Growth Rate (%)"
         }
        }
       }
      },
      "text/html": [
       "<div>            <script src=\"https://cdnjs.cloudflare.com/ajax/libs/mathjax/2.7.5/MathJax.js?config=TeX-AMS-MML_SVG\"></script><script type=\"text/javascript\">if (window.MathJax && window.MathJax.Hub && window.MathJax.Hub.Config) {window.MathJax.Hub.Config({SVG: {font: \"STIX-Web\"}});}</script>                <script type=\"text/javascript\">window.PlotlyConfig = {MathJaxConfig: 'local'};</script>\n",
       "        <script charset=\"utf-8\" src=\"https://cdn.plot.ly/plotly-3.0.0.min.js\"></script>                <div id=\"d2d1f17c-9801-4787-a2ec-536e4d4e8879\" class=\"plotly-graph-div\" style=\"height:525px; width:100%;\"></div>            <script type=\"text/javascript\">                window.PLOTLYENV=window.PLOTLYENV || {};                                if (document.getElementById(\"d2d1f17c-9801-4787-a2ec-536e4d4e8879\")) {                    Plotly.newPlot(                        \"d2d1f17c-9801-4787-a2ec-536e4d4e8879\",                        [{\"mode\":\"lines+markers\",\"name\":\"Population Growth Rate\",\"x\":{\"dtype\":\"i2\",\"bdata\":\"5wfmB+UH5AfjB+IH4QfgB98H3gfdB9wH2wfaB9kH2AfXB9YH1QfUB9MH0gfRB9AHzwfOB80HzAfLB8oHyQfIB8cHxgfFB8QHwwfCB8EHwAe\\u002fB74HvQe8B7sHuge5B7gHtwe2B7UHtAezB7IHsQewB68HrgetB6wHqweqB6kHqAc=\"},\"y\":{\"dtype\":\"f8\",\"bdata\":\"Fb6tRkeSur+y0TlP6dOKv2PyRXA72bY\\u002fTdZfjB94zj+6m3UiE7TWP2XTt8NW7t0\\u002f7D5fyipe4z\\u002fHZJDablbiPyh9vutJm+I\\u002fB2ycP6Ir5D+vs\\u002f1GeFDlP2RjJIkBteU\\u002fxytVo5R84T\\u002fVOwrBz+jePyIgnMwY1d8\\u002fnfpIR3ll4D+O0jh9c7bgP+BV2esz3uE\\u002fpHGDf+vR4j8IsR1kfwHjPzXK1A567uM\\u002fG3D77qJw5T\\u002fJ2X6bgj7nP5j1rL7wNuk\\u002fCEUD+w216z8SQL0No7TuPyxj8CENYPA\\u002f8rdLCTDF8D\\u002fDBF5rV2LxPwIOMSyMFfI\\u002fy34kWNdk8j9RRkzgy5vzP3ZKOsG41PU\\u002fQq2A7hJ69z9CXABD3Yf4P20LG+bZwvk\\u002fH22nzl2o+T\\u002fezszRYsz3PyNEvgOFyfU\\u002fawoz0Dv+9D8B4EaSgx73P6ToyGgTkPc\\u002f1Iin4sd+9D9WlQAYShH0P+AzedbEV\\u002fU\\u002fsiM04jFp9T9eIf3Z8c31P4zTVXblwfg\\u002fRgdgByRD\\u002fD8p+wpsE4cAQFeA4MlkRAJAgTL3v6qoA0CP4hPcrvkFQOmfAFzpFwZAHnhXOYbrBUDNW47qIOMEQCx35enJkARAI+6BonRMBkBkeEC4Cg0DQH6+7j3CkAJA9ZDICkOpA0CzSrb+K0HqP8MHqxCaP\\u002fC\\u002fAAAAAAAA+H8=\"},\"type\":\"scatter\"}],                        {\"template\":{\"data\":{\"histogram2dcontour\":[{\"type\":\"histogram2dcontour\",\"colorbar\":{\"outlinewidth\":0,\"ticks\":\"\"},\"colorscale\":[[0.0,\"#0d0887\"],[0.1111111111111111,\"#46039f\"],[0.2222222222222222,\"#7201a8\"],[0.3333333333333333,\"#9c179e\"],[0.4444444444444444,\"#bd3786\"],[0.5555555555555556,\"#d8576b\"],[0.6666666666666666,\"#ed7953\"],[0.7777777777777778,\"#fb9f3a\"],[0.8888888888888888,\"#fdca26\"],[1.0,\"#f0f921\"]]}],\"choropleth\":[{\"type\":\"choropleth\",\"colorbar\":{\"outlinewidth\":0,\"ticks\":\"\"}}],\"histogram2d\":[{\"type\":\"histogram2d\",\"colorbar\":{\"outlinewidth\":0,\"ticks\":\"\"},\"colorscale\":[[0.0,\"#0d0887\"],[0.1111111111111111,\"#46039f\"],[0.2222222222222222,\"#7201a8\"],[0.3333333333333333,\"#9c179e\"],[0.4444444444444444,\"#bd3786\"],[0.5555555555555556,\"#d8576b\"],[0.6666666666666666,\"#ed7953\"],[0.7777777777777778,\"#fb9f3a\"],[0.8888888888888888,\"#fdca26\"],[1.0,\"#f0f921\"]]}],\"heatmap\":[{\"type\":\"heatmap\",\"colorbar\":{\"outlinewidth\":0,\"ticks\":\"\"},\"colorscale\":[[0.0,\"#0d0887\"],[0.1111111111111111,\"#46039f\"],[0.2222222222222222,\"#7201a8\"],[0.3333333333333333,\"#9c179e\"],[0.4444444444444444,\"#bd3786\"],[0.5555555555555556,\"#d8576b\"],[0.6666666666666666,\"#ed7953\"],[0.7777777777777778,\"#fb9f3a\"],[0.8888888888888888,\"#fdca26\"],[1.0,\"#f0f921\"]]}],\"contourcarpet\":[{\"type\":\"contourcarpet\",\"colorbar\":{\"outlinewidth\":0,\"ticks\":\"\"}}],\"contour\":[{\"type\":\"contour\",\"colorbar\":{\"outlinewidth\":0,\"ticks\":\"\"},\"colorscale\":[[0.0,\"#0d0887\"],[0.1111111111111111,\"#46039f\"],[0.2222222222222222,\"#7201a8\"],[0.3333333333333333,\"#9c179e\"],[0.4444444444444444,\"#bd3786\"],[0.5555555555555556,\"#d8576b\"],[0.6666666666666666,\"#ed7953\"],[0.7777777777777778,\"#fb9f3a\"],[0.8888888888888888,\"#fdca26\"],[1.0,\"#f0f921\"]]}],\"surface\":[{\"type\":\"surface\",\"colorbar\":{\"outlinewidth\":0,\"ticks\":\"\"},\"colorscale\":[[0.0,\"#0d0887\"],[0.1111111111111111,\"#46039f\"],[0.2222222222222222,\"#7201a8\"],[0.3333333333333333,\"#9c179e\"],[0.4444444444444444,\"#bd3786\"],[0.5555555555555556,\"#d8576b\"],[0.6666666666666666,\"#ed7953\"],[0.7777777777777778,\"#fb9f3a\"],[0.8888888888888888,\"#fdca26\"],[1.0,\"#f0f921\"]]}],\"mesh3d\":[{\"type\":\"mesh3d\",\"colorbar\":{\"outlinewidth\":0,\"ticks\":\"\"}}],\"scatter\":[{\"fillpattern\":{\"fillmode\":\"overlay\",\"size\":10,\"solidity\":0.2},\"type\":\"scatter\"}],\"parcoords\":[{\"type\":\"parcoords\",\"line\":{\"colorbar\":{\"outlinewidth\":0,\"ticks\":\"\"}}}],\"scatterpolargl\":[{\"type\":\"scatterpolargl\",\"marker\":{\"colorbar\":{\"outlinewidth\":0,\"ticks\":\"\"}}}],\"bar\":[{\"error_x\":{\"color\":\"#2a3f5f\"},\"error_y\":{\"color\":\"#2a3f5f\"},\"marker\":{\"line\":{\"color\":\"#E5ECF6\",\"width\":0.5},\"pattern\":{\"fillmode\":\"overlay\",\"size\":10,\"solidity\":0.2}},\"type\":\"bar\"}],\"scattergeo\":[{\"type\":\"scattergeo\",\"marker\":{\"colorbar\":{\"outlinewidth\":0,\"ticks\":\"\"}}}],\"scatterpolar\":[{\"type\":\"scatterpolar\",\"marker\":{\"colorbar\":{\"outlinewidth\":0,\"ticks\":\"\"}}}],\"histogram\":[{\"marker\":{\"pattern\":{\"fillmode\":\"overlay\",\"size\":10,\"solidity\":0.2}},\"type\":\"histogram\"}],\"scattergl\":[{\"type\":\"scattergl\",\"marker\":{\"colorbar\":{\"outlinewidth\":0,\"ticks\":\"\"}}}],\"scatter3d\":[{\"type\":\"scatter3d\",\"line\":{\"colorbar\":{\"outlinewidth\":0,\"ticks\":\"\"}},\"marker\":{\"colorbar\":{\"outlinewidth\":0,\"ticks\":\"\"}}}],\"scattermap\":[{\"type\":\"scattermap\",\"marker\":{\"colorbar\":{\"outlinewidth\":0,\"ticks\":\"\"}}}],\"scattermapbox\":[{\"type\":\"scattermapbox\",\"marker\":{\"colorbar\":{\"outlinewidth\":0,\"ticks\":\"\"}}}],\"scatterternary\":[{\"type\":\"scatterternary\",\"marker\":{\"colorbar\":{\"outlinewidth\":0,\"ticks\":\"\"}}}],\"scattercarpet\":[{\"type\":\"scattercarpet\",\"marker\":{\"colorbar\":{\"outlinewidth\":0,\"ticks\":\"\"}}}],\"carpet\":[{\"aaxis\":{\"endlinecolor\":\"#2a3f5f\",\"gridcolor\":\"white\",\"linecolor\":\"white\",\"minorgridcolor\":\"white\",\"startlinecolor\":\"#2a3f5f\"},\"baxis\":{\"endlinecolor\":\"#2a3f5f\",\"gridcolor\":\"white\",\"linecolor\":\"white\",\"minorgridcolor\":\"white\",\"startlinecolor\":\"#2a3f5f\"},\"type\":\"carpet\"}],\"table\":[{\"cells\":{\"fill\":{\"color\":\"#EBF0F8\"},\"line\":{\"color\":\"white\"}},\"header\":{\"fill\":{\"color\":\"#C8D4E3\"},\"line\":{\"color\":\"white\"}},\"type\":\"table\"}],\"barpolar\":[{\"marker\":{\"line\":{\"color\":\"#E5ECF6\",\"width\":0.5},\"pattern\":{\"fillmode\":\"overlay\",\"size\":10,\"solidity\":0.2}},\"type\":\"barpolar\"}],\"pie\":[{\"automargin\":true,\"type\":\"pie\"}]},\"layout\":{\"autotypenumbers\":\"strict\",\"colorway\":[\"#636efa\",\"#EF553B\",\"#00cc96\",\"#ab63fa\",\"#FFA15A\",\"#19d3f3\",\"#FF6692\",\"#B6E880\",\"#FF97FF\",\"#FECB52\"],\"font\":{\"color\":\"#2a3f5f\"},\"hovermode\":\"closest\",\"hoverlabel\":{\"align\":\"left\"},\"paper_bgcolor\":\"white\",\"plot_bgcolor\":\"#E5ECF6\",\"polar\":{\"bgcolor\":\"#E5ECF6\",\"angularaxis\":{\"gridcolor\":\"white\",\"linecolor\":\"white\",\"ticks\":\"\"},\"radialaxis\":{\"gridcolor\":\"white\",\"linecolor\":\"white\",\"ticks\":\"\"}},\"ternary\":{\"bgcolor\":\"#E5ECF6\",\"aaxis\":{\"gridcolor\":\"white\",\"linecolor\":\"white\",\"ticks\":\"\"},\"baxis\":{\"gridcolor\":\"white\",\"linecolor\":\"white\",\"ticks\":\"\"},\"caxis\":{\"gridcolor\":\"white\",\"linecolor\":\"white\",\"ticks\":\"\"}},\"coloraxis\":{\"colorbar\":{\"outlinewidth\":0,\"ticks\":\"\"}},\"colorscale\":{\"sequential\":[[0.0,\"#0d0887\"],[0.1111111111111111,\"#46039f\"],[0.2222222222222222,\"#7201a8\"],[0.3333333333333333,\"#9c179e\"],[0.4444444444444444,\"#bd3786\"],[0.5555555555555556,\"#d8576b\"],[0.6666666666666666,\"#ed7953\"],[0.7777777777777778,\"#fb9f3a\"],[0.8888888888888888,\"#fdca26\"],[1.0,\"#f0f921\"]],\"sequentialminus\":[[0.0,\"#0d0887\"],[0.1111111111111111,\"#46039f\"],[0.2222222222222222,\"#7201a8\"],[0.3333333333333333,\"#9c179e\"],[0.4444444444444444,\"#bd3786\"],[0.5555555555555556,\"#d8576b\"],[0.6666666666666666,\"#ed7953\"],[0.7777777777777778,\"#fb9f3a\"],[0.8888888888888888,\"#fdca26\"],[1.0,\"#f0f921\"]],\"diverging\":[[0,\"#8e0152\"],[0.1,\"#c51b7d\"],[0.2,\"#de77ae\"],[0.3,\"#f1b6da\"],[0.4,\"#fde0ef\"],[0.5,\"#f7f7f7\"],[0.6,\"#e6f5d0\"],[0.7,\"#b8e186\"],[0.8,\"#7fbc41\"],[0.9,\"#4d9221\"],[1,\"#276419\"]]},\"xaxis\":{\"gridcolor\":\"white\",\"linecolor\":\"white\",\"ticks\":\"\",\"title\":{\"standoff\":15},\"zerolinecolor\":\"white\",\"automargin\":true,\"zerolinewidth\":2},\"yaxis\":{\"gridcolor\":\"white\",\"linecolor\":\"white\",\"ticks\":\"\",\"title\":{\"standoff\":15},\"zerolinecolor\":\"white\",\"automargin\":true,\"zerolinewidth\":2},\"scene\":{\"xaxis\":{\"backgroundcolor\":\"#E5ECF6\",\"gridcolor\":\"white\",\"linecolor\":\"white\",\"showbackground\":true,\"ticks\":\"\",\"zerolinecolor\":\"white\",\"gridwidth\":2},\"yaxis\":{\"backgroundcolor\":\"#E5ECF6\",\"gridcolor\":\"white\",\"linecolor\":\"white\",\"showbackground\":true,\"ticks\":\"\",\"zerolinecolor\":\"white\",\"gridwidth\":2},\"zaxis\":{\"backgroundcolor\":\"#E5ECF6\",\"gridcolor\":\"white\",\"linecolor\":\"white\",\"showbackground\":true,\"ticks\":\"\",\"zerolinecolor\":\"white\",\"gridwidth\":2}},\"shapedefaults\":{\"line\":{\"color\":\"#2a3f5f\"}},\"annotationdefaults\":{\"arrowcolor\":\"#2a3f5f\",\"arrowhead\":0,\"arrowwidth\":1},\"geo\":{\"bgcolor\":\"white\",\"landcolor\":\"#E5ECF6\",\"subunitcolor\":\"white\",\"showland\":true,\"showlakes\":true,\"lakecolor\":\"white\"},\"title\":{\"x\":0.05},\"mapbox\":{\"style\":\"light\"}}},\"xaxis\":{\"tickfont\":{\"size\":12},\"title\":{\"text\":\"Year\"},\"tickmode\":\"linear\",\"tickangle\":90},\"title\":{\"text\":\"China Population Growth Rate (1960-2023)\"},\"yaxis\":{\"title\":{\"text\":\"Growth Rate (%)\"}},\"showlegend\":true},                        {\"responsive\": true}                    ).then(function(){\n",
       "                            \n",
       "var gd = document.getElementById('d2d1f17c-9801-4787-a2ec-536e4d4e8879');\n",
       "var x = new MutationObserver(function (mutations, observer) {{\n",
       "        var display = window.getComputedStyle(gd).display;\n",
       "        if (!display || display === 'none') {{\n",
       "            console.log([gd, 'removed!']);\n",
       "            Plotly.purge(gd);\n",
       "            observer.disconnect();\n",
       "        }}\n",
       "}});\n",
       "\n",
       "// Listen for the removal of the full notebook cells\n",
       "var notebookContainer = gd.closest('#notebook-container');\n",
       "if (notebookContainer) {{\n",
       "    x.observe(notebookContainer, {childList: true});\n",
       "}}\n",
       "\n",
       "// Listen for the clearing of the current output cell\n",
       "var outputEl = gd.closest('.output');\n",
       "if (outputEl) {{\n",
       "    x.observe(outputEl, {childList: true});\n",
       "}}\n",
       "\n",
       "                        })                };            </script>        </div>"
      ]
     },
     "metadata": {},
     "output_type": "display_data"
    }
   ],
   "source": [
    "#China Population Growth Rate (1960 -2023)\n",
    "population_growth_indicator = {'SP.POP.GROW': 'Population Growth Rate'}\n",
    "\n",
    "country = 'CHN'  \n",
    "start_year = 1960\n",
    "end_year = 2023\n",
    "\n",
    "population_growth_data = wbdata.get_dataframe(population_growth_indicator, country = country)\n",
    "population_growth_data.reset_index(inplace = True)\n",
    "population_growth_data['date'] = population_growth_data['date'].astype(int)\n",
    "\n",
    "fig = go.Figure()\n",
    "fig.add_trace(go.Scatter(x = population_growth_data['date'], y = population_growth_data['Population Growth Rate'], mode = 'lines+markers', name = 'Population Growth Rate'))\n",
    "fig.update_layout(\n",
    "    title = 'China Population Growth Rate (1960-2023)',\n",
    "    xaxis_title = 'Year',\n",
    "    yaxis_title = 'Growth Rate (%)',\n",
    "    showlegend = True,\n",
    "    xaxis = dict(tickmode='linear', tickangle = 90, tickfont = dict(size = 12))\n",
    ")\n",
    "\n",
    "fig.show()"
   ]
  },
  {
   "cell_type": "code",
   "execution_count": null,
   "id": "28d95ca2-9fd8-4dbf-92ba-52fcb5ab3234",
   "metadata": {},
   "outputs": [],
   "source": []
  }
 ],
 "metadata": {
  "kernelspec": {
   "display_name": "Python 3 (ipykernel)",
   "language": "python",
   "name": "python3"
  },
  "language_info": {
   "codemirror_mode": {
    "name": "ipython",
    "version": 3
   },
   "file_extension": ".py",
   "mimetype": "text/x-python",
   "name": "python",
   "nbconvert_exporter": "python",
   "pygments_lexer": "ipython3",
   "version": "3.11.11"
  }
 },
 "nbformat": 4,
 "nbformat_minor": 5
}
