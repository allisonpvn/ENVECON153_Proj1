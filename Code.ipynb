{
 "cells": [
  {
   "cell_type": "code",
   "execution_count": 1,
   "id": "63f07c69-fd12-4eff-8100-d493ef7a99c1",
   "metadata": {},
   "outputs": [],
   "source": [
    "#Title "
   ]
  },
  {
   "cell_type": "code",
   "execution_count": 2,
   "id": "9eda4dff-7978-40b0-99c2-e6eb24742094",
   "metadata": {},
   "outputs": [],
   "source": [
    "#Deliverable 1 Population Statistics"
   ]
  },
  {
   "cell_type": "code",
   "execution_count": 2,
   "id": "fc3d273e-0795-40c8-89a4-75c71e803cfc",
   "metadata": {
    "scrolled": true
   },
   "outputs": [
    {
     "name": "stdout",
     "output_type": "stream",
     "text": [
      "Collecting wbdata\n",
      "  Using cached wbdata-1.0.0-py3-none-any.whl.metadata (2.6 kB)\n",
      "Collecting appdirs<2.0,>=1.4 (from wbdata)\n",
      "  Using cached appdirs-1.4.4-py2.py3-none-any.whl.metadata (9.0 kB)\n",
      "Collecting backoff<3.0.0,>=2.2.1 (from wbdata)\n",
      "  Using cached backoff-2.2.1-py3-none-any.whl.metadata (14 kB)\n",
      "Requirement already satisfied: cachetools<6.0.0,>=5.3.2 in /srv/conda/lib/python3.11/site-packages (from wbdata) (5.5.1)\n",
      "Collecting dateparser<2.0.0,>=1.2.0 (from wbdata)\n",
      "  Using cached dateparser-1.2.1-py3-none-any.whl.metadata (29 kB)\n",
      "Requirement already satisfied: decorator<6.0.0,>=5.1.1 in /srv/conda/lib/python3.11/site-packages (from wbdata) (5.1.1)\n",
      "Requirement already satisfied: requests<3.0,>=2.0 in /srv/conda/lib/python3.11/site-packages (from wbdata) (2.32.3)\n",
      "Collecting shelved-cache<0.4.0,>=0.3.1 (from wbdata)\n",
      "  Using cached shelved_cache-0.3.1-py3-none-any.whl.metadata (4.7 kB)\n",
      "Collecting tabulate<0.9.0,>=0.8.5 (from wbdata)\n",
      "  Using cached tabulate-0.8.10-py3-none-any.whl.metadata (25 kB)\n",
      "Requirement already satisfied: python-dateutil>=2.7.0 in /srv/conda/lib/python3.11/site-packages (from dateparser<2.0.0,>=1.2.0->wbdata) (2.9.0.post0)\n",
      "Collecting pytz>=2024.2 (from dateparser<2.0.0,>=1.2.0->wbdata)\n",
      "  Using cached pytz-2025.1-py2.py3-none-any.whl.metadata (22 kB)\n",
      "Requirement already satisfied: regex!=2019.02.19,!=2021.8.27,>=2015.06.24 in /srv/conda/lib/python3.11/site-packages (from dateparser<2.0.0,>=1.2.0->wbdata) (2024.11.6)\n",
      "Collecting tzlocal>=0.2 (from dateparser<2.0.0,>=1.2.0->wbdata)\n",
      "  Using cached tzlocal-5.3-py3-none-any.whl.metadata (7.6 kB)\n",
      "Requirement already satisfied: charset_normalizer<4,>=2 in /srv/conda/lib/python3.11/site-packages (from requests<3.0,>=2.0->wbdata) (3.4.0)\n",
      "Requirement already satisfied: idna<4,>=2.5 in /srv/conda/lib/python3.11/site-packages (from requests<3.0,>=2.0->wbdata) (3.10)\n",
      "Requirement already satisfied: urllib3<3,>=1.21.1 in /srv/conda/lib/python3.11/site-packages (from requests<3.0,>=2.0->wbdata) (2.3.0)\n",
      "Requirement already satisfied: certifi>=2017.4.17 in /srv/conda/lib/python3.11/site-packages (from requests<3.0,>=2.0->wbdata) (2024.12.14)\n",
      "Requirement already satisfied: six>=1.5 in /srv/conda/lib/python3.11/site-packages (from python-dateutil>=2.7.0->dateparser<2.0.0,>=1.2.0->wbdata) (1.17.0)\n",
      "Using cached wbdata-1.0.0-py3-none-any.whl (18 kB)\n",
      "Using cached appdirs-1.4.4-py2.py3-none-any.whl (9.6 kB)\n",
      "Using cached backoff-2.2.1-py3-none-any.whl (15 kB)\n",
      "Using cached dateparser-1.2.1-py3-none-any.whl (295 kB)\n",
      "Using cached shelved_cache-0.3.1-py3-none-any.whl (7.8 kB)\n",
      "Using cached tabulate-0.8.10-py3-none-any.whl (29 kB)\n",
      "Using cached pytz-2025.1-py2.py3-none-any.whl (507 kB)\n",
      "Using cached tzlocal-5.3-py3-none-any.whl (17 kB)\n",
      "Installing collected packages: pytz, appdirs, tzlocal, tabulate, shelved-cache, backoff, dateparser, wbdata\n",
      "  Attempting uninstall: pytz\n",
      "    Found existing installation: pytz 2024.1\n",
      "    Uninstalling pytz-2024.1:\n",
      "      Successfully uninstalled pytz-2024.1\n",
      "\u001b[31mERROR: pip's dependency resolver does not currently take into account all the packages that are installed. This behaviour is the source of the following dependency conflicts.\n",
      "linearmodels 0.0.0 requires Cython>=3.0.10, which is not installed.\n",
      "linearmodels 0.0.0 requires setuptools-scm[toml]<9.0.0,>=8.0.0, which is not installed.\u001b[0m\u001b[31m\n",
      "\u001b[0mSuccessfully installed appdirs-1.4.4 backoff-2.2.1 dateparser-1.2.1 pytz-2025.1 shelved-cache-0.3.1 tabulate-0.8.10 tzlocal-5.3 wbdata-1.0.0\n"
     ]
    }
   ],
   "source": [
    "!pip install wbdata"
   ]
  },
  {
   "cell_type": "code",
   "execution_count": 3,
   "id": "35d49b82-a442-47ee-9b8d-0b049691e037",
   "metadata": {
    "scrolled": true
   },
   "outputs": [
    {
     "name": "stderr",
     "output_type": "stream",
     "text": [
      "Key '4680761537058067707' not in persistent cache.\n",
      "Key '-6556621766149829814' not in persistent cache.\n",
      "Key '1796291256731634009' not in persistent cache.\n",
      "Key '-2347828713703408156' not in persistent cache.\n",
      "Key '7247804645467710899' not in persistent cache.\n",
      "Key '6283088729352311478' not in persistent cache.\n",
      "Key '-4500465859374313704' not in persistent cache.\n",
      "Key '-2463677044534739414' not in persistent cache.\n",
      "Key '5435407263865452070' not in persistent cache.\n",
      "Key '-5348147324861173112' not in persistent cache.\n",
      "Key '322383150133450411' not in persistent cache.\n",
      "Key '7720052053025674735' not in persistent cache.\n",
      "Key '3938854866389376216' not in persistent cache.\n",
      "Key '248563610435606390' not in persistent cache.\n",
      "Key '7457924380937260485' not in persistent cache.\n",
      "Key '8879481053491326024' not in persistent cache.\n",
      "Key '2730178671166334020' not in persistent cache.\n",
      "Key '-6048193505670341323' not in persistent cache.\n",
      "Key '8031799588004466616' not in persistent cache.\n",
      "Key '-3205583715203430905' not in persistent cache.\n",
      "Key '5147329307678032918' not in persistent cache.\n",
      "Key '5401566720227358881' not in persistent cache.\n",
      "Key '-7847901377295441808' not in persistent cache.\n",
      "Key '-4414259910426473101' not in persistent cache.\n",
      "Key '-1149427808427914795' not in persistent cache.\n",
      "Key '887361006411659495' not in persistent cache.\n",
      "Key '-5261941375913332509' not in persistent cache.\n",
      "Key '-1997109273914774203' not in persistent cache.\n",
      "Key '1790834355598485175' not in persistent cache.\n",
      "Key '-2255883413128515454' not in persistent cache.\n",
      "Key '5407306071854410980' not in persistent cache.\n",
      "Key '1717014815900641154' not in persistent cache.\n",
      "Key '8926375586402295249' not in persistent cache.\n",
      "Key '-8098811814753190828' not in persistent cache.\n",
      "Key '-199727506352999344' not in persistent cache.\n",
      "Key '6820972484869388232' not in persistent cache.\n",
      "Key '-8946493280240050236' not in persistent cache.\n",
      "Key '-1737132509738396141' not in persistent cache.\n",
      "Key '6615780513143067682' not in persistent cache.\n",
      "Key '2471660542708025517' not in persistent cache.\n",
      "Key '5021264613244287747' not in persistent cache.\n",
      "Key '-7344166087945806465' not in persistent cache.\n",
      "Key '319023397037119969' not in persistent cache.\n",
      "Key '2355812211876694259' not in persistent cache.\n",
      "Key '-8191847553432665873' not in persistent cache.\n",
      "Key '-528658068449739439' not in persistent cache.\n",
      "Key '7835305108196988796' not in persistent cache.\n",
      "Key '-7612127445604706624' not in persistent cache.\n",
      "Key '-6994967249256637015' not in persistent cache.\n",
      "Key '7761485568499144775' not in persistent cache.\n",
      "Key '-3475897734708752746' not in persistent cache.\n",
      "Key '-2054341062154687207' not in persistent cache.\n",
      "Key '-5555971538829190514' not in persistent cache.\n",
      "Key '1464728452393197062' not in persistent cache.\n",
      "Key '-2902022527641546615' not in persistent cache.\n",
      "Key '4307338242860107480' not in persistent cache.\n",
      "Key '-5786492807967980313' not in persistent cache.\n",
      "Key '8516131295306529138' not in persistent cache.\n",
      "Key '-334979419231903423' not in persistent cache.\n",
      "Key '-1299695335347302844' not in persistent cache.\n",
      "Key '6363494149635623590' not in persistent cache.\n",
      "Key '8400282964475197880' not in persistent cache.\n",
      "Key '-2147376800834162252' not in persistent cache.\n",
      "Key '5515812684148764182' not in persistent cache.\n",
      "Key '5200321560392512130' not in persistent cache.\n",
      "Key '5551961174649879629' not in persistent cache.\n",
      "Key '8816793276648437935' not in persistent cache.\n",
      "Key '5126502020694668109' not in persistent cache.\n",
      "Key '-6110881282513229412' not in persistent cache.\n",
      "Key '-4689324609959163873' not in persistent cache.\n",
      "Key '7608117081425395739' not in persistent cache.\n",
      "Key '-8216284384046136429' not in persistent cache.\n",
      "Key '-5537006075446023281' not in persistent cache.\n",
      "Key '1672354695055630814' not in persistent cache.\n",
      "Key '-8421476355772456979' not in persistent cache.\n",
      "Key '-8167238943223131016' not in persistent cache.\n",
      "Key '8430751818038314702' not in persistent cache.\n",
      "Key '463678499832588618' not in persistent cache.\n",
      "Key '3728510601831146924' not in persistent cache.\n",
      "Key '5765299416670721214' not in persistent cache.\n",
      "Key '-384002965654270790' not in persistent cache.\n",
      "Key '2880829136344287516' not in persistent cache.\n",
      "Key '2421436892900544030' not in persistent cache.\n",
      "Key '-1625280875826456599' not in persistent cache.\n",
      "Key '6037908609156469835' not in persistent cache.\n",
      "Key '2347617353202700009' not in persistent cache.\n",
      "Key '-8889765950005197512' not in persistent cache.\n",
      "Key '-7468209277451131973' not in persistent cache.\n",
      "Key '430875030949059511' not in persistent cache.\n",
      "Key '7451575022171447087' not in persistent cache.\n",
      "Key '-8315890742937991381' not in persistent cache.\n",
      "Key '-1106529972436337286' not in persistent cache.\n",
      "Key '7246383050445126537' not in persistent cache.\n",
      "Key '3102263080010084372' not in persistent cache.\n",
      "Key '-5748847634528348189' not in persistent cache.\n",
      "Key '-6713563550643747610' not in persistent cache.\n",
      "Key '949625934339178824' not in persistent cache.\n",
      "Key '2986414749178753114' not in persistent cache.\n",
      "Key '-7561245016130607018' not in persistent cache.\n",
      "Key '101944468852319416' not in persistent cache.\n",
      "Key '7671746317315466157' not in persistent cache.\n",
      "Key '-7197821676741169458' not in persistent cache.\n",
      "Key '-4198510156833313262' not in persistent cache.\n",
      "Key '3464679328149613172' not in persistent cache.\n",
      "Key '-7271641216439013479' not in persistent cache.\n",
      "Key '-62280445937359384' not in persistent cache.\n",
      "Key '1359276226616706155' not in persistent cache.\n",
      "Key '-2142354250057797152' not in persistent cache.\n",
      "Key '4878345741164590424' not in persistent cache.\n",
      "Key '7557624049764703572' not in persistent cache.\n",
      "Key '7720955531631500842' not in persistent cache.\n",
      "Key '4673153769438269874' not in persistent cache.\n",
      "Key '-6516995489631629116' not in persistent cache.\n",
      "Key '3078637869539489939' not in persistent cache.\n",
      "Key '2113921953424090518' not in persistent cache.\n",
      "Key '-8669632635302534664' not in persistent cache.\n",
      "Key '-6632843820462960374' not in persistent cache.\n",
      "Key '8312269776572087935' not in persistent cache.\n",
      "Key '8929429972920157544' not in persistent cache.\n",
      "Key '7623576906164891975' not in persistent cache.\n",
      "Key '-7823855647636803445' not in persistent cache.\n",
      "Key '-7206695451288733836' not in persistent cache.\n",
      "Key '7549757366467047954' not in persistent cache.\n",
      "Key '-3687625936740849567' not in persistent cache.\n",
      "Key '-2266069264186784028' not in persistent cache.\n",
      "Key '5633015044213407456' not in persistent cache.\n",
      "Key '1253000250361100241' not in persistent cache.\n",
      "Key '-3113750729673643436' not in persistent cache.\n",
      "Key '4095610040828010659' not in persistent cache.\n",
      "Key '-5998221010000077134' not in persistent cache.\n",
      "Key '8304403093274432317' not in persistent cache.\n",
      "Key '-546707621264000244' not in persistent cache.\n",
      "Key '-1511423537379399665' not in persistent cache.\n",
      "Key '6151765947603526769' not in persistent cache.\n",
      "Key '8188554762443101059' not in persistent cache.\n",
      "Key '-2359105002866259073' not in persistent cache.\n",
      "Key '5304084482116667361' not in persistent cache.\n",
      "Key '-3835071656571054338' not in persistent cache.\n",
      "Key '-835760136663198142' not in persistent cache.\n",
      "Key '-218599940315128533' not in persistent cache.\n",
      "Key '-3908891196268898359' not in persistent cache.\n",
      "Key '3300469574232755736' not in persistent cache.\n",
      "Key '4722026246786821275' not in persistent cache.\n",
      "Key '1220395770112317968' not in persistent cache.\n",
      "Key '8241095761334705544' not in persistent cache.\n",
      "Key '3874344781299961867' not in persistent cache.\n",
      "Key '-7363038521907935654' not in persistent cache.\n",
      "Key '8035903789608384994' not in persistent cache.\n",
      "Key '-3154245469461513996' not in persistent cache.\n",
      "Key '6441387889709605059' not in persistent cache.\n",
      "Key '5476671973594205638' not in persistent cache.\n",
      "Key '-5306882615132419544' not in persistent cache.\n",
      "Key '-3270093800292845254' not in persistent cache.\n",
      "Key '4628990508107346230' not in persistent cache.\n",
      "Key '-6154564080619278952' not in persistent cache.\n",
      "Key '5886939697215975597' not in persistent cache.\n",
      "Key '8886251217123831793' not in persistent cache.\n",
      "Key '-1897303371602793389' not in persistent cache.\n",
      "Key '-5587594627556563215' not in persistent cache.\n",
      "Key '-5424263145689765945' not in persistent cache.\n",
      "Key '-4002706473135700406' not in persistent cache.\n",
      "Key '-7504336949810203713' not in persistent cache.\n",
      "Key '-483636958587816137' not in persistent cache.\n",
      "Key '2195641350012297011' not in persistent cache.\n",
      "Key '2358972831879094281' not in persistent cache.\n",
      "Key '-688828930314136687' not in persistent cache.\n",
      "Key '-4832948900749178852' not in persistent cache.\n",
      "Key '-2283344830212916622' not in persistent cache.\n",
      "Key '-3248060746328316043' not in persistent cache.\n",
      "Key '4415128738654610391' not in persistent cache.\n",
      "Key '6451917553494184681' not in persistent cache.\n",
      "Key '2950287076819681374' not in persistent cache.\n",
      "Key '3567447273167750983' not in persistent cache.\n",
      "Key '6988579584619832432' not in persistent cache.\n",
      "Key '-187691977330183637' not in persistent cache.\n",
      "Key '-2533472575112830745' not in persistent cache.\n",
      "Key '-2818764902426834706' not in persistent cache.\n",
      "Key '-7177260291833263006' not in persistent cache.\n",
      "Key '-7875088315144126982' not in persistent cache.\n",
      "Key '2763484635703750384' not in persistent cache.\n",
      "Key '826612344315660800' not in persistent cache.\n",
      "Key '-6481066132452407981' not in persistent cache.\n",
      "Key '4133044534563632875' not in persistent cache.\n",
      "Key '-5331649415729948983' not in persistent cache.\n",
      "Key '-2367351021109505465' not in persistent cache.\n",
      "Key '-5408050911261942555' not in persistent cache.\n",
      "Key '-2934359787658568422' not in persistent cache.\n",
      "Key '-143324963776305936' not in persistent cache.\n",
      "Key '8393354446662579422' not in persistent cache.\n",
      "Key '-8583029186712544998' not in persistent cache.\n",
      "Key '-7148276515060249729' not in persistent cache.\n",
      "Key '4457213648690777180' not in persistent cache.\n",
      "Key '259248608833398777' not in persistent cache.\n",
      "Key '450462151554567241' not in persistent cache.\n",
      "Key '3194132632506885395' not in persistent cache.\n",
      "Key '6458403201247915022' not in persistent cache.\n",
      "Key '288335410786210076' not in persistent cache.\n",
      "Key '6568724519417924104' not in persistent cache.\n",
      "Key '1705944255800282200' not in persistent cache.\n",
      "Key '-9096701994568463455' not in persistent cache.\n",
      "Key '4031365616981756488' not in persistent cache.\n",
      "Key '-3130453733639507192' not in persistent cache.\n",
      "Key '936621688884344150' not in persistent cache.\n",
      "Key '1470846796001075328' not in persistent cache.\n",
      "Key '-9216040486001012205' not in persistent cache.\n",
      "Key '2433569272870200337' not in persistent cache.\n",
      "Key '7713124040138452450' not in persistent cache.\n",
      "Key '-2841825079856702086' not in persistent cache.\n",
      "Key '-2790745663161059719' not in persistent cache.\n",
      "Key '-3243893619175264571' not in persistent cache.\n",
      "Key '-6926049759651443407' not in persistent cache.\n",
      "Key '-5486659512930570577' not in persistent cache.\n",
      "Key '-1071340491740102682' not in persistent cache.\n",
      "Key '1397238335579832939' not in persistent cache.\n",
      "Key '-8001254246804050677' not in persistent cache.\n",
      "Key '-2845241408736308450' not in persistent cache.\n",
      "Key '2184811818010562430' not in persistent cache.\n",
      "Key '2050141213770819553' not in persistent cache.\n",
      "Key '-7121437238205054596' not in persistent cache.\n",
      "Key '3760897591844285229' not in persistent cache.\n",
      "Key '-7078770626619547839' not in persistent cache.\n",
      "Key '-721520460567364394' not in persistent cache.\n",
      "Key '-7607975284244690415' not in persistent cache.\n",
      "Key '-4760765787314120760' not in persistent cache.\n",
      "Key '124811723204049740' not in persistent cache.\n",
      "Key '4376990059905683322' not in persistent cache.\n",
      "Key '2016059611567830372' not in persistent cache.\n",
      "Key '5348550509938943273' not in persistent cache.\n",
      "Key '1288736974429486271' not in persistent cache.\n",
      "Key '2621769213523293918' not in persistent cache.\n",
      "Key '-7809605831269024658' not in persistent cache.\n",
      "Key '-1159920659014015037' not in persistent cache.\n",
      "Key '-2389893992712630596' not in persistent cache.\n",
      "Key '-7861870051255406005' not in persistent cache.\n",
      "Key '7193979347256908170' not in persistent cache.\n",
      "Key '3999908690191369537' not in persistent cache.\n",
      "Key '-8312405636035238439' not in persistent cache.\n",
      "Key '-6735172979804760681' not in persistent cache.\n",
      "Key '4680761537058067707' not in persistent cache.\n",
      "Key '-6556621766149829814' not in persistent cache.\n",
      "Key '1796291256731634009' not in persistent cache.\n",
      "Key '-2347828713703408156' not in persistent cache.\n",
      "Key '7247804645467710899' not in persistent cache.\n",
      "Key '6283088729352311478' not in persistent cache.\n",
      "Key '-4500465859374313704' not in persistent cache.\n",
      "Key '-2463677044534739414' not in persistent cache.\n",
      "Key '5435407263865452070' not in persistent cache.\n",
      "Key '-5348147324861173112' not in persistent cache.\n",
      "Key '322383150133450411' not in persistent cache.\n",
      "Key '7720052053025674735' not in persistent cache.\n",
      "Key '3938854866389376216' not in persistent cache.\n",
      "Key '248563610435606390' not in persistent cache.\n",
      "Key '7457924380937260485' not in persistent cache.\n",
      "Key '8879481053491326024' not in persistent cache.\n",
      "Key '2730178671166334020' not in persistent cache.\n",
      "Key '-6048193505670341323' not in persistent cache.\n",
      "Key '8031799588004466616' not in persistent cache.\n",
      "Key '-3205583715203430905' not in persistent cache.\n",
      "Key '5147329307678032918' not in persistent cache.\n",
      "Key '5401566720227358881' not in persistent cache.\n",
      "Key '-7847901377295441808' not in persistent cache.\n",
      "Key '-4414259910426473101' not in persistent cache.\n",
      "Key '-1149427808427914795' not in persistent cache.\n",
      "Key '887361006411659495' not in persistent cache.\n",
      "Key '-5261941375913332509' not in persistent cache.\n",
      "Key '-1997109273914774203' not in persistent cache.\n",
      "Key '1790834355598485175' not in persistent cache.\n",
      "Key '-2255883413128515454' not in persistent cache.\n",
      "Key '5407306071854410980' not in persistent cache.\n",
      "Key '1717014815900641154' not in persistent cache.\n",
      "Key '8926375586402295249' not in persistent cache.\n",
      "Key '-8098811814753190828' not in persistent cache.\n",
      "Key '-199727506352999344' not in persistent cache.\n",
      "Key '6820972484869388232' not in persistent cache.\n",
      "Key '-8946493280240050236' not in persistent cache.\n",
      "Key '-1737132509738396141' not in persistent cache.\n",
      "Key '6615780513143067682' not in persistent cache.\n",
      "Key '2471660542708025517' not in persistent cache.\n",
      "Key '5021264613244287747' not in persistent cache.\n",
      "Key '-7344166087945806465' not in persistent cache.\n",
      "Key '319023397037119969' not in persistent cache.\n",
      "Key '2355812211876694259' not in persistent cache.\n",
      "Key '-8191847553432665873' not in persistent cache.\n",
      "Key '-528658068449739439' not in persistent cache.\n",
      "Key '7835305108196988796' not in persistent cache.\n",
      "Key '-7612127445604706624' not in persistent cache.\n",
      "Key '-6994967249256637015' not in persistent cache.\n",
      "Key '7761485568499144775' not in persistent cache.\n",
      "Key '-3475897734708752746' not in persistent cache.\n",
      "Key '-2054341062154687207' not in persistent cache.\n",
      "Key '-5555971538829190514' not in persistent cache.\n",
      "Key '1464728452393197062' not in persistent cache.\n",
      "Key '-2902022527641546615' not in persistent cache.\n",
      "Key '4307338242860107480' not in persistent cache.\n",
      "Key '-5786492807967980313' not in persistent cache.\n",
      "Key '8516131295306529138' not in persistent cache.\n",
      "Key '-334979419231903423' not in persistent cache.\n",
      "Key '-1299695335347302844' not in persistent cache.\n",
      "Key '6363494149635623590' not in persistent cache.\n",
      "Key '8400282964475197880' not in persistent cache.\n",
      "Key '-2147376800834162252' not in persistent cache.\n",
      "Key '5515812684148764182' not in persistent cache.\n",
      "Key '5200321560392512130' not in persistent cache.\n",
      "Key '5551961174649879629' not in persistent cache.\n",
      "Key '8816793276648437935' not in persistent cache.\n",
      "Key '5126502020694668109' not in persistent cache.\n",
      "Key '-6110881282513229412' not in persistent cache.\n",
      "Key '-4689324609959163873' not in persistent cache.\n",
      "Key '7608117081425395739' not in persistent cache.\n",
      "Key '-8216284384046136429' not in persistent cache.\n",
      "Key '-5537006075446023281' not in persistent cache.\n",
      "Key '1672354695055630814' not in persistent cache.\n",
      "Key '-8421476355772456979' not in persistent cache.\n",
      "Key '-8167238943223131016' not in persistent cache.\n",
      "Key '8430751818038314702' not in persistent cache.\n",
      "Key '463678499832588618' not in persistent cache.\n",
      "Key '3728510601831146924' not in persistent cache.\n",
      "Key '5765299416670721214' not in persistent cache.\n",
      "Key '-384002965654270790' not in persistent cache.\n",
      "Key '2880829136344287516' not in persistent cache.\n",
      "Key '2421436892900544030' not in persistent cache.\n",
      "Key '-1625280875826456599' not in persistent cache.\n",
      "Key '6037908609156469835' not in persistent cache.\n",
      "Key '2347617353202700009' not in persistent cache.\n",
      "Key '-8889765950005197512' not in persistent cache.\n",
      "Key '-7468209277451131973' not in persistent cache.\n",
      "Key '430875030949059511' not in persistent cache.\n",
      "Key '7451575022171447087' not in persistent cache.\n",
      "Key '-8315890742937991381' not in persistent cache.\n",
      "Key '-1106529972436337286' not in persistent cache.\n",
      "Key '7246383050445126537' not in persistent cache.\n",
      "Key '3102263080010084372' not in persistent cache.\n",
      "Key '-5748847634528348189' not in persistent cache.\n",
      "Key '-6713563550643747610' not in persistent cache.\n",
      "Key '949625934339178824' not in persistent cache.\n",
      "Key '2986414749178753114' not in persistent cache.\n",
      "Key '-7561245016130607018' not in persistent cache.\n",
      "Key '101944468852319416' not in persistent cache.\n",
      "Key '7671746317315466157' not in persistent cache.\n",
      "Key '-7197821676741169458' not in persistent cache.\n",
      "Key '-4198510156833313262' not in persistent cache.\n",
      "Key '3464679328149613172' not in persistent cache.\n",
      "Key '-7271641216439013479' not in persistent cache.\n",
      "Key '-62280445937359384' not in persistent cache.\n",
      "Key '1359276226616706155' not in persistent cache.\n",
      "Key '-2142354250057797152' not in persistent cache.\n",
      "Key '4878345741164590424' not in persistent cache.\n",
      "Key '7557624049764703572' not in persistent cache.\n",
      "Key '7720955531631500842' not in persistent cache.\n",
      "Key '4673153769438269874' not in persistent cache.\n",
      "Key '-6516995489631629116' not in persistent cache.\n",
      "Key '3078637869539489939' not in persistent cache.\n",
      "Key '2113921953424090518' not in persistent cache.\n",
      "Key '-8669632635302534664' not in persistent cache.\n",
      "Key '-6632843820462960374' not in persistent cache.\n",
      "Key '8312269776572087935' not in persistent cache.\n",
      "Key '8929429972920157544' not in persistent cache.\n",
      "Key '7623576906164891975' not in persistent cache.\n",
      "Key '-7823855647636803445' not in persistent cache.\n",
      "Key '-7206695451288733836' not in persistent cache.\n",
      "Key '7549757366467047954' not in persistent cache.\n",
      "Key '-3687625936740849567' not in persistent cache.\n",
      "Key '-2266069264186784028' not in persistent cache.\n",
      "Key '5633015044213407456' not in persistent cache.\n",
      "Key '1253000250361100241' not in persistent cache.\n",
      "Key '-3113750729673643436' not in persistent cache.\n",
      "Key '4095610040828010659' not in persistent cache.\n",
      "Key '-5998221010000077134' not in persistent cache.\n",
      "Key '8304403093274432317' not in persistent cache.\n",
      "Key '-546707621264000244' not in persistent cache.\n",
      "Key '-1511423537379399665' not in persistent cache.\n",
      "Key '6151765947603526769' not in persistent cache.\n",
      "Key '8188554762443101059' not in persistent cache.\n",
      "Key '-2359105002866259073' not in persistent cache.\n",
      "Key '5304084482116667361' not in persistent cache.\n",
      "Key '-3835071656571054338' not in persistent cache.\n",
      "Key '-835760136663198142' not in persistent cache.\n",
      "Key '-218599940315128533' not in persistent cache.\n",
      "Key '-3908891196268898359' not in persistent cache.\n",
      "Key '3300469574232755736' not in persistent cache.\n",
      "Key '4722026246786821275' not in persistent cache.\n",
      "Key '1220395770112317968' not in persistent cache.\n",
      "Key '8241095761334705544' not in persistent cache.\n",
      "Key '3874344781299961867' not in persistent cache.\n",
      "Key '-7363038521907935654' not in persistent cache.\n",
      "Key '8035903789608384994' not in persistent cache.\n",
      "Key '-3154245469461513996' not in persistent cache.\n",
      "Key '6441387889709605059' not in persistent cache.\n",
      "Key '5476671973594205638' not in persistent cache.\n",
      "Key '-5306882615132419544' not in persistent cache.\n",
      "Key '-3270093800292845254' not in persistent cache.\n",
      "Key '4628990508107346230' not in persistent cache.\n",
      "Key '-6154564080619278952' not in persistent cache.\n",
      "Key '5886939697215975597' not in persistent cache.\n",
      "Key '8886251217123831793' not in persistent cache.\n",
      "Key '-1897303371602793389' not in persistent cache.\n",
      "Key '-5587594627556563215' not in persistent cache.\n",
      "Key '-5424263145689765945' not in persistent cache.\n",
      "Key '-4002706473135700406' not in persistent cache.\n",
      "Key '-7504336949810203713' not in persistent cache.\n",
      "Key '-483636958587816137' not in persistent cache.\n",
      "Key '2195641350012297011' not in persistent cache.\n",
      "Key '2358972831879094281' not in persistent cache.\n",
      "Key '-688828930314136687' not in persistent cache.\n",
      "Key '-4832948900749178852' not in persistent cache.\n",
      "Key '-2283344830212916622' not in persistent cache.\n",
      "Key '-3248060746328316043' not in persistent cache.\n",
      "Key '4415128738654610391' not in persistent cache.\n",
      "Key '6451917553494184681' not in persistent cache.\n",
      "Key '2950287076819681374' not in persistent cache.\n",
      "Key '3567447273167750983' not in persistent cache.\n",
      "Key '6988579584619832432' not in persistent cache.\n",
      "Key '-187691977330183637' not in persistent cache.\n",
      "Key '-2533472575112830745' not in persistent cache.\n",
      "Key '-2818764902426834706' not in persistent cache.\n",
      "Key '-7177260291833263006' not in persistent cache.\n",
      "Key '-7875088315144126982' not in persistent cache.\n",
      "Key '2763484635703750384' not in persistent cache.\n",
      "Key '826612344315660800' not in persistent cache.\n",
      "Key '-6481066132452407981' not in persistent cache.\n",
      "Key '4133044534563632875' not in persistent cache.\n",
      "Key '-5331649415729948983' not in persistent cache.\n",
      "Key '-2367351021109505465' not in persistent cache.\n",
      "Key '-5408050911261942555' not in persistent cache.\n",
      "Key '-2934359787658568422' not in persistent cache.\n",
      "Key '-143324963776305936' not in persistent cache.\n",
      "Key '8393354446662579422' not in persistent cache.\n",
      "Key '-8583029186712544998' not in persistent cache.\n",
      "Key '-7148276515060249729' not in persistent cache.\n",
      "Key '4457213648690777180' not in persistent cache.\n",
      "Key '259248608833398777' not in persistent cache.\n",
      "Key '450462151554567241' not in persistent cache.\n",
      "Key '3194132632506885395' not in persistent cache.\n",
      "Key '6458403201247915022' not in persistent cache.\n",
      "Key '288335410786210076' not in persistent cache.\n",
      "Key '6568724519417924104' not in persistent cache.\n",
      "Key '1705944255800282200' not in persistent cache.\n",
      "Key '-9096701994568463455' not in persistent cache.\n",
      "Key '4031365616981756488' not in persistent cache.\n",
      "Key '-3130453733639507192' not in persistent cache.\n",
      "Key '936621688884344150' not in persistent cache.\n",
      "Key '1470846796001075328' not in persistent cache.\n",
      "Key '-9216040486001012205' not in persistent cache.\n",
      "Key '2433569272870200337' not in persistent cache.\n",
      "Key '7713124040138452450' not in persistent cache.\n",
      "Key '-2841825079856702086' not in persistent cache.\n",
      "Key '-2790745663161059719' not in persistent cache.\n",
      "Key '-3243893619175264571' not in persistent cache.\n",
      "Key '-6926049759651443407' not in persistent cache.\n",
      "Key '-5486659512930570577' not in persistent cache.\n",
      "Key '-1071340491740102682' not in persistent cache.\n",
      "Key '1397238335579832939' not in persistent cache.\n",
      "Key '-8001254246804050677' not in persistent cache.\n",
      "Key '-2845241408736308450' not in persistent cache.\n",
      "Key '2184811818010562430' not in persistent cache.\n",
      "Key '2050141213770819553' not in persistent cache.\n",
      "Key '-7121437238205054596' not in persistent cache.\n",
      "Key '3760897591844285229' not in persistent cache.\n",
      "Key '-7078770626619547839' not in persistent cache.\n",
      "Key '-721520460567364394' not in persistent cache.\n",
      "Key '-7607975284244690415' not in persistent cache.\n",
      "Key '-4760765787314120760' not in persistent cache.\n",
      "Key '124811723204049740' not in persistent cache.\n",
      "Key '4376990059905683322' not in persistent cache.\n",
      "Key '2016059611567830372' not in persistent cache.\n",
      "Key '5348550509938943273' not in persistent cache.\n",
      "Key '1288736974429486271' not in persistent cache.\n",
      "Key '2621769213523293918' not in persistent cache.\n",
      "Key '-7809605831269024658' not in persistent cache.\n",
      "Key '-1159920659014015037' not in persistent cache.\n",
      "Key '-2389893992712630596' not in persistent cache.\n",
      "Key '-7861870051255406005' not in persistent cache.\n",
      "Key '7193979347256908170' not in persistent cache.\n",
      "Key '3999908690191369537' not in persistent cache.\n",
      "Key '-8312405636035238439' not in persistent cache.\n",
      "Key '-6735172979804760681' not in persistent cache.\n",
      "Key '4680761537058067707' not in persistent cache.\n",
      "Key '-6556621766149829814' not in persistent cache.\n",
      "Key '1796291256731634009' not in persistent cache.\n",
      "Key '-2347828713703408156' not in persistent cache.\n",
      "Key '7247804645467710899' not in persistent cache.\n",
      "Key '6283088729352311478' not in persistent cache.\n",
      "Key '-4500465859374313704' not in persistent cache.\n",
      "Key '-2463677044534739414' not in persistent cache.\n",
      "Key '5435407263865452070' not in persistent cache.\n",
      "Key '-5348147324861173112' not in persistent cache.\n",
      "Key '322383150133450411' not in persistent cache.\n",
      "Key '7720052053025674735' not in persistent cache.\n",
      "Key '3938854866389376216' not in persistent cache.\n",
      "Key '248563610435606390' not in persistent cache.\n",
      "Key '7457924380937260485' not in persistent cache.\n",
      "Key '8879481053491326024' not in persistent cache.\n",
      "Key '2730178671166334020' not in persistent cache.\n",
      "Key '-6048193505670341323' not in persistent cache.\n",
      "Key '8031799588004466616' not in persistent cache.\n",
      "Key '-3205583715203430905' not in persistent cache.\n",
      "Key '5147329307678032918' not in persistent cache.\n",
      "Key '5401566720227358881' not in persistent cache.\n",
      "Key '-7847901377295441808' not in persistent cache.\n",
      "Key '-4414259910426473101' not in persistent cache.\n",
      "Key '-1149427808427914795' not in persistent cache.\n",
      "Key '887361006411659495' not in persistent cache.\n",
      "Key '-5261941375913332509' not in persistent cache.\n",
      "Key '-1997109273914774203' not in persistent cache.\n",
      "Key '1790834355598485175' not in persistent cache.\n",
      "Key '-2255883413128515454' not in persistent cache.\n",
      "Key '5407306071854410980' not in persistent cache.\n",
      "Key '1717014815900641154' not in persistent cache.\n",
      "Key '8926375586402295249' not in persistent cache.\n",
      "Key '-8098811814753190828' not in persistent cache.\n",
      "Key '-199727506352999344' not in persistent cache.\n",
      "Key '6820972484869388232' not in persistent cache.\n",
      "Key '-8946493280240050236' not in persistent cache.\n",
      "Key '-1737132509738396141' not in persistent cache.\n",
      "Key '6615780513143067682' not in persistent cache.\n",
      "Key '2471660542708025517' not in persistent cache.\n",
      "Key '5021264613244287747' not in persistent cache.\n",
      "Key '-7344166087945806465' not in persistent cache.\n",
      "Key '319023397037119969' not in persistent cache.\n",
      "Key '2355812211876694259' not in persistent cache.\n",
      "Key '-8191847553432665873' not in persistent cache.\n",
      "Key '-528658068449739439' not in persistent cache.\n",
      "Key '7835305108196988796' not in persistent cache.\n",
      "Key '-7612127445604706624' not in persistent cache.\n",
      "Key '-6994967249256637015' not in persistent cache.\n",
      "Key '7761485568499144775' not in persistent cache.\n",
      "Key '-3475897734708752746' not in persistent cache.\n",
      "Key '-2054341062154687207' not in persistent cache.\n",
      "Key '-5555971538829190514' not in persistent cache.\n",
      "Key '1464728452393197062' not in persistent cache.\n",
      "Key '-2902022527641546615' not in persistent cache.\n",
      "Key '4307338242860107480' not in persistent cache.\n",
      "Key '-5786492807967980313' not in persistent cache.\n",
      "Key '8516131295306529138' not in persistent cache.\n",
      "Key '-334979419231903423' not in persistent cache.\n",
      "Key '-1299695335347302844' not in persistent cache.\n",
      "Key '6363494149635623590' not in persistent cache.\n",
      "Key '8400282964475197880' not in persistent cache.\n",
      "Key '-2147376800834162252' not in persistent cache.\n",
      "Key '5515812684148764182' not in persistent cache.\n",
      "Key '5200321560392512130' not in persistent cache.\n",
      "Key '5551961174649879629' not in persistent cache.\n",
      "Key '8816793276648437935' not in persistent cache.\n",
      "Key '5126502020694668109' not in persistent cache.\n",
      "Key '-6110881282513229412' not in persistent cache.\n",
      "Key '-4689324609959163873' not in persistent cache.\n",
      "Key '7608117081425395739' not in persistent cache.\n",
      "Key '-8216284384046136429' not in persistent cache.\n",
      "Key '-5537006075446023281' not in persistent cache.\n",
      "Key '1672354695055630814' not in persistent cache.\n",
      "Key '-8421476355772456979' not in persistent cache.\n",
      "Key '-8167238943223131016' not in persistent cache.\n",
      "Key '8430751818038314702' not in persistent cache.\n",
      "Key '463678499832588618' not in persistent cache.\n",
      "Key '3728510601831146924' not in persistent cache.\n",
      "Key '5765299416670721214' not in persistent cache.\n",
      "Key '-384002965654270790' not in persistent cache.\n",
      "Key '2880829136344287516' not in persistent cache.\n",
      "Key '2421436892900544030' not in persistent cache.\n",
      "Key '-1625280875826456599' not in persistent cache.\n",
      "Key '6037908609156469835' not in persistent cache.\n",
      "Key '2347617353202700009' not in persistent cache.\n",
      "Key '-8889765950005197512' not in persistent cache.\n",
      "Key '-7468209277451131973' not in persistent cache.\n",
      "Key '430875030949059511' not in persistent cache.\n",
      "Key '7451575022171447087' not in persistent cache.\n",
      "Key '-8315890742937991381' not in persistent cache.\n",
      "Key '-1106529972436337286' not in persistent cache.\n",
      "Key '7246383050445126537' not in persistent cache.\n",
      "Key '3102263080010084372' not in persistent cache.\n",
      "Key '-5748847634528348189' not in persistent cache.\n",
      "Key '-6713563550643747610' not in persistent cache.\n",
      "Key '949625934339178824' not in persistent cache.\n",
      "Key '2986414749178753114' not in persistent cache.\n",
      "Key '-7561245016130607018' not in persistent cache.\n",
      "Key '101944468852319416' not in persistent cache.\n",
      "Key '7671746317315466157' not in persistent cache.\n",
      "Key '-7197821676741169458' not in persistent cache.\n",
      "Key '-4198510156833313262' not in persistent cache.\n",
      "Key '3464679328149613172' not in persistent cache.\n",
      "Key '-7271641216439013479' not in persistent cache.\n",
      "Key '-62280445937359384' not in persistent cache.\n",
      "Key '1359276226616706155' not in persistent cache.\n",
      "Key '-2142354250057797152' not in persistent cache.\n",
      "Key '4878345741164590424' not in persistent cache.\n",
      "Key '7557624049764703572' not in persistent cache.\n",
      "Key '7720955531631500842' not in persistent cache.\n",
      "Key '4673153769438269874' not in persistent cache.\n",
      "Key '-6516995489631629116' not in persistent cache.\n",
      "Key '3078637869539489939' not in persistent cache.\n",
      "Key '2113921953424090518' not in persistent cache.\n",
      "Key '-8669632635302534664' not in persistent cache.\n",
      "Key '-6632843820462960374' not in persistent cache.\n",
      "Key '8312269776572087935' not in persistent cache.\n",
      "Key '8929429972920157544' not in persistent cache.\n",
      "Key '7623576906164891975' not in persistent cache.\n",
      "Key '-7823855647636803445' not in persistent cache.\n",
      "Key '-7206695451288733836' not in persistent cache.\n",
      "Key '7549757366467047954' not in persistent cache.\n",
      "Key '-3687625936740849567' not in persistent cache.\n",
      "Key '-2266069264186784028' not in persistent cache.\n",
      "Key '5633015044213407456' not in persistent cache.\n",
      "Key '1253000250361100241' not in persistent cache.\n",
      "Key '-3113750729673643436' not in persistent cache.\n",
      "Key '4095610040828010659' not in persistent cache.\n",
      "Key '-5998221010000077134' not in persistent cache.\n",
      "Key '8304403093274432317' not in persistent cache.\n",
      "Key '-546707621264000244' not in persistent cache.\n",
      "Key '-1511423537379399665' not in persistent cache.\n",
      "Key '6151765947603526769' not in persistent cache.\n",
      "Key '8188554762443101059' not in persistent cache.\n",
      "Key '-2359105002866259073' not in persistent cache.\n",
      "Key '5304084482116667361' not in persistent cache.\n",
      "Key '-3835071656571054338' not in persistent cache.\n",
      "Key '-835760136663198142' not in persistent cache.\n",
      "Key '-218599940315128533' not in persistent cache.\n",
      "Key '-3908891196268898359' not in persistent cache.\n",
      "Key '3300469574232755736' not in persistent cache.\n",
      "Key '4722026246786821275' not in persistent cache.\n",
      "Key '1220395770112317968' not in persistent cache.\n",
      "Key '8241095761334705544' not in persistent cache.\n",
      "Key '3874344781299961867' not in persistent cache.\n",
      "Key '-7363038521907935654' not in persistent cache.\n",
      "Key '8035903789608384994' not in persistent cache.\n",
      "Key '-3154245469461513996' not in persistent cache.\n",
      "Key '6441387889709605059' not in persistent cache.\n",
      "Key '5476671973594205638' not in persistent cache.\n",
      "Key '-5306882615132419544' not in persistent cache.\n",
      "Key '-3270093800292845254' not in persistent cache.\n",
      "Key '4628990508107346230' not in persistent cache.\n",
      "Key '-6154564080619278952' not in persistent cache.\n",
      "Key '5886939697215975597' not in persistent cache.\n",
      "Key '8886251217123831793' not in persistent cache.\n",
      "Key '-1897303371602793389' not in persistent cache.\n",
      "Key '-5587594627556563215' not in persistent cache.\n",
      "Key '-5424263145689765945' not in persistent cache.\n",
      "Key '-4002706473135700406' not in persistent cache.\n",
      "Key '-7504336949810203713' not in persistent cache.\n",
      "Key '-483636958587816137' not in persistent cache.\n",
      "Key '2195641350012297011' not in persistent cache.\n",
      "Key '2358972831879094281' not in persistent cache.\n",
      "Key '-688828930314136687' not in persistent cache.\n",
      "Key '-4832948900749178852' not in persistent cache.\n",
      "Key '-2283344830212916622' not in persistent cache.\n",
      "Key '-3248060746328316043' not in persistent cache.\n",
      "Key '4415128738654610391' not in persistent cache.\n",
      "Key '6451917553494184681' not in persistent cache.\n",
      "Key '2950287076819681374' not in persistent cache.\n",
      "Key '3567447273167750983' not in persistent cache.\n",
      "Key '6988579584619832432' not in persistent cache.\n",
      "Key '-187691977330183637' not in persistent cache.\n",
      "Key '-2533472575112830745' not in persistent cache.\n",
      "Key '-2818764902426834706' not in persistent cache.\n",
      "Key '-7177260291833263006' not in persistent cache.\n",
      "Key '-7875088315144126982' not in persistent cache.\n",
      "Key '2763484635703750384' not in persistent cache.\n",
      "Key '826612344315660800' not in persistent cache.\n",
      "Key '-6481066132452407981' not in persistent cache.\n",
      "Key '4133044534563632875' not in persistent cache.\n",
      "Key '-5331649415729948983' not in persistent cache.\n",
      "Key '-2367351021109505465' not in persistent cache.\n",
      "Key '-5408050911261942555' not in persistent cache.\n",
      "Key '-2934359787658568422' not in persistent cache.\n",
      "Key '-143324963776305936' not in persistent cache.\n",
      "Key '8393354446662579422' not in persistent cache.\n",
      "Key '-8583029186712544998' not in persistent cache.\n",
      "Key '-7148276515060249729' not in persistent cache.\n",
      "Key '4457213648690777180' not in persistent cache.\n",
      "Key '259248608833398777' not in persistent cache.\n",
      "Key '450462151554567241' not in persistent cache.\n",
      "Key '3194132632506885395' not in persistent cache.\n",
      "Key '6458403201247915022' not in persistent cache.\n",
      "Key '288335410786210076' not in persistent cache.\n",
      "Key '6568724519417924104' not in persistent cache.\n",
      "Key '1705944255800282200' not in persistent cache.\n",
      "Key '-9096701994568463455' not in persistent cache.\n",
      "Key '4031365616981756488' not in persistent cache.\n",
      "Key '-3130453733639507192' not in persistent cache.\n",
      "Key '936621688884344150' not in persistent cache.\n",
      "Key '1470846796001075328' not in persistent cache.\n",
      "Key '-9216040486001012205' not in persistent cache.\n",
      "Key '2433569272870200337' not in persistent cache.\n",
      "Key '7713124040138452450' not in persistent cache.\n",
      "Key '-2841825079856702086' not in persistent cache.\n",
      "Key '-2790745663161059719' not in persistent cache.\n",
      "Key '-3243893619175264571' not in persistent cache.\n",
      "Key '-6926049759651443407' not in persistent cache.\n",
      "Key '-5486659512930570577' not in persistent cache.\n",
      "Key '-1071340491740102682' not in persistent cache.\n",
      "Key '1397238335579832939' not in persistent cache.\n",
      "Key '-8001254246804050677' not in persistent cache.\n",
      "Key '-2845241408736308450' not in persistent cache.\n",
      "Key '2184811818010562430' not in persistent cache.\n",
      "Key '2050141213770819553' not in persistent cache.\n",
      "Key '-7121437238205054596' not in persistent cache.\n",
      "Key '3760897591844285229' not in persistent cache.\n",
      "Key '-7078770626619547839' not in persistent cache.\n",
      "Key '-721520460567364394' not in persistent cache.\n",
      "Key '-7607975284244690415' not in persistent cache.\n",
      "Key '-4760765787314120760' not in persistent cache.\n",
      "Key '124811723204049740' not in persistent cache.\n",
      "Key '4376990059905683322' not in persistent cache.\n",
      "Key '2016059611567830372' not in persistent cache.\n",
      "Key '5348550509938943273' not in persistent cache.\n",
      "Key '1288736974429486271' not in persistent cache.\n",
      "Key '2621769213523293918' not in persistent cache.\n",
      "Key '-7809605831269024658' not in persistent cache.\n",
      "Key '-1159920659014015037' not in persistent cache.\n",
      "Key '-2389893992712630596' not in persistent cache.\n",
      "Key '-7861870051255406005' not in persistent cache.\n",
      "Key '7193979347256908170' not in persistent cache.\n",
      "Key '3999908690191369537' not in persistent cache.\n",
      "Key '-8312405636035238439' not in persistent cache.\n",
      "Key '-6735172979804760681' not in persistent cache.\n",
      "Key '4680761537058067707' not in persistent cache.\n",
      "Key '-6556621766149829814' not in persistent cache.\n",
      "Key '1796291256731634009' not in persistent cache.\n",
      "Key '-2347828713703408156' not in persistent cache.\n",
      "Key '7247804645467710899' not in persistent cache.\n",
      "Key '6283088729352311478' not in persistent cache.\n",
      "Key '-4500465859374313704' not in persistent cache.\n",
      "Key '-2463677044534739414' not in persistent cache.\n",
      "Key '5435407263865452070' not in persistent cache.\n",
      "Key '-5348147324861173112' not in persistent cache.\n",
      "Key '322383150133450411' not in persistent cache.\n",
      "Key '7720052053025674735' not in persistent cache.\n",
      "Key '3938854866389376216' not in persistent cache.\n",
      "Key '248563610435606390' not in persistent cache.\n",
      "Key '7457924380937260485' not in persistent cache.\n",
      "Key '8879481053491326024' not in persistent cache.\n",
      "Key '2730178671166334020' not in persistent cache.\n",
      "Key '-6048193505670341323' not in persistent cache.\n",
      "Key '8031799588004466616' not in persistent cache.\n",
      "Key '-3205583715203430905' not in persistent cache.\n",
      "Key '5147329307678032918' not in persistent cache.\n",
      "Key '5401566720227358881' not in persistent cache.\n",
      "Key '-7847901377295441808' not in persistent cache.\n",
      "Key '-4414259910426473101' not in persistent cache.\n",
      "Key '-1149427808427914795' not in persistent cache.\n",
      "Key '887361006411659495' not in persistent cache.\n",
      "Key '-5261941375913332509' not in persistent cache.\n",
      "Key '-1997109273914774203' not in persistent cache.\n",
      "Key '1790834355598485175' not in persistent cache.\n",
      "Key '-2255883413128515454' not in persistent cache.\n",
      "Key '5407306071854410980' not in persistent cache.\n",
      "Key '1717014815900641154' not in persistent cache.\n",
      "Key '8926375586402295249' not in persistent cache.\n",
      "Key '-8098811814753190828' not in persistent cache.\n",
      "Key '-199727506352999344' not in persistent cache.\n",
      "Key '6820972484869388232' not in persistent cache.\n",
      "Key '-8946493280240050236' not in persistent cache.\n",
      "Key '-1737132509738396141' not in persistent cache.\n",
      "Key '6615780513143067682' not in persistent cache.\n",
      "Key '2471660542708025517' not in persistent cache.\n",
      "Key '5021264613244287747' not in persistent cache.\n",
      "Key '-7344166087945806465' not in persistent cache.\n",
      "Key '319023397037119969' not in persistent cache.\n",
      "Key '2355812211876694259' not in persistent cache.\n",
      "Key '-8191847553432665873' not in persistent cache.\n",
      "Key '-528658068449739439' not in persistent cache.\n",
      "Key '7835305108196988796' not in persistent cache.\n",
      "Key '-7612127445604706624' not in persistent cache.\n",
      "Key '-6994967249256637015' not in persistent cache.\n",
      "Key '7761485568499144775' not in persistent cache.\n",
      "Key '-3475897734708752746' not in persistent cache.\n",
      "Key '-2054341062154687207' not in persistent cache.\n",
      "Key '-5555971538829190514' not in persistent cache.\n",
      "Key '1464728452393197062' not in persistent cache.\n",
      "Key '-2902022527641546615' not in persistent cache.\n",
      "Key '4307338242860107480' not in persistent cache.\n",
      "Key '-5786492807967980313' not in persistent cache.\n",
      "Key '8516131295306529138' not in persistent cache.\n",
      "Key '-334979419231903423' not in persistent cache.\n",
      "Key '-1299695335347302844' not in persistent cache.\n",
      "Key '6363494149635623590' not in persistent cache.\n",
      "Key '8400282964475197880' not in persistent cache.\n",
      "Key '-2147376800834162252' not in persistent cache.\n",
      "Key '5515812684148764182' not in persistent cache.\n",
      "Key '5200321560392512130' not in persistent cache.\n",
      "Key '5551961174649879629' not in persistent cache.\n",
      "Key '8816793276648437935' not in persistent cache.\n",
      "Key '5126502020694668109' not in persistent cache.\n",
      "Key '-6110881282513229412' not in persistent cache.\n",
      "Key '-4689324609959163873' not in persistent cache.\n",
      "Key '7608117081425395739' not in persistent cache.\n",
      "Key '-8216284384046136429' not in persistent cache.\n",
      "Key '-5537006075446023281' not in persistent cache.\n",
      "Key '1672354695055630814' not in persistent cache.\n",
      "Key '-8421476355772456979' not in persistent cache.\n",
      "Key '-8167238943223131016' not in persistent cache.\n",
      "Key '8430751818038314702' not in persistent cache.\n",
      "Key '463678499832588618' not in persistent cache.\n",
      "Key '3728510601831146924' not in persistent cache.\n",
      "Key '5765299416670721214' not in persistent cache.\n",
      "Key '-384002965654270790' not in persistent cache.\n",
      "Key '2880829136344287516' not in persistent cache.\n",
      "Key '2421436892900544030' not in persistent cache.\n",
      "Key '-1625280875826456599' not in persistent cache.\n",
      "Key '6037908609156469835' not in persistent cache.\n",
      "Key '2347617353202700009' not in persistent cache.\n",
      "Key '-8889765950005197512' not in persistent cache.\n",
      "Key '-7468209277451131973' not in persistent cache.\n",
      "Key '430875030949059511' not in persistent cache.\n",
      "Key '7451575022171447087' not in persistent cache.\n",
      "Key '-8315890742937991381' not in persistent cache.\n",
      "Key '-1106529972436337286' not in persistent cache.\n",
      "Key '7246383050445126537' not in persistent cache.\n",
      "Key '3102263080010084372' not in persistent cache.\n",
      "Key '-5748847634528348189' not in persistent cache.\n",
      "Key '-6713563550643747610' not in persistent cache.\n",
      "Key '949625934339178824' not in persistent cache.\n",
      "Key '2986414749178753114' not in persistent cache.\n",
      "Key '-7561245016130607018' not in persistent cache.\n",
      "Key '101944468852319416' not in persistent cache.\n",
      "Key '7671746317315466157' not in persistent cache.\n",
      "Key '-7197821676741169458' not in persistent cache.\n",
      "Key '-4198510156833313262' not in persistent cache.\n",
      "Key '3464679328149613172' not in persistent cache.\n",
      "Key '-7271641216439013479' not in persistent cache.\n",
      "Key '-62280445937359384' not in persistent cache.\n",
      "Key '1359276226616706155' not in persistent cache.\n",
      "Key '-2142354250057797152' not in persistent cache.\n",
      "Key '4878345741164590424' not in persistent cache.\n",
      "Key '7557624049764703572' not in persistent cache.\n",
      "Key '7720955531631500842' not in persistent cache.\n",
      "Key '4673153769438269874' not in persistent cache.\n",
      "Key '-6516995489631629116' not in persistent cache.\n",
      "Key '3078637869539489939' not in persistent cache.\n",
      "Key '2113921953424090518' not in persistent cache.\n",
      "Key '-8669632635302534664' not in persistent cache.\n",
      "Key '-6632843820462960374' not in persistent cache.\n",
      "Key '8312269776572087935' not in persistent cache.\n",
      "Key '8929429972920157544' not in persistent cache.\n",
      "Key '7623576906164891975' not in persistent cache.\n",
      "Key '-7823855647636803445' not in persistent cache.\n",
      "Key '-7206695451288733836' not in persistent cache.\n",
      "Key '7549757366467047954' not in persistent cache.\n",
      "Key '-3687625936740849567' not in persistent cache.\n",
      "Key '-2266069264186784028' not in persistent cache.\n",
      "Key '5633015044213407456' not in persistent cache.\n",
      "Key '1253000250361100241' not in persistent cache.\n",
      "Key '-3113750729673643436' not in persistent cache.\n",
      "Key '4095610040828010659' not in persistent cache.\n",
      "Key '-5998221010000077134' not in persistent cache.\n",
      "Key '8304403093274432317' not in persistent cache.\n",
      "Key '-546707621264000244' not in persistent cache.\n",
      "Key '-1511423537379399665' not in persistent cache.\n",
      "Key '6151765947603526769' not in persistent cache.\n",
      "Key '8188554762443101059' not in persistent cache.\n",
      "Key '-2359105002866259073' not in persistent cache.\n",
      "Key '5304084482116667361' not in persistent cache.\n",
      "Key '-3835071656571054338' not in persistent cache.\n",
      "Key '-835760136663198142' not in persistent cache.\n",
      "Key '-218599940315128533' not in persistent cache.\n",
      "Key '-3908891196268898359' not in persistent cache.\n",
      "Key '3300469574232755736' not in persistent cache.\n",
      "Key '4722026246786821275' not in persistent cache.\n",
      "Key '1220395770112317968' not in persistent cache.\n",
      "Key '8241095761334705544' not in persistent cache.\n",
      "Key '3874344781299961867' not in persistent cache.\n",
      "Key '-7363038521907935654' not in persistent cache.\n",
      "Key '8035903789608384994' not in persistent cache.\n",
      "Key '-3154245469461513996' not in persistent cache.\n",
      "Key '6441387889709605059' not in persistent cache.\n",
      "Key '5476671973594205638' not in persistent cache.\n",
      "Key '-5306882615132419544' not in persistent cache.\n",
      "Key '-3270093800292845254' not in persistent cache.\n",
      "Key '4628990508107346230' not in persistent cache.\n",
      "Key '-6154564080619278952' not in persistent cache.\n",
      "Key '5886939697215975597' not in persistent cache.\n",
      "Key '8886251217123831793' not in persistent cache.\n",
      "Key '-1897303371602793389' not in persistent cache.\n",
      "Key '-5587594627556563215' not in persistent cache.\n",
      "Key '-5424263145689765945' not in persistent cache.\n",
      "Key '-4002706473135700406' not in persistent cache.\n",
      "Key '-7504336949810203713' not in persistent cache.\n",
      "Key '-483636958587816137' not in persistent cache.\n",
      "Key '2195641350012297011' not in persistent cache.\n",
      "Key '2358972831879094281' not in persistent cache.\n",
      "Key '-688828930314136687' not in persistent cache.\n",
      "Key '-4832948900749178852' not in persistent cache.\n",
      "Key '-2283344830212916622' not in persistent cache.\n",
      "Key '-3248060746328316043' not in persistent cache.\n",
      "Key '4415128738654610391' not in persistent cache.\n",
      "Key '6451917553494184681' not in persistent cache.\n",
      "Key '2950287076819681374' not in persistent cache.\n",
      "Key '3567447273167750983' not in persistent cache.\n",
      "Key '6988579584619832432' not in persistent cache.\n",
      "Key '-187691977330183637' not in persistent cache.\n",
      "Key '-2533472575112830745' not in persistent cache.\n",
      "Key '-2818764902426834706' not in persistent cache.\n",
      "Key '-7177260291833263006' not in persistent cache.\n",
      "Key '-7875088315144126982' not in persistent cache.\n",
      "Key '2763484635703750384' not in persistent cache.\n",
      "Key '826612344315660800' not in persistent cache.\n",
      "Key '-6481066132452407981' not in persistent cache.\n",
      "Key '4133044534563632875' not in persistent cache.\n",
      "Key '-5331649415729948983' not in persistent cache.\n",
      "Key '-2367351021109505465' not in persistent cache.\n",
      "Key '-5408050911261942555' not in persistent cache.\n",
      "Key '-2934359787658568422' not in persistent cache.\n",
      "Key '-143324963776305936' not in persistent cache.\n",
      "Key '8393354446662579422' not in persistent cache.\n",
      "Key '-8583029186712544998' not in persistent cache.\n",
      "Key '-7148276515060249729' not in persistent cache.\n",
      "Key '4457213648690777180' not in persistent cache.\n",
      "Key '259248608833398777' not in persistent cache.\n",
      "Key '450462151554567241' not in persistent cache.\n",
      "Key '3194132632506885395' not in persistent cache.\n",
      "Key '6458403201247915022' not in persistent cache.\n",
      "Key '288335410786210076' not in persistent cache.\n",
      "Key '6568724519417924104' not in persistent cache.\n",
      "Key '1705944255800282200' not in persistent cache.\n",
      "Key '-9096701994568463455' not in persistent cache.\n",
      "Key '4031365616981756488' not in persistent cache.\n",
      "Key '-3130453733639507192' not in persistent cache.\n",
      "Key '936621688884344150' not in persistent cache.\n",
      "Key '1470846796001075328' not in persistent cache.\n",
      "Key '-9216040486001012205' not in persistent cache.\n",
      "Key '2433569272870200337' not in persistent cache.\n",
      "Key '7713124040138452450' not in persistent cache.\n",
      "Key '-2841825079856702086' not in persistent cache.\n",
      "Key '-2790745663161059719' not in persistent cache.\n",
      "Key '-3243893619175264571' not in persistent cache.\n",
      "Key '-6926049759651443407' not in persistent cache.\n",
      "Key '-5486659512930570577' not in persistent cache.\n",
      "Key '-1071340491740102682' not in persistent cache.\n",
      "Key '1397238335579832939' not in persistent cache.\n",
      "Key '-8001254246804050677' not in persistent cache.\n",
      "Key '-2845241408736308450' not in persistent cache.\n",
      "Key '2184811818010562430' not in persistent cache.\n",
      "Key '2050141213770819553' not in persistent cache.\n",
      "Key '-7121437238205054596' not in persistent cache.\n",
      "Key '3760897591844285229' not in persistent cache.\n",
      "Key '-7078770626619547839' not in persistent cache.\n",
      "Key '-721520460567364394' not in persistent cache.\n",
      "Key '-7607975284244690415' not in persistent cache.\n",
      "Key '-4760765787314120760' not in persistent cache.\n",
      "Key '124811723204049740' not in persistent cache.\n",
      "Key '4376990059905683322' not in persistent cache.\n",
      "Key '2016059611567830372' not in persistent cache.\n",
      "Key '5348550509938943273' not in persistent cache.\n",
      "Key '1288736974429486271' not in persistent cache.\n",
      "Key '2621769213523293918' not in persistent cache.\n",
      "Key '-7809605831269024658' not in persistent cache.\n",
      "Key '-1159920659014015037' not in persistent cache.\n",
      "Key '-2389893992712630596' not in persistent cache.\n",
      "Key '-7861870051255406005' not in persistent cache.\n",
      "Key '7193979347256908170' not in persistent cache.\n",
      "Key '3999908690191369537' not in persistent cache.\n",
      "Key '-8312405636035238439' not in persistent cache.\n",
      "Key '-6735172979804760681' not in persistent cache.\n",
      "Key '4680761537058067707' not in persistent cache.\n",
      "Key '-6556621766149829814' not in persistent cache.\n",
      "Key '1796291256731634009' not in persistent cache.\n",
      "Key '-2347828713703408156' not in persistent cache.\n",
      "Key '7247804645467710899' not in persistent cache.\n",
      "Key '6283088729352311478' not in persistent cache.\n",
      "Key '-4500465859374313704' not in persistent cache.\n",
      "Key '-2463677044534739414' not in persistent cache.\n",
      "Key '5435407263865452070' not in persistent cache.\n",
      "Key '-5348147324861173112' not in persistent cache.\n",
      "Key '322383150133450411' not in persistent cache.\n",
      "Key '7720052053025674735' not in persistent cache.\n",
      "Key '3938854866389376216' not in persistent cache.\n",
      "Key '248563610435606390' not in persistent cache.\n",
      "Key '7457924380937260485' not in persistent cache.\n",
      "Key '8879481053491326024' not in persistent cache.\n",
      "Key '2730178671166334020' not in persistent cache.\n",
      "Key '-6048193505670341323' not in persistent cache.\n",
      "Key '8031799588004466616' not in persistent cache.\n",
      "Key '-3205583715203430905' not in persistent cache.\n",
      "Key '5147329307678032918' not in persistent cache.\n",
      "Key '5401566720227358881' not in persistent cache.\n",
      "Key '-7847901377295441808' not in persistent cache.\n",
      "Key '-4414259910426473101' not in persistent cache.\n",
      "Key '-1149427808427914795' not in persistent cache.\n",
      "Key '887361006411659495' not in persistent cache.\n",
      "Key '-5261941375913332509' not in persistent cache.\n",
      "Key '-1997109273914774203' not in persistent cache.\n",
      "Key '1790834355598485175' not in persistent cache.\n",
      "Key '-2255883413128515454' not in persistent cache.\n",
      "Key '5407306071854410980' not in persistent cache.\n",
      "Key '1717014815900641154' not in persistent cache.\n",
      "Key '8926375586402295249' not in persistent cache.\n",
      "Key '-8098811814753190828' not in persistent cache.\n",
      "Key '-199727506352999344' not in persistent cache.\n",
      "Key '6820972484869388232' not in persistent cache.\n",
      "Key '-8946493280240050236' not in persistent cache.\n",
      "Key '-1737132509738396141' not in persistent cache.\n",
      "Key '6615780513143067682' not in persistent cache.\n",
      "Key '2471660542708025517' not in persistent cache.\n",
      "Key '5021264613244287747' not in persistent cache.\n",
      "Key '-7344166087945806465' not in persistent cache.\n",
      "Key '319023397037119969' not in persistent cache.\n",
      "Key '2355812211876694259' not in persistent cache.\n",
      "Key '-8191847553432665873' not in persistent cache.\n",
      "Key '-528658068449739439' not in persistent cache.\n",
      "Key '7835305108196988796' not in persistent cache.\n",
      "Key '-7612127445604706624' not in persistent cache.\n",
      "Key '-6994967249256637015' not in persistent cache.\n",
      "Key '7761485568499144775' not in persistent cache.\n",
      "Key '-3475897734708752746' not in persistent cache.\n",
      "Key '-2054341062154687207' not in persistent cache.\n",
      "Key '-5555971538829190514' not in persistent cache.\n",
      "Key '1464728452393197062' not in persistent cache.\n",
      "Key '-2902022527641546615' not in persistent cache.\n",
      "Key '4307338242860107480' not in persistent cache.\n",
      "Key '-5786492807967980313' not in persistent cache.\n",
      "Key '8516131295306529138' not in persistent cache.\n",
      "Key '-334979419231903423' not in persistent cache.\n",
      "Key '-1299695335347302844' not in persistent cache.\n",
      "Key '6363494149635623590' not in persistent cache.\n",
      "Key '8400282964475197880' not in persistent cache.\n",
      "Key '-2147376800834162252' not in persistent cache.\n",
      "Key '5515812684148764182' not in persistent cache.\n",
      "Key '5200321560392512130' not in persistent cache.\n",
      "Key '5551961174649879629' not in persistent cache.\n",
      "Key '8816793276648437935' not in persistent cache.\n",
      "Key '5126502020694668109' not in persistent cache.\n",
      "Key '-6110881282513229412' not in persistent cache.\n",
      "Key '-4689324609959163873' not in persistent cache.\n",
      "Key '7608117081425395739' not in persistent cache.\n",
      "Key '-8216284384046136429' not in persistent cache.\n",
      "Key '-5537006075446023281' not in persistent cache.\n",
      "Key '1672354695055630814' not in persistent cache.\n",
      "Key '-8421476355772456979' not in persistent cache.\n",
      "Key '-8167238943223131016' not in persistent cache.\n",
      "Key '8430751818038314702' not in persistent cache.\n",
      "Key '463678499832588618' not in persistent cache.\n",
      "Key '3728510601831146924' not in persistent cache.\n",
      "Key '5765299416670721214' not in persistent cache.\n",
      "Key '-384002965654270790' not in persistent cache.\n",
      "Key '2880829136344287516' not in persistent cache.\n",
      "Key '2421436892900544030' not in persistent cache.\n",
      "Key '-1625280875826456599' not in persistent cache.\n",
      "Key '6037908609156469835' not in persistent cache.\n",
      "Key '2347617353202700009' not in persistent cache.\n",
      "Key '-8889765950005197512' not in persistent cache.\n",
      "Key '-7468209277451131973' not in persistent cache.\n",
      "Key '430875030949059511' not in persistent cache.\n",
      "Key '7451575022171447087' not in persistent cache.\n",
      "Key '-8315890742937991381' not in persistent cache.\n",
      "Key '-1106529972436337286' not in persistent cache.\n",
      "Key '7246383050445126537' not in persistent cache.\n",
      "Key '3102263080010084372' not in persistent cache.\n",
      "Key '-5748847634528348189' not in persistent cache.\n",
      "Key '-6713563550643747610' not in persistent cache.\n",
      "Key '949625934339178824' not in persistent cache.\n",
      "Key '2986414749178753114' not in persistent cache.\n",
      "Key '-7561245016130607018' not in persistent cache.\n",
      "Key '101944468852319416' not in persistent cache.\n",
      "Key '7671746317315466157' not in persistent cache.\n",
      "Key '-7197821676741169458' not in persistent cache.\n",
      "Key '-4198510156833313262' not in persistent cache.\n",
      "Key '3464679328149613172' not in persistent cache.\n",
      "Key '-7271641216439013479' not in persistent cache.\n",
      "Key '-62280445937359384' not in persistent cache.\n",
      "Key '1359276226616706155' not in persistent cache.\n",
      "Key '-2142354250057797152' not in persistent cache.\n",
      "Key '4878345741164590424' not in persistent cache.\n",
      "Key '7557624049764703572' not in persistent cache.\n",
      "Key '7720955531631500842' not in persistent cache.\n",
      "Key '4673153769438269874' not in persistent cache.\n",
      "Key '-6516995489631629116' not in persistent cache.\n",
      "Key '3078637869539489939' not in persistent cache.\n",
      "Key '2113921953424090518' not in persistent cache.\n",
      "Key '-8669632635302534664' not in persistent cache.\n",
      "Key '-6632843820462960374' not in persistent cache.\n",
      "Key '8312269776572087935' not in persistent cache.\n",
      "Key '8929429972920157544' not in persistent cache.\n",
      "Key '7623576906164891975' not in persistent cache.\n",
      "Key '-7823855647636803445' not in persistent cache.\n",
      "Key '-7206695451288733836' not in persistent cache.\n",
      "Key '7549757366467047954' not in persistent cache.\n",
      "Key '-3687625936740849567' not in persistent cache.\n",
      "Key '-2266069264186784028' not in persistent cache.\n",
      "Key '5633015044213407456' not in persistent cache.\n",
      "Key '1253000250361100241' not in persistent cache.\n",
      "Key '-3113750729673643436' not in persistent cache.\n",
      "Key '4095610040828010659' not in persistent cache.\n",
      "Key '-5998221010000077134' not in persistent cache.\n",
      "Key '8304403093274432317' not in persistent cache.\n",
      "Key '-546707621264000244' not in persistent cache.\n",
      "Key '-1511423537379399665' not in persistent cache.\n",
      "Key '6151765947603526769' not in persistent cache.\n",
      "Key '8188554762443101059' not in persistent cache.\n",
      "Key '-2359105002866259073' not in persistent cache.\n",
      "Key '5304084482116667361' not in persistent cache.\n",
      "Key '-3835071656571054338' not in persistent cache.\n",
      "Key '-835760136663198142' not in persistent cache.\n",
      "Key '-218599940315128533' not in persistent cache.\n",
      "Key '-3908891196268898359' not in persistent cache.\n",
      "Key '3300469574232755736' not in persistent cache.\n",
      "Key '4722026246786821275' not in persistent cache.\n",
      "Key '1220395770112317968' not in persistent cache.\n",
      "Key '8241095761334705544' not in persistent cache.\n",
      "Key '3874344781299961867' not in persistent cache.\n",
      "Key '-7363038521907935654' not in persistent cache.\n",
      "Key '8035903789608384994' not in persistent cache.\n",
      "Key '-3154245469461513996' not in persistent cache.\n",
      "Key '6441387889709605059' not in persistent cache.\n",
      "Key '5476671973594205638' not in persistent cache.\n",
      "Key '-5306882615132419544' not in persistent cache.\n",
      "Key '-3270093800292845254' not in persistent cache.\n",
      "Key '4628990508107346230' not in persistent cache.\n",
      "Key '-6154564080619278952' not in persistent cache.\n",
      "Key '5886939697215975597' not in persistent cache.\n",
      "Key '8886251217123831793' not in persistent cache.\n",
      "Key '-1897303371602793389' not in persistent cache.\n",
      "Key '-5587594627556563215' not in persistent cache.\n",
      "Key '-5424263145689765945' not in persistent cache.\n",
      "Key '-4002706473135700406' not in persistent cache.\n",
      "Key '-7504336949810203713' not in persistent cache.\n",
      "Key '-483636958587816137' not in persistent cache.\n",
      "Key '2195641350012297011' not in persistent cache.\n",
      "Key '2358972831879094281' not in persistent cache.\n",
      "Key '-688828930314136687' not in persistent cache.\n",
      "Key '-4832948900749178852' not in persistent cache.\n",
      "Key '-2283344830212916622' not in persistent cache.\n",
      "Key '-3248060746328316043' not in persistent cache.\n",
      "Key '4415128738654610391' not in persistent cache.\n",
      "Key '6451917553494184681' not in persistent cache.\n",
      "Key '2950287076819681374' not in persistent cache.\n",
      "Key '3567447273167750983' not in persistent cache.\n",
      "Key '6988579584619832432' not in persistent cache.\n",
      "Key '-187691977330183637' not in persistent cache.\n",
      "Key '-2533472575112830745' not in persistent cache.\n",
      "Key '-2818764902426834706' not in persistent cache.\n",
      "Key '-7177260291833263006' not in persistent cache.\n",
      "Key '-7875088315144126982' not in persistent cache.\n",
      "Key '2763484635703750384' not in persistent cache.\n",
      "Key '826612344315660800' not in persistent cache.\n",
      "Key '-6481066132452407981' not in persistent cache.\n",
      "Key '4133044534563632875' not in persistent cache.\n",
      "Key '-5331649415729948983' not in persistent cache.\n",
      "Key '-2367351021109505465' not in persistent cache.\n",
      "Key '-5408050911261942555' not in persistent cache.\n",
      "Key '-2934359787658568422' not in persistent cache.\n",
      "Key '-143324963776305936' not in persistent cache.\n",
      "Key '8393354446662579422' not in persistent cache.\n",
      "Key '-8583029186712544998' not in persistent cache.\n",
      "Key '-7148276515060249729' not in persistent cache.\n",
      "Key '4457213648690777180' not in persistent cache.\n",
      "Key '259248608833398777' not in persistent cache.\n",
      "Key '450462151554567241' not in persistent cache.\n",
      "Key '3194132632506885395' not in persistent cache.\n",
      "Key '6458403201247915022' not in persistent cache.\n",
      "Key '288335410786210076' not in persistent cache.\n",
      "Key '6568724519417924104' not in persistent cache.\n",
      "Key '1705944255800282200' not in persistent cache.\n",
      "Key '-9096701994568463455' not in persistent cache.\n",
      "Key '4031365616981756488' not in persistent cache.\n",
      "Key '-3130453733639507192' not in persistent cache.\n",
      "Key '936621688884344150' not in persistent cache.\n",
      "Key '1470846796001075328' not in persistent cache.\n",
      "Key '-9216040486001012205' not in persistent cache.\n",
      "Key '2433569272870200337' not in persistent cache.\n",
      "Key '7713124040138452450' not in persistent cache.\n",
      "Key '-2841825079856702086' not in persistent cache.\n",
      "Key '-2790745663161059719' not in persistent cache.\n",
      "Key '-3243893619175264571' not in persistent cache.\n",
      "Key '-6926049759651443407' not in persistent cache.\n",
      "Key '-5486659512930570577' not in persistent cache.\n",
      "Key '-1071340491740102682' not in persistent cache.\n",
      "Key '1397238335579832939' not in persistent cache.\n",
      "Key '-8001254246804050677' not in persistent cache.\n",
      "Key '-2845241408736308450' not in persistent cache.\n",
      "Key '2184811818010562430' not in persistent cache.\n",
      "Key '2050141213770819553' not in persistent cache.\n",
      "Key '-7121437238205054596' not in persistent cache.\n",
      "Key '3760897591844285229' not in persistent cache.\n",
      "Key '-7078770626619547839' not in persistent cache.\n",
      "Key '-721520460567364394' not in persistent cache.\n",
      "Key '-7607975284244690415' not in persistent cache.\n",
      "Key '-4760765787314120760' not in persistent cache.\n",
      "Key '124811723204049740' not in persistent cache.\n",
      "Key '4376990059905683322' not in persistent cache.\n",
      "Key '2016059611567830372' not in persistent cache.\n",
      "Key '5348550509938943273' not in persistent cache.\n",
      "Key '1288736974429486271' not in persistent cache.\n",
      "Key '2621769213523293918' not in persistent cache.\n",
      "Key '-7809605831269024658' not in persistent cache.\n",
      "Key '-1159920659014015037' not in persistent cache.\n",
      "Key '-2389893992712630596' not in persistent cache.\n",
      "Key '-7861870051255406005' not in persistent cache.\n",
      "Key '7193979347256908170' not in persistent cache.\n",
      "Key '3999908690191369537' not in persistent cache.\n",
      "Key '-8312405636035238439' not in persistent cache.\n",
      "Key '-6735172979804760681' not in persistent cache.\n",
      "Key '4680761537058067707' not in persistent cache.\n",
      "Key '-6556621766149829814' not in persistent cache.\n",
      "Key '1796291256731634009' not in persistent cache.\n",
      "Key '-2347828713703408156' not in persistent cache.\n",
      "Key '7247804645467710899' not in persistent cache.\n",
      "Key '6283088729352311478' not in persistent cache.\n",
      "Key '-4500465859374313704' not in persistent cache.\n",
      "Key '-2463677044534739414' not in persistent cache.\n",
      "Key '5435407263865452070' not in persistent cache.\n",
      "Key '-5348147324861173112' not in persistent cache.\n",
      "Key '322383150133450411' not in persistent cache.\n",
      "Key '7720052053025674735' not in persistent cache.\n",
      "Key '3938854866389376216' not in persistent cache.\n",
      "Key '248563610435606390' not in persistent cache.\n",
      "Key '7457924380937260485' not in persistent cache.\n",
      "Key '8879481053491326024' not in persistent cache.\n",
      "Key '2730178671166334020' not in persistent cache.\n",
      "Key '-6048193505670341323' not in persistent cache.\n",
      "Key '8031799588004466616' not in persistent cache.\n",
      "Key '-3205583715203430905' not in persistent cache.\n",
      "Key '5147329307678032918' not in persistent cache.\n",
      "Key '5401566720227358881' not in persistent cache.\n",
      "Key '-7847901377295441808' not in persistent cache.\n",
      "Key '-4414259910426473101' not in persistent cache.\n",
      "Key '-1149427808427914795' not in persistent cache.\n",
      "Key '887361006411659495' not in persistent cache.\n",
      "Key '-5261941375913332509' not in persistent cache.\n",
      "Key '-1997109273914774203' not in persistent cache.\n",
      "Key '1790834355598485175' not in persistent cache.\n",
      "Key '-2255883413128515454' not in persistent cache.\n",
      "Key '5407306071854410980' not in persistent cache.\n",
      "Key '1717014815900641154' not in persistent cache.\n",
      "Key '8926375586402295249' not in persistent cache.\n",
      "Key '-8098811814753190828' not in persistent cache.\n",
      "Key '-199727506352999344' not in persistent cache.\n",
      "Key '6820972484869388232' not in persistent cache.\n",
      "Key '-8946493280240050236' not in persistent cache.\n",
      "Key '-1737132509738396141' not in persistent cache.\n",
      "Key '6615780513143067682' not in persistent cache.\n",
      "Key '2471660542708025517' not in persistent cache.\n",
      "Key '5021264613244287747' not in persistent cache.\n",
      "Key '-7344166087945806465' not in persistent cache.\n",
      "Key '319023397037119969' not in persistent cache.\n",
      "Key '2355812211876694259' not in persistent cache.\n",
      "Key '-8191847553432665873' not in persistent cache.\n",
      "Key '-528658068449739439' not in persistent cache.\n",
      "Key '7835305108196988796' not in persistent cache.\n",
      "Key '-7612127445604706624' not in persistent cache.\n",
      "Key '-6994967249256637015' not in persistent cache.\n",
      "Key '7761485568499144775' not in persistent cache.\n",
      "Key '-3475897734708752746' not in persistent cache.\n",
      "Key '-2054341062154687207' not in persistent cache.\n",
      "Key '-5555971538829190514' not in persistent cache.\n",
      "Key '1464728452393197062' not in persistent cache.\n",
      "Key '-2902022527641546615' not in persistent cache.\n",
      "Key '4307338242860107480' not in persistent cache.\n",
      "Key '-5786492807967980313' not in persistent cache.\n",
      "Key '8516131295306529138' not in persistent cache.\n",
      "Key '-334979419231903423' not in persistent cache.\n",
      "Key '-1299695335347302844' not in persistent cache.\n",
      "Key '6363494149635623590' not in persistent cache.\n",
      "Key '8400282964475197880' not in persistent cache.\n",
      "Key '-2147376800834162252' not in persistent cache.\n",
      "Key '5515812684148764182' not in persistent cache.\n",
      "Key '5200321560392512130' not in persistent cache.\n",
      "Key '5551961174649879629' not in persistent cache.\n",
      "Key '8816793276648437935' not in persistent cache.\n",
      "Key '5126502020694668109' not in persistent cache.\n",
      "Key '-6110881282513229412' not in persistent cache.\n",
      "Key '-4689324609959163873' not in persistent cache.\n",
      "Key '7608117081425395739' not in persistent cache.\n",
      "Key '-8216284384046136429' not in persistent cache.\n",
      "Key '-5537006075446023281' not in persistent cache.\n",
      "Key '1672354695055630814' not in persistent cache.\n",
      "Key '-8421476355772456979' not in persistent cache.\n",
      "Key '-8167238943223131016' not in persistent cache.\n",
      "Key '8430751818038314702' not in persistent cache.\n",
      "Key '463678499832588618' not in persistent cache.\n",
      "Key '3728510601831146924' not in persistent cache.\n",
      "Key '5765299416670721214' not in persistent cache.\n",
      "Key '-384002965654270790' not in persistent cache.\n",
      "Key '2880829136344287516' not in persistent cache.\n",
      "Key '2421436892900544030' not in persistent cache.\n",
      "Key '-1625280875826456599' not in persistent cache.\n",
      "Key '6037908609156469835' not in persistent cache.\n",
      "Key '2347617353202700009' not in persistent cache.\n",
      "Key '-8889765950005197512' not in persistent cache.\n",
      "Key '-7468209277451131973' not in persistent cache.\n",
      "Key '430875030949059511' not in persistent cache.\n",
      "Key '7451575022171447087' not in persistent cache.\n",
      "Key '-8315890742937991381' not in persistent cache.\n",
      "Key '-1106529972436337286' not in persistent cache.\n",
      "Key '7246383050445126537' not in persistent cache.\n",
      "Key '3102263080010084372' not in persistent cache.\n",
      "Key '-5748847634528348189' not in persistent cache.\n",
      "Key '-6713563550643747610' not in persistent cache.\n",
      "Key '949625934339178824' not in persistent cache.\n",
      "Key '2986414749178753114' not in persistent cache.\n",
      "Key '-7561245016130607018' not in persistent cache.\n",
      "Key '101944468852319416' not in persistent cache.\n",
      "Key '7671746317315466157' not in persistent cache.\n",
      "Key '-7197821676741169458' not in persistent cache.\n",
      "Key '-4198510156833313262' not in persistent cache.\n",
      "Key '3464679328149613172' not in persistent cache.\n",
      "Key '-7271641216439013479' not in persistent cache.\n",
      "Key '-62280445937359384' not in persistent cache.\n",
      "Key '1359276226616706155' not in persistent cache.\n",
      "Key '-2142354250057797152' not in persistent cache.\n",
      "Key '4878345741164590424' not in persistent cache.\n",
      "Key '7557624049764703572' not in persistent cache.\n",
      "Key '7720955531631500842' not in persistent cache.\n",
      "Key '4673153769438269874' not in persistent cache.\n",
      "Key '-6516995489631629116' not in persistent cache.\n",
      "Key '3078637869539489939' not in persistent cache.\n",
      "Key '2113921953424090518' not in persistent cache.\n",
      "Key '-8669632635302534664' not in persistent cache.\n",
      "Key '-6632843820462960374' not in persistent cache.\n",
      "Key '8312269776572087935' not in persistent cache.\n",
      "Key '8929429972920157544' not in persistent cache.\n",
      "Key '7623576906164891975' not in persistent cache.\n",
      "Key '-7823855647636803445' not in persistent cache.\n",
      "Key '-7206695451288733836' not in persistent cache.\n",
      "Key '7549757366467047954' not in persistent cache.\n",
      "Key '-3687625936740849567' not in persistent cache.\n",
      "Key '-2266069264186784028' not in persistent cache.\n",
      "Key '5633015044213407456' not in persistent cache.\n",
      "Key '1253000250361100241' not in persistent cache.\n",
      "Key '-3113750729673643436' not in persistent cache.\n",
      "Key '4095610040828010659' not in persistent cache.\n",
      "Key '-5998221010000077134' not in persistent cache.\n",
      "Key '8304403093274432317' not in persistent cache.\n",
      "Key '-546707621264000244' not in persistent cache.\n",
      "Key '-1511423537379399665' not in persistent cache.\n",
      "Key '6151765947603526769' not in persistent cache.\n",
      "Key '8188554762443101059' not in persistent cache.\n",
      "Key '-2359105002866259073' not in persistent cache.\n",
      "Key '5304084482116667361' not in persistent cache.\n",
      "Key '-3835071656571054338' not in persistent cache.\n",
      "Key '-835760136663198142' not in persistent cache.\n",
      "Key '-218599940315128533' not in persistent cache.\n",
      "Key '-3908891196268898359' not in persistent cache.\n",
      "Key '3300469574232755736' not in persistent cache.\n",
      "Key '4722026246786821275' not in persistent cache.\n",
      "Key '1220395770112317968' not in persistent cache.\n",
      "Key '8241095761334705544' not in persistent cache.\n",
      "Key '3874344781299961867' not in persistent cache.\n",
      "Key '-7363038521907935654' not in persistent cache.\n",
      "Key '8035903789608384994' not in persistent cache.\n",
      "Key '-3154245469461513996' not in persistent cache.\n",
      "Key '6441387889709605059' not in persistent cache.\n",
      "Key '5476671973594205638' not in persistent cache.\n",
      "Key '-5306882615132419544' not in persistent cache.\n",
      "Key '-3270093800292845254' not in persistent cache.\n",
      "Key '4628990508107346230' not in persistent cache.\n",
      "Key '-6154564080619278952' not in persistent cache.\n",
      "Key '5886939697215975597' not in persistent cache.\n",
      "Key '8886251217123831793' not in persistent cache.\n",
      "Key '-1897303371602793389' not in persistent cache.\n",
      "Key '-5587594627556563215' not in persistent cache.\n",
      "Key '-5424263145689765945' not in persistent cache.\n",
      "Key '-4002706473135700406' not in persistent cache.\n",
      "Key '-7504336949810203713' not in persistent cache.\n",
      "Key '-483636958587816137' not in persistent cache.\n",
      "Key '2195641350012297011' not in persistent cache.\n",
      "Key '2358972831879094281' not in persistent cache.\n",
      "Key '-688828930314136687' not in persistent cache.\n",
      "Key '-4832948900749178852' not in persistent cache.\n",
      "Key '-2283344830212916622' not in persistent cache.\n",
      "Key '-3248060746328316043' not in persistent cache.\n",
      "Key '4415128738654610391' not in persistent cache.\n",
      "Key '6451917553494184681' not in persistent cache.\n",
      "Key '2950287076819681374' not in persistent cache.\n",
      "Key '3567447273167750983' not in persistent cache.\n",
      "Key '6988579584619832432' not in persistent cache.\n",
      "Key '-187691977330183637' not in persistent cache.\n",
      "Key '-2533472575112830745' not in persistent cache.\n",
      "Key '-2818764902426834706' not in persistent cache.\n",
      "Key '-7177260291833263006' not in persistent cache.\n",
      "Key '-7875088315144126982' not in persistent cache.\n",
      "Key '2763484635703750384' not in persistent cache.\n",
      "Key '826612344315660800' not in persistent cache.\n",
      "Key '-6481066132452407981' not in persistent cache.\n",
      "Key '4133044534563632875' not in persistent cache.\n",
      "Key '-5331649415729948983' not in persistent cache.\n",
      "Key '-2367351021109505465' not in persistent cache.\n",
      "Key '-5408050911261942555' not in persistent cache.\n",
      "Key '-2934359787658568422' not in persistent cache.\n",
      "Key '-143324963776305936' not in persistent cache.\n",
      "Key '8393354446662579422' not in persistent cache.\n",
      "Key '-8583029186712544998' not in persistent cache.\n",
      "Key '-7148276515060249729' not in persistent cache.\n",
      "Key '4457213648690777180' not in persistent cache.\n",
      "Key '259248608833398777' not in persistent cache.\n",
      "Key '450462151554567241' not in persistent cache.\n",
      "Key '3194132632506885395' not in persistent cache.\n",
      "Key '6458403201247915022' not in persistent cache.\n",
      "Key '288335410786210076' not in persistent cache.\n",
      "Key '6568724519417924104' not in persistent cache.\n",
      "Key '1705944255800282200' not in persistent cache.\n",
      "Key '-9096701994568463455' not in persistent cache.\n",
      "Key '4031365616981756488' not in persistent cache.\n",
      "Key '-3130453733639507192' not in persistent cache.\n",
      "Key '936621688884344150' not in persistent cache.\n",
      "Key '1470846796001075328' not in persistent cache.\n",
      "Key '-9216040486001012205' not in persistent cache.\n",
      "Key '2433569272870200337' not in persistent cache.\n",
      "Key '7713124040138452450' not in persistent cache.\n",
      "Key '-2841825079856702086' not in persistent cache.\n",
      "Key '-2790745663161059719' not in persistent cache.\n",
      "Key '-3243893619175264571' not in persistent cache.\n",
      "Key '-6926049759651443407' not in persistent cache.\n",
      "Key '-5486659512930570577' not in persistent cache.\n",
      "Key '-1071340491740102682' not in persistent cache.\n",
      "Key '1397238335579832939' not in persistent cache.\n",
      "Key '-8001254246804050677' not in persistent cache.\n",
      "Key '-2845241408736308450' not in persistent cache.\n",
      "Key '2184811818010562430' not in persistent cache.\n",
      "Key '2050141213770819553' not in persistent cache.\n",
      "Key '-7121437238205054596' not in persistent cache.\n",
      "Key '3760897591844285229' not in persistent cache.\n",
      "Key '-7078770626619547839' not in persistent cache.\n",
      "Key '-721520460567364394' not in persistent cache.\n",
      "Key '-7607975284244690415' not in persistent cache.\n",
      "Key '-4760765787314120760' not in persistent cache.\n",
      "Key '124811723204049740' not in persistent cache.\n",
      "Key '4376990059905683322' not in persistent cache.\n",
      "Key '2016059611567830372' not in persistent cache.\n",
      "Key '5348550509938943273' not in persistent cache.\n",
      "Key '1288736974429486271' not in persistent cache.\n",
      "Key '2621769213523293918' not in persistent cache.\n",
      "Key '-7809605831269024658' not in persistent cache.\n",
      "Key '-1159920659014015037' not in persistent cache.\n",
      "Key '-2389893992712630596' not in persistent cache.\n",
      "Key '-7861870051255406005' not in persistent cache.\n",
      "Key '7193979347256908170' not in persistent cache.\n",
      "Key '3999908690191369537' not in persistent cache.\n",
      "Key '-8312405636035238439' not in persistent cache.\n",
      "Key '-6735172979804760681' not in persistent cache.\n",
      "Key '4680761537058067707' not in persistent cache.\n",
      "Key '-6556621766149829814' not in persistent cache.\n",
      "Key '1796291256731634009' not in persistent cache.\n",
      "Key '-2347828713703408156' not in persistent cache.\n",
      "Key '7247804645467710899' not in persistent cache.\n",
      "Key '6283088729352311478' not in persistent cache.\n",
      "Key '-4500465859374313704' not in persistent cache.\n",
      "Key '-2463677044534739414' not in persistent cache.\n",
      "Key '5435407263865452070' not in persistent cache.\n",
      "Key '-5348147324861173112' not in persistent cache.\n",
      "Key '322383150133450411' not in persistent cache.\n",
      "Key '7720052053025674735' not in persistent cache.\n",
      "Key '3938854866389376216' not in persistent cache.\n",
      "Key '248563610435606390' not in persistent cache.\n",
      "Key '7457924380937260485' not in persistent cache.\n",
      "Key '8879481053491326024' not in persistent cache.\n",
      "Key '2730178671166334020' not in persistent cache.\n",
      "Key '-6048193505670341323' not in persistent cache.\n",
      "Key '8031799588004466616' not in persistent cache.\n",
      "Key '-3205583715203430905' not in persistent cache.\n",
      "Key '5147329307678032918' not in persistent cache.\n",
      "Key '5401566720227358881' not in persistent cache.\n",
      "Key '-7847901377295441808' not in persistent cache.\n",
      "Key '-4414259910426473101' not in persistent cache.\n",
      "Key '-1149427808427914795' not in persistent cache.\n",
      "Key '887361006411659495' not in persistent cache.\n",
      "Key '-5261941375913332509' not in persistent cache.\n",
      "Key '-1997109273914774203' not in persistent cache.\n",
      "Key '1790834355598485175' not in persistent cache.\n",
      "Key '-2255883413128515454' not in persistent cache.\n",
      "Key '5407306071854410980' not in persistent cache.\n",
      "Key '1717014815900641154' not in persistent cache.\n",
      "Key '8926375586402295249' not in persistent cache.\n",
      "Key '-8098811814753190828' not in persistent cache.\n",
      "Key '-199727506352999344' not in persistent cache.\n",
      "Key '6820972484869388232' not in persistent cache.\n",
      "Key '-8946493280240050236' not in persistent cache.\n",
      "Key '-1737132509738396141' not in persistent cache.\n",
      "Key '6615780513143067682' not in persistent cache.\n",
      "Key '2471660542708025517' not in persistent cache.\n",
      "Key '5021264613244287747' not in persistent cache.\n",
      "Key '-7344166087945806465' not in persistent cache.\n",
      "Key '319023397037119969' not in persistent cache.\n",
      "Key '2355812211876694259' not in persistent cache.\n",
      "Key '-8191847553432665873' not in persistent cache.\n",
      "Key '-528658068449739439' not in persistent cache.\n",
      "Key '7835305108196988796' not in persistent cache.\n",
      "Key '-7612127445604706624' not in persistent cache.\n",
      "Key '-6994967249256637015' not in persistent cache.\n",
      "Key '7761485568499144775' not in persistent cache.\n",
      "Key '-3475897734708752746' not in persistent cache.\n",
      "Key '-2054341062154687207' not in persistent cache.\n",
      "Key '-5555971538829190514' not in persistent cache.\n",
      "Key '1464728452393197062' not in persistent cache.\n",
      "Key '-2902022527641546615' not in persistent cache.\n",
      "Key '4307338242860107480' not in persistent cache.\n",
      "Key '-5786492807967980313' not in persistent cache.\n",
      "Key '8516131295306529138' not in persistent cache.\n",
      "Key '-334979419231903423' not in persistent cache.\n",
      "Key '-1299695335347302844' not in persistent cache.\n",
      "Key '6363494149635623590' not in persistent cache.\n",
      "Key '8400282964475197880' not in persistent cache.\n",
      "Key '-2147376800834162252' not in persistent cache.\n",
      "Key '5515812684148764182' not in persistent cache.\n",
      "Key '5200321560392512130' not in persistent cache.\n",
      "Key '5551961174649879629' not in persistent cache.\n",
      "Key '8816793276648437935' not in persistent cache.\n",
      "Key '5126502020694668109' not in persistent cache.\n",
      "Key '-6110881282513229412' not in persistent cache.\n",
      "Key '-4689324609959163873' not in persistent cache.\n",
      "Key '7608117081425395739' not in persistent cache.\n",
      "Key '-8216284384046136429' not in persistent cache.\n",
      "Key '-5537006075446023281' not in persistent cache.\n",
      "Key '1672354695055630814' not in persistent cache.\n",
      "Key '-8421476355772456979' not in persistent cache.\n",
      "Key '-8167238943223131016' not in persistent cache.\n",
      "Key '8430751818038314702' not in persistent cache.\n",
      "Key '463678499832588618' not in persistent cache.\n",
      "Key '3728510601831146924' not in persistent cache.\n",
      "Key '5765299416670721214' not in persistent cache.\n",
      "Key '-384002965654270790' not in persistent cache.\n",
      "Key '2880829136344287516' not in persistent cache.\n",
      "Key '2421436892900544030' not in persistent cache.\n",
      "Key '-1625280875826456599' not in persistent cache.\n",
      "Key '6037908609156469835' not in persistent cache.\n",
      "Key '2347617353202700009' not in persistent cache.\n",
      "Key '-8889765950005197512' not in persistent cache.\n",
      "Key '-7468209277451131973' not in persistent cache.\n",
      "Key '430875030949059511' not in persistent cache.\n",
      "Key '7451575022171447087' not in persistent cache.\n",
      "Key '-8315890742937991381' not in persistent cache.\n",
      "Key '-1106529972436337286' not in persistent cache.\n",
      "Key '7246383050445126537' not in persistent cache.\n",
      "Key '3102263080010084372' not in persistent cache.\n",
      "Key '-5748847634528348189' not in persistent cache.\n",
      "Key '-6713563550643747610' not in persistent cache.\n",
      "Key '949625934339178824' not in persistent cache.\n",
      "Key '2986414749178753114' not in persistent cache.\n",
      "Key '-7561245016130607018' not in persistent cache.\n",
      "Key '101944468852319416' not in persistent cache.\n",
      "Key '7671746317315466157' not in persistent cache.\n",
      "Key '-7197821676741169458' not in persistent cache.\n",
      "Key '-4198510156833313262' not in persistent cache.\n",
      "Key '3464679328149613172' not in persistent cache.\n",
      "Key '-7271641216439013479' not in persistent cache.\n",
      "Key '-62280445937359384' not in persistent cache.\n",
      "Key '1359276226616706155' not in persistent cache.\n",
      "Key '-2142354250057797152' not in persistent cache.\n",
      "Key '4878345741164590424' not in persistent cache.\n",
      "Key '7557624049764703572' not in persistent cache.\n",
      "Key '7720955531631500842' not in persistent cache.\n",
      "Key '4673153769438269874' not in persistent cache.\n",
      "Key '-6516995489631629116' not in persistent cache.\n",
      "Key '3078637869539489939' not in persistent cache.\n",
      "Key '2113921953424090518' not in persistent cache.\n",
      "Key '-8669632635302534664' not in persistent cache.\n",
      "Key '-6632843820462960374' not in persistent cache.\n",
      "Key '8312269776572087935' not in persistent cache.\n",
      "Key '8929429972920157544' not in persistent cache.\n",
      "Key '7623576906164891975' not in persistent cache.\n",
      "Key '-7823855647636803445' not in persistent cache.\n",
      "Key '-7206695451288733836' not in persistent cache.\n",
      "Key '7549757366467047954' not in persistent cache.\n",
      "Key '-3687625936740849567' not in persistent cache.\n",
      "Key '-2266069264186784028' not in persistent cache.\n",
      "Key '5633015044213407456' not in persistent cache.\n",
      "Key '1253000250361100241' not in persistent cache.\n",
      "Key '-3113750729673643436' not in persistent cache.\n",
      "Key '4095610040828010659' not in persistent cache.\n",
      "Key '-5998221010000077134' not in persistent cache.\n",
      "Key '8304403093274432317' not in persistent cache.\n",
      "Key '-546707621264000244' not in persistent cache.\n",
      "Key '-1511423537379399665' not in persistent cache.\n",
      "Key '6151765947603526769' not in persistent cache.\n",
      "Key '8188554762443101059' not in persistent cache.\n",
      "Key '-2359105002866259073' not in persistent cache.\n",
      "Key '5304084482116667361' not in persistent cache.\n",
      "Key '-3835071656571054338' not in persistent cache.\n",
      "Key '-835760136663198142' not in persistent cache.\n",
      "Key '-218599940315128533' not in persistent cache.\n",
      "Key '-3908891196268898359' not in persistent cache.\n",
      "Key '3300469574232755736' not in persistent cache.\n",
      "Key '4722026246786821275' not in persistent cache.\n",
      "Key '1220395770112317968' not in persistent cache.\n",
      "Key '8241095761334705544' not in persistent cache.\n",
      "Key '3874344781299961867' not in persistent cache.\n",
      "Key '-7363038521907935654' not in persistent cache.\n",
      "Key '8035903789608384994' not in persistent cache.\n",
      "Key '-3154245469461513996' not in persistent cache.\n",
      "Key '6441387889709605059' not in persistent cache.\n",
      "Key '5476671973594205638' not in persistent cache.\n",
      "Key '-5306882615132419544' not in persistent cache.\n",
      "Key '-3270093800292845254' not in persistent cache.\n",
      "Key '4628990508107346230' not in persistent cache.\n",
      "Key '-6154564080619278952' not in persistent cache.\n",
      "Key '5886939697215975597' not in persistent cache.\n",
      "Key '8886251217123831793' not in persistent cache.\n",
      "Key '-1897303371602793389' not in persistent cache.\n",
      "Key '-5587594627556563215' not in persistent cache.\n",
      "Key '-5424263145689765945' not in persistent cache.\n",
      "Key '-4002706473135700406' not in persistent cache.\n",
      "Key '-7504336949810203713' not in persistent cache.\n",
      "Key '-483636958587816137' not in persistent cache.\n",
      "Key '2195641350012297011' not in persistent cache.\n",
      "Key '2358972831879094281' not in persistent cache.\n",
      "Key '-688828930314136687' not in persistent cache.\n",
      "Key '-4832948900749178852' not in persistent cache.\n",
      "Key '-2283344830212916622' not in persistent cache.\n",
      "Key '-3248060746328316043' not in persistent cache.\n",
      "Key '4415128738654610391' not in persistent cache.\n",
      "Key '6451917553494184681' not in persistent cache.\n",
      "Key '2950287076819681374' not in persistent cache.\n",
      "Key '3567447273167750983' not in persistent cache.\n",
      "Key '6988579584619832432' not in persistent cache.\n",
      "Key '-187691977330183637' not in persistent cache.\n",
      "Key '-2533472575112830745' not in persistent cache.\n",
      "Key '-2818764902426834706' not in persistent cache.\n",
      "Key '-7177260291833263006' not in persistent cache.\n",
      "Key '-7875088315144126982' not in persistent cache.\n",
      "Key '2763484635703750384' not in persistent cache.\n",
      "Key '826612344315660800' not in persistent cache.\n",
      "Key '-6481066132452407981' not in persistent cache.\n",
      "Key '4133044534563632875' not in persistent cache.\n",
      "Key '-5331649415729948983' not in persistent cache.\n",
      "Key '-2367351021109505465' not in persistent cache.\n",
      "Key '-5408050911261942555' not in persistent cache.\n",
      "Key '-2934359787658568422' not in persistent cache.\n",
      "Key '-143324963776305936' not in persistent cache.\n",
      "Key '8393354446662579422' not in persistent cache.\n",
      "Key '-8583029186712544998' not in persistent cache.\n",
      "Key '-7148276515060249729' not in persistent cache.\n",
      "Key '4457213648690777180' not in persistent cache.\n",
      "Key '259248608833398777' not in persistent cache.\n",
      "Key '450462151554567241' not in persistent cache.\n",
      "Key '3194132632506885395' not in persistent cache.\n",
      "Key '6458403201247915022' not in persistent cache.\n",
      "Key '288335410786210076' not in persistent cache.\n",
      "Key '6568724519417924104' not in persistent cache.\n",
      "Key '1705944255800282200' not in persistent cache.\n",
      "Key '-9096701994568463455' not in persistent cache.\n",
      "Key '4031365616981756488' not in persistent cache.\n",
      "Key '-3130453733639507192' not in persistent cache.\n",
      "Key '936621688884344150' not in persistent cache.\n",
      "Key '1470846796001075328' not in persistent cache.\n",
      "Key '-9216040486001012205' not in persistent cache.\n",
      "Key '2433569272870200337' not in persistent cache.\n",
      "Key '7713124040138452450' not in persistent cache.\n",
      "Key '-2841825079856702086' not in persistent cache.\n",
      "Key '-2790745663161059719' not in persistent cache.\n",
      "Key '-3243893619175264571' not in persistent cache.\n",
      "Key '-6926049759651443407' not in persistent cache.\n",
      "Key '-5486659512930570577' not in persistent cache.\n",
      "Key '-1071340491740102682' not in persistent cache.\n",
      "Key '1397238335579832939' not in persistent cache.\n",
      "Key '-8001254246804050677' not in persistent cache.\n",
      "Key '-2845241408736308450' not in persistent cache.\n",
      "Key '2184811818010562430' not in persistent cache.\n",
      "Key '2050141213770819553' not in persistent cache.\n",
      "Key '-7121437238205054596' not in persistent cache.\n",
      "Key '3760897591844285229' not in persistent cache.\n",
      "Key '-7078770626619547839' not in persistent cache.\n",
      "Key '-721520460567364394' not in persistent cache.\n",
      "Key '-7607975284244690415' not in persistent cache.\n",
      "Key '-4760765787314120760' not in persistent cache.\n",
      "Key '124811723204049740' not in persistent cache.\n",
      "Key '4376990059905683322' not in persistent cache.\n",
      "Key '2016059611567830372' not in persistent cache.\n",
      "Key '5348550509938943273' not in persistent cache.\n",
      "Key '1288736974429486271' not in persistent cache.\n",
      "Key '2621769213523293918' not in persistent cache.\n",
      "Key '-7809605831269024658' not in persistent cache.\n",
      "Key '-1159920659014015037' not in persistent cache.\n",
      "Key '-2389893992712630596' not in persistent cache.\n",
      "Key '-7861870051255406005' not in persistent cache.\n",
      "Key '7193979347256908170' not in persistent cache.\n",
      "Key '3999908690191369537' not in persistent cache.\n",
      "Key '-8312405636035238439' not in persistent cache.\n",
      "Key '-6735172979804760681' not in persistent cache.\n",
      "Key '4680761537058067707' not in persistent cache.\n",
      "Key '-6556621766149829814' not in persistent cache.\n",
      "Key '1796291256731634009' not in persistent cache.\n",
      "Key '-2347828713703408156' not in persistent cache.\n",
      "Key '7247804645467710899' not in persistent cache.\n",
      "Key '6283088729352311478' not in persistent cache.\n",
      "Key '-4500465859374313704' not in persistent cache.\n",
      "Key '-2463677044534739414' not in persistent cache.\n",
      "Key '5435407263865452070' not in persistent cache.\n",
      "Key '-5348147324861173112' not in persistent cache.\n",
      "Key '322383150133450411' not in persistent cache.\n",
      "Key '7720052053025674735' not in persistent cache.\n",
      "Key '3938854866389376216' not in persistent cache.\n",
      "Key '248563610435606390' not in persistent cache.\n",
      "Key '7457924380937260485' not in persistent cache.\n",
      "Key '8879481053491326024' not in persistent cache.\n",
      "Key '2730178671166334020' not in persistent cache.\n",
      "Key '-6048193505670341323' not in persistent cache.\n",
      "Key '8031799588004466616' not in persistent cache.\n",
      "Key '-3205583715203430905' not in persistent cache.\n",
      "Key '5147329307678032918' not in persistent cache.\n",
      "Key '5401566720227358881' not in persistent cache.\n",
      "Key '-7847901377295441808' not in persistent cache.\n",
      "Key '-4414259910426473101' not in persistent cache.\n",
      "Key '-1149427808427914795' not in persistent cache.\n",
      "Key '887361006411659495' not in persistent cache.\n",
      "Key '-5261941375913332509' not in persistent cache.\n",
      "Key '-1997109273914774203' not in persistent cache.\n",
      "Key '1790834355598485175' not in persistent cache.\n",
      "Key '-2255883413128515454' not in persistent cache.\n",
      "Key '5407306071854410980' not in persistent cache.\n",
      "Key '1717014815900641154' not in persistent cache.\n",
      "Key '8926375586402295249' not in persistent cache.\n",
      "Key '-8098811814753190828' not in persistent cache.\n",
      "Key '-199727506352999344' not in persistent cache.\n",
      "Key '6820972484869388232' not in persistent cache.\n",
      "Key '-8946493280240050236' not in persistent cache.\n",
      "Key '-1737132509738396141' not in persistent cache.\n",
      "Key '6615780513143067682' not in persistent cache.\n",
      "Key '2471660542708025517' not in persistent cache.\n",
      "Key '5021264613244287747' not in persistent cache.\n",
      "Key '-7344166087945806465' not in persistent cache.\n",
      "Key '319023397037119969' not in persistent cache.\n",
      "Key '2355812211876694259' not in persistent cache.\n",
      "Key '-8191847553432665873' not in persistent cache.\n",
      "Key '-528658068449739439' not in persistent cache.\n",
      "Key '7835305108196988796' not in persistent cache.\n",
      "Key '-7612127445604706624' not in persistent cache.\n",
      "Key '-6994967249256637015' not in persistent cache.\n",
      "Key '7761485568499144775' not in persistent cache.\n",
      "Key '-3475897734708752746' not in persistent cache.\n",
      "Key '-2054341062154687207' not in persistent cache.\n",
      "Key '-5555971538829190514' not in persistent cache.\n",
      "Key '1464728452393197062' not in persistent cache.\n",
      "Key '-2902022527641546615' not in persistent cache.\n",
      "Key '4307338242860107480' not in persistent cache.\n",
      "Key '-5786492807967980313' not in persistent cache.\n",
      "Key '8516131295306529138' not in persistent cache.\n",
      "Key '-334979419231903423' not in persistent cache.\n",
      "Key '-1299695335347302844' not in persistent cache.\n",
      "Key '6363494149635623590' not in persistent cache.\n",
      "Key '8400282964475197880' not in persistent cache.\n",
      "Key '-2147376800834162252' not in persistent cache.\n",
      "Key '5515812684148764182' not in persistent cache.\n",
      "Key '5200321560392512130' not in persistent cache.\n",
      "Key '5551961174649879629' not in persistent cache.\n",
      "Key '8816793276648437935' not in persistent cache.\n",
      "Key '5126502020694668109' not in persistent cache.\n",
      "Key '-6110881282513229412' not in persistent cache.\n",
      "Key '-4689324609959163873' not in persistent cache.\n",
      "Key '7608117081425395739' not in persistent cache.\n",
      "Key '-8216284384046136429' not in persistent cache.\n",
      "Key '-5537006075446023281' not in persistent cache.\n",
      "Key '1672354695055630814' not in persistent cache.\n",
      "Key '-8421476355772456979' not in persistent cache.\n",
      "Key '-8167238943223131016' not in persistent cache.\n",
      "Key '8430751818038314702' not in persistent cache.\n",
      "Key '463678499832588618' not in persistent cache.\n",
      "Key '3728510601831146924' not in persistent cache.\n",
      "Key '5765299416670721214' not in persistent cache.\n",
      "Key '-384002965654270790' not in persistent cache.\n",
      "Key '2880829136344287516' not in persistent cache.\n",
      "Key '2421436892900544030' not in persistent cache.\n",
      "Key '-1625280875826456599' not in persistent cache.\n",
      "Key '6037908609156469835' not in persistent cache.\n",
      "Key '2347617353202700009' not in persistent cache.\n",
      "Key '-8889765950005197512' not in persistent cache.\n",
      "Key '-7468209277451131973' not in persistent cache.\n",
      "Key '430875030949059511' not in persistent cache.\n",
      "Key '7451575022171447087' not in persistent cache.\n",
      "Key '-8315890742937991381' not in persistent cache.\n",
      "Key '-1106529972436337286' not in persistent cache.\n",
      "Key '7246383050445126537' not in persistent cache.\n",
      "Key '3102263080010084372' not in persistent cache.\n",
      "Key '-5748847634528348189' not in persistent cache.\n",
      "Key '-6713563550643747610' not in persistent cache.\n",
      "Key '949625934339178824' not in persistent cache.\n",
      "Key '2986414749178753114' not in persistent cache.\n",
      "Key '-7561245016130607018' not in persistent cache.\n",
      "Key '101944468852319416' not in persistent cache.\n",
      "Key '7671746317315466157' not in persistent cache.\n",
      "Key '-7197821676741169458' not in persistent cache.\n",
      "Key '-4198510156833313262' not in persistent cache.\n",
      "Key '3464679328149613172' not in persistent cache.\n",
      "Key '-7271641216439013479' not in persistent cache.\n",
      "Key '-62280445937359384' not in persistent cache.\n",
      "Key '1359276226616706155' not in persistent cache.\n",
      "Key '-2142354250057797152' not in persistent cache.\n",
      "Key '4878345741164590424' not in persistent cache.\n",
      "Key '7557624049764703572' not in persistent cache.\n",
      "Key '7720955531631500842' not in persistent cache.\n",
      "Key '4673153769438269874' not in persistent cache.\n",
      "Key '-6516995489631629116' not in persistent cache.\n",
      "Key '3078637869539489939' not in persistent cache.\n",
      "Key '2113921953424090518' not in persistent cache.\n",
      "Key '-8669632635302534664' not in persistent cache.\n",
      "Key '-6632843820462960374' not in persistent cache.\n",
      "Key '8312269776572087935' not in persistent cache.\n",
      "Key '8929429972920157544' not in persistent cache.\n",
      "Key '7623576906164891975' not in persistent cache.\n",
      "Key '-7823855647636803445' not in persistent cache.\n",
      "Key '-7206695451288733836' not in persistent cache.\n",
      "Key '7549757366467047954' not in persistent cache.\n",
      "Key '-3687625936740849567' not in persistent cache.\n",
      "Key '-2266069264186784028' not in persistent cache.\n",
      "Key '5633015044213407456' not in persistent cache.\n",
      "Key '1253000250361100241' not in persistent cache.\n",
      "Key '-3113750729673643436' not in persistent cache.\n",
      "Key '4095610040828010659' not in persistent cache.\n",
      "Key '-5998221010000077134' not in persistent cache.\n",
      "Key '8304403093274432317' not in persistent cache.\n",
      "Key '-546707621264000244' not in persistent cache.\n",
      "Key '-1511423537379399665' not in persistent cache.\n",
      "Key '6151765947603526769' not in persistent cache.\n",
      "Key '8188554762443101059' not in persistent cache.\n",
      "Key '-2359105002866259073' not in persistent cache.\n",
      "Key '5304084482116667361' not in persistent cache.\n",
      "Key '-3835071656571054338' not in persistent cache.\n",
      "Key '-835760136663198142' not in persistent cache.\n",
      "Key '-218599940315128533' not in persistent cache.\n",
      "Key '-3908891196268898359' not in persistent cache.\n",
      "Key '3300469574232755736' not in persistent cache.\n",
      "Key '4722026246786821275' not in persistent cache.\n",
      "Key '1220395770112317968' not in persistent cache.\n",
      "Key '8241095761334705544' not in persistent cache.\n",
      "Key '3874344781299961867' not in persistent cache.\n",
      "Key '-7363038521907935654' not in persistent cache.\n",
      "Key '8035903789608384994' not in persistent cache.\n",
      "Key '-3154245469461513996' not in persistent cache.\n",
      "Key '6441387889709605059' not in persistent cache.\n",
      "Key '5476671973594205638' not in persistent cache.\n",
      "Key '-5306882615132419544' not in persistent cache.\n",
      "Key '-3270093800292845254' not in persistent cache.\n",
      "Key '4628990508107346230' not in persistent cache.\n",
      "Key '-6154564080619278952' not in persistent cache.\n",
      "Key '5886939697215975597' not in persistent cache.\n",
      "Key '8886251217123831793' not in persistent cache.\n",
      "Key '-1897303371602793389' not in persistent cache.\n",
      "Key '-5587594627556563215' not in persistent cache.\n",
      "Key '-5424263145689765945' not in persistent cache.\n",
      "Key '-4002706473135700406' not in persistent cache.\n",
      "Key '-7504336949810203713' not in persistent cache.\n",
      "Key '-483636958587816137' not in persistent cache.\n",
      "Key '2195641350012297011' not in persistent cache.\n",
      "Key '2358972831879094281' not in persistent cache.\n",
      "Key '-688828930314136687' not in persistent cache.\n",
      "Key '-4832948900749178852' not in persistent cache.\n",
      "Key '-2283344830212916622' not in persistent cache.\n",
      "Key '-3248060746328316043' not in persistent cache.\n",
      "Key '4415128738654610391' not in persistent cache.\n",
      "Key '6451917553494184681' not in persistent cache.\n",
      "Key '2950287076819681374' not in persistent cache.\n",
      "Key '3567447273167750983' not in persistent cache.\n",
      "Key '6988579584619832432' not in persistent cache.\n",
      "Key '-187691977330183637' not in persistent cache.\n",
      "Key '-2533472575112830745' not in persistent cache.\n",
      "Key '-2818764902426834706' not in persistent cache.\n",
      "Key '-7177260291833263006' not in persistent cache.\n",
      "Key '-7875088315144126982' not in persistent cache.\n",
      "Key '2763484635703750384' not in persistent cache.\n",
      "Key '826612344315660800' not in persistent cache.\n",
      "Key '-6481066132452407981' not in persistent cache.\n",
      "Key '4133044534563632875' not in persistent cache.\n",
      "Key '-5331649415729948983' not in persistent cache.\n",
      "Key '-2367351021109505465' not in persistent cache.\n",
      "Key '-5408050911261942555' not in persistent cache.\n",
      "Key '-2934359787658568422' not in persistent cache.\n",
      "Key '-143324963776305936' not in persistent cache.\n",
      "Key '8393354446662579422' not in persistent cache.\n",
      "Key '-8583029186712544998' not in persistent cache.\n",
      "Key '-7148276515060249729' not in persistent cache.\n",
      "Key '4457213648690777180' not in persistent cache.\n",
      "Key '259248608833398777' not in persistent cache.\n",
      "Key '450462151554567241' not in persistent cache.\n",
      "Key '3194132632506885395' not in persistent cache.\n",
      "Key '6458403201247915022' not in persistent cache.\n",
      "Key '288335410786210076' not in persistent cache.\n",
      "Key '6568724519417924104' not in persistent cache.\n",
      "Key '1705944255800282200' not in persistent cache.\n",
      "Key '-9096701994568463455' not in persistent cache.\n",
      "Key '4031365616981756488' not in persistent cache.\n",
      "Key '-3130453733639507192' not in persistent cache.\n",
      "Key '936621688884344150' not in persistent cache.\n",
      "Key '1470846796001075328' not in persistent cache.\n",
      "Key '-9216040486001012205' not in persistent cache.\n",
      "Key '2433569272870200337' not in persistent cache.\n",
      "Key '7713124040138452450' not in persistent cache.\n",
      "Key '-2841825079856702086' not in persistent cache.\n",
      "Key '-2790745663161059719' not in persistent cache.\n",
      "Key '-3243893619175264571' not in persistent cache.\n",
      "Key '-6926049759651443407' not in persistent cache.\n",
      "Key '-5486659512930570577' not in persistent cache.\n",
      "Key '-1071340491740102682' not in persistent cache.\n",
      "Key '1397238335579832939' not in persistent cache.\n",
      "Key '-8001254246804050677' not in persistent cache.\n",
      "Key '-2845241408736308450' not in persistent cache.\n",
      "Key '2184811818010562430' not in persistent cache.\n",
      "Key '2050141213770819553' not in persistent cache.\n",
      "Key '-7121437238205054596' not in persistent cache.\n",
      "Key '3760897591844285229' not in persistent cache.\n",
      "Key '-7078770626619547839' not in persistent cache.\n",
      "Key '-721520460567364394' not in persistent cache.\n",
      "Key '-7607975284244690415' not in persistent cache.\n",
      "Key '-4760765787314120760' not in persistent cache.\n",
      "Key '124811723204049740' not in persistent cache.\n",
      "Key '4376990059905683322' not in persistent cache.\n",
      "Key '2016059611567830372' not in persistent cache.\n",
      "Key '5348550509938943273' not in persistent cache.\n",
      "Key '1288736974429486271' not in persistent cache.\n",
      "Key '2621769213523293918' not in persistent cache.\n",
      "Key '-7809605831269024658' not in persistent cache.\n",
      "Key '-1159920659014015037' not in persistent cache.\n",
      "Key '-2389893992712630596' not in persistent cache.\n",
      "Key '-7861870051255406005' not in persistent cache.\n",
      "Key '7193979347256908170' not in persistent cache.\n",
      "Key '3999908690191369537' not in persistent cache.\n",
      "Key '-8312405636035238439' not in persistent cache.\n",
      "Key '-6735172979804760681' not in persistent cache.\n",
      "Key '4680761537058067707' not in persistent cache.\n",
      "Key '-6556621766149829814' not in persistent cache.\n",
      "Key '1796291256731634009' not in persistent cache.\n",
      "Key '-2347828713703408156' not in persistent cache.\n",
      "Key '7247804645467710899' not in persistent cache.\n",
      "Key '6283088729352311478' not in persistent cache.\n",
      "Key '-4500465859374313704' not in persistent cache.\n",
      "Key '-2463677044534739414' not in persistent cache.\n",
      "Key '5435407263865452070' not in persistent cache.\n",
      "Key '-5348147324861173112' not in persistent cache.\n",
      "Key '322383150133450411' not in persistent cache.\n",
      "Key '7720052053025674735' not in persistent cache.\n",
      "Key '3938854866389376216' not in persistent cache.\n",
      "Key '248563610435606390' not in persistent cache.\n",
      "Key '7457924380937260485' not in persistent cache.\n",
      "Key '8879481053491326024' not in persistent cache.\n",
      "Key '2730178671166334020' not in persistent cache.\n",
      "Key '-6048193505670341323' not in persistent cache.\n",
      "Key '8031799588004466616' not in persistent cache.\n",
      "Key '-3205583715203430905' not in persistent cache.\n",
      "Key '5147329307678032918' not in persistent cache.\n",
      "Key '5401566720227358881' not in persistent cache.\n",
      "Key '-7847901377295441808' not in persistent cache.\n",
      "Key '-4414259910426473101' not in persistent cache.\n",
      "Key '-1149427808427914795' not in persistent cache.\n",
      "Key '887361006411659495' not in persistent cache.\n",
      "Key '-5261941375913332509' not in persistent cache.\n",
      "Key '-1997109273914774203' not in persistent cache.\n",
      "Key '1790834355598485175' not in persistent cache.\n",
      "Key '-2255883413128515454' not in persistent cache.\n",
      "Key '5407306071854410980' not in persistent cache.\n",
      "Key '1717014815900641154' not in persistent cache.\n",
      "Key '8926375586402295249' not in persistent cache.\n",
      "Key '-8098811814753190828' not in persistent cache.\n",
      "Key '-199727506352999344' not in persistent cache.\n",
      "Key '6820972484869388232' not in persistent cache.\n",
      "Key '-8946493280240050236' not in persistent cache.\n",
      "Key '-1737132509738396141' not in persistent cache.\n",
      "Key '6615780513143067682' not in persistent cache.\n",
      "Key '2471660542708025517' not in persistent cache.\n",
      "Key '5021264613244287747' not in persistent cache.\n",
      "Key '-7344166087945806465' not in persistent cache.\n",
      "Key '319023397037119969' not in persistent cache.\n",
      "Key '2355812211876694259' not in persistent cache.\n",
      "Key '-8191847553432665873' not in persistent cache.\n",
      "Key '-528658068449739439' not in persistent cache.\n",
      "Key '7835305108196988796' not in persistent cache.\n",
      "Key '-7612127445604706624' not in persistent cache.\n",
      "Key '-6994967249256637015' not in persistent cache.\n",
      "Key '7761485568499144775' not in persistent cache.\n",
      "Key '-3475897734708752746' not in persistent cache.\n",
      "Key '-2054341062154687207' not in persistent cache.\n",
      "Key '-5555971538829190514' not in persistent cache.\n",
      "Key '1464728452393197062' not in persistent cache.\n",
      "Key '-2902022527641546615' not in persistent cache.\n",
      "Key '4307338242860107480' not in persistent cache.\n",
      "Key '-5786492807967980313' not in persistent cache.\n",
      "Key '8516131295306529138' not in persistent cache.\n",
      "Key '-334979419231903423' not in persistent cache.\n",
      "Key '-1299695335347302844' not in persistent cache.\n",
      "Key '6363494149635623590' not in persistent cache.\n",
      "Key '8400282964475197880' not in persistent cache.\n",
      "Key '-2147376800834162252' not in persistent cache.\n",
      "Key '5515812684148764182' not in persistent cache.\n",
      "Key '5200321560392512130' not in persistent cache.\n",
      "Key '5551961174649879629' not in persistent cache.\n",
      "Key '8816793276648437935' not in persistent cache.\n",
      "Key '5126502020694668109' not in persistent cache.\n",
      "Key '-6110881282513229412' not in persistent cache.\n",
      "Key '-4689324609959163873' not in persistent cache.\n",
      "Key '7608117081425395739' not in persistent cache.\n",
      "Key '-8216284384046136429' not in persistent cache.\n",
      "Key '-5537006075446023281' not in persistent cache.\n",
      "Key '1672354695055630814' not in persistent cache.\n",
      "Key '-8421476355772456979' not in persistent cache.\n",
      "Key '-8167238943223131016' not in persistent cache.\n",
      "Key '8430751818038314702' not in persistent cache.\n",
      "Key '463678499832588618' not in persistent cache.\n",
      "Key '3728510601831146924' not in persistent cache.\n",
      "Key '5765299416670721214' not in persistent cache.\n",
      "Key '-384002965654270790' not in persistent cache.\n",
      "Key '2880829136344287516' not in persistent cache.\n",
      "Key '2421436892900544030' not in persistent cache.\n",
      "Key '-1625280875826456599' not in persistent cache.\n",
      "Key '6037908609156469835' not in persistent cache.\n",
      "Key '2347617353202700009' not in persistent cache.\n",
      "Key '-8889765950005197512' not in persistent cache.\n",
      "Key '-7468209277451131973' not in persistent cache.\n",
      "Key '430875030949059511' not in persistent cache.\n",
      "Key '7451575022171447087' not in persistent cache.\n",
      "Key '-8315890742937991381' not in persistent cache.\n",
      "Key '-1106529972436337286' not in persistent cache.\n",
      "Key '7246383050445126537' not in persistent cache.\n",
      "Key '3102263080010084372' not in persistent cache.\n",
      "Key '-5748847634528348189' not in persistent cache.\n",
      "Key '-6713563550643747610' not in persistent cache.\n",
      "Key '949625934339178824' not in persistent cache.\n",
      "Key '2986414749178753114' not in persistent cache.\n",
      "Key '-7561245016130607018' not in persistent cache.\n",
      "Key '101944468852319416' not in persistent cache.\n",
      "Key '7671746317315466157' not in persistent cache.\n",
      "Key '-7197821676741169458' not in persistent cache.\n",
      "Key '-4198510156833313262' not in persistent cache.\n",
      "Key '3464679328149613172' not in persistent cache.\n",
      "Key '-7271641216439013479' not in persistent cache.\n",
      "Key '-62280445937359384' not in persistent cache.\n",
      "Key '1359276226616706155' not in persistent cache.\n",
      "Key '-2142354250057797152' not in persistent cache.\n",
      "Key '4878345741164590424' not in persistent cache.\n",
      "Key '7557624049764703572' not in persistent cache.\n",
      "Key '7720955531631500842' not in persistent cache.\n",
      "Key '4673153769438269874' not in persistent cache.\n",
      "Key '-6516995489631629116' not in persistent cache.\n",
      "Key '3078637869539489939' not in persistent cache.\n",
      "Key '2113921953424090518' not in persistent cache.\n",
      "Key '-8669632635302534664' not in persistent cache.\n",
      "Key '-6632843820462960374' not in persistent cache.\n",
      "Key '8312269776572087935' not in persistent cache.\n",
      "Key '8929429972920157544' not in persistent cache.\n",
      "Key '7623576906164891975' not in persistent cache.\n",
      "Key '-7823855647636803445' not in persistent cache.\n",
      "Key '-7206695451288733836' not in persistent cache.\n",
      "Key '7549757366467047954' not in persistent cache.\n",
      "Key '-3687625936740849567' not in persistent cache.\n",
      "Key '-2266069264186784028' not in persistent cache.\n",
      "Key '5633015044213407456' not in persistent cache.\n",
      "Key '1253000250361100241' not in persistent cache.\n",
      "Key '-3113750729673643436' not in persistent cache.\n",
      "Key '4095610040828010659' not in persistent cache.\n",
      "Key '-5998221010000077134' not in persistent cache.\n",
      "Key '8304403093274432317' not in persistent cache.\n",
      "Key '-546707621264000244' not in persistent cache.\n",
      "Key '-1511423537379399665' not in persistent cache.\n",
      "Key '6151765947603526769' not in persistent cache.\n",
      "Key '8188554762443101059' not in persistent cache.\n",
      "Key '-2359105002866259073' not in persistent cache.\n",
      "Key '5304084482116667361' not in persistent cache.\n",
      "Key '-3835071656571054338' not in persistent cache.\n",
      "Key '-835760136663198142' not in persistent cache.\n",
      "Key '-218599940315128533' not in persistent cache.\n",
      "Key '-3908891196268898359' not in persistent cache.\n",
      "Key '3300469574232755736' not in persistent cache.\n",
      "Key '4722026246786821275' not in persistent cache.\n",
      "Key '1220395770112317968' not in persistent cache.\n",
      "Key '8241095761334705544' not in persistent cache.\n",
      "Key '3874344781299961867' not in persistent cache.\n",
      "Key '-7363038521907935654' not in persistent cache.\n",
      "Key '8035903789608384994' not in persistent cache.\n",
      "Key '-3154245469461513996' not in persistent cache.\n",
      "Key '6441387889709605059' not in persistent cache.\n",
      "Key '5476671973594205638' not in persistent cache.\n",
      "Key '-5306882615132419544' not in persistent cache.\n",
      "Key '-3270093800292845254' not in persistent cache.\n",
      "Key '4628990508107346230' not in persistent cache.\n",
      "Key '-6154564080619278952' not in persistent cache.\n",
      "Key '5886939697215975597' not in persistent cache.\n",
      "Key '8886251217123831793' not in persistent cache.\n",
      "Key '-1897303371602793389' not in persistent cache.\n",
      "Key '-5587594627556563215' not in persistent cache.\n",
      "Key '-5424263145689765945' not in persistent cache.\n",
      "Key '-4002706473135700406' not in persistent cache.\n",
      "Key '-7504336949810203713' not in persistent cache.\n",
      "Key '-483636958587816137' not in persistent cache.\n",
      "Key '2195641350012297011' not in persistent cache.\n",
      "Key '2358972831879094281' not in persistent cache.\n",
      "Key '-688828930314136687' not in persistent cache.\n",
      "Key '-4832948900749178852' not in persistent cache.\n",
      "Key '-2283344830212916622' not in persistent cache.\n",
      "Key '-3248060746328316043' not in persistent cache.\n",
      "Key '4415128738654610391' not in persistent cache.\n",
      "Key '6451917553494184681' not in persistent cache.\n",
      "Key '2950287076819681374' not in persistent cache.\n",
      "Key '3567447273167750983' not in persistent cache.\n",
      "Key '6988579584619832432' not in persistent cache.\n",
      "Key '-187691977330183637' not in persistent cache.\n",
      "Key '-2533472575112830745' not in persistent cache.\n",
      "Key '-2818764902426834706' not in persistent cache.\n",
      "Key '-7177260291833263006' not in persistent cache.\n",
      "Key '-7875088315144126982' not in persistent cache.\n",
      "Key '2763484635703750384' not in persistent cache.\n",
      "Key '826612344315660800' not in persistent cache.\n",
      "Key '-6481066132452407981' not in persistent cache.\n",
      "Key '4133044534563632875' not in persistent cache.\n",
      "Key '-5331649415729948983' not in persistent cache.\n",
      "Key '-2367351021109505465' not in persistent cache.\n",
      "Key '-5408050911261942555' not in persistent cache.\n",
      "Key '-2934359787658568422' not in persistent cache.\n",
      "Key '-143324963776305936' not in persistent cache.\n",
      "Key '8393354446662579422' not in persistent cache.\n",
      "Key '-8583029186712544998' not in persistent cache.\n",
      "Key '-7148276515060249729' not in persistent cache.\n",
      "Key '4457213648690777180' not in persistent cache.\n",
      "Key '259248608833398777' not in persistent cache.\n",
      "Key '450462151554567241' not in persistent cache.\n",
      "Key '3194132632506885395' not in persistent cache.\n",
      "Key '6458403201247915022' not in persistent cache.\n",
      "Key '288335410786210076' not in persistent cache.\n",
      "Key '6568724519417924104' not in persistent cache.\n",
      "Key '1705944255800282200' not in persistent cache.\n",
      "Key '-9096701994568463455' not in persistent cache.\n",
      "Key '4031365616981756488' not in persistent cache.\n",
      "Key '-3130453733639507192' not in persistent cache.\n",
      "Key '936621688884344150' not in persistent cache.\n",
      "Key '1470846796001075328' not in persistent cache.\n",
      "Key '-9216040486001012205' not in persistent cache.\n",
      "Key '2433569272870200337' not in persistent cache.\n",
      "Key '7713124040138452450' not in persistent cache.\n",
      "Key '-2841825079856702086' not in persistent cache.\n",
      "Key '-2790745663161059719' not in persistent cache.\n",
      "Key '-3243893619175264571' not in persistent cache.\n",
      "Key '-6926049759651443407' not in persistent cache.\n",
      "Key '-5486659512930570577' not in persistent cache.\n",
      "Key '-1071340491740102682' not in persistent cache.\n",
      "Key '1397238335579832939' not in persistent cache.\n",
      "Key '-8001254246804050677' not in persistent cache.\n",
      "Key '-2845241408736308450' not in persistent cache.\n",
      "Key '2184811818010562430' not in persistent cache.\n",
      "Key '2050141213770819553' not in persistent cache.\n",
      "Key '-7121437238205054596' not in persistent cache.\n",
      "Key '3760897591844285229' not in persistent cache.\n",
      "Key '-7078770626619547839' not in persistent cache.\n",
      "Key '-721520460567364394' not in persistent cache.\n",
      "Key '-7607975284244690415' not in persistent cache.\n",
      "Key '-4760765787314120760' not in persistent cache.\n",
      "Key '124811723204049740' not in persistent cache.\n",
      "Key '4376990059905683322' not in persistent cache.\n",
      "Key '2016059611567830372' not in persistent cache.\n",
      "Key '5348550509938943273' not in persistent cache.\n",
      "Key '1288736974429486271' not in persistent cache.\n",
      "Key '2621769213523293918' not in persistent cache.\n",
      "Key '-7809605831269024658' not in persistent cache.\n",
      "Key '-1159920659014015037' not in persistent cache.\n",
      "Key '-2389893992712630596' not in persistent cache.\n",
      "Key '-7861870051255406005' not in persistent cache.\n",
      "Key '7193979347256908170' not in persistent cache.\n",
      "Key '3999908690191369537' not in persistent cache.\n",
      "Key '-8312405636035238439' not in persistent cache.\n",
      "Key '-6735172979804760681' not in persistent cache.\n"
     ]
    },
    {
     "data": {
      "text/plain": [
       "  id  value\n",
       "----  -------------------------------\n",
       "   1  Agriculture & Rural Development\n",
       "   2  Aid Effectiveness\n",
       "   3  Economy & Growth\n",
       "   4  Education\n",
       "   5  Energy & Mining\n",
       "   6  Environment\n",
       "   7  Financial Sector\n",
       "   8  Health\n",
       "   9  Infrastructure\n",
       "  10  Social Protection & Labor\n",
       "  11  Poverty\n",
       "  12  Private Sector\n",
       "  13  Public Sector\n",
       "  14  Science & Technology\n",
       "  15  Social Development\n",
       "  16  Urban Development\n",
       "  17  Gender\n",
       "  18  Millenium development goals\n",
       "  19  Climate Change\n",
       "  20  External Debt\n",
       "  21  Trade"
      ]
     },
     "execution_count": 3,
     "metadata": {},
     "output_type": "execute_result"
    }
   ],
   "source": [
    "import wbdata\n",
    "wbdata.get_topics()"
   ]
  },
  {
   "cell_type": "code",
   "execution_count": 4,
   "id": "11a8c885-a912-411f-b4fc-36d9fa401101",
   "metadata": {},
   "outputs": [],
   "source": [
    "import pandas as pd\n",
    "import numpy as np"
   ]
  },
  {
   "cell_type": "code",
   "execution_count": 5,
   "id": "a6be8c7f-7920-4270-90e0-90bf24829787",
   "metadata": {
    "scrolled": true
   },
   "outputs": [
    {
     "data": {
      "text/plain": [
       "  id  name\n",
       "----  --------------------------------------------------------------------\n",
       "   1  Doing Business\n",
       "   2  World Development Indicators\n",
       "   3  Worldwide Governance Indicators\n",
       "   5  Subnational Malnutrition Database\n",
       "   6  International Debt Statistics\n",
       "  11  Africa Development Indicators\n",
       "  12  Education Statistics\n",
       "  13  Enterprise Surveys\n",
       "  14  Gender Statistics\n",
       "  15  Global Economic Monitor\n",
       "  16  Health Nutrition and Population Statistics\n",
       "  18  IDA Results Measurement System\n",
       "  19  Millennium Development Goals\n",
       "  20  Quarterly Public Sector Debt\n",
       "  22  Quarterly External Debt Statistics SDDS\n",
       "  23  Quarterly External Debt Statistics GDDS\n",
       "  25  Jobs\n",
       "  27  Global Economic Prospects\n",
       "  28  Global Financial Inclusion\n",
       "  29  The Atlas of Social Protection: Indicators of Resilience and Equity\n",
       "  30  Exporter Dynamics Database – Indicators at Country-Year Level\n",
       "  31  Country Policy and Institutional Assessment\n",
       "  32  Global Financial Development\n",
       "  33  G20 Financial Inclusion Indicators\n",
       "  34  Global Partnership for Education\n",
       "  35  Sustainable Energy for All\n",
       "  37  LAC Equity Lab\n",
       "  38  Subnational Poverty\n",
       "  39  Health Nutrition and Population Statistics by Wealth Quintile\n",
       "  40  Population estimates and projections\n",
       "  41  Country Partnership Strategy for India (FY2013 - 17)\n",
       "  43  Adjusted Net Savings\n",
       "  45  Indonesia Database for Policy and Economic Research\n",
       "  46  Sustainable Development Goals\n",
       "  50  Subnational Population\n",
       "  54  Joint External Debt Hub\n",
       "  57  WDI Database Archives\n",
       "  58  Universal Health Coverage\n",
       "  59  Wealth Accounts\n",
       "  60  Economic Fitness\n",
       "  61  PPPs Regulatory Quality\n",
       "  62  International Comparison Program (ICP) 2011\n",
       "  63  Human Capital Index\n",
       "  64  Worldwide Bureaucracy Indicators\n",
       "  65  Health Equity and Financial Protection Indicators\n",
       "  66  Logistics Performance Index\n",
       "  67  PEFA 2011\n",
       "  68  PEFA 2016\n",
       "  69  Global Financial Inclusion and Consumer Protection Survey\n",
       "  70  Economic Fitness 2\n",
       "  71  International Comparison Program (ICP) 2005\n",
       "  73  Global Financial Inclusion and Consumer Protection Survey (Internal)\n",
       "  75  Environment, Social and Governance (ESG) Data\n",
       "  76  Remittance Prices Worldwide (Sending Countries)\n",
       "  77  Remittance Prices Worldwide (Receiving Countries)\n",
       "  78  ICP 2017\n",
       "  79  PEFA_GRPFM\n",
       "  80  Gender Disaggregated Labor Database (GDLD)\n",
       "  81  International Debt Statistics: DSSI\n",
       "  82  Global Public Procurement\n",
       "  83  Statistical Performance Indicators (SPI)\n",
       "  84  Education Policy\n",
       "  85  PEFA_2021_SNG\n",
       "  86  Global Jobs Indicators Database (JOIN)\n",
       "  87  Country Climate and Development Report (CCDR)\n",
       "  88  Food Prices for Nutrition\n",
       "  89  Identification for Development (ID4D) Data\n",
       "  90  ICP 2021\n",
       "  91  PEFA_CRPFM"
      ]
     },
     "execution_count": 5,
     "metadata": {},
     "output_type": "execute_result"
    }
   ],
   "source": [
    "wbdata.get_sources()"
   ]
  },
  {
   "cell_type": "code",
   "execution_count": 6,
   "id": "b45070da-7ebb-490e-aeb3-5a03335021a9",
   "metadata": {
    "scrolled": true
   },
   "outputs": [
    {
     "data": {
      "text/plain": [
       "id                 name\n",
       "-----------------  -------------------------------------------------------------------\n",
       "SH.DTH.0509        Number of deaths ages 5-9 years\n",
       "SH.DTH.0514        Number of deaths ages 5-14 years\n",
       "SH.DTH.1014        Number of deaths ages 10-14 years\n",
       "SH.DTH.1019        Number of deaths ages 10-19 years\n",
       "SH.DTH.1519        Number of deaths ages 15-19 years\n",
       "SH.DTH.2024        Number of deaths ages 20-24 years\n",
       "SH.DTH.IMRT        Number of infant deaths\n",
       "SH.DTH.IMRT.FE     Number of infant deaths, female\n",
       "SH.DTH.IMRT.MA     Number of infant deaths, male\n",
       "SH.DTH.MORT        Number of under-five deaths\n",
       "SH.DTH.MORT.FE     Number of under-five deaths, female\n",
       "SH.DTH.MORT.MA     Number of under-five deaths, male\n",
       "SH.DTH.NMRT        Number of neonatal deaths\n",
       "SH.DYN.0509        Probability of dying among children ages 5-9 years (per 1,000)\n",
       "SH.DYN.0514        Probability of dying at age 5-14 years (per 1,000 children age 5)\n",
       "SH.DYN.1014        Probability of dying among adolescents ages 10-14 years (per 1,000)\n",
       "SH.DYN.1019        Probability of dying among adolescents ages 10-19 years (per 1,000)\n",
       "SH.DYN.1519        Probability of dying among adolescents ages 15-19 years (per 1,000)\n",
       "SH.DYN.2024        Probability of dying among youth ages 20-24 years (per 1,000)\n",
       "SH.DYN.MORT        Mortality rate, under-5 (per 1,000 live births)\n",
       "SH.DYN.MORT.FE     Mortality rate, under-5, female (per 1,000 live births)\n",
       "SH.DYN.MORT.MA     Mortality rate, under-5, male (per 1,000 live births)\n",
       "SH.DYN.NMRT        Mortality rate, neonatal (per 1,000 live births)\n",
       "SM.POP.NETM        Net migration\n",
       "SP.DYN.AMRT.FE     Mortality rate, adult, female (per 1,000 female adults)\n",
       "SP.DYN.AMRT.MA     Mortality rate, adult, male (per 1,000 male adults)\n",
       "SP.DYN.CBRT.IN     Birth rate, crude (per 1,000 people)\n",
       "SP.DYN.CDRT.IN     Death rate, crude (per 1,000 people)\n",
       "SP.DYN.IMRT.FE.IN  Mortality rate, infant, female (per 1,000 live births)\n",
       "SP.DYN.IMRT.IN     Mortality rate, infant (per 1,000 live births)\n",
       "SP.DYN.IMRT.MA.IN  Mortality rate, infant, male (per 1,000 live births)\n",
       "SP.DYN.LE00.FE.IN  Life expectancy at birth, female (years)\n",
       "SP.DYN.LE00.IN     Life expectancy at birth, total (years)\n",
       "SP.DYN.LE00.MA.IN  Life expectancy at birth, male (years)\n",
       "SP.DYN.TFRT.IN     Fertility rate, total (births per woman)\n",
       "SP.POP.0004.FE     Population ages 00-04, female\n",
       "SP.POP.0004.FE.5Y  Population ages 00-04, female (% of female population)\n",
       "SP.POP.0004.MA     Population ages 00-04, male\n",
       "SP.POP.0004.MA.5Y  Population ages 00-04, male (% of male population)\n",
       "SP.POP.0014.FE.IN  Population ages 0-14, female\n",
       "SP.POP.0014.FE.ZS  Population ages 0-14, female (% of female population)\n",
       "SP.POP.0014.MA.IN  Population ages 0-14, male\n",
       "SP.POP.0014.MA.ZS  Population ages 0-14, male (% of male population)\n",
       "SP.POP.0014.TO     Population ages 0-14, total\n",
       "SP.POP.0014.TO.ZS  Population ages 0-14 (% of total population)\n",
       "SP.POP.0509.FE     Population ages 05-09, female\n",
       "SP.POP.0509.FE.5Y  Population ages 05-09, female (% of female population)\n",
       "SP.POP.0509.MA     Population ages 05-09, male\n",
       "SP.POP.0509.MA.5Y  Population ages 05-09, male (% of male population)\n",
       "SP.POP.1014.FE     Population ages 10-14, female\n",
       "SP.POP.1014.FE.5Y  Population ages 10-14, female (% of female population)\n",
       "SP.POP.1014.MA     Population ages 10-14, male\n",
       "SP.POP.1014.MA.5Y  Population ages 10-14, male (% of male population)\n",
       "SP.POP.1519.FE     Population ages 15-19, female\n",
       "SP.POP.1519.FE.5Y  Population ages 15-19, female (% of female population)\n",
       "SP.POP.1519.MA     Population ages 15-19, male\n",
       "SP.POP.1519.MA.5Y  Population ages 15-19, male (% of male population)\n",
       "SP.POP.1564.FE.IN  Population ages 15-64, female\n",
       "SP.POP.1564.FE.ZS  Population ages 15-64, female (% of female population)\n",
       "SP.POP.1564.MA.IN  Population ages 15-64, male\n",
       "SP.POP.1564.MA.ZS  Population ages 15-64, male (% of male population)\n",
       "SP.POP.1564.TO     Population ages 15-64, total\n",
       "SP.POP.1564.TO.ZS  Population ages 15-64 (% of total population)\n",
       "SP.POP.2024.FE     Population ages 20-24, female\n",
       "SP.POP.2024.FE.5Y  Population ages 20-24, female (% of female population)\n",
       "SP.POP.2024.MA     Population ages 20-24, male\n",
       "SP.POP.2024.MA.5Y  Population ages 20-24, male (% of male population)\n",
       "SP.POP.2529.FE     Population ages 25-29, female\n",
       "SP.POP.2529.FE.5Y  Population ages 25-29, female (% of female population)\n",
       "SP.POP.2529.MA     Population ages 25-29, male\n",
       "SP.POP.2529.MA.5Y  Population ages 25-29, male (% of male population)\n",
       "SP.POP.3034.FE     Population ages 30-34, female\n",
       "SP.POP.3034.FE.5Y  Population ages 30-34, female (% of female population)\n",
       "SP.POP.3034.MA     Population ages 30-34, male\n",
       "SP.POP.3034.MA.5Y  Population ages 30-34, male (% of male population)\n",
       "SP.POP.3539.FE     Population ages 35-39, female\n",
       "SP.POP.3539.FE.5Y  Population ages 35-39, female (% of female population)\n",
       "SP.POP.3539.MA     Population ages 35-39, male\n",
       "SP.POP.3539.MA.5Y  Population ages 35-39, male (% of male population)\n",
       "SP.POP.4044.FE     Population ages 40-44, female\n",
       "SP.POP.4044.FE.5Y  Population ages 40-44, female (% of female population)\n",
       "SP.POP.4044.MA     Population ages 40-44, male\n",
       "SP.POP.4044.MA.5Y  Population ages 40-44, male (% of male population)\n",
       "SP.POP.4549.FE     Population ages 45-49, female\n",
       "SP.POP.4549.FE.5Y  Population ages 45-49, female (% of female population)\n",
       "SP.POP.4549.MA     Population ages 45-49, male\n",
       "SP.POP.4549.MA.5Y  Population ages 45-49, male (% of male population)\n",
       "SP.POP.5054.FE     Population ages 50-54, female\n",
       "SP.POP.5054.FE.5Y  Population ages 50-54, female (% of female population)\n",
       "SP.POP.5054.MA     Population ages 50-54, male\n",
       "SP.POP.5054.MA.5Y  Population ages 50-54, male (% of male population)\n",
       "SP.POP.5559.FE     Population ages 55-59, female\n",
       "SP.POP.5559.FE.5Y  Population ages 55-59, female (% of female population)\n",
       "SP.POP.5559.MA     Population ages 55-59, male\n",
       "SP.POP.5559.MA.5Y  Population ages 55-59, male (% of male population)\n",
       "SP.POP.6064.FE     Population ages 60-64, female\n",
       "SP.POP.6064.FE.5Y  Population ages 60-64, female (% of female population)\n",
       "SP.POP.6064.MA     Population ages 60-64, male\n",
       "SP.POP.6064.MA.5Y  Population ages 60-64, male (% of male population)\n",
       "SP.POP.6569.FE     Population ages 65-69, female\n",
       "SP.POP.6569.FE.5Y  Population ages 65-69, female (% of female population)\n",
       "SP.POP.6569.MA     Population ages 65-69, male\n",
       "SP.POP.6569.MA.5Y  Population ages 65-69, male (% of male population)\n",
       "SP.POP.65UP.FE.IN  Population ages 65 and above, female\n",
       "SP.POP.65UP.FE.ZS  Population ages 65 and above, female (% of female population)\n",
       "SP.POP.65UP.MA.IN  Population ages 65 and above, male\n",
       "SP.POP.65UP.MA.ZS  Population ages 65 and above, male (% of male population)\n",
       "SP.POP.65UP.TO     Population ages 65 and above, total\n",
       "SP.POP.65UP.TO.ZS  Population ages 65 and above (% of total population)\n",
       "SP.POP.7074.FE     Population ages 70-74, female\n",
       "SP.POP.7074.FE.5Y  Population ages 70-74, female (% of female population)\n",
       "SP.POP.7074.MA     Population ages 70-74, male\n",
       "SP.POP.7074.MA.5Y  Population ages 70-74, male (% of male population)\n",
       "SP.POP.7579.FE     Population ages 75-79, female\n",
       "SP.POP.7579.FE.5Y  Population ages 75-79, female (% of female population)\n",
       "SP.POP.7579.MA     Population ages 75-79, male\n",
       "SP.POP.7579.MA.5Y  Population ages 75-79, male (% of male population)\n",
       "SP.POP.80UP.FE     Population ages 80 and above, female\n",
       "SP.POP.80UP.FE.5Y  Population ages 80 and above, female (% of female population)\n",
       "SP.POP.80UP.MA     Population ages 80 and above, male\n",
       "SP.POP.80UP.MA.5Y  Population ages 80 and above, male (% of male population)\n",
       "SP.POP.AG00.FE.IN  Age population, age 00, female, interpolated\n",
       "SP.POP.AG00.MA.IN  Age population, age 00, male, interpolated\n",
       "SP.POP.AG01.FE.IN  Age population, age 01, female, interpolated\n",
       "SP.POP.AG01.MA.IN  Age population, age 01, male, interpolated\n",
       "SP.POP.AG02.FE.IN  Age population, age 02, female, interpolated\n",
       "SP.POP.AG02.MA.IN  Age population, age 02, male, interpolated\n",
       "SP.POP.AG03.FE.IN  Age population, age 03, female, interpolated\n",
       "SP.POP.AG03.MA.IN  Age population, age 03, male, interpolated\n",
       "SP.POP.AG04.FE.IN  Age population, age 04, female, interpolated\n",
       "SP.POP.AG04.MA.IN  Age population, age 04, male, interpolated\n",
       "SP.POP.AG05.FE.IN  Age population, age 05, female, interpolated\n",
       "SP.POP.AG05.MA.IN  Age population, age 05, male, interpolated\n",
       "SP.POP.AG06.FE.IN  Age population, age 06, female, interpolated\n",
       "SP.POP.AG06.MA.IN  Age population, age 06, male, interpolated\n",
       "SP.POP.AG07.FE.IN  Age population, age 07, female, interpolated\n",
       "SP.POP.AG07.MA.IN  Age population, age 07, male, interpolated\n",
       "SP.POP.AG08.FE.IN  Age population, age 08, female, interpolated\n",
       "SP.POP.AG08.MA.IN  Age population, age 08, male, interpolated\n",
       "SP.POP.AG09.FE.IN  Age population, age 09, female, interpolated\n",
       "SP.POP.AG09.MA.IN  Age population, age 09, male, interpolated\n",
       "SP.POP.AG10.FE.IN  Age population, age 10, female, interpolated\n",
       "SP.POP.AG10.MA.IN  Age population, age 10, male, interpolated\n",
       "SP.POP.AG11.FE.IN  Age population, age 11, female, interpolated\n",
       "SP.POP.AG11.MA.IN  Age population, age 11, male, interpolated\n",
       "SP.POP.AG12.FE.IN  Age population, age 12, female, interpolated\n",
       "SP.POP.AG12.MA.IN  Age population, age 12, male, interpolated\n",
       "SP.POP.AG13.FE.IN  Age population, age 13, female, interpolated\n",
       "SP.POP.AG13.MA.IN  Age population, age 13, male, interpolated\n",
       "SP.POP.AG14.FE.IN  Age population, age 14, female, interpolated\n",
       "SP.POP.AG14.MA.IN  Age population, age 14, male, interpolated\n",
       "SP.POP.AG15.FE.IN  Age population, age 15, female, interpolated\n",
       "SP.POP.AG15.MA.IN  Age population, age 15, male, interpolated\n",
       "SP.POP.AG16.FE.IN  Age population, age 16, female, interpolated\n",
       "SP.POP.AG16.MA.IN  Age population, age 16, male, interpolated\n",
       "SP.POP.AG17.FE.IN  Age population, age 17, female, interpolated\n",
       "SP.POP.AG17.MA.IN  Age population, age 17, male, interpolated\n",
       "SP.POP.AG18.FE.IN  Age population, age 18, female, interpolated\n",
       "SP.POP.AG18.MA.IN  Age population, age 18, male, interpolated\n",
       "SP.POP.AG19.FE.IN  Age population, age 19, female, interpolated\n",
       "SP.POP.AG19.MA.IN  Age population, age 19, male, interpolated\n",
       "SP.POP.AG20.FE.IN  Age population, age 20, female, interpolated\n",
       "SP.POP.AG20.MA.IN  Age population, age 20, male, interpolated\n",
       "SP.POP.AG21.FE.IN  Age population, age 21, female, interpolated\n",
       "SP.POP.AG21.MA.IN  Age population, age 21, male, interpolated\n",
       "SP.POP.AG22.FE.IN  Age population, age 22, female, interpolated\n",
       "SP.POP.AG22.MA.IN  Age population, age 22, male, interpolated\n",
       "SP.POP.AG23.FE.IN  Age population, age 23, female, interpolated\n",
       "SP.POP.AG23.MA.IN  Age population, age 23, male, interpolated\n",
       "SP.POP.AG24.FE.IN  Age population, age 24, female, interpolated\n",
       "SP.POP.AG24.MA.IN  Age population, age 24, male, interpolated\n",
       "SP.POP.AG25.FE.IN  Age population, age 25, female, interpolated\n",
       "SP.POP.AG25.MA.IN  Age population, age 25, male, interpolated\n",
       "SP.POP.BRTH.MF     Sex ratio at birth (male births per female births)\n",
       "SP.POP.DPND        Age dependency ratio (% of working-age population)\n",
       "SP.POP.DPND.OL     Age dependency ratio, old (% of working-age population)\n",
       "SP.POP.DPND.YG     Age dependency ratio, young (% of working-age population)\n",
       "SP.POP.GROW        Population growth (annual %)\n",
       "SP.POP.TOTL        Population, total\n",
       "SP.POP.TOTL.FE.IN  Population, female\n",
       "SP.POP.TOTL.FE.ZS  Population, female (% of total population)\n",
       "SP.POP.TOTL.MA.IN  Population, male\n",
       "SP.POP.TOTL.MA.ZS  Population, male (% of total population)\n",
       "SP.RUR.TOTL        Rural population\n",
       "SP.RUR.TOTL.ZG     Rural population growth (annual %)\n",
       "SP.RUR.TOTL.ZS     Rural population (% of total population)\n",
       "SP.URB.GROW        Urban population growth (annual %)\n",
       "SP.URB.TOTL        Urban population\n",
       "SP.URB.TOTL.IN.ZS  Urban population (% of total population)"
      ]
     },
     "execution_count": 6,
     "metadata": {},
     "output_type": "execute_result"
    }
   ],
   "source": [
    "indicators = wbdata.get_indicators(source=40)\n",
    "indicators"
   ]
  },
  {
   "cell_type": "code",
   "execution_count": 7,
   "id": "259d065c-5f78-42ab-8adf-f0da55baffe7",
   "metadata": {},
   "outputs": [],
   "source": [
    "sexdict = {'Male':'MA', 'Female':'FE'}\n",
    "def population(year,sex,age_range,place):\n",
    "    lower, upper = age_range[0], age_range[1]\n",
    "    if upper > 80:\n",
    "        upper = 'UP'\n",
    "    if upper == lower + 4:\n",
    "        label = f'SP.POP.{lower:02d}{upper}.{sexdict[sex]}.IN'\n",
    "        df = wbdata.get_dataframe(label,country=place,parse_dates=True)\n",
    "    else:\n",
    "        yrs = [(x, x+4) for x in range(lower, upper, 5)]\n",
    "        ranges = [f'{x[0]:02d}{x[1]:02d}' for x in yrs]\n",
    "        var = [f\"SP.POP.{x}.{sexdict[sex]}\" for x in ranges]\n",
    "        feed = {x: f\"{sex} {ranges[var.index(x)]}\" for x in var} # constructs variable dictionary to be fed to wbdata\n",
    "        \n",
    "        df = wbdata.get_dataframe(feed,country=place,parse_dates=True).reset_index()\n",
    "        df = df[df['date'] == f'{year}-01-01'] # selecting relevant year\n",
    "        df.drop('date', axis=1, inplace=True)\n",
    "        extra = ((yrs[-1][1] - upper) / 5) * (df.iloc[:,-1].to_list()[0]) # controls for age ranges not on bounds, could change to \n",
    "                                                                          # year by year subtraction)\n",
    "    return df.sum(axis=1) - extra"
   ]
  },
  {
   "cell_type": "code",
   "execution_count": 8,
   "id": "404dc3c7-9388-495e-877c-76b69ef6fa7e",
   "metadata": {
    "scrolled": true
   },
   "outputs": [
    {
     "data": {
      "text/plain": [
       "33    263801536.6\n",
       "dtype: float64"
      ]
     },
     "execution_count": 8,
     "metadata": {},
     "output_type": "execute_result"
    }
   ],
   "source": [
    "population(1990, 'Male', (10,33), 'CHN')"
   ]
  },
  {
   "cell_type": "code",
   "execution_count": 9,
   "id": "1902b851-18de-4fc2-8021-5e9265c054fd",
   "metadata": {},
   "outputs": [],
   "source": [
    "def population_data_frames(year, sex, age_range, place):\n",
    "    lower, upper = age_range[0], age_range[1]\n",
    "    assert upper >= lower, \"Invalid date range!\" #Part of Deliverable 2\n",
    "    assert sex in [\"Male\", \"Female\", \"Both\"], \"Invalid sex Please use one of the following: Male, Female, Both\"\n",
    "    if sex == \"Both\":\n",
    "        return population_data_frames(year,\"Male\",age_range,place).merge(population_data_frames(year,\"Female\",age_range,place), on=\"date\")\n",
    "    if upper > 80:\n",
    "        upper = 'UP'\n",
    "    if upper == lower + 4:\n",
    "        label = f'SP.POP.{lower:02d}{upper}.{sexdict[sex]}.IN'\n",
    "        df = wbdata.get_dataframe(label,country=place,parse_dates=True)\n",
    "    else:\n",
    "        yrs = [(x, x+4) for x in range(lower, upper, 5)]\n",
    "        ranges = [f'{x[0]:02d}{x[1]:02d}' for x in yrs]\n",
    "        var = [f\"SP.POP.{x}.{sexdict[sex]}\" for x in ranges]\n",
    "        feed = {x: f\"{sex} {ranges[var.index(x)]}\" for x in var} # constructs variable dictionary to be fed to wbdata\n",
    "        \n",
    "        df = wbdata.get_dataframe(feed,country=place,parse_dates=True).reset_index()\n",
    "        df['country'] = place\n",
    "        df.set_index(['country', 'date'], inplace=True)\n",
    "    return df"
   ]
  },
  {
   "cell_type": "code",
   "execution_count": 10,
   "id": "0429935c-d631-4614-9bd3-633f66b237aa",
   "metadata": {},
   "outputs": [
    {
     "data": {
      "text/html": [
       "<div>\n",
       "<style scoped>\n",
       "    .dataframe tbody tr th:only-of-type {\n",
       "        vertical-align: middle;\n",
       "    }\n",
       "\n",
       "    .dataframe tbody tr th {\n",
       "        vertical-align: top;\n",
       "    }\n",
       "\n",
       "    .dataframe thead th {\n",
       "        text-align: right;\n",
       "    }\n",
       "</style>\n",
       "<table border=\"1\" class=\"dataframe\">\n",
       "  <thead>\n",
       "    <tr style=\"text-align: right;\">\n",
       "      <th></th>\n",
       "      <th></th>\n",
       "      <th>Male 0004</th>\n",
       "      <th>Male 0509</th>\n",
       "      <th>Male 1014</th>\n",
       "      <th>Male 1519</th>\n",
       "      <th>Male 2024</th>\n",
       "      <th>Male 2529</th>\n",
       "      <th>Male 3034</th>\n",
       "      <th>Male 3539</th>\n",
       "      <th>Male 4044</th>\n",
       "      <th>Male 4549</th>\n",
       "      <th>Male 5054</th>\n",
       "      <th>Male 5559</th>\n",
       "      <th>Male 6064</th>\n",
       "      <th>Male 6569</th>\n",
       "      <th>Male 7074</th>\n",
       "      <th>Male 7579</th>\n",
       "    </tr>\n",
       "    <tr>\n",
       "      <th>country</th>\n",
       "      <th>date</th>\n",
       "      <th></th>\n",
       "      <th></th>\n",
       "      <th></th>\n",
       "      <th></th>\n",
       "      <th></th>\n",
       "      <th></th>\n",
       "      <th></th>\n",
       "      <th></th>\n",
       "      <th></th>\n",
       "      <th></th>\n",
       "      <th></th>\n",
       "      <th></th>\n",
       "      <th></th>\n",
       "      <th></th>\n",
       "      <th></th>\n",
       "      <th></th>\n",
       "    </tr>\n",
       "  </thead>\n",
       "  <tbody>\n",
       "    <tr>\n",
       "      <th rowspan=\"11\" valign=\"top\">CHN</th>\n",
       "      <th>2023-01-01</th>\n",
       "      <td>30390275.0</td>\n",
       "      <td>46921541.0</td>\n",
       "      <td>47697475.0</td>\n",
       "      <td>43619845.0</td>\n",
       "      <td>42690196.0</td>\n",
       "      <td>45996968.0</td>\n",
       "      <td>58571312.0</td>\n",
       "      <td>58164459.0</td>\n",
       "      <td>50128672.0</td>\n",
       "      <td>49849324.0</td>\n",
       "      <td>61288205.0</td>\n",
       "      <td>56295989.0</td>\n",
       "      <td>36317207.0</td>\n",
       "      <td>36029698.0</td>\n",
       "      <td>26676047.0</td>\n",
       "      <td>15052265.0</td>\n",
       "    </tr>\n",
       "    <tr>\n",
       "      <th>2022-01-01</th>\n",
       "      <td>34407301.0</td>\n",
       "      <td>47977432.0</td>\n",
       "      <td>46945694.0</td>\n",
       "      <td>42880142.0</td>\n",
       "      <td>43079433.0</td>\n",
       "      <td>47322938.0</td>\n",
       "      <td>61347262.0</td>\n",
       "      <td>56040230.0</td>\n",
       "      <td>48623953.0</td>\n",
       "      <td>52814513.0</td>\n",
       "      <td>61302770.0</td>\n",
       "      <td>56011299.0</td>\n",
       "      <td>33543614.0</td>\n",
       "      <td>35762285.0</td>\n",
       "      <td>24926689.0</td>\n",
       "      <td>14205563.0</td>\n",
       "    </tr>\n",
       "    <tr>\n",
       "      <th>2021-01-01</th>\n",
       "      <td>38802141.0</td>\n",
       "      <td>48127269.0</td>\n",
       "      <td>46077575.0</td>\n",
       "      <td>42441714.0</td>\n",
       "      <td>43637348.0</td>\n",
       "      <td>48943931.0</td>\n",
       "      <td>63431979.0</td>\n",
       "      <td>54207913.0</td>\n",
       "      <td>47300851.0</td>\n",
       "      <td>55783379.0</td>\n",
       "      <td>60422799.0</td>\n",
       "      <td>53103266.0</td>\n",
       "      <td>34097647.0</td>\n",
       "      <td>35022489.0</td>\n",
       "      <td>23177262.0</td>\n",
       "      <td>13510140.0</td>\n",
       "    </tr>\n",
       "    <tr>\n",
       "      <th>2020-01-01</th>\n",
       "      <td>42401148.0</td>\n",
       "      <td>48099312.0</td>\n",
       "      <td>45390757.0</td>\n",
       "      <td>42444894.0</td>\n",
       "      <td>44208685.0</td>\n",
       "      <td>51917714.0</td>\n",
       "      <td>63016755.0</td>\n",
       "      <td>52572479.0</td>\n",
       "      <td>47188710.0</td>\n",
       "      <td>58708249.0</td>\n",
       "      <td>59481364.0</td>\n",
       "      <td>47982121.0</td>\n",
       "      <td>36274094.0</td>\n",
       "      <td>33979409.0</td>\n",
       "      <td>21574911.0</td>\n",
       "      <td>13015232.0</td>\n",
       "    </tr>\n",
       "    <tr>\n",
       "      <th>2019-01-01</th>\n",
       "      <td>45006875.0</td>\n",
       "      <td>48004396.0</td>\n",
       "      <td>44534610.0</td>\n",
       "      <td>42626158.0</td>\n",
       "      <td>45014490.0</td>\n",
       "      <td>55706672.0</td>\n",
       "      <td>60783908.0</td>\n",
       "      <td>51377332.0</td>\n",
       "      <td>48144457.0</td>\n",
       "      <td>61076492.0</td>\n",
       "      <td>58472576.0</td>\n",
       "      <td>42984534.0</td>\n",
       "      <td>38374180.0</td>\n",
       "      <td>32428084.0</td>\n",
       "      <td>20069867.0</td>\n",
       "      <td>12627031.0</td>\n",
       "    </tr>\n",
       "    <tr>\n",
       "      <th>...</th>\n",
       "      <td>...</td>\n",
       "      <td>...</td>\n",
       "      <td>...</td>\n",
       "      <td>...</td>\n",
       "      <td>...</td>\n",
       "      <td>...</td>\n",
       "      <td>...</td>\n",
       "      <td>...</td>\n",
       "      <td>...</td>\n",
       "      <td>...</td>\n",
       "      <td>...</td>\n",
       "      <td>...</td>\n",
       "      <td>...</td>\n",
       "      <td>...</td>\n",
       "      <td>...</td>\n",
       "      <td>...</td>\n",
       "    </tr>\n",
       "    <tr>\n",
       "      <th>1964-01-01</th>\n",
       "      <td>53250448.0</td>\n",
       "      <td>48925593.0</td>\n",
       "      <td>45210547.0</td>\n",
       "      <td>32772310.0</td>\n",
       "      <td>27179605.0</td>\n",
       "      <td>26566937.0</td>\n",
       "      <td>24330081.0</td>\n",
       "      <td>21031169.0</td>\n",
       "      <td>18185693.0</td>\n",
       "      <td>15660355.0</td>\n",
       "      <td>13340206.0</td>\n",
       "      <td>10840068.0</td>\n",
       "      <td>8229597.0</td>\n",
       "      <td>5325280.0</td>\n",
       "      <td>3127717.0</td>\n",
       "      <td>1527155.0</td>\n",
       "    </tr>\n",
       "    <tr>\n",
       "      <th>1963-01-01</th>\n",
       "      <td>47951039.0</td>\n",
       "      <td>50749733.0</td>\n",
       "      <td>43265071.0</td>\n",
       "      <td>31245247.0</td>\n",
       "      <td>27269359.0</td>\n",
       "      <td>26878889.0</td>\n",
       "      <td>23871048.0</td>\n",
       "      <td>20785092.0</td>\n",
       "      <td>17811841.0</td>\n",
       "      <td>15758791.0</td>\n",
       "      <td>13103423.0</td>\n",
       "      <td>10794563.0</td>\n",
       "      <td>8016810.0</td>\n",
       "      <td>5346612.0</td>\n",
       "      <td>3103485.0</td>\n",
       "      <td>1514318.0</td>\n",
       "    </tr>\n",
       "    <tr>\n",
       "      <th>1962-01-01</th>\n",
       "      <td>44777918.0</td>\n",
       "      <td>50854256.0</td>\n",
       "      <td>40877563.0</td>\n",
       "      <td>29902774.0</td>\n",
       "      <td>27482213.0</td>\n",
       "      <td>26824171.0</td>\n",
       "      <td>23384228.0</td>\n",
       "      <td>20378091.0</td>\n",
       "      <td>17531795.0</td>\n",
       "      <td>15710166.0</td>\n",
       "      <td>12919455.0</td>\n",
       "      <td>10776768.0</td>\n",
       "      <td>7829214.0</td>\n",
       "      <td>5339866.0</td>\n",
       "      <td>3082473.0</td>\n",
       "      <td>1507571.0</td>\n",
       "    </tr>\n",
       "    <tr>\n",
       "      <th>1961-01-01</th>\n",
       "      <td>46459365.0</td>\n",
       "      <td>50481643.0</td>\n",
       "      <td>38596810.0</td>\n",
       "      <td>29125584.0</td>\n",
       "      <td>27700640.0</td>\n",
       "      <td>26562875.0</td>\n",
       "      <td>23028989.0</td>\n",
       "      <td>20175956.0</td>\n",
       "      <td>17398685.0</td>\n",
       "      <td>15571913.0</td>\n",
       "      <td>12923650.0</td>\n",
       "      <td>10792560.0</td>\n",
       "      <td>7747646.0</td>\n",
       "      <td>5362310.0</td>\n",
       "      <td>3131356.0</td>\n",
       "      <td>1537572.0</td>\n",
       "    </tr>\n",
       "    <tr>\n",
       "      <th>1960-01-01</th>\n",
       "      <td>51416955.0</td>\n",
       "      <td>50098089.0</td>\n",
       "      <td>36823111.0</td>\n",
       "      <td>29027168.0</td>\n",
       "      <td>28092415.0</td>\n",
       "      <td>26459425.0</td>\n",
       "      <td>22874774.0</td>\n",
       "      <td>20178976.0</td>\n",
       "      <td>17445180.0</td>\n",
       "      <td>15573208.0</td>\n",
       "      <td>13126586.0</td>\n",
       "      <td>10884917.0</td>\n",
       "      <td>7858547.0</td>\n",
       "      <td>5468648.0</td>\n",
       "      <td>3289905.0</td>\n",
       "      <td>1628784.0</td>\n",
       "    </tr>\n",
       "  </tbody>\n",
       "</table>\n",
       "<p>64 rows × 16 columns</p>\n",
       "</div>"
      ],
      "text/plain": [
       "                     Male 0004   Male 0509   Male 1014   Male 1519  \\\n",
       "country date                                                         \n",
       "CHN     2023-01-01  30390275.0  46921541.0  47697475.0  43619845.0   \n",
       "        2022-01-01  34407301.0  47977432.0  46945694.0  42880142.0   \n",
       "        2021-01-01  38802141.0  48127269.0  46077575.0  42441714.0   \n",
       "        2020-01-01  42401148.0  48099312.0  45390757.0  42444894.0   \n",
       "        2019-01-01  45006875.0  48004396.0  44534610.0  42626158.0   \n",
       "...                        ...         ...         ...         ...   \n",
       "        1964-01-01  53250448.0  48925593.0  45210547.0  32772310.0   \n",
       "        1963-01-01  47951039.0  50749733.0  43265071.0  31245247.0   \n",
       "        1962-01-01  44777918.0  50854256.0  40877563.0  29902774.0   \n",
       "        1961-01-01  46459365.0  50481643.0  38596810.0  29125584.0   \n",
       "        1960-01-01  51416955.0  50098089.0  36823111.0  29027168.0   \n",
       "\n",
       "                     Male 2024   Male 2529   Male 3034   Male 3539  \\\n",
       "country date                                                         \n",
       "CHN     2023-01-01  42690196.0  45996968.0  58571312.0  58164459.0   \n",
       "        2022-01-01  43079433.0  47322938.0  61347262.0  56040230.0   \n",
       "        2021-01-01  43637348.0  48943931.0  63431979.0  54207913.0   \n",
       "        2020-01-01  44208685.0  51917714.0  63016755.0  52572479.0   \n",
       "        2019-01-01  45014490.0  55706672.0  60783908.0  51377332.0   \n",
       "...                        ...         ...         ...         ...   \n",
       "        1964-01-01  27179605.0  26566937.0  24330081.0  21031169.0   \n",
       "        1963-01-01  27269359.0  26878889.0  23871048.0  20785092.0   \n",
       "        1962-01-01  27482213.0  26824171.0  23384228.0  20378091.0   \n",
       "        1961-01-01  27700640.0  26562875.0  23028989.0  20175956.0   \n",
       "        1960-01-01  28092415.0  26459425.0  22874774.0  20178976.0   \n",
       "\n",
       "                     Male 4044   Male 4549   Male 5054   Male 5559  \\\n",
       "country date                                                         \n",
       "CHN     2023-01-01  50128672.0  49849324.0  61288205.0  56295989.0   \n",
       "        2022-01-01  48623953.0  52814513.0  61302770.0  56011299.0   \n",
       "        2021-01-01  47300851.0  55783379.0  60422799.0  53103266.0   \n",
       "        2020-01-01  47188710.0  58708249.0  59481364.0  47982121.0   \n",
       "        2019-01-01  48144457.0  61076492.0  58472576.0  42984534.0   \n",
       "...                        ...         ...         ...         ...   \n",
       "        1964-01-01  18185693.0  15660355.0  13340206.0  10840068.0   \n",
       "        1963-01-01  17811841.0  15758791.0  13103423.0  10794563.0   \n",
       "        1962-01-01  17531795.0  15710166.0  12919455.0  10776768.0   \n",
       "        1961-01-01  17398685.0  15571913.0  12923650.0  10792560.0   \n",
       "        1960-01-01  17445180.0  15573208.0  13126586.0  10884917.0   \n",
       "\n",
       "                     Male 6064   Male 6569   Male 7074   Male 7579  \n",
       "country date                                                        \n",
       "CHN     2023-01-01  36317207.0  36029698.0  26676047.0  15052265.0  \n",
       "        2022-01-01  33543614.0  35762285.0  24926689.0  14205563.0  \n",
       "        2021-01-01  34097647.0  35022489.0  23177262.0  13510140.0  \n",
       "        2020-01-01  36274094.0  33979409.0  21574911.0  13015232.0  \n",
       "        2019-01-01  38374180.0  32428084.0  20069867.0  12627031.0  \n",
       "...                        ...         ...         ...         ...  \n",
       "        1964-01-01   8229597.0   5325280.0   3127717.0   1527155.0  \n",
       "        1963-01-01   8016810.0   5346612.0   3103485.0   1514318.0  \n",
       "        1962-01-01   7829214.0   5339866.0   3082473.0   1507571.0  \n",
       "        1961-01-01   7747646.0   5362310.0   3131356.0   1537572.0  \n",
       "        1960-01-01   7858547.0   5468648.0   3289905.0   1628784.0  \n",
       "\n",
       "[64 rows x 16 columns]"
      ]
     },
     "execution_count": 10,
     "metadata": {},
     "output_type": "execute_result"
    }
   ],
   "source": [
    "population_data_frames(1990, 'Male', (0,80), 'CHN')"
   ]
  },
  {
   "cell_type": "code",
   "execution_count": 11,
   "id": "1d169f11-9479-4251-bc67-660e039a7a15",
   "metadata": {},
   "outputs": [
    {
     "data": {
      "text/html": [
       "<div>\n",
       "<style scoped>\n",
       "    .dataframe tbody tr th:only-of-type {\n",
       "        vertical-align: middle;\n",
       "    }\n",
       "\n",
       "    .dataframe tbody tr th {\n",
       "        vertical-align: top;\n",
       "    }\n",
       "\n",
       "    .dataframe thead th {\n",
       "        text-align: right;\n",
       "    }\n",
       "</style>\n",
       "<table border=\"1\" class=\"dataframe\">\n",
       "  <thead>\n",
       "    <tr style=\"text-align: right;\">\n",
       "      <th></th>\n",
       "      <th></th>\n",
       "      <th>Female 1014</th>\n",
       "      <th>Female 1519</th>\n",
       "      <th>Female 2024</th>\n",
       "      <th>Female 2529</th>\n",
       "      <th>Female 3034</th>\n",
       "    </tr>\n",
       "    <tr>\n",
       "      <th>country</th>\n",
       "      <th>date</th>\n",
       "      <th></th>\n",
       "      <th></th>\n",
       "      <th></th>\n",
       "      <th></th>\n",
       "      <th></th>\n",
       "    </tr>\n",
       "  </thead>\n",
       "  <tbody>\n",
       "    <tr>\n",
       "      <th rowspan=\"11\" valign=\"top\">CHN</th>\n",
       "      <th>2023-01-01</th>\n",
       "      <td>40892243.0</td>\n",
       "      <td>37182969.0</td>\n",
       "      <td>36605841.0</td>\n",
       "      <td>40184117.0</td>\n",
       "      <td>52861422.0</td>\n",
       "    </tr>\n",
       "    <tr>\n",
       "      <th>2022-01-01</th>\n",
       "      <td>40161573.0</td>\n",
       "      <td>36559731.0</td>\n",
       "      <td>37035577.0</td>\n",
       "      <td>41562725.0</td>\n",
       "      <td>55702933.0</td>\n",
       "    </tr>\n",
       "    <tr>\n",
       "      <th>2021-01-01</th>\n",
       "      <td>39352043.0</td>\n",
       "      <td>36210584.0</td>\n",
       "      <td>37629021.0</td>\n",
       "      <td>43238213.0</td>\n",
       "      <td>57929324.0</td>\n",
       "    </tr>\n",
       "    <tr>\n",
       "      <th>2020-01-01</th>\n",
       "      <td>38718791.0</td>\n",
       "      <td>36255224.0</td>\n",
       "      <td>38255106.0</td>\n",
       "      <td>46168527.0</td>\n",
       "      <td>57874577.0</td>\n",
       "    </tr>\n",
       "    <tr>\n",
       "      <th>2019-01-01</th>\n",
       "      <td>37959894.0</td>\n",
       "      <td>36469477.0</td>\n",
       "      <td>39112543.0</td>\n",
       "      <td>49873080.0</td>\n",
       "      <td>56135406.0</td>\n",
       "    </tr>\n",
       "    <tr>\n",
       "      <th>...</th>\n",
       "      <td>...</td>\n",
       "      <td>...</td>\n",
       "      <td>...</td>\n",
       "      <td>...</td>\n",
       "      <td>...</td>\n",
       "    </tr>\n",
       "    <tr>\n",
       "      <th>1964-01-01</th>\n",
       "      <td>43236900.0</td>\n",
       "      <td>30062519.0</td>\n",
       "      <td>24208269.0</td>\n",
       "      <td>23499927.0</td>\n",
       "      <td>22007969.0</td>\n",
       "    </tr>\n",
       "    <tr>\n",
       "      <th>1963-01-01</th>\n",
       "      <td>41174542.0</td>\n",
       "      <td>28433763.0</td>\n",
       "      <td>24118305.0</td>\n",
       "      <td>23923846.0</td>\n",
       "      <td>21660173.0</td>\n",
       "    </tr>\n",
       "    <tr>\n",
       "      <th>1962-01-01</th>\n",
       "      <td>38550727.0</td>\n",
       "      <td>27084802.0</td>\n",
       "      <td>24120873.0</td>\n",
       "      <td>24034501.0</td>\n",
       "      <td>21287773.0</td>\n",
       "    </tr>\n",
       "    <tr>\n",
       "      <th>1961-01-01</th>\n",
       "      <td>35990952.0</td>\n",
       "      <td>26262486.0</td>\n",
       "      <td>24208928.0</td>\n",
       "      <td>23901128.0</td>\n",
       "      <td>21019399.0</td>\n",
       "    </tr>\n",
       "    <tr>\n",
       "      <th>1960-01-01</th>\n",
       "      <td>33964856.0</td>\n",
       "      <td>25955016.0</td>\n",
       "      <td>24590972.0</td>\n",
       "      <td>23794913.0</td>\n",
       "      <td>20951533.0</td>\n",
       "    </tr>\n",
       "  </tbody>\n",
       "</table>\n",
       "<p>64 rows × 5 columns</p>\n",
       "</div>"
      ],
      "text/plain": [
       "                    Female 1014  Female 1519  Female 2024  Female 2529  \\\n",
       "country date                                                             \n",
       "CHN     2023-01-01   40892243.0   37182969.0   36605841.0   40184117.0   \n",
       "        2022-01-01   40161573.0   36559731.0   37035577.0   41562725.0   \n",
       "        2021-01-01   39352043.0   36210584.0   37629021.0   43238213.0   \n",
       "        2020-01-01   38718791.0   36255224.0   38255106.0   46168527.0   \n",
       "        2019-01-01   37959894.0   36469477.0   39112543.0   49873080.0   \n",
       "...                         ...          ...          ...          ...   \n",
       "        1964-01-01   43236900.0   30062519.0   24208269.0   23499927.0   \n",
       "        1963-01-01   41174542.0   28433763.0   24118305.0   23923846.0   \n",
       "        1962-01-01   38550727.0   27084802.0   24120873.0   24034501.0   \n",
       "        1961-01-01   35990952.0   26262486.0   24208928.0   23901128.0   \n",
       "        1960-01-01   33964856.0   25955016.0   24590972.0   23794913.0   \n",
       "\n",
       "                    Female 3034  \n",
       "country date                     \n",
       "CHN     2023-01-01   52861422.0  \n",
       "        2022-01-01   55702933.0  \n",
       "        2021-01-01   57929324.0  \n",
       "        2020-01-01   57874577.0  \n",
       "        2019-01-01   56135406.0  \n",
       "...                         ...  \n",
       "        1964-01-01   22007969.0  \n",
       "        1963-01-01   21660173.0  \n",
       "        1962-01-01   21287773.0  \n",
       "        1961-01-01   21019399.0  \n",
       "        1960-01-01   20951533.0  \n",
       "\n",
       "[64 rows x 5 columns]"
      ]
     },
     "execution_count": 11,
     "metadata": {},
     "output_type": "execute_result"
    }
   ],
   "source": [
    "population_data_frames(1990, 'Female', (10,33), 'CHN')"
   ]
  },
  {
   "cell_type": "code",
   "execution_count": 12,
   "id": "6a3559dd-c867-4fe2-8d4d-64f5cae674cf",
   "metadata": {},
   "outputs": [
    {
     "data": {
      "text/html": [
       "<div>\n",
       "<style scoped>\n",
       "    .dataframe tbody tr th:only-of-type {\n",
       "        vertical-align: middle;\n",
       "    }\n",
       "\n",
       "    .dataframe tbody tr th {\n",
       "        vertical-align: top;\n",
       "    }\n",
       "\n",
       "    .dataframe thead th {\n",
       "        text-align: right;\n",
       "    }\n",
       "</style>\n",
       "<table border=\"1\" class=\"dataframe\">\n",
       "  <thead>\n",
       "    <tr style=\"text-align: right;\">\n",
       "      <th></th>\n",
       "      <th>Male 0004</th>\n",
       "      <th>Male 0509</th>\n",
       "      <th>Male 1014</th>\n",
       "      <th>Male 1519</th>\n",
       "      <th>Male 2024</th>\n",
       "      <th>Male 2529</th>\n",
       "      <th>Male 3034</th>\n",
       "      <th>Male 3539</th>\n",
       "      <th>Male 4044</th>\n",
       "      <th>Male 4549</th>\n",
       "      <th>...</th>\n",
       "      <th>Female 3034</th>\n",
       "      <th>Female 3539</th>\n",
       "      <th>Female 4044</th>\n",
       "      <th>Female 4549</th>\n",
       "      <th>Female 5054</th>\n",
       "      <th>Female 5559</th>\n",
       "      <th>Female 6064</th>\n",
       "      <th>Female 6569</th>\n",
       "      <th>Female 7074</th>\n",
       "      <th>Female 7579</th>\n",
       "    </tr>\n",
       "    <tr>\n",
       "      <th>date</th>\n",
       "      <th></th>\n",
       "      <th></th>\n",
       "      <th></th>\n",
       "      <th></th>\n",
       "      <th></th>\n",
       "      <th></th>\n",
       "      <th></th>\n",
       "      <th></th>\n",
       "      <th></th>\n",
       "      <th></th>\n",
       "      <th></th>\n",
       "      <th></th>\n",
       "      <th></th>\n",
       "      <th></th>\n",
       "      <th></th>\n",
       "      <th></th>\n",
       "      <th></th>\n",
       "      <th></th>\n",
       "      <th></th>\n",
       "      <th></th>\n",
       "      <th></th>\n",
       "    </tr>\n",
       "  </thead>\n",
       "  <tbody>\n",
       "    <tr>\n",
       "      <th>2023-01-01</th>\n",
       "      <td>30390275.0</td>\n",
       "      <td>46921541.0</td>\n",
       "      <td>47697475.0</td>\n",
       "      <td>43619845.0</td>\n",
       "      <td>42690196.0</td>\n",
       "      <td>45996968.0</td>\n",
       "      <td>58571312.0</td>\n",
       "      <td>58164459.0</td>\n",
       "      <td>50128672.0</td>\n",
       "      <td>49849324.0</td>\n",
       "      <td>...</td>\n",
       "      <td>52861422.0</td>\n",
       "      <td>54111081.0</td>\n",
       "      <td>47658004.0</td>\n",
       "      <td>48165337.0</td>\n",
       "      <td>60432093.0</td>\n",
       "      <td>56825905.0</td>\n",
       "      <td>37771419.0</td>\n",
       "      <td>39685195.0</td>\n",
       "      <td>31522585.0</td>\n",
       "      <td>18369107.0</td>\n",
       "    </tr>\n",
       "    <tr>\n",
       "      <th>2022-01-01</th>\n",
       "      <td>34407301.0</td>\n",
       "      <td>47977432.0</td>\n",
       "      <td>46945694.0</td>\n",
       "      <td>42880142.0</td>\n",
       "      <td>43079433.0</td>\n",
       "      <td>47322938.0</td>\n",
       "      <td>61347262.0</td>\n",
       "      <td>56040230.0</td>\n",
       "      <td>48623953.0</td>\n",
       "      <td>52814513.0</td>\n",
       "      <td>...</td>\n",
       "      <td>55702933.0</td>\n",
       "      <td>52391805.0</td>\n",
       "      <td>46321543.0</td>\n",
       "      <td>51130200.0</td>\n",
       "      <td>60536192.0</td>\n",
       "      <td>56551300.0</td>\n",
       "      <td>35002089.0</td>\n",
       "      <td>39507542.0</td>\n",
       "      <td>29106909.0</td>\n",
       "      <td>17241445.0</td>\n",
       "    </tr>\n",
       "    <tr>\n",
       "      <th>2021-01-01</th>\n",
       "      <td>38802141.0</td>\n",
       "      <td>48127269.0</td>\n",
       "      <td>46077575.0</td>\n",
       "      <td>42441714.0</td>\n",
       "      <td>43637348.0</td>\n",
       "      <td>48943931.0</td>\n",
       "      <td>63431979.0</td>\n",
       "      <td>54207913.0</td>\n",
       "      <td>47300851.0</td>\n",
       "      <td>55783379.0</td>\n",
       "      <td>...</td>\n",
       "      <td>57929324.0</td>\n",
       "      <td>50904100.0</td>\n",
       "      <td>45150868.0</td>\n",
       "      <td>54098374.0</td>\n",
       "      <td>59738602.0</td>\n",
       "      <td>53597653.0</td>\n",
       "      <td>35660756.0</td>\n",
       "      <td>38793955.0</td>\n",
       "      <td>26676375.0</td>\n",
       "      <td>16375324.0</td>\n",
       "    </tr>\n",
       "    <tr>\n",
       "      <th>2020-01-01</th>\n",
       "      <td>42401148.0</td>\n",
       "      <td>48099312.0</td>\n",
       "      <td>45390757.0</td>\n",
       "      <td>42444894.0</td>\n",
       "      <td>44208685.0</td>\n",
       "      <td>51917714.0</td>\n",
       "      <td>63016755.0</td>\n",
       "      <td>52572479.0</td>\n",
       "      <td>47188710.0</td>\n",
       "      <td>58708249.0</td>\n",
       "      <td>...</td>\n",
       "      <td>57874577.0</td>\n",
       "      <td>49544962.0</td>\n",
       "      <td>45127659.0</td>\n",
       "      <td>57028683.0</td>\n",
       "      <td>58862173.0</td>\n",
       "      <td>48420766.0</td>\n",
       "      <td>37969600.0</td>\n",
       "      <td>37695737.0</td>\n",
       "      <td>24481027.0</td>\n",
       "      <td>15706266.0</td>\n",
       "    </tr>\n",
       "    <tr>\n",
       "      <th>2019-01-01</th>\n",
       "      <td>45006875.0</td>\n",
       "      <td>48004396.0</td>\n",
       "      <td>44534610.0</td>\n",
       "      <td>42626158.0</td>\n",
       "      <td>45014490.0</td>\n",
       "      <td>55706672.0</td>\n",
       "      <td>60783908.0</td>\n",
       "      <td>51377332.0</td>\n",
       "      <td>48144457.0</td>\n",
       "      <td>61076492.0</td>\n",
       "      <td>...</td>\n",
       "      <td>56135406.0</td>\n",
       "      <td>48557018.0</td>\n",
       "      <td>46127571.0</td>\n",
       "      <td>59426420.0</td>\n",
       "      <td>57903342.0</td>\n",
       "      <td>43397958.0</td>\n",
       "      <td>40213974.0</td>\n",
       "      <td>35946934.0</td>\n",
       "      <td>22477861.0</td>\n",
       "      <td>15164232.0</td>\n",
       "    </tr>\n",
       "    <tr>\n",
       "      <th>...</th>\n",
       "      <td>...</td>\n",
       "      <td>...</td>\n",
       "      <td>...</td>\n",
       "      <td>...</td>\n",
       "      <td>...</td>\n",
       "      <td>...</td>\n",
       "      <td>...</td>\n",
       "      <td>...</td>\n",
       "      <td>...</td>\n",
       "      <td>...</td>\n",
       "      <td>...</td>\n",
       "      <td>...</td>\n",
       "      <td>...</td>\n",
       "      <td>...</td>\n",
       "      <td>...</td>\n",
       "      <td>...</td>\n",
       "      <td>...</td>\n",
       "      <td>...</td>\n",
       "      <td>...</td>\n",
       "      <td>...</td>\n",
       "      <td>...</td>\n",
       "    </tr>\n",
       "    <tr>\n",
       "      <th>1964-01-01</th>\n",
       "      <td>53250448.0</td>\n",
       "      <td>48925593.0</td>\n",
       "      <td>45210547.0</td>\n",
       "      <td>32772310.0</td>\n",
       "      <td>27179605.0</td>\n",
       "      <td>26566937.0</td>\n",
       "      <td>24330081.0</td>\n",
       "      <td>21031169.0</td>\n",
       "      <td>18185693.0</td>\n",
       "      <td>15660355.0</td>\n",
       "      <td>...</td>\n",
       "      <td>22007969.0</td>\n",
       "      <td>19483299.0</td>\n",
       "      <td>17392150.0</td>\n",
       "      <td>15431263.0</td>\n",
       "      <td>13393101.0</td>\n",
       "      <td>11786993.0</td>\n",
       "      <td>9466826.0</td>\n",
       "      <td>6632284.0</td>\n",
       "      <td>4460153.0</td>\n",
       "      <td>2517810.0</td>\n",
       "    </tr>\n",
       "    <tr>\n",
       "      <th>1963-01-01</th>\n",
       "      <td>47951039.0</td>\n",
       "      <td>50749733.0</td>\n",
       "      <td>43265071.0</td>\n",
       "      <td>31245247.0</td>\n",
       "      <td>27269359.0</td>\n",
       "      <td>26878889.0</td>\n",
       "      <td>23871048.0</td>\n",
       "      <td>20785092.0</td>\n",
       "      <td>17811841.0</td>\n",
       "      <td>15758791.0</td>\n",
       "      <td>...</td>\n",
       "      <td>21660173.0</td>\n",
       "      <td>19354179.0</td>\n",
       "      <td>17095469.0</td>\n",
       "      <td>15479965.0</td>\n",
       "      <td>13256152.0</td>\n",
       "      <td>11717468.0</td>\n",
       "      <td>9144942.0</td>\n",
       "      <td>6641740.0</td>\n",
       "      <td>4377684.0</td>\n",
       "      <td>2488273.0</td>\n",
       "    </tr>\n",
       "    <tr>\n",
       "      <th>1962-01-01</th>\n",
       "      <td>44777918.0</td>\n",
       "      <td>50854256.0</td>\n",
       "      <td>40877563.0</td>\n",
       "      <td>29902774.0</td>\n",
       "      <td>27482213.0</td>\n",
       "      <td>26824171.0</td>\n",
       "      <td>23384228.0</td>\n",
       "      <td>20378091.0</td>\n",
       "      <td>17531795.0</td>\n",
       "      <td>15710166.0</td>\n",
       "      <td>...</td>\n",
       "      <td>21287773.0</td>\n",
       "      <td>19076777.0</td>\n",
       "      <td>16884402.0</td>\n",
       "      <td>15370624.0</td>\n",
       "      <td>13165906.0</td>\n",
       "      <td>11656254.0</td>\n",
       "      <td>8846123.0</td>\n",
       "      <td>6626940.0</td>\n",
       "      <td>4305783.0</td>\n",
       "      <td>2473695.0</td>\n",
       "    </tr>\n",
       "    <tr>\n",
       "      <th>1961-01-01</th>\n",
       "      <td>46459365.0</td>\n",
       "      <td>50481643.0</td>\n",
       "      <td>38596810.0</td>\n",
       "      <td>29125584.0</td>\n",
       "      <td>27700640.0</td>\n",
       "      <td>26562875.0</td>\n",
       "      <td>23028989.0</td>\n",
       "      <td>20175956.0</td>\n",
       "      <td>17398685.0</td>\n",
       "      <td>15571913.0</td>\n",
       "      <td>...</td>\n",
       "      <td>21019399.0</td>\n",
       "      <td>18973517.0</td>\n",
       "      <td>16813420.0</td>\n",
       "      <td>15151213.0</td>\n",
       "      <td>13242628.0</td>\n",
       "      <td>11605418.0</td>\n",
       "      <td>8661101.0</td>\n",
       "      <td>6627978.0</td>\n",
       "      <td>4325327.0</td>\n",
       "      <td>2515440.0</td>\n",
       "    </tr>\n",
       "    <tr>\n",
       "      <th>1960-01-01</th>\n",
       "      <td>51416955.0</td>\n",
       "      <td>50098089.0</td>\n",
       "      <td>36823111.0</td>\n",
       "      <td>29027168.0</td>\n",
       "      <td>28092415.0</td>\n",
       "      <td>26459425.0</td>\n",
       "      <td>22874774.0</td>\n",
       "      <td>20178976.0</td>\n",
       "      <td>17445180.0</td>\n",
       "      <td>15573208.0</td>\n",
       "      <td>...</td>\n",
       "      <td>20951533.0</td>\n",
       "      <td>19029161.0</td>\n",
       "      <td>16873602.0</td>\n",
       "      <td>15079311.0</td>\n",
       "      <td>13488469.0</td>\n",
       "      <td>11589857.0</td>\n",
       "      <td>8685206.0</td>\n",
       "      <td>6699927.0</td>\n",
       "      <td>4482097.0</td>\n",
       "      <td>2635883.0</td>\n",
       "    </tr>\n",
       "  </tbody>\n",
       "</table>\n",
       "<p>64 rows × 32 columns</p>\n",
       "</div>"
      ],
      "text/plain": [
       "             Male 0004   Male 0509   Male 1014   Male 1519   Male 2024  \\\n",
       "date                                                                     \n",
       "2023-01-01  30390275.0  46921541.0  47697475.0  43619845.0  42690196.0   \n",
       "2022-01-01  34407301.0  47977432.0  46945694.0  42880142.0  43079433.0   \n",
       "2021-01-01  38802141.0  48127269.0  46077575.0  42441714.0  43637348.0   \n",
       "2020-01-01  42401148.0  48099312.0  45390757.0  42444894.0  44208685.0   \n",
       "2019-01-01  45006875.0  48004396.0  44534610.0  42626158.0  45014490.0   \n",
       "...                ...         ...         ...         ...         ...   \n",
       "1964-01-01  53250448.0  48925593.0  45210547.0  32772310.0  27179605.0   \n",
       "1963-01-01  47951039.0  50749733.0  43265071.0  31245247.0  27269359.0   \n",
       "1962-01-01  44777918.0  50854256.0  40877563.0  29902774.0  27482213.0   \n",
       "1961-01-01  46459365.0  50481643.0  38596810.0  29125584.0  27700640.0   \n",
       "1960-01-01  51416955.0  50098089.0  36823111.0  29027168.0  28092415.0   \n",
       "\n",
       "             Male 2529   Male 3034   Male 3539   Male 4044   Male 4549  ...  \\\n",
       "date                                                                    ...   \n",
       "2023-01-01  45996968.0  58571312.0  58164459.0  50128672.0  49849324.0  ...   \n",
       "2022-01-01  47322938.0  61347262.0  56040230.0  48623953.0  52814513.0  ...   \n",
       "2021-01-01  48943931.0  63431979.0  54207913.0  47300851.0  55783379.0  ...   \n",
       "2020-01-01  51917714.0  63016755.0  52572479.0  47188710.0  58708249.0  ...   \n",
       "2019-01-01  55706672.0  60783908.0  51377332.0  48144457.0  61076492.0  ...   \n",
       "...                ...         ...         ...         ...         ...  ...   \n",
       "1964-01-01  26566937.0  24330081.0  21031169.0  18185693.0  15660355.0  ...   \n",
       "1963-01-01  26878889.0  23871048.0  20785092.0  17811841.0  15758791.0  ...   \n",
       "1962-01-01  26824171.0  23384228.0  20378091.0  17531795.0  15710166.0  ...   \n",
       "1961-01-01  26562875.0  23028989.0  20175956.0  17398685.0  15571913.0  ...   \n",
       "1960-01-01  26459425.0  22874774.0  20178976.0  17445180.0  15573208.0  ...   \n",
       "\n",
       "            Female 3034  Female 3539  Female 4044  Female 4549  Female 5054  \\\n",
       "date                                                                          \n",
       "2023-01-01   52861422.0   54111081.0   47658004.0   48165337.0   60432093.0   \n",
       "2022-01-01   55702933.0   52391805.0   46321543.0   51130200.0   60536192.0   \n",
       "2021-01-01   57929324.0   50904100.0   45150868.0   54098374.0   59738602.0   \n",
       "2020-01-01   57874577.0   49544962.0   45127659.0   57028683.0   58862173.0   \n",
       "2019-01-01   56135406.0   48557018.0   46127571.0   59426420.0   57903342.0   \n",
       "...                 ...          ...          ...          ...          ...   \n",
       "1964-01-01   22007969.0   19483299.0   17392150.0   15431263.0   13393101.0   \n",
       "1963-01-01   21660173.0   19354179.0   17095469.0   15479965.0   13256152.0   \n",
       "1962-01-01   21287773.0   19076777.0   16884402.0   15370624.0   13165906.0   \n",
       "1961-01-01   21019399.0   18973517.0   16813420.0   15151213.0   13242628.0   \n",
       "1960-01-01   20951533.0   19029161.0   16873602.0   15079311.0   13488469.0   \n",
       "\n",
       "            Female 5559  Female 6064  Female 6569  Female 7074  Female 7579  \n",
       "date                                                                         \n",
       "2023-01-01   56825905.0   37771419.0   39685195.0   31522585.0   18369107.0  \n",
       "2022-01-01   56551300.0   35002089.0   39507542.0   29106909.0   17241445.0  \n",
       "2021-01-01   53597653.0   35660756.0   38793955.0   26676375.0   16375324.0  \n",
       "2020-01-01   48420766.0   37969600.0   37695737.0   24481027.0   15706266.0  \n",
       "2019-01-01   43397958.0   40213974.0   35946934.0   22477861.0   15164232.0  \n",
       "...                 ...          ...          ...          ...          ...  \n",
       "1964-01-01   11786993.0    9466826.0    6632284.0    4460153.0    2517810.0  \n",
       "1963-01-01   11717468.0    9144942.0    6641740.0    4377684.0    2488273.0  \n",
       "1962-01-01   11656254.0    8846123.0    6626940.0    4305783.0    2473695.0  \n",
       "1961-01-01   11605418.0    8661101.0    6627978.0    4325327.0    2515440.0  \n",
       "1960-01-01   11589857.0    8685206.0    6699927.0    4482097.0    2635883.0  \n",
       "\n",
       "[64 rows x 32 columns]"
      ]
     },
     "execution_count": 12,
     "metadata": {},
     "output_type": "execute_result"
    }
   ],
   "source": [
    "population_data_frames(1990, 'Both', (0,80), 'CHN')"
   ]
  },
  {
   "cell_type": "code",
   "execution_count": 13,
   "id": "9d7b95ad-69cc-4162-b71b-3eeed489d59d",
   "metadata": {},
   "outputs": [
    {
     "data": {
      "text/html": [
       "<div>\n",
       "<style scoped>\n",
       "    .dataframe tbody tr th:only-of-type {\n",
       "        vertical-align: middle;\n",
       "    }\n",
       "\n",
       "    .dataframe tbody tr th {\n",
       "        vertical-align: top;\n",
       "    }\n",
       "\n",
       "    .dataframe thead th {\n",
       "        text-align: right;\n",
       "    }\n",
       "</style>\n",
       "<table border=\"1\" class=\"dataframe\">\n",
       "  <thead>\n",
       "    <tr style=\"text-align: right;\">\n",
       "      <th></th>\n",
       "      <th></th>\n",
       "      <th>Male 0004</th>\n",
       "      <th>Male 0509</th>\n",
       "      <th>Male 1014</th>\n",
       "      <th>Male 1519</th>\n",
       "      <th>Male 2024</th>\n",
       "      <th>Male 2529</th>\n",
       "      <th>Male 3034</th>\n",
       "      <th>Male 3539</th>\n",
       "      <th>Male 4044</th>\n",
       "      <th>Male 4549</th>\n",
       "      <th>Male 5054</th>\n",
       "      <th>Male 5559</th>\n",
       "      <th>Male 6064</th>\n",
       "      <th>Male 6569</th>\n",
       "      <th>Male 7074</th>\n",
       "      <th>Male 7579</th>\n",
       "    </tr>\n",
       "    <tr>\n",
       "      <th>country</th>\n",
       "      <th>date</th>\n",
       "      <th></th>\n",
       "      <th></th>\n",
       "      <th></th>\n",
       "      <th></th>\n",
       "      <th></th>\n",
       "      <th></th>\n",
       "      <th></th>\n",
       "      <th></th>\n",
       "      <th></th>\n",
       "      <th></th>\n",
       "      <th></th>\n",
       "      <th></th>\n",
       "      <th></th>\n",
       "      <th></th>\n",
       "      <th></th>\n",
       "      <th></th>\n",
       "    </tr>\n",
       "  </thead>\n",
       "  <tbody>\n",
       "    <tr>\n",
       "      <th rowspan=\"11\" valign=\"top\">WLD</th>\n",
       "      <th>2023-01-01</th>\n",
       "      <td>334765288.0</td>\n",
       "      <td>353677898.0</td>\n",
       "      <td>350908323.0</td>\n",
       "      <td>330734289.0</td>\n",
       "      <td>315810689.0</td>\n",
       "      <td>307639362.0</td>\n",
       "      <td>310933348.0</td>\n",
       "      <td>295368359.0</td>\n",
       "      <td>264576185.0</td>\n",
       "      <td>237668148.0</td>\n",
       "      <td>229011272.0</td>\n",
       "      <td>203254223.0</td>\n",
       "      <td>162420898.0</td>\n",
       "      <td>135500657.0</td>\n",
       "      <td>99573175.0</td>\n",
       "      <td>61764493.0</td>\n",
       "    </tr>\n",
       "    <tr>\n",
       "      <th>2022-01-01</th>\n",
       "      <td>339582664.0</td>\n",
       "      <td>355425122.0</td>\n",
       "      <td>347895623.0</td>\n",
       "      <td>327019295.0</td>\n",
       "      <td>314174911.0</td>\n",
       "      <td>307658633.0</td>\n",
       "      <td>311976794.0</td>\n",
       "      <td>290144561.0</td>\n",
       "      <td>258341893.0</td>\n",
       "      <td>237254249.0</td>\n",
       "      <td>226237535.0</td>\n",
       "      <td>201022206.0</td>\n",
       "      <td>156823861.0</td>\n",
       "      <td>132342870.0</td>\n",
       "      <td>95533321.0</td>\n",
       "      <td>58615814.0</td>\n",
       "    </tr>\n",
       "    <tr>\n",
       "      <th>2021-01-01</th>\n",
       "      <td>345189042.0</td>\n",
       "      <td>355703002.0</td>\n",
       "      <td>344122479.0</td>\n",
       "      <td>324017775.0</td>\n",
       "      <td>312601224.0</td>\n",
       "      <td>307806041.0</td>\n",
       "      <td>311921453.0</td>\n",
       "      <td>284849609.0</td>\n",
       "      <td>252519605.0</td>\n",
       "      <td>237465269.0</td>\n",
       "      <td>222660554.0</td>\n",
       "      <td>196552263.0</td>\n",
       "      <td>154831165.0</td>\n",
       "      <td>129139177.0</td>\n",
       "      <td>91827555.0</td>\n",
       "      <td>56214775.0</td>\n",
       "    </tr>\n",
       "    <tr>\n",
       "      <th>2020-01-01</th>\n",
       "      <td>350515471.0</td>\n",
       "      <td>355003268.0</td>\n",
       "      <td>340399749.0</td>\n",
       "      <td>322082499.0</td>\n",
       "      <td>311226388.0</td>\n",
       "      <td>309641234.0</td>\n",
       "      <td>309357029.0</td>\n",
       "      <td>279781371.0</td>\n",
       "      <td>248255758.0</td>\n",
       "      <td>238154909.0</td>\n",
       "      <td>219307981.0</td>\n",
       "      <td>189959120.0</td>\n",
       "      <td>154564673.0</td>\n",
       "      <td>125884632.0</td>\n",
       "      <td>87855497.0</td>\n",
       "      <td>55019059.0</td>\n",
       "    </tr>\n",
       "    <tr>\n",
       "      <th>2019-01-01</th>\n",
       "      <td>354290946.0</td>\n",
       "      <td>353558134.0</td>\n",
       "      <td>336199668.0</td>\n",
       "      <td>320243605.0</td>\n",
       "      <td>310119231.0</td>\n",
       "      <td>312139575.0</td>\n",
       "      <td>304364288.0</td>\n",
       "      <td>274463093.0</td>\n",
       "      <td>244893214.0</td>\n",
       "      <td>237904370.0</td>\n",
       "      <td>215885465.0</td>\n",
       "      <td>182647014.0</td>\n",
       "      <td>153668727.0</td>\n",
       "      <td>121764954.0</td>\n",
       "      <td>83124933.0</td>\n",
       "      <td>54115599.0</td>\n",
       "    </tr>\n",
       "    <tr>\n",
       "      <th>...</th>\n",
       "      <td>...</td>\n",
       "      <td>...</td>\n",
       "      <td>...</td>\n",
       "      <td>...</td>\n",
       "      <td>...</td>\n",
       "      <td>...</td>\n",
       "      <td>...</td>\n",
       "      <td>...</td>\n",
       "      <td>...</td>\n",
       "      <td>...</td>\n",
       "      <td>...</td>\n",
       "      <td>...</td>\n",
       "      <td>...</td>\n",
       "      <td>...</td>\n",
       "      <td>...</td>\n",
       "      <td>...</td>\n",
       "    </tr>\n",
       "    <tr>\n",
       "      <th>1964-01-01</th>\n",
       "      <td>238500833.0</td>\n",
       "      <td>207779867.0</td>\n",
       "      <td>183539354.0</td>\n",
       "      <td>148168760.0</td>\n",
       "      <td>127111370.0</td>\n",
       "      <td>121082975.0</td>\n",
       "      <td>110092224.0</td>\n",
       "      <td>99753275.0</td>\n",
       "      <td>84206017.0</td>\n",
       "      <td>69811592.0</td>\n",
       "      <td>65484175.0</td>\n",
       "      <td>55288443.0</td>\n",
       "      <td>43363520.0</td>\n",
       "      <td>30525542.0</td>\n",
       "      <td>19786191.0</td>\n",
       "      <td>11743222.0</td>\n",
       "    </tr>\n",
       "    <tr>\n",
       "      <th>1963-01-01</th>\n",
       "      <td>230073603.0</td>\n",
       "      <td>205823961.0</td>\n",
       "      <td>177924352.0</td>\n",
       "      <td>142070274.0</td>\n",
       "      <td>126982400.0</td>\n",
       "      <td>119446331.0</td>\n",
       "      <td>109213285.0</td>\n",
       "      <td>97418666.0</td>\n",
       "      <td>81579394.0</td>\n",
       "      <td>69993009.0</td>\n",
       "      <td>64683739.0</td>\n",
       "      <td>54295780.0</td>\n",
       "      <td>42219932.0</td>\n",
       "      <td>29780479.0</td>\n",
       "      <td>19465748.0</td>\n",
       "      <td>11437987.0</td>\n",
       "    </tr>\n",
       "    <tr>\n",
       "      <th>1962-01-01</th>\n",
       "      <td>223504268.0</td>\n",
       "      <td>202091753.0</td>\n",
       "      <td>171734513.0</td>\n",
       "      <td>136888120.0</td>\n",
       "      <td>127032057.0</td>\n",
       "      <td>117484451.0</td>\n",
       "      <td>108231564.0</td>\n",
       "      <td>94798902.0</td>\n",
       "      <td>78986036.0</td>\n",
       "      <td>70462994.0</td>\n",
       "      <td>63816390.0</td>\n",
       "      <td>53296751.0</td>\n",
       "      <td>41096068.0</td>\n",
       "      <td>29043510.0</td>\n",
       "      <td>19225580.0</td>\n",
       "      <td>11104459.0</td>\n",
       "    </tr>\n",
       "    <tr>\n",
       "      <th>1961-01-01</th>\n",
       "      <td>221655154.0</td>\n",
       "      <td>197980983.0</td>\n",
       "      <td>165710593.0</td>\n",
       "      <td>132998073.0</td>\n",
       "      <td>126755054.0</td>\n",
       "      <td>115629420.0</td>\n",
       "      <td>106926150.0</td>\n",
       "      <td>92445551.0</td>\n",
       "      <td>76693913.0</td>\n",
       "      <td>70871501.0</td>\n",
       "      <td>63076098.0</td>\n",
       "      <td>52308504.0</td>\n",
       "      <td>40091553.0</td>\n",
       "      <td>28350434.0</td>\n",
       "      <td>19034652.0</td>\n",
       "      <td>10830633.0</td>\n",
       "    </tr>\n",
       "    <tr>\n",
       "      <th>1960-01-01</th>\n",
       "      <td>223060092.0</td>\n",
       "      <td>193928438.0</td>\n",
       "      <td>159370701.0</td>\n",
       "      <td>131387366.0</td>\n",
       "      <td>126062243.0</td>\n",
       "      <td>114504362.0</td>\n",
       "      <td>105334423.0</td>\n",
       "      <td>90480803.0</td>\n",
       "      <td>75021984.0</td>\n",
       "      <td>71134393.0</td>\n",
       "      <td>62418640.0</td>\n",
       "      <td>51506016.0</td>\n",
       "      <td>39191224.0</td>\n",
       "      <td>27805941.0</td>\n",
       "      <td>18929537.0</td>\n",
       "      <td>10637970.0</td>\n",
       "    </tr>\n",
       "  </tbody>\n",
       "</table>\n",
       "<p>64 rows × 16 columns</p>\n",
       "</div>"
      ],
      "text/plain": [
       "                      Male 0004    Male 0509    Male 1014    Male 1519  \\\n",
       "country date                                                             \n",
       "WLD     2023-01-01  334765288.0  353677898.0  350908323.0  330734289.0   \n",
       "        2022-01-01  339582664.0  355425122.0  347895623.0  327019295.0   \n",
       "        2021-01-01  345189042.0  355703002.0  344122479.0  324017775.0   \n",
       "        2020-01-01  350515471.0  355003268.0  340399749.0  322082499.0   \n",
       "        2019-01-01  354290946.0  353558134.0  336199668.0  320243605.0   \n",
       "...                         ...          ...          ...          ...   \n",
       "        1964-01-01  238500833.0  207779867.0  183539354.0  148168760.0   \n",
       "        1963-01-01  230073603.0  205823961.0  177924352.0  142070274.0   \n",
       "        1962-01-01  223504268.0  202091753.0  171734513.0  136888120.0   \n",
       "        1961-01-01  221655154.0  197980983.0  165710593.0  132998073.0   \n",
       "        1960-01-01  223060092.0  193928438.0  159370701.0  131387366.0   \n",
       "\n",
       "                      Male 2024    Male 2529    Male 3034    Male 3539  \\\n",
       "country date                                                             \n",
       "WLD     2023-01-01  315810689.0  307639362.0  310933348.0  295368359.0   \n",
       "        2022-01-01  314174911.0  307658633.0  311976794.0  290144561.0   \n",
       "        2021-01-01  312601224.0  307806041.0  311921453.0  284849609.0   \n",
       "        2020-01-01  311226388.0  309641234.0  309357029.0  279781371.0   \n",
       "        2019-01-01  310119231.0  312139575.0  304364288.0  274463093.0   \n",
       "...                         ...          ...          ...          ...   \n",
       "        1964-01-01  127111370.0  121082975.0  110092224.0   99753275.0   \n",
       "        1963-01-01  126982400.0  119446331.0  109213285.0   97418666.0   \n",
       "        1962-01-01  127032057.0  117484451.0  108231564.0   94798902.0   \n",
       "        1961-01-01  126755054.0  115629420.0  106926150.0   92445551.0   \n",
       "        1960-01-01  126062243.0  114504362.0  105334423.0   90480803.0   \n",
       "\n",
       "                      Male 4044    Male 4549    Male 5054    Male 5559  \\\n",
       "country date                                                             \n",
       "WLD     2023-01-01  264576185.0  237668148.0  229011272.0  203254223.0   \n",
       "        2022-01-01  258341893.0  237254249.0  226237535.0  201022206.0   \n",
       "        2021-01-01  252519605.0  237465269.0  222660554.0  196552263.0   \n",
       "        2020-01-01  248255758.0  238154909.0  219307981.0  189959120.0   \n",
       "        2019-01-01  244893214.0  237904370.0  215885465.0  182647014.0   \n",
       "...                         ...          ...          ...          ...   \n",
       "        1964-01-01   84206017.0   69811592.0   65484175.0   55288443.0   \n",
       "        1963-01-01   81579394.0   69993009.0   64683739.0   54295780.0   \n",
       "        1962-01-01   78986036.0   70462994.0   63816390.0   53296751.0   \n",
       "        1961-01-01   76693913.0   70871501.0   63076098.0   52308504.0   \n",
       "        1960-01-01   75021984.0   71134393.0   62418640.0   51506016.0   \n",
       "\n",
       "                      Male 6064    Male 6569   Male 7074   Male 7579  \n",
       "country date                                                          \n",
       "WLD     2023-01-01  162420898.0  135500657.0  99573175.0  61764493.0  \n",
       "        2022-01-01  156823861.0  132342870.0  95533321.0  58615814.0  \n",
       "        2021-01-01  154831165.0  129139177.0  91827555.0  56214775.0  \n",
       "        2020-01-01  154564673.0  125884632.0  87855497.0  55019059.0  \n",
       "        2019-01-01  153668727.0  121764954.0  83124933.0  54115599.0  \n",
       "...                         ...          ...         ...         ...  \n",
       "        1964-01-01   43363520.0   30525542.0  19786191.0  11743222.0  \n",
       "        1963-01-01   42219932.0   29780479.0  19465748.0  11437987.0  \n",
       "        1962-01-01   41096068.0   29043510.0  19225580.0  11104459.0  \n",
       "        1961-01-01   40091553.0   28350434.0  19034652.0  10830633.0  \n",
       "        1960-01-01   39191224.0   27805941.0  18929537.0  10637970.0  \n",
       "\n",
       "[64 rows x 16 columns]"
      ]
     },
     "execution_count": 13,
     "metadata": {},
     "output_type": "execute_result"
    }
   ],
   "source": [
    "#assert population(year=2000,sex='Male',age_range=(0,100),place='WLD') > 0.0000000000000000001,\"Too few males!\"\n",
    "population_data_frames(year=1990,sex='Male',age_range=(0,80),place='WLD')"
   ]
  },
  {
   "cell_type": "markdown",
   "id": "194529e2-aefb-400d-9077-fdd36b0f1ae5",
   "metadata": {},
   "source": [
    "Visualisations"
   ]
  },
  {
   "cell_type": "code",
   "execution_count": 14,
   "id": "52cb3c49-02ec-4959-b7a6-29856b1c1b7a",
   "metadata": {},
   "outputs": [],
   "source": [
    "import wbdata\n",
    "import pandas as pd\n",
    "import plotly.express as px"
   ]
  },
  {
   "cell_type": "code",
   "execution_count": 40,
   "id": "626c473c-2569-46b9-bf2c-6471bc7e0e06",
   "metadata": {},
   "outputs": [
    {
     "data": {
      "application/vnd.plotly.v1+json": {
       "config": {
        "plotlyServerURL": "https://plot.ly"
       },
       "data": [
        {
         "hovertemplate": "Category=Adult female<br>Year=%{x}<br>Mortality Rate Per 1,000=%{y}<extra></extra>",
         "legendgroup": "Adult female",
         "line": {
          "color": "#636efa",
          "dash": "solid"
         },
         "marker": {
          "symbol": "circle"
         },
         "mode": "lines",
         "name": "Adult female",
         "orientation": "v",
         "showlegend": true,
         "type": "scatter",
         "x": {
          "bdata": "5wcAAOYHAADlBwAA5AcAAOMHAADiBwAA4QcAAOAHAADfBwAA3gcAAN0HAADcBwAA2wcAANoHAADZBwAA2AcAANcHAADWBwAA1QcAANQHAADTBwAA0gcAANEHAADQBwAAzwcAAM4HAADNBwAAzAcAAMsHAADKBwAAyQcAAMgHAADHBwAAxgcAAMUHAADEBwAAwwcAAMIHAADBBwAAwAcAAL8HAAC+BwAAvQcAALwHAAC7BwAAugcAALkHAAC4BwAAtwcAALYHAAC1BwAAtAcAALMHAACyBwAAsQcAALAHAACvBwAArgcAAK0HAACsBwAAqwcAAKoHAACpBwAAqAcAAA==",
          "dtype": "i4"
         },
         "xaxis": "x",
         "y": {
          "bdata": "AAAAAAAA+H+LbOf7qfFKQNEi2/l+GktADi2yne+3S0B56SYxCHxMQP7UeOkm8UxAQmDl0CLLTUAv3SQGgXVOQMP1KFyPIk9Ag8DKoUXGT0DsUbgehTNQQMuhRbbzbVBAKVyPwvXQUEBqvHSTGCxRQJhuEoPAalFAf2q8dJN4UkBYObTIdi5SQH9qvHSTmFJAexSuR+ECU0ACK4cW2X5TQFg5tMh27lNAkxgEVg5lVECWQ4ts5+NUQBsv3SQG2VZADi2yne/nV0BWDi2ynZ9XQMP1KFyP+lhA2c73U+PNWUDufD81XipaQIlBYOXQcltADi2yne/XW0DsUbgehVNdQN0kBoGVE19A9P3UeOnmXkAzMzMzM0NfQBKDwMqhDWBAbef7qfGSYEDufD81XjZhQEJg5dAiy2FAGy/dJAZhYkD+1HjpJvViQB+F61G4nmNA0SLb+X5KZEB3vp8aLwllQI/C9Shcv2VASOF6FK6HZkD2KFyPwl1nQMl2vp8aT2hAyXa+nxpfaUA1XrpJDF5qQC/dJAaBjWtADAIrhxYVbUAzMzMzM1duQOxRuB6Fk29APQrXo3BhcEArhxbZzuVwQFTjpZvEbHFA7FG4HoX3cUBOYhBYOWpyQNEi2/l+CHNA2/l+aryQc0B9PzVeuvlzQA4tsp3vqXlAGQRWDi0mfkA=",
          "dtype": "f8"
         },
         "yaxis": "y"
        },
        {
         "hovertemplate": "Category=Adult male<br>Year=%{x}<br>Mortality Rate Per 1,000=%{y}<extra></extra>",
         "legendgroup": "Adult male",
         "line": {
          "color": "#EF553B",
          "dash": "solid"
         },
         "marker": {
          "symbol": "circle"
         },
         "mode": "lines",
         "name": "Adult male",
         "orientation": "v",
         "showlegend": true,
         "type": "scatter",
         "x": {
          "bdata": "5wcAAOYHAADlBwAA5AcAAOMHAADiBwAA4QcAAOAHAADfBwAA3gcAAN0HAADcBwAA2wcAANoHAADZBwAA2AcAANcHAADWBwAA1QcAANQHAADTBwAA0gcAANEHAADQBwAAzwcAAM4HAADNBwAAzAcAAMsHAADKBwAAyQcAAMgHAADHBwAAxgcAAMUHAADEBwAAwwcAAMIHAADBBwAAwAcAAL8HAAC+BwAAvQcAALwHAAC7BwAAugcAALkHAAC4BwAAtwcAALYHAAC1BwAAtAcAALMHAACyBwAAsQcAALAHAACvBwAArgcAAK0HAACsBwAAqwcAAKoHAACpBwAAqAcAAA==",
          "dtype": "i4"
         },
         "xaxis": "x",
         "y": {
          "bdata": "AAAAAAAA+H8xCKwcWgRaQFYOLbKdt1pA30+Nl25aW0A730+Nl45bQBsv3SQGKVxAjZduEoOwXUCcxCCwcjBdQEjhehSul11AkxgEVg4VXkDdJAaBlZNeQDVeukkMGl9AMQisHFqEX0CWQ4ts5wNgQIGVQ4tsM2BAdZMYBFa6YEA5tMh2vrdgQKrx0k1iyGBAg8DKoUUmYUCwcmiR7WBhQDEIrBxaoGFAK4cW2c7jYUCBlUOLbCtiQPyp8dJNlmJA1XjpJjHcYkA/NV66SWBjQEjhehSuv2NAGQRWDi0+ZEBQjZduEp9kQNejcD0KL2VAXrpJDAK/ZUAGgZVDi1hmQCUGgZVDL2dAarx0kxjgZ0D6fmq8dE9oQHnpJjEI2GhA2c73U+NtaUBvEoPAyvVpQJ7vp8ZLh2pATDeJQWAVa0CsHFpkO79rQFg5tMh2XmxA46WbxCAUbUCYbhKDwNZtQBSuR+F6kG5ADi2yne9vb0AGgZVDiyZwQIts5/upp3BAz/dT46VFcUA3iUFg5cJxQAIrhxbZMnJAmG4Sg8D4ckDLoUW286NzQKwcWmQ7k3RApHA9CtdZdUBaZDvfTwV2QJqZmZmZyXZADi2yne+Hd0CPwvUoXE14QLbz/dR49XhA001iEFiteUCiRbbz/UR6QLByaJHtSIBAfT81Xrq0gkA=",
          "dtype": "f8"
         },
         "yaxis": "y"
        }
       ],
       "layout": {
        "legend": {
         "title": {
          "text": "Category"
         },
         "tracegroupgap": 0
        },
        "template": {
         "data": {
          "bar": [
           {
            "error_x": {
             "color": "#2a3f5f"
            },
            "error_y": {
             "color": "#2a3f5f"
            },
            "marker": {
             "line": {
              "color": "#E5ECF6",
              "width": 0.5
             },
             "pattern": {
              "fillmode": "overlay",
              "size": 10,
              "solidity": 0.2
             }
            },
            "type": "bar"
           }
          ],
          "barpolar": [
           {
            "marker": {
             "line": {
              "color": "#E5ECF6",
              "width": 0.5
             },
             "pattern": {
              "fillmode": "overlay",
              "size": 10,
              "solidity": 0.2
             }
            },
            "type": "barpolar"
           }
          ],
          "carpet": [
           {
            "aaxis": {
             "endlinecolor": "#2a3f5f",
             "gridcolor": "white",
             "linecolor": "white",
             "minorgridcolor": "white",
             "startlinecolor": "#2a3f5f"
            },
            "baxis": {
             "endlinecolor": "#2a3f5f",
             "gridcolor": "white",
             "linecolor": "white",
             "minorgridcolor": "white",
             "startlinecolor": "#2a3f5f"
            },
            "type": "carpet"
           }
          ],
          "choropleth": [
           {
            "colorbar": {
             "outlinewidth": 0,
             "ticks": ""
            },
            "type": "choropleth"
           }
          ],
          "contour": [
           {
            "colorbar": {
             "outlinewidth": 0,
             "ticks": ""
            },
            "colorscale": [
             [
              0,
              "#0d0887"
             ],
             [
              0.1111111111111111,
              "#46039f"
             ],
             [
              0.2222222222222222,
              "#7201a8"
             ],
             [
              0.3333333333333333,
              "#9c179e"
             ],
             [
              0.4444444444444444,
              "#bd3786"
             ],
             [
              0.5555555555555556,
              "#d8576b"
             ],
             [
              0.6666666666666666,
              "#ed7953"
             ],
             [
              0.7777777777777778,
              "#fb9f3a"
             ],
             [
              0.8888888888888888,
              "#fdca26"
             ],
             [
              1,
              "#f0f921"
             ]
            ],
            "type": "contour"
           }
          ],
          "contourcarpet": [
           {
            "colorbar": {
             "outlinewidth": 0,
             "ticks": ""
            },
            "type": "contourcarpet"
           }
          ],
          "heatmap": [
           {
            "colorbar": {
             "outlinewidth": 0,
             "ticks": ""
            },
            "colorscale": [
             [
              0,
              "#0d0887"
             ],
             [
              0.1111111111111111,
              "#46039f"
             ],
             [
              0.2222222222222222,
              "#7201a8"
             ],
             [
              0.3333333333333333,
              "#9c179e"
             ],
             [
              0.4444444444444444,
              "#bd3786"
             ],
             [
              0.5555555555555556,
              "#d8576b"
             ],
             [
              0.6666666666666666,
              "#ed7953"
             ],
             [
              0.7777777777777778,
              "#fb9f3a"
             ],
             [
              0.8888888888888888,
              "#fdca26"
             ],
             [
              1,
              "#f0f921"
             ]
            ],
            "type": "heatmap"
           }
          ],
          "histogram": [
           {
            "marker": {
             "pattern": {
              "fillmode": "overlay",
              "size": 10,
              "solidity": 0.2
             }
            },
            "type": "histogram"
           }
          ],
          "histogram2d": [
           {
            "colorbar": {
             "outlinewidth": 0,
             "ticks": ""
            },
            "colorscale": [
             [
              0,
              "#0d0887"
             ],
             [
              0.1111111111111111,
              "#46039f"
             ],
             [
              0.2222222222222222,
              "#7201a8"
             ],
             [
              0.3333333333333333,
              "#9c179e"
             ],
             [
              0.4444444444444444,
              "#bd3786"
             ],
             [
              0.5555555555555556,
              "#d8576b"
             ],
             [
              0.6666666666666666,
              "#ed7953"
             ],
             [
              0.7777777777777778,
              "#fb9f3a"
             ],
             [
              0.8888888888888888,
              "#fdca26"
             ],
             [
              1,
              "#f0f921"
             ]
            ],
            "type": "histogram2d"
           }
          ],
          "histogram2dcontour": [
           {
            "colorbar": {
             "outlinewidth": 0,
             "ticks": ""
            },
            "colorscale": [
             [
              0,
              "#0d0887"
             ],
             [
              0.1111111111111111,
              "#46039f"
             ],
             [
              0.2222222222222222,
              "#7201a8"
             ],
             [
              0.3333333333333333,
              "#9c179e"
             ],
             [
              0.4444444444444444,
              "#bd3786"
             ],
             [
              0.5555555555555556,
              "#d8576b"
             ],
             [
              0.6666666666666666,
              "#ed7953"
             ],
             [
              0.7777777777777778,
              "#fb9f3a"
             ],
             [
              0.8888888888888888,
              "#fdca26"
             ],
             [
              1,
              "#f0f921"
             ]
            ],
            "type": "histogram2dcontour"
           }
          ],
          "mesh3d": [
           {
            "colorbar": {
             "outlinewidth": 0,
             "ticks": ""
            },
            "type": "mesh3d"
           }
          ],
          "parcoords": [
           {
            "line": {
             "colorbar": {
              "outlinewidth": 0,
              "ticks": ""
             }
            },
            "type": "parcoords"
           }
          ],
          "pie": [
           {
            "automargin": true,
            "type": "pie"
           }
          ],
          "scatter": [
           {
            "fillpattern": {
             "fillmode": "overlay",
             "size": 10,
             "solidity": 0.2
            },
            "type": "scatter"
           }
          ],
          "scatter3d": [
           {
            "line": {
             "colorbar": {
              "outlinewidth": 0,
              "ticks": ""
             }
            },
            "marker": {
             "colorbar": {
              "outlinewidth": 0,
              "ticks": ""
             }
            },
            "type": "scatter3d"
           }
          ],
          "scattercarpet": [
           {
            "marker": {
             "colorbar": {
              "outlinewidth": 0,
              "ticks": ""
             }
            },
            "type": "scattercarpet"
           }
          ],
          "scattergeo": [
           {
            "marker": {
             "colorbar": {
              "outlinewidth": 0,
              "ticks": ""
             }
            },
            "type": "scattergeo"
           }
          ],
          "scattergl": [
           {
            "marker": {
             "colorbar": {
              "outlinewidth": 0,
              "ticks": ""
             }
            },
            "type": "scattergl"
           }
          ],
          "scattermap": [
           {
            "marker": {
             "colorbar": {
              "outlinewidth": 0,
              "ticks": ""
             }
            },
            "type": "scattermap"
           }
          ],
          "scattermapbox": [
           {
            "marker": {
             "colorbar": {
              "outlinewidth": 0,
              "ticks": ""
             }
            },
            "type": "scattermapbox"
           }
          ],
          "scatterpolar": [
           {
            "marker": {
             "colorbar": {
              "outlinewidth": 0,
              "ticks": ""
             }
            },
            "type": "scatterpolar"
           }
          ],
          "scatterpolargl": [
           {
            "marker": {
             "colorbar": {
              "outlinewidth": 0,
              "ticks": ""
             }
            },
            "type": "scatterpolargl"
           }
          ],
          "scatterternary": [
           {
            "marker": {
             "colorbar": {
              "outlinewidth": 0,
              "ticks": ""
             }
            },
            "type": "scatterternary"
           }
          ],
          "surface": [
           {
            "colorbar": {
             "outlinewidth": 0,
             "ticks": ""
            },
            "colorscale": [
             [
              0,
              "#0d0887"
             ],
             [
              0.1111111111111111,
              "#46039f"
             ],
             [
              0.2222222222222222,
              "#7201a8"
             ],
             [
              0.3333333333333333,
              "#9c179e"
             ],
             [
              0.4444444444444444,
              "#bd3786"
             ],
             [
              0.5555555555555556,
              "#d8576b"
             ],
             [
              0.6666666666666666,
              "#ed7953"
             ],
             [
              0.7777777777777778,
              "#fb9f3a"
             ],
             [
              0.8888888888888888,
              "#fdca26"
             ],
             [
              1,
              "#f0f921"
             ]
            ],
            "type": "surface"
           }
          ],
          "table": [
           {
            "cells": {
             "fill": {
              "color": "#EBF0F8"
             },
             "line": {
              "color": "white"
             }
            },
            "header": {
             "fill": {
              "color": "#C8D4E3"
             },
             "line": {
              "color": "white"
             }
            },
            "type": "table"
           }
          ]
         },
         "layout": {
          "annotationdefaults": {
           "arrowcolor": "#2a3f5f",
           "arrowhead": 0,
           "arrowwidth": 1
          },
          "autotypenumbers": "strict",
          "coloraxis": {
           "colorbar": {
            "outlinewidth": 0,
            "ticks": ""
           }
          },
          "colorscale": {
           "diverging": [
            [
             0,
             "#8e0152"
            ],
            [
             0.1,
             "#c51b7d"
            ],
            [
             0.2,
             "#de77ae"
            ],
            [
             0.3,
             "#f1b6da"
            ],
            [
             0.4,
             "#fde0ef"
            ],
            [
             0.5,
             "#f7f7f7"
            ],
            [
             0.6,
             "#e6f5d0"
            ],
            [
             0.7,
             "#b8e186"
            ],
            [
             0.8,
             "#7fbc41"
            ],
            [
             0.9,
             "#4d9221"
            ],
            [
             1,
             "#276419"
            ]
           ],
           "sequential": [
            [
             0,
             "#0d0887"
            ],
            [
             0.1111111111111111,
             "#46039f"
            ],
            [
             0.2222222222222222,
             "#7201a8"
            ],
            [
             0.3333333333333333,
             "#9c179e"
            ],
            [
             0.4444444444444444,
             "#bd3786"
            ],
            [
             0.5555555555555556,
             "#d8576b"
            ],
            [
             0.6666666666666666,
             "#ed7953"
            ],
            [
             0.7777777777777778,
             "#fb9f3a"
            ],
            [
             0.8888888888888888,
             "#fdca26"
            ],
            [
             1,
             "#f0f921"
            ]
           ],
           "sequentialminus": [
            [
             0,
             "#0d0887"
            ],
            [
             0.1111111111111111,
             "#46039f"
            ],
            [
             0.2222222222222222,
             "#7201a8"
            ],
            [
             0.3333333333333333,
             "#9c179e"
            ],
            [
             0.4444444444444444,
             "#bd3786"
            ],
            [
             0.5555555555555556,
             "#d8576b"
            ],
            [
             0.6666666666666666,
             "#ed7953"
            ],
            [
             0.7777777777777778,
             "#fb9f3a"
            ],
            [
             0.8888888888888888,
             "#fdca26"
            ],
            [
             1,
             "#f0f921"
            ]
           ]
          },
          "colorway": [
           "#636efa",
           "#EF553B",
           "#00cc96",
           "#ab63fa",
           "#FFA15A",
           "#19d3f3",
           "#FF6692",
           "#B6E880",
           "#FF97FF",
           "#FECB52"
          ],
          "font": {
           "color": "#2a3f5f"
          },
          "geo": {
           "bgcolor": "white",
           "lakecolor": "white",
           "landcolor": "#E5ECF6",
           "showlakes": true,
           "showland": true,
           "subunitcolor": "white"
          },
          "hoverlabel": {
           "align": "left"
          },
          "hovermode": "closest",
          "mapbox": {
           "style": "light"
          },
          "paper_bgcolor": "white",
          "plot_bgcolor": "#E5ECF6",
          "polar": {
           "angularaxis": {
            "gridcolor": "white",
            "linecolor": "white",
            "ticks": ""
           },
           "bgcolor": "#E5ECF6",
           "radialaxis": {
            "gridcolor": "white",
            "linecolor": "white",
            "ticks": ""
           }
          },
          "scene": {
           "xaxis": {
            "backgroundcolor": "#E5ECF6",
            "gridcolor": "white",
            "gridwidth": 2,
            "linecolor": "white",
            "showbackground": true,
            "ticks": "",
            "zerolinecolor": "white"
           },
           "yaxis": {
            "backgroundcolor": "#E5ECF6",
            "gridcolor": "white",
            "gridwidth": 2,
            "linecolor": "white",
            "showbackground": true,
            "ticks": "",
            "zerolinecolor": "white"
           },
           "zaxis": {
            "backgroundcolor": "#E5ECF6",
            "gridcolor": "white",
            "gridwidth": 2,
            "linecolor": "white",
            "showbackground": true,
            "ticks": "",
            "zerolinecolor": "white"
           }
          },
          "shapedefaults": {
           "line": {
            "color": "#2a3f5f"
           }
          },
          "ternary": {
           "aaxis": {
            "gridcolor": "white",
            "linecolor": "white",
            "ticks": ""
           },
           "baxis": {
            "gridcolor": "white",
            "linecolor": "white",
            "ticks": ""
           },
           "bgcolor": "#E5ECF6",
           "caxis": {
            "gridcolor": "white",
            "linecolor": "white",
            "ticks": ""
           }
          },
          "title": {
           "x": 0.05
          },
          "xaxis": {
           "automargin": true,
           "gridcolor": "white",
           "linecolor": "white",
           "ticks": "",
           "title": {
            "standoff": 15
           },
           "zerolinecolor": "white",
           "zerolinewidth": 2
          },
          "yaxis": {
           "automargin": true,
           "gridcolor": "white",
           "linecolor": "white",
           "ticks": "",
           "title": {
            "standoff": 15
           },
           "zerolinecolor": "white",
           "zerolinewidth": 2
          }
         }
        },
        "title": {
         "text": "Mortality Rate per 1,000 Adults (1960-2021)"
        },
        "xaxis": {
         "anchor": "y",
         "domain": [
          0,
          1
         ],
         "title": {
          "text": "Year"
         }
        },
        "yaxis": {
         "anchor": "x",
         "domain": [
          0,
          1
         ],
         "title": {
          "text": "Mortality Rate Per 1,000"
         }
        }
       }
      },
      "text/html": [
       "<div>            <script src=\"https://cdnjs.cloudflare.com/ajax/libs/mathjax/2.7.5/MathJax.js?config=TeX-AMS-MML_SVG\"></script><script type=\"text/javascript\">if (window.MathJax && window.MathJax.Hub && window.MathJax.Hub.Config) {window.MathJax.Hub.Config({SVG: {font: \"STIX-Web\"}});}</script>                <script type=\"text/javascript\">window.PlotlyConfig = {MathJaxConfig: 'local'};</script>\n",
       "        <script charset=\"utf-8\" src=\"https://cdn.plot.ly/plotly-3.0.0.min.js\"></script>                <div id=\"2ac2cff5-8513-4ee7-bf33-78a5e3e4237c\" class=\"plotly-graph-div\" style=\"height:525px; width:100%;\"></div>            <script type=\"text/javascript\">                window.PLOTLYENV=window.PLOTLYENV || {};                                if (document.getElementById(\"2ac2cff5-8513-4ee7-bf33-78a5e3e4237c\")) {                    Plotly.newPlot(                        \"2ac2cff5-8513-4ee7-bf33-78a5e3e4237c\",                        [{\"hovertemplate\":\"Category=Adult female\\u003cbr\\u003eYear=%{x}\\u003cbr\\u003eMortality Rate Per 1,000=%{y}\\u003cextra\\u003e\\u003c\\u002fextra\\u003e\",\"legendgroup\":\"Adult female\",\"line\":{\"color\":\"#636efa\",\"dash\":\"solid\"},\"marker\":{\"symbol\":\"circle\"},\"mode\":\"lines\",\"name\":\"Adult female\",\"orientation\":\"v\",\"showlegend\":true,\"x\":{\"dtype\":\"i4\",\"bdata\":\"5wcAAOYHAADlBwAA5AcAAOMHAADiBwAA4QcAAOAHAADfBwAA3gcAAN0HAADcBwAA2wcAANoHAADZBwAA2AcAANcHAADWBwAA1QcAANQHAADTBwAA0gcAANEHAADQBwAAzwcAAM4HAADNBwAAzAcAAMsHAADKBwAAyQcAAMgHAADHBwAAxgcAAMUHAADEBwAAwwcAAMIHAADBBwAAwAcAAL8HAAC+BwAAvQcAALwHAAC7BwAAugcAALkHAAC4BwAAtwcAALYHAAC1BwAAtAcAALMHAACyBwAAsQcAALAHAACvBwAArgcAAK0HAACsBwAAqwcAAKoHAACpBwAAqAcAAA==\"},\"xaxis\":\"x\",\"y\":{\"dtype\":\"f8\",\"bdata\":\"AAAAAAAA+H+LbOf7qfFKQNEi2\\u002fl+GktADi2yne+3S0B56SYxCHxMQP7UeOkm8UxAQmDl0CLLTUAv3SQGgXVOQMP1KFyPIk9Ag8DKoUXGT0DsUbgehTNQQMuhRbbzbVBAKVyPwvXQUEBqvHSTGCxRQJhuEoPAalFAf2q8dJN4UkBYObTIdi5SQH9qvHSTmFJAexSuR+ECU0ACK4cW2X5TQFg5tMh27lNAkxgEVg5lVECWQ4ts5+NUQBsv3SQG2VZADi2yne\\u002fnV0BWDi2ynZ9XQMP1KFyP+lhA2c73U+PNWUDufD81XipaQIlBYOXQcltADi2yne\\u002fXW0DsUbgehVNdQN0kBoGVE19A9P3UeOnmXkAzMzMzM0NfQBKDwMqhDWBAbef7qfGSYEDufD81XjZhQEJg5dAiy2FAGy\\u002fdJAZhYkD+1HjpJvViQB+F61G4nmNA0SLb+X5KZEB3vp8aLwllQI\\u002fC9Shcv2VASOF6FK6HZkD2KFyPwl1nQMl2vp8aT2hAyXa+nxpfaUA1XrpJDF5qQC\\u002fdJAaBjWtADAIrhxYVbUAzMzMzM1duQOxRuB6Fk29APQrXo3BhcEArhxbZzuVwQFTjpZvEbHFA7FG4HoX3cUBOYhBYOWpyQNEi2\\u002fl+CHNA2\\u002fl+aryQc0B9PzVeuvlzQA4tsp3vqXlAGQRWDi0mfkA=\"},\"yaxis\":\"y\",\"type\":\"scatter\"},{\"hovertemplate\":\"Category=Adult male\\u003cbr\\u003eYear=%{x}\\u003cbr\\u003eMortality Rate Per 1,000=%{y}\\u003cextra\\u003e\\u003c\\u002fextra\\u003e\",\"legendgroup\":\"Adult male\",\"line\":{\"color\":\"#EF553B\",\"dash\":\"solid\"},\"marker\":{\"symbol\":\"circle\"},\"mode\":\"lines\",\"name\":\"Adult male\",\"orientation\":\"v\",\"showlegend\":true,\"x\":{\"dtype\":\"i4\",\"bdata\":\"5wcAAOYHAADlBwAA5AcAAOMHAADiBwAA4QcAAOAHAADfBwAA3gcAAN0HAADcBwAA2wcAANoHAADZBwAA2AcAANcHAADWBwAA1QcAANQHAADTBwAA0gcAANEHAADQBwAAzwcAAM4HAADNBwAAzAcAAMsHAADKBwAAyQcAAMgHAADHBwAAxgcAAMUHAADEBwAAwwcAAMIHAADBBwAAwAcAAL8HAAC+BwAAvQcAALwHAAC7BwAAugcAALkHAAC4BwAAtwcAALYHAAC1BwAAtAcAALMHAACyBwAAsQcAALAHAACvBwAArgcAAK0HAACsBwAAqwcAAKoHAACpBwAAqAcAAA==\"},\"xaxis\":\"x\",\"y\":{\"dtype\":\"f8\",\"bdata\":\"AAAAAAAA+H8xCKwcWgRaQFYOLbKdt1pA30+Nl25aW0A730+Nl45bQBsv3SQGKVxAjZduEoOwXUCcxCCwcjBdQEjhehSul11AkxgEVg4VXkDdJAaBlZNeQDVeukkMGl9AMQisHFqEX0CWQ4ts5wNgQIGVQ4tsM2BAdZMYBFa6YEA5tMh2vrdgQKrx0k1iyGBAg8DKoUUmYUCwcmiR7WBhQDEIrBxaoGFAK4cW2c7jYUCBlUOLbCtiQPyp8dJNlmJA1XjpJjHcYkA\\u002fNV66SWBjQEjhehSuv2NAGQRWDi0+ZEBQjZduEp9kQNejcD0KL2VAXrpJDAK\\u002fZUAGgZVDi1hmQCUGgZVDL2dAarx0kxjgZ0D6fmq8dE9oQHnpJjEI2GhA2c73U+NtaUBvEoPAyvVpQJ7vp8ZLh2pATDeJQWAVa0CsHFpkO79rQFg5tMh2XmxA46WbxCAUbUCYbhKDwNZtQBSuR+F6kG5ADi2yne9vb0AGgZVDiyZwQIts5\\u002fupp3BAz\\u002fdT46VFcUA3iUFg5cJxQAIrhxbZMnJAmG4Sg8D4ckDLoUW286NzQKwcWmQ7k3RApHA9CtdZdUBaZDvfTwV2QJqZmZmZyXZADi2yne+Hd0CPwvUoXE14QLbz\\u002fdR49XhA001iEFiteUCiRbbz\\u002fUR6QLByaJHtSIBAfT81Xrq0gkA=\"},\"yaxis\":\"y\",\"type\":\"scatter\"}],                        {\"template\":{\"data\":{\"histogram2dcontour\":[{\"type\":\"histogram2dcontour\",\"colorbar\":{\"outlinewidth\":0,\"ticks\":\"\"},\"colorscale\":[[0.0,\"#0d0887\"],[0.1111111111111111,\"#46039f\"],[0.2222222222222222,\"#7201a8\"],[0.3333333333333333,\"#9c179e\"],[0.4444444444444444,\"#bd3786\"],[0.5555555555555556,\"#d8576b\"],[0.6666666666666666,\"#ed7953\"],[0.7777777777777778,\"#fb9f3a\"],[0.8888888888888888,\"#fdca26\"],[1.0,\"#f0f921\"]]}],\"choropleth\":[{\"type\":\"choropleth\",\"colorbar\":{\"outlinewidth\":0,\"ticks\":\"\"}}],\"histogram2d\":[{\"type\":\"histogram2d\",\"colorbar\":{\"outlinewidth\":0,\"ticks\":\"\"},\"colorscale\":[[0.0,\"#0d0887\"],[0.1111111111111111,\"#46039f\"],[0.2222222222222222,\"#7201a8\"],[0.3333333333333333,\"#9c179e\"],[0.4444444444444444,\"#bd3786\"],[0.5555555555555556,\"#d8576b\"],[0.6666666666666666,\"#ed7953\"],[0.7777777777777778,\"#fb9f3a\"],[0.8888888888888888,\"#fdca26\"],[1.0,\"#f0f921\"]]}],\"heatmap\":[{\"type\":\"heatmap\",\"colorbar\":{\"outlinewidth\":0,\"ticks\":\"\"},\"colorscale\":[[0.0,\"#0d0887\"],[0.1111111111111111,\"#46039f\"],[0.2222222222222222,\"#7201a8\"],[0.3333333333333333,\"#9c179e\"],[0.4444444444444444,\"#bd3786\"],[0.5555555555555556,\"#d8576b\"],[0.6666666666666666,\"#ed7953\"],[0.7777777777777778,\"#fb9f3a\"],[0.8888888888888888,\"#fdca26\"],[1.0,\"#f0f921\"]]}],\"contourcarpet\":[{\"type\":\"contourcarpet\",\"colorbar\":{\"outlinewidth\":0,\"ticks\":\"\"}}],\"contour\":[{\"type\":\"contour\",\"colorbar\":{\"outlinewidth\":0,\"ticks\":\"\"},\"colorscale\":[[0.0,\"#0d0887\"],[0.1111111111111111,\"#46039f\"],[0.2222222222222222,\"#7201a8\"],[0.3333333333333333,\"#9c179e\"],[0.4444444444444444,\"#bd3786\"],[0.5555555555555556,\"#d8576b\"],[0.6666666666666666,\"#ed7953\"],[0.7777777777777778,\"#fb9f3a\"],[0.8888888888888888,\"#fdca26\"],[1.0,\"#f0f921\"]]}],\"surface\":[{\"type\":\"surface\",\"colorbar\":{\"outlinewidth\":0,\"ticks\":\"\"},\"colorscale\":[[0.0,\"#0d0887\"],[0.1111111111111111,\"#46039f\"],[0.2222222222222222,\"#7201a8\"],[0.3333333333333333,\"#9c179e\"],[0.4444444444444444,\"#bd3786\"],[0.5555555555555556,\"#d8576b\"],[0.6666666666666666,\"#ed7953\"],[0.7777777777777778,\"#fb9f3a\"],[0.8888888888888888,\"#fdca26\"],[1.0,\"#f0f921\"]]}],\"mesh3d\":[{\"type\":\"mesh3d\",\"colorbar\":{\"outlinewidth\":0,\"ticks\":\"\"}}],\"scatter\":[{\"fillpattern\":{\"fillmode\":\"overlay\",\"size\":10,\"solidity\":0.2},\"type\":\"scatter\"}],\"parcoords\":[{\"type\":\"parcoords\",\"line\":{\"colorbar\":{\"outlinewidth\":0,\"ticks\":\"\"}}}],\"scatterpolargl\":[{\"type\":\"scatterpolargl\",\"marker\":{\"colorbar\":{\"outlinewidth\":0,\"ticks\":\"\"}}}],\"bar\":[{\"error_x\":{\"color\":\"#2a3f5f\"},\"error_y\":{\"color\":\"#2a3f5f\"},\"marker\":{\"line\":{\"color\":\"#E5ECF6\",\"width\":0.5},\"pattern\":{\"fillmode\":\"overlay\",\"size\":10,\"solidity\":0.2}},\"type\":\"bar\"}],\"scattergeo\":[{\"type\":\"scattergeo\",\"marker\":{\"colorbar\":{\"outlinewidth\":0,\"ticks\":\"\"}}}],\"scatterpolar\":[{\"type\":\"scatterpolar\",\"marker\":{\"colorbar\":{\"outlinewidth\":0,\"ticks\":\"\"}}}],\"histogram\":[{\"marker\":{\"pattern\":{\"fillmode\":\"overlay\",\"size\":10,\"solidity\":0.2}},\"type\":\"histogram\"}],\"scattergl\":[{\"type\":\"scattergl\",\"marker\":{\"colorbar\":{\"outlinewidth\":0,\"ticks\":\"\"}}}],\"scatter3d\":[{\"type\":\"scatter3d\",\"line\":{\"colorbar\":{\"outlinewidth\":0,\"ticks\":\"\"}},\"marker\":{\"colorbar\":{\"outlinewidth\":0,\"ticks\":\"\"}}}],\"scattermap\":[{\"type\":\"scattermap\",\"marker\":{\"colorbar\":{\"outlinewidth\":0,\"ticks\":\"\"}}}],\"scattermapbox\":[{\"type\":\"scattermapbox\",\"marker\":{\"colorbar\":{\"outlinewidth\":0,\"ticks\":\"\"}}}],\"scatterternary\":[{\"type\":\"scatterternary\",\"marker\":{\"colorbar\":{\"outlinewidth\":0,\"ticks\":\"\"}}}],\"scattercarpet\":[{\"type\":\"scattercarpet\",\"marker\":{\"colorbar\":{\"outlinewidth\":0,\"ticks\":\"\"}}}],\"carpet\":[{\"aaxis\":{\"endlinecolor\":\"#2a3f5f\",\"gridcolor\":\"white\",\"linecolor\":\"white\",\"minorgridcolor\":\"white\",\"startlinecolor\":\"#2a3f5f\"},\"baxis\":{\"endlinecolor\":\"#2a3f5f\",\"gridcolor\":\"white\",\"linecolor\":\"white\",\"minorgridcolor\":\"white\",\"startlinecolor\":\"#2a3f5f\"},\"type\":\"carpet\"}],\"table\":[{\"cells\":{\"fill\":{\"color\":\"#EBF0F8\"},\"line\":{\"color\":\"white\"}},\"header\":{\"fill\":{\"color\":\"#C8D4E3\"},\"line\":{\"color\":\"white\"}},\"type\":\"table\"}],\"barpolar\":[{\"marker\":{\"line\":{\"color\":\"#E5ECF6\",\"width\":0.5},\"pattern\":{\"fillmode\":\"overlay\",\"size\":10,\"solidity\":0.2}},\"type\":\"barpolar\"}],\"pie\":[{\"automargin\":true,\"type\":\"pie\"}]},\"layout\":{\"autotypenumbers\":\"strict\",\"colorway\":[\"#636efa\",\"#EF553B\",\"#00cc96\",\"#ab63fa\",\"#FFA15A\",\"#19d3f3\",\"#FF6692\",\"#B6E880\",\"#FF97FF\",\"#FECB52\"],\"font\":{\"color\":\"#2a3f5f\"},\"hovermode\":\"closest\",\"hoverlabel\":{\"align\":\"left\"},\"paper_bgcolor\":\"white\",\"plot_bgcolor\":\"#E5ECF6\",\"polar\":{\"bgcolor\":\"#E5ECF6\",\"angularaxis\":{\"gridcolor\":\"white\",\"linecolor\":\"white\",\"ticks\":\"\"},\"radialaxis\":{\"gridcolor\":\"white\",\"linecolor\":\"white\",\"ticks\":\"\"}},\"ternary\":{\"bgcolor\":\"#E5ECF6\",\"aaxis\":{\"gridcolor\":\"white\",\"linecolor\":\"white\",\"ticks\":\"\"},\"baxis\":{\"gridcolor\":\"white\",\"linecolor\":\"white\",\"ticks\":\"\"},\"caxis\":{\"gridcolor\":\"white\",\"linecolor\":\"white\",\"ticks\":\"\"}},\"coloraxis\":{\"colorbar\":{\"outlinewidth\":0,\"ticks\":\"\"}},\"colorscale\":{\"sequential\":[[0.0,\"#0d0887\"],[0.1111111111111111,\"#46039f\"],[0.2222222222222222,\"#7201a8\"],[0.3333333333333333,\"#9c179e\"],[0.4444444444444444,\"#bd3786\"],[0.5555555555555556,\"#d8576b\"],[0.6666666666666666,\"#ed7953\"],[0.7777777777777778,\"#fb9f3a\"],[0.8888888888888888,\"#fdca26\"],[1.0,\"#f0f921\"]],\"sequentialminus\":[[0.0,\"#0d0887\"],[0.1111111111111111,\"#46039f\"],[0.2222222222222222,\"#7201a8\"],[0.3333333333333333,\"#9c179e\"],[0.4444444444444444,\"#bd3786\"],[0.5555555555555556,\"#d8576b\"],[0.6666666666666666,\"#ed7953\"],[0.7777777777777778,\"#fb9f3a\"],[0.8888888888888888,\"#fdca26\"],[1.0,\"#f0f921\"]],\"diverging\":[[0,\"#8e0152\"],[0.1,\"#c51b7d\"],[0.2,\"#de77ae\"],[0.3,\"#f1b6da\"],[0.4,\"#fde0ef\"],[0.5,\"#f7f7f7\"],[0.6,\"#e6f5d0\"],[0.7,\"#b8e186\"],[0.8,\"#7fbc41\"],[0.9,\"#4d9221\"],[1,\"#276419\"]]},\"xaxis\":{\"gridcolor\":\"white\",\"linecolor\":\"white\",\"ticks\":\"\",\"title\":{\"standoff\":15},\"zerolinecolor\":\"white\",\"automargin\":true,\"zerolinewidth\":2},\"yaxis\":{\"gridcolor\":\"white\",\"linecolor\":\"white\",\"ticks\":\"\",\"title\":{\"standoff\":15},\"zerolinecolor\":\"white\",\"automargin\":true,\"zerolinewidth\":2},\"scene\":{\"xaxis\":{\"backgroundcolor\":\"#E5ECF6\",\"gridcolor\":\"white\",\"linecolor\":\"white\",\"showbackground\":true,\"ticks\":\"\",\"zerolinecolor\":\"white\",\"gridwidth\":2},\"yaxis\":{\"backgroundcolor\":\"#E5ECF6\",\"gridcolor\":\"white\",\"linecolor\":\"white\",\"showbackground\":true,\"ticks\":\"\",\"zerolinecolor\":\"white\",\"gridwidth\":2},\"zaxis\":{\"backgroundcolor\":\"#E5ECF6\",\"gridcolor\":\"white\",\"linecolor\":\"white\",\"showbackground\":true,\"ticks\":\"\",\"zerolinecolor\":\"white\",\"gridwidth\":2}},\"shapedefaults\":{\"line\":{\"color\":\"#2a3f5f\"}},\"annotationdefaults\":{\"arrowcolor\":\"#2a3f5f\",\"arrowhead\":0,\"arrowwidth\":1},\"geo\":{\"bgcolor\":\"white\",\"landcolor\":\"#E5ECF6\",\"subunitcolor\":\"white\",\"showland\":true,\"showlakes\":true,\"lakecolor\":\"white\"},\"title\":{\"x\":0.05},\"mapbox\":{\"style\":\"light\"}}},\"xaxis\":{\"anchor\":\"y\",\"domain\":[0.0,1.0],\"title\":{\"text\":\"Year\"}},\"yaxis\":{\"anchor\":\"x\",\"domain\":[0.0,1.0],\"title\":{\"text\":\"Mortality Rate Per 1,000\"}},\"legend\":{\"title\":{\"text\":\"Category\"},\"tracegroupgap\":0},\"title\":{\"text\":\"Mortality Rate per 1,000 Adults (1960-2021)\"}},                        {\"responsive\": true}                    ).then(function(){\n",
       "                            \n",
       "var gd = document.getElementById('2ac2cff5-8513-4ee7-bf33-78a5e3e4237c');\n",
       "var x = new MutationObserver(function (mutations, observer) {{\n",
       "        var display = window.getComputedStyle(gd).display;\n",
       "        if (!display || display === 'none') {{\n",
       "            console.log([gd, 'removed!']);\n",
       "            Plotly.purge(gd);\n",
       "            observer.disconnect();\n",
       "        }}\n",
       "}});\n",
       "\n",
       "// Listen for the removal of the full notebook cells\n",
       "var notebookContainer = gd.closest('#notebook-container');\n",
       "if (notebookContainer) {{\n",
       "    x.observe(notebookContainer, {childList: true});\n",
       "}}\n",
       "\n",
       "// Listen for the clearing of the current output cell\n",
       "var outputEl = gd.closest('.output');\n",
       "if (outputEl) {{\n",
       "    x.observe(outputEl, {childList: true});\n",
       "}}\n",
       "\n",
       "                        })                };            </script>        </div>"
      ]
     },
     "metadata": {},
     "output_type": "display_data"
    }
   ],
   "source": [
    "#Mortality Rate per 1,000 Adults \n",
    "\n",
    "variable_labels = {\"SP.DYN.AMRT.FE\": \"Adult female\",\n",
    "                   \"SP.DYN.AMRT.MA\": \"Adult male\"}\n",
    "\n",
    "China_pop = wbdata.get_dataframe(variable_labels, country = \"CHN\") \n",
    "\n",
    "China_pop.index = pd.to_datetime(China_pop.index)\n",
    "China_pop.index = China_pop.index.year\n",
    "China_pop = China_pop.reset_index().melt(id_vars = \"date\", var_name = \"Category\", value_name = \"Mortality Rate\")\n",
    "\n",
    "fig = px.line(China_pop,x = \"date\", y = \"Mortality Rate\", color = \"Category\", title = \"Mortality Rate per 1,000 Adults (1960-2021)\",labels = {\"date\": \"Year\", \"Mortality Rate\": \"Mortality Rate Per 1,000\"})\n",
    "fig.show()"
   ]
  },
  {
   "cell_type": "code",
   "execution_count": 38,
   "id": "29fca2ac-f063-4ac2-a67c-3e41c3f2a1c6",
   "metadata": {},
   "outputs": [
    {
     "data": {
      "application/vnd.plotly.v1+json": {
       "config": {
        "plotlyServerURL": "https://plot.ly"
       },
       "data": [
        {
         "hovertemplate": "Year=%{x}<br>GDP (current US$)=%{y}<extra></extra>",
         "legendgroup": "",
         "line": {
          "color": "#636efa",
          "dash": "solid"
         },
         "marker": {
          "symbol": "circle"
         },
         "mode": "lines",
         "name": "",
         "orientation": "v",
         "showlegend": false,
         "type": "scatter",
         "x": [
          "2023-01-01T00:00:00.000000000",
          "2022-01-01T00:00:00.000000000",
          "2021-01-01T00:00:00.000000000",
          "2020-01-01T00:00:00.000000000",
          "2019-01-01T00:00:00.000000000",
          "2018-01-01T00:00:00.000000000",
          "2017-01-01T00:00:00.000000000",
          "2016-01-01T00:00:00.000000000",
          "2015-01-01T00:00:00.000000000",
          "2014-01-01T00:00:00.000000000",
          "2013-01-01T00:00:00.000000000",
          "2012-01-01T00:00:00.000000000",
          "2011-01-01T00:00:00.000000000",
          "2010-01-01T00:00:00.000000000",
          "2009-01-01T00:00:00.000000000",
          "2008-01-01T00:00:00.000000000",
          "2007-01-01T00:00:00.000000000",
          "2006-01-01T00:00:00.000000000",
          "2005-01-01T00:00:00.000000000",
          "2004-01-01T00:00:00.000000000",
          "2003-01-01T00:00:00.000000000",
          "2002-01-01T00:00:00.000000000",
          "2001-01-01T00:00:00.000000000",
          "2000-01-01T00:00:00.000000000",
          "1999-01-01T00:00:00.000000000",
          "1998-01-01T00:00:00.000000000",
          "1997-01-01T00:00:00.000000000",
          "1996-01-01T00:00:00.000000000",
          "1995-01-01T00:00:00.000000000",
          "1994-01-01T00:00:00.000000000",
          "1993-01-01T00:00:00.000000000",
          "1992-01-01T00:00:00.000000000",
          "1991-01-01T00:00:00.000000000",
          "1990-01-01T00:00:00.000000000",
          "1989-01-01T00:00:00.000000000",
          "1988-01-01T00:00:00.000000000",
          "1987-01-01T00:00:00.000000000",
          "1986-01-01T00:00:00.000000000",
          "1985-01-01T00:00:00.000000000",
          "1984-01-01T00:00:00.000000000",
          "1983-01-01T00:00:00.000000000",
          "1982-01-01T00:00:00.000000000",
          "1981-01-01T00:00:00.000000000",
          "1980-01-01T00:00:00.000000000",
          "1979-01-01T00:00:00.000000000",
          "1978-01-01T00:00:00.000000000",
          "1977-01-01T00:00:00.000000000",
          "1976-01-01T00:00:00.000000000",
          "1975-01-01T00:00:00.000000000",
          "1974-01-01T00:00:00.000000000",
          "1973-01-01T00:00:00.000000000",
          "1972-01-01T00:00:00.000000000",
          "1971-01-01T00:00:00.000000000",
          "1970-01-01T00:00:00.000000000",
          "1969-01-01T00:00:00.000000000",
          "1968-01-01T00:00:00.000000000",
          "1967-01-01T00:00:00.000000000",
          "1966-01-01T00:00:00.000000000",
          "1965-01-01T00:00:00.000000000",
          "1964-01-01T00:00:00.000000000",
          "1963-01-01T00:00:00.000000000",
          "1962-01-01T00:00:00.000000000",
          "1961-01-01T00:00:00.000000000",
          "1960-01-01T00:00:00.000000000"
         ],
         "xaxis": "x",
         "y": {
          "bdata": "AEDQuCsvsEJNOwhObUOwQjN0pCgmNbBCAOL3i4O3qkJmP4PmoPmpQjOxFxhSRqlCzbkK7YRkpkJmWV5Z626kQmalkjbyHqRCZsalzhcOo0JcL9kPmWihQlzC7IM3Cp9CAEPwy+x4m0L23WGbIyWWQtf06PJRj5JCriaVP8+2kEIzs2M4ANWJQikAhXA4BoRCzb7tN++hgEI9FjX+O3R8QqRspukGKXhCM//wEEFmdULDESU8qH1zQnGhkeKPoHFC4SqPy/bWb0LNlCycGfNtQvATRzl+/GtCN9ETE28jaUKgsiGlVmBlQmogh4SGbGBC9uAANQPjWULJ9rIzitlYQvDn8CW1UFZC0309sTMBVUJt75vVJT5UQmr0+YpuLlJCeUlWhTrHT0K+zyIapYFRQsspeSK7A1JCTpI2fQJDTkLloAg1ANtKQrZjCTwm4EdCH0Uw6EXNRkIAgNu/sEBGQoGF9v0swURCTqLeZqloQULdVEtAf11EQjPjzWS/60FCqtERXpQGQ0I3iaKLKslAQjEIzYHoIEBCz1d0K2l4OkIV/X41lDw3Qq6oixKMjzVCdMQGKtOOMkIDedNhxH4wQqx9kl8R+DBCeuVzYd7cMULTbMIyUGYwQoa6J2DDzStCXkv8EbOcJ0IEtt4IxvslQs+3CtM4TydCyvK9TbvOK0I=",
          "dtype": "f8"
         },
         "yaxis": "y"
        }
       ],
       "layout": {
        "legend": {
         "tracegroupgap": 0
        },
        "template": {
         "data": {
          "bar": [
           {
            "error_x": {
             "color": "#2a3f5f"
            },
            "error_y": {
             "color": "#2a3f5f"
            },
            "marker": {
             "line": {
              "color": "#E5ECF6",
              "width": 0.5
             },
             "pattern": {
              "fillmode": "overlay",
              "size": 10,
              "solidity": 0.2
             }
            },
            "type": "bar"
           }
          ],
          "barpolar": [
           {
            "marker": {
             "line": {
              "color": "#E5ECF6",
              "width": 0.5
             },
             "pattern": {
              "fillmode": "overlay",
              "size": 10,
              "solidity": 0.2
             }
            },
            "type": "barpolar"
           }
          ],
          "carpet": [
           {
            "aaxis": {
             "endlinecolor": "#2a3f5f",
             "gridcolor": "white",
             "linecolor": "white",
             "minorgridcolor": "white",
             "startlinecolor": "#2a3f5f"
            },
            "baxis": {
             "endlinecolor": "#2a3f5f",
             "gridcolor": "white",
             "linecolor": "white",
             "minorgridcolor": "white",
             "startlinecolor": "#2a3f5f"
            },
            "type": "carpet"
           }
          ],
          "choropleth": [
           {
            "colorbar": {
             "outlinewidth": 0,
             "ticks": ""
            },
            "type": "choropleth"
           }
          ],
          "contour": [
           {
            "colorbar": {
             "outlinewidth": 0,
             "ticks": ""
            },
            "colorscale": [
             [
              0,
              "#0d0887"
             ],
             [
              0.1111111111111111,
              "#46039f"
             ],
             [
              0.2222222222222222,
              "#7201a8"
             ],
             [
              0.3333333333333333,
              "#9c179e"
             ],
             [
              0.4444444444444444,
              "#bd3786"
             ],
             [
              0.5555555555555556,
              "#d8576b"
             ],
             [
              0.6666666666666666,
              "#ed7953"
             ],
             [
              0.7777777777777778,
              "#fb9f3a"
             ],
             [
              0.8888888888888888,
              "#fdca26"
             ],
             [
              1,
              "#f0f921"
             ]
            ],
            "type": "contour"
           }
          ],
          "contourcarpet": [
           {
            "colorbar": {
             "outlinewidth": 0,
             "ticks": ""
            },
            "type": "contourcarpet"
           }
          ],
          "heatmap": [
           {
            "colorbar": {
             "outlinewidth": 0,
             "ticks": ""
            },
            "colorscale": [
             [
              0,
              "#0d0887"
             ],
             [
              0.1111111111111111,
              "#46039f"
             ],
             [
              0.2222222222222222,
              "#7201a8"
             ],
             [
              0.3333333333333333,
              "#9c179e"
             ],
             [
              0.4444444444444444,
              "#bd3786"
             ],
             [
              0.5555555555555556,
              "#d8576b"
             ],
             [
              0.6666666666666666,
              "#ed7953"
             ],
             [
              0.7777777777777778,
              "#fb9f3a"
             ],
             [
              0.8888888888888888,
              "#fdca26"
             ],
             [
              1,
              "#f0f921"
             ]
            ],
            "type": "heatmap"
           }
          ],
          "histogram": [
           {
            "marker": {
             "pattern": {
              "fillmode": "overlay",
              "size": 10,
              "solidity": 0.2
             }
            },
            "type": "histogram"
           }
          ],
          "histogram2d": [
           {
            "colorbar": {
             "outlinewidth": 0,
             "ticks": ""
            },
            "colorscale": [
             [
              0,
              "#0d0887"
             ],
             [
              0.1111111111111111,
              "#46039f"
             ],
             [
              0.2222222222222222,
              "#7201a8"
             ],
             [
              0.3333333333333333,
              "#9c179e"
             ],
             [
              0.4444444444444444,
              "#bd3786"
             ],
             [
              0.5555555555555556,
              "#d8576b"
             ],
             [
              0.6666666666666666,
              "#ed7953"
             ],
             [
              0.7777777777777778,
              "#fb9f3a"
             ],
             [
              0.8888888888888888,
              "#fdca26"
             ],
             [
              1,
              "#f0f921"
             ]
            ],
            "type": "histogram2d"
           }
          ],
          "histogram2dcontour": [
           {
            "colorbar": {
             "outlinewidth": 0,
             "ticks": ""
            },
            "colorscale": [
             [
              0,
              "#0d0887"
             ],
             [
              0.1111111111111111,
              "#46039f"
             ],
             [
              0.2222222222222222,
              "#7201a8"
             ],
             [
              0.3333333333333333,
              "#9c179e"
             ],
             [
              0.4444444444444444,
              "#bd3786"
             ],
             [
              0.5555555555555556,
              "#d8576b"
             ],
             [
              0.6666666666666666,
              "#ed7953"
             ],
             [
              0.7777777777777778,
              "#fb9f3a"
             ],
             [
              0.8888888888888888,
              "#fdca26"
             ],
             [
              1,
              "#f0f921"
             ]
            ],
            "type": "histogram2dcontour"
           }
          ],
          "mesh3d": [
           {
            "colorbar": {
             "outlinewidth": 0,
             "ticks": ""
            },
            "type": "mesh3d"
           }
          ],
          "parcoords": [
           {
            "line": {
             "colorbar": {
              "outlinewidth": 0,
              "ticks": ""
             }
            },
            "type": "parcoords"
           }
          ],
          "pie": [
           {
            "automargin": true,
            "type": "pie"
           }
          ],
          "scatter": [
           {
            "fillpattern": {
             "fillmode": "overlay",
             "size": 10,
             "solidity": 0.2
            },
            "type": "scatter"
           }
          ],
          "scatter3d": [
           {
            "line": {
             "colorbar": {
              "outlinewidth": 0,
              "ticks": ""
             }
            },
            "marker": {
             "colorbar": {
              "outlinewidth": 0,
              "ticks": ""
             }
            },
            "type": "scatter3d"
           }
          ],
          "scattercarpet": [
           {
            "marker": {
             "colorbar": {
              "outlinewidth": 0,
              "ticks": ""
             }
            },
            "type": "scattercarpet"
           }
          ],
          "scattergeo": [
           {
            "marker": {
             "colorbar": {
              "outlinewidth": 0,
              "ticks": ""
             }
            },
            "type": "scattergeo"
           }
          ],
          "scattergl": [
           {
            "marker": {
             "colorbar": {
              "outlinewidth": 0,
              "ticks": ""
             }
            },
            "type": "scattergl"
           }
          ],
          "scattermap": [
           {
            "marker": {
             "colorbar": {
              "outlinewidth": 0,
              "ticks": ""
             }
            },
            "type": "scattermap"
           }
          ],
          "scattermapbox": [
           {
            "marker": {
             "colorbar": {
              "outlinewidth": 0,
              "ticks": ""
             }
            },
            "type": "scattermapbox"
           }
          ],
          "scatterpolar": [
           {
            "marker": {
             "colorbar": {
              "outlinewidth": 0,
              "ticks": ""
             }
            },
            "type": "scatterpolar"
           }
          ],
          "scatterpolargl": [
           {
            "marker": {
             "colorbar": {
              "outlinewidth": 0,
              "ticks": ""
             }
            },
            "type": "scatterpolargl"
           }
          ],
          "scatterternary": [
           {
            "marker": {
             "colorbar": {
              "outlinewidth": 0,
              "ticks": ""
             }
            },
            "type": "scatterternary"
           }
          ],
          "surface": [
           {
            "colorbar": {
             "outlinewidth": 0,
             "ticks": ""
            },
            "colorscale": [
             [
              0,
              "#0d0887"
             ],
             [
              0.1111111111111111,
              "#46039f"
             ],
             [
              0.2222222222222222,
              "#7201a8"
             ],
             [
              0.3333333333333333,
              "#9c179e"
             ],
             [
              0.4444444444444444,
              "#bd3786"
             ],
             [
              0.5555555555555556,
              "#d8576b"
             ],
             [
              0.6666666666666666,
              "#ed7953"
             ],
             [
              0.7777777777777778,
              "#fb9f3a"
             ],
             [
              0.8888888888888888,
              "#fdca26"
             ],
             [
              1,
              "#f0f921"
             ]
            ],
            "type": "surface"
           }
          ],
          "table": [
           {
            "cells": {
             "fill": {
              "color": "#EBF0F8"
             },
             "line": {
              "color": "white"
             }
            },
            "header": {
             "fill": {
              "color": "#C8D4E3"
             },
             "line": {
              "color": "white"
             }
            },
            "type": "table"
           }
          ]
         },
         "layout": {
          "annotationdefaults": {
           "arrowcolor": "#2a3f5f",
           "arrowhead": 0,
           "arrowwidth": 1
          },
          "autotypenumbers": "strict",
          "coloraxis": {
           "colorbar": {
            "outlinewidth": 0,
            "ticks": ""
           }
          },
          "colorscale": {
           "diverging": [
            [
             0,
             "#8e0152"
            ],
            [
             0.1,
             "#c51b7d"
            ],
            [
             0.2,
             "#de77ae"
            ],
            [
             0.3,
             "#f1b6da"
            ],
            [
             0.4,
             "#fde0ef"
            ],
            [
             0.5,
             "#f7f7f7"
            ],
            [
             0.6,
             "#e6f5d0"
            ],
            [
             0.7,
             "#b8e186"
            ],
            [
             0.8,
             "#7fbc41"
            ],
            [
             0.9,
             "#4d9221"
            ],
            [
             1,
             "#276419"
            ]
           ],
           "sequential": [
            [
             0,
             "#0d0887"
            ],
            [
             0.1111111111111111,
             "#46039f"
            ],
            [
             0.2222222222222222,
             "#7201a8"
            ],
            [
             0.3333333333333333,
             "#9c179e"
            ],
            [
             0.4444444444444444,
             "#bd3786"
            ],
            [
             0.5555555555555556,
             "#d8576b"
            ],
            [
             0.6666666666666666,
             "#ed7953"
            ],
            [
             0.7777777777777778,
             "#fb9f3a"
            ],
            [
             0.8888888888888888,
             "#fdca26"
            ],
            [
             1,
             "#f0f921"
            ]
           ],
           "sequentialminus": [
            [
             0,
             "#0d0887"
            ],
            [
             0.1111111111111111,
             "#46039f"
            ],
            [
             0.2222222222222222,
             "#7201a8"
            ],
            [
             0.3333333333333333,
             "#9c179e"
            ],
            [
             0.4444444444444444,
             "#bd3786"
            ],
            [
             0.5555555555555556,
             "#d8576b"
            ],
            [
             0.6666666666666666,
             "#ed7953"
            ],
            [
             0.7777777777777778,
             "#fb9f3a"
            ],
            [
             0.8888888888888888,
             "#fdca26"
            ],
            [
             1,
             "#f0f921"
            ]
           ]
          },
          "colorway": [
           "#636efa",
           "#EF553B",
           "#00cc96",
           "#ab63fa",
           "#FFA15A",
           "#19d3f3",
           "#FF6692",
           "#B6E880",
           "#FF97FF",
           "#FECB52"
          ],
          "font": {
           "color": "#2a3f5f"
          },
          "geo": {
           "bgcolor": "white",
           "lakecolor": "white",
           "landcolor": "#E5ECF6",
           "showlakes": true,
           "showland": true,
           "subunitcolor": "white"
          },
          "hoverlabel": {
           "align": "left"
          },
          "hovermode": "closest",
          "mapbox": {
           "style": "light"
          },
          "paper_bgcolor": "white",
          "plot_bgcolor": "#E5ECF6",
          "polar": {
           "angularaxis": {
            "gridcolor": "white",
            "linecolor": "white",
            "ticks": ""
           },
           "bgcolor": "#E5ECF6",
           "radialaxis": {
            "gridcolor": "white",
            "linecolor": "white",
            "ticks": ""
           }
          },
          "scene": {
           "xaxis": {
            "backgroundcolor": "#E5ECF6",
            "gridcolor": "white",
            "gridwidth": 2,
            "linecolor": "white",
            "showbackground": true,
            "ticks": "",
            "zerolinecolor": "white"
           },
           "yaxis": {
            "backgroundcolor": "#E5ECF6",
            "gridcolor": "white",
            "gridwidth": 2,
            "linecolor": "white",
            "showbackground": true,
            "ticks": "",
            "zerolinecolor": "white"
           },
           "zaxis": {
            "backgroundcolor": "#E5ECF6",
            "gridcolor": "white",
            "gridwidth": 2,
            "linecolor": "white",
            "showbackground": true,
            "ticks": "",
            "zerolinecolor": "white"
           }
          },
          "shapedefaults": {
           "line": {
            "color": "#2a3f5f"
           }
          },
          "ternary": {
           "aaxis": {
            "gridcolor": "white",
            "linecolor": "white",
            "ticks": ""
           },
           "baxis": {
            "gridcolor": "white",
            "linecolor": "white",
            "ticks": ""
           },
           "bgcolor": "#E5ECF6",
           "caxis": {
            "gridcolor": "white",
            "linecolor": "white",
            "ticks": ""
           }
          },
          "title": {
           "x": 0.05
          },
          "xaxis": {
           "automargin": true,
           "gridcolor": "white",
           "linecolor": "white",
           "ticks": "",
           "title": {
            "standoff": 15
           },
           "zerolinecolor": "white",
           "zerolinewidth": 2
          },
          "yaxis": {
           "automargin": true,
           "gridcolor": "white",
           "linecolor": "white",
           "ticks": "",
           "title": {
            "standoff": 15
           },
           "zerolinecolor": "white",
           "zerolinewidth": 2
          }
         }
        },
        "title": {
         "text": "GDP of China (1960-2021)"
        },
        "xaxis": {
         "anchor": "y",
         "domain": [
          0,
          1
         ],
         "title": {
          "text": "Year"
         }
        },
        "yaxis": {
         "anchor": "x",
         "domain": [
          0,
          1
         ],
         "title": {
          "text": "GDP (current US$)"
         }
        }
       }
      },
      "text/html": [
       "<div>            <script src=\"https://cdnjs.cloudflare.com/ajax/libs/mathjax/2.7.5/MathJax.js?config=TeX-AMS-MML_SVG\"></script><script type=\"text/javascript\">if (window.MathJax && window.MathJax.Hub && window.MathJax.Hub.Config) {window.MathJax.Hub.Config({SVG: {font: \"STIX-Web\"}});}</script>                <script type=\"text/javascript\">window.PlotlyConfig = {MathJaxConfig: 'local'};</script>\n",
       "        <script charset=\"utf-8\" src=\"https://cdn.plot.ly/plotly-3.0.0.min.js\"></script>                <div id=\"52ee6b0d-d9e0-441a-99a2-ca9350cebe03\" class=\"plotly-graph-div\" style=\"height:525px; width:100%;\"></div>            <script type=\"text/javascript\">                window.PLOTLYENV=window.PLOTLYENV || {};                                if (document.getElementById(\"52ee6b0d-d9e0-441a-99a2-ca9350cebe03\")) {                    Plotly.newPlot(                        \"52ee6b0d-d9e0-441a-99a2-ca9350cebe03\",                        [{\"hovertemplate\":\"Year=%{x}\\u003cbr\\u003eGDP (current US$)=%{y}\\u003cextra\\u003e\\u003c\\u002fextra\\u003e\",\"legendgroup\":\"\",\"line\":{\"color\":\"#636efa\",\"dash\":\"solid\"},\"marker\":{\"symbol\":\"circle\"},\"mode\":\"lines\",\"name\":\"\",\"orientation\":\"v\",\"showlegend\":false,\"x\":[\"2023-01-01T00:00:00.000000000\",\"2022-01-01T00:00:00.000000000\",\"2021-01-01T00:00:00.000000000\",\"2020-01-01T00:00:00.000000000\",\"2019-01-01T00:00:00.000000000\",\"2018-01-01T00:00:00.000000000\",\"2017-01-01T00:00:00.000000000\",\"2016-01-01T00:00:00.000000000\",\"2015-01-01T00:00:00.000000000\",\"2014-01-01T00:00:00.000000000\",\"2013-01-01T00:00:00.000000000\",\"2012-01-01T00:00:00.000000000\",\"2011-01-01T00:00:00.000000000\",\"2010-01-01T00:00:00.000000000\",\"2009-01-01T00:00:00.000000000\",\"2008-01-01T00:00:00.000000000\",\"2007-01-01T00:00:00.000000000\",\"2006-01-01T00:00:00.000000000\",\"2005-01-01T00:00:00.000000000\",\"2004-01-01T00:00:00.000000000\",\"2003-01-01T00:00:00.000000000\",\"2002-01-01T00:00:00.000000000\",\"2001-01-01T00:00:00.000000000\",\"2000-01-01T00:00:00.000000000\",\"1999-01-01T00:00:00.000000000\",\"1998-01-01T00:00:00.000000000\",\"1997-01-01T00:00:00.000000000\",\"1996-01-01T00:00:00.000000000\",\"1995-01-01T00:00:00.000000000\",\"1994-01-01T00:00:00.000000000\",\"1993-01-01T00:00:00.000000000\",\"1992-01-01T00:00:00.000000000\",\"1991-01-01T00:00:00.000000000\",\"1990-01-01T00:00:00.000000000\",\"1989-01-01T00:00:00.000000000\",\"1988-01-01T00:00:00.000000000\",\"1987-01-01T00:00:00.000000000\",\"1986-01-01T00:00:00.000000000\",\"1985-01-01T00:00:00.000000000\",\"1984-01-01T00:00:00.000000000\",\"1983-01-01T00:00:00.000000000\",\"1982-01-01T00:00:00.000000000\",\"1981-01-01T00:00:00.000000000\",\"1980-01-01T00:00:00.000000000\",\"1979-01-01T00:00:00.000000000\",\"1978-01-01T00:00:00.000000000\",\"1977-01-01T00:00:00.000000000\",\"1976-01-01T00:00:00.000000000\",\"1975-01-01T00:00:00.000000000\",\"1974-01-01T00:00:00.000000000\",\"1973-01-01T00:00:00.000000000\",\"1972-01-01T00:00:00.000000000\",\"1971-01-01T00:00:00.000000000\",\"1970-01-01T00:00:00.000000000\",\"1969-01-01T00:00:00.000000000\",\"1968-01-01T00:00:00.000000000\",\"1967-01-01T00:00:00.000000000\",\"1966-01-01T00:00:00.000000000\",\"1965-01-01T00:00:00.000000000\",\"1964-01-01T00:00:00.000000000\",\"1963-01-01T00:00:00.000000000\",\"1962-01-01T00:00:00.000000000\",\"1961-01-01T00:00:00.000000000\",\"1960-01-01T00:00:00.000000000\"],\"xaxis\":\"x\",\"y\":{\"dtype\":\"f8\",\"bdata\":\"AEDQuCsvsEJNOwhObUOwQjN0pCgmNbBCAOL3i4O3qkJmP4PmoPmpQjOxFxhSRqlCzbkK7YRkpkJmWV5Z626kQmalkjbyHqRCZsalzhcOo0JcL9kPmWihQlzC7IM3Cp9CAEPwy+x4m0L23WGbIyWWQtf06PJRj5JCriaVP8+2kEIzs2M4ANWJQikAhXA4BoRCzb7tN++hgEI9FjX+O3R8QqRspukGKXhCM\\u002f\\u002fwEEFmdULDESU8qH1zQnGhkeKPoHFC4SqPy\\u002fbWb0LNlCycGfNtQvATRzl+\\u002fGtCN9ETE28jaUKgsiGlVmBlQmogh4SGbGBC9uAANQPjWULJ9rIzitlYQvDn8CW1UFZC0309sTMBVUJt75vVJT5UQmr0+YpuLlJCeUlWhTrHT0K+zyIapYFRQsspeSK7A1JCTpI2fQJDTkLloAg1ANtKQrZjCTwm4EdCH0Uw6EXNRkIAgNu\\u002fsEBGQoGF9v0swURCTqLeZqloQULdVEtAf11EQjPjzWS\\u002f60FCqtERXpQGQ0I3iaKLKslAQjEIzYHoIEBCz1d0K2l4OkIV\\u002fX41lDw3Qq6oixKMjzVCdMQGKtOOMkIDedNhxH4wQqx9kl8R+DBCeuVzYd7cMULTbMIyUGYwQoa6J2DDzStCXkv8EbOcJ0IEtt4IxvslQs+3CtM4TydCyvK9TbvOK0I=\"},\"yaxis\":\"y\",\"type\":\"scatter\"}],                        {\"template\":{\"data\":{\"histogram2dcontour\":[{\"type\":\"histogram2dcontour\",\"colorbar\":{\"outlinewidth\":0,\"ticks\":\"\"},\"colorscale\":[[0.0,\"#0d0887\"],[0.1111111111111111,\"#46039f\"],[0.2222222222222222,\"#7201a8\"],[0.3333333333333333,\"#9c179e\"],[0.4444444444444444,\"#bd3786\"],[0.5555555555555556,\"#d8576b\"],[0.6666666666666666,\"#ed7953\"],[0.7777777777777778,\"#fb9f3a\"],[0.8888888888888888,\"#fdca26\"],[1.0,\"#f0f921\"]]}],\"choropleth\":[{\"type\":\"choropleth\",\"colorbar\":{\"outlinewidth\":0,\"ticks\":\"\"}}],\"histogram2d\":[{\"type\":\"histogram2d\",\"colorbar\":{\"outlinewidth\":0,\"ticks\":\"\"},\"colorscale\":[[0.0,\"#0d0887\"],[0.1111111111111111,\"#46039f\"],[0.2222222222222222,\"#7201a8\"],[0.3333333333333333,\"#9c179e\"],[0.4444444444444444,\"#bd3786\"],[0.5555555555555556,\"#d8576b\"],[0.6666666666666666,\"#ed7953\"],[0.7777777777777778,\"#fb9f3a\"],[0.8888888888888888,\"#fdca26\"],[1.0,\"#f0f921\"]]}],\"heatmap\":[{\"type\":\"heatmap\",\"colorbar\":{\"outlinewidth\":0,\"ticks\":\"\"},\"colorscale\":[[0.0,\"#0d0887\"],[0.1111111111111111,\"#46039f\"],[0.2222222222222222,\"#7201a8\"],[0.3333333333333333,\"#9c179e\"],[0.4444444444444444,\"#bd3786\"],[0.5555555555555556,\"#d8576b\"],[0.6666666666666666,\"#ed7953\"],[0.7777777777777778,\"#fb9f3a\"],[0.8888888888888888,\"#fdca26\"],[1.0,\"#f0f921\"]]}],\"contourcarpet\":[{\"type\":\"contourcarpet\",\"colorbar\":{\"outlinewidth\":0,\"ticks\":\"\"}}],\"contour\":[{\"type\":\"contour\",\"colorbar\":{\"outlinewidth\":0,\"ticks\":\"\"},\"colorscale\":[[0.0,\"#0d0887\"],[0.1111111111111111,\"#46039f\"],[0.2222222222222222,\"#7201a8\"],[0.3333333333333333,\"#9c179e\"],[0.4444444444444444,\"#bd3786\"],[0.5555555555555556,\"#d8576b\"],[0.6666666666666666,\"#ed7953\"],[0.7777777777777778,\"#fb9f3a\"],[0.8888888888888888,\"#fdca26\"],[1.0,\"#f0f921\"]]}],\"surface\":[{\"type\":\"surface\",\"colorbar\":{\"outlinewidth\":0,\"ticks\":\"\"},\"colorscale\":[[0.0,\"#0d0887\"],[0.1111111111111111,\"#46039f\"],[0.2222222222222222,\"#7201a8\"],[0.3333333333333333,\"#9c179e\"],[0.4444444444444444,\"#bd3786\"],[0.5555555555555556,\"#d8576b\"],[0.6666666666666666,\"#ed7953\"],[0.7777777777777778,\"#fb9f3a\"],[0.8888888888888888,\"#fdca26\"],[1.0,\"#f0f921\"]]}],\"mesh3d\":[{\"type\":\"mesh3d\",\"colorbar\":{\"outlinewidth\":0,\"ticks\":\"\"}}],\"scatter\":[{\"fillpattern\":{\"fillmode\":\"overlay\",\"size\":10,\"solidity\":0.2},\"type\":\"scatter\"}],\"parcoords\":[{\"type\":\"parcoords\",\"line\":{\"colorbar\":{\"outlinewidth\":0,\"ticks\":\"\"}}}],\"scatterpolargl\":[{\"type\":\"scatterpolargl\",\"marker\":{\"colorbar\":{\"outlinewidth\":0,\"ticks\":\"\"}}}],\"bar\":[{\"error_x\":{\"color\":\"#2a3f5f\"},\"error_y\":{\"color\":\"#2a3f5f\"},\"marker\":{\"line\":{\"color\":\"#E5ECF6\",\"width\":0.5},\"pattern\":{\"fillmode\":\"overlay\",\"size\":10,\"solidity\":0.2}},\"type\":\"bar\"}],\"scattergeo\":[{\"type\":\"scattergeo\",\"marker\":{\"colorbar\":{\"outlinewidth\":0,\"ticks\":\"\"}}}],\"scatterpolar\":[{\"type\":\"scatterpolar\",\"marker\":{\"colorbar\":{\"outlinewidth\":0,\"ticks\":\"\"}}}],\"histogram\":[{\"marker\":{\"pattern\":{\"fillmode\":\"overlay\",\"size\":10,\"solidity\":0.2}},\"type\":\"histogram\"}],\"scattergl\":[{\"type\":\"scattergl\",\"marker\":{\"colorbar\":{\"outlinewidth\":0,\"ticks\":\"\"}}}],\"scatter3d\":[{\"type\":\"scatter3d\",\"line\":{\"colorbar\":{\"outlinewidth\":0,\"ticks\":\"\"}},\"marker\":{\"colorbar\":{\"outlinewidth\":0,\"ticks\":\"\"}}}],\"scattermap\":[{\"type\":\"scattermap\",\"marker\":{\"colorbar\":{\"outlinewidth\":0,\"ticks\":\"\"}}}],\"scattermapbox\":[{\"type\":\"scattermapbox\",\"marker\":{\"colorbar\":{\"outlinewidth\":0,\"ticks\":\"\"}}}],\"scatterternary\":[{\"type\":\"scatterternary\",\"marker\":{\"colorbar\":{\"outlinewidth\":0,\"ticks\":\"\"}}}],\"scattercarpet\":[{\"type\":\"scattercarpet\",\"marker\":{\"colorbar\":{\"outlinewidth\":0,\"ticks\":\"\"}}}],\"carpet\":[{\"aaxis\":{\"endlinecolor\":\"#2a3f5f\",\"gridcolor\":\"white\",\"linecolor\":\"white\",\"minorgridcolor\":\"white\",\"startlinecolor\":\"#2a3f5f\"},\"baxis\":{\"endlinecolor\":\"#2a3f5f\",\"gridcolor\":\"white\",\"linecolor\":\"white\",\"minorgridcolor\":\"white\",\"startlinecolor\":\"#2a3f5f\"},\"type\":\"carpet\"}],\"table\":[{\"cells\":{\"fill\":{\"color\":\"#EBF0F8\"},\"line\":{\"color\":\"white\"}},\"header\":{\"fill\":{\"color\":\"#C8D4E3\"},\"line\":{\"color\":\"white\"}},\"type\":\"table\"}],\"barpolar\":[{\"marker\":{\"line\":{\"color\":\"#E5ECF6\",\"width\":0.5},\"pattern\":{\"fillmode\":\"overlay\",\"size\":10,\"solidity\":0.2}},\"type\":\"barpolar\"}],\"pie\":[{\"automargin\":true,\"type\":\"pie\"}]},\"layout\":{\"autotypenumbers\":\"strict\",\"colorway\":[\"#636efa\",\"#EF553B\",\"#00cc96\",\"#ab63fa\",\"#FFA15A\",\"#19d3f3\",\"#FF6692\",\"#B6E880\",\"#FF97FF\",\"#FECB52\"],\"font\":{\"color\":\"#2a3f5f\"},\"hovermode\":\"closest\",\"hoverlabel\":{\"align\":\"left\"},\"paper_bgcolor\":\"white\",\"plot_bgcolor\":\"#E5ECF6\",\"polar\":{\"bgcolor\":\"#E5ECF6\",\"angularaxis\":{\"gridcolor\":\"white\",\"linecolor\":\"white\",\"ticks\":\"\"},\"radialaxis\":{\"gridcolor\":\"white\",\"linecolor\":\"white\",\"ticks\":\"\"}},\"ternary\":{\"bgcolor\":\"#E5ECF6\",\"aaxis\":{\"gridcolor\":\"white\",\"linecolor\":\"white\",\"ticks\":\"\"},\"baxis\":{\"gridcolor\":\"white\",\"linecolor\":\"white\",\"ticks\":\"\"},\"caxis\":{\"gridcolor\":\"white\",\"linecolor\":\"white\",\"ticks\":\"\"}},\"coloraxis\":{\"colorbar\":{\"outlinewidth\":0,\"ticks\":\"\"}},\"colorscale\":{\"sequential\":[[0.0,\"#0d0887\"],[0.1111111111111111,\"#46039f\"],[0.2222222222222222,\"#7201a8\"],[0.3333333333333333,\"#9c179e\"],[0.4444444444444444,\"#bd3786\"],[0.5555555555555556,\"#d8576b\"],[0.6666666666666666,\"#ed7953\"],[0.7777777777777778,\"#fb9f3a\"],[0.8888888888888888,\"#fdca26\"],[1.0,\"#f0f921\"]],\"sequentialminus\":[[0.0,\"#0d0887\"],[0.1111111111111111,\"#46039f\"],[0.2222222222222222,\"#7201a8\"],[0.3333333333333333,\"#9c179e\"],[0.4444444444444444,\"#bd3786\"],[0.5555555555555556,\"#d8576b\"],[0.6666666666666666,\"#ed7953\"],[0.7777777777777778,\"#fb9f3a\"],[0.8888888888888888,\"#fdca26\"],[1.0,\"#f0f921\"]],\"diverging\":[[0,\"#8e0152\"],[0.1,\"#c51b7d\"],[0.2,\"#de77ae\"],[0.3,\"#f1b6da\"],[0.4,\"#fde0ef\"],[0.5,\"#f7f7f7\"],[0.6,\"#e6f5d0\"],[0.7,\"#b8e186\"],[0.8,\"#7fbc41\"],[0.9,\"#4d9221\"],[1,\"#276419\"]]},\"xaxis\":{\"gridcolor\":\"white\",\"linecolor\":\"white\",\"ticks\":\"\",\"title\":{\"standoff\":15},\"zerolinecolor\":\"white\",\"automargin\":true,\"zerolinewidth\":2},\"yaxis\":{\"gridcolor\":\"white\",\"linecolor\":\"white\",\"ticks\":\"\",\"title\":{\"standoff\":15},\"zerolinecolor\":\"white\",\"automargin\":true,\"zerolinewidth\":2},\"scene\":{\"xaxis\":{\"backgroundcolor\":\"#E5ECF6\",\"gridcolor\":\"white\",\"linecolor\":\"white\",\"showbackground\":true,\"ticks\":\"\",\"zerolinecolor\":\"white\",\"gridwidth\":2},\"yaxis\":{\"backgroundcolor\":\"#E5ECF6\",\"gridcolor\":\"white\",\"linecolor\":\"white\",\"showbackground\":true,\"ticks\":\"\",\"zerolinecolor\":\"white\",\"gridwidth\":2},\"zaxis\":{\"backgroundcolor\":\"#E5ECF6\",\"gridcolor\":\"white\",\"linecolor\":\"white\",\"showbackground\":true,\"ticks\":\"\",\"zerolinecolor\":\"white\",\"gridwidth\":2}},\"shapedefaults\":{\"line\":{\"color\":\"#2a3f5f\"}},\"annotationdefaults\":{\"arrowcolor\":\"#2a3f5f\",\"arrowhead\":0,\"arrowwidth\":1},\"geo\":{\"bgcolor\":\"white\",\"landcolor\":\"#E5ECF6\",\"subunitcolor\":\"white\",\"showland\":true,\"showlakes\":true,\"lakecolor\":\"white\"},\"title\":{\"x\":0.05},\"mapbox\":{\"style\":\"light\"}}},\"xaxis\":{\"anchor\":\"y\",\"domain\":[0.0,1.0],\"title\":{\"text\":\"Year\"}},\"yaxis\":{\"anchor\":\"x\",\"domain\":[0.0,1.0],\"title\":{\"text\":\"GDP (current US$)\"}},\"legend\":{\"tracegroupgap\":0},\"title\":{\"text\":\"GDP of China (1960-2021)\"}},                        {\"responsive\": true}                    ).then(function(){\n",
       "                            \n",
       "var gd = document.getElementById('52ee6b0d-d9e0-441a-99a2-ca9350cebe03');\n",
       "var x = new MutationObserver(function (mutations, observer) {{\n",
       "        var display = window.getComputedStyle(gd).display;\n",
       "        if (!display || display === 'none') {{\n",
       "            console.log([gd, 'removed!']);\n",
       "            Plotly.purge(gd);\n",
       "            observer.disconnect();\n",
       "        }}\n",
       "}});\n",
       "\n",
       "// Listen for the removal of the full notebook cells\n",
       "var notebookContainer = gd.closest('#notebook-container');\n",
       "if (notebookContainer) {{\n",
       "    x.observe(notebookContainer, {childList: true});\n",
       "}}\n",
       "\n",
       "// Listen for the clearing of the current output cell\n",
       "var outputEl = gd.closest('.output');\n",
       "if (outputEl) {{\n",
       "    x.observe(outputEl, {childList: true});\n",
       "}}\n",
       "\n",
       "                        })                };            </script>        </div>"
      ]
     },
     "metadata": {},
     "output_type": "display_data"
    }
   ],
   "source": [
    "#GDP of China (1960-2021)\n",
    "\n",
    "indicator = {\"NY.GDP.MKTP.CD\": \"GDP (current US$)\"}\n",
    "gdp_data = wbdata.get_dataframe(indicator, country = \"CHN\", date = (pd.to_datetime('1960-01-01'), pd.to_datetime('2023-12-31')))\n",
    "gdp_data.index = pd.to_datetime(gdp_data.index)\n",
    "gdp_data = gdp_data.reset_index()\n",
    "\n",
    "fig = px.line(gdp_data, x = \"date\", y = \"GDP (current US$)\", title = \"GDP of China (1960-2021)\", labels = {\"date\": \"Year\", \"GDP (current US$)\": \"GDP (current US$)\"},)\n",
    "fig.show()"
   ]
  },
  {
   "cell_type": "code",
   "execution_count": 36,
   "id": "e68cf596-50f4-45cb-9be8-7573fbd51a6c",
   "metadata": {},
   "outputs": [
    {
     "data": {
      "application/vnd.plotly.v1+json": {
       "config": {
        "plotlyServerURL": "https://plot.ly"
       },
       "data": [
        {
         "hovertemplate": "Year=%{x}<br>Urban Population (%)=%{y}<extra></extra>",
         "legendgroup": "",
         "line": {
          "color": "#636efa",
          "dash": "solid"
         },
         "marker": {
          "symbol": "circle"
         },
         "mode": "lines",
         "name": "",
         "orientation": "v",
         "showlegend": false,
         "type": "scatter",
         "x": {
          "bdata": "5wcAAOYHAADlBwAA5AcAAOMHAADiBwAA4QcAAOAHAADfBwAA3gcAAN0HAADcBwAA2wcAANoHAADZBwAA2AcAANcHAADWBwAA1QcAANQHAADTBwAA0gcAANEHAADQBwAAzwcAAM4HAADNBwAAzAcAAMsHAADKBwAAyQcAAMgHAADHBwAAxgcAAMUHAADEBwAAwwcAAMIHAADBBwAAwAcAAL8HAAC+BwAAvQcAALwHAAC7BwAAugcAALkHAAC4BwAAtwcAALYHAAC1BwAAtAcAALMHAACyBwAAsQcAALAHAACvBwAArgcAAK0HAACsBwAAqwcAAKoHAACpBwAAqAcAAA==",
          "dtype": "i4"
         },
         "xaxis": "x",
         "y": {
          "bdata": "FK5H4XokUEBI4XoUrsdPQKjGSzeJQU9AEFg5tMi2TkCBlUOLbCdOQPp+arx0k01AexSuR+H6TECR7Xw/NV5MQAAAAAAAwEtA/tR46SYhS0CLbOf7qYFKQFK4HoXr4UlAxSCwcmhBSUCwcmiR7ZxIQHE9Ctej8EdAokW28/1ER0C28/3UeJlGQMl2vp8a70VAiUFg5dBCRUDfT42XbpJEQBfZzvdT40NAZmZmZmY2Q0CWQ4ts54tCQMdLN4lB8EFAH4XrUbhuQUDl0CLb+e5AQBsv3SQGcUBA0SLb+X7qP0C8dJMYBPY+QKAaL90kBj5A7nw/NV4aPUAzMzMzMzM8QB1aZDvfTztA/tR46SZxOkD6fmq8dLM5QNNNYhBY+ThA/Knx0k1COEDJdr6fGo83QDm0yHa+3zZAhxbZzvczNkDsUbgehYs1QPT91Hjp5jRAke18PzUeNEDP91PjpVszQMuhRbbznTJAZmZmZmbmMUCF61G4HoUxQPYoXI/CdTFAZmZmZmZmMUCYbhKDwEoxQMl2vp8aLzFAyXa+nxovMUCYbhKDwEoxQGZmZmZmZjFAukkMAiuHMUAOLbKd76cxQClcj8L1yDFACtejcD3qMUC8dJMYBBYyQAaBlUOLTDJAbxKDwMrBMUBg5dAi2zkxQGiR7Xw/tTBAhxbZzvczMEA=",
          "dtype": "f8"
         },
         "yaxis": "y"
        }
       ],
       "layout": {
        "legend": {
         "tracegroupgap": 0
        },
        "template": {
         "data": {
          "bar": [
           {
            "error_x": {
             "color": "#2a3f5f"
            },
            "error_y": {
             "color": "#2a3f5f"
            },
            "marker": {
             "line": {
              "color": "#E5ECF6",
              "width": 0.5
             },
             "pattern": {
              "fillmode": "overlay",
              "size": 10,
              "solidity": 0.2
             }
            },
            "type": "bar"
           }
          ],
          "barpolar": [
           {
            "marker": {
             "line": {
              "color": "#E5ECF6",
              "width": 0.5
             },
             "pattern": {
              "fillmode": "overlay",
              "size": 10,
              "solidity": 0.2
             }
            },
            "type": "barpolar"
           }
          ],
          "carpet": [
           {
            "aaxis": {
             "endlinecolor": "#2a3f5f",
             "gridcolor": "white",
             "linecolor": "white",
             "minorgridcolor": "white",
             "startlinecolor": "#2a3f5f"
            },
            "baxis": {
             "endlinecolor": "#2a3f5f",
             "gridcolor": "white",
             "linecolor": "white",
             "minorgridcolor": "white",
             "startlinecolor": "#2a3f5f"
            },
            "type": "carpet"
           }
          ],
          "choropleth": [
           {
            "colorbar": {
             "outlinewidth": 0,
             "ticks": ""
            },
            "type": "choropleth"
           }
          ],
          "contour": [
           {
            "colorbar": {
             "outlinewidth": 0,
             "ticks": ""
            },
            "colorscale": [
             [
              0,
              "#0d0887"
             ],
             [
              0.1111111111111111,
              "#46039f"
             ],
             [
              0.2222222222222222,
              "#7201a8"
             ],
             [
              0.3333333333333333,
              "#9c179e"
             ],
             [
              0.4444444444444444,
              "#bd3786"
             ],
             [
              0.5555555555555556,
              "#d8576b"
             ],
             [
              0.6666666666666666,
              "#ed7953"
             ],
             [
              0.7777777777777778,
              "#fb9f3a"
             ],
             [
              0.8888888888888888,
              "#fdca26"
             ],
             [
              1,
              "#f0f921"
             ]
            ],
            "type": "contour"
           }
          ],
          "contourcarpet": [
           {
            "colorbar": {
             "outlinewidth": 0,
             "ticks": ""
            },
            "type": "contourcarpet"
           }
          ],
          "heatmap": [
           {
            "colorbar": {
             "outlinewidth": 0,
             "ticks": ""
            },
            "colorscale": [
             [
              0,
              "#0d0887"
             ],
             [
              0.1111111111111111,
              "#46039f"
             ],
             [
              0.2222222222222222,
              "#7201a8"
             ],
             [
              0.3333333333333333,
              "#9c179e"
             ],
             [
              0.4444444444444444,
              "#bd3786"
             ],
             [
              0.5555555555555556,
              "#d8576b"
             ],
             [
              0.6666666666666666,
              "#ed7953"
             ],
             [
              0.7777777777777778,
              "#fb9f3a"
             ],
             [
              0.8888888888888888,
              "#fdca26"
             ],
             [
              1,
              "#f0f921"
             ]
            ],
            "type": "heatmap"
           }
          ],
          "histogram": [
           {
            "marker": {
             "pattern": {
              "fillmode": "overlay",
              "size": 10,
              "solidity": 0.2
             }
            },
            "type": "histogram"
           }
          ],
          "histogram2d": [
           {
            "colorbar": {
             "outlinewidth": 0,
             "ticks": ""
            },
            "colorscale": [
             [
              0,
              "#0d0887"
             ],
             [
              0.1111111111111111,
              "#46039f"
             ],
             [
              0.2222222222222222,
              "#7201a8"
             ],
             [
              0.3333333333333333,
              "#9c179e"
             ],
             [
              0.4444444444444444,
              "#bd3786"
             ],
             [
              0.5555555555555556,
              "#d8576b"
             ],
             [
              0.6666666666666666,
              "#ed7953"
             ],
             [
              0.7777777777777778,
              "#fb9f3a"
             ],
             [
              0.8888888888888888,
              "#fdca26"
             ],
             [
              1,
              "#f0f921"
             ]
            ],
            "type": "histogram2d"
           }
          ],
          "histogram2dcontour": [
           {
            "colorbar": {
             "outlinewidth": 0,
             "ticks": ""
            },
            "colorscale": [
             [
              0,
              "#0d0887"
             ],
             [
              0.1111111111111111,
              "#46039f"
             ],
             [
              0.2222222222222222,
              "#7201a8"
             ],
             [
              0.3333333333333333,
              "#9c179e"
             ],
             [
              0.4444444444444444,
              "#bd3786"
             ],
             [
              0.5555555555555556,
              "#d8576b"
             ],
             [
              0.6666666666666666,
              "#ed7953"
             ],
             [
              0.7777777777777778,
              "#fb9f3a"
             ],
             [
              0.8888888888888888,
              "#fdca26"
             ],
             [
              1,
              "#f0f921"
             ]
            ],
            "type": "histogram2dcontour"
           }
          ],
          "mesh3d": [
           {
            "colorbar": {
             "outlinewidth": 0,
             "ticks": ""
            },
            "type": "mesh3d"
           }
          ],
          "parcoords": [
           {
            "line": {
             "colorbar": {
              "outlinewidth": 0,
              "ticks": ""
             }
            },
            "type": "parcoords"
           }
          ],
          "pie": [
           {
            "automargin": true,
            "type": "pie"
           }
          ],
          "scatter": [
           {
            "fillpattern": {
             "fillmode": "overlay",
             "size": 10,
             "solidity": 0.2
            },
            "type": "scatter"
           }
          ],
          "scatter3d": [
           {
            "line": {
             "colorbar": {
              "outlinewidth": 0,
              "ticks": ""
             }
            },
            "marker": {
             "colorbar": {
              "outlinewidth": 0,
              "ticks": ""
             }
            },
            "type": "scatter3d"
           }
          ],
          "scattercarpet": [
           {
            "marker": {
             "colorbar": {
              "outlinewidth": 0,
              "ticks": ""
             }
            },
            "type": "scattercarpet"
           }
          ],
          "scattergeo": [
           {
            "marker": {
             "colorbar": {
              "outlinewidth": 0,
              "ticks": ""
             }
            },
            "type": "scattergeo"
           }
          ],
          "scattergl": [
           {
            "marker": {
             "colorbar": {
              "outlinewidth": 0,
              "ticks": ""
             }
            },
            "type": "scattergl"
           }
          ],
          "scattermap": [
           {
            "marker": {
             "colorbar": {
              "outlinewidth": 0,
              "ticks": ""
             }
            },
            "type": "scattermap"
           }
          ],
          "scattermapbox": [
           {
            "marker": {
             "colorbar": {
              "outlinewidth": 0,
              "ticks": ""
             }
            },
            "type": "scattermapbox"
           }
          ],
          "scatterpolar": [
           {
            "marker": {
             "colorbar": {
              "outlinewidth": 0,
              "ticks": ""
             }
            },
            "type": "scatterpolar"
           }
          ],
          "scatterpolargl": [
           {
            "marker": {
             "colorbar": {
              "outlinewidth": 0,
              "ticks": ""
             }
            },
            "type": "scatterpolargl"
           }
          ],
          "scatterternary": [
           {
            "marker": {
             "colorbar": {
              "outlinewidth": 0,
              "ticks": ""
             }
            },
            "type": "scatterternary"
           }
          ],
          "surface": [
           {
            "colorbar": {
             "outlinewidth": 0,
             "ticks": ""
            },
            "colorscale": [
             [
              0,
              "#0d0887"
             ],
             [
              0.1111111111111111,
              "#46039f"
             ],
             [
              0.2222222222222222,
              "#7201a8"
             ],
             [
              0.3333333333333333,
              "#9c179e"
             ],
             [
              0.4444444444444444,
              "#bd3786"
             ],
             [
              0.5555555555555556,
              "#d8576b"
             ],
             [
              0.6666666666666666,
              "#ed7953"
             ],
             [
              0.7777777777777778,
              "#fb9f3a"
             ],
             [
              0.8888888888888888,
              "#fdca26"
             ],
             [
              1,
              "#f0f921"
             ]
            ],
            "type": "surface"
           }
          ],
          "table": [
           {
            "cells": {
             "fill": {
              "color": "#EBF0F8"
             },
             "line": {
              "color": "white"
             }
            },
            "header": {
             "fill": {
              "color": "#C8D4E3"
             },
             "line": {
              "color": "white"
             }
            },
            "type": "table"
           }
          ]
         },
         "layout": {
          "annotationdefaults": {
           "arrowcolor": "#2a3f5f",
           "arrowhead": 0,
           "arrowwidth": 1
          },
          "autotypenumbers": "strict",
          "coloraxis": {
           "colorbar": {
            "outlinewidth": 0,
            "ticks": ""
           }
          },
          "colorscale": {
           "diverging": [
            [
             0,
             "#8e0152"
            ],
            [
             0.1,
             "#c51b7d"
            ],
            [
             0.2,
             "#de77ae"
            ],
            [
             0.3,
             "#f1b6da"
            ],
            [
             0.4,
             "#fde0ef"
            ],
            [
             0.5,
             "#f7f7f7"
            ],
            [
             0.6,
             "#e6f5d0"
            ],
            [
             0.7,
             "#b8e186"
            ],
            [
             0.8,
             "#7fbc41"
            ],
            [
             0.9,
             "#4d9221"
            ],
            [
             1,
             "#276419"
            ]
           ],
           "sequential": [
            [
             0,
             "#0d0887"
            ],
            [
             0.1111111111111111,
             "#46039f"
            ],
            [
             0.2222222222222222,
             "#7201a8"
            ],
            [
             0.3333333333333333,
             "#9c179e"
            ],
            [
             0.4444444444444444,
             "#bd3786"
            ],
            [
             0.5555555555555556,
             "#d8576b"
            ],
            [
             0.6666666666666666,
             "#ed7953"
            ],
            [
             0.7777777777777778,
             "#fb9f3a"
            ],
            [
             0.8888888888888888,
             "#fdca26"
            ],
            [
             1,
             "#f0f921"
            ]
           ],
           "sequentialminus": [
            [
             0,
             "#0d0887"
            ],
            [
             0.1111111111111111,
             "#46039f"
            ],
            [
             0.2222222222222222,
             "#7201a8"
            ],
            [
             0.3333333333333333,
             "#9c179e"
            ],
            [
             0.4444444444444444,
             "#bd3786"
            ],
            [
             0.5555555555555556,
             "#d8576b"
            ],
            [
             0.6666666666666666,
             "#ed7953"
            ],
            [
             0.7777777777777778,
             "#fb9f3a"
            ],
            [
             0.8888888888888888,
             "#fdca26"
            ],
            [
             1,
             "#f0f921"
            ]
           ]
          },
          "colorway": [
           "#636efa",
           "#EF553B",
           "#00cc96",
           "#ab63fa",
           "#FFA15A",
           "#19d3f3",
           "#FF6692",
           "#B6E880",
           "#FF97FF",
           "#FECB52"
          ],
          "font": {
           "color": "#2a3f5f"
          },
          "geo": {
           "bgcolor": "white",
           "lakecolor": "white",
           "landcolor": "#E5ECF6",
           "showlakes": true,
           "showland": true,
           "subunitcolor": "white"
          },
          "hoverlabel": {
           "align": "left"
          },
          "hovermode": "closest",
          "mapbox": {
           "style": "light"
          },
          "paper_bgcolor": "white",
          "plot_bgcolor": "#E5ECF6",
          "polar": {
           "angularaxis": {
            "gridcolor": "white",
            "linecolor": "white",
            "ticks": ""
           },
           "bgcolor": "#E5ECF6",
           "radialaxis": {
            "gridcolor": "white",
            "linecolor": "white",
            "ticks": ""
           }
          },
          "scene": {
           "xaxis": {
            "backgroundcolor": "#E5ECF6",
            "gridcolor": "white",
            "gridwidth": 2,
            "linecolor": "white",
            "showbackground": true,
            "ticks": "",
            "zerolinecolor": "white"
           },
           "yaxis": {
            "backgroundcolor": "#E5ECF6",
            "gridcolor": "white",
            "gridwidth": 2,
            "linecolor": "white",
            "showbackground": true,
            "ticks": "",
            "zerolinecolor": "white"
           },
           "zaxis": {
            "backgroundcolor": "#E5ECF6",
            "gridcolor": "white",
            "gridwidth": 2,
            "linecolor": "white",
            "showbackground": true,
            "ticks": "",
            "zerolinecolor": "white"
           }
          },
          "shapedefaults": {
           "line": {
            "color": "#2a3f5f"
           }
          },
          "ternary": {
           "aaxis": {
            "gridcolor": "white",
            "linecolor": "white",
            "ticks": ""
           },
           "baxis": {
            "gridcolor": "white",
            "linecolor": "white",
            "ticks": ""
           },
           "bgcolor": "#E5ECF6",
           "caxis": {
            "gridcolor": "white",
            "linecolor": "white",
            "ticks": ""
           }
          },
          "title": {
           "x": 0.05
          },
          "xaxis": {
           "automargin": true,
           "gridcolor": "white",
           "linecolor": "white",
           "ticks": "",
           "title": {
            "standoff": 15
           },
           "zerolinecolor": "white",
           "zerolinewidth": 2
          },
          "yaxis": {
           "automargin": true,
           "gridcolor": "white",
           "linecolor": "white",
           "ticks": "",
           "title": {
            "standoff": 15
           },
           "zerolinecolor": "white",
           "zerolinewidth": 2
          }
         }
        },
        "title": {
         "text": "Urban Population as Percentage of Total Population: 1960-2021"
        },
        "xaxis": {
         "anchor": "y",
         "domain": [
          0,
          1
         ],
         "title": {
          "text": "Year"
         }
        },
        "yaxis": {
         "anchor": "x",
         "domain": [
          0,
          1
         ],
         "title": {
          "text": "Urban Population (%)"
         }
        }
       }
      },
      "text/html": [
       "<div>            <script src=\"https://cdnjs.cloudflare.com/ajax/libs/mathjax/2.7.5/MathJax.js?config=TeX-AMS-MML_SVG\"></script><script type=\"text/javascript\">if (window.MathJax && window.MathJax.Hub && window.MathJax.Hub.Config) {window.MathJax.Hub.Config({SVG: {font: \"STIX-Web\"}});}</script>                <script type=\"text/javascript\">window.PlotlyConfig = {MathJaxConfig: 'local'};</script>\n",
       "        <script charset=\"utf-8\" src=\"https://cdn.plot.ly/plotly-3.0.0.min.js\"></script>                <div id=\"4f168f32-941b-4bac-a93f-9893a9b60d89\" class=\"plotly-graph-div\" style=\"height:525px; width:100%;\"></div>            <script type=\"text/javascript\">                window.PLOTLYENV=window.PLOTLYENV || {};                                if (document.getElementById(\"4f168f32-941b-4bac-a93f-9893a9b60d89\")) {                    Plotly.newPlot(                        \"4f168f32-941b-4bac-a93f-9893a9b60d89\",                        [{\"hovertemplate\":\"Year=%{x}\\u003cbr\\u003eUrban Population (%)=%{y}\\u003cextra\\u003e\\u003c\\u002fextra\\u003e\",\"legendgroup\":\"\",\"line\":{\"color\":\"#636efa\",\"dash\":\"solid\"},\"marker\":{\"symbol\":\"circle\"},\"mode\":\"lines\",\"name\":\"\",\"orientation\":\"v\",\"showlegend\":false,\"x\":{\"dtype\":\"i4\",\"bdata\":\"5wcAAOYHAADlBwAA5AcAAOMHAADiBwAA4QcAAOAHAADfBwAA3gcAAN0HAADcBwAA2wcAANoHAADZBwAA2AcAANcHAADWBwAA1QcAANQHAADTBwAA0gcAANEHAADQBwAAzwcAAM4HAADNBwAAzAcAAMsHAADKBwAAyQcAAMgHAADHBwAAxgcAAMUHAADEBwAAwwcAAMIHAADBBwAAwAcAAL8HAAC+BwAAvQcAALwHAAC7BwAAugcAALkHAAC4BwAAtwcAALYHAAC1BwAAtAcAALMHAACyBwAAsQcAALAHAACvBwAArgcAAK0HAACsBwAAqwcAAKoHAACpBwAAqAcAAA==\"},\"xaxis\":\"x\",\"y\":{\"dtype\":\"f8\",\"bdata\":\"FK5H4XokUEBI4XoUrsdPQKjGSzeJQU9AEFg5tMi2TkCBlUOLbCdOQPp+arx0k01AexSuR+H6TECR7Xw\\u002fNV5MQAAAAAAAwEtA\\u002ftR46SYhS0CLbOf7qYFKQFK4HoXr4UlAxSCwcmhBSUCwcmiR7ZxIQHE9Ctej8EdAokW28\\u002f1ER0C28\\u002f3UeJlGQMl2vp8a70VAiUFg5dBCRUDfT42XbpJEQBfZzvdT40NAZmZmZmY2Q0CWQ4ts54tCQMdLN4lB8EFAH4XrUbhuQUDl0CLb+e5AQBsv3SQGcUBA0SLb+X7qP0C8dJMYBPY+QKAaL90kBj5A7nw\\u002fNV4aPUAzMzMzMzM8QB1aZDvfTztA\\u002ftR46SZxOkD6fmq8dLM5QNNNYhBY+ThA\\u002fKnx0k1COEDJdr6fGo83QDm0yHa+3zZAhxbZzvczNkDsUbgehYs1QPT91Hjp5jRAke18PzUeNEDP91PjpVszQMuhRbbznTJAZmZmZmbmMUCF61G4HoUxQPYoXI\\u002fCdTFAZmZmZmZmMUCYbhKDwEoxQMl2vp8aLzFAyXa+nxovMUCYbhKDwEoxQGZmZmZmZjFAukkMAiuHMUAOLbKd76cxQClcj8L1yDFACtejcD3qMUC8dJMYBBYyQAaBlUOLTDJAbxKDwMrBMUBg5dAi2zkxQGiR7Xw\\u002ftTBAhxbZzvczMEA=\"},\"yaxis\":\"y\",\"type\":\"scatter\"}],                        {\"template\":{\"data\":{\"histogram2dcontour\":[{\"type\":\"histogram2dcontour\",\"colorbar\":{\"outlinewidth\":0,\"ticks\":\"\"},\"colorscale\":[[0.0,\"#0d0887\"],[0.1111111111111111,\"#46039f\"],[0.2222222222222222,\"#7201a8\"],[0.3333333333333333,\"#9c179e\"],[0.4444444444444444,\"#bd3786\"],[0.5555555555555556,\"#d8576b\"],[0.6666666666666666,\"#ed7953\"],[0.7777777777777778,\"#fb9f3a\"],[0.8888888888888888,\"#fdca26\"],[1.0,\"#f0f921\"]]}],\"choropleth\":[{\"type\":\"choropleth\",\"colorbar\":{\"outlinewidth\":0,\"ticks\":\"\"}}],\"histogram2d\":[{\"type\":\"histogram2d\",\"colorbar\":{\"outlinewidth\":0,\"ticks\":\"\"},\"colorscale\":[[0.0,\"#0d0887\"],[0.1111111111111111,\"#46039f\"],[0.2222222222222222,\"#7201a8\"],[0.3333333333333333,\"#9c179e\"],[0.4444444444444444,\"#bd3786\"],[0.5555555555555556,\"#d8576b\"],[0.6666666666666666,\"#ed7953\"],[0.7777777777777778,\"#fb9f3a\"],[0.8888888888888888,\"#fdca26\"],[1.0,\"#f0f921\"]]}],\"heatmap\":[{\"type\":\"heatmap\",\"colorbar\":{\"outlinewidth\":0,\"ticks\":\"\"},\"colorscale\":[[0.0,\"#0d0887\"],[0.1111111111111111,\"#46039f\"],[0.2222222222222222,\"#7201a8\"],[0.3333333333333333,\"#9c179e\"],[0.4444444444444444,\"#bd3786\"],[0.5555555555555556,\"#d8576b\"],[0.6666666666666666,\"#ed7953\"],[0.7777777777777778,\"#fb9f3a\"],[0.8888888888888888,\"#fdca26\"],[1.0,\"#f0f921\"]]}],\"contourcarpet\":[{\"type\":\"contourcarpet\",\"colorbar\":{\"outlinewidth\":0,\"ticks\":\"\"}}],\"contour\":[{\"type\":\"contour\",\"colorbar\":{\"outlinewidth\":0,\"ticks\":\"\"},\"colorscale\":[[0.0,\"#0d0887\"],[0.1111111111111111,\"#46039f\"],[0.2222222222222222,\"#7201a8\"],[0.3333333333333333,\"#9c179e\"],[0.4444444444444444,\"#bd3786\"],[0.5555555555555556,\"#d8576b\"],[0.6666666666666666,\"#ed7953\"],[0.7777777777777778,\"#fb9f3a\"],[0.8888888888888888,\"#fdca26\"],[1.0,\"#f0f921\"]]}],\"surface\":[{\"type\":\"surface\",\"colorbar\":{\"outlinewidth\":0,\"ticks\":\"\"},\"colorscale\":[[0.0,\"#0d0887\"],[0.1111111111111111,\"#46039f\"],[0.2222222222222222,\"#7201a8\"],[0.3333333333333333,\"#9c179e\"],[0.4444444444444444,\"#bd3786\"],[0.5555555555555556,\"#d8576b\"],[0.6666666666666666,\"#ed7953\"],[0.7777777777777778,\"#fb9f3a\"],[0.8888888888888888,\"#fdca26\"],[1.0,\"#f0f921\"]]}],\"mesh3d\":[{\"type\":\"mesh3d\",\"colorbar\":{\"outlinewidth\":0,\"ticks\":\"\"}}],\"scatter\":[{\"fillpattern\":{\"fillmode\":\"overlay\",\"size\":10,\"solidity\":0.2},\"type\":\"scatter\"}],\"parcoords\":[{\"type\":\"parcoords\",\"line\":{\"colorbar\":{\"outlinewidth\":0,\"ticks\":\"\"}}}],\"scatterpolargl\":[{\"type\":\"scatterpolargl\",\"marker\":{\"colorbar\":{\"outlinewidth\":0,\"ticks\":\"\"}}}],\"bar\":[{\"error_x\":{\"color\":\"#2a3f5f\"},\"error_y\":{\"color\":\"#2a3f5f\"},\"marker\":{\"line\":{\"color\":\"#E5ECF6\",\"width\":0.5},\"pattern\":{\"fillmode\":\"overlay\",\"size\":10,\"solidity\":0.2}},\"type\":\"bar\"}],\"scattergeo\":[{\"type\":\"scattergeo\",\"marker\":{\"colorbar\":{\"outlinewidth\":0,\"ticks\":\"\"}}}],\"scatterpolar\":[{\"type\":\"scatterpolar\",\"marker\":{\"colorbar\":{\"outlinewidth\":0,\"ticks\":\"\"}}}],\"histogram\":[{\"marker\":{\"pattern\":{\"fillmode\":\"overlay\",\"size\":10,\"solidity\":0.2}},\"type\":\"histogram\"}],\"scattergl\":[{\"type\":\"scattergl\",\"marker\":{\"colorbar\":{\"outlinewidth\":0,\"ticks\":\"\"}}}],\"scatter3d\":[{\"type\":\"scatter3d\",\"line\":{\"colorbar\":{\"outlinewidth\":0,\"ticks\":\"\"}},\"marker\":{\"colorbar\":{\"outlinewidth\":0,\"ticks\":\"\"}}}],\"scattermap\":[{\"type\":\"scattermap\",\"marker\":{\"colorbar\":{\"outlinewidth\":0,\"ticks\":\"\"}}}],\"scattermapbox\":[{\"type\":\"scattermapbox\",\"marker\":{\"colorbar\":{\"outlinewidth\":0,\"ticks\":\"\"}}}],\"scatterternary\":[{\"type\":\"scatterternary\",\"marker\":{\"colorbar\":{\"outlinewidth\":0,\"ticks\":\"\"}}}],\"scattercarpet\":[{\"type\":\"scattercarpet\",\"marker\":{\"colorbar\":{\"outlinewidth\":0,\"ticks\":\"\"}}}],\"carpet\":[{\"aaxis\":{\"endlinecolor\":\"#2a3f5f\",\"gridcolor\":\"white\",\"linecolor\":\"white\",\"minorgridcolor\":\"white\",\"startlinecolor\":\"#2a3f5f\"},\"baxis\":{\"endlinecolor\":\"#2a3f5f\",\"gridcolor\":\"white\",\"linecolor\":\"white\",\"minorgridcolor\":\"white\",\"startlinecolor\":\"#2a3f5f\"},\"type\":\"carpet\"}],\"table\":[{\"cells\":{\"fill\":{\"color\":\"#EBF0F8\"},\"line\":{\"color\":\"white\"}},\"header\":{\"fill\":{\"color\":\"#C8D4E3\"},\"line\":{\"color\":\"white\"}},\"type\":\"table\"}],\"barpolar\":[{\"marker\":{\"line\":{\"color\":\"#E5ECF6\",\"width\":0.5},\"pattern\":{\"fillmode\":\"overlay\",\"size\":10,\"solidity\":0.2}},\"type\":\"barpolar\"}],\"pie\":[{\"automargin\":true,\"type\":\"pie\"}]},\"layout\":{\"autotypenumbers\":\"strict\",\"colorway\":[\"#636efa\",\"#EF553B\",\"#00cc96\",\"#ab63fa\",\"#FFA15A\",\"#19d3f3\",\"#FF6692\",\"#B6E880\",\"#FF97FF\",\"#FECB52\"],\"font\":{\"color\":\"#2a3f5f\"},\"hovermode\":\"closest\",\"hoverlabel\":{\"align\":\"left\"},\"paper_bgcolor\":\"white\",\"plot_bgcolor\":\"#E5ECF6\",\"polar\":{\"bgcolor\":\"#E5ECF6\",\"angularaxis\":{\"gridcolor\":\"white\",\"linecolor\":\"white\",\"ticks\":\"\"},\"radialaxis\":{\"gridcolor\":\"white\",\"linecolor\":\"white\",\"ticks\":\"\"}},\"ternary\":{\"bgcolor\":\"#E5ECF6\",\"aaxis\":{\"gridcolor\":\"white\",\"linecolor\":\"white\",\"ticks\":\"\"},\"baxis\":{\"gridcolor\":\"white\",\"linecolor\":\"white\",\"ticks\":\"\"},\"caxis\":{\"gridcolor\":\"white\",\"linecolor\":\"white\",\"ticks\":\"\"}},\"coloraxis\":{\"colorbar\":{\"outlinewidth\":0,\"ticks\":\"\"}},\"colorscale\":{\"sequential\":[[0.0,\"#0d0887\"],[0.1111111111111111,\"#46039f\"],[0.2222222222222222,\"#7201a8\"],[0.3333333333333333,\"#9c179e\"],[0.4444444444444444,\"#bd3786\"],[0.5555555555555556,\"#d8576b\"],[0.6666666666666666,\"#ed7953\"],[0.7777777777777778,\"#fb9f3a\"],[0.8888888888888888,\"#fdca26\"],[1.0,\"#f0f921\"]],\"sequentialminus\":[[0.0,\"#0d0887\"],[0.1111111111111111,\"#46039f\"],[0.2222222222222222,\"#7201a8\"],[0.3333333333333333,\"#9c179e\"],[0.4444444444444444,\"#bd3786\"],[0.5555555555555556,\"#d8576b\"],[0.6666666666666666,\"#ed7953\"],[0.7777777777777778,\"#fb9f3a\"],[0.8888888888888888,\"#fdca26\"],[1.0,\"#f0f921\"]],\"diverging\":[[0,\"#8e0152\"],[0.1,\"#c51b7d\"],[0.2,\"#de77ae\"],[0.3,\"#f1b6da\"],[0.4,\"#fde0ef\"],[0.5,\"#f7f7f7\"],[0.6,\"#e6f5d0\"],[0.7,\"#b8e186\"],[0.8,\"#7fbc41\"],[0.9,\"#4d9221\"],[1,\"#276419\"]]},\"xaxis\":{\"gridcolor\":\"white\",\"linecolor\":\"white\",\"ticks\":\"\",\"title\":{\"standoff\":15},\"zerolinecolor\":\"white\",\"automargin\":true,\"zerolinewidth\":2},\"yaxis\":{\"gridcolor\":\"white\",\"linecolor\":\"white\",\"ticks\":\"\",\"title\":{\"standoff\":15},\"zerolinecolor\":\"white\",\"automargin\":true,\"zerolinewidth\":2},\"scene\":{\"xaxis\":{\"backgroundcolor\":\"#E5ECF6\",\"gridcolor\":\"white\",\"linecolor\":\"white\",\"showbackground\":true,\"ticks\":\"\",\"zerolinecolor\":\"white\",\"gridwidth\":2},\"yaxis\":{\"backgroundcolor\":\"#E5ECF6\",\"gridcolor\":\"white\",\"linecolor\":\"white\",\"showbackground\":true,\"ticks\":\"\",\"zerolinecolor\":\"white\",\"gridwidth\":2},\"zaxis\":{\"backgroundcolor\":\"#E5ECF6\",\"gridcolor\":\"white\",\"linecolor\":\"white\",\"showbackground\":true,\"ticks\":\"\",\"zerolinecolor\":\"white\",\"gridwidth\":2}},\"shapedefaults\":{\"line\":{\"color\":\"#2a3f5f\"}},\"annotationdefaults\":{\"arrowcolor\":\"#2a3f5f\",\"arrowhead\":0,\"arrowwidth\":1},\"geo\":{\"bgcolor\":\"white\",\"landcolor\":\"#E5ECF6\",\"subunitcolor\":\"white\",\"showland\":true,\"showlakes\":true,\"lakecolor\":\"white\"},\"title\":{\"x\":0.05},\"mapbox\":{\"style\":\"light\"}}},\"xaxis\":{\"anchor\":\"y\",\"domain\":[0.0,1.0],\"title\":{\"text\":\"Year\"}},\"yaxis\":{\"anchor\":\"x\",\"domain\":[0.0,1.0],\"title\":{\"text\":\"Urban Population (%)\"}},\"legend\":{\"tracegroupgap\":0},\"title\":{\"text\":\"Urban Population as Percentage of Total Population: 1960-2021\"}},                        {\"responsive\": true}                    ).then(function(){\n",
       "                            \n",
       "var gd = document.getElementById('4f168f32-941b-4bac-a93f-9893a9b60d89');\n",
       "var x = new MutationObserver(function (mutations, observer) {{\n",
       "        var display = window.getComputedStyle(gd).display;\n",
       "        if (!display || display === 'none') {{\n",
       "            console.log([gd, 'removed!']);\n",
       "            Plotly.purge(gd);\n",
       "            observer.disconnect();\n",
       "        }}\n",
       "}});\n",
       "\n",
       "// Listen for the removal of the full notebook cells\n",
       "var notebookContainer = gd.closest('#notebook-container');\n",
       "if (notebookContainer) {{\n",
       "    x.observe(notebookContainer, {childList: true});\n",
       "}}\n",
       "\n",
       "// Listen for the clearing of the current output cell\n",
       "var outputEl = gd.closest('.output');\n",
       "if (outputEl) {{\n",
       "    x.observe(outputEl, {childList: true});\n",
       "}}\n",
       "\n",
       "                        })                };            </script>        </div>"
      ]
     },
     "metadata": {},
     "output_type": "display_data"
    }
   ],
   "source": [
    "#Urban Population as a Percentage of Total Population (1960-2021)\n",
    "\n",
    "variable_labels = {\n",
    "    \"SP.URB.TOTL.IN.ZS\": \"Urban Population (% of total)\"\n",
    "}\n",
    "\n",
    "China_urban_pop = wbdata.get_dataframe(variable_labels, country=\"CHN\")\n",
    "\n",
    "China_urban_pop.index = pd.to_datetime(China_urban_pop.index)\n",
    "China_urban_pop.index = China_urban_pop.index.year\n",
    "\n",
    "China_urban_pop = China_urban_pop.reset_index()\n",
    "China_urban_pop.columns = ['Year', 'Urban Population (%)']\n",
    "\n",
    "fig = px.line(China_urban_pop, x = \"Year\", y = \"Urban Population (%)\", title = \"Urban Population as Percentage of Total Population: 1960-2021\", labels = {\"Year\": \"Year\", \"Urban Population (%)\": \"Urban Population (%)\"})\n",
    "fig.show()"
   ]
  },
  {
   "cell_type": "code",
   "execution_count": 37,
   "id": "ddb70221-2d0f-48ac-a271-896347a12718",
   "metadata": {},
   "outputs": [
    {
     "name": "stderr",
     "output_type": "stream",
     "text": [
      "WARNING:shelved_cache.persistent_cache:Key '-6565661103939867367' not in persistent cache.\n"
     ]
    },
    {
     "data": {
      "application/vnd.plotly.v1+json": {
       "config": {
        "plotlyServerURL": "https://plot.ly"
       },
       "data": [
        {
         "mode": "lines",
         "name": "GDP (current US$)",
         "type": "scatter",
         "x": [
          "2023",
          "2022",
          "2021",
          "2020",
          "2019",
          "2018",
          "2017",
          "2016",
          "2015",
          "2014",
          "2013",
          "2012",
          "2011",
          "2010",
          "2009",
          "2008",
          "2007",
          "2006",
          "2005",
          "2004",
          "2003",
          "2002",
          "2001",
          "2000",
          "1999",
          "1998",
          "1997",
          "1996",
          "1995",
          "1994",
          "1993",
          "1992",
          "1991",
          "1990",
          "1989",
          "1988",
          "1987",
          "1986",
          "1985",
          "1984",
          "1983",
          "1982",
          "1981",
          "1980",
          "1979",
          "1978",
          "1977",
          "1976",
          "1975",
          "1974",
          "1973",
          "1972",
          "1971",
          "1970",
          "1969",
          "1968",
          "1967",
          "1966",
          "1965",
          "1964",
          "1963",
          "1962",
          "1961",
          "1960"
         ],
         "xaxis": "x",
         "y": {
          "bdata": "AEDQuCsvsEJNOwhObUOwQjN0pCgmNbBCAOL3i4O3qkJmP4PmoPmpQjOxFxhSRqlCzbkK7YRkpkJmWV5Z626kQmalkjbyHqRCZsalzhcOo0JcL9kPmWihQlzC7IM3Cp9CAEPwy+x4m0L23WGbIyWWQtf06PJRj5JCriaVP8+2kEIzs2M4ANWJQikAhXA4BoRCzb7tN++hgEI9FjX+O3R8QqRspukGKXhCM//wEEFmdULDESU8qH1zQnGhkeKPoHFC4SqPy/bWb0LNlCycGfNtQvATRzl+/GtCN9ETE28jaUKgsiGlVmBlQmogh4SGbGBC9uAANQPjWULJ9rIzitlYQvDn8CW1UFZC0309sTMBVUJt75vVJT5UQmr0+YpuLlJCeUlWhTrHT0K+zyIapYFRQsspeSK7A1JCTpI2fQJDTkLloAg1ANtKQrZjCTwm4EdCH0Uw6EXNRkIAgNu/sEBGQoGF9v0swURCTqLeZqloQULdVEtAf11EQjPjzWS/60FCqtERXpQGQ0I3iaKLKslAQjEIzYHoIEBCz1d0K2l4OkIV/X41lDw3Qq6oixKMjzVCdMQGKtOOMkIDedNhxH4wQqx9kl8R+DBCeuVzYd7cMULTbMIyUGYwQoa6J2DDzStCXkv8EbOcJ0IEtt4IxvslQs+3CtM4TydCyvK9TbvOK0I=",
          "dtype": "f8"
         },
         "yaxis": "y"
        },
        {
         "line": {
          "color": "red"
         },
         "mode": "lines",
         "name": "Total Population",
         "type": "scatter",
         "x": [
          "2023",
          "2022",
          "2021",
          "2020",
          "2019",
          "2018",
          "2017",
          "2016",
          "2015",
          "2014",
          "2013",
          "2012",
          "2011",
          "2010",
          "2009",
          "2008",
          "2007",
          "2006",
          "2005",
          "2004",
          "2003",
          "2002",
          "2001",
          "2000",
          "1999",
          "1998",
          "1997",
          "1996",
          "1995",
          "1994",
          "1993",
          "1992",
          "1991",
          "1990",
          "1989",
          "1988",
          "1987",
          "1986",
          "1985",
          "1984",
          "1983",
          "1982",
          "1981",
          "1980",
          "1979",
          "1978",
          "1977",
          "1976",
          "1975",
          "1974",
          "1973",
          "1972",
          "1971",
          "1970",
          "1969",
          "1968",
          "1967",
          "1966",
          "1965",
          "1964",
          "1963",
          "1962",
          "1961",
          "1960"
         ],
         "xaxis": "x",
         "y": {
          "bdata": "AAAAfG4F1UEAAAAmBQvVQQAAANC5C9VBAAAAWOsG1UEAAAD6HvrUQQAAANAa59RBAAAANiPO1EEAAACs/63UQQAAAIi/j9RBAAAACDtx1EEAAAAQWVDUQQAAACzTLdRBAAAAvuYK1EEAAACK8O7TQQAAAJha1tNBAAAAZii900EAAAASVaPTQQAAAPgkidNBAAAAEExt00EAAAA+IlDTQQAAACDbMtNBAAAAoFYU00EAAAAEufPSQQAAAMKb0NJBAAAABs6q0kEAAAAmm4HSQQAAAB5dVNJBAAAArJUk0kEAAAA2KPTRQQAAAF59wtFBAAAAUGSP0UEAAAAEAlzRQQAAAJjgJdFBAAAAGmPq0EEAAACkT6vQQQAAAIxiatBBAAAA7kMn0EEAAAA49srPQQAAAIDMUs9BAAAA1FjmzkEAAABYPH/OQQAAAHg8D85BAAAApL2ezUEAAACcOj7NQQAAAOTr4MxBAAAAxPV+zEEAAACM/R3MQQAAACSQvMtBAAAA/IlPy0EAAAAYINXKQQAAABCrSMpBAAAAWMSwyUEAAAA0HxHJQQAAAHw/Y8hBAAAAVDC5x0EAAADYChXHQQAAAHjCfMZBAAAAIKjqxUEAAAC0bVDFQQAAAJwG0MRBAAAAjM1VxEEAAAAIbNfDQQAAAAjrrcNBAAAAGFfhw0E=",
          "dtype": "f8"
         },
         "yaxis": "y2"
        }
       ],
       "layout": {
        "paper_bgcolor": "white",
        "plot_bgcolor": "white",
        "template": {
         "data": {
          "bar": [
           {
            "error_x": {
             "color": "#2a3f5f"
            },
            "error_y": {
             "color": "#2a3f5f"
            },
            "marker": {
             "line": {
              "color": "#E5ECF6",
              "width": 0.5
             },
             "pattern": {
              "fillmode": "overlay",
              "size": 10,
              "solidity": 0.2
             }
            },
            "type": "bar"
           }
          ],
          "barpolar": [
           {
            "marker": {
             "line": {
              "color": "#E5ECF6",
              "width": 0.5
             },
             "pattern": {
              "fillmode": "overlay",
              "size": 10,
              "solidity": 0.2
             }
            },
            "type": "barpolar"
           }
          ],
          "carpet": [
           {
            "aaxis": {
             "endlinecolor": "#2a3f5f",
             "gridcolor": "white",
             "linecolor": "white",
             "minorgridcolor": "white",
             "startlinecolor": "#2a3f5f"
            },
            "baxis": {
             "endlinecolor": "#2a3f5f",
             "gridcolor": "white",
             "linecolor": "white",
             "minorgridcolor": "white",
             "startlinecolor": "#2a3f5f"
            },
            "type": "carpet"
           }
          ],
          "choropleth": [
           {
            "colorbar": {
             "outlinewidth": 0,
             "ticks": ""
            },
            "type": "choropleth"
           }
          ],
          "contour": [
           {
            "colorbar": {
             "outlinewidth": 0,
             "ticks": ""
            },
            "colorscale": [
             [
              0,
              "#0d0887"
             ],
             [
              0.1111111111111111,
              "#46039f"
             ],
             [
              0.2222222222222222,
              "#7201a8"
             ],
             [
              0.3333333333333333,
              "#9c179e"
             ],
             [
              0.4444444444444444,
              "#bd3786"
             ],
             [
              0.5555555555555556,
              "#d8576b"
             ],
             [
              0.6666666666666666,
              "#ed7953"
             ],
             [
              0.7777777777777778,
              "#fb9f3a"
             ],
             [
              0.8888888888888888,
              "#fdca26"
             ],
             [
              1,
              "#f0f921"
             ]
            ],
            "type": "contour"
           }
          ],
          "contourcarpet": [
           {
            "colorbar": {
             "outlinewidth": 0,
             "ticks": ""
            },
            "type": "contourcarpet"
           }
          ],
          "heatmap": [
           {
            "colorbar": {
             "outlinewidth": 0,
             "ticks": ""
            },
            "colorscale": [
             [
              0,
              "#0d0887"
             ],
             [
              0.1111111111111111,
              "#46039f"
             ],
             [
              0.2222222222222222,
              "#7201a8"
             ],
             [
              0.3333333333333333,
              "#9c179e"
             ],
             [
              0.4444444444444444,
              "#bd3786"
             ],
             [
              0.5555555555555556,
              "#d8576b"
             ],
             [
              0.6666666666666666,
              "#ed7953"
             ],
             [
              0.7777777777777778,
              "#fb9f3a"
             ],
             [
              0.8888888888888888,
              "#fdca26"
             ],
             [
              1,
              "#f0f921"
             ]
            ],
            "type": "heatmap"
           }
          ],
          "histogram": [
           {
            "marker": {
             "pattern": {
              "fillmode": "overlay",
              "size": 10,
              "solidity": 0.2
             }
            },
            "type": "histogram"
           }
          ],
          "histogram2d": [
           {
            "colorbar": {
             "outlinewidth": 0,
             "ticks": ""
            },
            "colorscale": [
             [
              0,
              "#0d0887"
             ],
             [
              0.1111111111111111,
              "#46039f"
             ],
             [
              0.2222222222222222,
              "#7201a8"
             ],
             [
              0.3333333333333333,
              "#9c179e"
             ],
             [
              0.4444444444444444,
              "#bd3786"
             ],
             [
              0.5555555555555556,
              "#d8576b"
             ],
             [
              0.6666666666666666,
              "#ed7953"
             ],
             [
              0.7777777777777778,
              "#fb9f3a"
             ],
             [
              0.8888888888888888,
              "#fdca26"
             ],
             [
              1,
              "#f0f921"
             ]
            ],
            "type": "histogram2d"
           }
          ],
          "histogram2dcontour": [
           {
            "colorbar": {
             "outlinewidth": 0,
             "ticks": ""
            },
            "colorscale": [
             [
              0,
              "#0d0887"
             ],
             [
              0.1111111111111111,
              "#46039f"
             ],
             [
              0.2222222222222222,
              "#7201a8"
             ],
             [
              0.3333333333333333,
              "#9c179e"
             ],
             [
              0.4444444444444444,
              "#bd3786"
             ],
             [
              0.5555555555555556,
              "#d8576b"
             ],
             [
              0.6666666666666666,
              "#ed7953"
             ],
             [
              0.7777777777777778,
              "#fb9f3a"
             ],
             [
              0.8888888888888888,
              "#fdca26"
             ],
             [
              1,
              "#f0f921"
             ]
            ],
            "type": "histogram2dcontour"
           }
          ],
          "mesh3d": [
           {
            "colorbar": {
             "outlinewidth": 0,
             "ticks": ""
            },
            "type": "mesh3d"
           }
          ],
          "parcoords": [
           {
            "line": {
             "colorbar": {
              "outlinewidth": 0,
              "ticks": ""
             }
            },
            "type": "parcoords"
           }
          ],
          "pie": [
           {
            "automargin": true,
            "type": "pie"
           }
          ],
          "scatter": [
           {
            "fillpattern": {
             "fillmode": "overlay",
             "size": 10,
             "solidity": 0.2
            },
            "type": "scatter"
           }
          ],
          "scatter3d": [
           {
            "line": {
             "colorbar": {
              "outlinewidth": 0,
              "ticks": ""
             }
            },
            "marker": {
             "colorbar": {
              "outlinewidth": 0,
              "ticks": ""
             }
            },
            "type": "scatter3d"
           }
          ],
          "scattercarpet": [
           {
            "marker": {
             "colorbar": {
              "outlinewidth": 0,
              "ticks": ""
             }
            },
            "type": "scattercarpet"
           }
          ],
          "scattergeo": [
           {
            "marker": {
             "colorbar": {
              "outlinewidth": 0,
              "ticks": ""
             }
            },
            "type": "scattergeo"
           }
          ],
          "scattergl": [
           {
            "marker": {
             "colorbar": {
              "outlinewidth": 0,
              "ticks": ""
             }
            },
            "type": "scattergl"
           }
          ],
          "scattermap": [
           {
            "marker": {
             "colorbar": {
              "outlinewidth": 0,
              "ticks": ""
             }
            },
            "type": "scattermap"
           }
          ],
          "scattermapbox": [
           {
            "marker": {
             "colorbar": {
              "outlinewidth": 0,
              "ticks": ""
             }
            },
            "type": "scattermapbox"
           }
          ],
          "scatterpolar": [
           {
            "marker": {
             "colorbar": {
              "outlinewidth": 0,
              "ticks": ""
             }
            },
            "type": "scatterpolar"
           }
          ],
          "scatterpolargl": [
           {
            "marker": {
             "colorbar": {
              "outlinewidth": 0,
              "ticks": ""
             }
            },
            "type": "scatterpolargl"
           }
          ],
          "scatterternary": [
           {
            "marker": {
             "colorbar": {
              "outlinewidth": 0,
              "ticks": ""
             }
            },
            "type": "scatterternary"
           }
          ],
          "surface": [
           {
            "colorbar": {
             "outlinewidth": 0,
             "ticks": ""
            },
            "colorscale": [
             [
              0,
              "#0d0887"
             ],
             [
              0.1111111111111111,
              "#46039f"
             ],
             [
              0.2222222222222222,
              "#7201a8"
             ],
             [
              0.3333333333333333,
              "#9c179e"
             ],
             [
              0.4444444444444444,
              "#bd3786"
             ],
             [
              0.5555555555555556,
              "#d8576b"
             ],
             [
              0.6666666666666666,
              "#ed7953"
             ],
             [
              0.7777777777777778,
              "#fb9f3a"
             ],
             [
              0.8888888888888888,
              "#fdca26"
             ],
             [
              1,
              "#f0f921"
             ]
            ],
            "type": "surface"
           }
          ],
          "table": [
           {
            "cells": {
             "fill": {
              "color": "#EBF0F8"
             },
             "line": {
              "color": "white"
             }
            },
            "header": {
             "fill": {
              "color": "#C8D4E3"
             },
             "line": {
              "color": "white"
             }
            },
            "type": "table"
           }
          ]
         },
         "layout": {
          "annotationdefaults": {
           "arrowcolor": "#2a3f5f",
           "arrowhead": 0,
           "arrowwidth": 1
          },
          "autotypenumbers": "strict",
          "coloraxis": {
           "colorbar": {
            "outlinewidth": 0,
            "ticks": ""
           }
          },
          "colorscale": {
           "diverging": [
            [
             0,
             "#8e0152"
            ],
            [
             0.1,
             "#c51b7d"
            ],
            [
             0.2,
             "#de77ae"
            ],
            [
             0.3,
             "#f1b6da"
            ],
            [
             0.4,
             "#fde0ef"
            ],
            [
             0.5,
             "#f7f7f7"
            ],
            [
             0.6,
             "#e6f5d0"
            ],
            [
             0.7,
             "#b8e186"
            ],
            [
             0.8,
             "#7fbc41"
            ],
            [
             0.9,
             "#4d9221"
            ],
            [
             1,
             "#276419"
            ]
           ],
           "sequential": [
            [
             0,
             "#0d0887"
            ],
            [
             0.1111111111111111,
             "#46039f"
            ],
            [
             0.2222222222222222,
             "#7201a8"
            ],
            [
             0.3333333333333333,
             "#9c179e"
            ],
            [
             0.4444444444444444,
             "#bd3786"
            ],
            [
             0.5555555555555556,
             "#d8576b"
            ],
            [
             0.6666666666666666,
             "#ed7953"
            ],
            [
             0.7777777777777778,
             "#fb9f3a"
            ],
            [
             0.8888888888888888,
             "#fdca26"
            ],
            [
             1,
             "#f0f921"
            ]
           ],
           "sequentialminus": [
            [
             0,
             "#0d0887"
            ],
            [
             0.1111111111111111,
             "#46039f"
            ],
            [
             0.2222222222222222,
             "#7201a8"
            ],
            [
             0.3333333333333333,
             "#9c179e"
            ],
            [
             0.4444444444444444,
             "#bd3786"
            ],
            [
             0.5555555555555556,
             "#d8576b"
            ],
            [
             0.6666666666666666,
             "#ed7953"
            ],
            [
             0.7777777777777778,
             "#fb9f3a"
            ],
            [
             0.8888888888888888,
             "#fdca26"
            ],
            [
             1,
             "#f0f921"
            ]
           ]
          },
          "colorway": [
           "#636efa",
           "#EF553B",
           "#00cc96",
           "#ab63fa",
           "#FFA15A",
           "#19d3f3",
           "#FF6692",
           "#B6E880",
           "#FF97FF",
           "#FECB52"
          ],
          "font": {
           "color": "#2a3f5f"
          },
          "geo": {
           "bgcolor": "white",
           "lakecolor": "white",
           "landcolor": "#E5ECF6",
           "showlakes": true,
           "showland": true,
           "subunitcolor": "white"
          },
          "hoverlabel": {
           "align": "left"
          },
          "hovermode": "closest",
          "mapbox": {
           "style": "light"
          },
          "paper_bgcolor": "white",
          "plot_bgcolor": "#E5ECF6",
          "polar": {
           "angularaxis": {
            "gridcolor": "white",
            "linecolor": "white",
            "ticks": ""
           },
           "bgcolor": "#E5ECF6",
           "radialaxis": {
            "gridcolor": "white",
            "linecolor": "white",
            "ticks": ""
           }
          },
          "scene": {
           "xaxis": {
            "backgroundcolor": "#E5ECF6",
            "gridcolor": "white",
            "gridwidth": 2,
            "linecolor": "white",
            "showbackground": true,
            "ticks": "",
            "zerolinecolor": "white"
           },
           "yaxis": {
            "backgroundcolor": "#E5ECF6",
            "gridcolor": "white",
            "gridwidth": 2,
            "linecolor": "white",
            "showbackground": true,
            "ticks": "",
            "zerolinecolor": "white"
           },
           "zaxis": {
            "backgroundcolor": "#E5ECF6",
            "gridcolor": "white",
            "gridwidth": 2,
            "linecolor": "white",
            "showbackground": true,
            "ticks": "",
            "zerolinecolor": "white"
           }
          },
          "shapedefaults": {
           "line": {
            "color": "#2a3f5f"
           }
          },
          "ternary": {
           "aaxis": {
            "gridcolor": "white",
            "linecolor": "white",
            "ticks": ""
           },
           "baxis": {
            "gridcolor": "white",
            "linecolor": "white",
            "ticks": ""
           },
           "bgcolor": "#E5ECF6",
           "caxis": {
            "gridcolor": "white",
            "linecolor": "white",
            "ticks": ""
           }
          },
          "title": {
           "x": 0.05
          },
          "xaxis": {
           "automargin": true,
           "gridcolor": "white",
           "linecolor": "white",
           "ticks": "",
           "title": {
            "standoff": 15
           },
           "zerolinecolor": "white",
           "zerolinewidth": 2
          },
          "yaxis": {
           "automargin": true,
           "gridcolor": "white",
           "linecolor": "white",
           "ticks": "",
           "title": {
            "standoff": 15
           },
           "zerolinecolor": "white",
           "zerolinewidth": 2
          }
         }
        },
        "title": {
         "text": "GDP and Population Trend for China (1960-2021)"
        },
        "xaxis": {
         "anchor": "y",
         "autorange": "reversed",
         "domain": [
          0,
          0.94
         ],
         "title": {
          "text": "Year"
         }
        },
        "yaxis": {
         "anchor": "x",
         "domain": [
          0,
          1
         ],
         "title": {
          "text": "GDP (current US$)"
         }
        },
        "yaxis2": {
         "anchor": "x",
         "overlaying": "y",
         "side": "right",
         "title": {
          "text": "Total Population"
         }
        }
       }
      },
      "text/html": [
       "<div>            <script src=\"https://cdnjs.cloudflare.com/ajax/libs/mathjax/2.7.5/MathJax.js?config=TeX-AMS-MML_SVG\"></script><script type=\"text/javascript\">if (window.MathJax && window.MathJax.Hub && window.MathJax.Hub.Config) {window.MathJax.Hub.Config({SVG: {font: \"STIX-Web\"}});}</script>                <script type=\"text/javascript\">window.PlotlyConfig = {MathJaxConfig: 'local'};</script>\n",
       "        <script charset=\"utf-8\" src=\"https://cdn.plot.ly/plotly-3.0.0.min.js\"></script>                <div id=\"fd19aca9-9ff0-4193-b039-b607220b5d40\" class=\"plotly-graph-div\" style=\"height:525px; width:100%;\"></div>            <script type=\"text/javascript\">                window.PLOTLYENV=window.PLOTLYENV || {};                                if (document.getElementById(\"fd19aca9-9ff0-4193-b039-b607220b5d40\")) {                    Plotly.newPlot(                        \"fd19aca9-9ff0-4193-b039-b607220b5d40\",                        [{\"mode\":\"lines\",\"name\":\"GDP (current US$)\",\"x\":[\"2023\",\"2022\",\"2021\",\"2020\",\"2019\",\"2018\",\"2017\",\"2016\",\"2015\",\"2014\",\"2013\",\"2012\",\"2011\",\"2010\",\"2009\",\"2008\",\"2007\",\"2006\",\"2005\",\"2004\",\"2003\",\"2002\",\"2001\",\"2000\",\"1999\",\"1998\",\"1997\",\"1996\",\"1995\",\"1994\",\"1993\",\"1992\",\"1991\",\"1990\",\"1989\",\"1988\",\"1987\",\"1986\",\"1985\",\"1984\",\"1983\",\"1982\",\"1981\",\"1980\",\"1979\",\"1978\",\"1977\",\"1976\",\"1975\",\"1974\",\"1973\",\"1972\",\"1971\",\"1970\",\"1969\",\"1968\",\"1967\",\"1966\",\"1965\",\"1964\",\"1963\",\"1962\",\"1961\",\"1960\"],\"y\":{\"dtype\":\"f8\",\"bdata\":\"AEDQuCsvsEJNOwhObUOwQjN0pCgmNbBCAOL3i4O3qkJmP4PmoPmpQjOxFxhSRqlCzbkK7YRkpkJmWV5Z626kQmalkjbyHqRCZsalzhcOo0JcL9kPmWihQlzC7IM3Cp9CAEPwy+x4m0L23WGbIyWWQtf06PJRj5JCriaVP8+2kEIzs2M4ANWJQikAhXA4BoRCzb7tN++hgEI9FjX+O3R8QqRspukGKXhCM\\u002f\\u002fwEEFmdULDESU8qH1zQnGhkeKPoHFC4SqPy\\u002fbWb0LNlCycGfNtQvATRzl+\\u002fGtCN9ETE28jaUKgsiGlVmBlQmogh4SGbGBC9uAANQPjWULJ9rIzitlYQvDn8CW1UFZC0309sTMBVUJt75vVJT5UQmr0+YpuLlJCeUlWhTrHT0K+zyIapYFRQsspeSK7A1JCTpI2fQJDTkLloAg1ANtKQrZjCTwm4EdCH0Uw6EXNRkIAgNu\\u002fsEBGQoGF9v0swURCTqLeZqloQULdVEtAf11EQjPjzWS\\u002f60FCqtERXpQGQ0I3iaKLKslAQjEIzYHoIEBCz1d0K2l4OkIV\\u002fX41lDw3Qq6oixKMjzVCdMQGKtOOMkIDedNhxH4wQqx9kl8R+DBCeuVzYd7cMULTbMIyUGYwQoa6J2DDzStCXkv8EbOcJ0IEtt4IxvslQs+3CtM4TydCyvK9TbvOK0I=\"},\"type\":\"scatter\",\"xaxis\":\"x\",\"yaxis\":\"y\"},{\"line\":{\"color\":\"red\"},\"mode\":\"lines\",\"name\":\"Total Population\",\"x\":[\"2023\",\"2022\",\"2021\",\"2020\",\"2019\",\"2018\",\"2017\",\"2016\",\"2015\",\"2014\",\"2013\",\"2012\",\"2011\",\"2010\",\"2009\",\"2008\",\"2007\",\"2006\",\"2005\",\"2004\",\"2003\",\"2002\",\"2001\",\"2000\",\"1999\",\"1998\",\"1997\",\"1996\",\"1995\",\"1994\",\"1993\",\"1992\",\"1991\",\"1990\",\"1989\",\"1988\",\"1987\",\"1986\",\"1985\",\"1984\",\"1983\",\"1982\",\"1981\",\"1980\",\"1979\",\"1978\",\"1977\",\"1976\",\"1975\",\"1974\",\"1973\",\"1972\",\"1971\",\"1970\",\"1969\",\"1968\",\"1967\",\"1966\",\"1965\",\"1964\",\"1963\",\"1962\",\"1961\",\"1960\"],\"y\":{\"dtype\":\"f8\",\"bdata\":\"AAAAfG4F1UEAAAAmBQvVQQAAANC5C9VBAAAAWOsG1UEAAAD6HvrUQQAAANAa59RBAAAANiPO1EEAAACs\\u002f63UQQAAAIi\\u002fj9RBAAAACDtx1EEAAAAQWVDUQQAAACzTLdRBAAAAvuYK1EEAAACK8O7TQQAAAJha1tNBAAAAZii900EAAAASVaPTQQAAAPgkidNBAAAAEExt00EAAAA+IlDTQQAAACDbMtNBAAAAoFYU00EAAAAEufPSQQAAAMKb0NJBAAAABs6q0kEAAAAmm4HSQQAAAB5dVNJBAAAArJUk0kEAAAA2KPTRQQAAAF59wtFBAAAAUGSP0UEAAAAEAlzRQQAAAJjgJdFBAAAAGmPq0EEAAACkT6vQQQAAAIxiatBBAAAA7kMn0EEAAAA49srPQQAAAIDMUs9BAAAA1FjmzkEAAABYPH\\u002fOQQAAAHg8D85BAAAApL2ezUEAAACcOj7NQQAAAOTr4MxBAAAAxPV+zEEAAACM\\u002fR3MQQAAACSQvMtBAAAA\\u002fIlPy0EAAAAYINXKQQAAABCrSMpBAAAAWMSwyUEAAAA0HxHJQQAAAHw\\u002fY8hBAAAAVDC5x0EAAADYChXHQQAAAHjCfMZBAAAAIKjqxUEAAAC0bVDFQQAAAJwG0MRBAAAAjM1VxEEAAAAIbNfDQQAAAAjrrcNBAAAAGFfhw0E=\"},\"type\":\"scatter\",\"xaxis\":\"x\",\"yaxis\":\"y2\"}],                        {\"template\":{\"data\":{\"histogram2dcontour\":[{\"type\":\"histogram2dcontour\",\"colorbar\":{\"outlinewidth\":0,\"ticks\":\"\"},\"colorscale\":[[0.0,\"#0d0887\"],[0.1111111111111111,\"#46039f\"],[0.2222222222222222,\"#7201a8\"],[0.3333333333333333,\"#9c179e\"],[0.4444444444444444,\"#bd3786\"],[0.5555555555555556,\"#d8576b\"],[0.6666666666666666,\"#ed7953\"],[0.7777777777777778,\"#fb9f3a\"],[0.8888888888888888,\"#fdca26\"],[1.0,\"#f0f921\"]]}],\"choropleth\":[{\"type\":\"choropleth\",\"colorbar\":{\"outlinewidth\":0,\"ticks\":\"\"}}],\"histogram2d\":[{\"type\":\"histogram2d\",\"colorbar\":{\"outlinewidth\":0,\"ticks\":\"\"},\"colorscale\":[[0.0,\"#0d0887\"],[0.1111111111111111,\"#46039f\"],[0.2222222222222222,\"#7201a8\"],[0.3333333333333333,\"#9c179e\"],[0.4444444444444444,\"#bd3786\"],[0.5555555555555556,\"#d8576b\"],[0.6666666666666666,\"#ed7953\"],[0.7777777777777778,\"#fb9f3a\"],[0.8888888888888888,\"#fdca26\"],[1.0,\"#f0f921\"]]}],\"heatmap\":[{\"type\":\"heatmap\",\"colorbar\":{\"outlinewidth\":0,\"ticks\":\"\"},\"colorscale\":[[0.0,\"#0d0887\"],[0.1111111111111111,\"#46039f\"],[0.2222222222222222,\"#7201a8\"],[0.3333333333333333,\"#9c179e\"],[0.4444444444444444,\"#bd3786\"],[0.5555555555555556,\"#d8576b\"],[0.6666666666666666,\"#ed7953\"],[0.7777777777777778,\"#fb9f3a\"],[0.8888888888888888,\"#fdca26\"],[1.0,\"#f0f921\"]]}],\"contourcarpet\":[{\"type\":\"contourcarpet\",\"colorbar\":{\"outlinewidth\":0,\"ticks\":\"\"}}],\"contour\":[{\"type\":\"contour\",\"colorbar\":{\"outlinewidth\":0,\"ticks\":\"\"},\"colorscale\":[[0.0,\"#0d0887\"],[0.1111111111111111,\"#46039f\"],[0.2222222222222222,\"#7201a8\"],[0.3333333333333333,\"#9c179e\"],[0.4444444444444444,\"#bd3786\"],[0.5555555555555556,\"#d8576b\"],[0.6666666666666666,\"#ed7953\"],[0.7777777777777778,\"#fb9f3a\"],[0.8888888888888888,\"#fdca26\"],[1.0,\"#f0f921\"]]}],\"surface\":[{\"type\":\"surface\",\"colorbar\":{\"outlinewidth\":0,\"ticks\":\"\"},\"colorscale\":[[0.0,\"#0d0887\"],[0.1111111111111111,\"#46039f\"],[0.2222222222222222,\"#7201a8\"],[0.3333333333333333,\"#9c179e\"],[0.4444444444444444,\"#bd3786\"],[0.5555555555555556,\"#d8576b\"],[0.6666666666666666,\"#ed7953\"],[0.7777777777777778,\"#fb9f3a\"],[0.8888888888888888,\"#fdca26\"],[1.0,\"#f0f921\"]]}],\"mesh3d\":[{\"type\":\"mesh3d\",\"colorbar\":{\"outlinewidth\":0,\"ticks\":\"\"}}],\"scatter\":[{\"fillpattern\":{\"fillmode\":\"overlay\",\"size\":10,\"solidity\":0.2},\"type\":\"scatter\"}],\"parcoords\":[{\"type\":\"parcoords\",\"line\":{\"colorbar\":{\"outlinewidth\":0,\"ticks\":\"\"}}}],\"scatterpolargl\":[{\"type\":\"scatterpolargl\",\"marker\":{\"colorbar\":{\"outlinewidth\":0,\"ticks\":\"\"}}}],\"bar\":[{\"error_x\":{\"color\":\"#2a3f5f\"},\"error_y\":{\"color\":\"#2a3f5f\"},\"marker\":{\"line\":{\"color\":\"#E5ECF6\",\"width\":0.5},\"pattern\":{\"fillmode\":\"overlay\",\"size\":10,\"solidity\":0.2}},\"type\":\"bar\"}],\"scattergeo\":[{\"type\":\"scattergeo\",\"marker\":{\"colorbar\":{\"outlinewidth\":0,\"ticks\":\"\"}}}],\"scatterpolar\":[{\"type\":\"scatterpolar\",\"marker\":{\"colorbar\":{\"outlinewidth\":0,\"ticks\":\"\"}}}],\"histogram\":[{\"marker\":{\"pattern\":{\"fillmode\":\"overlay\",\"size\":10,\"solidity\":0.2}},\"type\":\"histogram\"}],\"scattergl\":[{\"type\":\"scattergl\",\"marker\":{\"colorbar\":{\"outlinewidth\":0,\"ticks\":\"\"}}}],\"scatter3d\":[{\"type\":\"scatter3d\",\"line\":{\"colorbar\":{\"outlinewidth\":0,\"ticks\":\"\"}},\"marker\":{\"colorbar\":{\"outlinewidth\":0,\"ticks\":\"\"}}}],\"scattermap\":[{\"type\":\"scattermap\",\"marker\":{\"colorbar\":{\"outlinewidth\":0,\"ticks\":\"\"}}}],\"scattermapbox\":[{\"type\":\"scattermapbox\",\"marker\":{\"colorbar\":{\"outlinewidth\":0,\"ticks\":\"\"}}}],\"scatterternary\":[{\"type\":\"scatterternary\",\"marker\":{\"colorbar\":{\"outlinewidth\":0,\"ticks\":\"\"}}}],\"scattercarpet\":[{\"type\":\"scattercarpet\",\"marker\":{\"colorbar\":{\"outlinewidth\":0,\"ticks\":\"\"}}}],\"carpet\":[{\"aaxis\":{\"endlinecolor\":\"#2a3f5f\",\"gridcolor\":\"white\",\"linecolor\":\"white\",\"minorgridcolor\":\"white\",\"startlinecolor\":\"#2a3f5f\"},\"baxis\":{\"endlinecolor\":\"#2a3f5f\",\"gridcolor\":\"white\",\"linecolor\":\"white\",\"minorgridcolor\":\"white\",\"startlinecolor\":\"#2a3f5f\"},\"type\":\"carpet\"}],\"table\":[{\"cells\":{\"fill\":{\"color\":\"#EBF0F8\"},\"line\":{\"color\":\"white\"}},\"header\":{\"fill\":{\"color\":\"#C8D4E3\"},\"line\":{\"color\":\"white\"}},\"type\":\"table\"}],\"barpolar\":[{\"marker\":{\"line\":{\"color\":\"#E5ECF6\",\"width\":0.5},\"pattern\":{\"fillmode\":\"overlay\",\"size\":10,\"solidity\":0.2}},\"type\":\"barpolar\"}],\"pie\":[{\"automargin\":true,\"type\":\"pie\"}]},\"layout\":{\"autotypenumbers\":\"strict\",\"colorway\":[\"#636efa\",\"#EF553B\",\"#00cc96\",\"#ab63fa\",\"#FFA15A\",\"#19d3f3\",\"#FF6692\",\"#B6E880\",\"#FF97FF\",\"#FECB52\"],\"font\":{\"color\":\"#2a3f5f\"},\"hovermode\":\"closest\",\"hoverlabel\":{\"align\":\"left\"},\"paper_bgcolor\":\"white\",\"plot_bgcolor\":\"#E5ECF6\",\"polar\":{\"bgcolor\":\"#E5ECF6\",\"angularaxis\":{\"gridcolor\":\"white\",\"linecolor\":\"white\",\"ticks\":\"\"},\"radialaxis\":{\"gridcolor\":\"white\",\"linecolor\":\"white\",\"ticks\":\"\"}},\"ternary\":{\"bgcolor\":\"#E5ECF6\",\"aaxis\":{\"gridcolor\":\"white\",\"linecolor\":\"white\",\"ticks\":\"\"},\"baxis\":{\"gridcolor\":\"white\",\"linecolor\":\"white\",\"ticks\":\"\"},\"caxis\":{\"gridcolor\":\"white\",\"linecolor\":\"white\",\"ticks\":\"\"}},\"coloraxis\":{\"colorbar\":{\"outlinewidth\":0,\"ticks\":\"\"}},\"colorscale\":{\"sequential\":[[0.0,\"#0d0887\"],[0.1111111111111111,\"#46039f\"],[0.2222222222222222,\"#7201a8\"],[0.3333333333333333,\"#9c179e\"],[0.4444444444444444,\"#bd3786\"],[0.5555555555555556,\"#d8576b\"],[0.6666666666666666,\"#ed7953\"],[0.7777777777777778,\"#fb9f3a\"],[0.8888888888888888,\"#fdca26\"],[1.0,\"#f0f921\"]],\"sequentialminus\":[[0.0,\"#0d0887\"],[0.1111111111111111,\"#46039f\"],[0.2222222222222222,\"#7201a8\"],[0.3333333333333333,\"#9c179e\"],[0.4444444444444444,\"#bd3786\"],[0.5555555555555556,\"#d8576b\"],[0.6666666666666666,\"#ed7953\"],[0.7777777777777778,\"#fb9f3a\"],[0.8888888888888888,\"#fdca26\"],[1.0,\"#f0f921\"]],\"diverging\":[[0,\"#8e0152\"],[0.1,\"#c51b7d\"],[0.2,\"#de77ae\"],[0.3,\"#f1b6da\"],[0.4,\"#fde0ef\"],[0.5,\"#f7f7f7\"],[0.6,\"#e6f5d0\"],[0.7,\"#b8e186\"],[0.8,\"#7fbc41\"],[0.9,\"#4d9221\"],[1,\"#276419\"]]},\"xaxis\":{\"gridcolor\":\"white\",\"linecolor\":\"white\",\"ticks\":\"\",\"title\":{\"standoff\":15},\"zerolinecolor\":\"white\",\"automargin\":true,\"zerolinewidth\":2},\"yaxis\":{\"gridcolor\":\"white\",\"linecolor\":\"white\",\"ticks\":\"\",\"title\":{\"standoff\":15},\"zerolinecolor\":\"white\",\"automargin\":true,\"zerolinewidth\":2},\"scene\":{\"xaxis\":{\"backgroundcolor\":\"#E5ECF6\",\"gridcolor\":\"white\",\"linecolor\":\"white\",\"showbackground\":true,\"ticks\":\"\",\"zerolinecolor\":\"white\",\"gridwidth\":2},\"yaxis\":{\"backgroundcolor\":\"#E5ECF6\",\"gridcolor\":\"white\",\"linecolor\":\"white\",\"showbackground\":true,\"ticks\":\"\",\"zerolinecolor\":\"white\",\"gridwidth\":2},\"zaxis\":{\"backgroundcolor\":\"#E5ECF6\",\"gridcolor\":\"white\",\"linecolor\":\"white\",\"showbackground\":true,\"ticks\":\"\",\"zerolinecolor\":\"white\",\"gridwidth\":2}},\"shapedefaults\":{\"line\":{\"color\":\"#2a3f5f\"}},\"annotationdefaults\":{\"arrowcolor\":\"#2a3f5f\",\"arrowhead\":0,\"arrowwidth\":1},\"geo\":{\"bgcolor\":\"white\",\"landcolor\":\"#E5ECF6\",\"subunitcolor\":\"white\",\"showland\":true,\"showlakes\":true,\"lakecolor\":\"white\"},\"title\":{\"x\":0.05},\"mapbox\":{\"style\":\"light\"}}},\"xaxis\":{\"anchor\":\"y\",\"domain\":[0.0,0.94],\"title\":{\"text\":\"Year\"},\"autorange\":\"reversed\"},\"yaxis\":{\"anchor\":\"x\",\"domain\":[0.0,1.0],\"title\":{\"text\":\"GDP (current US$)\"}},\"yaxis2\":{\"anchor\":\"x\",\"overlaying\":\"y\",\"side\":\"right\",\"title\":{\"text\":\"Total Population\"}},\"title\":{\"text\":\"GDP and Population Trend for China (1960-2021)\"},\"plot_bgcolor\":\"white\",\"paper_bgcolor\":\"white\"},                        {\"responsive\": true}                    ).then(function(){\n",
       "                            \n",
       "var gd = document.getElementById('fd19aca9-9ff0-4193-b039-b607220b5d40');\n",
       "var x = new MutationObserver(function (mutations, observer) {{\n",
       "        var display = window.getComputedStyle(gd).display;\n",
       "        if (!display || display === 'none') {{\n",
       "            console.log([gd, 'removed!']);\n",
       "            Plotly.purge(gd);\n",
       "            observer.disconnect();\n",
       "        }}\n",
       "}});\n",
       "\n",
       "// Listen for the removal of the full notebook cells\n",
       "var notebookContainer = gd.closest('#notebook-container');\n",
       "if (notebookContainer) {{\n",
       "    x.observe(notebookContainer, {childList: true});\n",
       "}}\n",
       "\n",
       "// Listen for the clearing of the current output cell\n",
       "var outputEl = gd.closest('.output');\n",
       "if (outputEl) {{\n",
       "    x.observe(outputEl, {childList: true});\n",
       "}}\n",
       "\n",
       "                        })                };            </script>        </div>"
      ]
     },
     "metadata": {},
     "output_type": "display_data"
    }
   ],
   "source": [
    "#China's Total Population vs GDP (1960-2021)\n",
    "\n",
    "import wbdata\n",
    "import pandas as pd\n",
    "import plotly.graph_objects as go\n",
    "from plotly.subplots import make_subplots\n",
    "\n",
    "indicator_gdp = {\"NY.GDP.MKTP.CD\": \"GDP (current US$)\"}\n",
    "indicator_pop = {\"SP.POP.TOTL\": \"Total Population\"}\n",
    "\n",
    "gdp_data = wbdata.get_dataframe(indicator_gdp, country = \"CHN\", date = (pd.to_datetime('1960-01-01'), pd.to_datetime('2023-12-31')))\n",
    "population_data = wbdata.get_dataframe(indicator_pop, country=\"CHN\", date = (pd.to_datetime('1960-01-01'), pd.to_datetime('2023-12-31')))\n",
    "\n",
    "merged_data = pd.merge(gdp_data, population_data, left_index=True, right_index = True, how = 'inner')\n",
    "merged_data = merged_data.reset_index()\n",
    "\n",
    "fig = make_subplots(specs = [[{\"secondary_y\": True}]])\n",
    "\n",
    "fig.add_trace(\n",
    "    go.Scatter(\n",
    "        x = merged_data[\"date\"],\n",
    "        y = merged_data[\"GDP (current US$)\"],\n",
    "        mode = \"lines\",\n",
    "        name = \"GDP (current US$)\",\n",
    "    ),\n",
    "    secondary_y = False,\n",
    ")\n",
    "\n",
    "fig.add_trace(\n",
    "    go.Scatter(\n",
    "        x = merged_data[\"date\"],\n",
    "        y = merged_data[\"Total Population\"],\n",
    "        mode = \"lines\",\n",
    "        name = \"Total Population\",\n",
    "        line = dict(color = \"red\"),  \n",
    "    ),\n",
    "    secondary_y=True,\n",
    ")\n",
    "\n",
    "fig.update_layout(\n",
    "    title = \"GDP and Population Trend for China (1960-2021)\",\n",
    "    xaxis_title = \"Year\",\n",
    "    plot_bgcolor = \"white\",  \n",
    "    paper_bgcolor = \"white\",  \n",
    ")\n",
    "\n",
    "fig.update_xaxes(autorange=\"reversed\")\n",
    "fig.update_yaxes(title_text=\"GDP (current US$)\", secondary_y = False)\n",
    "fig.update_yaxes(title_text=\"Total Population\", secondary_y = True)\n",
    "\n",
    "fig.show()"
   ]
  },
  {
   "cell_type": "markdown",
   "id": "d79f7ec2-6d50-4e3b-adaf-6c381d56f882",
   "metadata": {},
   "source": [
    "Total Population: China continues to see a growth in population. However, the rate at which the population is increasing at has decreased since the One child Policy was implemented in 1979 (shallower slope). As the policy shifted to a two child policy in 2016, the growth rate remains lower than it did prior to implmenetation of the One Child Policy. These impacts will continue to impact China's economy there will be much less young people of working age to support the older population and contribute to the rapid increase in GDP. \n",
    "\n",
    "GDP: China as seen a slow, but consistent increase in GDP in the 1900s until the early 2000s where it saw a rapid rise.\n",
    "\n",
    "Despite the decrease in growth rate in population over time, its GDP has seen incredible growth. "
   ]
  },
  {
   "cell_type": "code",
   "execution_count": 44,
   "id": "8cce3bca-8b50-4d4e-a386-8f9919298f76",
   "metadata": {},
   "outputs": [
    {
     "name": "stdout",
     "output_type": "stream",
     "text": [
      "Requirement already satisfied: cufflinks in /srv/conda/lib/python3.11/site-packages (0.17.3)\n",
      "Requirement already satisfied: numpy>=1.9.2 in /srv/conda/lib/python3.11/site-packages (from cufflinks) (2.2.2)\n",
      "Requirement already satisfied: pandas>=0.19.2 in /srv/conda/lib/python3.11/site-packages (from cufflinks) (2.2.3)\n",
      "Requirement already satisfied: plotly>=4.1.1 in /srv/conda/lib/python3.11/site-packages (from cufflinks) (6.0.0)\n",
      "Requirement already satisfied: six>=1.9.0 in /srv/conda/lib/python3.11/site-packages (from cufflinks) (1.17.0)\n",
      "Requirement already satisfied: colorlover>=0.2.1 in /srv/conda/lib/python3.11/site-packages (from cufflinks) (0.3.0)\n",
      "Requirement already satisfied: setuptools>=34.4.1 in /srv/conda/lib/python3.11/site-packages (from cufflinks) (75.6.0)\n",
      "Requirement already satisfied: ipython>=5.3.0 in /srv/conda/lib/python3.11/site-packages (from cufflinks) (8.32.0)\n",
      "Requirement already satisfied: ipywidgets>=7.0.0 in /srv/conda/lib/python3.11/site-packages (from cufflinks) (8.1.5)\n",
      "Requirement already satisfied: decorator in /srv/conda/lib/python3.11/site-packages (from ipython>=5.3.0->cufflinks) (5.1.1)\n",
      "Requirement already satisfied: jedi>=0.16 in /srv/conda/lib/python3.11/site-packages (from ipython>=5.3.0->cufflinks) (0.19.2)\n",
      "Requirement already satisfied: matplotlib-inline in /srv/conda/lib/python3.11/site-packages (from ipython>=5.3.0->cufflinks) (0.1.7)\n",
      "Requirement already satisfied: pexpect>4.3 in /srv/conda/lib/python3.11/site-packages (from ipython>=5.3.0->cufflinks) (4.9.0)\n",
      "Requirement already satisfied: prompt_toolkit<3.1.0,>=3.0.41 in /srv/conda/lib/python3.11/site-packages (from ipython>=5.3.0->cufflinks) (3.0.50)\n",
      "Requirement already satisfied: pygments>=2.4.0 in /srv/conda/lib/python3.11/site-packages (from ipython>=5.3.0->cufflinks) (2.19.1)\n",
      "Requirement already satisfied: stack_data in /srv/conda/lib/python3.11/site-packages (from ipython>=5.3.0->cufflinks) (0.6.3)\n",
      "Requirement already satisfied: traitlets>=5.13.0 in /srv/conda/lib/python3.11/site-packages (from ipython>=5.3.0->cufflinks) (5.14.3)\n",
      "Requirement already satisfied: typing_extensions>=4.6 in /srv/conda/lib/python3.11/site-packages (from ipython>=5.3.0->cufflinks) (4.12.2)\n",
      "Requirement already satisfied: comm>=0.1.3 in /srv/conda/lib/python3.11/site-packages (from ipywidgets>=7.0.0->cufflinks) (0.2.2)\n",
      "Requirement already satisfied: widgetsnbextension~=4.0.12 in /srv/conda/lib/python3.11/site-packages (from ipywidgets>=7.0.0->cufflinks) (4.0.13)\n",
      "Requirement already satisfied: jupyterlab_widgets~=3.0.12 in /srv/conda/lib/python3.11/site-packages (from ipywidgets>=7.0.0->cufflinks) (3.0.13)\n",
      "Requirement already satisfied: python-dateutil>=2.8.2 in /srv/conda/lib/python3.11/site-packages (from pandas>=0.19.2->cufflinks) (2.9.0.post0)\n",
      "Requirement already satisfied: pytz>=2020.1 in /srv/conda/lib/python3.11/site-packages (from pandas>=0.19.2->cufflinks) (2025.1)\n",
      "Requirement already satisfied: tzdata>=2022.7 in /srv/conda/lib/python3.11/site-packages (from pandas>=0.19.2->cufflinks) (2025.1)\n",
      "Requirement already satisfied: narwhals>=1.15.1 in /srv/conda/lib/python3.11/site-packages (from plotly>=4.1.1->cufflinks) (1.26.0)\n",
      "Requirement already satisfied: packaging in /srv/conda/lib/python3.11/site-packages (from plotly>=4.1.1->cufflinks) (24.2)\n",
      "Requirement already satisfied: parso<0.9.0,>=0.8.4 in /srv/conda/lib/python3.11/site-packages (from jedi>=0.16->ipython>=5.3.0->cufflinks) (0.8.4)\n",
      "Requirement already satisfied: ptyprocess>=0.5 in /srv/conda/lib/python3.11/site-packages (from pexpect>4.3->ipython>=5.3.0->cufflinks) (0.7.0)\n",
      "Requirement already satisfied: wcwidth in /srv/conda/lib/python3.11/site-packages (from prompt_toolkit<3.1.0,>=3.0.41->ipython>=5.3.0->cufflinks) (0.2.13)\n",
      "Requirement already satisfied: executing>=1.2.0 in /srv/conda/lib/python3.11/site-packages (from stack_data->ipython>=5.3.0->cufflinks) (2.1.0)\n",
      "Requirement already satisfied: asttokens>=2.1.0 in /srv/conda/lib/python3.11/site-packages (from stack_data->ipython>=5.3.0->cufflinks) (3.0.0)\n",
      "Requirement already satisfied: pure_eval in /srv/conda/lib/python3.11/site-packages (from stack_data->ipython>=5.3.0->cufflinks) (0.2.3)\n"
     ]
    },
    {
     "data": {
      "text/html": [
       "        <script type=\"text/javascript\">\n",
       "        window.PlotlyConfig = {MathJaxConfig: 'local'};\n",
       "        if (window.MathJax && window.MathJax.Hub && window.MathJax.Hub.Config) {window.MathJax.Hub.Config({SVG: {font: \"STIX-Web\"}});}\n",
       "        </script>\n",
       "        <script type=\"module\">import \"https://cdn.plot.ly/plotly-3.0.0.min\"</script>\n",
       "        "
      ]
     },
     "metadata": {},
     "output_type": "display_data"
    },
    {
     "data": {
      "application/vnd.plotly.v1+json": {
       "config": {
        "plotlyServerURL": "https://plot.ly"
       },
       "data": [
        {
         "mode": "lines+markers",
         "name": "China Fertility Rate",
         "type": "scatter",
         "x": {
          "bdata": "5wfmB+UH5AfjB+IH4QfgB98H3gfdB9wH2wfaB9kH2AfXB9YH1QfUB9MH0gfRB9AHzwfOB80HzAfLB8oHyQfIB8cHxgfFB8QHwwfCB8EHwAe/B74HvQe8B7sHuge5B7gHtwe2B7UHtAezB7IHsQewB68HrgetB6wHqweqB6kHqAc=",
          "dtype": "i2"
         },
         "y": {
          "bdata": "AAAAAAAA+H/NzMzMzMzyPzm0yHa+n/I/5dAi2/l+9D9WDi2yne/3P3e+nxov3fg/NV66SQwC/T8nMQisHFr8P7gehetRuPo/5/up8dJN/D8GgZVDi2z7P/hT46WbxPw/46WbxCCw+j/LoUW28/36PwaBlUOLbPs/nu+nxks3+z8OLbKd76f6P+f7qfHSTfo/lkOLbOf7+T+uR+F6FK75Px+F61G4Hvk/dZMYBFYO+T81XrpJDAL5Pz81XrpJDPo/exSuR+F6+D8nMQisHFr4PzvfT42Xbvg/d76fGi/d+D+cxCCwcmj5Pz81XrpJDPo/dZMYBFYO+z/RItv5fmr8P4ts5/up8f4/6SYxCKwcBEApXI/C9SgEQB1aZDvfTwRAFK5H4XoUBkD4U+Olm8QFQKrx0k1iEAVAQmDl0CLbBEBGtvP91HgEQC2yne+nxgdAvHSTGARWBkC28/3UeOkFQPYoXI/C9QVA7nw/NV66BUCNl24Sg8AGQOF6FK5H4QlAxSCwcmiRDECuR+F6FK4QQIGVQ4ts5xJAppvEILByFEBkO99PjRcWQNejcD0KVxhAMzMzMzOzGEDVeOkmMQgaQNNNYhBYORdA7nw/NV46GUDsUbgehWsaQOOlm8QgsBpAWmQ7308NHkDXo3A9ClcYQIGVQ4ts5w5A5/up8dLNEUA=",
          "dtype": "f8"
         }
        }
       ],
       "layout": {
        "showlegend": true,
        "template": {
         "data": {
          "bar": [
           {
            "error_x": {
             "color": "#2a3f5f"
            },
            "error_y": {
             "color": "#2a3f5f"
            },
            "marker": {
             "line": {
              "color": "#E5ECF6",
              "width": 0.5
             },
             "pattern": {
              "fillmode": "overlay",
              "size": 10,
              "solidity": 0.2
             }
            },
            "type": "bar"
           }
          ],
          "barpolar": [
           {
            "marker": {
             "line": {
              "color": "#E5ECF6",
              "width": 0.5
             },
             "pattern": {
              "fillmode": "overlay",
              "size": 10,
              "solidity": 0.2
             }
            },
            "type": "barpolar"
           }
          ],
          "carpet": [
           {
            "aaxis": {
             "endlinecolor": "#2a3f5f",
             "gridcolor": "white",
             "linecolor": "white",
             "minorgridcolor": "white",
             "startlinecolor": "#2a3f5f"
            },
            "baxis": {
             "endlinecolor": "#2a3f5f",
             "gridcolor": "white",
             "linecolor": "white",
             "minorgridcolor": "white",
             "startlinecolor": "#2a3f5f"
            },
            "type": "carpet"
           }
          ],
          "choropleth": [
           {
            "colorbar": {
             "outlinewidth": 0,
             "ticks": ""
            },
            "type": "choropleth"
           }
          ],
          "contour": [
           {
            "colorbar": {
             "outlinewidth": 0,
             "ticks": ""
            },
            "colorscale": [
             [
              0,
              "#0d0887"
             ],
             [
              0.1111111111111111,
              "#46039f"
             ],
             [
              0.2222222222222222,
              "#7201a8"
             ],
             [
              0.3333333333333333,
              "#9c179e"
             ],
             [
              0.4444444444444444,
              "#bd3786"
             ],
             [
              0.5555555555555556,
              "#d8576b"
             ],
             [
              0.6666666666666666,
              "#ed7953"
             ],
             [
              0.7777777777777778,
              "#fb9f3a"
             ],
             [
              0.8888888888888888,
              "#fdca26"
             ],
             [
              1,
              "#f0f921"
             ]
            ],
            "type": "contour"
           }
          ],
          "contourcarpet": [
           {
            "colorbar": {
             "outlinewidth": 0,
             "ticks": ""
            },
            "type": "contourcarpet"
           }
          ],
          "heatmap": [
           {
            "colorbar": {
             "outlinewidth": 0,
             "ticks": ""
            },
            "colorscale": [
             [
              0,
              "#0d0887"
             ],
             [
              0.1111111111111111,
              "#46039f"
             ],
             [
              0.2222222222222222,
              "#7201a8"
             ],
             [
              0.3333333333333333,
              "#9c179e"
             ],
             [
              0.4444444444444444,
              "#bd3786"
             ],
             [
              0.5555555555555556,
              "#d8576b"
             ],
             [
              0.6666666666666666,
              "#ed7953"
             ],
             [
              0.7777777777777778,
              "#fb9f3a"
             ],
             [
              0.8888888888888888,
              "#fdca26"
             ],
             [
              1,
              "#f0f921"
             ]
            ],
            "type": "heatmap"
           }
          ],
          "histogram": [
           {
            "marker": {
             "pattern": {
              "fillmode": "overlay",
              "size": 10,
              "solidity": 0.2
             }
            },
            "type": "histogram"
           }
          ],
          "histogram2d": [
           {
            "colorbar": {
             "outlinewidth": 0,
             "ticks": ""
            },
            "colorscale": [
             [
              0,
              "#0d0887"
             ],
             [
              0.1111111111111111,
              "#46039f"
             ],
             [
              0.2222222222222222,
              "#7201a8"
             ],
             [
              0.3333333333333333,
              "#9c179e"
             ],
             [
              0.4444444444444444,
              "#bd3786"
             ],
             [
              0.5555555555555556,
              "#d8576b"
             ],
             [
              0.6666666666666666,
              "#ed7953"
             ],
             [
              0.7777777777777778,
              "#fb9f3a"
             ],
             [
              0.8888888888888888,
              "#fdca26"
             ],
             [
              1,
              "#f0f921"
             ]
            ],
            "type": "histogram2d"
           }
          ],
          "histogram2dcontour": [
           {
            "colorbar": {
             "outlinewidth": 0,
             "ticks": ""
            },
            "colorscale": [
             [
              0,
              "#0d0887"
             ],
             [
              0.1111111111111111,
              "#46039f"
             ],
             [
              0.2222222222222222,
              "#7201a8"
             ],
             [
              0.3333333333333333,
              "#9c179e"
             ],
             [
              0.4444444444444444,
              "#bd3786"
             ],
             [
              0.5555555555555556,
              "#d8576b"
             ],
             [
              0.6666666666666666,
              "#ed7953"
             ],
             [
              0.7777777777777778,
              "#fb9f3a"
             ],
             [
              0.8888888888888888,
              "#fdca26"
             ],
             [
              1,
              "#f0f921"
             ]
            ],
            "type": "histogram2dcontour"
           }
          ],
          "mesh3d": [
           {
            "colorbar": {
             "outlinewidth": 0,
             "ticks": ""
            },
            "type": "mesh3d"
           }
          ],
          "parcoords": [
           {
            "line": {
             "colorbar": {
              "outlinewidth": 0,
              "ticks": ""
             }
            },
            "type": "parcoords"
           }
          ],
          "pie": [
           {
            "automargin": true,
            "type": "pie"
           }
          ],
          "scatter": [
           {
            "fillpattern": {
             "fillmode": "overlay",
             "size": 10,
             "solidity": 0.2
            },
            "type": "scatter"
           }
          ],
          "scatter3d": [
           {
            "line": {
             "colorbar": {
              "outlinewidth": 0,
              "ticks": ""
             }
            },
            "marker": {
             "colorbar": {
              "outlinewidth": 0,
              "ticks": ""
             }
            },
            "type": "scatter3d"
           }
          ],
          "scattercarpet": [
           {
            "marker": {
             "colorbar": {
              "outlinewidth": 0,
              "ticks": ""
             }
            },
            "type": "scattercarpet"
           }
          ],
          "scattergeo": [
           {
            "marker": {
             "colorbar": {
              "outlinewidth": 0,
              "ticks": ""
             }
            },
            "type": "scattergeo"
           }
          ],
          "scattergl": [
           {
            "marker": {
             "colorbar": {
              "outlinewidth": 0,
              "ticks": ""
             }
            },
            "type": "scattergl"
           }
          ],
          "scattermap": [
           {
            "marker": {
             "colorbar": {
              "outlinewidth": 0,
              "ticks": ""
             }
            },
            "type": "scattermap"
           }
          ],
          "scattermapbox": [
           {
            "marker": {
             "colorbar": {
              "outlinewidth": 0,
              "ticks": ""
             }
            },
            "type": "scattermapbox"
           }
          ],
          "scatterpolar": [
           {
            "marker": {
             "colorbar": {
              "outlinewidth": 0,
              "ticks": ""
             }
            },
            "type": "scatterpolar"
           }
          ],
          "scatterpolargl": [
           {
            "marker": {
             "colorbar": {
              "outlinewidth": 0,
              "ticks": ""
             }
            },
            "type": "scatterpolargl"
           }
          ],
          "scatterternary": [
           {
            "marker": {
             "colorbar": {
              "outlinewidth": 0,
              "ticks": ""
             }
            },
            "type": "scatterternary"
           }
          ],
          "surface": [
           {
            "colorbar": {
             "outlinewidth": 0,
             "ticks": ""
            },
            "colorscale": [
             [
              0,
              "#0d0887"
             ],
             [
              0.1111111111111111,
              "#46039f"
             ],
             [
              0.2222222222222222,
              "#7201a8"
             ],
             [
              0.3333333333333333,
              "#9c179e"
             ],
             [
              0.4444444444444444,
              "#bd3786"
             ],
             [
              0.5555555555555556,
              "#d8576b"
             ],
             [
              0.6666666666666666,
              "#ed7953"
             ],
             [
              0.7777777777777778,
              "#fb9f3a"
             ],
             [
              0.8888888888888888,
              "#fdca26"
             ],
             [
              1,
              "#f0f921"
             ]
            ],
            "type": "surface"
           }
          ],
          "table": [
           {
            "cells": {
             "fill": {
              "color": "#EBF0F8"
             },
             "line": {
              "color": "white"
             }
            },
            "header": {
             "fill": {
              "color": "#C8D4E3"
             },
             "line": {
              "color": "white"
             }
            },
            "type": "table"
           }
          ]
         },
         "layout": {
          "annotationdefaults": {
           "arrowcolor": "#2a3f5f",
           "arrowhead": 0,
           "arrowwidth": 1
          },
          "autotypenumbers": "strict",
          "coloraxis": {
           "colorbar": {
            "outlinewidth": 0,
            "ticks": ""
           }
          },
          "colorscale": {
           "diverging": [
            [
             0,
             "#8e0152"
            ],
            [
             0.1,
             "#c51b7d"
            ],
            [
             0.2,
             "#de77ae"
            ],
            [
             0.3,
             "#f1b6da"
            ],
            [
             0.4,
             "#fde0ef"
            ],
            [
             0.5,
             "#f7f7f7"
            ],
            [
             0.6,
             "#e6f5d0"
            ],
            [
             0.7,
             "#b8e186"
            ],
            [
             0.8,
             "#7fbc41"
            ],
            [
             0.9,
             "#4d9221"
            ],
            [
             1,
             "#276419"
            ]
           ],
           "sequential": [
            [
             0,
             "#0d0887"
            ],
            [
             0.1111111111111111,
             "#46039f"
            ],
            [
             0.2222222222222222,
             "#7201a8"
            ],
            [
             0.3333333333333333,
             "#9c179e"
            ],
            [
             0.4444444444444444,
             "#bd3786"
            ],
            [
             0.5555555555555556,
             "#d8576b"
            ],
            [
             0.6666666666666666,
             "#ed7953"
            ],
            [
             0.7777777777777778,
             "#fb9f3a"
            ],
            [
             0.8888888888888888,
             "#fdca26"
            ],
            [
             1,
             "#f0f921"
            ]
           ],
           "sequentialminus": [
            [
             0,
             "#0d0887"
            ],
            [
             0.1111111111111111,
             "#46039f"
            ],
            [
             0.2222222222222222,
             "#7201a8"
            ],
            [
             0.3333333333333333,
             "#9c179e"
            ],
            [
             0.4444444444444444,
             "#bd3786"
            ],
            [
             0.5555555555555556,
             "#d8576b"
            ],
            [
             0.6666666666666666,
             "#ed7953"
            ],
            [
             0.7777777777777778,
             "#fb9f3a"
            ],
            [
             0.8888888888888888,
             "#fdca26"
            ],
            [
             1,
             "#f0f921"
            ]
           ]
          },
          "colorway": [
           "#636efa",
           "#EF553B",
           "#00cc96",
           "#ab63fa",
           "#FFA15A",
           "#19d3f3",
           "#FF6692",
           "#B6E880",
           "#FF97FF",
           "#FECB52"
          ],
          "font": {
           "color": "#2a3f5f"
          },
          "geo": {
           "bgcolor": "white",
           "lakecolor": "white",
           "landcolor": "#E5ECF6",
           "showlakes": true,
           "showland": true,
           "subunitcolor": "white"
          },
          "hoverlabel": {
           "align": "left"
          },
          "hovermode": "closest",
          "mapbox": {
           "style": "light"
          },
          "paper_bgcolor": "white",
          "plot_bgcolor": "#E5ECF6",
          "polar": {
           "angularaxis": {
            "gridcolor": "white",
            "linecolor": "white",
            "ticks": ""
           },
           "bgcolor": "#E5ECF6",
           "radialaxis": {
            "gridcolor": "white",
            "linecolor": "white",
            "ticks": ""
           }
          },
          "scene": {
           "xaxis": {
            "backgroundcolor": "#E5ECF6",
            "gridcolor": "white",
            "gridwidth": 2,
            "linecolor": "white",
            "showbackground": true,
            "ticks": "",
            "zerolinecolor": "white"
           },
           "yaxis": {
            "backgroundcolor": "#E5ECF6",
            "gridcolor": "white",
            "gridwidth": 2,
            "linecolor": "white",
            "showbackground": true,
            "ticks": "",
            "zerolinecolor": "white"
           },
           "zaxis": {
            "backgroundcolor": "#E5ECF6",
            "gridcolor": "white",
            "gridwidth": 2,
            "linecolor": "white",
            "showbackground": true,
            "ticks": "",
            "zerolinecolor": "white"
           }
          },
          "shapedefaults": {
           "line": {
            "color": "#2a3f5f"
           }
          },
          "ternary": {
           "aaxis": {
            "gridcolor": "white",
            "linecolor": "white",
            "ticks": ""
           },
           "baxis": {
            "gridcolor": "white",
            "linecolor": "white",
            "ticks": ""
           },
           "bgcolor": "#E5ECF6",
           "caxis": {
            "gridcolor": "white",
            "linecolor": "white",
            "ticks": ""
           }
          },
          "title": {
           "x": 0.05
          },
          "xaxis": {
           "automargin": true,
           "gridcolor": "white",
           "linecolor": "white",
           "ticks": "",
           "title": {
            "standoff": 15
           },
           "zerolinecolor": "white",
           "zerolinewidth": 2
          },
          "yaxis": {
           "automargin": true,
           "gridcolor": "white",
           "linecolor": "white",
           "ticks": "",
           "title": {
            "standoff": 15
           },
           "zerolinecolor": "white",
           "zerolinewidth": 2
          }
         }
        },
        "title": {
         "text": "China Fertility Rate Over Time (1960-2022)"
        },
        "xaxis": {
         "tickangle": 90,
         "tickfont": {
          "size": 12
         },
         "tickmode": "linear",
         "title": {
          "text": "Year"
         }
        },
        "yaxis": {
         "title": {
          "text": "Fertility Rate (Births per Woman)"
         }
        }
       }
      },
      "text/html": [
       "<div>            <script src=\"https://cdnjs.cloudflare.com/ajax/libs/mathjax/2.7.5/MathJax.js?config=TeX-AMS-MML_SVG\"></script><script type=\"text/javascript\">if (window.MathJax && window.MathJax.Hub && window.MathJax.Hub.Config) {window.MathJax.Hub.Config({SVG: {font: \"STIX-Web\"}});}</script>                <script type=\"text/javascript\">window.PlotlyConfig = {MathJaxConfig: 'local'};</script>\n",
       "        <script charset=\"utf-8\" src=\"https://cdn.plot.ly/plotly-3.0.0.min.js\"></script>                <div id=\"df153418-963e-43fa-b967-dcba00abd43a\" class=\"plotly-graph-div\" style=\"height:525px; width:100%;\"></div>            <script type=\"text/javascript\">                window.PLOTLYENV=window.PLOTLYENV || {};                                if (document.getElementById(\"df153418-963e-43fa-b967-dcba00abd43a\")) {                    Plotly.newPlot(                        \"df153418-963e-43fa-b967-dcba00abd43a\",                        [{\"mode\":\"lines+markers\",\"name\":\"China Fertility Rate\",\"x\":{\"dtype\":\"i2\",\"bdata\":\"5wfmB+UH5AfjB+IH4QfgB98H3gfdB9wH2wfaB9kH2AfXB9YH1QfUB9MH0gfRB9AHzwfOB80HzAfLB8oHyQfIB8cHxgfFB8QHwwfCB8EHwAe\\u002fB74HvQe8B7sHuge5B7gHtwe2B7UHtAezB7IHsQewB68HrgetB6wHqweqB6kHqAc=\"},\"y\":{\"dtype\":\"f8\",\"bdata\":\"AAAAAAAA+H\\u002fNzMzMzMzyPzm0yHa+n\\u002fI\\u002f5dAi2\\u002fl+9D9WDi2yne\\u002f3P3e+nxov3fg\\u002fNV66SQwC\\u002fT8nMQisHFr8P7gehetRuPo\\u002f5\\u002fup8dJN\\u002fD8GgZVDi2z7P\\u002fhT46WbxPw\\u002f46WbxCCw+j\\u002fLoUW28\\u002f36PwaBlUOLbPs\\u002fnu+nxks3+z8OLbKd76f6P+f7qfHSTfo\\u002flkOLbOf7+T+uR+F6FK75Px+F61G4Hvk\\u002fdZMYBFYO+T81XrpJDAL5Pz81XrpJDPo\\u002fexSuR+F6+D8nMQisHFr4PzvfT42Xbvg\\u002fd76fGi\\u002fd+D+cxCCwcmj5Pz81XrpJDPo\\u002fdZMYBFYO+z\\u002fRItv5fmr8P4ts5\\u002fup8f4\\u002f6SYxCKwcBEApXI\\u002fC9SgEQB1aZDvfTwRAFK5H4XoUBkD4U+Olm8QFQKrx0k1iEAVAQmDl0CLbBEBGtvP91HgEQC2yne+nxgdAvHSTGARWBkC28\\u002f3UeOkFQPYoXI\\u002fC9QVA7nw\\u002fNV66BUCNl24Sg8AGQOF6FK5H4QlAxSCwcmiRDECuR+F6FK4QQIGVQ4ts5xJAppvEILByFEBkO99PjRcWQNejcD0KVxhAMzMzMzOzGEDVeOkmMQgaQNNNYhBYORdA7nw\\u002fNV46GUDsUbgehWsaQOOlm8QgsBpAWmQ7308NHkDXo3A9ClcYQIGVQ4ts5w5A5\\u002fup8dLNEUA=\"},\"type\":\"scatter\"}],                        {\"template\":{\"data\":{\"histogram2dcontour\":[{\"type\":\"histogram2dcontour\",\"colorbar\":{\"outlinewidth\":0,\"ticks\":\"\"},\"colorscale\":[[0.0,\"#0d0887\"],[0.1111111111111111,\"#46039f\"],[0.2222222222222222,\"#7201a8\"],[0.3333333333333333,\"#9c179e\"],[0.4444444444444444,\"#bd3786\"],[0.5555555555555556,\"#d8576b\"],[0.6666666666666666,\"#ed7953\"],[0.7777777777777778,\"#fb9f3a\"],[0.8888888888888888,\"#fdca26\"],[1.0,\"#f0f921\"]]}],\"choropleth\":[{\"type\":\"choropleth\",\"colorbar\":{\"outlinewidth\":0,\"ticks\":\"\"}}],\"histogram2d\":[{\"type\":\"histogram2d\",\"colorbar\":{\"outlinewidth\":0,\"ticks\":\"\"},\"colorscale\":[[0.0,\"#0d0887\"],[0.1111111111111111,\"#46039f\"],[0.2222222222222222,\"#7201a8\"],[0.3333333333333333,\"#9c179e\"],[0.4444444444444444,\"#bd3786\"],[0.5555555555555556,\"#d8576b\"],[0.6666666666666666,\"#ed7953\"],[0.7777777777777778,\"#fb9f3a\"],[0.8888888888888888,\"#fdca26\"],[1.0,\"#f0f921\"]]}],\"heatmap\":[{\"type\":\"heatmap\",\"colorbar\":{\"outlinewidth\":0,\"ticks\":\"\"},\"colorscale\":[[0.0,\"#0d0887\"],[0.1111111111111111,\"#46039f\"],[0.2222222222222222,\"#7201a8\"],[0.3333333333333333,\"#9c179e\"],[0.4444444444444444,\"#bd3786\"],[0.5555555555555556,\"#d8576b\"],[0.6666666666666666,\"#ed7953\"],[0.7777777777777778,\"#fb9f3a\"],[0.8888888888888888,\"#fdca26\"],[1.0,\"#f0f921\"]]}],\"contourcarpet\":[{\"type\":\"contourcarpet\",\"colorbar\":{\"outlinewidth\":0,\"ticks\":\"\"}}],\"contour\":[{\"type\":\"contour\",\"colorbar\":{\"outlinewidth\":0,\"ticks\":\"\"},\"colorscale\":[[0.0,\"#0d0887\"],[0.1111111111111111,\"#46039f\"],[0.2222222222222222,\"#7201a8\"],[0.3333333333333333,\"#9c179e\"],[0.4444444444444444,\"#bd3786\"],[0.5555555555555556,\"#d8576b\"],[0.6666666666666666,\"#ed7953\"],[0.7777777777777778,\"#fb9f3a\"],[0.8888888888888888,\"#fdca26\"],[1.0,\"#f0f921\"]]}],\"surface\":[{\"type\":\"surface\",\"colorbar\":{\"outlinewidth\":0,\"ticks\":\"\"},\"colorscale\":[[0.0,\"#0d0887\"],[0.1111111111111111,\"#46039f\"],[0.2222222222222222,\"#7201a8\"],[0.3333333333333333,\"#9c179e\"],[0.4444444444444444,\"#bd3786\"],[0.5555555555555556,\"#d8576b\"],[0.6666666666666666,\"#ed7953\"],[0.7777777777777778,\"#fb9f3a\"],[0.8888888888888888,\"#fdca26\"],[1.0,\"#f0f921\"]]}],\"mesh3d\":[{\"type\":\"mesh3d\",\"colorbar\":{\"outlinewidth\":0,\"ticks\":\"\"}}],\"scatter\":[{\"fillpattern\":{\"fillmode\":\"overlay\",\"size\":10,\"solidity\":0.2},\"type\":\"scatter\"}],\"parcoords\":[{\"type\":\"parcoords\",\"line\":{\"colorbar\":{\"outlinewidth\":0,\"ticks\":\"\"}}}],\"scatterpolargl\":[{\"type\":\"scatterpolargl\",\"marker\":{\"colorbar\":{\"outlinewidth\":0,\"ticks\":\"\"}}}],\"bar\":[{\"error_x\":{\"color\":\"#2a3f5f\"},\"error_y\":{\"color\":\"#2a3f5f\"},\"marker\":{\"line\":{\"color\":\"#E5ECF6\",\"width\":0.5},\"pattern\":{\"fillmode\":\"overlay\",\"size\":10,\"solidity\":0.2}},\"type\":\"bar\"}],\"scattergeo\":[{\"type\":\"scattergeo\",\"marker\":{\"colorbar\":{\"outlinewidth\":0,\"ticks\":\"\"}}}],\"scatterpolar\":[{\"type\":\"scatterpolar\",\"marker\":{\"colorbar\":{\"outlinewidth\":0,\"ticks\":\"\"}}}],\"histogram\":[{\"marker\":{\"pattern\":{\"fillmode\":\"overlay\",\"size\":10,\"solidity\":0.2}},\"type\":\"histogram\"}],\"scattergl\":[{\"type\":\"scattergl\",\"marker\":{\"colorbar\":{\"outlinewidth\":0,\"ticks\":\"\"}}}],\"scatter3d\":[{\"type\":\"scatter3d\",\"line\":{\"colorbar\":{\"outlinewidth\":0,\"ticks\":\"\"}},\"marker\":{\"colorbar\":{\"outlinewidth\":0,\"ticks\":\"\"}}}],\"scattermap\":[{\"type\":\"scattermap\",\"marker\":{\"colorbar\":{\"outlinewidth\":0,\"ticks\":\"\"}}}],\"scattermapbox\":[{\"type\":\"scattermapbox\",\"marker\":{\"colorbar\":{\"outlinewidth\":0,\"ticks\":\"\"}}}],\"scatterternary\":[{\"type\":\"scatterternary\",\"marker\":{\"colorbar\":{\"outlinewidth\":0,\"ticks\":\"\"}}}],\"scattercarpet\":[{\"type\":\"scattercarpet\",\"marker\":{\"colorbar\":{\"outlinewidth\":0,\"ticks\":\"\"}}}],\"carpet\":[{\"aaxis\":{\"endlinecolor\":\"#2a3f5f\",\"gridcolor\":\"white\",\"linecolor\":\"white\",\"minorgridcolor\":\"white\",\"startlinecolor\":\"#2a3f5f\"},\"baxis\":{\"endlinecolor\":\"#2a3f5f\",\"gridcolor\":\"white\",\"linecolor\":\"white\",\"minorgridcolor\":\"white\",\"startlinecolor\":\"#2a3f5f\"},\"type\":\"carpet\"}],\"table\":[{\"cells\":{\"fill\":{\"color\":\"#EBF0F8\"},\"line\":{\"color\":\"white\"}},\"header\":{\"fill\":{\"color\":\"#C8D4E3\"},\"line\":{\"color\":\"white\"}},\"type\":\"table\"}],\"barpolar\":[{\"marker\":{\"line\":{\"color\":\"#E5ECF6\",\"width\":0.5},\"pattern\":{\"fillmode\":\"overlay\",\"size\":10,\"solidity\":0.2}},\"type\":\"barpolar\"}],\"pie\":[{\"automargin\":true,\"type\":\"pie\"}]},\"layout\":{\"autotypenumbers\":\"strict\",\"colorway\":[\"#636efa\",\"#EF553B\",\"#00cc96\",\"#ab63fa\",\"#FFA15A\",\"#19d3f3\",\"#FF6692\",\"#B6E880\",\"#FF97FF\",\"#FECB52\"],\"font\":{\"color\":\"#2a3f5f\"},\"hovermode\":\"closest\",\"hoverlabel\":{\"align\":\"left\"},\"paper_bgcolor\":\"white\",\"plot_bgcolor\":\"#E5ECF6\",\"polar\":{\"bgcolor\":\"#E5ECF6\",\"angularaxis\":{\"gridcolor\":\"white\",\"linecolor\":\"white\",\"ticks\":\"\"},\"radialaxis\":{\"gridcolor\":\"white\",\"linecolor\":\"white\",\"ticks\":\"\"}},\"ternary\":{\"bgcolor\":\"#E5ECF6\",\"aaxis\":{\"gridcolor\":\"white\",\"linecolor\":\"white\",\"ticks\":\"\"},\"baxis\":{\"gridcolor\":\"white\",\"linecolor\":\"white\",\"ticks\":\"\"},\"caxis\":{\"gridcolor\":\"white\",\"linecolor\":\"white\",\"ticks\":\"\"}},\"coloraxis\":{\"colorbar\":{\"outlinewidth\":0,\"ticks\":\"\"}},\"colorscale\":{\"sequential\":[[0.0,\"#0d0887\"],[0.1111111111111111,\"#46039f\"],[0.2222222222222222,\"#7201a8\"],[0.3333333333333333,\"#9c179e\"],[0.4444444444444444,\"#bd3786\"],[0.5555555555555556,\"#d8576b\"],[0.6666666666666666,\"#ed7953\"],[0.7777777777777778,\"#fb9f3a\"],[0.8888888888888888,\"#fdca26\"],[1.0,\"#f0f921\"]],\"sequentialminus\":[[0.0,\"#0d0887\"],[0.1111111111111111,\"#46039f\"],[0.2222222222222222,\"#7201a8\"],[0.3333333333333333,\"#9c179e\"],[0.4444444444444444,\"#bd3786\"],[0.5555555555555556,\"#d8576b\"],[0.6666666666666666,\"#ed7953\"],[0.7777777777777778,\"#fb9f3a\"],[0.8888888888888888,\"#fdca26\"],[1.0,\"#f0f921\"]],\"diverging\":[[0,\"#8e0152\"],[0.1,\"#c51b7d\"],[0.2,\"#de77ae\"],[0.3,\"#f1b6da\"],[0.4,\"#fde0ef\"],[0.5,\"#f7f7f7\"],[0.6,\"#e6f5d0\"],[0.7,\"#b8e186\"],[0.8,\"#7fbc41\"],[0.9,\"#4d9221\"],[1,\"#276419\"]]},\"xaxis\":{\"gridcolor\":\"white\",\"linecolor\":\"white\",\"ticks\":\"\",\"title\":{\"standoff\":15},\"zerolinecolor\":\"white\",\"automargin\":true,\"zerolinewidth\":2},\"yaxis\":{\"gridcolor\":\"white\",\"linecolor\":\"white\",\"ticks\":\"\",\"title\":{\"standoff\":15},\"zerolinecolor\":\"white\",\"automargin\":true,\"zerolinewidth\":2},\"scene\":{\"xaxis\":{\"backgroundcolor\":\"#E5ECF6\",\"gridcolor\":\"white\",\"linecolor\":\"white\",\"showbackground\":true,\"ticks\":\"\",\"zerolinecolor\":\"white\",\"gridwidth\":2},\"yaxis\":{\"backgroundcolor\":\"#E5ECF6\",\"gridcolor\":\"white\",\"linecolor\":\"white\",\"showbackground\":true,\"ticks\":\"\",\"zerolinecolor\":\"white\",\"gridwidth\":2},\"zaxis\":{\"backgroundcolor\":\"#E5ECF6\",\"gridcolor\":\"white\",\"linecolor\":\"white\",\"showbackground\":true,\"ticks\":\"\",\"zerolinecolor\":\"white\",\"gridwidth\":2}},\"shapedefaults\":{\"line\":{\"color\":\"#2a3f5f\"}},\"annotationdefaults\":{\"arrowcolor\":\"#2a3f5f\",\"arrowhead\":0,\"arrowwidth\":1},\"geo\":{\"bgcolor\":\"white\",\"landcolor\":\"#E5ECF6\",\"subunitcolor\":\"white\",\"showland\":true,\"showlakes\":true,\"lakecolor\":\"white\"},\"title\":{\"x\":0.05},\"mapbox\":{\"style\":\"light\"}}},\"xaxis\":{\"tickfont\":{\"size\":12},\"title\":{\"text\":\"Year\"},\"tickmode\":\"linear\",\"tickangle\":90},\"title\":{\"text\":\"China Fertility Rate Over Time (1960-2022)\"},\"yaxis\":{\"title\":{\"text\":\"Fertility Rate (Births per Woman)\"}},\"showlegend\":true},                        {\"responsive\": true}                    ).then(function(){\n",
       "                            \n",
       "var gd = document.getElementById('df153418-963e-43fa-b967-dcba00abd43a');\n",
       "var x = new MutationObserver(function (mutations, observer) {{\n",
       "        var display = window.getComputedStyle(gd).display;\n",
       "        if (!display || display === 'none') {{\n",
       "            console.log([gd, 'removed!']);\n",
       "            Plotly.purge(gd);\n",
       "            observer.disconnect();\n",
       "        }}\n",
       "}});\n",
       "\n",
       "// Listen for the removal of the full notebook cells\n",
       "var notebookContainer = gd.closest('#notebook-container');\n",
       "if (notebookContainer) {{\n",
       "    x.observe(notebookContainer, {childList: true});\n",
       "}}\n",
       "\n",
       "// Listen for the clearing of the current output cell\n",
       "var outputEl = gd.closest('.output');\n",
       "if (outputEl) {{\n",
       "    x.observe(outputEl, {childList: true});\n",
       "}}\n",
       "\n",
       "                        })                };            </script>        </div>"
      ]
     },
     "metadata": {},
     "output_type": "display_data"
    }
   ],
   "source": [
    "#China Fertility Rate Over Time (1960-2021)\n",
    "import wbdata\n",
    "import pandas as pd\n",
    "import plotly.graph_objects as go\n",
    "\n",
    "!pip install cufflinks\n",
    "import cufflinks as cf\n",
    "cf.go_offline()\n",
    "\n",
    "tfr_indicator = {'SP.DYN.TFRT.IN': 'Fertility Rate'}\n",
    "\n",
    "country = 'CHN'  # China\n",
    "start_year = 1960\n",
    "end_year = 2022\n",
    "\n",
    "fertility_data = wbdata.get_dataframe(tfr_indicator, country = country)\n",
    "fertility_data.reset_index(inplace = True)\n",
    "fertility_data['date'] = fertility_data['date'].astype(int)\n",
    "\n",
    "fig = go.Figure()\n",
    "fig.add_trace(go.Scatter(x = fertility_data['date'], y = fertility_data['Fertility Rate'], mode = 'lines+markers', name = 'China Fertility Rate'))\n",
    "\n",
    "fig.update_layout(\n",
    "    title = 'China Fertility Rate Over Time (1960-2022)',\n",
    "    xaxis_title = 'Year',\n",
    "    yaxis_title = 'Fertility Rate (Births per Woman)',\n",
    "    showlegend = True,\n",
    "    xaxis = dict(tickmode='linear', tickangle = 90, tickfont = dict(size = 12))\n",
    ")\n",
    "\n",
    "fig.show()"
   ]
  },
  {
   "cell_type": "code",
   "execution_count": 45,
   "id": "1cacb04e-1757-421a-ad64-a5c888f4e5a1",
   "metadata": {},
   "outputs": [
    {
     "data": {
      "application/vnd.plotly.v1+json": {
       "config": {
        "plotlyServerURL": "https://plot.ly"
       },
       "data": [
        {
         "mode": "lines+markers",
         "name": "Urban Population",
         "type": "scatter",
         "x": {
          "bdata": "5wfmB+UH5AfjB+IH4QfgB98H3gfdB9wH2wfaB9kH2AfXB9YH1QfUB9MH0gfRB9AHzwfOB80HzAfLB8oHyQfIB8cHxgfFB8QHwwfCB8EHwAe/B74HvQe8B7sHuge5B7gHtwe2B7UHtAezB7IHsQewB68HrgetB6wHqweqB6kHqAc=",
          "dtype": "i2"
         },
         "y": {
          "bdata": "AACAq5Qly0EAAADf+r/KQQAAgEnzT8pBAAAARj3VyUEAAICjOU3JQQAAgCmSushBAAAAAw8eyEEAAADLNHfHQQAAAK7C0sZBAACARv8uxkEAAICKuInFQQAAALMt5MRBAACA0lY/xEEAAIAz8p/DQQAAABwI/8JBAAAA02BfwkEAAICcm8DBQQAAANfNI8FBAAAApX2FwEEAAACK28i/QQAAAIC7i75BAAAAZDpTvUEAAAAZmR68QQAAAOs3ALtBAAAAaoUIukEAAACu8BG5QQAAALr1G7hBAAAAanYpt0EAAACVEDy2QQAAAPwmVLVBAAAA8SxxtEEAAABE15SzQQAAAGrau7JBAAAA8inksUEAAABt9yKxQQAAALQDZrBBAAAAZmRZr0EAAAAA1fWtQQAAAFThqKxBAAAAXlZxq0EAAACYRkiqQQAAAEbVIalBAAAAsPvVp0EAAACevKSmQQAAAFpcgaVBAAAA/jBnpEEAAAAIWrSjQQAAAIIIX6NBAAAAdBwCo0EAAACUPI+iQQAAAHQEEaJBAAAARpuooUEAAABKmFahQQAAAPRM+aBBAAAAvAiioEEAAAC8M02gQQAAALi3/p9BAAAAeDFpn0EAAAAczNaeQQAAALTNd55BAAAAyCfjnEEAAACQ2VebQQAAAADiTZpBAAAAoAHFmUE=",
          "dtype": "f8"
         }
        },
        {
         "mode": "lines+markers",
         "name": "Rural Population",
         "type": "scatter",
         "x": {
          "bdata": "5wfmB+UH5AfjB+IH4QfgB98H3gfdB9wH2wfaB9kH2AfXB9YH1QfUB9MH0gfRB9AHzwfOB80HzAfLB8oHyQfIB8cHxgfFB8QHwwfCB8EHwAe/B74HvQe8B7sHuge5B7gHtwe2B7UHtAezB7IHsQewB68HrgetB6wHqweqB6kHqAc=",
          "dtype": "i2"
         },
         "y": {
          "bdata": "AAAAmZDKvUEAAADaHqy+QQAAAK0Aj79BAAAAapk4wEEAAIBQBKfAQQAAgHajE8FBAAAAaTd+wUEAAACNyuTBQQAAAGK8TMJBAACAyXazwkEAAICV+RbDQQAAAKV4d8NBAACAqXbWw0EAAIDg7j3EQQAAABStrcRBAAAA+e8axUEAAICHDobFQQAAABl87sVBAAAAexpVxkEAAAC31rvGQQAAAIDYH8dBAAAADhB/x0EAAIB7JdjHQQAAgI4bIchBAAAAV1lRyEEAAAD1PXrIQQAAAF+/mshBAAAAI3C0yEEAAIAhSMrIQQAAAD7n2shBAACAJzLmyEEAAABmmO3IQQAAAPvT7chBAAAAO7HiyEEAAICRI8XIQQAAAD7DochBAACAwi54yEEAAAD4gE3IQQAAACuUKMhBAACAPAMKyEEAAACyKu3HQQAAgCbHxsdBAAAAuD6px0EAAIB0C5XHQQAAgM2UgMdBAACAhCllx0EAAAAK5zDHQQAAgAPO5MZBAAAA3wKPxkEAAADzUDHGQQAAAPNpxMVBAACAhp1GxUEAAIAhebvEQQAAAD/sJMRBAAAAJa6Qw0EAAADpvQHDQQAAAIHrfMJBAAAA8YH9wUEAAIAwlHXBQQAAgOUMAcFBAAAAk2i5wEEAAADWcGzAQQAAAMguZMBBAAAA5LaowEE=",
          "dtype": "f8"
         }
        }
       ],
       "layout": {
        "showlegend": true,
        "template": {
         "data": {
          "bar": [
           {
            "error_x": {
             "color": "#2a3f5f"
            },
            "error_y": {
             "color": "#2a3f5f"
            },
            "marker": {
             "line": {
              "color": "#E5ECF6",
              "width": 0.5
             },
             "pattern": {
              "fillmode": "overlay",
              "size": 10,
              "solidity": 0.2
             }
            },
            "type": "bar"
           }
          ],
          "barpolar": [
           {
            "marker": {
             "line": {
              "color": "#E5ECF6",
              "width": 0.5
             },
             "pattern": {
              "fillmode": "overlay",
              "size": 10,
              "solidity": 0.2
             }
            },
            "type": "barpolar"
           }
          ],
          "carpet": [
           {
            "aaxis": {
             "endlinecolor": "#2a3f5f",
             "gridcolor": "white",
             "linecolor": "white",
             "minorgridcolor": "white",
             "startlinecolor": "#2a3f5f"
            },
            "baxis": {
             "endlinecolor": "#2a3f5f",
             "gridcolor": "white",
             "linecolor": "white",
             "minorgridcolor": "white",
             "startlinecolor": "#2a3f5f"
            },
            "type": "carpet"
           }
          ],
          "choropleth": [
           {
            "colorbar": {
             "outlinewidth": 0,
             "ticks": ""
            },
            "type": "choropleth"
           }
          ],
          "contour": [
           {
            "colorbar": {
             "outlinewidth": 0,
             "ticks": ""
            },
            "colorscale": [
             [
              0,
              "#0d0887"
             ],
             [
              0.1111111111111111,
              "#46039f"
             ],
             [
              0.2222222222222222,
              "#7201a8"
             ],
             [
              0.3333333333333333,
              "#9c179e"
             ],
             [
              0.4444444444444444,
              "#bd3786"
             ],
             [
              0.5555555555555556,
              "#d8576b"
             ],
             [
              0.6666666666666666,
              "#ed7953"
             ],
             [
              0.7777777777777778,
              "#fb9f3a"
             ],
             [
              0.8888888888888888,
              "#fdca26"
             ],
             [
              1,
              "#f0f921"
             ]
            ],
            "type": "contour"
           }
          ],
          "contourcarpet": [
           {
            "colorbar": {
             "outlinewidth": 0,
             "ticks": ""
            },
            "type": "contourcarpet"
           }
          ],
          "heatmap": [
           {
            "colorbar": {
             "outlinewidth": 0,
             "ticks": ""
            },
            "colorscale": [
             [
              0,
              "#0d0887"
             ],
             [
              0.1111111111111111,
              "#46039f"
             ],
             [
              0.2222222222222222,
              "#7201a8"
             ],
             [
              0.3333333333333333,
              "#9c179e"
             ],
             [
              0.4444444444444444,
              "#bd3786"
             ],
             [
              0.5555555555555556,
              "#d8576b"
             ],
             [
              0.6666666666666666,
              "#ed7953"
             ],
             [
              0.7777777777777778,
              "#fb9f3a"
             ],
             [
              0.8888888888888888,
              "#fdca26"
             ],
             [
              1,
              "#f0f921"
             ]
            ],
            "type": "heatmap"
           }
          ],
          "histogram": [
           {
            "marker": {
             "pattern": {
              "fillmode": "overlay",
              "size": 10,
              "solidity": 0.2
             }
            },
            "type": "histogram"
           }
          ],
          "histogram2d": [
           {
            "colorbar": {
             "outlinewidth": 0,
             "ticks": ""
            },
            "colorscale": [
             [
              0,
              "#0d0887"
             ],
             [
              0.1111111111111111,
              "#46039f"
             ],
             [
              0.2222222222222222,
              "#7201a8"
             ],
             [
              0.3333333333333333,
              "#9c179e"
             ],
             [
              0.4444444444444444,
              "#bd3786"
             ],
             [
              0.5555555555555556,
              "#d8576b"
             ],
             [
              0.6666666666666666,
              "#ed7953"
             ],
             [
              0.7777777777777778,
              "#fb9f3a"
             ],
             [
              0.8888888888888888,
              "#fdca26"
             ],
             [
              1,
              "#f0f921"
             ]
            ],
            "type": "histogram2d"
           }
          ],
          "histogram2dcontour": [
           {
            "colorbar": {
             "outlinewidth": 0,
             "ticks": ""
            },
            "colorscale": [
             [
              0,
              "#0d0887"
             ],
             [
              0.1111111111111111,
              "#46039f"
             ],
             [
              0.2222222222222222,
              "#7201a8"
             ],
             [
              0.3333333333333333,
              "#9c179e"
             ],
             [
              0.4444444444444444,
              "#bd3786"
             ],
             [
              0.5555555555555556,
              "#d8576b"
             ],
             [
              0.6666666666666666,
              "#ed7953"
             ],
             [
              0.7777777777777778,
              "#fb9f3a"
             ],
             [
              0.8888888888888888,
              "#fdca26"
             ],
             [
              1,
              "#f0f921"
             ]
            ],
            "type": "histogram2dcontour"
           }
          ],
          "mesh3d": [
           {
            "colorbar": {
             "outlinewidth": 0,
             "ticks": ""
            },
            "type": "mesh3d"
           }
          ],
          "parcoords": [
           {
            "line": {
             "colorbar": {
              "outlinewidth": 0,
              "ticks": ""
             }
            },
            "type": "parcoords"
           }
          ],
          "pie": [
           {
            "automargin": true,
            "type": "pie"
           }
          ],
          "scatter": [
           {
            "fillpattern": {
             "fillmode": "overlay",
             "size": 10,
             "solidity": 0.2
            },
            "type": "scatter"
           }
          ],
          "scatter3d": [
           {
            "line": {
             "colorbar": {
              "outlinewidth": 0,
              "ticks": ""
             }
            },
            "marker": {
             "colorbar": {
              "outlinewidth": 0,
              "ticks": ""
             }
            },
            "type": "scatter3d"
           }
          ],
          "scattercarpet": [
           {
            "marker": {
             "colorbar": {
              "outlinewidth": 0,
              "ticks": ""
             }
            },
            "type": "scattercarpet"
           }
          ],
          "scattergeo": [
           {
            "marker": {
             "colorbar": {
              "outlinewidth": 0,
              "ticks": ""
             }
            },
            "type": "scattergeo"
           }
          ],
          "scattergl": [
           {
            "marker": {
             "colorbar": {
              "outlinewidth": 0,
              "ticks": ""
             }
            },
            "type": "scattergl"
           }
          ],
          "scattermap": [
           {
            "marker": {
             "colorbar": {
              "outlinewidth": 0,
              "ticks": ""
             }
            },
            "type": "scattermap"
           }
          ],
          "scattermapbox": [
           {
            "marker": {
             "colorbar": {
              "outlinewidth": 0,
              "ticks": ""
             }
            },
            "type": "scattermapbox"
           }
          ],
          "scatterpolar": [
           {
            "marker": {
             "colorbar": {
              "outlinewidth": 0,
              "ticks": ""
             }
            },
            "type": "scatterpolar"
           }
          ],
          "scatterpolargl": [
           {
            "marker": {
             "colorbar": {
              "outlinewidth": 0,
              "ticks": ""
             }
            },
            "type": "scatterpolargl"
           }
          ],
          "scatterternary": [
           {
            "marker": {
             "colorbar": {
              "outlinewidth": 0,
              "ticks": ""
             }
            },
            "type": "scatterternary"
           }
          ],
          "surface": [
           {
            "colorbar": {
             "outlinewidth": 0,
             "ticks": ""
            },
            "colorscale": [
             [
              0,
              "#0d0887"
             ],
             [
              0.1111111111111111,
              "#46039f"
             ],
             [
              0.2222222222222222,
              "#7201a8"
             ],
             [
              0.3333333333333333,
              "#9c179e"
             ],
             [
              0.4444444444444444,
              "#bd3786"
             ],
             [
              0.5555555555555556,
              "#d8576b"
             ],
             [
              0.6666666666666666,
              "#ed7953"
             ],
             [
              0.7777777777777778,
              "#fb9f3a"
             ],
             [
              0.8888888888888888,
              "#fdca26"
             ],
             [
              1,
              "#f0f921"
             ]
            ],
            "type": "surface"
           }
          ],
          "table": [
           {
            "cells": {
             "fill": {
              "color": "#EBF0F8"
             },
             "line": {
              "color": "white"
             }
            },
            "header": {
             "fill": {
              "color": "#C8D4E3"
             },
             "line": {
              "color": "white"
             }
            },
            "type": "table"
           }
          ]
         },
         "layout": {
          "annotationdefaults": {
           "arrowcolor": "#2a3f5f",
           "arrowhead": 0,
           "arrowwidth": 1
          },
          "autotypenumbers": "strict",
          "coloraxis": {
           "colorbar": {
            "outlinewidth": 0,
            "ticks": ""
           }
          },
          "colorscale": {
           "diverging": [
            [
             0,
             "#8e0152"
            ],
            [
             0.1,
             "#c51b7d"
            ],
            [
             0.2,
             "#de77ae"
            ],
            [
             0.3,
             "#f1b6da"
            ],
            [
             0.4,
             "#fde0ef"
            ],
            [
             0.5,
             "#f7f7f7"
            ],
            [
             0.6,
             "#e6f5d0"
            ],
            [
             0.7,
             "#b8e186"
            ],
            [
             0.8,
             "#7fbc41"
            ],
            [
             0.9,
             "#4d9221"
            ],
            [
             1,
             "#276419"
            ]
           ],
           "sequential": [
            [
             0,
             "#0d0887"
            ],
            [
             0.1111111111111111,
             "#46039f"
            ],
            [
             0.2222222222222222,
             "#7201a8"
            ],
            [
             0.3333333333333333,
             "#9c179e"
            ],
            [
             0.4444444444444444,
             "#bd3786"
            ],
            [
             0.5555555555555556,
             "#d8576b"
            ],
            [
             0.6666666666666666,
             "#ed7953"
            ],
            [
             0.7777777777777778,
             "#fb9f3a"
            ],
            [
             0.8888888888888888,
             "#fdca26"
            ],
            [
             1,
             "#f0f921"
            ]
           ],
           "sequentialminus": [
            [
             0,
             "#0d0887"
            ],
            [
             0.1111111111111111,
             "#46039f"
            ],
            [
             0.2222222222222222,
             "#7201a8"
            ],
            [
             0.3333333333333333,
             "#9c179e"
            ],
            [
             0.4444444444444444,
             "#bd3786"
            ],
            [
             0.5555555555555556,
             "#d8576b"
            ],
            [
             0.6666666666666666,
             "#ed7953"
            ],
            [
             0.7777777777777778,
             "#fb9f3a"
            ],
            [
             0.8888888888888888,
             "#fdca26"
            ],
            [
             1,
             "#f0f921"
            ]
           ]
          },
          "colorway": [
           "#636efa",
           "#EF553B",
           "#00cc96",
           "#ab63fa",
           "#FFA15A",
           "#19d3f3",
           "#FF6692",
           "#B6E880",
           "#FF97FF",
           "#FECB52"
          ],
          "font": {
           "color": "#2a3f5f"
          },
          "geo": {
           "bgcolor": "white",
           "lakecolor": "white",
           "landcolor": "#E5ECF6",
           "showlakes": true,
           "showland": true,
           "subunitcolor": "white"
          },
          "hoverlabel": {
           "align": "left"
          },
          "hovermode": "closest",
          "mapbox": {
           "style": "light"
          },
          "paper_bgcolor": "white",
          "plot_bgcolor": "#E5ECF6",
          "polar": {
           "angularaxis": {
            "gridcolor": "white",
            "linecolor": "white",
            "ticks": ""
           },
           "bgcolor": "#E5ECF6",
           "radialaxis": {
            "gridcolor": "white",
            "linecolor": "white",
            "ticks": ""
           }
          },
          "scene": {
           "xaxis": {
            "backgroundcolor": "#E5ECF6",
            "gridcolor": "white",
            "gridwidth": 2,
            "linecolor": "white",
            "showbackground": true,
            "ticks": "",
            "zerolinecolor": "white"
           },
           "yaxis": {
            "backgroundcolor": "#E5ECF6",
            "gridcolor": "white",
            "gridwidth": 2,
            "linecolor": "white",
            "showbackground": true,
            "ticks": "",
            "zerolinecolor": "white"
           },
           "zaxis": {
            "backgroundcolor": "#E5ECF6",
            "gridcolor": "white",
            "gridwidth": 2,
            "linecolor": "white",
            "showbackground": true,
            "ticks": "",
            "zerolinecolor": "white"
           }
          },
          "shapedefaults": {
           "line": {
            "color": "#2a3f5f"
           }
          },
          "ternary": {
           "aaxis": {
            "gridcolor": "white",
            "linecolor": "white",
            "ticks": ""
           },
           "baxis": {
            "gridcolor": "white",
            "linecolor": "white",
            "ticks": ""
           },
           "bgcolor": "#E5ECF6",
           "caxis": {
            "gridcolor": "white",
            "linecolor": "white",
            "ticks": ""
           }
          },
          "title": {
           "x": 0.05
          },
          "xaxis": {
           "automargin": true,
           "gridcolor": "white",
           "linecolor": "white",
           "ticks": "",
           "title": {
            "standoff": 15
           },
           "zerolinecolor": "white",
           "zerolinewidth": 2
          },
          "yaxis": {
           "automargin": true,
           "gridcolor": "white",
           "linecolor": "white",
           "ticks": "",
           "title": {
            "standoff": 15
           },
           "zerolinecolor": "white",
           "zerolinewidth": 2
          }
         }
        },
        "title": {
         "text": "China Urban vs Rural Population Growth (1960-2023)"
        },
        "xaxis": {
         "tickangle": 90,
         "tickfont": {
          "size": 12
         },
         "tickmode": "linear",
         "title": {
          "text": "Year"
         }
        },
        "yaxis": {
         "title": {
          "text": "Population"
         }
        }
       }
      },
      "text/html": [
       "<div>            <script src=\"https://cdnjs.cloudflare.com/ajax/libs/mathjax/2.7.5/MathJax.js?config=TeX-AMS-MML_SVG\"></script><script type=\"text/javascript\">if (window.MathJax && window.MathJax.Hub && window.MathJax.Hub.Config) {window.MathJax.Hub.Config({SVG: {font: \"STIX-Web\"}});}</script>                <script type=\"text/javascript\">window.PlotlyConfig = {MathJaxConfig: 'local'};</script>\n",
       "        <script charset=\"utf-8\" src=\"https://cdn.plot.ly/plotly-3.0.0.min.js\"></script>                <div id=\"6432b1eb-ab53-4c58-afe5-2d2bc5365253\" class=\"plotly-graph-div\" style=\"height:525px; width:100%;\"></div>            <script type=\"text/javascript\">                window.PLOTLYENV=window.PLOTLYENV || {};                                if (document.getElementById(\"6432b1eb-ab53-4c58-afe5-2d2bc5365253\")) {                    Plotly.newPlot(                        \"6432b1eb-ab53-4c58-afe5-2d2bc5365253\",                        [{\"mode\":\"lines+markers\",\"name\":\"Urban Population\",\"x\":{\"dtype\":\"i2\",\"bdata\":\"5wfmB+UH5AfjB+IH4QfgB98H3gfdB9wH2wfaB9kH2AfXB9YH1QfUB9MH0gfRB9AHzwfOB80HzAfLB8oHyQfIB8cHxgfFB8QHwwfCB8EHwAe\\u002fB74HvQe8B7sHuge5B7gHtwe2B7UHtAezB7IHsQewB68HrgetB6wHqweqB6kHqAc=\"},\"y\":{\"dtype\":\"f8\",\"bdata\":\"AACAq5Qly0EAAADf+r\\u002fKQQAAgEnzT8pBAAAARj3VyUEAAICjOU3JQQAAgCmSushBAAAAAw8eyEEAAADLNHfHQQAAAK7C0sZBAACARv8uxkEAAICKuInFQQAAALMt5MRBAACA0lY\\u002fxEEAAIAz8p\\u002fDQQAAABwI\\u002f8JBAAAA02BfwkEAAICcm8DBQQAAANfNI8FBAAAApX2FwEEAAACK28i\\u002fQQAAAIC7i75BAAAAZDpTvUEAAAAZmR68QQAAAOs3ALtBAAAAaoUIukEAAACu8BG5QQAAALr1G7hBAAAAanYpt0EAAACVEDy2QQAAAPwmVLVBAAAA8SxxtEEAAABE15SzQQAAAGrau7JBAAAA8inksUEAAABt9yKxQQAAALQDZrBBAAAAZmRZr0EAAAAA1fWtQQAAAFThqKxBAAAAXlZxq0EAAACYRkiqQQAAAEbVIalBAAAAsPvVp0EAAACevKSmQQAAAFpcgaVBAAAA\\u002fjBnpEEAAAAIWrSjQQAAAIIIX6NBAAAAdBwCo0EAAACUPI+iQQAAAHQEEaJBAAAARpuooUEAAABKmFahQQAAAPRM+aBBAAAAvAiioEEAAAC8M02gQQAAALi3\\u002fp9BAAAAeDFpn0EAAAAczNaeQQAAALTNd55BAAAAyCfjnEEAAACQ2VebQQAAAADiTZpBAAAAoAHFmUE=\"},\"type\":\"scatter\"},{\"mode\":\"lines+markers\",\"name\":\"Rural Population\",\"x\":{\"dtype\":\"i2\",\"bdata\":\"5wfmB+UH5AfjB+IH4QfgB98H3gfdB9wH2wfaB9kH2AfXB9YH1QfUB9MH0gfRB9AHzwfOB80HzAfLB8oHyQfIB8cHxgfFB8QHwwfCB8EHwAe\\u002fB74HvQe8B7sHuge5B7gHtwe2B7UHtAezB7IHsQewB68HrgetB6wHqweqB6kHqAc=\"},\"y\":{\"dtype\":\"f8\",\"bdata\":\"AAAAmZDKvUEAAADaHqy+QQAAAK0Aj79BAAAAapk4wEEAAIBQBKfAQQAAgHajE8FBAAAAaTd+wUEAAACNyuTBQQAAAGK8TMJBAACAyXazwkEAAICV+RbDQQAAAKV4d8NBAACAqXbWw0EAAIDg7j3EQQAAABStrcRBAAAA+e8axUEAAICHDobFQQAAABl87sVBAAAAexpVxkEAAAC31rvGQQAAAIDYH8dBAAAADhB\\u002fx0EAAIB7JdjHQQAAgI4bIchBAAAAV1lRyEEAAAD1PXrIQQAAAF+\\u002fmshBAAAAI3C0yEEAAIAhSMrIQQAAAD7n2shBAACAJzLmyEEAAABmmO3IQQAAAPvT7chBAAAAO7HiyEEAAICRI8XIQQAAAD7DochBAACAwi54yEEAAAD4gE3IQQAAACuUKMhBAACAPAMKyEEAAACyKu3HQQAAgCbHxsdBAAAAuD6px0EAAIB0C5XHQQAAgM2UgMdBAACAhCllx0EAAAAK5zDHQQAAgAPO5MZBAAAA3wKPxkEAAADzUDHGQQAAAPNpxMVBAACAhp1GxUEAAIAhebvEQQAAAD\\u002fsJMRBAAAAJa6Qw0EAAADpvQHDQQAAAIHrfMJBAAAA8YH9wUEAAIAwlHXBQQAAgOUMAcFBAAAAk2i5wEEAAADWcGzAQQAAAMguZMBBAAAA5LaowEE=\"},\"type\":\"scatter\"}],                        {\"template\":{\"data\":{\"histogram2dcontour\":[{\"type\":\"histogram2dcontour\",\"colorbar\":{\"outlinewidth\":0,\"ticks\":\"\"},\"colorscale\":[[0.0,\"#0d0887\"],[0.1111111111111111,\"#46039f\"],[0.2222222222222222,\"#7201a8\"],[0.3333333333333333,\"#9c179e\"],[0.4444444444444444,\"#bd3786\"],[0.5555555555555556,\"#d8576b\"],[0.6666666666666666,\"#ed7953\"],[0.7777777777777778,\"#fb9f3a\"],[0.8888888888888888,\"#fdca26\"],[1.0,\"#f0f921\"]]}],\"choropleth\":[{\"type\":\"choropleth\",\"colorbar\":{\"outlinewidth\":0,\"ticks\":\"\"}}],\"histogram2d\":[{\"type\":\"histogram2d\",\"colorbar\":{\"outlinewidth\":0,\"ticks\":\"\"},\"colorscale\":[[0.0,\"#0d0887\"],[0.1111111111111111,\"#46039f\"],[0.2222222222222222,\"#7201a8\"],[0.3333333333333333,\"#9c179e\"],[0.4444444444444444,\"#bd3786\"],[0.5555555555555556,\"#d8576b\"],[0.6666666666666666,\"#ed7953\"],[0.7777777777777778,\"#fb9f3a\"],[0.8888888888888888,\"#fdca26\"],[1.0,\"#f0f921\"]]}],\"heatmap\":[{\"type\":\"heatmap\",\"colorbar\":{\"outlinewidth\":0,\"ticks\":\"\"},\"colorscale\":[[0.0,\"#0d0887\"],[0.1111111111111111,\"#46039f\"],[0.2222222222222222,\"#7201a8\"],[0.3333333333333333,\"#9c179e\"],[0.4444444444444444,\"#bd3786\"],[0.5555555555555556,\"#d8576b\"],[0.6666666666666666,\"#ed7953\"],[0.7777777777777778,\"#fb9f3a\"],[0.8888888888888888,\"#fdca26\"],[1.0,\"#f0f921\"]]}],\"contourcarpet\":[{\"type\":\"contourcarpet\",\"colorbar\":{\"outlinewidth\":0,\"ticks\":\"\"}}],\"contour\":[{\"type\":\"contour\",\"colorbar\":{\"outlinewidth\":0,\"ticks\":\"\"},\"colorscale\":[[0.0,\"#0d0887\"],[0.1111111111111111,\"#46039f\"],[0.2222222222222222,\"#7201a8\"],[0.3333333333333333,\"#9c179e\"],[0.4444444444444444,\"#bd3786\"],[0.5555555555555556,\"#d8576b\"],[0.6666666666666666,\"#ed7953\"],[0.7777777777777778,\"#fb9f3a\"],[0.8888888888888888,\"#fdca26\"],[1.0,\"#f0f921\"]]}],\"surface\":[{\"type\":\"surface\",\"colorbar\":{\"outlinewidth\":0,\"ticks\":\"\"},\"colorscale\":[[0.0,\"#0d0887\"],[0.1111111111111111,\"#46039f\"],[0.2222222222222222,\"#7201a8\"],[0.3333333333333333,\"#9c179e\"],[0.4444444444444444,\"#bd3786\"],[0.5555555555555556,\"#d8576b\"],[0.6666666666666666,\"#ed7953\"],[0.7777777777777778,\"#fb9f3a\"],[0.8888888888888888,\"#fdca26\"],[1.0,\"#f0f921\"]]}],\"mesh3d\":[{\"type\":\"mesh3d\",\"colorbar\":{\"outlinewidth\":0,\"ticks\":\"\"}}],\"scatter\":[{\"fillpattern\":{\"fillmode\":\"overlay\",\"size\":10,\"solidity\":0.2},\"type\":\"scatter\"}],\"parcoords\":[{\"type\":\"parcoords\",\"line\":{\"colorbar\":{\"outlinewidth\":0,\"ticks\":\"\"}}}],\"scatterpolargl\":[{\"type\":\"scatterpolargl\",\"marker\":{\"colorbar\":{\"outlinewidth\":0,\"ticks\":\"\"}}}],\"bar\":[{\"error_x\":{\"color\":\"#2a3f5f\"},\"error_y\":{\"color\":\"#2a3f5f\"},\"marker\":{\"line\":{\"color\":\"#E5ECF6\",\"width\":0.5},\"pattern\":{\"fillmode\":\"overlay\",\"size\":10,\"solidity\":0.2}},\"type\":\"bar\"}],\"scattergeo\":[{\"type\":\"scattergeo\",\"marker\":{\"colorbar\":{\"outlinewidth\":0,\"ticks\":\"\"}}}],\"scatterpolar\":[{\"type\":\"scatterpolar\",\"marker\":{\"colorbar\":{\"outlinewidth\":0,\"ticks\":\"\"}}}],\"histogram\":[{\"marker\":{\"pattern\":{\"fillmode\":\"overlay\",\"size\":10,\"solidity\":0.2}},\"type\":\"histogram\"}],\"scattergl\":[{\"type\":\"scattergl\",\"marker\":{\"colorbar\":{\"outlinewidth\":0,\"ticks\":\"\"}}}],\"scatter3d\":[{\"type\":\"scatter3d\",\"line\":{\"colorbar\":{\"outlinewidth\":0,\"ticks\":\"\"}},\"marker\":{\"colorbar\":{\"outlinewidth\":0,\"ticks\":\"\"}}}],\"scattermap\":[{\"type\":\"scattermap\",\"marker\":{\"colorbar\":{\"outlinewidth\":0,\"ticks\":\"\"}}}],\"scattermapbox\":[{\"type\":\"scattermapbox\",\"marker\":{\"colorbar\":{\"outlinewidth\":0,\"ticks\":\"\"}}}],\"scatterternary\":[{\"type\":\"scatterternary\",\"marker\":{\"colorbar\":{\"outlinewidth\":0,\"ticks\":\"\"}}}],\"scattercarpet\":[{\"type\":\"scattercarpet\",\"marker\":{\"colorbar\":{\"outlinewidth\":0,\"ticks\":\"\"}}}],\"carpet\":[{\"aaxis\":{\"endlinecolor\":\"#2a3f5f\",\"gridcolor\":\"white\",\"linecolor\":\"white\",\"minorgridcolor\":\"white\",\"startlinecolor\":\"#2a3f5f\"},\"baxis\":{\"endlinecolor\":\"#2a3f5f\",\"gridcolor\":\"white\",\"linecolor\":\"white\",\"minorgridcolor\":\"white\",\"startlinecolor\":\"#2a3f5f\"},\"type\":\"carpet\"}],\"table\":[{\"cells\":{\"fill\":{\"color\":\"#EBF0F8\"},\"line\":{\"color\":\"white\"}},\"header\":{\"fill\":{\"color\":\"#C8D4E3\"},\"line\":{\"color\":\"white\"}},\"type\":\"table\"}],\"barpolar\":[{\"marker\":{\"line\":{\"color\":\"#E5ECF6\",\"width\":0.5},\"pattern\":{\"fillmode\":\"overlay\",\"size\":10,\"solidity\":0.2}},\"type\":\"barpolar\"}],\"pie\":[{\"automargin\":true,\"type\":\"pie\"}]},\"layout\":{\"autotypenumbers\":\"strict\",\"colorway\":[\"#636efa\",\"#EF553B\",\"#00cc96\",\"#ab63fa\",\"#FFA15A\",\"#19d3f3\",\"#FF6692\",\"#B6E880\",\"#FF97FF\",\"#FECB52\"],\"font\":{\"color\":\"#2a3f5f\"},\"hovermode\":\"closest\",\"hoverlabel\":{\"align\":\"left\"},\"paper_bgcolor\":\"white\",\"plot_bgcolor\":\"#E5ECF6\",\"polar\":{\"bgcolor\":\"#E5ECF6\",\"angularaxis\":{\"gridcolor\":\"white\",\"linecolor\":\"white\",\"ticks\":\"\"},\"radialaxis\":{\"gridcolor\":\"white\",\"linecolor\":\"white\",\"ticks\":\"\"}},\"ternary\":{\"bgcolor\":\"#E5ECF6\",\"aaxis\":{\"gridcolor\":\"white\",\"linecolor\":\"white\",\"ticks\":\"\"},\"baxis\":{\"gridcolor\":\"white\",\"linecolor\":\"white\",\"ticks\":\"\"},\"caxis\":{\"gridcolor\":\"white\",\"linecolor\":\"white\",\"ticks\":\"\"}},\"coloraxis\":{\"colorbar\":{\"outlinewidth\":0,\"ticks\":\"\"}},\"colorscale\":{\"sequential\":[[0.0,\"#0d0887\"],[0.1111111111111111,\"#46039f\"],[0.2222222222222222,\"#7201a8\"],[0.3333333333333333,\"#9c179e\"],[0.4444444444444444,\"#bd3786\"],[0.5555555555555556,\"#d8576b\"],[0.6666666666666666,\"#ed7953\"],[0.7777777777777778,\"#fb9f3a\"],[0.8888888888888888,\"#fdca26\"],[1.0,\"#f0f921\"]],\"sequentialminus\":[[0.0,\"#0d0887\"],[0.1111111111111111,\"#46039f\"],[0.2222222222222222,\"#7201a8\"],[0.3333333333333333,\"#9c179e\"],[0.4444444444444444,\"#bd3786\"],[0.5555555555555556,\"#d8576b\"],[0.6666666666666666,\"#ed7953\"],[0.7777777777777778,\"#fb9f3a\"],[0.8888888888888888,\"#fdca26\"],[1.0,\"#f0f921\"]],\"diverging\":[[0,\"#8e0152\"],[0.1,\"#c51b7d\"],[0.2,\"#de77ae\"],[0.3,\"#f1b6da\"],[0.4,\"#fde0ef\"],[0.5,\"#f7f7f7\"],[0.6,\"#e6f5d0\"],[0.7,\"#b8e186\"],[0.8,\"#7fbc41\"],[0.9,\"#4d9221\"],[1,\"#276419\"]]},\"xaxis\":{\"gridcolor\":\"white\",\"linecolor\":\"white\",\"ticks\":\"\",\"title\":{\"standoff\":15},\"zerolinecolor\":\"white\",\"automargin\":true,\"zerolinewidth\":2},\"yaxis\":{\"gridcolor\":\"white\",\"linecolor\":\"white\",\"ticks\":\"\",\"title\":{\"standoff\":15},\"zerolinecolor\":\"white\",\"automargin\":true,\"zerolinewidth\":2},\"scene\":{\"xaxis\":{\"backgroundcolor\":\"#E5ECF6\",\"gridcolor\":\"white\",\"linecolor\":\"white\",\"showbackground\":true,\"ticks\":\"\",\"zerolinecolor\":\"white\",\"gridwidth\":2},\"yaxis\":{\"backgroundcolor\":\"#E5ECF6\",\"gridcolor\":\"white\",\"linecolor\":\"white\",\"showbackground\":true,\"ticks\":\"\",\"zerolinecolor\":\"white\",\"gridwidth\":2},\"zaxis\":{\"backgroundcolor\":\"#E5ECF6\",\"gridcolor\":\"white\",\"linecolor\":\"white\",\"showbackground\":true,\"ticks\":\"\",\"zerolinecolor\":\"white\",\"gridwidth\":2}},\"shapedefaults\":{\"line\":{\"color\":\"#2a3f5f\"}},\"annotationdefaults\":{\"arrowcolor\":\"#2a3f5f\",\"arrowhead\":0,\"arrowwidth\":1},\"geo\":{\"bgcolor\":\"white\",\"landcolor\":\"#E5ECF6\",\"subunitcolor\":\"white\",\"showland\":true,\"showlakes\":true,\"lakecolor\":\"white\"},\"title\":{\"x\":0.05},\"mapbox\":{\"style\":\"light\"}}},\"xaxis\":{\"tickfont\":{\"size\":12},\"title\":{\"text\":\"Year\"},\"tickmode\":\"linear\",\"tickangle\":90},\"title\":{\"text\":\"China Urban vs Rural Population Growth (1960-2023)\"},\"yaxis\":{\"title\":{\"text\":\"Population\"}},\"showlegend\":true},                        {\"responsive\": true}                    ).then(function(){\n",
       "                            \n",
       "var gd = document.getElementById('6432b1eb-ab53-4c58-afe5-2d2bc5365253');\n",
       "var x = new MutationObserver(function (mutations, observer) {{\n",
       "        var display = window.getComputedStyle(gd).display;\n",
       "        if (!display || display === 'none') {{\n",
       "            console.log([gd, 'removed!']);\n",
       "            Plotly.purge(gd);\n",
       "            observer.disconnect();\n",
       "        }}\n",
       "}});\n",
       "\n",
       "// Listen for the removal of the full notebook cells\n",
       "var notebookContainer = gd.closest('#notebook-container');\n",
       "if (notebookContainer) {{\n",
       "    x.observe(notebookContainer, {childList: true});\n",
       "}}\n",
       "\n",
       "// Listen for the clearing of the current output cell\n",
       "var outputEl = gd.closest('.output');\n",
       "if (outputEl) {{\n",
       "    x.observe(outputEl, {childList: true});\n",
       "}}\n",
       "\n",
       "                        })                };            </script>        </div>"
      ]
     },
     "metadata": {},
     "output_type": "display_data"
    }
   ],
   "source": [
    "population_indicators = {\n",
    "    'SP.URB.TOTL': 'Urban Population',\n",
    "    'SP.RUR.TOTL': 'Rural Population'\n",
    "}\n",
    "\n",
    "country = 'CHN'  # China\n",
    "start_year = 1960\n",
    "end_year = 2023\n",
    "\n",
    "population_data = wbdata.get_dataframe(population_indicators, country=country)\n",
    "population_data.reset_index(inplace = True)\n",
    "population_data['date'] = population_data['date'].astype(int)\n",
    "\n",
    "fig = go.Figure()\n",
    "fig.add_trace(go.Scatter(x = population_data['date'], y = population_data['Urban Population'], mode = 'lines+markers', name = 'Urban Population'))\n",
    "fig.add_trace(go.Scatter(x = population_data['date'], y = population_data['Rural Population'], mode = 'lines+markers', name = 'Rural Population'))\n",
    "\n",
    "fig.update_layout(\n",
    "    title = 'China Urban vs Rural Population Growth (1960-2023)',\n",
    "    xaxis_title = 'Year',\n",
    "    yaxis_title = 'Population',\n",
    "    showlegend = True,\n",
    "    xaxis = dict(tickmode = 'linear', tickangle = 90, tickfont = dict(size = 12))\n",
    ")\n",
    "\n",
    "fig.show()"
   ]
  },
  {
   "cell_type": "code",
   "execution_count": 47,
   "id": "52191823-fbc4-4cc7-8c76-075acd1d6c7b",
   "metadata": {},
   "outputs": [
    {
     "data": {
      "application/vnd.plotly.v1+json": {
       "config": {
        "plotlyServerURL": "https://plot.ly"
       },
       "data": [
        {
         "mode": "lines+markers",
         "name": "Population Growth Rate",
         "type": "scatter",
         "x": {
          "bdata": "5wfmB+UH5AfjB+IH4QfgB98H3gfdB9wH2wfaB9kH2AfXB9YH1QfUB9MH0gfRB9AHzwfOB80HzAfLB8oHyQfIB8cHxgfFB8QHwwfCB8EHwAe/B74HvQe8B7sHuge5B7gHtwe2B7UHtAezB7IHsQewB68HrgetB6wHqweqB6kHqAc=",
          "dtype": "i2"
         },
         "y": {
          "bdata": "Fb6tRkeSur+y0TlP6dOKv2PyRXA72bY/TdZfjB94zj+6m3UiE7TWP2XTt8NW7t0/7D5fyipe4z/HZJDablbiPyh9vutJm+I/B2ycP6Ir5D+vs/1GeFDlP2RjJIkBteU/xytVo5R84T/VOwrBz+jePyIgnMwY1d8/nfpIR3ll4D+O0jh9c7bgP+BV2esz3uE/pHGDf+vR4j8IsR1kfwHjPzXK1A567uM/G3D77qJw5T/J2X6bgj7nP5j1rL7wNuk/CEUD+w216z8SQL0No7TuPyxj8CENYPA/8rdLCTDF8D/DBF5rV2LxPwIOMSyMFfI/y34kWNdk8j9RRkzgy5vzP3ZKOsG41PU/Qq2A7hJ69z9CXABD3Yf4P20LG+bZwvk/H22nzl2o+T/ezszRYsz3PyNEvgOFyfU/awoz0Dv+9D8B4EaSgx73P6ToyGgTkPc/1Iin4sd+9D9WlQAYShH0P+AzedbEV/U/siM04jFp9T9eIf3Z8c31P4zTVXblwfg/RgdgByRD/D8p+wpsE4cAQFeA4MlkRAJAgTL3v6qoA0CP4hPcrvkFQOmfAFzpFwZAHnhXOYbrBUDNW47qIOMEQCx35enJkARAI+6BonRMBkBkeEC4Cg0DQH6+7j3CkAJA9ZDICkOpA0CzSrb+K0HqP8MHqxCaP/C/AAAAAAAA+H8=",
          "dtype": "f8"
         }
        }
       ],
       "layout": {
        "showlegend": true,
        "template": {
         "data": {
          "bar": [
           {
            "error_x": {
             "color": "#2a3f5f"
            },
            "error_y": {
             "color": "#2a3f5f"
            },
            "marker": {
             "line": {
              "color": "#E5ECF6",
              "width": 0.5
             },
             "pattern": {
              "fillmode": "overlay",
              "size": 10,
              "solidity": 0.2
             }
            },
            "type": "bar"
           }
          ],
          "barpolar": [
           {
            "marker": {
             "line": {
              "color": "#E5ECF6",
              "width": 0.5
             },
             "pattern": {
              "fillmode": "overlay",
              "size": 10,
              "solidity": 0.2
             }
            },
            "type": "barpolar"
           }
          ],
          "carpet": [
           {
            "aaxis": {
             "endlinecolor": "#2a3f5f",
             "gridcolor": "white",
             "linecolor": "white",
             "minorgridcolor": "white",
             "startlinecolor": "#2a3f5f"
            },
            "baxis": {
             "endlinecolor": "#2a3f5f",
             "gridcolor": "white",
             "linecolor": "white",
             "minorgridcolor": "white",
             "startlinecolor": "#2a3f5f"
            },
            "type": "carpet"
           }
          ],
          "choropleth": [
           {
            "colorbar": {
             "outlinewidth": 0,
             "ticks": ""
            },
            "type": "choropleth"
           }
          ],
          "contour": [
           {
            "colorbar": {
             "outlinewidth": 0,
             "ticks": ""
            },
            "colorscale": [
             [
              0,
              "#0d0887"
             ],
             [
              0.1111111111111111,
              "#46039f"
             ],
             [
              0.2222222222222222,
              "#7201a8"
             ],
             [
              0.3333333333333333,
              "#9c179e"
             ],
             [
              0.4444444444444444,
              "#bd3786"
             ],
             [
              0.5555555555555556,
              "#d8576b"
             ],
             [
              0.6666666666666666,
              "#ed7953"
             ],
             [
              0.7777777777777778,
              "#fb9f3a"
             ],
             [
              0.8888888888888888,
              "#fdca26"
             ],
             [
              1,
              "#f0f921"
             ]
            ],
            "type": "contour"
           }
          ],
          "contourcarpet": [
           {
            "colorbar": {
             "outlinewidth": 0,
             "ticks": ""
            },
            "type": "contourcarpet"
           }
          ],
          "heatmap": [
           {
            "colorbar": {
             "outlinewidth": 0,
             "ticks": ""
            },
            "colorscale": [
             [
              0,
              "#0d0887"
             ],
             [
              0.1111111111111111,
              "#46039f"
             ],
             [
              0.2222222222222222,
              "#7201a8"
             ],
             [
              0.3333333333333333,
              "#9c179e"
             ],
             [
              0.4444444444444444,
              "#bd3786"
             ],
             [
              0.5555555555555556,
              "#d8576b"
             ],
             [
              0.6666666666666666,
              "#ed7953"
             ],
             [
              0.7777777777777778,
              "#fb9f3a"
             ],
             [
              0.8888888888888888,
              "#fdca26"
             ],
             [
              1,
              "#f0f921"
             ]
            ],
            "type": "heatmap"
           }
          ],
          "histogram": [
           {
            "marker": {
             "pattern": {
              "fillmode": "overlay",
              "size": 10,
              "solidity": 0.2
             }
            },
            "type": "histogram"
           }
          ],
          "histogram2d": [
           {
            "colorbar": {
             "outlinewidth": 0,
             "ticks": ""
            },
            "colorscale": [
             [
              0,
              "#0d0887"
             ],
             [
              0.1111111111111111,
              "#46039f"
             ],
             [
              0.2222222222222222,
              "#7201a8"
             ],
             [
              0.3333333333333333,
              "#9c179e"
             ],
             [
              0.4444444444444444,
              "#bd3786"
             ],
             [
              0.5555555555555556,
              "#d8576b"
             ],
             [
              0.6666666666666666,
              "#ed7953"
             ],
             [
              0.7777777777777778,
              "#fb9f3a"
             ],
             [
              0.8888888888888888,
              "#fdca26"
             ],
             [
              1,
              "#f0f921"
             ]
            ],
            "type": "histogram2d"
           }
          ],
          "histogram2dcontour": [
           {
            "colorbar": {
             "outlinewidth": 0,
             "ticks": ""
            },
            "colorscale": [
             [
              0,
              "#0d0887"
             ],
             [
              0.1111111111111111,
              "#46039f"
             ],
             [
              0.2222222222222222,
              "#7201a8"
             ],
             [
              0.3333333333333333,
              "#9c179e"
             ],
             [
              0.4444444444444444,
              "#bd3786"
             ],
             [
              0.5555555555555556,
              "#d8576b"
             ],
             [
              0.6666666666666666,
              "#ed7953"
             ],
             [
              0.7777777777777778,
              "#fb9f3a"
             ],
             [
              0.8888888888888888,
              "#fdca26"
             ],
             [
              1,
              "#f0f921"
             ]
            ],
            "type": "histogram2dcontour"
           }
          ],
          "mesh3d": [
           {
            "colorbar": {
             "outlinewidth": 0,
             "ticks": ""
            },
            "type": "mesh3d"
           }
          ],
          "parcoords": [
           {
            "line": {
             "colorbar": {
              "outlinewidth": 0,
              "ticks": ""
             }
            },
            "type": "parcoords"
           }
          ],
          "pie": [
           {
            "automargin": true,
            "type": "pie"
           }
          ],
          "scatter": [
           {
            "fillpattern": {
             "fillmode": "overlay",
             "size": 10,
             "solidity": 0.2
            },
            "type": "scatter"
           }
          ],
          "scatter3d": [
           {
            "line": {
             "colorbar": {
              "outlinewidth": 0,
              "ticks": ""
             }
            },
            "marker": {
             "colorbar": {
              "outlinewidth": 0,
              "ticks": ""
             }
            },
            "type": "scatter3d"
           }
          ],
          "scattercarpet": [
           {
            "marker": {
             "colorbar": {
              "outlinewidth": 0,
              "ticks": ""
             }
            },
            "type": "scattercarpet"
           }
          ],
          "scattergeo": [
           {
            "marker": {
             "colorbar": {
              "outlinewidth": 0,
              "ticks": ""
             }
            },
            "type": "scattergeo"
           }
          ],
          "scattergl": [
           {
            "marker": {
             "colorbar": {
              "outlinewidth": 0,
              "ticks": ""
             }
            },
            "type": "scattergl"
           }
          ],
          "scattermap": [
           {
            "marker": {
             "colorbar": {
              "outlinewidth": 0,
              "ticks": ""
             }
            },
            "type": "scattermap"
           }
          ],
          "scattermapbox": [
           {
            "marker": {
             "colorbar": {
              "outlinewidth": 0,
              "ticks": ""
             }
            },
            "type": "scattermapbox"
           }
          ],
          "scatterpolar": [
           {
            "marker": {
             "colorbar": {
              "outlinewidth": 0,
              "ticks": ""
             }
            },
            "type": "scatterpolar"
           }
          ],
          "scatterpolargl": [
           {
            "marker": {
             "colorbar": {
              "outlinewidth": 0,
              "ticks": ""
             }
            },
            "type": "scatterpolargl"
           }
          ],
          "scatterternary": [
           {
            "marker": {
             "colorbar": {
              "outlinewidth": 0,
              "ticks": ""
             }
            },
            "type": "scatterternary"
           }
          ],
          "surface": [
           {
            "colorbar": {
             "outlinewidth": 0,
             "ticks": ""
            },
            "colorscale": [
             [
              0,
              "#0d0887"
             ],
             [
              0.1111111111111111,
              "#46039f"
             ],
             [
              0.2222222222222222,
              "#7201a8"
             ],
             [
              0.3333333333333333,
              "#9c179e"
             ],
             [
              0.4444444444444444,
              "#bd3786"
             ],
             [
              0.5555555555555556,
              "#d8576b"
             ],
             [
              0.6666666666666666,
              "#ed7953"
             ],
             [
              0.7777777777777778,
              "#fb9f3a"
             ],
             [
              0.8888888888888888,
              "#fdca26"
             ],
             [
              1,
              "#f0f921"
             ]
            ],
            "type": "surface"
           }
          ],
          "table": [
           {
            "cells": {
             "fill": {
              "color": "#EBF0F8"
             },
             "line": {
              "color": "white"
             }
            },
            "header": {
             "fill": {
              "color": "#C8D4E3"
             },
             "line": {
              "color": "white"
             }
            },
            "type": "table"
           }
          ]
         },
         "layout": {
          "annotationdefaults": {
           "arrowcolor": "#2a3f5f",
           "arrowhead": 0,
           "arrowwidth": 1
          },
          "autotypenumbers": "strict",
          "coloraxis": {
           "colorbar": {
            "outlinewidth": 0,
            "ticks": ""
           }
          },
          "colorscale": {
           "diverging": [
            [
             0,
             "#8e0152"
            ],
            [
             0.1,
             "#c51b7d"
            ],
            [
             0.2,
             "#de77ae"
            ],
            [
             0.3,
             "#f1b6da"
            ],
            [
             0.4,
             "#fde0ef"
            ],
            [
             0.5,
             "#f7f7f7"
            ],
            [
             0.6,
             "#e6f5d0"
            ],
            [
             0.7,
             "#b8e186"
            ],
            [
             0.8,
             "#7fbc41"
            ],
            [
             0.9,
             "#4d9221"
            ],
            [
             1,
             "#276419"
            ]
           ],
           "sequential": [
            [
             0,
             "#0d0887"
            ],
            [
             0.1111111111111111,
             "#46039f"
            ],
            [
             0.2222222222222222,
             "#7201a8"
            ],
            [
             0.3333333333333333,
             "#9c179e"
            ],
            [
             0.4444444444444444,
             "#bd3786"
            ],
            [
             0.5555555555555556,
             "#d8576b"
            ],
            [
             0.6666666666666666,
             "#ed7953"
            ],
            [
             0.7777777777777778,
             "#fb9f3a"
            ],
            [
             0.8888888888888888,
             "#fdca26"
            ],
            [
             1,
             "#f0f921"
            ]
           ],
           "sequentialminus": [
            [
             0,
             "#0d0887"
            ],
            [
             0.1111111111111111,
             "#46039f"
            ],
            [
             0.2222222222222222,
             "#7201a8"
            ],
            [
             0.3333333333333333,
             "#9c179e"
            ],
            [
             0.4444444444444444,
             "#bd3786"
            ],
            [
             0.5555555555555556,
             "#d8576b"
            ],
            [
             0.6666666666666666,
             "#ed7953"
            ],
            [
             0.7777777777777778,
             "#fb9f3a"
            ],
            [
             0.8888888888888888,
             "#fdca26"
            ],
            [
             1,
             "#f0f921"
            ]
           ]
          },
          "colorway": [
           "#636efa",
           "#EF553B",
           "#00cc96",
           "#ab63fa",
           "#FFA15A",
           "#19d3f3",
           "#FF6692",
           "#B6E880",
           "#FF97FF",
           "#FECB52"
          ],
          "font": {
           "color": "#2a3f5f"
          },
          "geo": {
           "bgcolor": "white",
           "lakecolor": "white",
           "landcolor": "#E5ECF6",
           "showlakes": true,
           "showland": true,
           "subunitcolor": "white"
          },
          "hoverlabel": {
           "align": "left"
          },
          "hovermode": "closest",
          "mapbox": {
           "style": "light"
          },
          "paper_bgcolor": "white",
          "plot_bgcolor": "#E5ECF6",
          "polar": {
           "angularaxis": {
            "gridcolor": "white",
            "linecolor": "white",
            "ticks": ""
           },
           "bgcolor": "#E5ECF6",
           "radialaxis": {
            "gridcolor": "white",
            "linecolor": "white",
            "ticks": ""
           }
          },
          "scene": {
           "xaxis": {
            "backgroundcolor": "#E5ECF6",
            "gridcolor": "white",
            "gridwidth": 2,
            "linecolor": "white",
            "showbackground": true,
            "ticks": "",
            "zerolinecolor": "white"
           },
           "yaxis": {
            "backgroundcolor": "#E5ECF6",
            "gridcolor": "white",
            "gridwidth": 2,
            "linecolor": "white",
            "showbackground": true,
            "ticks": "",
            "zerolinecolor": "white"
           },
           "zaxis": {
            "backgroundcolor": "#E5ECF6",
            "gridcolor": "white",
            "gridwidth": 2,
            "linecolor": "white",
            "showbackground": true,
            "ticks": "",
            "zerolinecolor": "white"
           }
          },
          "shapedefaults": {
           "line": {
            "color": "#2a3f5f"
           }
          },
          "ternary": {
           "aaxis": {
            "gridcolor": "white",
            "linecolor": "white",
            "ticks": ""
           },
           "baxis": {
            "gridcolor": "white",
            "linecolor": "white",
            "ticks": ""
           },
           "bgcolor": "#E5ECF6",
           "caxis": {
            "gridcolor": "white",
            "linecolor": "white",
            "ticks": ""
           }
          },
          "title": {
           "x": 0.05
          },
          "xaxis": {
           "automargin": true,
           "gridcolor": "white",
           "linecolor": "white",
           "ticks": "",
           "title": {
            "standoff": 15
           },
           "zerolinecolor": "white",
           "zerolinewidth": 2
          },
          "yaxis": {
           "automargin": true,
           "gridcolor": "white",
           "linecolor": "white",
           "ticks": "",
           "title": {
            "standoff": 15
           },
           "zerolinecolor": "white",
           "zerolinewidth": 2
          }
         }
        },
        "title": {
         "text": "China Population Growth Rate (1960-2023)"
        },
        "xaxis": {
         "tickangle": 90,
         "tickfont": {
          "size": 12
         },
         "tickmode": "linear",
         "title": {
          "text": "Year"
         }
        },
        "yaxis": {
         "title": {
          "text": "Growth Rate (%)"
         }
        }
       }
      },
      "text/html": [
       "<div>            <script src=\"https://cdnjs.cloudflare.com/ajax/libs/mathjax/2.7.5/MathJax.js?config=TeX-AMS-MML_SVG\"></script><script type=\"text/javascript\">if (window.MathJax && window.MathJax.Hub && window.MathJax.Hub.Config) {window.MathJax.Hub.Config({SVG: {font: \"STIX-Web\"}});}</script>                <script type=\"text/javascript\">window.PlotlyConfig = {MathJaxConfig: 'local'};</script>\n",
       "        <script charset=\"utf-8\" src=\"https://cdn.plot.ly/plotly-3.0.0.min.js\"></script>                <div id=\"020702d1-c4b1-4135-9520-34a7cd09b020\" class=\"plotly-graph-div\" style=\"height:525px; width:100%;\"></div>            <script type=\"text/javascript\">                window.PLOTLYENV=window.PLOTLYENV || {};                                if (document.getElementById(\"020702d1-c4b1-4135-9520-34a7cd09b020\")) {                    Plotly.newPlot(                        \"020702d1-c4b1-4135-9520-34a7cd09b020\",                        [{\"mode\":\"lines+markers\",\"name\":\"Population Growth Rate\",\"x\":{\"dtype\":\"i2\",\"bdata\":\"5wfmB+UH5AfjB+IH4QfgB98H3gfdB9wH2wfaB9kH2AfXB9YH1QfUB9MH0gfRB9AHzwfOB80HzAfLB8oHyQfIB8cHxgfFB8QHwwfCB8EHwAe\\u002fB74HvQe8B7sHuge5B7gHtwe2B7UHtAezB7IHsQewB68HrgetB6wHqweqB6kHqAc=\"},\"y\":{\"dtype\":\"f8\",\"bdata\":\"Fb6tRkeSur+y0TlP6dOKv2PyRXA72bY\\u002fTdZfjB94zj+6m3UiE7TWP2XTt8NW7t0\\u002f7D5fyipe4z\\u002fHZJDablbiPyh9vutJm+I\\u002fB2ycP6Ir5D+vs\\u002f1GeFDlP2RjJIkBteU\\u002fxytVo5R84T\\u002fVOwrBz+jePyIgnMwY1d8\\u002fnfpIR3ll4D+O0jh9c7bgP+BV2esz3uE\\u002fpHGDf+vR4j8IsR1kfwHjPzXK1A567uM\\u002fG3D77qJw5T\\u002fJ2X6bgj7nP5j1rL7wNuk\\u002fCEUD+w216z8SQL0No7TuPyxj8CENYPA\\u002f8rdLCTDF8D\\u002fDBF5rV2LxPwIOMSyMFfI\\u002fy34kWNdk8j9RRkzgy5vzP3ZKOsG41PU\\u002fQq2A7hJ69z9CXABD3Yf4P20LG+bZwvk\\u002fH22nzl2o+T\\u002fezszRYsz3PyNEvgOFyfU\\u002fawoz0Dv+9D8B4EaSgx73P6ToyGgTkPc\\u002f1Iin4sd+9D9WlQAYShH0P+AzedbEV\\u002fU\\u002fsiM04jFp9T9eIf3Z8c31P4zTVXblwfg\\u002fRgdgByRD\\u002fD8p+wpsE4cAQFeA4MlkRAJAgTL3v6qoA0CP4hPcrvkFQOmfAFzpFwZAHnhXOYbrBUDNW47qIOMEQCx35enJkARAI+6BonRMBkBkeEC4Cg0DQH6+7j3CkAJA9ZDICkOpA0CzSrb+K0HqP8MHqxCaP\\u002fC\\u002fAAAAAAAA+H8=\"},\"type\":\"scatter\"}],                        {\"template\":{\"data\":{\"histogram2dcontour\":[{\"type\":\"histogram2dcontour\",\"colorbar\":{\"outlinewidth\":0,\"ticks\":\"\"},\"colorscale\":[[0.0,\"#0d0887\"],[0.1111111111111111,\"#46039f\"],[0.2222222222222222,\"#7201a8\"],[0.3333333333333333,\"#9c179e\"],[0.4444444444444444,\"#bd3786\"],[0.5555555555555556,\"#d8576b\"],[0.6666666666666666,\"#ed7953\"],[0.7777777777777778,\"#fb9f3a\"],[0.8888888888888888,\"#fdca26\"],[1.0,\"#f0f921\"]]}],\"choropleth\":[{\"type\":\"choropleth\",\"colorbar\":{\"outlinewidth\":0,\"ticks\":\"\"}}],\"histogram2d\":[{\"type\":\"histogram2d\",\"colorbar\":{\"outlinewidth\":0,\"ticks\":\"\"},\"colorscale\":[[0.0,\"#0d0887\"],[0.1111111111111111,\"#46039f\"],[0.2222222222222222,\"#7201a8\"],[0.3333333333333333,\"#9c179e\"],[0.4444444444444444,\"#bd3786\"],[0.5555555555555556,\"#d8576b\"],[0.6666666666666666,\"#ed7953\"],[0.7777777777777778,\"#fb9f3a\"],[0.8888888888888888,\"#fdca26\"],[1.0,\"#f0f921\"]]}],\"heatmap\":[{\"type\":\"heatmap\",\"colorbar\":{\"outlinewidth\":0,\"ticks\":\"\"},\"colorscale\":[[0.0,\"#0d0887\"],[0.1111111111111111,\"#46039f\"],[0.2222222222222222,\"#7201a8\"],[0.3333333333333333,\"#9c179e\"],[0.4444444444444444,\"#bd3786\"],[0.5555555555555556,\"#d8576b\"],[0.6666666666666666,\"#ed7953\"],[0.7777777777777778,\"#fb9f3a\"],[0.8888888888888888,\"#fdca26\"],[1.0,\"#f0f921\"]]}],\"contourcarpet\":[{\"type\":\"contourcarpet\",\"colorbar\":{\"outlinewidth\":0,\"ticks\":\"\"}}],\"contour\":[{\"type\":\"contour\",\"colorbar\":{\"outlinewidth\":0,\"ticks\":\"\"},\"colorscale\":[[0.0,\"#0d0887\"],[0.1111111111111111,\"#46039f\"],[0.2222222222222222,\"#7201a8\"],[0.3333333333333333,\"#9c179e\"],[0.4444444444444444,\"#bd3786\"],[0.5555555555555556,\"#d8576b\"],[0.6666666666666666,\"#ed7953\"],[0.7777777777777778,\"#fb9f3a\"],[0.8888888888888888,\"#fdca26\"],[1.0,\"#f0f921\"]]}],\"surface\":[{\"type\":\"surface\",\"colorbar\":{\"outlinewidth\":0,\"ticks\":\"\"},\"colorscale\":[[0.0,\"#0d0887\"],[0.1111111111111111,\"#46039f\"],[0.2222222222222222,\"#7201a8\"],[0.3333333333333333,\"#9c179e\"],[0.4444444444444444,\"#bd3786\"],[0.5555555555555556,\"#d8576b\"],[0.6666666666666666,\"#ed7953\"],[0.7777777777777778,\"#fb9f3a\"],[0.8888888888888888,\"#fdca26\"],[1.0,\"#f0f921\"]]}],\"mesh3d\":[{\"type\":\"mesh3d\",\"colorbar\":{\"outlinewidth\":0,\"ticks\":\"\"}}],\"scatter\":[{\"fillpattern\":{\"fillmode\":\"overlay\",\"size\":10,\"solidity\":0.2},\"type\":\"scatter\"}],\"parcoords\":[{\"type\":\"parcoords\",\"line\":{\"colorbar\":{\"outlinewidth\":0,\"ticks\":\"\"}}}],\"scatterpolargl\":[{\"type\":\"scatterpolargl\",\"marker\":{\"colorbar\":{\"outlinewidth\":0,\"ticks\":\"\"}}}],\"bar\":[{\"error_x\":{\"color\":\"#2a3f5f\"},\"error_y\":{\"color\":\"#2a3f5f\"},\"marker\":{\"line\":{\"color\":\"#E5ECF6\",\"width\":0.5},\"pattern\":{\"fillmode\":\"overlay\",\"size\":10,\"solidity\":0.2}},\"type\":\"bar\"}],\"scattergeo\":[{\"type\":\"scattergeo\",\"marker\":{\"colorbar\":{\"outlinewidth\":0,\"ticks\":\"\"}}}],\"scatterpolar\":[{\"type\":\"scatterpolar\",\"marker\":{\"colorbar\":{\"outlinewidth\":0,\"ticks\":\"\"}}}],\"histogram\":[{\"marker\":{\"pattern\":{\"fillmode\":\"overlay\",\"size\":10,\"solidity\":0.2}},\"type\":\"histogram\"}],\"scattergl\":[{\"type\":\"scattergl\",\"marker\":{\"colorbar\":{\"outlinewidth\":0,\"ticks\":\"\"}}}],\"scatter3d\":[{\"type\":\"scatter3d\",\"line\":{\"colorbar\":{\"outlinewidth\":0,\"ticks\":\"\"}},\"marker\":{\"colorbar\":{\"outlinewidth\":0,\"ticks\":\"\"}}}],\"scattermap\":[{\"type\":\"scattermap\",\"marker\":{\"colorbar\":{\"outlinewidth\":0,\"ticks\":\"\"}}}],\"scattermapbox\":[{\"type\":\"scattermapbox\",\"marker\":{\"colorbar\":{\"outlinewidth\":0,\"ticks\":\"\"}}}],\"scatterternary\":[{\"type\":\"scatterternary\",\"marker\":{\"colorbar\":{\"outlinewidth\":0,\"ticks\":\"\"}}}],\"scattercarpet\":[{\"type\":\"scattercarpet\",\"marker\":{\"colorbar\":{\"outlinewidth\":0,\"ticks\":\"\"}}}],\"carpet\":[{\"aaxis\":{\"endlinecolor\":\"#2a3f5f\",\"gridcolor\":\"white\",\"linecolor\":\"white\",\"minorgridcolor\":\"white\",\"startlinecolor\":\"#2a3f5f\"},\"baxis\":{\"endlinecolor\":\"#2a3f5f\",\"gridcolor\":\"white\",\"linecolor\":\"white\",\"minorgridcolor\":\"white\",\"startlinecolor\":\"#2a3f5f\"},\"type\":\"carpet\"}],\"table\":[{\"cells\":{\"fill\":{\"color\":\"#EBF0F8\"},\"line\":{\"color\":\"white\"}},\"header\":{\"fill\":{\"color\":\"#C8D4E3\"},\"line\":{\"color\":\"white\"}},\"type\":\"table\"}],\"barpolar\":[{\"marker\":{\"line\":{\"color\":\"#E5ECF6\",\"width\":0.5},\"pattern\":{\"fillmode\":\"overlay\",\"size\":10,\"solidity\":0.2}},\"type\":\"barpolar\"}],\"pie\":[{\"automargin\":true,\"type\":\"pie\"}]},\"layout\":{\"autotypenumbers\":\"strict\",\"colorway\":[\"#636efa\",\"#EF553B\",\"#00cc96\",\"#ab63fa\",\"#FFA15A\",\"#19d3f3\",\"#FF6692\",\"#B6E880\",\"#FF97FF\",\"#FECB52\"],\"font\":{\"color\":\"#2a3f5f\"},\"hovermode\":\"closest\",\"hoverlabel\":{\"align\":\"left\"},\"paper_bgcolor\":\"white\",\"plot_bgcolor\":\"#E5ECF6\",\"polar\":{\"bgcolor\":\"#E5ECF6\",\"angularaxis\":{\"gridcolor\":\"white\",\"linecolor\":\"white\",\"ticks\":\"\"},\"radialaxis\":{\"gridcolor\":\"white\",\"linecolor\":\"white\",\"ticks\":\"\"}},\"ternary\":{\"bgcolor\":\"#E5ECF6\",\"aaxis\":{\"gridcolor\":\"white\",\"linecolor\":\"white\",\"ticks\":\"\"},\"baxis\":{\"gridcolor\":\"white\",\"linecolor\":\"white\",\"ticks\":\"\"},\"caxis\":{\"gridcolor\":\"white\",\"linecolor\":\"white\",\"ticks\":\"\"}},\"coloraxis\":{\"colorbar\":{\"outlinewidth\":0,\"ticks\":\"\"}},\"colorscale\":{\"sequential\":[[0.0,\"#0d0887\"],[0.1111111111111111,\"#46039f\"],[0.2222222222222222,\"#7201a8\"],[0.3333333333333333,\"#9c179e\"],[0.4444444444444444,\"#bd3786\"],[0.5555555555555556,\"#d8576b\"],[0.6666666666666666,\"#ed7953\"],[0.7777777777777778,\"#fb9f3a\"],[0.8888888888888888,\"#fdca26\"],[1.0,\"#f0f921\"]],\"sequentialminus\":[[0.0,\"#0d0887\"],[0.1111111111111111,\"#46039f\"],[0.2222222222222222,\"#7201a8\"],[0.3333333333333333,\"#9c179e\"],[0.4444444444444444,\"#bd3786\"],[0.5555555555555556,\"#d8576b\"],[0.6666666666666666,\"#ed7953\"],[0.7777777777777778,\"#fb9f3a\"],[0.8888888888888888,\"#fdca26\"],[1.0,\"#f0f921\"]],\"diverging\":[[0,\"#8e0152\"],[0.1,\"#c51b7d\"],[0.2,\"#de77ae\"],[0.3,\"#f1b6da\"],[0.4,\"#fde0ef\"],[0.5,\"#f7f7f7\"],[0.6,\"#e6f5d0\"],[0.7,\"#b8e186\"],[0.8,\"#7fbc41\"],[0.9,\"#4d9221\"],[1,\"#276419\"]]},\"xaxis\":{\"gridcolor\":\"white\",\"linecolor\":\"white\",\"ticks\":\"\",\"title\":{\"standoff\":15},\"zerolinecolor\":\"white\",\"automargin\":true,\"zerolinewidth\":2},\"yaxis\":{\"gridcolor\":\"white\",\"linecolor\":\"white\",\"ticks\":\"\",\"title\":{\"standoff\":15},\"zerolinecolor\":\"white\",\"automargin\":true,\"zerolinewidth\":2},\"scene\":{\"xaxis\":{\"backgroundcolor\":\"#E5ECF6\",\"gridcolor\":\"white\",\"linecolor\":\"white\",\"showbackground\":true,\"ticks\":\"\",\"zerolinecolor\":\"white\",\"gridwidth\":2},\"yaxis\":{\"backgroundcolor\":\"#E5ECF6\",\"gridcolor\":\"white\",\"linecolor\":\"white\",\"showbackground\":true,\"ticks\":\"\",\"zerolinecolor\":\"white\",\"gridwidth\":2},\"zaxis\":{\"backgroundcolor\":\"#E5ECF6\",\"gridcolor\":\"white\",\"linecolor\":\"white\",\"showbackground\":true,\"ticks\":\"\",\"zerolinecolor\":\"white\",\"gridwidth\":2}},\"shapedefaults\":{\"line\":{\"color\":\"#2a3f5f\"}},\"annotationdefaults\":{\"arrowcolor\":\"#2a3f5f\",\"arrowhead\":0,\"arrowwidth\":1},\"geo\":{\"bgcolor\":\"white\",\"landcolor\":\"#E5ECF6\",\"subunitcolor\":\"white\",\"showland\":true,\"showlakes\":true,\"lakecolor\":\"white\"},\"title\":{\"x\":0.05},\"mapbox\":{\"style\":\"light\"}}},\"xaxis\":{\"tickfont\":{\"size\":12},\"title\":{\"text\":\"Year\"},\"tickmode\":\"linear\",\"tickangle\":90},\"title\":{\"text\":\"China Population Growth Rate (1960-2023)\"},\"yaxis\":{\"title\":{\"text\":\"Growth Rate (%)\"}},\"showlegend\":true},                        {\"responsive\": true}                    ).then(function(){\n",
       "                            \n",
       "var gd = document.getElementById('020702d1-c4b1-4135-9520-34a7cd09b020');\n",
       "var x = new MutationObserver(function (mutations, observer) {{\n",
       "        var display = window.getComputedStyle(gd).display;\n",
       "        if (!display || display === 'none') {{\n",
       "            console.log([gd, 'removed!']);\n",
       "            Plotly.purge(gd);\n",
       "            observer.disconnect();\n",
       "        }}\n",
       "}});\n",
       "\n",
       "// Listen for the removal of the full notebook cells\n",
       "var notebookContainer = gd.closest('#notebook-container');\n",
       "if (notebookContainer) {{\n",
       "    x.observe(notebookContainer, {childList: true});\n",
       "}}\n",
       "\n",
       "// Listen for the clearing of the current output cell\n",
       "var outputEl = gd.closest('.output');\n",
       "if (outputEl) {{\n",
       "    x.observe(outputEl, {childList: true});\n",
       "}}\n",
       "\n",
       "                        })                };            </script>        </div>"
      ]
     },
     "metadata": {},
     "output_type": "display_data"
    }
   ],
   "source": [
    "#China Population Growth Rate (1960 -2021)\n",
    "population_growth_indicator = {'SP.POP.GROW': 'Population Growth Rate'}\n",
    "\n",
    "country = 'CHN'  # China\n",
    "start_year = 1960\n",
    "end_year = 2023\n",
    "\n",
    "population_growth_data = wbdata.get_dataframe(population_growth_indicator, country=country)\n",
    "population_growth_data.reset_index(inplace=True)\n",
    "population_growth_data['date'] = population_growth_data['date'].astype(int)\n",
    "\n",
    "fig = go.Figure()\n",
    "fig.add_trace(go.Scatter(x=population_growth_data['date'], y=population_growth_data['Population Growth Rate'], mode='lines+markers', name='Population Growth Rate'))\n",
    "fig.update_layout(\n",
    "    title='China Population Growth Rate (1960-2023)',\n",
    "    xaxis_title='Year',\n",
    "    yaxis_title='Growth Rate (%)',\n",
    "    showlegend=True,\n",
    "    xaxis=dict(tickmode='linear', tickangle=90, tickfont=dict(size=12))\n",
    ")\n",
    "\n",
    "fig.show()"
   ]
  },
  {
   "cell_type": "code",
   "execution_count": null,
   "id": "cd21a83a-2297-4ca8-a75b-e3c3b8a67f3c",
   "metadata": {},
   "outputs": [],
   "source": []
  }
 ],
 "metadata": {
  "kernelspec": {
   "display_name": "Python 3 (ipykernel)",
   "language": "python",
   "name": "python3"
  },
  "language_info": {
   "codemirror_mode": {
    "name": "ipython",
    "version": 3
   },
   "file_extension": ".py",
   "mimetype": "text/x-python",
   "name": "python",
   "nbconvert_exporter": "python",
   "pygments_lexer": "ipython3",
   "version": "3.11.11"
  }
 },
 "nbformat": 4,
 "nbformat_minor": 5
}
